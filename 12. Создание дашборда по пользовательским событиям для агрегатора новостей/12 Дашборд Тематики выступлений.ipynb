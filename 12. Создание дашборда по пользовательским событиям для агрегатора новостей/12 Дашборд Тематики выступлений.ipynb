{
 "cells": [
  {
   "cell_type": "markdown",
   "id": "f115270c",
   "metadata": {},
   "source": [
    "https://public.tableau.com/app/profile/ruslan.naumchenko/viz/Projecttableau_16977355941570/Dashboard2?publish=yes"
   ]
  }
 ],
 "metadata": {
  "ExecuteTimeLog": [
   {
    "duration": 122,
    "start_time": "2023-10-20T16:00:32.893Z"
   },
   {
    "duration": 99,
    "start_time": "2023-10-21T03:01:20.761Z"
   },
   {
    "duration": 117,
    "start_time": "2023-10-21T03:01:25.279Z"
   },
   {
    "duration": 82,
    "start_time": "2023-10-21T03:04:17.809Z"
   },
   {
    "duration": 108,
    "start_time": "2023-10-21T03:04:37.890Z"
   },
   {
    "duration": 100,
    "start_time": "2023-10-21T03:05:14.497Z"
   },
   {
    "duration": 101,
    "start_time": "2023-10-21T16:21:25.396Z"
   }
  ],
  "kernelspec": {
   "display_name": "Python 3 (ipykernel)",
   "language": "python",
   "name": "python3"
  },
  "language_info": {
   "codemirror_mode": {
    "name": "ipython",
    "version": 3
   },
   "file_extension": ".py",
   "mimetype": "text/x-python",
   "name": "python",
   "nbconvert_exporter": "python",
   "pygments_lexer": "ipython3",
   "version": "3.9.5"
  },
  "toc": {
   "base_numbering": 1,
   "nav_menu": {},
   "number_sections": true,
   "sideBar": true,
   "skip_h1_title": true,
   "title_cell": "Table of Contents",
   "title_sidebar": "Contents",
   "toc_cell": false,
   "toc_position": {},
   "toc_section_display": true,
   "toc_window_display": false
  }
 },
 "nbformat": 4,
 "nbformat_minor": 5
}
