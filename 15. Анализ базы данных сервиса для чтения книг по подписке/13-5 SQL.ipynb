{
 "cells": [
  {
   "cell_type": "markdown",
   "metadata": {
    "toc": true
   },
   "source": [
    "<h1>Содержание<span class=\"tocSkip\"></span></h1>\n",
    "<div class=\"toc\"><ul class=\"toc-item\"><li><span><a href=\"#Загрузка-данных\" data-toc-modified-id=\"Загрузка-данных-1\"><span class=\"toc-item-num\">1&nbsp;&nbsp;</span>Загрузка данных</a></span></li><li><span><a href=\"#Цели-исследования\" data-toc-modified-id=\"Цели-исследования-2\"><span class=\"toc-item-num\">2&nbsp;&nbsp;</span>Цели исследования</a></span></li><li><span><a href=\"#Описание-данных\" data-toc-modified-id=\"Описание-данных-3\"><span class=\"toc-item-num\">3&nbsp;&nbsp;</span>Описание данных</a></span></li><li><span><a href=\"#Исследуйте-таблицы-—-выведите-первые-строки,-посчитайте-количество-строк-в-каждой-таблице\" data-toc-modified-id=\"Исследуйте-таблицы-—-выведите-первые-строки,-посчитайте-количество-строк-в-каждой-таблице-4\"><span class=\"toc-item-num\">4&nbsp;&nbsp;</span>Исследуйте таблицы — выведите первые строки, посчитайте количество строк в каждой таблице</a></span><ul class=\"toc-item\"><li><span><a href=\"#books\" data-toc-modified-id=\"books-4.1\"><span class=\"toc-item-num\">4.1&nbsp;&nbsp;</span>books</a></span></li><li><span><a href=\"#authors\" data-toc-modified-id=\"authors-4.2\"><span class=\"toc-item-num\">4.2&nbsp;&nbsp;</span>authors</a></span></li><li><span><a href=\"#publishers\" data-toc-modified-id=\"publishers-4.3\"><span class=\"toc-item-num\">4.3&nbsp;&nbsp;</span>publishers</a></span></li><li><span><a href=\"#ratings\" data-toc-modified-id=\"ratings-4.4\"><span class=\"toc-item-num\">4.4&nbsp;&nbsp;</span>ratings</a></span></li><li><span><a href=\"#reviews\" data-toc-modified-id=\"reviews-4.5\"><span class=\"toc-item-num\">4.5&nbsp;&nbsp;</span>reviews</a></span></li></ul></li><li><span><a href=\"#Задания\" data-toc-modified-id=\"Задания-5\"><span class=\"toc-item-num\">5&nbsp;&nbsp;</span>Задания</a></span><ul class=\"toc-item\"><li><span><a href=\"#Посчитайте,-сколько-книг-вышло-после-1-января-2000-года;\" data-toc-modified-id=\"Посчитайте,-сколько-книг-вышло-после-1-января-2000-года;-5.1\"><span class=\"toc-item-num\">5.1&nbsp;&nbsp;</span>Посчитайте, сколько книг вышло после 1 января 2000 года;</a></span></li><li><span><a href=\"#Для-каждой-книги-посчитайте-количество-обзоров-и-среднюю-оценку;\" data-toc-modified-id=\"Для-каждой-книги-посчитайте-количество-обзоров-и-среднюю-оценку;-5.2\"><span class=\"toc-item-num\">5.2&nbsp;&nbsp;</span>Для каждой книги посчитайте количество обзоров и среднюю оценку;</a></span></li><li><span><a href=\"#Определите-издательство,-которое-выпустило-наибольшее-число-книг-толще-50-страниц-—-так-вы-исключите-из-анализа-брошюры;\" data-toc-modified-id=\"Определите-издательство,-которое-выпустило-наибольшее-число-книг-толще-50-страниц-—-так-вы-исключите-из-анализа-брошюры;-5.3\"><span class=\"toc-item-num\">5.3&nbsp;&nbsp;</span>Определите издательство, которое выпустило наибольшее число книг толще 50 страниц — так вы исключите из анализа брошюры;</a></span></li><li><span><a href=\"#Определите-автора-с-самой-высокой-средней-оценкой-книг-—-учитывайте-только-книги-с-50-и-более-оценками;\" data-toc-modified-id=\"Определите-автора-с-самой-высокой-средней-оценкой-книг-—-учитывайте-только-книги-с-50-и-более-оценками;-5.4\"><span class=\"toc-item-num\">5.4&nbsp;&nbsp;</span>Определите автора с самой высокой средней оценкой книг — учитывайте только книги с 50 и более оценками;</a></span></li><li><span><a href=\"#Посчитайте-среднее-количество-обзоров-от-пользователей,-которые-поставили-больше-48-оценок.\" data-toc-modified-id=\"Посчитайте-среднее-количество-обзоров-от-пользователей,-которые-поставили-больше-48-оценок.-5.5\"><span class=\"toc-item-num\">5.5&nbsp;&nbsp;</span>Посчитайте среднее количество обзоров от пользователей, которые поставили больше 48 оценок.</a></span></li></ul></li></ul></div>"
   ]
  },
  {
   "cell_type": "markdown",
   "metadata": {},
   "source": [
    "## Загрузка данных"
   ]
  },
  {
   "cell_type": "code",
   "execution_count": 1,
   "metadata": {},
   "outputs": [],
   "source": [
    "# импортируем библиотеки\n",
    "import pandas as pd\n",
    "import sqlalchemy as sa"
   ]
  },
  {
   "cell_type": "code",
   "execution_count": 2,
   "metadata": {},
   "outputs": [],
   "source": [
    "# устанавливаем параметры\n",
    "db_config = {\n",
    "'user': 'praktikum_student', # имя пользователя\n",
    "'pwd': 'Sdf4$2;d-d30pp', # пароль\n",
    "'host': 'rc1b-wcoijxj3yxfsf3fs.mdb.yandexcloud.net',\n",
    "'port': 6432, # порт подключения\n",
    "'db': 'data-analyst-final-project-db' # название базы данных\n",
    "}\n",
    "connection_string = 'postgresql://{user}:{pwd}@{host}:{port}/{db}'.format(**db_config)"
   ]
  },
  {
   "cell_type": "code",
   "execution_count": 3,
   "metadata": {},
   "outputs": [],
   "source": [
    "# сохраняем коннектор\n",
    "engine = sa.create_engine(connection_string, connect_args={'sslmode':'require'})"
   ]
  },
  {
   "cell_type": "code",
   "execution_count": 4,
   "metadata": {},
   "outputs": [],
   "source": [
    "# чтобы выполнить SQL-запрос, пишем функцию с использованием Pandas\n",
    "def get_sql_data(query:str, engine:sa.engine.base.Engine=engine) -> pd.DataFrame:\n",
    "    with engine.connect() as con:\n",
    "        return pd.read_sql(sql=sa.text(query), con = con)"
   ]
  },
  {
   "cell_type": "code",
   "execution_count": 5,
   "metadata": {},
   "outputs": [
    {
     "data": {
      "text/html": [
       "<div>\n",
       "<style scoped>\n",
       "    .dataframe tbody tr th:only-of-type {\n",
       "        vertical-align: middle;\n",
       "    }\n",
       "\n",
       "    .dataframe tbody tr th {\n",
       "        vertical-align: top;\n",
       "    }\n",
       "\n",
       "    .dataframe thead th {\n",
       "        text-align: right;\n",
       "    }\n",
       "</style>\n",
       "<table border=\"1\" class=\"dataframe\">\n",
       "  <thead>\n",
       "    <tr style=\"text-align: right;\">\n",
       "      <th></th>\n",
       "      <th>book_id</th>\n",
       "      <th>author_id</th>\n",
       "      <th>title</th>\n",
       "      <th>num_pages</th>\n",
       "      <th>publication_date</th>\n",
       "      <th>publisher_id</th>\n",
       "    </tr>\n",
       "  </thead>\n",
       "  <tbody>\n",
       "    <tr>\n",
       "      <th>0</th>\n",
       "      <td>1</td>\n",
       "      <td>546</td>\n",
       "      <td>'Salem's Lot</td>\n",
       "      <td>594</td>\n",
       "      <td>2005-11-01</td>\n",
       "      <td>93</td>\n",
       "    </tr>\n",
       "    <tr>\n",
       "      <th>1</th>\n",
       "      <td>2</td>\n",
       "      <td>465</td>\n",
       "      <td>1 000 Places to See Before You Die</td>\n",
       "      <td>992</td>\n",
       "      <td>2003-05-22</td>\n",
       "      <td>336</td>\n",
       "    </tr>\n",
       "    <tr>\n",
       "      <th>2</th>\n",
       "      <td>3</td>\n",
       "      <td>407</td>\n",
       "      <td>13 Little Blue Envelopes (Little Blue Envelope...</td>\n",
       "      <td>322</td>\n",
       "      <td>2010-12-21</td>\n",
       "      <td>135</td>\n",
       "    </tr>\n",
       "    <tr>\n",
       "      <th>3</th>\n",
       "      <td>4</td>\n",
       "      <td>82</td>\n",
       "      <td>1491: New Revelations of the Americas Before C...</td>\n",
       "      <td>541</td>\n",
       "      <td>2006-10-10</td>\n",
       "      <td>309</td>\n",
       "    </tr>\n",
       "    <tr>\n",
       "      <th>4</th>\n",
       "      <td>5</td>\n",
       "      <td>125</td>\n",
       "      <td>1776</td>\n",
       "      <td>386</td>\n",
       "      <td>2006-07-04</td>\n",
       "      <td>268</td>\n",
       "    </tr>\n",
       "  </tbody>\n",
       "</table>\n",
       "</div>"
      ],
      "text/plain": [
       "   book_id  author_id                                              title  \\\n",
       "0        1        546                                       'Salem's Lot   \n",
       "1        2        465                 1 000 Places to See Before You Die   \n",
       "2        3        407  13 Little Blue Envelopes (Little Blue Envelope...   \n",
       "3        4         82  1491: New Revelations of the Americas Before C...   \n",
       "4        5        125                                               1776   \n",
       "\n",
       "   num_pages publication_date  publisher_id  \n",
       "0        594       2005-11-01            93  \n",
       "1        992       2003-05-22           336  \n",
       "2        322       2010-12-21           135  \n",
       "3        541       2006-10-10           309  \n",
       "4        386       2006-07-04           268  "
      ]
     },
     "execution_count": 5,
     "metadata": {},
     "output_type": "execute_result"
    }
   ],
   "source": [
    "# формируем запрос и выводим данные\n",
    "query = '''SELECT * FROM books LIMIT 5'''\n",
    "get_sql_data(query)"
   ]
  },
  {
   "cell_type": "markdown",
   "metadata": {},
   "source": [
    "## Цели исследования"
   ]
  },
  {
   "cell_type": "markdown",
   "metadata": {},
   "source": [
    "Коронавирус застал мир врасплох, изменив привычный порядок вещей. В свободное время жители городов больше не выходят на улицу, не посещают кафе и торговые центры. Зато стало больше времени для книг. Это заметили стартаперы — и бросились создавать приложения для тех, кто любит читать.  \n",
    "Ваша компания решила быть на волне и купила крупный сервис для чтения книг по подписке. Ваша первая задача как аналитика — проанализировать базу данных.  \n",
    "В ней — информация о книгах, издательствах, авторах, а также пользовательские обзоры книг. Эти данные помогут сформулировать ценностное предложение для нового продукта.  "
   ]
  },
  {
   "cell_type": "markdown",
   "metadata": {},
   "source": [
    "## Описание данных"
   ]
  },
  {
   "cell_type": "markdown",
   "metadata": {},
   "source": [
    "**Таблица books**  \n",
    "Содержит данные о книгах:  \n",
    "book_id — идентификатор книги;  \n",
    "author_id — идентификатор автора;  \n",
    "title — название книги;  \n",
    "num_pages — количество страниц;  \n",
    "publication_date — дата публикации книги;  \n",
    "publisher_id — идентификатор издателя.  \n",
    "**Таблица authors**  \n",
    "Содержит данные об авторах:  \n",
    "author_id — идентификатор автора;  \n",
    "author — имя автора.  \n",
    "**Таблица publishers**  \n",
    "Содержит данные об издательствах:  \n",
    "publisher_id — идентификатор издательства;  \n",
    "publisher — название издательства;  \n",
    "**Таблица ratings**  \n",
    "Содержит данные о пользовательских оценках книг:  \n",
    "rating_id — идентификатор оценки;  \n",
    "book_id — идентификатор книги;  \n",
    "username — имя пользователя, оставившего оценку;  \n",
    "rating — оценка книги.  \n",
    "**Таблица reviews**  \n",
    "Содержит данные о пользовательских обзорах:  \n",
    "review_id — идентификатор обзора;  \n",
    "book_id — идентификатор книги;  \n",
    "username — имя автора обзора;  \n",
    "text — текст обзора.  "
   ]
  },
  {
   "cell_type": "markdown",
   "metadata": {},
   "source": [
    "## Исследуйте таблицы — выведите первые строки, посчитайте количество строк в каждой таблице"
   ]
  },
  {
   "cell_type": "markdown",
   "metadata": {},
   "source": [
    "### books"
   ]
  },
  {
   "cell_type": "code",
   "execution_count": 6,
   "metadata": {},
   "outputs": [
    {
     "data": {
      "text/html": [
       "<div>\n",
       "<style scoped>\n",
       "    .dataframe tbody tr th:only-of-type {\n",
       "        vertical-align: middle;\n",
       "    }\n",
       "\n",
       "    .dataframe tbody tr th {\n",
       "        vertical-align: top;\n",
       "    }\n",
       "\n",
       "    .dataframe thead th {\n",
       "        text-align: right;\n",
       "    }\n",
       "</style>\n",
       "<table border=\"1\" class=\"dataframe\">\n",
       "  <thead>\n",
       "    <tr style=\"text-align: right;\">\n",
       "      <th></th>\n",
       "      <th>book_id</th>\n",
       "      <th>author_id</th>\n",
       "      <th>title</th>\n",
       "      <th>num_pages</th>\n",
       "      <th>publication_date</th>\n",
       "      <th>publisher_id</th>\n",
       "    </tr>\n",
       "  </thead>\n",
       "  <tbody>\n",
       "    <tr>\n",
       "      <th>0</th>\n",
       "      <td>1</td>\n",
       "      <td>546</td>\n",
       "      <td>'Salem's Lot</td>\n",
       "      <td>594</td>\n",
       "      <td>2005-11-01</td>\n",
       "      <td>93</td>\n",
       "    </tr>\n",
       "    <tr>\n",
       "      <th>1</th>\n",
       "      <td>2</td>\n",
       "      <td>465</td>\n",
       "      <td>1 000 Places to See Before You Die</td>\n",
       "      <td>992</td>\n",
       "      <td>2003-05-22</td>\n",
       "      <td>336</td>\n",
       "    </tr>\n",
       "    <tr>\n",
       "      <th>2</th>\n",
       "      <td>3</td>\n",
       "      <td>407</td>\n",
       "      <td>13 Little Blue Envelopes (Little Blue Envelope...</td>\n",
       "      <td>322</td>\n",
       "      <td>2010-12-21</td>\n",
       "      <td>135</td>\n",
       "    </tr>\n",
       "  </tbody>\n",
       "</table>\n",
       "</div>"
      ],
      "text/plain": [
       "   book_id  author_id                                              title  \\\n",
       "0        1        546                                       'Salem's Lot   \n",
       "1        2        465                 1 000 Places to See Before You Die   \n",
       "2        3        407  13 Little Blue Envelopes (Little Blue Envelope...   \n",
       "\n",
       "   num_pages publication_date  publisher_id  \n",
       "0        594       2005-11-01            93  \n",
       "1        992       2003-05-22           336  \n",
       "2        322       2010-12-21           135  "
      ]
     },
     "execution_count": 6,
     "metadata": {},
     "output_type": "execute_result"
    }
   ],
   "source": [
    "query = '''SELECT * \n",
    "           FROM books \n",
    "           LIMIT 3\n",
    "           '''\n",
    "get_sql_data(query)"
   ]
  },
  {
   "cell_type": "code",
   "execution_count": 7,
   "metadata": {},
   "outputs": [
    {
     "data": {
      "text/html": [
       "<div>\n",
       "<style scoped>\n",
       "    .dataframe tbody tr th:only-of-type {\n",
       "        vertical-align: middle;\n",
       "    }\n",
       "\n",
       "    .dataframe tbody tr th {\n",
       "        vertical-align: top;\n",
       "    }\n",
       "\n",
       "    .dataframe thead th {\n",
       "        text-align: right;\n",
       "    }\n",
       "</style>\n",
       "<table border=\"1\" class=\"dataframe\">\n",
       "  <thead>\n",
       "    <tr style=\"text-align: right;\">\n",
       "      <th></th>\n",
       "      <th>count</th>\n",
       "    </tr>\n",
       "  </thead>\n",
       "  <tbody>\n",
       "    <tr>\n",
       "      <th>0</th>\n",
       "      <td>1000</td>\n",
       "    </tr>\n",
       "  </tbody>\n",
       "</table>\n",
       "</div>"
      ],
      "text/plain": [
       "   count\n",
       "0   1000"
      ]
     },
     "execution_count": 7,
     "metadata": {},
     "output_type": "execute_result"
    }
   ],
   "source": [
    "query = '''SELECT COUNT(*)\n",
    "           FROM books \n",
    "           '''\n",
    "get_sql_data(query)"
   ]
  },
  {
   "cell_type": "markdown",
   "metadata": {},
   "source": [
    "### authors"
   ]
  },
  {
   "cell_type": "code",
   "execution_count": 8,
   "metadata": {},
   "outputs": [
    {
     "data": {
      "text/html": [
       "<div>\n",
       "<style scoped>\n",
       "    .dataframe tbody tr th:only-of-type {\n",
       "        vertical-align: middle;\n",
       "    }\n",
       "\n",
       "    .dataframe tbody tr th {\n",
       "        vertical-align: top;\n",
       "    }\n",
       "\n",
       "    .dataframe thead th {\n",
       "        text-align: right;\n",
       "    }\n",
       "</style>\n",
       "<table border=\"1\" class=\"dataframe\">\n",
       "  <thead>\n",
       "    <tr style=\"text-align: right;\">\n",
       "      <th></th>\n",
       "      <th>author_id</th>\n",
       "      <th>author</th>\n",
       "    </tr>\n",
       "  </thead>\n",
       "  <tbody>\n",
       "    <tr>\n",
       "      <th>0</th>\n",
       "      <td>1</td>\n",
       "      <td>A.S. Byatt</td>\n",
       "    </tr>\n",
       "    <tr>\n",
       "      <th>1</th>\n",
       "      <td>2</td>\n",
       "      <td>Aesop/Laura Harris/Laura Gibbs</td>\n",
       "    </tr>\n",
       "    <tr>\n",
       "      <th>2</th>\n",
       "      <td>3</td>\n",
       "      <td>Agatha Christie</td>\n",
       "    </tr>\n",
       "  </tbody>\n",
       "</table>\n",
       "</div>"
      ],
      "text/plain": [
       "   author_id                          author\n",
       "0          1                      A.S. Byatt\n",
       "1          2  Aesop/Laura Harris/Laura Gibbs\n",
       "2          3                 Agatha Christie"
      ]
     },
     "execution_count": 8,
     "metadata": {},
     "output_type": "execute_result"
    }
   ],
   "source": [
    "query = '''SELECT * \n",
    "           FROM authors\n",
    "           LIMIT 3\n",
    "           '''\n",
    "get_sql_data(query)"
   ]
  },
  {
   "cell_type": "code",
   "execution_count": 9,
   "metadata": {},
   "outputs": [
    {
     "data": {
      "text/html": [
       "<div>\n",
       "<style scoped>\n",
       "    .dataframe tbody tr th:only-of-type {\n",
       "        vertical-align: middle;\n",
       "    }\n",
       "\n",
       "    .dataframe tbody tr th {\n",
       "        vertical-align: top;\n",
       "    }\n",
       "\n",
       "    .dataframe thead th {\n",
       "        text-align: right;\n",
       "    }\n",
       "</style>\n",
       "<table border=\"1\" class=\"dataframe\">\n",
       "  <thead>\n",
       "    <tr style=\"text-align: right;\">\n",
       "      <th></th>\n",
       "      <th>count</th>\n",
       "    </tr>\n",
       "  </thead>\n",
       "  <tbody>\n",
       "    <tr>\n",
       "      <th>0</th>\n",
       "      <td>636</td>\n",
       "    </tr>\n",
       "  </tbody>\n",
       "</table>\n",
       "</div>"
      ],
      "text/plain": [
       "   count\n",
       "0    636"
      ]
     },
     "execution_count": 9,
     "metadata": {},
     "output_type": "execute_result"
    }
   ],
   "source": [
    "query = '''SELECT COUNT(*)\n",
    "           FROM authors \n",
    "           '''\n",
    "get_sql_data(query)"
   ]
  },
  {
   "cell_type": "markdown",
   "metadata": {},
   "source": [
    "### publishers"
   ]
  },
  {
   "cell_type": "code",
   "execution_count": 10,
   "metadata": {},
   "outputs": [
    {
     "data": {
      "text/html": [
       "<div>\n",
       "<style scoped>\n",
       "    .dataframe tbody tr th:only-of-type {\n",
       "        vertical-align: middle;\n",
       "    }\n",
       "\n",
       "    .dataframe tbody tr th {\n",
       "        vertical-align: top;\n",
       "    }\n",
       "\n",
       "    .dataframe thead th {\n",
       "        text-align: right;\n",
       "    }\n",
       "</style>\n",
       "<table border=\"1\" class=\"dataframe\">\n",
       "  <thead>\n",
       "    <tr style=\"text-align: right;\">\n",
       "      <th></th>\n",
       "      <th>publisher_id</th>\n",
       "      <th>publisher</th>\n",
       "    </tr>\n",
       "  </thead>\n",
       "  <tbody>\n",
       "    <tr>\n",
       "      <th>0</th>\n",
       "      <td>1</td>\n",
       "      <td>Ace</td>\n",
       "    </tr>\n",
       "    <tr>\n",
       "      <th>1</th>\n",
       "      <td>2</td>\n",
       "      <td>Ace Book</td>\n",
       "    </tr>\n",
       "    <tr>\n",
       "      <th>2</th>\n",
       "      <td>3</td>\n",
       "      <td>Ace Books</td>\n",
       "    </tr>\n",
       "  </tbody>\n",
       "</table>\n",
       "</div>"
      ],
      "text/plain": [
       "   publisher_id  publisher\n",
       "0             1        Ace\n",
       "1             2   Ace Book\n",
       "2             3  Ace Books"
      ]
     },
     "execution_count": 10,
     "metadata": {},
     "output_type": "execute_result"
    }
   ],
   "source": [
    "query = '''SELECT * \n",
    "           FROM publishers\n",
    "           LIMIT 3\n",
    "           '''\n",
    "get_sql_data(query)"
   ]
  },
  {
   "cell_type": "code",
   "execution_count": 11,
   "metadata": {},
   "outputs": [
    {
     "data": {
      "text/html": [
       "<div>\n",
       "<style scoped>\n",
       "    .dataframe tbody tr th:only-of-type {\n",
       "        vertical-align: middle;\n",
       "    }\n",
       "\n",
       "    .dataframe tbody tr th {\n",
       "        vertical-align: top;\n",
       "    }\n",
       "\n",
       "    .dataframe thead th {\n",
       "        text-align: right;\n",
       "    }\n",
       "</style>\n",
       "<table border=\"1\" class=\"dataframe\">\n",
       "  <thead>\n",
       "    <tr style=\"text-align: right;\">\n",
       "      <th></th>\n",
       "      <th>count</th>\n",
       "    </tr>\n",
       "  </thead>\n",
       "  <tbody>\n",
       "    <tr>\n",
       "      <th>0</th>\n",
       "      <td>340</td>\n",
       "    </tr>\n",
       "  </tbody>\n",
       "</table>\n",
       "</div>"
      ],
      "text/plain": [
       "   count\n",
       "0    340"
      ]
     },
     "execution_count": 11,
     "metadata": {},
     "output_type": "execute_result"
    }
   ],
   "source": [
    "query = '''SELECT COUNT(*)\n",
    "           FROM publishers \n",
    "           '''\n",
    "get_sql_data(query)"
   ]
  },
  {
   "cell_type": "markdown",
   "metadata": {},
   "source": [
    "### ratings"
   ]
  },
  {
   "cell_type": "code",
   "execution_count": 12,
   "metadata": {},
   "outputs": [
    {
     "data": {
      "text/html": [
       "<div>\n",
       "<style scoped>\n",
       "    .dataframe tbody tr th:only-of-type {\n",
       "        vertical-align: middle;\n",
       "    }\n",
       "\n",
       "    .dataframe tbody tr th {\n",
       "        vertical-align: top;\n",
       "    }\n",
       "\n",
       "    .dataframe thead th {\n",
       "        text-align: right;\n",
       "    }\n",
       "</style>\n",
       "<table border=\"1\" class=\"dataframe\">\n",
       "  <thead>\n",
       "    <tr style=\"text-align: right;\">\n",
       "      <th></th>\n",
       "      <th>rating_id</th>\n",
       "      <th>book_id</th>\n",
       "      <th>username</th>\n",
       "      <th>rating</th>\n",
       "    </tr>\n",
       "  </thead>\n",
       "  <tbody>\n",
       "    <tr>\n",
       "      <th>0</th>\n",
       "      <td>1</td>\n",
       "      <td>1</td>\n",
       "      <td>ryanfranco</td>\n",
       "      <td>4</td>\n",
       "    </tr>\n",
       "    <tr>\n",
       "      <th>1</th>\n",
       "      <td>2</td>\n",
       "      <td>1</td>\n",
       "      <td>grantpatricia</td>\n",
       "      <td>2</td>\n",
       "    </tr>\n",
       "    <tr>\n",
       "      <th>2</th>\n",
       "      <td>3</td>\n",
       "      <td>1</td>\n",
       "      <td>brandtandrea</td>\n",
       "      <td>5</td>\n",
       "    </tr>\n",
       "  </tbody>\n",
       "</table>\n",
       "</div>"
      ],
      "text/plain": [
       "   rating_id  book_id       username  rating\n",
       "0          1        1     ryanfranco       4\n",
       "1          2        1  grantpatricia       2\n",
       "2          3        1   brandtandrea       5"
      ]
     },
     "execution_count": 12,
     "metadata": {},
     "output_type": "execute_result"
    }
   ],
   "source": [
    "query = '''SELECT * \n",
    "           FROM ratings\n",
    "           LIMIT 3\n",
    "           '''\n",
    "get_sql_data(query)"
   ]
  },
  {
   "cell_type": "code",
   "execution_count": 13,
   "metadata": {},
   "outputs": [
    {
     "data": {
      "text/html": [
       "<div>\n",
       "<style scoped>\n",
       "    .dataframe tbody tr th:only-of-type {\n",
       "        vertical-align: middle;\n",
       "    }\n",
       "\n",
       "    .dataframe tbody tr th {\n",
       "        vertical-align: top;\n",
       "    }\n",
       "\n",
       "    .dataframe thead th {\n",
       "        text-align: right;\n",
       "    }\n",
       "</style>\n",
       "<table border=\"1\" class=\"dataframe\">\n",
       "  <thead>\n",
       "    <tr style=\"text-align: right;\">\n",
       "      <th></th>\n",
       "      <th>count</th>\n",
       "    </tr>\n",
       "  </thead>\n",
       "  <tbody>\n",
       "    <tr>\n",
       "      <th>0</th>\n",
       "      <td>6456</td>\n",
       "    </tr>\n",
       "  </tbody>\n",
       "</table>\n",
       "</div>"
      ],
      "text/plain": [
       "   count\n",
       "0   6456"
      ]
     },
     "execution_count": 13,
     "metadata": {},
     "output_type": "execute_result"
    }
   ],
   "source": [
    "query = '''SELECT COUNT(*)\n",
    "           FROM ratings\n",
    "           '''\n",
    "get_sql_data(query)"
   ]
  },
  {
   "cell_type": "markdown",
   "metadata": {},
   "source": [
    "### reviews"
   ]
  },
  {
   "cell_type": "code",
   "execution_count": 14,
   "metadata": {},
   "outputs": [
    {
     "data": {
      "text/html": [
       "<div>\n",
       "<style scoped>\n",
       "    .dataframe tbody tr th:only-of-type {\n",
       "        vertical-align: middle;\n",
       "    }\n",
       "\n",
       "    .dataframe tbody tr th {\n",
       "        vertical-align: top;\n",
       "    }\n",
       "\n",
       "    .dataframe thead th {\n",
       "        text-align: right;\n",
       "    }\n",
       "</style>\n",
       "<table border=\"1\" class=\"dataframe\">\n",
       "  <thead>\n",
       "    <tr style=\"text-align: right;\">\n",
       "      <th></th>\n",
       "      <th>review_id</th>\n",
       "      <th>book_id</th>\n",
       "      <th>username</th>\n",
       "      <th>text</th>\n",
       "    </tr>\n",
       "  </thead>\n",
       "  <tbody>\n",
       "    <tr>\n",
       "      <th>0</th>\n",
       "      <td>1</td>\n",
       "      <td>1</td>\n",
       "      <td>brandtandrea</td>\n",
       "      <td>Mention society tell send professor analysis. ...</td>\n",
       "    </tr>\n",
       "    <tr>\n",
       "      <th>1</th>\n",
       "      <td>2</td>\n",
       "      <td>1</td>\n",
       "      <td>ryanfranco</td>\n",
       "      <td>Foot glass pretty audience hit themselves. Amo...</td>\n",
       "    </tr>\n",
       "    <tr>\n",
       "      <th>2</th>\n",
       "      <td>3</td>\n",
       "      <td>2</td>\n",
       "      <td>lorichen</td>\n",
       "      <td>Listen treat keep worry. Miss husband tax but ...</td>\n",
       "    </tr>\n",
       "  </tbody>\n",
       "</table>\n",
       "</div>"
      ],
      "text/plain": [
       "   review_id  book_id      username  \\\n",
       "0          1        1  brandtandrea   \n",
       "1          2        1    ryanfranco   \n",
       "2          3        2      lorichen   \n",
       "\n",
       "                                                text  \n",
       "0  Mention society tell send professor analysis. ...  \n",
       "1  Foot glass pretty audience hit themselves. Amo...  \n",
       "2  Listen treat keep worry. Miss husband tax but ...  "
      ]
     },
     "execution_count": 14,
     "metadata": {},
     "output_type": "execute_result"
    }
   ],
   "source": [
    "query = '''SELECT * \n",
    "           FROM reviews\n",
    "           LIMIT 3\n",
    "           '''\n",
    "get_sql_data(query)"
   ]
  },
  {
   "cell_type": "code",
   "execution_count": 15,
   "metadata": {},
   "outputs": [
    {
     "data": {
      "text/html": [
       "<div>\n",
       "<style scoped>\n",
       "    .dataframe tbody tr th:only-of-type {\n",
       "        vertical-align: middle;\n",
       "    }\n",
       "\n",
       "    .dataframe tbody tr th {\n",
       "        vertical-align: top;\n",
       "    }\n",
       "\n",
       "    .dataframe thead th {\n",
       "        text-align: right;\n",
       "    }\n",
       "</style>\n",
       "<table border=\"1\" class=\"dataframe\">\n",
       "  <thead>\n",
       "    <tr style=\"text-align: right;\">\n",
       "      <th></th>\n",
       "      <th>count</th>\n",
       "    </tr>\n",
       "  </thead>\n",
       "  <tbody>\n",
       "    <tr>\n",
       "      <th>0</th>\n",
       "      <td>2793</td>\n",
       "    </tr>\n",
       "  </tbody>\n",
       "</table>\n",
       "</div>"
      ],
      "text/plain": [
       "   count\n",
       "0   2793"
      ]
     },
     "execution_count": 15,
     "metadata": {},
     "output_type": "execute_result"
    }
   ],
   "source": [
    "query = '''SELECT COUNT(*)\n",
    "           FROM reviews\n",
    "           '''\n",
    "get_sql_data(query)"
   ]
  },
  {
   "cell_type": "markdown",
   "metadata": {},
   "source": [
    "## Задания"
   ]
  },
  {
   "cell_type": "markdown",
   "metadata": {},
   "source": [
    "### Посчитайте, сколько книг вышло после 1 января 2000 года;"
   ]
  },
  {
   "cell_type": "code",
   "execution_count": 16,
   "metadata": {},
   "outputs": [
    {
     "data": {
      "text/html": [
       "<div>\n",
       "<style scoped>\n",
       "    .dataframe tbody tr th:only-of-type {\n",
       "        vertical-align: middle;\n",
       "    }\n",
       "\n",
       "    .dataframe tbody tr th {\n",
       "        vertical-align: top;\n",
       "    }\n",
       "\n",
       "    .dataframe thead th {\n",
       "        text-align: right;\n",
       "    }\n",
       "</style>\n",
       "<table border=\"1\" class=\"dataframe\">\n",
       "  <thead>\n",
       "    <tr style=\"text-align: right;\">\n",
       "      <th></th>\n",
       "      <th>count</th>\n",
       "    </tr>\n",
       "  </thead>\n",
       "  <tbody>\n",
       "    <tr>\n",
       "      <th>0</th>\n",
       "      <td>819</td>\n",
       "    </tr>\n",
       "  </tbody>\n",
       "</table>\n",
       "</div>"
      ],
      "text/plain": [
       "   count\n",
       "0    819"
      ]
     },
     "execution_count": 16,
     "metadata": {},
     "output_type": "execute_result"
    }
   ],
   "source": [
    "query = '''SELECT COUNT(book_id) \n",
    "           FROM books\n",
    "           WHERE publication_date::date > '2000-01-01'\n",
    "           '''\n",
    "get_sql_data(query)"
   ]
  },
  {
   "cell_type": "markdown",
   "metadata": {},
   "source": [
    "После 1 января 2000 года вышло 819 книг."
   ]
  },
  {
   "cell_type": "markdown",
   "metadata": {},
   "source": [
    "### Для каждой книги посчитайте количество обзоров и среднюю оценку;"
   ]
  },
  {
   "cell_type": "code",
   "execution_count": 17,
   "metadata": {},
   "outputs": [
    {
     "data": {
      "text/html": [
       "<div>\n",
       "<style scoped>\n",
       "    .dataframe tbody tr th:only-of-type {\n",
       "        vertical-align: middle;\n",
       "    }\n",
       "\n",
       "    .dataframe tbody tr th {\n",
       "        vertical-align: top;\n",
       "    }\n",
       "\n",
       "    .dataframe thead th {\n",
       "        text-align: right;\n",
       "    }\n",
       "</style>\n",
       "<table border=\"1\" class=\"dataframe\">\n",
       "  <thead>\n",
       "    <tr style=\"text-align: right;\">\n",
       "      <th></th>\n",
       "      <th>title</th>\n",
       "      <th>count_review</th>\n",
       "      <th>avg_rating</th>\n",
       "    </tr>\n",
       "  </thead>\n",
       "  <tbody>\n",
       "    <tr>\n",
       "      <th>0</th>\n",
       "      <td>'Salem's Lot</td>\n",
       "      <td>2</td>\n",
       "      <td>3.666667</td>\n",
       "    </tr>\n",
       "    <tr>\n",
       "      <th>1</th>\n",
       "      <td>1 000 Places to See Before You Die</td>\n",
       "      <td>1</td>\n",
       "      <td>2.500000</td>\n",
       "    </tr>\n",
       "    <tr>\n",
       "      <th>2</th>\n",
       "      <td>13 Little Blue Envelopes (Little Blue Envelope...</td>\n",
       "      <td>3</td>\n",
       "      <td>4.666667</td>\n",
       "    </tr>\n",
       "  </tbody>\n",
       "</table>\n",
       "</div>"
      ],
      "text/plain": [
       "                                               title  count_review  avg_rating\n",
       "0                                       'Salem's Lot             2    3.666667\n",
       "1                 1 000 Places to See Before You Die             1    2.500000\n",
       "2  13 Little Blue Envelopes (Little Blue Envelope...             3    4.666667"
      ]
     },
     "execution_count": 17,
     "metadata": {},
     "output_type": "execute_result"
    }
   ],
   "source": [
    "query = '''SELECT title,\n",
    "                  COUNT (DISTINCT review_id) AS count_review,\n",
    "                  AVG(rating) AS avg_rating\n",
    "            FROM books AS b \n",
    "            JOIN ratings AS rat ON b.book_id = rat.book_id \n",
    "            JOIN reviews AS rev ON b.book_id = rev.book_id\n",
    "            GROUP BY b.book_id\n",
    "            LIMIT 3\n",
    "            '''\n",
    "get_sql_data(query)"
   ]
  },
  {
   "cell_type": "markdown",
   "metadata": {},
   "source": [
    "Количество обзоров и средний рейтинг."
   ]
  },
  {
   "cell_type": "markdown",
   "metadata": {},
   "source": [
    "### Определите издательство, которое выпустило наибольшее число книг толще 50 страниц — так вы исключите из анализа брошюры;"
   ]
  },
  {
   "cell_type": "code",
   "execution_count": 18,
   "metadata": {},
   "outputs": [
    {
     "data": {
      "text/html": [
       "<div>\n",
       "<style scoped>\n",
       "    .dataframe tbody tr th:only-of-type {\n",
       "        vertical-align: middle;\n",
       "    }\n",
       "\n",
       "    .dataframe tbody tr th {\n",
       "        vertical-align: top;\n",
       "    }\n",
       "\n",
       "    .dataframe thead th {\n",
       "        text-align: right;\n",
       "    }\n",
       "</style>\n",
       "<table border=\"1\" class=\"dataframe\">\n",
       "  <thead>\n",
       "    <tr style=\"text-align: right;\">\n",
       "      <th></th>\n",
       "      <th>publisher</th>\n",
       "      <th>count_books</th>\n",
       "    </tr>\n",
       "  </thead>\n",
       "  <tbody>\n",
       "    <tr>\n",
       "      <th>0</th>\n",
       "      <td>Penguin Books</td>\n",
       "      <td>42</td>\n",
       "    </tr>\n",
       "    <tr>\n",
       "      <th>1</th>\n",
       "      <td>Vintage</td>\n",
       "      <td>31</td>\n",
       "    </tr>\n",
       "    <tr>\n",
       "      <th>2</th>\n",
       "      <td>Grand Central Publishing</td>\n",
       "      <td>25</td>\n",
       "    </tr>\n",
       "  </tbody>\n",
       "</table>\n",
       "</div>"
      ],
      "text/plain": [
       "                  publisher  count_books\n",
       "0             Penguin Books           42\n",
       "1                   Vintage           31\n",
       "2  Grand Central Publishing           25"
      ]
     },
     "execution_count": 18,
     "metadata": {},
     "output_type": "execute_result"
    }
   ],
   "source": [
    "query = '''SELECT p.publisher,\n",
    "                  COUNT(b.book_id) AS count_books\n",
    "           FROM publishers AS p\n",
    "           JOIN books AS b ON p.publisher_id = b.publisher_id\n",
    "           WHERE num_pages > 50\n",
    "           GROUP BY p.publisher\n",
    "           ORDER BY count_books DESC\n",
    "           LIMIT 3\n",
    "           '''\n",
    "get_sql_data(query)"
   ]
  },
  {
   "cell_type": "markdown",
   "metadata": {},
   "source": [
    "Издательство которое выпустило наибольшее число книг толще 50 страниц: Penguin Books"
   ]
  },
  {
   "cell_type": "markdown",
   "metadata": {},
   "source": [
    "### Определите автора с самой высокой средней оценкой книг — учитывайте только книги с 50 и более оценками;"
   ]
  },
  {
   "cell_type": "code",
   "execution_count": 19,
   "metadata": {},
   "outputs": [
    {
     "data": {
      "text/html": [
       "<div>\n",
       "<style scoped>\n",
       "    .dataframe tbody tr th:only-of-type {\n",
       "        vertical-align: middle;\n",
       "    }\n",
       "\n",
       "    .dataframe tbody tr th {\n",
       "        vertical-align: top;\n",
       "    }\n",
       "\n",
       "    .dataframe thead th {\n",
       "        text-align: right;\n",
       "    }\n",
       "</style>\n",
       "<table border=\"1\" class=\"dataframe\">\n",
       "  <thead>\n",
       "    <tr style=\"text-align: right;\">\n",
       "      <th></th>\n",
       "      <th>author</th>\n",
       "      <th>avg_rating</th>\n",
       "    </tr>\n",
       "  </thead>\n",
       "  <tbody>\n",
       "    <tr>\n",
       "      <th>0</th>\n",
       "      <td>J.K. Rowling/Mary GrandPré</td>\n",
       "      <td>4.287097</td>\n",
       "    </tr>\n",
       "    <tr>\n",
       "      <th>1</th>\n",
       "      <td>Markus Zusak/Cao Xuân Việt Khương</td>\n",
       "      <td>4.264151</td>\n",
       "    </tr>\n",
       "    <tr>\n",
       "      <th>2</th>\n",
       "      <td>J.R.R. Tolkien</td>\n",
       "      <td>4.246914</td>\n",
       "    </tr>\n",
       "  </tbody>\n",
       "</table>\n",
       "</div>"
      ],
      "text/plain": [
       "                              author  avg_rating\n",
       "0         J.K. Rowling/Mary GrandPré    4.287097\n",
       "1  Markus Zusak/Cao Xuân Việt Khương    4.264151\n",
       "2                     J.R.R. Tolkien    4.246914"
      ]
     },
     "execution_count": 19,
     "metadata": {},
     "output_type": "execute_result"
    }
   ],
   "source": [
    "query = '''SELECT author, \n",
    "                  AVG(rating) AS avg_rating\n",
    "            FROM authors AS a \n",
    "            JOIN books AS b ON a.author_id = b.author_id\n",
    "            JOIN ratings AS r ON b.book_id = r.book_id\n",
    "            WHERE b.book_id IN (SELECT book_id\n",
    "                                FROM ratings \n",
    "                                GROUP BY book_id\n",
    "                                HAVING COUNT(rating_id) >= 50 \n",
    "                                ORDER BY COUNT(rating_id) DESC) \n",
    "            GROUP BY author \n",
    "            ORDER BY avg_rating DESC\n",
    "            LIMIT 3       \n",
    "            '''\n",
    "get_sql_data(query)"
   ]
  },
  {
   "cell_type": "markdown",
   "metadata": {},
   "source": [
    "Автор с самой высокой средней оценкой книг: J.K. Rowling/Mary GrandPré\t"
   ]
  },
  {
   "cell_type": "code",
   "execution_count": 20,
   "metadata": {},
   "outputs": [
    {
     "data": {
      "text/html": [
       "<div>\n",
       "<style scoped>\n",
       "    .dataframe tbody tr th:only-of-type {\n",
       "        vertical-align: middle;\n",
       "    }\n",
       "\n",
       "    .dataframe tbody tr th {\n",
       "        vertical-align: top;\n",
       "    }\n",
       "\n",
       "    .dataframe thead th {\n",
       "        text-align: right;\n",
       "    }\n",
       "</style>\n",
       "<table border=\"1\" class=\"dataframe\">\n",
       "  <thead>\n",
       "    <tr style=\"text-align: right;\">\n",
       "      <th></th>\n",
       "      <th>author</th>\n",
       "      <th>avg_rating</th>\n",
       "    </tr>\n",
       "  </thead>\n",
       "  <tbody>\n",
       "    <tr>\n",
       "      <th>0</th>\n",
       "      <td>J.K. Rowling/Mary GrandPré</td>\n",
       "      <td>4.283844</td>\n",
       "    </tr>\n",
       "    <tr>\n",
       "      <th>1</th>\n",
       "      <td>Markus Zusak/Cao Xuân Việt Khương</td>\n",
       "      <td>4.264151</td>\n",
       "    </tr>\n",
       "    <tr>\n",
       "      <th>2</th>\n",
       "      <td>J.R.R. Tolkien</td>\n",
       "      <td>4.258446</td>\n",
       "    </tr>\n",
       "    <tr>\n",
       "      <th>3</th>\n",
       "      <td>Louisa May Alcott</td>\n",
       "      <td>4.192308</td>\n",
       "    </tr>\n",
       "    <tr>\n",
       "      <th>4</th>\n",
       "      <td>Rick Riordan</td>\n",
       "      <td>4.080645</td>\n",
       "    </tr>\n",
       "    <tr>\n",
       "      <th>5</th>\n",
       "      <td>William Golding</td>\n",
       "      <td>3.901408</td>\n",
       "    </tr>\n",
       "    <tr>\n",
       "      <th>6</th>\n",
       "      <td>J.D. Salinger</td>\n",
       "      <td>3.825581</td>\n",
       "    </tr>\n",
       "    <tr>\n",
       "      <th>7</th>\n",
       "      <td>Paulo Coelho/Alan R. Clarke/Özdemir İnce</td>\n",
       "      <td>3.789474</td>\n",
       "    </tr>\n",
       "    <tr>\n",
       "      <th>8</th>\n",
       "      <td>William Shakespeare/Paul Werstine/Barbara A. M...</td>\n",
       "      <td>3.787879</td>\n",
       "    </tr>\n",
       "    <tr>\n",
       "      <th>9</th>\n",
       "      <td>Dan Brown</td>\n",
       "      <td>3.754540</td>\n",
       "    </tr>\n",
       "    <tr>\n",
       "      <th>10</th>\n",
       "      <td>Lois Lowry</td>\n",
       "      <td>3.750000</td>\n",
       "    </tr>\n",
       "    <tr>\n",
       "      <th>11</th>\n",
       "      <td>George Orwell/Boris Grabnar/Peter Škerl</td>\n",
       "      <td>3.729730</td>\n",
       "    </tr>\n",
       "    <tr>\n",
       "      <th>12</th>\n",
       "      <td>Stephenie Meyer</td>\n",
       "      <td>3.662500</td>\n",
       "    </tr>\n",
       "    <tr>\n",
       "      <th>13</th>\n",
       "      <td>John Steinbeck</td>\n",
       "      <td>3.622951</td>\n",
       "    </tr>\n",
       "  </tbody>\n",
       "</table>\n",
       "</div>"
      ],
      "text/plain": [
       "                                               author  avg_rating\n",
       "0                          J.K. Rowling/Mary GrandPré    4.283844\n",
       "1                   Markus Zusak/Cao Xuân Việt Khương    4.264151\n",
       "2                                      J.R.R. Tolkien    4.258446\n",
       "3                                   Louisa May Alcott    4.192308\n",
       "4                                        Rick Riordan    4.080645\n",
       "5                                     William Golding    3.901408\n",
       "6                                       J.D. Salinger    3.825581\n",
       "7            Paulo Coelho/Alan R. Clarke/Özdemir İnce    3.789474\n",
       "8   William Shakespeare/Paul Werstine/Barbara A. M...    3.787879\n",
       "9                                           Dan Brown    3.754540\n",
       "10                                         Lois Lowry    3.750000\n",
       "11            George Orwell/Boris Grabnar/Peter Škerl    3.729730\n",
       "12                                    Stephenie Meyer    3.662500\n",
       "13                                     John Steinbeck    3.622951"
      ]
     },
     "execution_count": 20,
     "metadata": {},
     "output_type": "execute_result"
    }
   ],
   "source": [
    "# ячейка ревьюера:\n",
    "\n",
    "query = '''\n",
    "\n",
    "SELECT author, AVG(avg_rating) AS avg_rating\n",
    "FROM (\n",
    "    SELECT author, AVG(rating) AS avg_rating\n",
    "    FROM authors AS a \n",
    "    JOIN books AS b ON a.author_id = b.author_id\n",
    "    JOIN ratings AS r ON b.book_id = r.book_id\n",
    "    WHERE b.book_id IN (\n",
    "        SELECT book_id\n",
    "        FROM ratings \n",
    "        GROUP BY book_id\n",
    "        HAVING COUNT(rating_id) >= 50 \n",
    "        ORDER BY COUNT(rating_id) DESC) \n",
    "    GROUP BY author, b.book_id\n",
    "    ORDER BY avg_rating DESC\n",
    ") AS t\n",
    "GROUP BY author\n",
    "ORDER BY avg_rating DESC\n",
    "\n",
    "'''\n",
    "get_sql_data(query)"
   ]
  },
  {
   "cell_type": "markdown",
   "metadata": {},
   "source": [
    "### Посчитайте среднее количество обзоров от пользователей, которые поставили больше 48 оценок."
   ]
  },
  {
   "cell_type": "code",
   "execution_count": 21,
   "metadata": {},
   "outputs": [
    {
     "data": {
      "text/html": [
       "<div>\n",
       "<style scoped>\n",
       "    .dataframe tbody tr th:only-of-type {\n",
       "        vertical-align: middle;\n",
       "    }\n",
       "\n",
       "    .dataframe tbody tr th {\n",
       "        vertical-align: top;\n",
       "    }\n",
       "\n",
       "    .dataframe thead th {\n",
       "        text-align: right;\n",
       "    }\n",
       "</style>\n",
       "<table border=\"1\" class=\"dataframe\">\n",
       "  <thead>\n",
       "    <tr style=\"text-align: right;\">\n",
       "      <th></th>\n",
       "      <th>avg</th>\n",
       "    </tr>\n",
       "  </thead>\n",
       "  <tbody>\n",
       "    <tr>\n",
       "      <th>0</th>\n",
       "      <td>24.0</td>\n",
       "    </tr>\n",
       "  </tbody>\n",
       "</table>\n",
       "</div>"
      ],
      "text/plain": [
       "    avg\n",
       "0  24.0"
      ]
     },
     "execution_count": 21,
     "metadata": {},
     "output_type": "execute_result"
    }
   ],
   "source": [
    "query = '''WITH table1 AS (SELECT username, \n",
    "                                  COUNT(review_id)\n",
    "                           FROM reviews\n",
    "                           WHERE username IN (SELECT username\n",
    "                                              FROM ratings\n",
    "                                              GROUP BY username\n",
    "                                              HAVING COUNT(rating) > 48) \n",
    "                           GROUP BY username)\n",
    "           SELECT AVG(count)\n",
    "           FROM table1\n",
    "           '''\n",
    "get_sql_data(query)"
   ]
  },
  {
   "cell_type": "markdown",
   "metadata": {},
   "source": [
    "Среднее количество обзоров от пользователей, которые поставили больше 48 оценок: 24"
   ]
  }
 ],
 "metadata": {
  "ExecuteTimeLog": [
   {
    "duration": 559,
    "start_time": "2023-11-11T14:28:51.789Z"
   },
   {
    "duration": 3,
    "start_time": "2023-11-11T14:29:01.481Z"
   },
   {
    "duration": 11295,
    "start_time": "2023-11-11T14:29:10.557Z"
   },
   {
    "duration": 61,
    "start_time": "2023-11-11T14:29:21.854Z"
   },
   {
    "duration": 61,
    "start_time": "2023-11-11T14:29:27.611Z"
   },
   {
    "duration": 51,
    "start_time": "2023-11-11T14:29:47.514Z"
   },
   {
    "duration": 83,
    "start_time": "2023-11-11T14:29:59.547Z"
   },
   {
    "duration": 522,
    "start_time": "2023-11-11T14:30:12.705Z"
   },
   {
    "duration": 3,
    "start_time": "2023-11-11T14:30:13.229Z"
   },
   {
    "duration": 10144,
    "start_time": "2023-11-11T14:30:13.233Z"
   },
   {
    "duration": 62,
    "start_time": "2023-11-11T14:30:23.378Z"
   },
   {
    "duration": 0,
    "start_time": "2023-11-11T14:30:23.441Z"
   },
   {
    "duration": 50,
    "start_time": "2023-11-11T14:31:20.488Z"
   },
   {
    "duration": 74,
    "start_time": "2023-11-11T14:31:30.665Z"
   },
   {
    "duration": 3,
    "start_time": "2023-11-11T14:32:02.149Z"
   },
   {
    "duration": 53,
    "start_time": "2023-11-11T14:32:04.808Z"
   },
   {
    "duration": 2,
    "start_time": "2023-11-11T14:36:13.025Z"
   },
   {
    "duration": 2,
    "start_time": "2023-11-11T14:39:05.026Z"
   },
   {
    "duration": 13,
    "start_time": "2023-11-11T14:45:00.110Z"
   },
   {
    "duration": 19,
    "start_time": "2023-11-11T14:57:44.890Z"
   },
   {
    "duration": 65,
    "start_time": "2023-11-11T14:58:01.493Z"
   },
   {
    "duration": 12,
    "start_time": "2023-11-11T14:58:12.516Z"
   },
   {
    "duration": 18,
    "start_time": "2023-11-11T14:58:58.426Z"
   },
   {
    "duration": 16,
    "start_time": "2023-11-11T14:59:23.665Z"
   },
   {
    "duration": 13,
    "start_time": "2023-11-11T14:59:37.664Z"
   },
   {
    "duration": 26,
    "start_time": "2023-11-11T14:59:46.956Z"
   },
   {
    "duration": 27,
    "start_time": "2023-11-11T15:00:02.485Z"
   },
   {
    "duration": 11,
    "start_time": "2023-11-11T15:01:30.017Z"
   },
   {
    "duration": 9,
    "start_time": "2023-11-11T15:02:18.637Z"
   },
   {
    "duration": 13,
    "start_time": "2023-11-11T15:03:35.575Z"
   },
   {
    "duration": 11,
    "start_time": "2023-11-11T15:03:53.154Z"
   },
   {
    "duration": 9,
    "start_time": "2023-11-11T15:04:21.368Z"
   },
   {
    "duration": 16,
    "start_time": "2023-11-11T15:04:31.530Z"
   },
   {
    "duration": 4,
    "start_time": "2023-11-11T15:04:38.088Z"
   },
   {
    "duration": 10,
    "start_time": "2023-11-11T15:05:02.964Z"
   },
   {
    "duration": 9,
    "start_time": "2023-11-11T15:05:06.572Z"
   },
   {
    "duration": 14,
    "start_time": "2023-11-11T15:05:16.414Z"
   },
   {
    "duration": 10,
    "start_time": "2023-11-11T15:05:20.420Z"
   },
   {
    "duration": 12,
    "start_time": "2023-11-11T15:05:36.049Z"
   },
   {
    "duration": 27,
    "start_time": "2023-11-11T15:05:49.367Z"
   },
   {
    "duration": 9,
    "start_time": "2023-11-11T15:06:24.532Z"
   },
   {
    "duration": 10,
    "start_time": "2023-11-11T15:06:28.380Z"
   },
   {
    "duration": 11,
    "start_time": "2023-11-11T15:06:40.946Z"
   },
   {
    "duration": 21,
    "start_time": "2023-11-11T15:07:24.384Z"
   },
   {
    "duration": 12,
    "start_time": "2023-11-11T15:07:57.237Z"
   },
   {
    "duration": 530,
    "start_time": "2023-11-11T15:08:03.420Z"
   },
   {
    "duration": 3,
    "start_time": "2023-11-11T15:08:03.952Z"
   },
   {
    "duration": 12123,
    "start_time": "2023-11-11T15:08:03.957Z"
   },
   {
    "duration": 4,
    "start_time": "2023-11-11T15:08:16.082Z"
   },
   {
    "duration": 57,
    "start_time": "2023-11-11T15:08:16.087Z"
   },
   {
    "duration": 20,
    "start_time": "2023-11-11T15:08:16.146Z"
   },
   {
    "duration": 10,
    "start_time": "2023-11-11T15:08:16.168Z"
   },
   {
    "duration": 9,
    "start_time": "2023-11-11T15:08:16.180Z"
   },
   {
    "duration": 19,
    "start_time": "2023-11-11T15:08:16.191Z"
   },
   {
    "duration": 13,
    "start_time": "2023-11-11T15:08:16.213Z"
   },
   {
    "duration": 9,
    "start_time": "2023-11-11T15:08:16.227Z"
   },
   {
    "duration": 10,
    "start_time": "2023-11-11T15:08:16.237Z"
   },
   {
    "duration": 10,
    "start_time": "2023-11-11T15:08:16.248Z"
   },
   {
    "duration": 60,
    "start_time": "2023-11-11T15:08:16.259Z"
   },
   {
    "duration": 9,
    "start_time": "2023-11-11T15:08:16.321Z"
   },
   {
    "duration": 20,
    "start_time": "2023-11-11T15:08:16.331Z"
   },
   {
    "duration": 28,
    "start_time": "2023-11-11T15:51:50.162Z"
   },
   {
    "duration": 26,
    "start_time": "2023-11-11T15:52:34.524Z"
   },
   {
    "duration": 16,
    "start_time": "2023-11-11T15:53:00.926Z"
   },
   {
    "duration": 15,
    "start_time": "2023-11-11T15:53:21.761Z"
   },
   {
    "duration": 25,
    "start_time": "2023-11-11T15:53:30.088Z"
   },
   {
    "duration": 24,
    "start_time": "2023-11-11T15:54:00.745Z"
   },
   {
    "duration": 25,
    "start_time": "2023-11-11T15:54:19.408Z"
   },
   {
    "duration": 14,
    "start_time": "2023-11-11T15:54:31.614Z"
   },
   {
    "duration": 81,
    "start_time": "2023-11-11T15:55:02.072Z"
   },
   {
    "duration": 14,
    "start_time": "2023-11-11T15:55:06.740Z"
   },
   {
    "duration": 19,
    "start_time": "2023-11-11T15:55:10.027Z"
   },
   {
    "duration": 15,
    "start_time": "2023-11-11T15:55:15.088Z"
   },
   {
    "duration": 24,
    "start_time": "2023-11-11T15:56:25.586Z"
   },
   {
    "duration": 15,
    "start_time": "2023-11-11T15:56:35.646Z"
   },
   {
    "duration": 21,
    "start_time": "2023-11-11T15:59:34.057Z"
   },
   {
    "duration": 13,
    "start_time": "2023-11-11T15:59:56.937Z"
   },
   {
    "duration": 13,
    "start_time": "2023-11-11T16:00:28.185Z"
   },
   {
    "duration": 13,
    "start_time": "2023-11-11T16:00:44.562Z"
   },
   {
    "duration": 12,
    "start_time": "2023-11-11T16:00:49.431Z"
   },
   {
    "duration": 12,
    "start_time": "2023-11-11T16:00:53.543Z"
   },
   {
    "duration": 57,
    "start_time": "2023-11-11T16:02:53.947Z"
   },
   {
    "duration": 14,
    "start_time": "2023-11-11T16:02:58.531Z"
   },
   {
    "duration": 14,
    "start_time": "2023-11-11T16:03:01.737Z"
   },
   {
    "duration": 12,
    "start_time": "2023-11-11T16:04:18.687Z"
   },
   {
    "duration": 12,
    "start_time": "2023-11-11T16:06:08.155Z"
   },
   {
    "duration": 503,
    "start_time": "2023-11-11T16:06:13.602Z"
   },
   {
    "duration": 3,
    "start_time": "2023-11-11T16:06:14.107Z"
   },
   {
    "duration": 10613,
    "start_time": "2023-11-11T16:06:14.114Z"
   },
   {
    "duration": 4,
    "start_time": "2023-11-11T16:06:24.729Z"
   },
   {
    "duration": 53,
    "start_time": "2023-11-11T16:06:24.736Z"
   },
   {
    "duration": 11,
    "start_time": "2023-11-11T16:06:24.791Z"
   },
   {
    "duration": 8,
    "start_time": "2023-11-11T16:06:24.804Z"
   },
   {
    "duration": 9,
    "start_time": "2023-11-11T16:06:24.814Z"
   },
   {
    "duration": 8,
    "start_time": "2023-11-11T16:06:24.824Z"
   },
   {
    "duration": 8,
    "start_time": "2023-11-11T16:06:24.833Z"
   },
   {
    "duration": 8,
    "start_time": "2023-11-11T16:06:24.842Z"
   },
   {
    "duration": 9,
    "start_time": "2023-11-11T16:06:24.852Z"
   },
   {
    "duration": 39,
    "start_time": "2023-11-11T16:06:24.862Z"
   },
   {
    "duration": 11,
    "start_time": "2023-11-11T16:06:24.903Z"
   },
   {
    "duration": 8,
    "start_time": "2023-11-11T16:06:24.916Z"
   },
   {
    "duration": 8,
    "start_time": "2023-11-11T16:06:24.926Z"
   },
   {
    "duration": 15,
    "start_time": "2023-11-11T16:06:24.935Z"
   },
   {
    "duration": 10,
    "start_time": "2023-11-11T16:06:24.951Z"
   },
   {
    "duration": 14,
    "start_time": "2023-11-11T16:06:24.962Z"
   },
   {
    "duration": 26,
    "start_time": "2023-11-11T16:06:24.977Z"
   },
   {
    "duration": 15,
    "start_time": "2023-11-11T16:08:50.112Z"
   },
   {
    "duration": 84,
    "start_time": "2023-11-11T16:50:08.912Z"
   },
   {
    "duration": 20,
    "start_time": "2023-11-11T16:50:41.525Z"
   },
   {
    "duration": 16,
    "start_time": "2023-11-11T16:50:52.012Z"
   },
   {
    "duration": 17,
    "start_time": "2023-11-11T16:51:11.206Z"
   },
   {
    "duration": 13,
    "start_time": "2023-11-11T16:51:44.624Z"
   },
   {
    "duration": 13,
    "start_time": "2023-11-11T16:53:02.665Z"
   },
   {
    "duration": 20,
    "start_time": "2023-11-11T16:53:37.430Z"
   },
   {
    "duration": 13,
    "start_time": "2023-11-11T16:53:58.737Z"
   },
   {
    "duration": 15,
    "start_time": "2023-11-11T16:54:53.510Z"
   },
   {
    "duration": 12,
    "start_time": "2023-11-11T16:55:58.039Z"
   },
   {
    "duration": 483,
    "start_time": "2023-11-11T16:56:22.355Z"
   },
   {
    "duration": 3,
    "start_time": "2023-11-11T16:56:22.840Z"
   },
   {
    "duration": 10720,
    "start_time": "2023-11-11T16:56:22.845Z"
   },
   {
    "duration": 4,
    "start_time": "2023-11-11T16:56:33.567Z"
   },
   {
    "duration": 56,
    "start_time": "2023-11-11T16:56:33.573Z"
   },
   {
    "duration": 11,
    "start_time": "2023-11-11T16:56:33.631Z"
   },
   {
    "duration": 8,
    "start_time": "2023-11-11T16:56:33.643Z"
   },
   {
    "duration": 9,
    "start_time": "2023-11-11T16:56:33.652Z"
   },
   {
    "duration": 8,
    "start_time": "2023-11-11T16:56:33.663Z"
   },
   {
    "duration": 8,
    "start_time": "2023-11-11T16:56:33.673Z"
   },
   {
    "duration": 14,
    "start_time": "2023-11-11T16:56:33.698Z"
   },
   {
    "duration": 10,
    "start_time": "2023-11-11T16:56:33.714Z"
   },
   {
    "duration": 8,
    "start_time": "2023-11-11T16:56:33.725Z"
   },
   {
    "duration": 9,
    "start_time": "2023-11-11T16:56:33.735Z"
   },
   {
    "duration": 7,
    "start_time": "2023-11-11T16:56:33.746Z"
   },
   {
    "duration": 8,
    "start_time": "2023-11-11T16:56:33.755Z"
   },
   {
    "duration": 51,
    "start_time": "2023-11-11T16:56:33.764Z"
   },
   {
    "duration": 10,
    "start_time": "2023-11-11T16:56:33.816Z"
   },
   {
    "duration": 12,
    "start_time": "2023-11-11T16:56:33.827Z"
   },
   {
    "duration": 10,
    "start_time": "2023-11-11T16:56:33.841Z"
   },
   {
    "duration": 519,
    "start_time": "2023-11-11T17:07:39.870Z"
   },
   {
    "duration": 3,
    "start_time": "2023-11-11T17:07:40.390Z"
   },
   {
    "duration": 10181,
    "start_time": "2023-11-11T17:07:40.399Z"
   },
   {
    "duration": 3,
    "start_time": "2023-11-11T17:07:50.582Z"
   },
   {
    "duration": 59,
    "start_time": "2023-11-11T17:07:50.587Z"
   },
   {
    "duration": 12,
    "start_time": "2023-11-11T17:07:50.648Z"
   },
   {
    "duration": 9,
    "start_time": "2023-11-11T17:07:50.661Z"
   },
   {
    "duration": 11,
    "start_time": "2023-11-11T17:07:50.671Z"
   },
   {
    "duration": 10,
    "start_time": "2023-11-11T17:07:50.683Z"
   },
   {
    "duration": 19,
    "start_time": "2023-11-11T17:07:50.696Z"
   },
   {
    "duration": 10,
    "start_time": "2023-11-11T17:07:50.717Z"
   },
   {
    "duration": 10,
    "start_time": "2023-11-11T17:07:50.729Z"
   },
   {
    "duration": 9,
    "start_time": "2023-11-11T17:07:50.740Z"
   },
   {
    "duration": 10,
    "start_time": "2023-11-11T17:07:50.751Z"
   },
   {
    "duration": 9,
    "start_time": "2023-11-11T17:07:50.762Z"
   },
   {
    "duration": 34,
    "start_time": "2023-11-11T17:07:50.772Z"
   },
   {
    "duration": 17,
    "start_time": "2023-11-11T17:07:50.808Z"
   },
   {
    "duration": 12,
    "start_time": "2023-11-11T17:07:50.826Z"
   },
   {
    "duration": 14,
    "start_time": "2023-11-11T17:07:50.840Z"
   },
   {
    "duration": 12,
    "start_time": "2023-11-11T17:07:50.856Z"
   },
   {
    "duration": 57,
    "start_time": "2023-11-11T17:41:52.620Z"
   },
   {
    "duration": 585,
    "start_time": "2023-11-11T17:41:56.744Z"
   },
   {
    "duration": 4,
    "start_time": "2023-11-11T17:41:57.332Z"
   },
   {
    "duration": 12784,
    "start_time": "2023-11-11T17:41:57.338Z"
   },
   {
    "duration": 3,
    "start_time": "2023-11-11T17:42:10.123Z"
   },
   {
    "duration": 69,
    "start_time": "2023-11-11T17:42:10.128Z"
   },
   {
    "duration": 11,
    "start_time": "2023-11-11T17:42:10.199Z"
   },
   {
    "duration": 8,
    "start_time": "2023-11-11T17:42:10.211Z"
   },
   {
    "duration": 9,
    "start_time": "2023-11-11T17:42:10.220Z"
   },
   {
    "duration": 8,
    "start_time": "2023-11-11T17:42:10.231Z"
   },
   {
    "duration": 9,
    "start_time": "2023-11-11T17:42:10.240Z"
   },
   {
    "duration": 9,
    "start_time": "2023-11-11T17:42:10.251Z"
   },
   {
    "duration": 9,
    "start_time": "2023-11-11T17:42:10.261Z"
   },
   {
    "duration": 8,
    "start_time": "2023-11-11T17:42:10.272Z"
   },
   {
    "duration": 10,
    "start_time": "2023-11-11T17:42:10.282Z"
   },
   {
    "duration": 8,
    "start_time": "2023-11-11T17:42:10.293Z"
   },
   {
    "duration": 10,
    "start_time": "2023-11-11T17:42:10.331Z"
   },
   {
    "duration": 31,
    "start_time": "2023-11-11T17:42:10.342Z"
   },
   {
    "duration": 12,
    "start_time": "2023-11-11T17:42:10.375Z"
   },
   {
    "duration": 21,
    "start_time": "2023-11-11T17:42:10.388Z"
   },
   {
    "duration": 17,
    "start_time": "2023-11-11T17:42:10.411Z"
   },
   {
    "duration": 15,
    "start_time": "2023-11-11T17:42:42.419Z"
   },
   {
    "duration": 81,
    "start_time": "2023-11-11T17:49:00.260Z"
   },
   {
    "duration": 16,
    "start_time": "2023-11-11T17:49:11.965Z"
   },
   {
    "duration": 22,
    "start_time": "2023-11-11T17:50:13.081Z"
   },
   {
    "duration": 18,
    "start_time": "2023-11-11T17:50:25.537Z"
   },
   {
    "duration": 16,
    "start_time": "2023-11-11T17:50:45.094Z"
   },
   {
    "duration": 466,
    "start_time": "2023-11-11T17:53:09.270Z"
   },
   {
    "duration": 4,
    "start_time": "2023-11-11T17:53:09.738Z"
   },
   {
    "duration": 11983,
    "start_time": "2023-11-11T17:53:09.744Z"
   },
   {
    "duration": 4,
    "start_time": "2023-11-11T17:53:21.729Z"
   },
   {
    "duration": 63,
    "start_time": "2023-11-11T17:53:21.734Z"
   },
   {
    "duration": 16,
    "start_time": "2023-11-11T17:53:21.799Z"
   },
   {
    "duration": 23,
    "start_time": "2023-11-11T17:53:21.816Z"
   },
   {
    "duration": 10,
    "start_time": "2023-11-11T17:53:21.841Z"
   },
   {
    "duration": 12,
    "start_time": "2023-11-11T17:53:21.853Z"
   },
   {
    "duration": 10,
    "start_time": "2023-11-11T17:53:21.868Z"
   },
   {
    "duration": 8,
    "start_time": "2023-11-11T17:53:21.880Z"
   },
   {
    "duration": 11,
    "start_time": "2023-11-11T17:53:21.890Z"
   },
   {
    "duration": 10,
    "start_time": "2023-11-11T17:53:21.931Z"
   },
   {
    "duration": 11,
    "start_time": "2023-11-11T17:53:21.943Z"
   },
   {
    "duration": 9,
    "start_time": "2023-11-11T17:53:21.956Z"
   },
   {
    "duration": 9,
    "start_time": "2023-11-11T17:53:21.966Z"
   },
   {
    "duration": 16,
    "start_time": "2023-11-11T17:53:21.977Z"
   },
   {
    "duration": 36,
    "start_time": "2023-11-11T17:53:21.995Z"
   },
   {
    "duration": 18,
    "start_time": "2023-11-11T17:53:22.033Z"
   },
   {
    "duration": 15,
    "start_time": "2023-11-11T17:53:22.053Z"
   },
   {
    "duration": 15,
    "start_time": "2023-11-11T17:53:22.070Z"
   }
  ],
  "kernelspec": {
   "display_name": "Python 3 (ipykernel)",
   "language": "python",
   "name": "python3"
  },
  "language_info": {
   "codemirror_mode": {
    "name": "ipython",
    "version": 3
   },
   "file_extension": ".py",
   "mimetype": "text/x-python",
   "name": "python",
   "nbconvert_exporter": "python",
   "pygments_lexer": "ipython3",
   "version": "3.9.5"
  },
  "toc": {
   "base_numbering": 1,
   "nav_menu": {},
   "number_sections": true,
   "sideBar": true,
   "skip_h1_title": true,
   "title_cell": "Содержание",
   "title_sidebar": "Contents",
   "toc_cell": true,
   "toc_position": {},
   "toc_section_display": true,
   "toc_window_display": true
  }
 },
 "nbformat": 4,
 "nbformat_minor": 4
}
