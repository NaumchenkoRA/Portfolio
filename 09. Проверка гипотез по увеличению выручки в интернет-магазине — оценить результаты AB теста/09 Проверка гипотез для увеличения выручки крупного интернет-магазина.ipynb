{
 "cells": [
  {
   "cell_type": "markdown",
   "metadata": {},
   "source": [
    "# Проверка гипотез для увеличения выручки крупного интернет-магазина."
   ]
  },
  {
   "cell_type": "markdown",
   "metadata": {},
   "source": [
    "## Введение"
   ]
  },
  {
   "cell_type": "markdown",
   "metadata": {},
   "source": [
    "### Описание проекта\n",
    "\n",
    "Вместе с отделом маркетинга был подготовлен список гипотез для увеличения выручки.  \n",
    "Необходимо: приоритизировать гипотезы, запустить A/B-тест и проанализировать результаты. "
   ]
  },
  {
   "cell_type": "markdown",
   "metadata": {},
   "source": [
    "### Описание данных\n",
    "\n",
    "Файл /datasets/hypothesis.csv.  \n",
    "Hypothesis — краткое описание гипотезы;  \n",
    "Reach — охват пользователей по 10-балльной шкале;  \n",
    "Impact — влияние на пользователей по 10-балльной шкале;  \n",
    "Confidence — уверенность в гипотезе по 10-балльной шкале;  \n",
    "Efforts — затраты ресурсов на проверку гипотезы по 10-балльной шкале. Чем больше значение Efforts, тем дороже проверка гипотезы.  \n",
    "\n",
    "Файл /datasets/orders.csv.   \n",
    "transactionId — идентификатор заказа;  \n",
    "visitorId — идентификатор пользователя, совершившего заказ;  \n",
    "date — дата, когда был совершён заказ;  \n",
    "revenue — выручка заказа;  \n",
    "group — группа A/B-теста, в которую попал заказ.  \n",
    "\n",
    "Файл /datasets/visitors.csv.   \n",
    "date — дата;  \n",
    "group — группа A/B-теста;  \n",
    "visitors — количество пользователей в указанную дату в указанной группе A/B-теста  "
   ]
  },
  {
   "cell_type": "markdown",
   "metadata": {},
   "source": [
    "## Загрузка данных"
   ]
  },
  {
   "cell_type": "code",
   "execution_count": 2,
   "metadata": {},
   "outputs": [],
   "source": [
    "import pandas as pd\n",
    "import matplotlib.pyplot as plt\n",
    "import numpy as np\n",
    "import scipy.stats as stats\n",
    "import datetime as dt"
   ]
  },
  {
   "cell_type": "code",
   "execution_count": 3,
   "metadata": {},
   "outputs": [],
   "source": [
    "hypothesis = pd.read_csv('C:/data yandex/hypothesis.csv')\n",
    "orders = pd.read_csv('C:/data yandex/orders.csv')\n",
    "visitors = pd.read_csv('C:/data yandex/visitors.csv')"
   ]
  },
  {
   "cell_type": "code",
   "execution_count": 4,
   "metadata": {},
   "outputs": [
    {
     "name": "stdout",
     "output_type": "stream",
     "text": [
      "<class 'pandas.core.frame.DataFrame'>\n",
      "RangeIndex: 9 entries, 0 to 8\n",
      "Data columns (total 5 columns):\n",
      " #   Column      Non-Null Count  Dtype \n",
      "---  ------      --------------  ----- \n",
      " 0   Hypothesis  9 non-null      object\n",
      " 1   Reach       9 non-null      int64 \n",
      " 2   Impact      9 non-null      int64 \n",
      " 3   Confidence  9 non-null      int64 \n",
      " 4   Efforts     9 non-null      int64 \n",
      "dtypes: int64(4), object(1)\n",
      "memory usage: 488.0+ bytes\n"
     ]
    },
    {
     "data": {
      "text/html": [
       "<div>\n",
       "<style scoped>\n",
       "    .dataframe tbody tr th:only-of-type {\n",
       "        vertical-align: middle;\n",
       "    }\n",
       "\n",
       "    .dataframe tbody tr th {\n",
       "        vertical-align: top;\n",
       "    }\n",
       "\n",
       "    .dataframe thead th {\n",
       "        text-align: right;\n",
       "    }\n",
       "</style>\n",
       "<table border=\"1\" class=\"dataframe\">\n",
       "  <thead>\n",
       "    <tr style=\"text-align: right;\">\n",
       "      <th></th>\n",
       "      <th>Hypothesis</th>\n",
       "      <th>Reach</th>\n",
       "      <th>Impact</th>\n",
       "      <th>Confidence</th>\n",
       "      <th>Efforts</th>\n",
       "    </tr>\n",
       "  </thead>\n",
       "  <tbody>\n",
       "    <tr>\n",
       "      <th>0</th>\n",
       "      <td>Добавить два новых канала привлечения трафика, что позволит привлекать на 30% больше пользователей</td>\n",
       "      <td>3</td>\n",
       "      <td>10</td>\n",
       "      <td>8</td>\n",
       "      <td>6</td>\n",
       "    </tr>\n",
       "    <tr>\n",
       "      <th>1</th>\n",
       "      <td>Запустить собственную службу доставки, что сократит срок доставки заказов</td>\n",
       "      <td>2</td>\n",
       "      <td>5</td>\n",
       "      <td>4</td>\n",
       "      <td>10</td>\n",
       "    </tr>\n",
       "    <tr>\n",
       "      <th>2</th>\n",
       "      <td>Добавить блоки рекомендаций товаров на сайт интернет магазина, чтобы повысить конверсию и средний чек заказа</td>\n",
       "      <td>8</td>\n",
       "      <td>3</td>\n",
       "      <td>7</td>\n",
       "      <td>3</td>\n",
       "    </tr>\n",
       "    <tr>\n",
       "      <th>3</th>\n",
       "      <td>Изменить структура категорий, что увеличит конверсию, т.к. пользователи быстрее найдут нужный товар</td>\n",
       "      <td>8</td>\n",
       "      <td>3</td>\n",
       "      <td>3</td>\n",
       "      <td>8</td>\n",
       "    </tr>\n",
       "    <tr>\n",
       "      <th>4</th>\n",
       "      <td>Изменить цвет фона главной страницы, чтобы увеличить вовлеченность пользователей</td>\n",
       "      <td>3</td>\n",
       "      <td>1</td>\n",
       "      <td>1</td>\n",
       "      <td>1</td>\n",
       "    </tr>\n",
       "    <tr>\n",
       "      <th>5</th>\n",
       "      <td>Добавить страницу отзывов клиентов о магазине, что позволит увеличить количество заказов</td>\n",
       "      <td>3</td>\n",
       "      <td>2</td>\n",
       "      <td>2</td>\n",
       "      <td>3</td>\n",
       "    </tr>\n",
       "    <tr>\n",
       "      <th>6</th>\n",
       "      <td>Показать на главной странице баннеры с актуальными акциями и распродажами, чтобы увеличить конверсию</td>\n",
       "      <td>5</td>\n",
       "      <td>3</td>\n",
       "      <td>8</td>\n",
       "      <td>3</td>\n",
       "    </tr>\n",
       "    <tr>\n",
       "      <th>7</th>\n",
       "      <td>Добавить форму подписки на все основные страницы, чтобы собрать базу клиентов для email-рассылок</td>\n",
       "      <td>10</td>\n",
       "      <td>7</td>\n",
       "      <td>8</td>\n",
       "      <td>5</td>\n",
       "    </tr>\n",
       "    <tr>\n",
       "      <th>8</th>\n",
       "      <td>Запустить акцию, дающую скидку на товар в день рождения</td>\n",
       "      <td>1</td>\n",
       "      <td>9</td>\n",
       "      <td>9</td>\n",
       "      <td>5</td>\n",
       "    </tr>\n",
       "  </tbody>\n",
       "</table>\n",
       "</div>"
      ],
      "text/plain": [
       "                                                                                                     Hypothesis  \\\n",
       "0  Добавить два новых канала привлечения трафика, что позволит привлекать на 30% больше пользователей             \n",
       "1  Запустить собственную службу доставки, что сократит срок доставки заказов                                      \n",
       "2  Добавить блоки рекомендаций товаров на сайт интернет магазина, чтобы повысить конверсию и средний чек заказа   \n",
       "3  Изменить структура категорий, что увеличит конверсию, т.к. пользователи быстрее найдут нужный товар            \n",
       "4  Изменить цвет фона главной страницы, чтобы увеличить вовлеченность пользователей                               \n",
       "5  Добавить страницу отзывов клиентов о магазине, что позволит увеличить количество заказов                       \n",
       "6  Показать на главной странице баннеры с актуальными акциями и распродажами, чтобы увеличить конверсию           \n",
       "7  Добавить форму подписки на все основные страницы, чтобы собрать базу клиентов для email-рассылок               \n",
       "8  Запустить акцию, дающую скидку на товар в день рождения                                                        \n",
       "\n",
       "   Reach  Impact  Confidence  Efforts  \n",
       "0  3      10      8           6        \n",
       "1  2      5       4           10       \n",
       "2  8      3       7           3        \n",
       "3  8      3       3           8        \n",
       "4  3      1       1           1        \n",
       "5  3      2       2           3        \n",
       "6  5      3       8           3        \n",
       "7  10     7       8           5        \n",
       "8  1      9       9           5        "
      ]
     },
     "execution_count": 4,
     "metadata": {},
     "output_type": "execute_result"
    }
   ],
   "source": [
    "pd.options.display.max_colwidth = 1\n",
    "hypothesis.info()\n",
    "hypothesis"
   ]
  },
  {
   "cell_type": "code",
   "execution_count": 4,
   "metadata": {},
   "outputs": [
    {
     "name": "stdout",
     "output_type": "stream",
     "text": [
      "<class 'pandas.core.frame.DataFrame'>\n",
      "RangeIndex: 1197 entries, 0 to 1196\n",
      "Data columns (total 5 columns):\n",
      " #   Column         Non-Null Count  Dtype \n",
      "---  ------         --------------  ----- \n",
      " 0   transactionId  1197 non-null   int64 \n",
      " 1   visitorId      1197 non-null   int64 \n",
      " 2   date           1197 non-null   object\n",
      " 3   revenue        1197 non-null   int64 \n",
      " 4   group          1197 non-null   object\n",
      "dtypes: int64(3), object(2)\n",
      "memory usage: 46.9+ KB\n"
     ]
    },
    {
     "data": {
      "text/html": [
       "<div>\n",
       "<style scoped>\n",
       "    .dataframe tbody tr th:only-of-type {\n",
       "        vertical-align: middle;\n",
       "    }\n",
       "\n",
       "    .dataframe tbody tr th {\n",
       "        vertical-align: top;\n",
       "    }\n",
       "\n",
       "    .dataframe thead th {\n",
       "        text-align: right;\n",
       "    }\n",
       "</style>\n",
       "<table border=\"1\" class=\"dataframe\">\n",
       "  <thead>\n",
       "    <tr style=\"text-align: right;\">\n",
       "      <th></th>\n",
       "      <th>transactionId</th>\n",
       "      <th>visitorId</th>\n",
       "      <th>date</th>\n",
       "      <th>revenue</th>\n",
       "      <th>group</th>\n",
       "    </tr>\n",
       "  </thead>\n",
       "  <tbody>\n",
       "    <tr>\n",
       "      <th>0</th>\n",
       "      <td>3667963787</td>\n",
       "      <td>3312258926</td>\n",
       "      <td>2019-08-15</td>\n",
       "      <td>1650</td>\n",
       "      <td>B</td>\n",
       "    </tr>\n",
       "    <tr>\n",
       "      <th>1</th>\n",
       "      <td>2804400009</td>\n",
       "      <td>3642806036</td>\n",
       "      <td>2019-08-15</td>\n",
       "      <td>730</td>\n",
       "      <td>B</td>\n",
       "    </tr>\n",
       "    <tr>\n",
       "      <th>2</th>\n",
       "      <td>2961555356</td>\n",
       "      <td>4069496402</td>\n",
       "      <td>2019-08-15</td>\n",
       "      <td>400</td>\n",
       "      <td>A</td>\n",
       "    </tr>\n",
       "    <tr>\n",
       "      <th>3</th>\n",
       "      <td>3797467345</td>\n",
       "      <td>1196621759</td>\n",
       "      <td>2019-08-15</td>\n",
       "      <td>9759</td>\n",
       "      <td>B</td>\n",
       "    </tr>\n",
       "    <tr>\n",
       "      <th>4</th>\n",
       "      <td>2282983706</td>\n",
       "      <td>2322279887</td>\n",
       "      <td>2019-08-15</td>\n",
       "      <td>2308</td>\n",
       "      <td>B</td>\n",
       "    </tr>\n",
       "  </tbody>\n",
       "</table>\n",
       "</div>"
      ],
      "text/plain": [
       "   transactionId   visitorId        date  revenue group\n",
       "0  3667963787     3312258926  2019-08-15  1650     B   \n",
       "1  2804400009     3642806036  2019-08-15  730      B   \n",
       "2  2961555356     4069496402  2019-08-15  400      A   \n",
       "3  3797467345     1196621759  2019-08-15  9759     B   \n",
       "4  2282983706     2322279887  2019-08-15  2308     B   "
      ]
     },
     "execution_count": 4,
     "metadata": {},
     "output_type": "execute_result"
    }
   ],
   "source": [
    "orders.info()\n",
    "orders.head()"
   ]
  },
  {
   "cell_type": "code",
   "execution_count": 5,
   "metadata": {},
   "outputs": [
    {
     "name": "stdout",
     "output_type": "stream",
     "text": [
      "<class 'pandas.core.frame.DataFrame'>\n",
      "RangeIndex: 62 entries, 0 to 61\n",
      "Data columns (total 3 columns):\n",
      " #   Column    Non-Null Count  Dtype \n",
      "---  ------    --------------  ----- \n",
      " 0   date      62 non-null     object\n",
      " 1   group     62 non-null     object\n",
      " 2   visitors  62 non-null     int64 \n",
      "dtypes: int64(1), object(2)\n",
      "memory usage: 1.6+ KB\n"
     ]
    },
    {
     "data": {
      "text/html": [
       "<div>\n",
       "<style scoped>\n",
       "    .dataframe tbody tr th:only-of-type {\n",
       "        vertical-align: middle;\n",
       "    }\n",
       "\n",
       "    .dataframe tbody tr th {\n",
       "        vertical-align: top;\n",
       "    }\n",
       "\n",
       "    .dataframe thead th {\n",
       "        text-align: right;\n",
       "    }\n",
       "</style>\n",
       "<table border=\"1\" class=\"dataframe\">\n",
       "  <thead>\n",
       "    <tr style=\"text-align: right;\">\n",
       "      <th></th>\n",
       "      <th>date</th>\n",
       "      <th>group</th>\n",
       "      <th>visitors</th>\n",
       "    </tr>\n",
       "  </thead>\n",
       "  <tbody>\n",
       "    <tr>\n",
       "      <th>0</th>\n",
       "      <td>2019-08-01</td>\n",
       "      <td>A</td>\n",
       "      <td>719</td>\n",
       "    </tr>\n",
       "    <tr>\n",
       "      <th>1</th>\n",
       "      <td>2019-08-02</td>\n",
       "      <td>A</td>\n",
       "      <td>619</td>\n",
       "    </tr>\n",
       "    <tr>\n",
       "      <th>2</th>\n",
       "      <td>2019-08-03</td>\n",
       "      <td>A</td>\n",
       "      <td>507</td>\n",
       "    </tr>\n",
       "    <tr>\n",
       "      <th>3</th>\n",
       "      <td>2019-08-04</td>\n",
       "      <td>A</td>\n",
       "      <td>717</td>\n",
       "    </tr>\n",
       "    <tr>\n",
       "      <th>4</th>\n",
       "      <td>2019-08-05</td>\n",
       "      <td>A</td>\n",
       "      <td>756</td>\n",
       "    </tr>\n",
       "  </tbody>\n",
       "</table>\n",
       "</div>"
      ],
      "text/plain": [
       "         date group  visitors\n",
       "0  2019-08-01  A     719     \n",
       "1  2019-08-02  A     619     \n",
       "2  2019-08-03  A     507     \n",
       "3  2019-08-04  A     717     \n",
       "4  2019-08-05  A     756     "
      ]
     },
     "execution_count": 5,
     "metadata": {},
     "output_type": "execute_result"
    }
   ],
   "source": [
    "visitors.info()\n",
    "visitors.head()"
   ]
  },
  {
   "cell_type": "markdown",
   "metadata": {},
   "source": [
    "## Подготовка данных"
   ]
  },
  {
   "cell_type": "markdown",
   "metadata": {},
   "source": [
    "### Заменим названия столбцов (приведём к нижнему регистру)"
   ]
  },
  {
   "cell_type": "code",
   "execution_count": 6,
   "metadata": {},
   "outputs": [],
   "source": [
    "hypothesis.columns = hypothesis.columns.str.lower()"
   ]
  },
  {
   "cell_type": "markdown",
   "metadata": {},
   "source": [
    "### Преобразуем данные о времени"
   ]
  },
  {
   "cell_type": "code",
   "execution_count": 7,
   "metadata": {},
   "outputs": [],
   "source": [
    "orders['date'] = pd.to_datetime(orders['date'])\n",
    "visitors['date'] = pd.to_datetime(visitors['date'])"
   ]
  },
  {
   "cell_type": "markdown",
   "metadata": {},
   "source": [
    "### Переименуем название столбцов"
   ]
  },
  {
   "cell_type": "code",
   "execution_count": 8,
   "metadata": {},
   "outputs": [],
   "source": [
    "orders.rename(columns={'transactionId':'orderId', 'visitorId':'userId'}, inplace=True)"
   ]
  },
  {
   "cell_type": "markdown",
   "metadata": {},
   "source": [
    "### Проверим данные на дубликаты"
   ]
  },
  {
   "cell_type": "code",
   "execution_count": 9,
   "metadata": {},
   "outputs": [
    {
     "name": "stdout",
     "output_type": "stream",
     "text": [
      "0\n",
      "\n",
      "0\n",
      "\n",
      "0\n"
     ]
    }
   ],
   "source": [
    "print(hypothesis.duplicated().sum())\n",
    "print()\n",
    "print(orders.duplicated().sum())\n",
    "print()\n",
    "print(visitors.duplicated().sum())"
   ]
  },
  {
   "cell_type": "markdown",
   "metadata": {},
   "source": [
    "Дубликатов нет"
   ]
  },
  {
   "cell_type": "markdown",
   "metadata": {},
   "source": [
    "### Проверим, есть ли пользователи которые попали в обе группы"
   ]
  },
  {
   "cell_type": "code",
   "execution_count": 10,
   "metadata": {},
   "outputs": [
    {
     "data": {
      "text/plain": [
       "58"
      ]
     },
     "execution_count": 10,
     "metadata": {},
     "output_type": "execute_result"
    }
   ],
   "source": [
    "AB_users = orders.groupby('userId').agg({'group': 'nuevents_participantsFnique'}).query('group > 1').reset_index()\n",
    "len(AB_users)"
   ]
  },
  {
   "cell_type": "markdown",
   "metadata": {},
   "source": [
    "Всего 58 пользователей оказалось в обоих группах одновременно, уберём их."
   ]
  },
  {
   "cell_type": "code",
   "execution_count": 11,
   "metadata": {},
   "outputs": [],
   "source": [
    "AB_users_list = AB_users['userId'].tolist()\n",
    "orders = orders.query('userId not in @AB_users_list')"
   ]
  },
  {
   "cell_type": "markdown",
   "metadata": {},
   "source": [
    "## Приоритизация гипотез"
   ]
  },
  {
   "cell_type": "markdown",
   "metadata": {},
   "source": [
    "### Применим фреймворк ICE для приоритизации гипотез. Отсортируем их по убыванию приоритета."
   ]
  },
  {
   "cell_type": "code",
   "execution_count": 12,
   "metadata": {},
   "outputs": [
    {
     "data": {
      "text/html": [
       "<div>\n",
       "<style scoped>\n",
       "    .dataframe tbody tr th:only-of-type {\n",
       "        vertical-align: middle;\n",
       "    }\n",
       "\n",
       "    .dataframe tbody tr th {\n",
       "        vertical-align: top;\n",
       "    }\n",
       "\n",
       "    .dataframe thead th {\n",
       "        text-align: right;\n",
       "    }\n",
       "</style>\n",
       "<table border=\"1\" class=\"dataframe\">\n",
       "  <thead>\n",
       "    <tr style=\"text-align: right;\">\n",
       "      <th></th>\n",
       "      <th>hypothesis</th>\n",
       "      <th>reach</th>\n",
       "      <th>impact</th>\n",
       "      <th>confidence</th>\n",
       "      <th>efforts</th>\n",
       "      <th>ICE</th>\n",
       "    </tr>\n",
       "  </thead>\n",
       "  <tbody>\n",
       "    <tr>\n",
       "      <th>8</th>\n",
       "      <td>Запустить акцию, дающую скидку на товар в день рождения</td>\n",
       "      <td>1</td>\n",
       "      <td>9</td>\n",
       "      <td>9</td>\n",
       "      <td>5</td>\n",
       "      <td>16.0</td>\n",
       "    </tr>\n",
       "    <tr>\n",
       "      <th>0</th>\n",
       "      <td>Добавить два новых канала привлечения трафика, что позволит привлекать на 30% больше пользователей</td>\n",
       "      <td>3</td>\n",
       "      <td>10</td>\n",
       "      <td>8</td>\n",
       "      <td>6</td>\n",
       "      <td>13.0</td>\n",
       "    </tr>\n",
       "    <tr>\n",
       "      <th>7</th>\n",
       "      <td>Добавить форму подписки на все основные страницы, чтобы собрать базу клиентов для email-рассылок</td>\n",
       "      <td>10</td>\n",
       "      <td>7</td>\n",
       "      <td>8</td>\n",
       "      <td>5</td>\n",
       "      <td>11.0</td>\n",
       "    </tr>\n",
       "    <tr>\n",
       "      <th>6</th>\n",
       "      <td>Показать на главной странице баннеры с актуальными акциями и распродажами, чтобы увеличить конверсию</td>\n",
       "      <td>5</td>\n",
       "      <td>3</td>\n",
       "      <td>8</td>\n",
       "      <td>3</td>\n",
       "      <td>8.0</td>\n",
       "    </tr>\n",
       "    <tr>\n",
       "      <th>2</th>\n",
       "      <td>Добавить блоки рекомендаций товаров на сайт интернет магазина, чтобы повысить конверсию и средний чек заказа</td>\n",
       "      <td>8</td>\n",
       "      <td>3</td>\n",
       "      <td>7</td>\n",
       "      <td>3</td>\n",
       "      <td>7.0</td>\n",
       "    </tr>\n",
       "    <tr>\n",
       "      <th>1</th>\n",
       "      <td>Запустить собственную службу доставки, что сократит срок доставки заказов</td>\n",
       "      <td>2</td>\n",
       "      <td>5</td>\n",
       "      <td>4</td>\n",
       "      <td>10</td>\n",
       "      <td>2.0</td>\n",
       "    </tr>\n",
       "    <tr>\n",
       "      <th>3</th>\n",
       "      <td>Изменить структура категорий, что увеличит конверсию, т.к. пользователи быстрее найдут нужный товар</td>\n",
       "      <td>8</td>\n",
       "      <td>3</td>\n",
       "      <td>3</td>\n",
       "      <td>8</td>\n",
       "      <td>1.0</td>\n",
       "    </tr>\n",
       "    <tr>\n",
       "      <th>4</th>\n",
       "      <td>Изменить цвет фона главной страницы, чтобы увеличить вовлеченность пользователей</td>\n",
       "      <td>3</td>\n",
       "      <td>1</td>\n",
       "      <td>1</td>\n",
       "      <td>1</td>\n",
       "      <td>1.0</td>\n",
       "    </tr>\n",
       "    <tr>\n",
       "      <th>5</th>\n",
       "      <td>Добавить страницу отзывов клиентов о магазине, что позволит увеличить количество заказов</td>\n",
       "      <td>3</td>\n",
       "      <td>2</td>\n",
       "      <td>2</td>\n",
       "      <td>3</td>\n",
       "      <td>1.0</td>\n",
       "    </tr>\n",
       "  </tbody>\n",
       "</table>\n",
       "</div>"
      ],
      "text/plain": [
       "                                                                                                     hypothesis  \\\n",
       "8  Запустить акцию, дающую скидку на товар в день рождения                                                        \n",
       "0  Добавить два новых канала привлечения трафика, что позволит привлекать на 30% больше пользователей             \n",
       "7  Добавить форму подписки на все основные страницы, чтобы собрать базу клиентов для email-рассылок               \n",
       "6  Показать на главной странице баннеры с актуальными акциями и распродажами, чтобы увеличить конверсию           \n",
       "2  Добавить блоки рекомендаций товаров на сайт интернет магазина, чтобы повысить конверсию и средний чек заказа   \n",
       "1  Запустить собственную службу доставки, что сократит срок доставки заказов                                      \n",
       "3  Изменить структура категорий, что увеличит конверсию, т.к. пользователи быстрее найдут нужный товар            \n",
       "4  Изменить цвет фона главной страницы, чтобы увеличить вовлеченность пользователей                               \n",
       "5  Добавить страницу отзывов клиентов о магазине, что позволит увеличить количество заказов                       \n",
       "\n",
       "   reach  impact  confidence  efforts   ICE  \n",
       "8  1      9       9           5        16.0  \n",
       "0  3      10      8           6        13.0  \n",
       "7  10     7       8           5        11.0  \n",
       "6  5      3       8           3        8.0   \n",
       "2  8      3       7           3        7.0   \n",
       "1  2      5       4           10       2.0   \n",
       "3  8      3       3           8        1.0   \n",
       "4  3      1       1           1        1.0   \n",
       "5  3      2       2           3        1.0   "
      ]
     },
     "execution_count": 12,
     "metadata": {},
     "output_type": "execute_result"
    }
   ],
   "source": [
    "hypothesis['ICE'] = round((hypothesis['impact'] * hypothesis['confidence']) / hypothesis['efforts'])\n",
    "hypothesis.sort_values(by='ICE', ascending=False)"
   ]
  },
  {
   "cell_type": "markdown",
   "metadata": {},
   "source": [
    "### Применим фреймворк RICE для приоритизации гипотез. Отсортируем их по убыванию приоритета.  "
   ]
  },
  {
   "cell_type": "code",
   "execution_count": 13,
   "metadata": {},
   "outputs": [
    {
     "data": {
      "text/html": [
       "<div>\n",
       "<style scoped>\n",
       "    .dataframe tbody tr th:only-of-type {\n",
       "        vertical-align: middle;\n",
       "    }\n",
       "\n",
       "    .dataframe tbody tr th {\n",
       "        vertical-align: top;\n",
       "    }\n",
       "\n",
       "    .dataframe thead th {\n",
       "        text-align: right;\n",
       "    }\n",
       "</style>\n",
       "<table border=\"1\" class=\"dataframe\">\n",
       "  <thead>\n",
       "    <tr style=\"text-align: right;\">\n",
       "      <th></th>\n",
       "      <th>hypothesis</th>\n",
       "      <th>reach</th>\n",
       "      <th>impact</th>\n",
       "      <th>confidence</th>\n",
       "      <th>efforts</th>\n",
       "      <th>ICE</th>\n",
       "      <th>RICE</th>\n",
       "    </tr>\n",
       "  </thead>\n",
       "  <tbody>\n",
       "    <tr>\n",
       "      <th>7</th>\n",
       "      <td>Добавить форму подписки на все основные страницы, чтобы собрать базу клиентов для email-рассылок</td>\n",
       "      <td>10</td>\n",
       "      <td>7</td>\n",
       "      <td>8</td>\n",
       "      <td>5</td>\n",
       "      <td>11.0</td>\n",
       "      <td>112.0</td>\n",
       "    </tr>\n",
       "    <tr>\n",
       "      <th>2</th>\n",
       "      <td>Добавить блоки рекомендаций товаров на сайт интернет магазина, чтобы повысить конверсию и средний чек заказа</td>\n",
       "      <td>8</td>\n",
       "      <td>3</td>\n",
       "      <td>7</td>\n",
       "      <td>3</td>\n",
       "      <td>7.0</td>\n",
       "      <td>56.0</td>\n",
       "    </tr>\n",
       "    <tr>\n",
       "      <th>0</th>\n",
       "      <td>Добавить два новых канала привлечения трафика, что позволит привлекать на 30% больше пользователей</td>\n",
       "      <td>3</td>\n",
       "      <td>10</td>\n",
       "      <td>8</td>\n",
       "      <td>6</td>\n",
       "      <td>13.0</td>\n",
       "      <td>40.0</td>\n",
       "    </tr>\n",
       "    <tr>\n",
       "      <th>6</th>\n",
       "      <td>Показать на главной странице баннеры с актуальными акциями и распродажами, чтобы увеличить конверсию</td>\n",
       "      <td>5</td>\n",
       "      <td>3</td>\n",
       "      <td>8</td>\n",
       "      <td>3</td>\n",
       "      <td>8.0</td>\n",
       "      <td>40.0</td>\n",
       "    </tr>\n",
       "    <tr>\n",
       "      <th>8</th>\n",
       "      <td>Запустить акцию, дающую скидку на товар в день рождения</td>\n",
       "      <td>1</td>\n",
       "      <td>9</td>\n",
       "      <td>9</td>\n",
       "      <td>5</td>\n",
       "      <td>16.0</td>\n",
       "      <td>16.2</td>\n",
       "    </tr>\n",
       "    <tr>\n",
       "      <th>3</th>\n",
       "      <td>Изменить структура категорий, что увеличит конверсию, т.к. пользователи быстрее найдут нужный товар</td>\n",
       "      <td>8</td>\n",
       "      <td>3</td>\n",
       "      <td>3</td>\n",
       "      <td>8</td>\n",
       "      <td>1.0</td>\n",
       "      <td>9.0</td>\n",
       "    </tr>\n",
       "    <tr>\n",
       "      <th>1</th>\n",
       "      <td>Запустить собственную службу доставки, что сократит срок доставки заказов</td>\n",
       "      <td>2</td>\n",
       "      <td>5</td>\n",
       "      <td>4</td>\n",
       "      <td>10</td>\n",
       "      <td>2.0</td>\n",
       "      <td>4.0</td>\n",
       "    </tr>\n",
       "    <tr>\n",
       "      <th>5</th>\n",
       "      <td>Добавить страницу отзывов клиентов о магазине, что позволит увеличить количество заказов</td>\n",
       "      <td>3</td>\n",
       "      <td>2</td>\n",
       "      <td>2</td>\n",
       "      <td>3</td>\n",
       "      <td>1.0</td>\n",
       "      <td>4.0</td>\n",
       "    </tr>\n",
       "    <tr>\n",
       "      <th>4</th>\n",
       "      <td>Изменить цвет фона главной страницы, чтобы увеличить вовлеченность пользователей</td>\n",
       "      <td>3</td>\n",
       "      <td>1</td>\n",
       "      <td>1</td>\n",
       "      <td>1</td>\n",
       "      <td>1.0</td>\n",
       "      <td>3.0</td>\n",
       "    </tr>\n",
       "  </tbody>\n",
       "</table>\n",
       "</div>"
      ],
      "text/plain": [
       "                                                                                                     hypothesis  \\\n",
       "7  Добавить форму подписки на все основные страницы, чтобы собрать базу клиентов для email-рассылок               \n",
       "2  Добавить блоки рекомендаций товаров на сайт интернет магазина, чтобы повысить конверсию и средний чек заказа   \n",
       "0  Добавить два новых канала привлечения трафика, что позволит привлекать на 30% больше пользователей             \n",
       "6  Показать на главной странице баннеры с актуальными акциями и распродажами, чтобы увеличить конверсию           \n",
       "8  Запустить акцию, дающую скидку на товар в день рождения                                                        \n",
       "3  Изменить структура категорий, что увеличит конверсию, т.к. пользователи быстрее найдут нужный товар            \n",
       "1  Запустить собственную службу доставки, что сократит срок доставки заказов                                      \n",
       "5  Добавить страницу отзывов клиентов о магазине, что позволит увеличить количество заказов                       \n",
       "4  Изменить цвет фона главной страницы, чтобы увеличить вовлеченность пользователей                               \n",
       "\n",
       "   reach  impact  confidence  efforts   ICE   RICE  \n",
       "7  10     7       8           5        11.0  112.0  \n",
       "2  8      3       7           3        7.0   56.0   \n",
       "0  3      10      8           6        13.0  40.0   \n",
       "6  5      3       8           3        8.0   40.0   \n",
       "8  1      9       9           5        16.0  16.2   \n",
       "3  8      3       3           8        1.0   9.0    \n",
       "1  2      5       4           10       2.0   4.0    \n",
       "5  3      2       2           3        1.0   4.0    \n",
       "4  3      1       1           1        1.0   3.0    "
      ]
     },
     "execution_count": 13,
     "metadata": {},
     "output_type": "execute_result"
    }
   ],
   "source": [
    "hypothesis['RICE'] = hypothesis['reach'] * hypothesis['impact'] * hypothesis['confidence'] / hypothesis['efforts']\n",
    "hypothesis.sort_values(by='RICE', ascending=False)"
   ]
  },
  {
   "cell_type": "markdown",
   "metadata": {},
   "source": [
    "### Как изменилась приоритизация гипотез при применении RICE вместо ICE и почему так произошло.  "
   ]
  },
  {
   "cell_type": "markdown",
   "metadata": {},
   "source": [
    "При применении фреймворка ICE в приорите находились задачи:\n",
    "- №8 Запустить акцию, дающую скидку на товар в день рождения\n",
    "- №0 Добавить два новых канала привлечения трафика, что позволит привлекать на 30% больше пользователей\n",
    "- №7 Добавить форму подписки на все основные страницы, чтобы собрать базу клиентов для email-рассылок\t\n",
    "\n",
    "При применении фрейворка RICE в приоритет вышли такие задачи как:  \n",
    "\n",
    "- №7 Добавить форму подписки на все основные страницы, чтобы собрать базу клиентов для email-рассылок\n",
    "- №2 Добавить блоки рекомендаций товаров на сайт интернет магазина, чтобы повысить конверсию и средний чек заказа\n",
    "- №0 Добавить два новых канала привлечения трафика, что позволит привлекать на 30% больше пользователей\n",
    "\n",
    "Задачи под номером 7 и 2 поднялись в приоритете в связи с тем что имеют высокий показатель охвата (reach), который не учитывается в фреймворке ICE."
   ]
  },
  {
   "cell_type": "markdown",
   "metadata": {},
   "source": [
    "## Анализ A/B-теста"
   ]
  },
  {
   "cell_type": "markdown",
   "metadata": {},
   "source": [
    "### Построим график кумулятивной выручки по группам. Сделаем выводы и предположения."
   ]
  },
  {
   "cell_type": "code",
   "execution_count": 14,
   "metadata": {},
   "outputs": [
    {
     "name": "stdout",
     "output_type": "stream",
     "text": [
      "        date group  orders  buyers  revenue  visitors\n",
      "0 2019-08-01  A     23      19      142779   719     \n",
      "1 2019-08-01  B     17      17      59758    713     \n",
      "2 2019-08-02  A     42      36      234381   1338    \n",
      "3 2019-08-02  B     40      39      221801   1294    \n",
      "4 2019-08-03  A     66      60      346854   1845    \n"
     ]
    }
   ],
   "source": [
    "# создаем массив уникальных пар значений дат и групп теста\n",
    "datesGroups = orders[['date','group']].drop_duplicates()\n",
    "\n",
    "# получаем агрегированные кумулятивные по дням данные о заказах \n",
    "ordersAggregated = datesGroups.apply(lambda x: orders[np.logical_and(orders['date'] <= x['date'], orders['group'] == x['group'])].agg({'date' : 'max', 'group' : 'max', 'orderId' : 'nunique', 'userId' : 'nunique', 'revenue' : 'sum'}), axis=1).sort_values(by=['date','group'])\n",
    "\n",
    "# получаем агрегированные кумулятивные по дням данные о посетителях интернет-магазина \n",
    "visitorsAggregated = datesGroups.apply(lambda x: visitors[np.logical_and(visitors['date'] <= x['date'], visitors['group'] == x['group'])].agg({'date' : 'max', 'group' : 'max', 'visitors' : 'sum'}), axis=1).sort_values(by=['date','group'])\n",
    "\n",
    "# объединяем кумулятивные данные в одной таблице и присваиваем ее столбцам понятные названия\n",
    "cumulativeData = ordersAggregated.merge(visitorsAggregated, left_on=['date', 'group'], right_on=['date', 'group'])\n",
    "cumulativeData.columns = ['date', 'group', 'orders', 'buyers', 'revenue', 'visitors']\n",
    "\n",
    "print(cumulativeData.head(5)) "
   ]
  },
  {
   "cell_type": "code",
   "execution_count": 15,
   "metadata": {},
   "outputs": [
    {
     "data": {
      "image/png": "[encoded data removed]",
      "text/plain": [
       "<Figure size 1080x360 with 1 Axes>"
      ]
     },
     "metadata": {
      "needs_background": "light"
     },
     "output_type": "display_data"
    }
   ],
   "source": [
    "# датафрейм с кумулятивным количеством заказов и кумулятивной выручкой по дням в группе А\n",
    "cumulativeRevenueA = cumulativeData[cumulativeData['group']=='A'][['date','revenue', 'orders']]\n",
    "\n",
    "# датафрейм с кумулятивным количеством заказов и кумулятивной выручкой по дням в группе B\n",
    "cumulativeRevenueB = cumulativeData[cumulativeData['group']=='B'][['date','revenue', 'orders']]\n",
    "\n",
    "# Строим график выручки группы А\n",
    "plt.figure(figsize=(15,5))\n",
    "plt.plot(cumulativeRevenueA['date'], cumulativeRevenueA['revenue'], label='A', linewidth=3)\n",
    "\n",
    "# Строим график выручки группы B\n",
    "plt.plot(cumulativeRevenueB['date'], cumulativeRevenueB['revenue'], label='B', linewidth=3)\n",
    "\n",
    "\n",
    "\n",
    "plt.title('Графики кумулятивной выручки по дням и группам', fontsize=16)\n",
    "plt.xlabel('Дата', fontsize=14) \n",
    "plt.ylabel('Выручка', fontsize=14)\n",
    "plt.legend(fontsize=16)\n",
    "plt.grid()\n",
    "plt.show()"
   ]
  },
  {
   "cell_type": "markdown",
   "metadata": {},
   "source": [
    "**Вывод:** Выручка растёт на протяжении всего теста для обоих групп. С 18.08 по 20.08 резкий скачок выручки в группе B, может быть вызван аномальными заказами (по сумме или кол-ву)."
   ]
  },
  {
   "cell_type": "markdown",
   "metadata": {},
   "source": [
    "### Построим график кумулятивного среднего чека по группам. Сделаем выводы и предположения."
   ]
  },
  {
   "cell_type": "code",
   "execution_count": 16,
   "metadata": {},
   "outputs": [
    {
     "data": {
      "image/png": "[encoded data removed]",
      "text/plain": [
       "<Figure size 1080x360 with 1 Axes>"
      ]
     },
     "metadata": {
      "needs_background": "light"
     },
     "output_type": "display_data"
    }
   ],
   "source": [
    "plt.figure(figsize=(15,5))\n",
    "plt.plot(cumulativeRevenueA['date'], cumulativeRevenueA['revenue']/cumulativeRevenueA['orders'], label='A', linewidth=3)\n",
    "plt.plot(cumulativeRevenueB['date'], cumulativeRevenueB['revenue']/cumulativeRevenueB['orders'], label='B', linewidth=3)\n",
    "plt.title('График кумулятивного среднего чека по группам', fontsize=16)\n",
    "plt.xlabel('Дата', fontsize=14) \n",
    "plt.ylabel('Средний чек', fontsize=14)\n",
    "plt.legend(fontsize=16)\n",
    "plt.grid()\n",
    "plt.show()"
   ]
  },
  {
   "cell_type": "markdown",
   "metadata": {},
   "source": [
    "**Вывод:** Средний чек по группам постепенно растёт и начинает выравниваться к концу теста. С 18.08 по 20.08 резкий скачок среднего чека в группе B, скорее всего в эти даты произошли аномальное дорогие продажи."
   ]
  },
  {
   "cell_type": "markdown",
   "metadata": {},
   "source": [
    "### Построим график относительного изменения кумулятивного среднего чека группы B к группе A. Сделаем выводы и предположения."
   ]
  },
  {
   "cell_type": "code",
   "execution_count": 17,
   "metadata": {},
   "outputs": [
    {
     "data": {
      "image/png": "[encoded data removed]",
      "text/plain": [
       "<Figure size 1080x360 with 1 Axes>"
      ]
     },
     "metadata": {
      "needs_background": "light"
     },
     "output_type": "display_data"
    }
   ],
   "source": [
    "# собираем данные в одном датафрейме\n",
    "mergedCumulativeRevenue = cumulativeRevenueA.merge(cumulativeRevenueB, left_on='date', right_on='date', how='left', suffixes=['A', 'B'])\n",
    "\n",
    "# cтроим отношение средних чеков\n",
    "plt.figure(figsize=(15,5))\n",
    "plt.plot(mergedCumulativeRevenue['date'], (mergedCumulativeRevenue['revenueB']/mergedCumulativeRevenue['ordersB'])/(mergedCumulativeRevenue['revenueA']/mergedCumulativeRevenue['ordersA'])-1, linewidth=3)\n",
    "\n",
    "# добавляем ось X\n",
    "plt.axhline(y=0, color='black', linestyle='--') \n",
    "\n",
    "plt.title('График относительного изменения кумулятивного среднего чека группы B к группе А', fontsize=16)\n",
    "plt.xlabel('Дата', fontsize=14) \n",
    "plt.ylabel('Средний чек', fontsize=14)\n",
    "plt.grid()\n",
    "plt.show()"
   ]
  },
  {
   "cell_type": "markdown",
   "metadata": {},
   "source": [
    "**Вывод:** График не стабильный, скорее всего влияют аномальные продажи."
   ]
  },
  {
   "cell_type": "markdown",
   "metadata": {},
   "source": [
    "### Построим график кумулятивного среднего количества заказов на посетителя по группам. Сделаем выводы и предположения."
   ]
  },
  {
   "cell_type": "code",
   "execution_count": 18,
   "metadata": {},
   "outputs": [
    {
     "data": {
      "image/png": "[encoded data removed]",
      "text/plain": [
       "<Figure size 1080x360 with 1 Axes>"
      ]
     },
     "metadata": {
      "needs_background": "light"
     },
     "output_type": "display_data"
    }
   ],
   "source": [
    "# считаем кумулятивную конверсию\n",
    "cumulativeData['conversion'] = cumulativeData['orders']/cumulativeData['visitors']\n",
    "\n",
    "# отделяем данные по группе A\n",
    "cumulativeDataA = cumulativeData[cumulativeData['group']=='A']\n",
    "\n",
    "# отделяем данные по группе B\n",
    "cumulativeDataB = cumulativeData[cumulativeData['group']=='B']\n",
    "\n",
    "# строим графики\n",
    "plt.figure(figsize=(15,5))\n",
    "plt.plot(cumulativeDataA['date'], cumulativeDataA['conversion'], label='A', linewidth=3)\n",
    "plt.plot(cumulativeDataB['date'], cumulativeDataB['conversion'], label='B', linewidth=3)\n",
    "plt.title('График кумулятивной конверсии', fontsize=16)\n",
    "plt.xlabel('Дата', fontsize=14) \n",
    "plt.ylabel('Конверсия', fontsize=14)\n",
    "plt.legend(fontsize=16)\n",
    "plt.grid()\n",
    "plt.show()"
   ]
  },
  {
   "cell_type": "markdown",
   "metadata": {},
   "source": [
    "**Вывод:** График выравнялся, колебания не значительные, можно сказать что конверсия группы B выше чем у группы А."
   ]
  },
  {
   "cell_type": "markdown",
   "metadata": {},
   "source": [
    "### Построим график относительного изменения кумулятивного среднего количества заказов на посетителя группы B к группе A. Сделаем выводы и предположения."
   ]
  },
  {
   "cell_type": "code",
   "execution_count": 19,
   "metadata": {},
   "outputs": [
    {
     "data": {
      "image/png": "[encoded data removed]",
      "text/plain": [
       "<Figure size 1080x360 with 1 Axes>"
      ]
     },
     "metadata": {
      "needs_background": "light"
     },
     "output_type": "display_data"
    }
   ],
   "source": [
    "mergedCumulativeConversions = cumulativeDataA[['date','conversion']].merge(cumulativeDataB[['date','conversion']], left_on='date', right_on='date', how='left', suffixes=['A', 'B'])\n",
    "\n",
    "plt.figure(figsize=(15,5))\n",
    "plt.plot(mergedCumulativeConversions['date'], mergedCumulativeConversions['conversionB']/mergedCumulativeConversions['conversionA']-1, label=\"Относительный прирост конверсии группы B относительно группы A\", linewidth=3)\n",
    "plt.legend()\n",
    "\n",
    "plt.axhline(y=0, color='black', linestyle='--')\n",
    "plt.axhline(y=0.12, color='grey', linestyle='--')\n",
    "plt.title('График относительного изменения кумулятивных конверсий', fontsize=16)\n",
    "plt.xlabel('Дата', fontsize=14) \n",
    "plt.ylabel('Конверсия', fontsize=14)\n",
    "plt.legend(fontsize=16)\n",
    "plt.grid()\n",
    "plt.show()"
   ]
  },
  {
   "cell_type": "markdown",
   "metadata": {},
   "source": [
    "**Вывод:** В целом график достаточно стабильный, можно сказать что конверсия группы B в среднем выше на ~ 12 %."
   ]
  },
  {
   "cell_type": "markdown",
   "metadata": {},
   "source": [
    "### Построим точечный график количества заказов по пользователям. Сделаем выводы и предположения."
   ]
  },
  {
   "cell_type": "code",
   "execution_count": 20,
   "metadata": {},
   "outputs": [
    {
     "name": "stdout",
     "output_type": "stream",
     "text": [
      "         userId  orders\n",
      "908  3967698036  3     \n",
      "55   249864742   3     \n",
      "478  2108163459  3     \n",
      "687  2988190573  3     \n",
      "890  3908431265  3     \n",
      "138  611059232   3     \n",
      "632  2742574263  3     \n",
      "157  678354126   2     \n",
      "323  1404560065  2     \n",
      "452  1985475298  2     \n"
     ]
    }
   ],
   "source": [
    "ordersByUsers = (\n",
    "    orders.groupby('userId', as_index=False)\n",
    "    .agg({'orderId': 'nunique'})\n",
    ")\n",
    "\n",
    "ordersByUsers.columns = ['userId', 'orders']\n",
    "\n",
    "print(ordersByUsers.sort_values(by='orders', ascending=False).head(10)) "
   ]
  },
  {
   "cell_type": "code",
   "execution_count": 21,
   "metadata": {},
   "outputs": [
    {
     "data": {
      "image/png": "[encoded data removed]",
      "text/plain": [
       "<Figure size 1080x360 with 1 Axes>"
      ]
     },
     "metadata": {
      "needs_background": "light"
     },
     "output_type": "display_data"
    }
   ],
   "source": [
    "x_values = pd.Series(range(0,len(ordersByUsers)))\n",
    "\n",
    "plt.figure(figsize=(15,5))\n",
    "plt.scatter(x_values, ordersByUsers['orders']) \n",
    "plt.title('Точечный график количества заказов по пользователям', fontsize=16)\n",
    "plt.xlabel('Пользователи', fontsize=14) \n",
    "plt.ylabel('Количество заказов', fontsize=14)\n",
    "plt.grid()\n",
    "plt.show()"
   ]
  },
  {
   "cell_type": "markdown",
   "metadata": {},
   "source": [
    "**Вывод:** Преобладающее большинство пользователей совершают от 1 до 2 заказов. Более 2х заказов - крайне редкое явление."
   ]
  },
  {
   "cell_type": "markdown",
   "metadata": {},
   "source": [
    "### Найдём 95-й и 99-й перцентили количества заказов на пользователя. Выберем границу для определения аномальных пользователей."
   ]
  },
  {
   "cell_type": "code",
   "execution_count": 22,
   "metadata": {},
   "outputs": [
    {
     "data": {
      "text/plain": [
       "array([1., 1., 2.])"
      ]
     },
     "execution_count": 22,
     "metadata": {},
     "output_type": "execute_result"
    }
   ],
   "source": [
    "np.percentile(ordersByUsers['orders'], [90, 95, 99])"
   ]
  },
  {
   "cell_type": "markdown",
   "metadata": {},
   "source": [
    "**Вывод:** Только 1% пользователей сделали более 2 заказов. Пользователей сделавших более 2 заказов будем считать аномальными."
   ]
  },
  {
   "cell_type": "markdown",
   "metadata": {},
   "source": [
    "### Построим точечный график стоимостей заказов. Сделаем выводы и предположения."
   ]
  },
  {
   "cell_type": "code",
   "execution_count": 23,
   "metadata": {},
   "outputs": [
    {
     "data": {
      "image/png": "[encoded data removed]",
      "text/plain": [
       "<Figure size 1080x360 with 1 Axes>"
      ]
     },
     "metadata": {
      "needs_background": "light"
     },
     "output_type": "display_data"
    }
   ],
   "source": [
    "x_values = pd.Series(range(0, len(orders['revenue'])))\n",
    "\n",
    "plt.figure(figsize=(15,5))\n",
    "plt.scatter(x_values, orders['revenue']) \n",
    "plt.title('Точечный график стоимостей заказов', fontsize=16)\n",
    "plt.xlabel('Пользователи', fontsize=14) \n",
    "plt.ylabel('Стоимость заказов', fontsize=14)\n",
    "plt.grid()\n",
    "plt.show()"
   ]
  },
  {
   "cell_type": "code",
   "execution_count": 24,
   "metadata": {},
   "outputs": [
    {
     "data": {
      "image/png": "[encoded data removed]",
      "text/plain": [
       "<Figure size 1080x360 with 1 Axes>"
      ]
     },
     "metadata": {
      "needs_background": "light"
     },
     "output_type": "display_data"
    }
   ],
   "source": [
    "x_values = pd.Series(range(0, len(orders['revenue'])))\n",
    "\n",
    "plt.figure(figsize=(15,5))\n",
    "plt.scatter(x_values, orders['revenue']) \n",
    "plt.title('Точечный график стоимостей заказов (до 100 000 р.)', fontsize=16)\n",
    "plt.xlabel('Пользователи', fontsize=14) \n",
    "plt.ylabel('Стоимость заказов', fontsize=14)\n",
    "plt.ylim(0, 100000)\n",
    "plt.grid()\n",
    "plt.show()"
   ]
  },
  {
   "cell_type": "markdown",
   "metadata": {},
   "source": [
    "**Вывод:** Большая часть пользователей оформляет заказы на сумму до 40 000 р."
   ]
  },
  {
   "cell_type": "markdown",
   "metadata": {},
   "source": [
    "### Найдём 95-й и 99-й перцентили стоимости заказов. Выберем границу для определения аномальных заказов."
   ]
  },
  {
   "cell_type": "code",
   "execution_count": 25,
   "metadata": {},
   "outputs": [
    {
     "data": {
      "text/plain": [
       "array([17990., 26785., 53904.])"
      ]
     },
     "execution_count": 25,
     "metadata": {},
     "output_type": "execute_result"
    }
   ],
   "source": [
    "np.percentile(orders['revenue'], [90, 95, 99])"
   ]
  },
  {
   "cell_type": "markdown",
   "metadata": {},
   "source": [
    "**Вывод:** Только 5% пользователей ооформляют заказы стоимостью выше 26 785 р. Будем считать все заказы с суммой выше 27 000р - аномальными."
   ]
  },
  {
   "cell_type": "markdown",
   "metadata": {},
   "source": [
    "### Найдём статистическую значимость различий в среднем количестве заказов на посетителя между группами по «сырым» данным. Сделаем выводы и предположения."
   ]
  },
  {
   "cell_type": "markdown",
   "metadata": {},
   "source": [
    "Подготовим данные:"
   ]
  },
  {
   "cell_type": "code",
   "execution_count": 26,
   "metadata": {},
   "outputs": [
    {
     "data": {
      "text/html": [
       "<div>\n",
       "<style scoped>\n",
       "    .dataframe tbody tr th:only-of-type {\n",
       "        vertical-align: middle;\n",
       "    }\n",
       "\n",
       "    .dataframe tbody tr th {\n",
       "        vertical-align: top;\n",
       "    }\n",
       "\n",
       "    .dataframe thead th {\n",
       "        text-align: right;\n",
       "    }\n",
       "</style>\n",
       "<table border=\"1\" class=\"dataframe\">\n",
       "  <thead>\n",
       "    <tr style=\"text-align: right;\">\n",
       "      <th></th>\n",
       "      <th>date</th>\n",
       "      <th>ordersPerDateA</th>\n",
       "      <th>revenuePerDateA</th>\n",
       "      <th>ordersPerDateB</th>\n",
       "      <th>revenuePerDateB</th>\n",
       "      <th>ordersCummulativeA</th>\n",
       "      <th>revenueCummulativeA</th>\n",
       "      <th>ordersCummulativeB</th>\n",
       "      <th>revenueCummulativeB</th>\n",
       "      <th>visitorsPerDateA</th>\n",
       "      <th>visitorsPerDateB</th>\n",
       "      <th>visitorsCummulativeA</th>\n",
       "      <th>visitorsCummulativeB</th>\n",
       "    </tr>\n",
       "  </thead>\n",
       "  <tbody>\n",
       "    <tr>\n",
       "      <th>0</th>\n",
       "      <td>2019-08-01</td>\n",
       "      <td>23</td>\n",
       "      <td>142779</td>\n",
       "      <td>17</td>\n",
       "      <td>59758</td>\n",
       "      <td>23</td>\n",
       "      <td>142779</td>\n",
       "      <td>17</td>\n",
       "      <td>59758</td>\n",
       "      <td>719</td>\n",
       "      <td>713</td>\n",
       "      <td>719</td>\n",
       "      <td>713</td>\n",
       "    </tr>\n",
       "    <tr>\n",
       "      <th>1</th>\n",
       "      <td>2019-08-02</td>\n",
       "      <td>19</td>\n",
       "      <td>91602</td>\n",
       "      <td>23</td>\n",
       "      <td>162043</td>\n",
       "      <td>42</td>\n",
       "      <td>234381</td>\n",
       "      <td>40</td>\n",
       "      <td>221801</td>\n",
       "      <td>619</td>\n",
       "      <td>581</td>\n",
       "      <td>1338</td>\n",
       "      <td>1294</td>\n",
       "    </tr>\n",
       "    <tr>\n",
       "      <th>2</th>\n",
       "      <td>2019-08-03</td>\n",
       "      <td>24</td>\n",
       "      <td>112473</td>\n",
       "      <td>14</td>\n",
       "      <td>67049</td>\n",
       "      <td>66</td>\n",
       "      <td>346854</td>\n",
       "      <td>54</td>\n",
       "      <td>288850</td>\n",
       "      <td>507</td>\n",
       "      <td>509</td>\n",
       "      <td>1845</td>\n",
       "      <td>1803</td>\n",
       "    </tr>\n",
       "    <tr>\n",
       "      <th>3</th>\n",
       "      <td>2019-08-04</td>\n",
       "      <td>11</td>\n",
       "      <td>41176</td>\n",
       "      <td>14</td>\n",
       "      <td>96890</td>\n",
       "      <td>77</td>\n",
       "      <td>388030</td>\n",
       "      <td>68</td>\n",
       "      <td>385740</td>\n",
       "      <td>717</td>\n",
       "      <td>770</td>\n",
       "      <td>2562</td>\n",
       "      <td>2573</td>\n",
       "    </tr>\n",
       "    <tr>\n",
       "      <th>4</th>\n",
       "      <td>2019-08-05</td>\n",
       "      <td>22</td>\n",
       "      <td>86383</td>\n",
       "      <td>21</td>\n",
       "      <td>89908</td>\n",
       "      <td>99</td>\n",
       "      <td>474413</td>\n",
       "      <td>89</td>\n",
       "      <td>475648</td>\n",
       "      <td>756</td>\n",
       "      <td>707</td>\n",
       "      <td>3318</td>\n",
       "      <td>3280</td>\n",
       "    </tr>\n",
       "  </tbody>\n",
       "</table>\n",
       "</div>"
      ],
      "text/plain": [
       "        date  ordersPerDateA  revenuePerDateA  ordersPerDateB  \\\n",
       "0 2019-08-01  23              142779           17               \n",
       "1 2019-08-02  19              91602            23               \n",
       "2 2019-08-03  24              112473           14               \n",
       "3 2019-08-04  11              41176            14               \n",
       "4 2019-08-05  22              86383            21               \n",
       "\n",
       "   revenuePerDateB  ordersCummulativeA  revenueCummulativeA  \\\n",
       "0  59758            23                  142779                \n",
       "1  162043           42                  234381                \n",
       "2  67049            66                  346854                \n",
       "3  96890            77                  388030                \n",
       "4  89908            99                  474413                \n",
       "\n",
       "   ordersCummulativeB  revenueCummulativeB  visitorsPerDateA  \\\n",
       "0  17                  59758                719                \n",
       "1  40                  221801               619                \n",
       "2  54                  288850               507                \n",
       "3  68                  385740               717                \n",
       "4  89                  475648               756                \n",
       "\n",
       "   visitorsPerDateB  visitorsCummulativeA  visitorsCummulativeB  \n",
       "0  713               719                   713                   \n",
       "1  581               1338                  1294                  \n",
       "2  509               1845                  1803                  \n",
       "3  770               2562                  2573                  \n",
       "4  707               3318                  3280                  "
      ]
     },
     "execution_count": 26,
     "metadata": {},
     "output_type": "execute_result"
    }
   ],
   "source": [
    "visitorsADaily = visitors[visitors['group'] == 'A'][['date', 'visitors']]\n",
    "visitorsADaily.columns = ['date', 'visitorsPerDateA']\n",
    "\n",
    "visitorsACummulative = visitorsADaily.apply(\n",
    "    lambda x: visitorsADaily[visitorsADaily['date'] <= x['date']].agg(\n",
    "        {'date': 'max', 'visitorsPerDateA': 'sum'}\n",
    "    ),\n",
    "    axis=1,\n",
    ")\n",
    "visitorsACummulative.columns = ['date', 'visitorsCummulativeA']\n",
    "\n",
    "visitorsBDaily = visitors[visitors['group'] == 'B'][['date', 'visitors']]\n",
    "visitorsBDaily.columns = ['date', 'visitorsPerDateB']\n",
    "\n",
    "visitorsBCummulative = visitorsBDaily.apply(\n",
    "    lambda x: visitorsBDaily[visitorsBDaily['date'] <= x['date']].agg(\n",
    "        {'date': 'max', 'visitorsPerDateB': 'sum'}\n",
    "    ),\n",
    "    axis=1,\n",
    ")\n",
    "visitorsBCummulative.columns = ['date', 'visitorsCummulativeB']\n",
    "\n",
    "ordersADaily = (\n",
    "    orders[orders['group'] == 'A'][['date', 'orderId', 'userId', 'revenue']]\n",
    "    .groupby('date', as_index=False)\n",
    "    .agg({'orderId': pd.Series.nunique, 'revenue': 'sum'})\n",
    ")\n",
    "ordersADaily.columns = ['date', 'ordersPerDateA', 'revenuePerDateA']\n",
    "\n",
    "ordersACummulative = ordersADaily.apply(\n",
    "    lambda x: ordersADaily[ordersADaily['date'] <= x['date']].agg(\n",
    "        {'date': 'max', 'ordersPerDateA': 'sum', 'revenuePerDateA': 'sum'}\n",
    "    ),\n",
    "    axis=1,\n",
    ").sort_values(by=['date'])\n",
    "ordersACummulative.columns = [\n",
    "    'date',\n",
    "    'ordersCummulativeA',\n",
    "    'revenueCummulativeA',\n",
    "]\n",
    "\n",
    "ordersBDaily = (\n",
    "    orders[orders['group'] == 'B'][['date', 'orderId', 'userId', 'revenue']]\n",
    "    .groupby('date', as_index=False)\n",
    "    .agg({'orderId': pd.Series.nunique, 'revenue': 'sum'})\n",
    ")\n",
    "ordersBDaily.columns = ['date', 'ordersPerDateB', 'revenuePerDateB']\n",
    "\n",
    "ordersBCummulative = ordersBDaily.apply(\n",
    "    lambda x: ordersBDaily[ordersBDaily['date'] <= x['date']].agg(\n",
    "        {'date': 'max', 'ordersPerDateB': 'sum', 'revenuePerDateB': 'sum'}\n",
    "    ),\n",
    "    axis=1,\n",
    ").sort_values(by=['date'])\n",
    "ordersBCummulative.columns = [\n",
    "    'date',\n",
    "    'ordersCummulativeB',\n",
    "    'revenueCummulativeB',\n",
    "]\n",
    "\n",
    "data = (\n",
    "    ordersADaily.merge(\n",
    "        ordersBDaily, left_on='date', right_on='date', how='left'\n",
    "    )\n",
    "    .merge(ordersACummulative, left_on='date', right_on='date', how='left')\n",
    "    .merge(ordersBCummulative, left_on='date', right_on='date', how='left')\n",
    "    .merge(visitorsADaily, left_on='date', right_on='date', how='left')\n",
    "    .merge(visitorsBDaily, left_on='date', right_on='date', how='left')\n",
    "    .merge(visitorsACummulative, left_on='date', right_on='date', how='left')\n",
    "    .merge(visitorsBCummulative, left_on='date', right_on='date', how='left')\n",
    ")\n",
    "\n",
    "data.head(5)"
   ]
  },
  {
   "cell_type": "markdown",
   "metadata": {},
   "source": [
    "Cформулируем гипотезы:\n",
    "\n",
    "H0: Различий в среднем количестве заказов между группами нет   \n",
    "H1: Различия в среднем количестве заказов между группами есть"
   ]
  },
  {
   "cell_type": "code",
   "execution_count": 27,
   "metadata": {},
   "outputs": [
    {
     "name": "stdout",
     "output_type": "stream",
     "text": [
      "p-value: 0.011\n",
      "0.160\n"
     ]
    }
   ],
   "source": [
    "ordersByUsersA = (\n",
    "    orders[orders['group'] == 'A']\n",
    "    .groupby('userId', as_index=False)\n",
    "    .agg({'orderId': pd.Series.nunique})\n",
    ")\n",
    "ordersByUsersA.columns = ['userId', 'orders']\n",
    "\n",
    "ordersByUsersB = (\n",
    "    orders[orders['group'] == 'B']\n",
    "    .groupby('userId', as_index=False)\n",
    "    .agg({'orderId': pd.Series.nunique})\n",
    ")\n",
    "ordersByUsersB.columns = ['userId', 'orders']\n",
    "\n",
    "sampleA = pd.concat(\n",
    "    [\n",
    "        ordersByUsersA['orders'],\n",
    "        pd.Series(\n",
    "            0,\n",
    "            index=np.arange(\n",
    "                data['visitorsPerDateA'].sum() - len(ordersByUsersA['orders'])\n",
    "            ),\n",
    "            name='orders',\n",
    "        ),\n",
    "    ],\n",
    "    axis=0,\n",
    ")\n",
    "\n",
    "sampleB = pd.concat(\n",
    "    [\n",
    "        ordersByUsersB['orders'],\n",
    "        pd.Series(\n",
    "            0,\n",
    "            index=np.arange(\n",
    "                data['visitorsPerDateB'].sum() - len(ordersByUsersB['orders'])\n",
    "            ),\n",
    "            name='orders',\n",
    "        ),\n",
    "    ],\n",
    "    axis=0,\n",
    ")\n",
    "\n",
    "print('p-value:', \"{0:.3f}\".format(stats.mannwhitneyu(sampleA, sampleB)[1]))\n",
    "\n",
    "print(\"{0:.3f}\".format(sampleB.mean() / sampleA.mean() - 1))"
   ]
  },
  {
   "cell_type": "markdown",
   "metadata": {},
   "source": [
    "**Вывод:** Нулевая гипотеза не подтвердилась, p-value ниже 0,05 => По сырым данным есть отличие в конверсии между группами (~13%)."
   ]
  },
  {
   "cell_type": "markdown",
   "metadata": {},
   "source": [
    "### Найдём статистическую значимость различий в среднем чеке заказа между группами по «сырым» данным. Сделаем выводы и предположения."
   ]
  },
  {
   "cell_type": "markdown",
   "metadata": {},
   "source": [
    "Cформулируем гипотезы:\n",
    "\n",
    "H0: Различий в среднем чеке между группами нет    \n",
    "H1: Различия в среднем чеке между группами есть  "
   ]
  },
  {
   "cell_type": "code",
   "execution_count": 28,
   "metadata": {},
   "outputs": [
    {
     "name": "stdout",
     "output_type": "stream",
     "text": [
      "p-value: 0.829\n",
      "0.287\n"
     ]
    }
   ],
   "source": [
    "print('p-value:', '{0:.3f}'.format(stats.mannwhitneyu(orders[orders['group']=='A']['revenue'], orders[orders['group']=='B']['revenue'])[1]))\n",
    "print('{0:.3f}'.format(orders[orders['group']=='B']['revenue'].mean()/orders[orders['group']=='A']['revenue'].mean()-1)) "
   ]
  },
  {
   "cell_type": "markdown",
   "metadata": {},
   "source": [
    "**Вывод:** Нулевая гипотеза подтвердилась, p-value выше 0,05 => По сырым данным, различий в среднем чеке между группами нет. Наблюдаемое различие в 28.7% не является статистически значимым."
   ]
  },
  {
   "cell_type": "markdown",
   "metadata": {},
   "source": [
    "### Найдём статистическую значимость различий в среднем количестве заказов на посетителя между группами по «очищенным» данным. Сделаем выводы и предположения."
   ]
  },
  {
   "cell_type": "markdown",
   "metadata": {},
   "source": [
    "Узнаем сколько всего аномальных пользователей:"
   ]
  },
  {
   "cell_type": "code",
   "execution_count": 29,
   "metadata": {},
   "outputs": [
    {
     "name": "stdout",
     "output_type": "stream",
     "text": [
      "568     113298937\n",
      "1099    148427295\n",
      "928     204675465\n",
      "33      249864742\n",
      "684     358944393\n",
      "Name: userId, dtype: int64\n",
      "58\n"
     ]
    }
   ],
   "source": [
    "usersWithManyOrders = pd.concat(\n",
    "    [\n",
    "        ordersByUsersA[ordersByUsersA['orders'] > 2]['userId'],\n",
    "        ordersByUsersB[ordersByUsersB['orders'] > 2]['userId'],\n",
    "    ],\n",
    "    axis=0,\n",
    ")\n",
    "revenue_lim = 27000\n",
    "usersWithExpensiveOrders = orders[orders['revenue'] > revenue_lim]['userId']\n",
    "abnormalUsers = (\n",
    "    pd.concat([usersWithManyOrders, usersWithExpensiveOrders], axis=0)\n",
    "    .drop_duplicates()\n",
    "    .sort_values()\n",
    ")\n",
    "print(abnormalUsers.head(5))\n",
    "print(abnormalUsers.shape[0]) "
   ]
  },
  {
   "cell_type": "code",
   "execution_count": 30,
   "metadata": {},
   "outputs": [],
   "source": [
    "sampleAFiltered = pd.concat(\n",
    "    [\n",
    "        ordersByUsersA[\n",
    "            np.logical_not(ordersByUsersA['userId'].isin(abnormalUsers))\n",
    "        ]['orders'],\n",
    "        pd.Series(\n",
    "            0,\n",
    "            index=np.arange(\n",
    "                data['visitorsPerDateA'].sum() - len(ordersByUsersA['orders'])\n",
    "            ),\n",
    "            name='orders',\n",
    "        ),\n",
    "    ],\n",
    "    axis=0,\n",
    ")\n",
    "\n",
    "sampleBFiltered = pd.concat(\n",
    "    [\n",
    "        ordersByUsersB[\n",
    "            np.logical_not(ordersByUsersB['userId'].isin(abnormalUsers))\n",
    "        ]['orders'],\n",
    "        pd.Series(\n",
    "            0,\n",
    "            index=np.arange(\n",
    "                data['visitorsPerDateB'].sum() - len(ordersByUsersB['orders'])\n",
    "            ),\n",
    "            name='orders',\n",
    "        ),\n",
    "    ],\n",
    "    axis=0,\n",
    ") "
   ]
  },
  {
   "cell_type": "markdown",
   "metadata": {},
   "source": [
    "Cформулируем гипотезы:\n",
    "\n",
    "H0: Различий в среднем количестве заказов между группами нет   \n",
    "H1: Различия в среднем количестве заказов между группами есть"
   ]
  },
  {
   "cell_type": "code",
   "execution_count": 31,
   "metadata": {},
   "outputs": [
    {
     "name": "stdout",
     "output_type": "stream",
     "text": [
      "p-value: 0.012\n",
      "0.182\n"
     ]
    }
   ],
   "source": [
    "print('p-value:', '{0:.3f}'.format(stats.mannwhitneyu(sampleAFiltered, sampleBFiltered)[1]))\n",
    "print('{0:.3f}'.format(sampleBFiltered.mean()/sampleAFiltered.mean()-1)) "
   ]
  },
  {
   "cell_type": "markdown",
   "metadata": {},
   "source": [
    "**Вывод:** Нулевая гипотеза не подтвердилась, p-value ниже 0,05 => По очищенным данным есть отличие в конверсии между группами (~17%)."
   ]
  },
  {
   "cell_type": "markdown",
   "metadata": {},
   "source": [
    "### Найдём статистическую значимость различий в среднем чеке заказа между группами по «очищенным» данным. Сделаем выводы и предположения."
   ]
  },
  {
   "cell_type": "markdown",
   "metadata": {},
   "source": [
    "Cформулируем гипотезы:\n",
    "\n",
    "H0: Различий в среднем чеке между группами нет    \n",
    "H1: Различия в среднем чеке между группами есть  "
   ]
  },
  {
   "cell_type": "code",
   "execution_count": 32,
   "metadata": {},
   "outputs": [
    {
     "name": "stdout",
     "output_type": "stream",
     "text": [
      "p-value: 0.646\n",
      "-0.048\n"
     ]
    }
   ],
   "source": [
    "print('p-value:',\n",
    "    '{0:.3f}'.format(\n",
    "        stats.mannwhitneyu(\n",
    "            orders[\n",
    "                np.logical_and(\n",
    "                    orders['group'] == 'A',\n",
    "                    np.logical_not(orders['userId'].isin(abnormalUsers)),\n",
    "                )\n",
    "            ]['revenue'],\n",
    "            orders[\n",
    "                np.logical_and(\n",
    "                    orders['group'] == 'B',\n",
    "                    np.logical_not(orders['userId'].isin(abnormalUsers)),\n",
    "                )\n",
    "            ]['revenue'],\n",
    "        )[1]\n",
    "    )\n",
    ")\n",
    "\n",
    "print(\n",
    "    \"{0:.3f}\".format(\n",
    "        orders[\n",
    "            np.logical_and(\n",
    "                orders['group'] == 'B',\n",
    "                np.logical_not(orders['userId'].isin(abnormalUsers)),\n",
    "            )\n",
    "        ]['revenue'].mean()\n",
    "        / orders[\n",
    "            np.logical_and(\n",
    "                orders['group'] == 'A',\n",
    "                np.logical_not(orders['userId'].isin(abnormalUsers)),\n",
    "            )\n",
    "        ]['revenue'].mean()\n",
    "        - 1\n",
    "    )\n",
    ") "
   ]
  },
  {
   "cell_type": "markdown",
   "metadata": {},
   "source": [
    "**Вывод:** Нулевая гипотеза подтвердилась, p-value выше 0,05 => По очищенным данным, различий в среднем чеке между группами нет. Без аномальных заказов относительная разница в среднем чеке пропала."
   ]
  },
  {
   "cell_type": "markdown",
   "metadata": {},
   "source": [
    "### Принятие решения по результатам теста."
   ]
  },
  {
   "cell_type": "markdown",
   "metadata": {},
   "source": [
    "**Решение:** Графики относительно стабильны, продолжать наблюдения смысла нет. Тест остановить и зафиксировать победу группы **B** по конверсии. В среднем чеке различий нет."
   ]
  },
  {
   "cell_type": "markdown",
   "metadata": {},
   "source": [
    "## Итоговый вывод"
   ]
  },
  {
   "cell_type": "markdown",
   "metadata": {},
   "source": [
    "**Предобработка данных**\n",
    "\n",
    "На этапе предобработки были проверены исходные данные на пропуски, дубликаты. Приведены к нижнему регистру названия столбцов в датафрейме hypothesis. Изменены названия столбцов в таблице orders. Преобразованы данные о времени.\n",
    "\n",
    "\n",
    "**Приоритизация гипотез**  \n",
    "\n",
    "При применении фреймворка ICE в приорите находились задачи:\n",
    "- №8 Запустить акцию, дающую скидку на товар в день рождения\n",
    "- №0 Добавить два новых канала привлечения трафика, что позволит привлекать на 30% больше пользователей\n",
    "- №7 Добавить форму подписки на все основные страницы, чтобы собрать базу клиентов для email-рассылок\t\n",
    "\n",
    "При применении фрейворка RICE в приоритет вышли такие задачи как:  \n",
    "\n",
    "- №7 Добавить форму подписки на все основные страницы, чтобы собрать базу клиентов для email-рассылок\n",
    "- №2 Добавить блоки рекомендаций товаров на сайт интернет магазина, чтобы повысить конверсию и средний чек заказа\n",
    "- №0 Добавить два новых канала привлечения трафика, что позволит привлекать на 30% больше пользователей\n",
    "\n",
    "Задачи под номером 7 и 2 поднялись в приоритете в связи с тем что имеют высокий показатель охвата (reach), который не учитывается в фреймворке ICE.\n",
    "\n",
    "**Анализ A/B-теста**\n",
    "\n",
    "Кумулятивные метрики:\n",
    "- Выручка растёт на протяжении всего теста для обоих групп. С 18.08 по 20.08 резкий скачок выручки в группе B.\n",
    "- Средний чек по группам постепенно растёт и начинает выравниваться к концу теста. С 18.08 по 20.08 резкий скачок среднего чека в группе B.\n",
    "- Конверсия группы B в среднем выше на ~ 12 %.  \n",
    "\n",
    "Только 5% пользователей сделали более 2 заказов и только 5% пользователей ооформляют заказы с стоиомстью выше 28 000 р. Пользователей оформивших более 3х заказов и заказы с стоимостью выше 28 000 в даннном тесте будем считать аномальными.\n",
    "\n",
    "Проверка гипотез:  \n",
    "- По сырым и очищенным данным есть отличие в конверсии между группами (~13% и ~17% соответственно).\n",
    "- По сырым и очищенным данным различий в среднем чеке между группами нет.\n",
    "\n",
    "**Принятие решения по результатам теста:**   \n",
    "Статистическо значимой разницы по среднему чеку не обнаруженно. При выросшем кол-ве заказов с сохранившимся средним чеком выручка будет так же расти. Тест считаем успешным и завершаем. Различия между грууппами есть только в конверсии, группа B показывает лучшую конверсию как по сырым так и по очищенным данным => принимаем группу B за победившую."
   ]
  }
 ],
 "metadata": {
  "ExecuteTimeLog": [
   {
    "duration": 24,
    "start_time": "2023-09-25T12:07:30.482Z"
   },
   {
    "duration": 3,
    "start_time": "2023-09-25T12:07:46.308Z"
   },
   {
    "duration": 3,
    "start_time": "2023-09-25T12:08:02.980Z"
   },
   {
    "duration": 3,
    "start_time": "2023-09-25T12:11:19.959Z"
   },
   {
    "duration": 2,
    "start_time": "2023-09-25T12:14:35.593Z"
   },
   {
    "duration": 1480,
    "start_time": "2023-09-25T12:19:03.848Z"
   },
   {
    "duration": 3,
    "start_time": "2023-09-25T12:20:16.581Z"
   },
   {
    "duration": 3,
    "start_time": "2023-09-25T12:20:18.556Z"
   },
   {
    "duration": 219,
    "start_time": "2023-09-25T12:21:09.734Z"
   },
   {
    "duration": 36,
    "start_time": "2023-09-25T12:21:21.999Z"
   },
   {
    "duration": 44,
    "start_time": "2023-09-25T12:21:29.029Z"
   },
   {
    "duration": 28,
    "start_time": "2023-09-25T12:21:32.941Z"
   },
   {
    "duration": 27,
    "start_time": "2023-09-25T12:21:52.077Z"
   },
   {
    "duration": 22,
    "start_time": "2023-09-25T12:22:04.765Z"
   },
   {
    "duration": 31,
    "start_time": "2023-09-25T12:24:21.767Z"
   },
   {
    "duration": 30,
    "start_time": "2023-09-25T12:24:30.038Z"
   },
   {
    "duration": 26,
    "start_time": "2023-09-25T12:24:41.350Z"
   },
   {
    "duration": 25,
    "start_time": "2023-09-25T12:24:47.175Z"
   },
   {
    "duration": 19,
    "start_time": "2023-09-25T12:25:07.462Z"
   },
   {
    "duration": 21,
    "start_time": "2023-09-25T12:25:10.646Z"
   },
   {
    "duration": 23,
    "start_time": "2023-09-25T12:25:13.794Z"
   },
   {
    "duration": 108,
    "start_time": "2023-09-25T12:26:31.352Z"
   },
   {
    "duration": 79,
    "start_time": "2023-09-25T12:26:34.620Z"
   },
   {
    "duration": 17,
    "start_time": "2023-09-25T12:26:36.417Z"
   },
   {
    "duration": 80,
    "start_time": "2023-09-25T12:26:44.768Z"
   },
   {
    "duration": 23,
    "start_time": "2023-09-25T12:26:47.249Z"
   },
   {
    "duration": 20,
    "start_time": "2023-09-25T12:26:56.000Z"
   },
   {
    "duration": 4,
    "start_time": "2023-09-25T12:31:43.547Z"
   },
   {
    "duration": 4,
    "start_time": "2023-09-25T12:32:00.579Z"
   },
   {
    "duration": 4,
    "start_time": "2023-09-25T12:32:11.539Z"
   },
   {
    "duration": 11,
    "start_time": "2023-09-25T12:32:15.931Z"
   },
   {
    "duration": 74,
    "start_time": "2023-09-25T12:33:39.069Z"
   },
   {
    "duration": 6,
    "start_time": "2023-09-25T12:36:18.157Z"
   },
   {
    "duration": 8,
    "start_time": "2023-09-25T12:36:20.286Z"
   },
   {
    "duration": 10,
    "start_time": "2023-09-25T12:36:23.894Z"
   },
   {
    "duration": 10,
    "start_time": "2023-09-25T12:36:44.334Z"
   },
   {
    "duration": 15,
    "start_time": "2023-09-25T12:36:50.846Z"
   },
   {
    "duration": 18,
    "start_time": "2023-09-25T12:36:58.916Z"
   },
   {
    "duration": 12,
    "start_time": "2023-09-25T12:37:07.958Z"
   },
   {
    "duration": 16,
    "start_time": "2023-09-25T12:37:13.191Z"
   },
   {
    "duration": 1280,
    "start_time": "2023-09-25T12:37:59.187Z"
   },
   {
    "duration": 85,
    "start_time": "2023-09-25T12:38:00.469Z"
   },
   {
    "duration": 25,
    "start_time": "2023-09-25T12:38:00.556Z"
   },
   {
    "duration": 87,
    "start_time": "2023-09-25T12:38:00.583Z"
   },
   {
    "duration": 64,
    "start_time": "2023-09-25T12:38:00.674Z"
   },
   {
    "duration": 34,
    "start_time": "2023-09-25T12:38:00.741Z"
   },
   {
    "duration": 70,
    "start_time": "2023-09-25T12:38:00.777Z"
   },
   {
    "duration": 7,
    "start_time": "2023-09-25T12:39:09.528Z"
   },
   {
    "duration": 113,
    "start_time": "2023-09-25T12:43:01.285Z"
   },
   {
    "duration": 12,
    "start_time": "2023-09-25T12:43:16.794Z"
   },
   {
    "duration": 13,
    "start_time": "2023-09-25T12:43:32.818Z"
   },
   {
    "duration": 5,
    "start_time": "2023-09-25T12:43:39.722Z"
   },
   {
    "duration": 12,
    "start_time": "2023-09-25T12:43:47.946Z"
   },
   {
    "duration": 6,
    "start_time": "2023-09-25T12:44:08.506Z"
   },
   {
    "duration": 5,
    "start_time": "2023-09-25T12:44:11.210Z"
   },
   {
    "duration": 19,
    "start_time": "2023-09-25T12:44:15.139Z"
   },
   {
    "duration": 14,
    "start_time": "2023-09-25T12:44:33.114Z"
   },
   {
    "duration": 14,
    "start_time": "2023-09-25T12:45:19.828Z"
   },
   {
    "duration": 6,
    "start_time": "2023-09-25T13:31:41.155Z"
   },
   {
    "duration": 6,
    "start_time": "2023-09-25T13:31:43.584Z"
   },
   {
    "duration": 29,
    "start_time": "2023-09-25T13:31:56.290Z"
   },
   {
    "duration": 1240,
    "start_time": "2023-09-25T13:32:03.035Z"
   },
   {
    "duration": 81,
    "start_time": "2023-09-25T13:32:04.278Z"
   },
   {
    "duration": 23,
    "start_time": "2023-09-25T13:32:04.361Z"
   },
   {
    "duration": 53,
    "start_time": "2023-09-25T13:32:04.385Z"
   },
   {
    "duration": 30,
    "start_time": "2023-09-25T13:32:04.442Z"
   },
   {
    "duration": 90,
    "start_time": "2023-09-25T13:32:04.474Z"
   },
   {
    "duration": 13,
    "start_time": "2023-09-25T13:32:04.568Z"
   },
   {
    "duration": 11,
    "start_time": "2023-09-25T13:32:04.583Z"
   },
   {
    "duration": 18,
    "start_time": "2023-09-25T13:32:04.597Z"
   },
   {
    "duration": 16,
    "start_time": "2023-09-25T13:32:16.327Z"
   },
   {
    "duration": 8,
    "start_time": "2023-09-25T13:42:15.663Z"
   },
   {
    "duration": 9,
    "start_time": "2023-09-25T13:42:17.686Z"
   },
   {
    "duration": 144,
    "start_time": "2023-09-25T13:42:32.014Z"
   },
   {
    "duration": 8,
    "start_time": "2023-09-25T13:45:08.572Z"
   },
   {
    "duration": 5,
    "start_time": "2023-09-25T13:45:40.464Z"
   },
   {
    "duration": 1246,
    "start_time": "2023-09-25T13:46:13.114Z"
   },
   {
    "duration": 81,
    "start_time": "2023-09-25T13:46:14.363Z"
   },
   {
    "duration": 22,
    "start_time": "2023-09-25T13:46:14.446Z"
   },
   {
    "duration": 24,
    "start_time": "2023-09-25T13:46:14.470Z"
   },
   {
    "duration": 32,
    "start_time": "2023-09-25T13:46:14.496Z"
   },
   {
    "duration": 20,
    "start_time": "2023-09-25T13:46:14.530Z"
   },
   {
    "duration": 26,
    "start_time": "2023-09-25T13:46:14.552Z"
   },
   {
    "duration": 6,
    "start_time": "2023-09-25T13:46:14.580Z"
   },
   {
    "duration": 26,
    "start_time": "2023-09-25T13:46:14.587Z"
   },
   {
    "duration": 27,
    "start_time": "2023-09-25T13:46:14.615Z"
   },
   {
    "duration": 312,
    "start_time": "2023-09-25T13:46:14.644Z"
   },
   {
    "duration": 292,
    "start_time": "2023-09-25T13:47:03.448Z"
   },
   {
    "duration": 337,
    "start_time": "2023-09-25T13:47:28.178Z"
   },
   {
    "duration": 259,
    "start_time": "2023-09-25T13:47:36.219Z"
   },
   {
    "duration": 229,
    "start_time": "2023-09-25T13:47:44.354Z"
   },
   {
    "duration": 267,
    "start_time": "2023-09-25T13:49:16.995Z"
   },
   {
    "duration": 263,
    "start_time": "2023-09-25T13:49:30.788Z"
   },
   {
    "duration": 245,
    "start_time": "2023-09-25T13:49:40.114Z"
   },
   {
    "duration": 244,
    "start_time": "2023-09-25T13:49:47.538Z"
   },
   {
    "duration": 331,
    "start_time": "2023-09-25T13:49:51.980Z"
   },
   {
    "duration": 237,
    "start_time": "2023-09-25T13:50:25.764Z"
   },
   {
    "duration": 235,
    "start_time": "2023-09-25T13:51:31.301Z"
   },
   {
    "duration": 249,
    "start_time": "2023-09-25T13:51:35.756Z"
   },
   {
    "duration": 234,
    "start_time": "2023-09-25T13:51:40.780Z"
   },
   {
    "duration": 240,
    "start_time": "2023-09-25T13:51:47.019Z"
   },
   {
    "duration": 237,
    "start_time": "2023-09-25T13:51:56.195Z"
   },
   {
    "duration": 243,
    "start_time": "2023-09-25T13:52:01.171Z"
   },
   {
    "duration": 334,
    "start_time": "2023-09-25T13:52:19.563Z"
   },
   {
    "duration": 250,
    "start_time": "2023-09-25T13:52:24.132Z"
   },
   {
    "duration": 252,
    "start_time": "2023-09-25T13:52:37.755Z"
   },
   {
    "duration": 396,
    "start_time": "2023-09-25T13:53:08.404Z"
   },
   {
    "duration": 240,
    "start_time": "2023-09-25T13:53:12.397Z"
   },
   {
    "duration": 254,
    "start_time": "2023-09-25T13:53:15.605Z"
   },
   {
    "duration": 236,
    "start_time": "2023-09-25T13:53:19.366Z"
   },
   {
    "duration": 255,
    "start_time": "2023-09-25T13:53:24.044Z"
   },
   {
    "duration": 263,
    "start_time": "2023-09-25T13:53:29.397Z"
   },
   {
    "duration": 251,
    "start_time": "2023-09-25T13:53:39.669Z"
   },
   {
    "duration": 227,
    "start_time": "2023-09-25T13:55:02.986Z"
   },
   {
    "duration": 224,
    "start_time": "2023-09-25T13:55:18.701Z"
   },
   {
    "duration": 239,
    "start_time": "2023-09-25T13:55:31.850Z"
   },
   {
    "duration": 274,
    "start_time": "2023-09-25T13:56:26.282Z"
   },
   {
    "duration": 359,
    "start_time": "2023-09-25T13:56:41.927Z"
   },
   {
    "duration": 308,
    "start_time": "2023-09-25T13:57:35.655Z"
   },
   {
    "duration": 345,
    "start_time": "2023-09-25T13:57:53.650Z"
   },
   {
    "duration": 354,
    "start_time": "2023-09-25T13:57:58.407Z"
   },
   {
    "duration": 372,
    "start_time": "2023-09-25T13:58:06.811Z"
   },
   {
    "duration": 314,
    "start_time": "2023-09-25T13:58:34.181Z"
   },
   {
    "duration": 349,
    "start_time": "2023-09-25T13:59:12.918Z"
   },
   {
    "duration": 3,
    "start_time": "2023-09-25T14:01:40.866Z"
   },
   {
    "duration": 242,
    "start_time": "2023-09-25T14:25:21.301Z"
   },
   {
    "duration": 226,
    "start_time": "2023-09-25T14:25:28.455Z"
   },
   {
    "duration": 271,
    "start_time": "2023-09-25T14:26:29.192Z"
   },
   {
    "duration": 261,
    "start_time": "2023-09-25T14:26:58.023Z"
   },
   {
    "duration": 383,
    "start_time": "2023-09-25T14:27:15.233Z"
   },
   {
    "duration": 373,
    "start_time": "2023-09-25T14:27:40.440Z"
   },
   {
    "duration": 331,
    "start_time": "2023-09-25T14:27:46.017Z"
   },
   {
    "duration": 344,
    "start_time": "2023-09-25T14:27:59.089Z"
   },
   {
    "duration": 339,
    "start_time": "2023-09-25T14:28:03.568Z"
   },
   {
    "duration": 329,
    "start_time": "2023-09-25T14:28:14.376Z"
   },
   {
    "duration": 375,
    "start_time": "2023-09-25T14:28:26.617Z"
   },
   {
    "duration": 391,
    "start_time": "2023-09-25T14:28:34.449Z"
   },
   {
    "duration": 396,
    "start_time": "2023-09-25T14:28:41.922Z"
   },
   {
    "duration": 378,
    "start_time": "2023-09-25T14:29:01.505Z"
   },
   {
    "duration": 382,
    "start_time": "2023-09-25T14:29:41.522Z"
   },
   {
    "duration": 399,
    "start_time": "2023-09-25T14:29:59.658Z"
   },
   {
    "duration": 14,
    "start_time": "2023-09-25T14:33:26.140Z"
   },
   {
    "duration": 10,
    "start_time": "2023-09-25T14:33:52.316Z"
   },
   {
    "duration": 10,
    "start_time": "2023-09-25T14:34:09.484Z"
   },
   {
    "duration": 259,
    "start_time": "2023-09-25T14:34:23.749Z"
   },
   {
    "duration": 149,
    "start_time": "2023-09-25T14:34:34.837Z"
   },
   {
    "duration": 180,
    "start_time": "2023-09-25T14:34:56.061Z"
   },
   {
    "duration": 173,
    "start_time": "2023-09-25T14:35:02.958Z"
   },
   {
    "duration": 173,
    "start_time": "2023-09-25T14:36:06.349Z"
   },
   {
    "duration": 6,
    "start_time": "2023-09-25T14:43:04.409Z"
   },
   {
    "duration": 10,
    "start_time": "2023-09-25T15:28:09.781Z"
   },
   {
    "duration": 13,
    "start_time": "2023-09-25T15:29:05.744Z"
   },
   {
    "duration": 198,
    "start_time": "2023-09-25T15:29:12.093Z"
   },
   {
    "duration": 12,
    "start_time": "2023-09-25T15:31:14.111Z"
   },
   {
    "duration": 144,
    "start_time": "2023-09-25T15:31:24.704Z"
   },
   {
    "duration": 189,
    "start_time": "2023-09-25T15:31:36.854Z"
   },
   {
    "duration": 185,
    "start_time": "2023-09-25T15:32:06.039Z"
   },
   {
    "duration": 215,
    "start_time": "2023-09-25T15:32:22.711Z"
   },
   {
    "duration": 11,
    "start_time": "2023-09-25T15:33:54.156Z"
   },
   {
    "duration": 5,
    "start_time": "2023-09-25T15:34:02.103Z"
   },
   {
    "duration": 7,
    "start_time": "2023-09-25T15:34:12.486Z"
   },
   {
    "duration": 229,
    "start_time": "2023-09-25T15:37:22.484Z"
   },
   {
    "duration": 240,
    "start_time": "2023-09-25T15:37:25.714Z"
   },
   {
    "duration": 214,
    "start_time": "2023-09-25T15:37:54.714Z"
   },
   {
    "duration": 164,
    "start_time": "2023-09-25T15:37:59.402Z"
   },
   {
    "duration": 13,
    "start_time": "2023-09-25T15:38:46.537Z"
   },
   {
    "duration": 263,
    "start_time": "2023-09-25T15:45:09.544Z"
   },
   {
    "duration": 69,
    "start_time": "2023-09-25T15:49:31.601Z"
   },
   {
    "duration": 11,
    "start_time": "2023-09-25T15:49:37.609Z"
   },
   {
    "duration": 10,
    "start_time": "2023-09-25T15:50:03.337Z"
   },
   {
    "duration": 10,
    "start_time": "2023-09-25T15:50:04.802Z"
   },
   {
    "duration": 27,
    "start_time": "2023-09-25T15:50:10.521Z"
   },
   {
    "duration": 32,
    "start_time": "2023-09-25T15:50:17.962Z"
   },
   {
    "duration": 10,
    "start_time": "2023-09-25T15:51:21.033Z"
   },
   {
    "duration": 11,
    "start_time": "2023-09-25T15:51:26.971Z"
   },
   {
    "duration": 40,
    "start_time": "2023-09-25T15:51:29.690Z"
   },
   {
    "duration": 18,
    "start_time": "2023-09-25T15:53:03.500Z"
   },
   {
    "duration": 1231,
    "start_time": "2023-09-25T16:02:44.085Z"
   },
   {
    "duration": 80,
    "start_time": "2023-09-25T16:02:45.319Z"
   },
   {
    "duration": 26,
    "start_time": "2023-09-25T16:02:45.401Z"
   },
   {
    "duration": 23,
    "start_time": "2023-09-25T16:02:45.430Z"
   },
   {
    "duration": 20,
    "start_time": "2023-09-25T16:02:45.454Z"
   },
   {
    "duration": 4,
    "start_time": "2023-09-25T16:02:45.475Z"
   },
   {
    "duration": 10,
    "start_time": "2023-09-25T16:02:45.480Z"
   },
   {
    "duration": 4,
    "start_time": "2023-09-25T16:02:45.492Z"
   },
   {
    "duration": 15,
    "start_time": "2023-09-25T16:02:45.498Z"
   },
   {
    "duration": 50,
    "start_time": "2023-09-25T16:02:45.516Z"
   },
   {
    "duration": 323,
    "start_time": "2023-09-25T16:02:45.568Z"
   },
   {
    "duration": 335,
    "start_time": "2023-09-25T16:02:45.893Z"
   },
   {
    "duration": 262,
    "start_time": "2023-09-25T16:02:46.230Z"
   },
   {
    "duration": 329,
    "start_time": "2023-09-25T16:02:46.495Z"
   },
   {
    "duration": 280,
    "start_time": "2023-09-25T16:02:46.826Z"
   },
   {
    "duration": 395,
    "start_time": "2023-09-25T16:02:47.108Z"
   },
   {
    "duration": 12,
    "start_time": "2023-09-25T16:02:47.505Z"
   },
   {
    "duration": 192,
    "start_time": "2023-09-25T16:02:47.519Z"
   },
   {
    "duration": 6,
    "start_time": "2023-09-25T16:02:47.714Z"
   },
   {
    "duration": 197,
    "start_time": "2023-09-25T16:02:47.722Z"
   },
   {
    "duration": 6,
    "start_time": "2023-09-25T16:02:47.921Z"
   },
   {
    "duration": 279,
    "start_time": "2023-09-25T16:02:47.928Z"
   },
   {
    "duration": 198,
    "start_time": "2023-09-25T16:02:48.209Z"
   },
   {
    "duration": 12,
    "start_time": "2023-09-25T16:02:48.408Z"
   },
   {
    "duration": 23,
    "start_time": "2023-09-25T16:02:48.422Z"
   },
   {
    "duration": 19,
    "start_time": "2023-09-25T16:02:48.447Z"
   },
   {
    "duration": 26,
    "start_time": "2023-09-25T16:02:48.468Z"
   },
   {
    "duration": 15,
    "start_time": "2023-09-25T16:02:48.498Z"
   },
   {
    "duration": 186,
    "start_time": "2023-09-25T16:32:24.986Z"
   },
   {
    "duration": 298,
    "start_time": "2023-09-25T16:32:57.458Z"
   },
   {
    "duration": 187,
    "start_time": "2023-09-25T16:33:05.994Z"
   },
   {
    "duration": 223,
    "start_time": "2023-09-25T16:33:18.675Z"
   },
   {
    "duration": 185,
    "start_time": "2023-09-25T16:33:25.493Z"
   },
   {
    "duration": 196,
    "start_time": "2023-09-25T16:33:54.355Z"
   },
   {
    "duration": 70,
    "start_time": "2023-09-25T16:36:49.221Z"
   },
   {
    "duration": 71,
    "start_time": "2023-09-25T17:24:14.985Z"
   },
   {
    "duration": 334,
    "start_time": "2023-09-25T17:43:47.891Z"
   },
   {
    "duration": 1204,
    "start_time": "2023-09-25T17:44:04.383Z"
   },
   {
    "duration": 80,
    "start_time": "2023-09-25T17:44:05.589Z"
   },
   {
    "duration": 25,
    "start_time": "2023-09-25T17:44:05.671Z"
   },
   {
    "duration": 37,
    "start_time": "2023-09-25T17:44:05.698Z"
   },
   {
    "duration": 83,
    "start_time": "2023-09-25T17:44:05.737Z"
   },
   {
    "duration": 24,
    "start_time": "2023-09-25T17:44:05.822Z"
   },
   {
    "duration": 58,
    "start_time": "2023-09-25T17:44:05.848Z"
   },
   {
    "duration": 57,
    "start_time": "2023-09-25T17:44:05.908Z"
   },
   {
    "duration": 59,
    "start_time": "2023-09-25T17:44:05.968Z"
   },
   {
    "duration": 59,
    "start_time": "2023-09-25T17:44:06.030Z"
   },
   {
    "duration": 345,
    "start_time": "2023-09-25T17:44:06.091Z"
   },
   {
    "duration": 341,
    "start_time": "2023-09-25T17:44:06.437Z"
   },
   {
    "duration": 257,
    "start_time": "2023-09-25T17:44:06.780Z"
   },
   {
    "duration": 355,
    "start_time": "2023-09-25T17:44:07.039Z"
   },
   {
    "duration": 254,
    "start_time": "2023-09-25T17:44:07.395Z"
   },
   {
    "duration": 379,
    "start_time": "2023-09-25T17:44:07.651Z"
   },
   {
    "duration": 12,
    "start_time": "2023-09-25T17:44:08.032Z"
   },
   {
    "duration": 165,
    "start_time": "2023-09-25T17:44:08.057Z"
   },
   {
    "duration": 6,
    "start_time": "2023-09-25T17:44:08.224Z"
   },
   {
    "duration": 205,
    "start_time": "2023-09-25T17:44:08.231Z"
   },
   {
    "duration": 192,
    "start_time": "2023-09-25T17:44:08.438Z"
   },
   {
    "duration": 6,
    "start_time": "2023-09-25T17:44:08.631Z"
   },
   {
    "duration": 398,
    "start_time": "2023-09-25T17:44:08.639Z"
   },
   {
    "duration": 190,
    "start_time": "2023-09-25T17:44:09.040Z"
   },
   {
    "duration": 25,
    "start_time": "2023-09-25T17:44:09.232Z"
   },
   {
    "duration": 16,
    "start_time": "2023-09-25T17:44:09.258Z"
   },
   {
    "duration": 34,
    "start_time": "2023-09-25T17:44:09.277Z"
   },
   {
    "duration": 49,
    "start_time": "2023-09-25T17:44:09.316Z"
   },
   {
    "duration": 15,
    "start_time": "2023-09-25T17:44:09.367Z"
   },
   {
    "duration": 1197,
    "start_time": "2023-09-25T18:04:11.570Z"
   },
   {
    "duration": 80,
    "start_time": "2023-09-25T18:04:12.769Z"
   },
   {
    "duration": 28,
    "start_time": "2023-09-25T18:04:12.851Z"
   },
   {
    "duration": 21,
    "start_time": "2023-09-25T18:04:12.881Z"
   },
   {
    "duration": 31,
    "start_time": "2023-09-25T18:04:12.903Z"
   },
   {
    "duration": 3,
    "start_time": "2023-09-25T18:04:12.936Z"
   },
   {
    "duration": 6,
    "start_time": "2023-09-25T18:04:12.956Z"
   },
   {
    "duration": 9,
    "start_time": "2023-09-25T18:04:12.964Z"
   },
   {
    "duration": 16,
    "start_time": "2023-09-25T18:04:12.974Z"
   },
   {
    "duration": 13,
    "start_time": "2023-09-25T18:04:12.992Z"
   },
   {
    "duration": 314,
    "start_time": "2023-09-25T18:04:13.007Z"
   },
   {
    "duration": 336,
    "start_time": "2023-09-25T18:04:13.324Z"
   },
   {
    "duration": 252,
    "start_time": "2023-09-25T18:04:13.663Z"
   },
   {
    "duration": 365,
    "start_time": "2023-09-25T18:04:13.917Z"
   },
   {
    "duration": 251,
    "start_time": "2023-09-25T18:04:14.284Z"
   },
   {
    "duration": 377,
    "start_time": "2023-09-25T18:04:14.537Z"
   },
   {
    "duration": 11,
    "start_time": "2023-09-25T18:04:14.916Z"
   },
   {
    "duration": 178,
    "start_time": "2023-09-25T18:04:14.929Z"
   },
   {
    "duration": 6,
    "start_time": "2023-09-25T18:04:15.110Z"
   },
   {
    "duration": 189,
    "start_time": "2023-09-25T18:04:15.118Z"
   },
   {
    "duration": 189,
    "start_time": "2023-09-25T18:04:15.309Z"
   },
   {
    "duration": 5,
    "start_time": "2023-09-25T18:04:15.500Z"
   },
   {
    "duration": 342,
    "start_time": "2023-09-25T18:04:15.506Z"
   },
   {
    "duration": 203,
    "start_time": "2023-09-25T18:04:15.850Z"
   },
   {
    "duration": 11,
    "start_time": "2023-09-25T18:04:16.057Z"
   },
   {
    "duration": 10,
    "start_time": "2023-09-25T18:04:16.070Z"
   },
   {
    "duration": 8,
    "start_time": "2023-09-25T18:04:16.081Z"
   },
   {
    "duration": 25,
    "start_time": "2023-09-25T18:04:16.093Z"
   },
   {
    "duration": 46,
    "start_time": "2023-09-25T18:04:16.120Z"
   },
   {
    "duration": 1228,
    "start_time": "2023-09-25T18:08:43.853Z"
   },
   {
    "duration": 82,
    "start_time": "2023-09-25T18:08:45.083Z"
   },
   {
    "duration": 21,
    "start_time": "2023-09-25T18:08:45.166Z"
   },
   {
    "duration": 33,
    "start_time": "2023-09-25T18:08:45.189Z"
   },
   {
    "duration": 51,
    "start_time": "2023-09-25T18:08:45.225Z"
   },
   {
    "duration": 16,
    "start_time": "2023-09-25T18:08:45.278Z"
   },
   {
    "duration": 13,
    "start_time": "2023-09-25T18:08:45.296Z"
   },
   {
    "duration": 29,
    "start_time": "2023-09-25T18:08:45.310Z"
   },
   {
    "duration": 70,
    "start_time": "2023-09-25T18:08:45.341Z"
   },
   {
    "duration": 24,
    "start_time": "2023-09-25T18:08:45.413Z"
   },
   {
    "duration": 306,
    "start_time": "2023-09-25T18:08:45.439Z"
   },
   {
    "duration": 335,
    "start_time": "2023-09-25T18:08:45.756Z"
   },
   {
    "duration": 241,
    "start_time": "2023-09-25T18:08:46.093Z"
   },
   {
    "duration": 361,
    "start_time": "2023-09-25T18:08:46.337Z"
   },
   {
    "duration": 284,
    "start_time": "2023-09-25T18:08:46.700Z"
   },
   {
    "duration": 364,
    "start_time": "2023-09-25T18:08:46.986Z"
   },
   {
    "duration": 11,
    "start_time": "2023-09-25T18:08:47.352Z"
   },
   {
    "duration": 202,
    "start_time": "2023-09-25T18:08:47.365Z"
   },
   {
    "duration": 6,
    "start_time": "2023-09-25T18:08:47.569Z"
   },
   {
    "duration": 196,
    "start_time": "2023-09-25T18:08:47.577Z"
   },
   {
    "duration": 189,
    "start_time": "2023-09-25T18:08:47.774Z"
   },
   {
    "duration": 6,
    "start_time": "2023-09-25T18:08:47.965Z"
   },
   {
    "duration": 347,
    "start_time": "2023-09-25T18:08:47.975Z"
   },
   {
    "duration": 176,
    "start_time": "2023-09-25T18:08:48.324Z"
   },
   {
    "duration": 13,
    "start_time": "2023-09-25T18:08:48.502Z"
   },
   {
    "duration": 11,
    "start_time": "2023-09-25T18:08:48.517Z"
   },
   {
    "duration": 37,
    "start_time": "2023-09-25T18:08:48.529Z"
   },
   {
    "duration": 31,
    "start_time": "2023-09-25T18:08:48.568Z"
   },
   {
    "duration": 16,
    "start_time": "2023-09-25T18:08:48.601Z"
   },
   {
    "duration": 1322,
    "start_time": "2023-09-26T06:37:51.663Z"
   },
   {
    "duration": 186,
    "start_time": "2023-09-26T06:37:52.988Z"
   },
   {
    "duration": 21,
    "start_time": "2023-09-26T06:37:53.175Z"
   },
   {
    "duration": 26,
    "start_time": "2023-09-26T06:37:53.198Z"
   },
   {
    "duration": 37,
    "start_time": "2023-09-26T06:37:53.226Z"
   },
   {
    "duration": 5,
    "start_time": "2023-09-26T06:37:53.265Z"
   },
   {
    "duration": 16,
    "start_time": "2023-09-26T06:37:53.272Z"
   },
   {
    "duration": 11,
    "start_time": "2023-09-26T06:37:53.290Z"
   },
   {
    "duration": 32,
    "start_time": "2023-09-26T06:37:53.303Z"
   },
   {
    "duration": 14,
    "start_time": "2023-09-26T06:37:53.337Z"
   },
   {
    "duration": 287,
    "start_time": "2023-09-26T06:37:53.353Z"
   },
   {
    "duration": 316,
    "start_time": "2023-09-26T06:37:53.642Z"
   },
   {
    "duration": 244,
    "start_time": "2023-09-26T06:37:53.960Z"
   },
   {
    "duration": 440,
    "start_time": "2023-09-26T06:37:54.208Z"
   },
   {
    "duration": 277,
    "start_time": "2023-09-26T06:37:54.650Z"
   },
   {
    "duration": 328,
    "start_time": "2023-09-26T06:37:54.928Z"
   },
   {
    "duration": 9,
    "start_time": "2023-09-26T06:37:55.257Z"
   },
   {
    "duration": 169,
    "start_time": "2023-09-26T06:37:55.268Z"
   },
   {
    "duration": 5,
    "start_time": "2023-09-26T06:37:55.439Z"
   },
   {
    "duration": 267,
    "start_time": "2023-09-26T06:37:55.446Z"
   },
   {
    "duration": 177,
    "start_time": "2023-09-26T06:37:55.714Z"
   },
   {
    "duration": 12,
    "start_time": "2023-09-26T06:37:55.893Z"
   },
   {
    "duration": 313,
    "start_time": "2023-09-26T06:37:55.907Z"
   },
   {
    "duration": 172,
    "start_time": "2023-09-26T06:37:56.222Z"
   },
   {
    "duration": 13,
    "start_time": "2023-09-26T06:37:56.395Z"
   },
   {
    "duration": 21,
    "start_time": "2023-09-26T06:37:56.410Z"
   },
   {
    "duration": 11,
    "start_time": "2023-09-26T06:37:56.433Z"
   },
   {
    "duration": 27,
    "start_time": "2023-09-26T06:37:56.445Z"
   },
   {
    "duration": 35,
    "start_time": "2023-09-26T06:37:56.474Z"
   },
   {
    "duration": 84,
    "start_time": "2023-09-26T06:56:26.282Z"
   },
   {
    "duration": 112,
    "start_time": "2023-09-26T09:55:47.215Z"
   },
   {
    "duration": 44,
    "start_time": "2023-09-26T09:56:20.154Z"
   },
   {
    "duration": 1547,
    "start_time": "2023-09-26T09:56:35.485Z"
   },
   {
    "duration": 270,
    "start_time": "2023-09-26T09:56:37.034Z"
   },
   {
    "duration": 32,
    "start_time": "2023-09-26T09:56:37.305Z"
   },
   {
    "duration": 16,
    "start_time": "2023-09-26T09:56:37.339Z"
   },
   {
    "duration": 19,
    "start_time": "2023-09-26T09:56:37.357Z"
   },
   {
    "duration": 11,
    "start_time": "2023-09-26T09:56:37.378Z"
   },
   {
    "duration": 10,
    "start_time": "2023-09-26T09:56:37.409Z"
   },
   {
    "duration": 5,
    "start_time": "2023-09-26T09:56:37.421Z"
   },
   {
    "duration": 23,
    "start_time": "2023-09-26T09:56:37.429Z"
   },
   {
    "duration": 13,
    "start_time": "2023-09-26T09:56:37.454Z"
   },
   {
    "duration": 343,
    "start_time": "2023-09-26T09:56:37.469Z"
   },
   {
    "duration": 369,
    "start_time": "2023-09-26T09:56:37.816Z"
   },
   {
    "duration": 257,
    "start_time": "2023-09-26T09:56:38.187Z"
   },
   {
    "duration": 402,
    "start_time": "2023-09-26T09:56:38.445Z"
   },
   {
    "duration": 285,
    "start_time": "2023-09-26T09:56:38.848Z"
   },
   {
    "duration": 365,
    "start_time": "2023-09-26T09:56:39.135Z"
   },
   {
    "duration": 16,
    "start_time": "2023-09-26T09:56:39.510Z"
   },
   {
    "duration": 199,
    "start_time": "2023-09-26T09:56:39.527Z"
   },
   {
    "duration": 6,
    "start_time": "2023-09-26T09:56:39.729Z"
   },
   {
    "duration": 207,
    "start_time": "2023-09-26T09:56:39.737Z"
   },
   {
    "duration": 198,
    "start_time": "2023-09-26T09:56:39.946Z"
   },
   {
    "duration": 5,
    "start_time": "2023-09-26T09:56:40.146Z"
   },
   {
    "duration": 343,
    "start_time": "2023-09-26T09:56:40.153Z"
   },
   {
    "duration": 248,
    "start_time": "2023-09-26T09:56:40.498Z"
   },
   {
    "duration": 15,
    "start_time": "2023-09-26T09:56:40.749Z"
   },
   {
    "duration": 21,
    "start_time": "2023-09-26T09:56:40.766Z"
   },
   {
    "duration": 20,
    "start_time": "2023-09-26T09:56:40.789Z"
   },
   {
    "duration": 30,
    "start_time": "2023-09-26T09:56:40.815Z"
   },
   {
    "duration": 15,
    "start_time": "2023-09-26T09:56:40.848Z"
   },
   {
    "duration": 4,
    "start_time": "2023-09-26T10:02:20.662Z"
   },
   {
    "duration": 101,
    "start_time": "2023-09-26T10:07:57.068Z"
   },
   {
    "duration": 15,
    "start_time": "2023-09-26T10:08:16.963Z"
   },
   {
    "duration": 9,
    "start_time": "2023-09-26T10:08:22.961Z"
   },
   {
    "duration": 121,
    "start_time": "2023-09-26T10:08:32.571Z"
   },
   {
    "duration": 11,
    "start_time": "2023-09-26T10:08:39.689Z"
   },
   {
    "duration": 12,
    "start_time": "2023-09-26T10:09:42.695Z"
   },
   {
    "duration": 158,
    "start_time": "2023-09-26T10:09:49.436Z"
   },
   {
    "duration": 110,
    "start_time": "2023-09-26T10:11:19.108Z"
   },
   {
    "duration": 244,
    "start_time": "2023-09-26T10:14:18.931Z"
   },
   {
    "duration": 1981,
    "start_time": "2023-09-26T10:27:00.549Z"
   },
   {
    "duration": 19,
    "start_time": "2023-09-26T10:27:53.620Z"
   },
   {
    "duration": 18,
    "start_time": "2023-09-26T10:29:25.772Z"
   },
   {
    "duration": 18,
    "start_time": "2023-09-26T10:31:39.008Z"
   },
   {
    "duration": 17,
    "start_time": "2023-09-26T10:32:51.208Z"
   },
   {
    "duration": 8,
    "start_time": "2023-09-26T10:33:02.924Z"
   },
   {
    "duration": 20,
    "start_time": "2023-09-26T10:36:32.999Z"
   },
   {
    "duration": 54,
    "start_time": "2023-09-26T10:36:40.243Z"
   },
   {
    "duration": 12,
    "start_time": "2023-09-26T10:36:46.437Z"
   },
   {
    "duration": 33,
    "start_time": "2023-09-26T10:37:28.301Z"
   },
   {
    "duration": 32,
    "start_time": "2023-09-26T10:37:35.718Z"
   },
   {
    "duration": 15,
    "start_time": "2023-09-26T10:38:00.148Z"
   },
   {
    "duration": 10,
    "start_time": "2023-09-26T10:38:25.652Z"
   },
   {
    "duration": 41,
    "start_time": "2023-09-26T10:39:35.284Z"
   },
   {
    "duration": 33,
    "start_time": "2023-09-26T10:39:49.222Z"
   },
   {
    "duration": 11,
    "start_time": "2023-09-26T10:39:57.237Z"
   },
   {
    "duration": 35,
    "start_time": "2023-09-26T10:40:09.916Z"
   },
   {
    "duration": 10,
    "start_time": "2023-09-26T10:40:38.477Z"
   },
   {
    "duration": 10,
    "start_time": "2023-09-26T10:40:46.340Z"
   },
   {
    "duration": 36,
    "start_time": "2023-09-26T10:46:43.416Z"
   },
   {
    "duration": 490,
    "start_time": "2023-09-26T10:49:15.387Z"
   },
   {
    "duration": 14,
    "start_time": "2023-09-26T10:49:36.209Z"
   },
   {
    "duration": 9,
    "start_time": "2023-09-26T10:49:42.121Z"
   },
   {
    "duration": 17,
    "start_time": "2023-09-26T10:49:51.921Z"
   },
   {
    "duration": 680,
    "start_time": "2023-09-26T10:50:12.283Z"
   },
   {
    "duration": 15,
    "start_time": "2023-09-26T10:50:23.723Z"
   },
   {
    "duration": 13,
    "start_time": "2023-09-26T10:50:31.651Z"
   },
   {
    "duration": 14,
    "start_time": "2023-09-26T10:50:41.389Z"
   },
   {
    "duration": 26,
    "start_time": "2023-09-26T10:51:04.424Z"
   },
   {
    "duration": 1250,
    "start_time": "2023-09-26T10:51:22.851Z"
   },
   {
    "duration": 81,
    "start_time": "2023-09-26T10:51:24.103Z"
   },
   {
    "duration": 23,
    "start_time": "2023-09-26T10:51:24.186Z"
   },
   {
    "duration": 26,
    "start_time": "2023-09-26T10:51:24.213Z"
   },
   {
    "duration": 21,
    "start_time": "2023-09-26T10:51:24.241Z"
   },
   {
    "duration": 9,
    "start_time": "2023-09-26T10:51:24.264Z"
   },
   {
    "duration": 10,
    "start_time": "2023-09-26T10:51:24.274Z"
   },
   {
    "duration": 24,
    "start_time": "2023-09-26T10:51:24.286Z"
   },
   {
    "duration": 13,
    "start_time": "2023-09-26T10:51:24.319Z"
   },
   {
    "duration": 15,
    "start_time": "2023-09-26T10:51:24.334Z"
   },
   {
    "duration": 141,
    "start_time": "2023-09-26T10:51:24.351Z"
   },
   {
    "duration": 0,
    "start_time": "2023-09-26T10:51:24.494Z"
   },
   {
    "duration": 0,
    "start_time": "2023-09-26T10:51:24.496Z"
   },
   {
    "duration": 0,
    "start_time": "2023-09-26T10:51:24.497Z"
   },
   {
    "duration": 0,
    "start_time": "2023-09-26T10:51:24.498Z"
   },
   {
    "duration": 0,
    "start_time": "2023-09-26T10:51:24.510Z"
   },
   {
    "duration": 0,
    "start_time": "2023-09-26T10:51:24.512Z"
   },
   {
    "duration": 0,
    "start_time": "2023-09-26T10:51:24.514Z"
   },
   {
    "duration": 0,
    "start_time": "2023-09-26T10:51:24.516Z"
   },
   {
    "duration": 0,
    "start_time": "2023-09-26T10:51:24.517Z"
   },
   {
    "duration": 0,
    "start_time": "2023-09-26T10:51:24.519Z"
   },
   {
    "duration": 0,
    "start_time": "2023-09-26T10:51:24.520Z"
   },
   {
    "duration": 0,
    "start_time": "2023-09-26T10:51:24.522Z"
   },
   {
    "duration": 0,
    "start_time": "2023-09-26T10:51:24.524Z"
   },
   {
    "duration": 0,
    "start_time": "2023-09-26T10:51:24.525Z"
   },
   {
    "duration": 0,
    "start_time": "2023-09-26T10:51:24.528Z"
   },
   {
    "duration": 0,
    "start_time": "2023-09-26T10:51:24.528Z"
   },
   {
    "duration": 0,
    "start_time": "2023-09-26T10:51:24.530Z"
   },
   {
    "duration": 0,
    "start_time": "2023-09-26T10:51:24.532Z"
   },
   {
    "duration": 0,
    "start_time": "2023-09-26T10:51:24.534Z"
   },
   {
    "duration": 0,
    "start_time": "2023-09-26T10:51:24.535Z"
   },
   {
    "duration": 0,
    "start_time": "2023-09-26T10:51:24.536Z"
   },
   {
    "duration": 6,
    "start_time": "2023-09-26T10:58:17.897Z"
   },
   {
    "duration": 9,
    "start_time": "2023-09-26T10:58:21.062Z"
   },
   {
    "duration": 7,
    "start_time": "2023-09-26T10:58:23.647Z"
   },
   {
    "duration": 25,
    "start_time": "2023-09-26T10:58:31.906Z"
   },
   {
    "duration": 4,
    "start_time": "2023-09-26T10:58:48.262Z"
   },
   {
    "duration": 4,
    "start_time": "2023-09-26T10:58:54.121Z"
   },
   {
    "duration": 1225,
    "start_time": "2023-09-26T10:59:00.774Z"
   },
   {
    "duration": 83,
    "start_time": "2023-09-26T10:59:02.001Z"
   },
   {
    "duration": 22,
    "start_time": "2023-09-26T10:59:02.086Z"
   },
   {
    "duration": 144,
    "start_time": "2023-09-26T10:59:02.110Z"
   },
   {
    "duration": 61,
    "start_time": "2023-09-26T10:59:02.257Z"
   },
   {
    "duration": 18,
    "start_time": "2023-09-26T10:59:02.320Z"
   },
   {
    "duration": 54,
    "start_time": "2023-09-26T10:59:02.340Z"
   },
   {
    "duration": 18,
    "start_time": "2023-09-26T10:59:02.396Z"
   },
   {
    "duration": 25,
    "start_time": "2023-09-26T10:59:02.416Z"
   },
   {
    "duration": 37,
    "start_time": "2023-09-26T10:59:02.444Z"
   },
   {
    "duration": 16,
    "start_time": "2023-09-26T10:59:02.483Z"
   },
   {
    "duration": 26,
    "start_time": "2023-09-26T10:59:02.501Z"
   },
   {
    "duration": 24,
    "start_time": "2023-09-26T10:59:02.529Z"
   },
   {
    "duration": 49,
    "start_time": "2023-09-26T10:59:02.558Z"
   },
   {
    "duration": 22,
    "start_time": "2023-09-26T10:59:02.610Z"
   },
   {
    "duration": 382,
    "start_time": "2023-09-26T10:59:02.634Z"
   },
   {
    "duration": 338,
    "start_time": "2023-09-26T10:59:03.017Z"
   },
   {
    "duration": 252,
    "start_time": "2023-09-26T10:59:03.358Z"
   },
   {
    "duration": 367,
    "start_time": "2023-09-26T10:59:03.613Z"
   },
   {
    "duration": 279,
    "start_time": "2023-09-26T10:59:03.982Z"
   },
   {
    "duration": 378,
    "start_time": "2023-09-26T10:59:04.263Z"
   },
   {
    "duration": 10,
    "start_time": "2023-09-26T10:59:04.644Z"
   },
   {
    "duration": 191,
    "start_time": "2023-09-26T10:59:04.656Z"
   },
   {
    "duration": 5,
    "start_time": "2023-09-26T10:59:04.849Z"
   },
   {
    "duration": 201,
    "start_time": "2023-09-26T10:59:04.856Z"
   },
   {
    "duration": 207,
    "start_time": "2023-09-26T10:59:05.060Z"
   },
   {
    "duration": 6,
    "start_time": "2023-09-26T10:59:05.269Z"
   },
   {
    "duration": 365,
    "start_time": "2023-09-26T10:59:05.276Z"
   },
   {
    "duration": 203,
    "start_time": "2023-09-26T10:59:05.643Z"
   },
   {
    "duration": 12,
    "start_time": "2023-09-26T10:59:05.848Z"
   },
   {
    "duration": 17,
    "start_time": "2023-09-26T10:59:05.862Z"
   },
   {
    "duration": 15,
    "start_time": "2023-09-26T10:59:05.881Z"
   },
   {
    "duration": 42,
    "start_time": "2023-09-26T10:59:05.898Z"
   },
   {
    "duration": 23,
    "start_time": "2023-09-26T10:59:05.942Z"
   },
   {
    "duration": 2593,
    "start_time": "2023-09-26T10:59:27.058Z"
   },
   {
    "duration": 0,
    "start_time": "2023-09-26T10:59:29.653Z"
   },
   {
    "duration": 2942,
    "start_time": "2023-09-26T11:01:03.763Z"
   },
   {
    "duration": 5,
    "start_time": "2023-09-26T11:01:07.088Z"
   },
   {
    "duration": 0,
    "start_time": "2023-09-26T11:01:11.877Z"
   },
   {
    "duration": 4,
    "start_time": "2023-09-26T11:01:13.777Z"
   },
   {
    "duration": 20,
    "start_time": "2023-09-26T11:01:27.906Z"
   },
   {
    "duration": 2616,
    "start_time": "2023-09-26T11:01:51.396Z"
   },
   {
    "duration": 14,
    "start_time": "2023-09-26T11:02:02.667Z"
   },
   {
    "duration": 2338,
    "start_time": "2023-09-26T11:03:01.046Z"
   },
   {
    "duration": 11,
    "start_time": "2023-09-26T11:03:19.554Z"
   },
   {
    "duration": 5,
    "start_time": "2023-09-26T11:03:32.241Z"
   },
   {
    "duration": 97,
    "start_time": "2023-09-26T11:06:23.818Z"
   },
   {
    "duration": 2093,
    "start_time": "2023-09-26T11:06:28.910Z"
   },
   {
    "duration": 5,
    "start_time": "2023-09-26T11:06:31.129Z"
   },
   {
    "duration": 27,
    "start_time": "2023-09-26T11:08:04.917Z"
   },
   {
    "duration": 26,
    "start_time": "2023-09-26T11:08:10.525Z"
   },
   {
    "duration": 15,
    "start_time": "2023-09-26T11:08:26.742Z"
   },
   {
    "duration": 15,
    "start_time": "2023-09-26T11:08:39.624Z"
   },
   {
    "duration": 24,
    "start_time": "2023-09-26T11:15:33.242Z"
   },
   {
    "duration": 5,
    "start_time": "2023-09-26T11:15:50.345Z"
   },
   {
    "duration": 4,
    "start_time": "2023-09-26T11:15:53.464Z"
   },
   {
    "duration": 5,
    "start_time": "2023-09-26T11:15:59.748Z"
   },
   {
    "duration": 6,
    "start_time": "2023-09-26T11:16:01.841Z"
   },
   {
    "duration": 17,
    "start_time": "2023-09-26T11:18:53.531Z"
   },
   {
    "duration": 5,
    "start_time": "2023-09-26T11:19:27.492Z"
   },
   {
    "duration": 4,
    "start_time": "2023-09-26T11:19:31.963Z"
   },
   {
    "duration": 5,
    "start_time": "2023-09-26T11:19:40.579Z"
   },
   {
    "duration": 12,
    "start_time": "2023-09-26T11:19:48.923Z"
   },
   {
    "duration": 12,
    "start_time": "2023-09-26T11:19:53.468Z"
   },
   {
    "duration": 14,
    "start_time": "2023-09-26T11:20:37.870Z"
   },
   {
    "duration": 15,
    "start_time": "2023-09-26T11:20:41.540Z"
   },
   {
    "duration": 21,
    "start_time": "2023-09-26T11:28:57.905Z"
   },
   {
    "duration": 13,
    "start_time": "2023-09-26T11:29:03.880Z"
   },
   {
    "duration": 1308,
    "start_time": "2023-09-26T11:29:12.830Z"
   },
   {
    "duration": 86,
    "start_time": "2023-09-26T11:29:14.140Z"
   },
   {
    "duration": 22,
    "start_time": "2023-09-26T11:29:14.228Z"
   },
   {
    "duration": 22,
    "start_time": "2023-09-26T11:29:14.253Z"
   },
   {
    "duration": 28,
    "start_time": "2023-09-26T11:29:14.278Z"
   },
   {
    "duration": 50,
    "start_time": "2023-09-26T11:29:14.310Z"
   },
   {
    "duration": 87,
    "start_time": "2023-09-26T11:29:14.362Z"
   },
   {
    "duration": 181,
    "start_time": "2023-09-26T11:29:14.451Z"
   },
   {
    "duration": 29,
    "start_time": "2023-09-26T11:29:14.633Z"
   },
   {
    "duration": 29,
    "start_time": "2023-09-26T11:29:14.664Z"
   },
   {
    "duration": 13,
    "start_time": "2023-09-26T11:29:14.695Z"
   },
   {
    "duration": 23,
    "start_time": "2023-09-26T11:29:14.710Z"
   },
   {
    "duration": 348,
    "start_time": "2023-09-26T11:29:14.736Z"
   },
   {
    "duration": 405,
    "start_time": "2023-09-26T11:29:15.087Z"
   },
   {
    "duration": 286,
    "start_time": "2023-09-26T11:29:15.494Z"
   },
   {
    "duration": 386,
    "start_time": "2023-09-26T11:29:15.782Z"
   },
   {
    "duration": 288,
    "start_time": "2023-09-26T11:29:16.170Z"
   },
   {
    "duration": 392,
    "start_time": "2023-09-26T11:29:16.460Z"
   },
   {
    "duration": 10,
    "start_time": "2023-09-26T11:29:16.854Z"
   },
   {
    "duration": 249,
    "start_time": "2023-09-26T11:29:16.866Z"
   },
   {
    "duration": 10,
    "start_time": "2023-09-26T11:29:17.119Z"
   },
   {
    "duration": 235,
    "start_time": "2023-09-26T11:29:17.131Z"
   },
   {
    "duration": 214,
    "start_time": "2023-09-26T11:29:17.368Z"
   },
   {
    "duration": 7,
    "start_time": "2023-09-26T11:29:17.583Z"
   },
   {
    "duration": 376,
    "start_time": "2023-09-26T11:29:17.592Z"
   },
   {
    "duration": 204,
    "start_time": "2023-09-26T11:29:17.970Z"
   },
   {
    "duration": 13,
    "start_time": "2023-09-26T11:29:18.175Z"
   },
   {
    "duration": 28,
    "start_time": "2023-09-26T11:29:18.190Z"
   },
   {
    "duration": 20,
    "start_time": "2023-09-26T11:29:18.221Z"
   },
   {
    "duration": 44,
    "start_time": "2023-09-26T11:29:18.243Z"
   },
   {
    "duration": 23,
    "start_time": "2023-09-26T11:29:18.288Z"
   },
   {
    "duration": 11,
    "start_time": "2023-09-26T11:29:57.283Z"
   },
   {
    "duration": 11,
    "start_time": "2023-09-26T11:30:03.865Z"
   },
   {
    "duration": 7,
    "start_time": "2023-09-26T11:30:37.747Z"
   },
   {
    "duration": 7,
    "start_time": "2023-09-26T11:30:40.104Z"
   },
   {
    "duration": 17,
    "start_time": "2023-09-26T11:30:46.484Z"
   },
   {
    "duration": 5,
    "start_time": "2023-09-26T11:30:58.179Z"
   },
   {
    "duration": 10,
    "start_time": "2023-09-26T11:31:26.174Z"
   },
   {
    "duration": 137,
    "start_time": "2023-09-26T11:33:12.556Z"
   },
   {
    "duration": 1338,
    "start_time": "2023-09-26T11:33:21.189Z"
   },
   {
    "duration": 87,
    "start_time": "2023-09-26T11:33:22.530Z"
   },
   {
    "duration": 31,
    "start_time": "2023-09-26T11:33:22.620Z"
   },
   {
    "duration": 36,
    "start_time": "2023-09-26T11:33:22.654Z"
   },
   {
    "duration": 27,
    "start_time": "2023-09-26T11:33:22.715Z"
   },
   {
    "duration": 22,
    "start_time": "2023-09-26T11:33:22.745Z"
   },
   {
    "duration": 35,
    "start_time": "2023-09-26T11:33:22.770Z"
   },
   {
    "duration": 29,
    "start_time": "2023-09-26T11:33:22.808Z"
   },
   {
    "duration": 35,
    "start_time": "2023-09-26T11:33:22.840Z"
   },
   {
    "duration": 128,
    "start_time": "2023-09-26T11:33:22.878Z"
   },
   {
    "duration": 0,
    "start_time": "2023-09-26T11:33:23.009Z"
   },
   {
    "duration": 0,
    "start_time": "2023-09-26T11:33:23.011Z"
   },
   {
    "duration": 0,
    "start_time": "2023-09-26T11:33:23.013Z"
   },
   {
    "duration": 0,
    "start_time": "2023-09-26T11:33:23.015Z"
   },
   {
    "duration": 0,
    "start_time": "2023-09-26T11:33:23.017Z"
   },
   {
    "duration": 0,
    "start_time": "2023-09-26T11:33:23.018Z"
   },
   {
    "duration": 0,
    "start_time": "2023-09-26T11:33:23.019Z"
   },
   {
    "duration": 0,
    "start_time": "2023-09-26T11:33:23.020Z"
   },
   {
    "duration": 0,
    "start_time": "2023-09-26T11:33:23.021Z"
   },
   {
    "duration": 0,
    "start_time": "2023-09-26T11:33:23.022Z"
   },
   {
    "duration": 0,
    "start_time": "2023-09-26T11:33:23.023Z"
   },
   {
    "duration": 0,
    "start_time": "2023-09-26T11:33:23.024Z"
   },
   {
    "duration": 0,
    "start_time": "2023-09-26T11:33:23.025Z"
   },
   {
    "duration": 0,
    "start_time": "2023-09-26T11:33:23.026Z"
   },
   {
    "duration": 0,
    "start_time": "2023-09-26T11:33:23.027Z"
   },
   {
    "duration": 0,
    "start_time": "2023-09-26T11:33:23.028Z"
   },
   {
    "duration": 0,
    "start_time": "2023-09-26T11:33:23.029Z"
   },
   {
    "duration": 0,
    "start_time": "2023-09-26T11:33:23.031Z"
   },
   {
    "duration": 0,
    "start_time": "2023-09-26T11:33:23.033Z"
   },
   {
    "duration": 0,
    "start_time": "2023-09-26T11:33:23.035Z"
   },
   {
    "duration": 0,
    "start_time": "2023-09-26T11:33:23.036Z"
   },
   {
    "duration": 0,
    "start_time": "2023-09-26T11:33:23.038Z"
   },
   {
    "duration": 0,
    "start_time": "2023-09-26T11:33:23.039Z"
   },
   {
    "duration": 11,
    "start_time": "2023-09-26T11:33:49.558Z"
   },
   {
    "duration": 6,
    "start_time": "2023-09-26T11:33:51.798Z"
   },
   {
    "duration": 4,
    "start_time": "2023-09-26T11:33:53.636Z"
   },
   {
    "duration": 1421,
    "start_time": "2023-09-26T11:34:01.602Z"
   },
   {
    "duration": 81,
    "start_time": "2023-09-26T11:34:03.025Z"
   },
   {
    "duration": 23,
    "start_time": "2023-09-26T11:34:03.108Z"
   },
   {
    "duration": 23,
    "start_time": "2023-09-26T11:34:03.132Z"
   },
   {
    "duration": 53,
    "start_time": "2023-09-26T11:34:03.158Z"
   },
   {
    "duration": 20,
    "start_time": "2023-09-26T11:34:03.213Z"
   },
   {
    "duration": 20,
    "start_time": "2023-09-26T11:34:03.235Z"
   },
   {
    "duration": 11,
    "start_time": "2023-09-26T11:34:03.258Z"
   },
   {
    "duration": 19,
    "start_time": "2023-09-26T11:34:03.271Z"
   },
   {
    "duration": 16,
    "start_time": "2023-09-26T11:34:03.292Z"
   },
   {
    "duration": 12,
    "start_time": "2023-09-26T11:34:03.311Z"
   },
   {
    "duration": 8,
    "start_time": "2023-09-26T11:34:03.326Z"
   },
   {
    "duration": 22,
    "start_time": "2023-09-26T11:34:03.337Z"
   },
   {
    "duration": 16,
    "start_time": "2023-09-26T11:34:03.362Z"
   },
   {
    "duration": 330,
    "start_time": "2023-09-26T11:34:03.380Z"
   },
   {
    "duration": 348,
    "start_time": "2023-09-26T11:34:03.713Z"
   },
   {
    "duration": 290,
    "start_time": "2023-09-26T11:34:04.064Z"
   },
   {
    "duration": 337,
    "start_time": "2023-09-26T11:34:04.356Z"
   },
   {
    "duration": 261,
    "start_time": "2023-09-26T11:34:04.695Z"
   },
   {
    "duration": 448,
    "start_time": "2023-09-26T11:34:04.958Z"
   },
   {
    "duration": 14,
    "start_time": "2023-09-26T11:34:05.410Z"
   },
   {
    "duration": 247,
    "start_time": "2023-09-26T11:34:05.427Z"
   },
   {
    "duration": 6,
    "start_time": "2023-09-26T11:34:05.676Z"
   },
   {
    "duration": 203,
    "start_time": "2023-09-26T11:34:05.684Z"
   },
   {
    "duration": 191,
    "start_time": "2023-09-26T11:34:05.890Z"
   },
   {
    "duration": 6,
    "start_time": "2023-09-26T11:34:06.083Z"
   },
   {
    "duration": 357,
    "start_time": "2023-09-26T11:34:06.091Z"
   },
   {
    "duration": 196,
    "start_time": "2023-09-26T11:34:06.450Z"
   },
   {
    "duration": 13,
    "start_time": "2023-09-26T11:34:06.648Z"
   },
   {
    "duration": 15,
    "start_time": "2023-09-26T11:34:06.663Z"
   },
   {
    "duration": 39,
    "start_time": "2023-09-26T11:34:06.681Z"
   },
   {
    "duration": 32,
    "start_time": "2023-09-26T11:34:06.723Z"
   },
   {
    "duration": 18,
    "start_time": "2023-09-26T11:34:06.757Z"
   },
   {
    "duration": 12,
    "start_time": "2023-09-26T11:35:14.351Z"
   },
   {
    "duration": 1302,
    "start_time": "2023-09-26T11:35:23.922Z"
   },
   {
    "duration": 98,
    "start_time": "2023-09-26T11:35:25.227Z"
   },
   {
    "duration": 28,
    "start_time": "2023-09-26T11:35:25.328Z"
   },
   {
    "duration": 29,
    "start_time": "2023-09-26T11:35:25.360Z"
   },
   {
    "duration": 44,
    "start_time": "2023-09-26T11:35:25.393Z"
   },
   {
    "duration": 11,
    "start_time": "2023-09-26T11:35:25.440Z"
   },
   {
    "duration": 18,
    "start_time": "2023-09-26T11:35:25.453Z"
   },
   {
    "duration": 35,
    "start_time": "2023-09-26T11:35:25.473Z"
   },
   {
    "duration": 29,
    "start_time": "2023-09-26T11:35:25.510Z"
   },
   {
    "duration": 15,
    "start_time": "2023-09-26T11:35:25.543Z"
   },
   {
    "duration": 2474,
    "start_time": "2023-09-26T11:35:25.561Z"
   },
   {
    "duration": 0,
    "start_time": "2023-09-26T11:35:28.037Z"
   },
   {
    "duration": 0,
    "start_time": "2023-09-26T11:35:28.038Z"
   },
   {
    "duration": 0,
    "start_time": "2023-09-26T11:35:28.039Z"
   },
   {
    "duration": 0,
    "start_time": "2023-09-26T11:35:28.040Z"
   },
   {
    "duration": 0,
    "start_time": "2023-09-26T11:35:28.041Z"
   },
   {
    "duration": 0,
    "start_time": "2023-09-26T11:35:28.043Z"
   },
   {
    "duration": 0,
    "start_time": "2023-09-26T11:35:28.044Z"
   },
   {
    "duration": 0,
    "start_time": "2023-09-26T11:35:28.045Z"
   },
   {
    "duration": 0,
    "start_time": "2023-09-26T11:35:28.046Z"
   },
   {
    "duration": 0,
    "start_time": "2023-09-26T11:35:28.046Z"
   },
   {
    "duration": 0,
    "start_time": "2023-09-26T11:35:28.048Z"
   },
   {
    "duration": 0,
    "start_time": "2023-09-26T11:35:28.048Z"
   },
   {
    "duration": 0,
    "start_time": "2023-09-26T11:35:28.050Z"
   },
   {
    "duration": 0,
    "start_time": "2023-09-26T11:35:28.050Z"
   },
   {
    "duration": 1,
    "start_time": "2023-09-26T11:35:28.052Z"
   },
   {
    "duration": 0,
    "start_time": "2023-09-26T11:35:28.054Z"
   },
   {
    "duration": 0,
    "start_time": "2023-09-26T11:35:28.056Z"
   },
   {
    "duration": 0,
    "start_time": "2023-09-26T11:35:28.057Z"
   },
   {
    "duration": 0,
    "start_time": "2023-09-26T11:35:28.058Z"
   },
   {
    "duration": 0,
    "start_time": "2023-09-26T11:35:28.059Z"
   },
   {
    "duration": 0,
    "start_time": "2023-09-26T11:35:28.061Z"
   },
   {
    "duration": 0,
    "start_time": "2023-09-26T11:35:28.062Z"
   },
   {
    "duration": 11,
    "start_time": "2023-09-26T11:36:13.163Z"
   },
   {
    "duration": 9,
    "start_time": "2023-09-26T11:36:15.877Z"
   },
   {
    "duration": 10,
    "start_time": "2023-09-26T11:36:18.485Z"
   },
   {
    "duration": 5,
    "start_time": "2023-09-26T11:36:22.685Z"
   },
   {
    "duration": 1279,
    "start_time": "2023-09-26T11:36:30.837Z"
   },
   {
    "duration": 83,
    "start_time": "2023-09-26T11:36:32.119Z"
   },
   {
    "duration": 24,
    "start_time": "2023-09-26T11:36:32.204Z"
   },
   {
    "duration": 51,
    "start_time": "2023-09-26T11:36:32.231Z"
   },
   {
    "duration": 60,
    "start_time": "2023-09-26T11:36:32.285Z"
   },
   {
    "duration": 54,
    "start_time": "2023-09-26T11:36:32.347Z"
   },
   {
    "duration": 126,
    "start_time": "2023-09-26T11:36:32.404Z"
   },
   {
    "duration": 141,
    "start_time": "2023-09-26T11:36:32.532Z"
   },
   {
    "duration": 26,
    "start_time": "2023-09-26T11:36:32.676Z"
   },
   {
    "duration": 18,
    "start_time": "2023-09-26T11:36:32.705Z"
   },
   {
    "duration": 9,
    "start_time": "2023-09-26T11:36:32.727Z"
   },
   {
    "duration": 30,
    "start_time": "2023-09-26T11:36:32.738Z"
   },
   {
    "duration": 29,
    "start_time": "2023-09-26T11:36:32.771Z"
   },
   {
    "duration": 31,
    "start_time": "2023-09-26T11:36:32.805Z"
   },
   {
    "duration": 309,
    "start_time": "2023-09-26T11:36:32.837Z"
   },
   {
    "duration": 335,
    "start_time": "2023-09-26T11:36:33.148Z"
   },
   {
    "duration": 266,
    "start_time": "2023-09-26T11:36:33.486Z"
   },
   {
    "duration": 310,
    "start_time": "2023-09-26T11:36:33.753Z"
   },
   {
    "duration": 265,
    "start_time": "2023-09-26T11:36:34.065Z"
   },
   {
    "duration": 352,
    "start_time": "2023-09-26T11:36:34.332Z"
   },
   {
    "duration": 23,
    "start_time": "2023-09-26T11:36:34.686Z"
   },
   {
    "duration": 212,
    "start_time": "2023-09-26T11:36:34.712Z"
   },
   {
    "duration": 7,
    "start_time": "2023-09-26T11:36:34.926Z"
   },
   {
    "duration": 206,
    "start_time": "2023-09-26T11:36:34.934Z"
   },
   {
    "duration": 223,
    "start_time": "2023-09-26T11:36:35.142Z"
   },
   {
    "duration": 7,
    "start_time": "2023-09-26T11:36:35.368Z"
   },
   {
    "duration": 367,
    "start_time": "2023-09-26T11:36:35.378Z"
   },
   {
    "duration": 190,
    "start_time": "2023-09-26T11:36:35.747Z"
   },
   {
    "duration": 13,
    "start_time": "2023-09-26T11:36:35.939Z"
   },
   {
    "duration": 26,
    "start_time": "2023-09-26T11:36:35.954Z"
   },
   {
    "duration": 64,
    "start_time": "2023-09-26T11:36:35.983Z"
   },
   {
    "duration": 53,
    "start_time": "2023-09-26T11:36:36.050Z"
   },
   {
    "duration": 17,
    "start_time": "2023-09-26T11:36:36.105Z"
   },
   {
    "duration": 155,
    "start_time": "2023-09-26T12:11:43.485Z"
   },
   {
    "duration": 158,
    "start_time": "2023-09-26T12:11:50.033Z"
   },
   {
    "duration": 170,
    "start_time": "2023-09-26T12:12:01.738Z"
   },
   {
    "duration": 16,
    "start_time": "2023-09-26T12:13:07.115Z"
   },
   {
    "duration": 16,
    "start_time": "2023-09-26T12:15:15.320Z"
   },
   {
    "duration": 1175,
    "start_time": "2023-09-26T12:26:34.038Z"
   },
   {
    "duration": 82,
    "start_time": "2023-09-26T12:26:35.215Z"
   },
   {
    "duration": 32,
    "start_time": "2023-09-26T12:26:35.299Z"
   },
   {
    "duration": 86,
    "start_time": "2023-09-26T12:26:35.334Z"
   },
   {
    "duration": 70,
    "start_time": "2023-09-26T12:26:35.422Z"
   },
   {
    "duration": 275,
    "start_time": "2023-09-26T12:26:35.494Z"
   },
   {
    "duration": 37,
    "start_time": "2023-09-26T12:26:35.771Z"
   },
   {
    "duration": 30,
    "start_time": "2023-09-26T12:26:35.809Z"
   },
   {
    "duration": 21,
    "start_time": "2023-09-26T12:26:35.842Z"
   },
   {
    "duration": 42,
    "start_time": "2023-09-26T12:26:35.867Z"
   },
   {
    "duration": 23,
    "start_time": "2023-09-26T12:26:35.911Z"
   },
   {
    "duration": 33,
    "start_time": "2023-09-26T12:26:35.936Z"
   },
   {
    "duration": 48,
    "start_time": "2023-09-26T12:26:35.971Z"
   },
   {
    "duration": 327,
    "start_time": "2023-09-26T12:26:36.021Z"
   },
   {
    "duration": 364,
    "start_time": "2023-09-26T12:26:36.350Z"
   },
   {
    "duration": 259,
    "start_time": "2023-09-26T12:26:36.716Z"
   },
   {
    "duration": 360,
    "start_time": "2023-09-26T12:26:36.977Z"
   },
   {
    "duration": 252,
    "start_time": "2023-09-26T12:26:37.339Z"
   },
   {
    "duration": 374,
    "start_time": "2023-09-26T12:26:37.594Z"
   },
   {
    "duration": 10,
    "start_time": "2023-09-26T12:26:37.970Z"
   },
   {
    "duration": 206,
    "start_time": "2023-09-26T12:26:37.982Z"
   },
   {
    "duration": 6,
    "start_time": "2023-09-26T12:26:38.190Z"
   },
   {
    "duration": 199,
    "start_time": "2023-09-26T12:26:38.198Z"
   },
   {
    "duration": 201,
    "start_time": "2023-09-26T12:26:38.399Z"
   },
   {
    "duration": 5,
    "start_time": "2023-09-26T12:26:38.609Z"
   },
   {
    "duration": 343,
    "start_time": "2023-09-26T12:26:38.616Z"
   },
   {
    "duration": 184,
    "start_time": "2023-09-26T12:26:38.961Z"
   },
   {
    "duration": 12,
    "start_time": "2023-09-26T12:26:39.150Z"
   },
   {
    "duration": 12,
    "start_time": "2023-09-26T12:26:39.164Z"
   },
   {
    "duration": 36,
    "start_time": "2023-09-26T12:26:39.178Z"
   },
   {
    "duration": 40,
    "start_time": "2023-09-26T12:26:39.216Z"
   },
   {
    "duration": 16,
    "start_time": "2023-09-26T12:26:39.258Z"
   },
   {
    "duration": 27,
    "start_time": "2023-09-26T12:29:09.905Z"
   },
   {
    "duration": 16,
    "start_time": "2023-09-26T12:29:19.871Z"
   },
   {
    "duration": 1239,
    "start_time": "2023-09-26T13:38:00.992Z"
   },
   {
    "duration": 77,
    "start_time": "2023-09-26T13:38:02.233Z"
   },
   {
    "duration": 386,
    "start_time": "2023-09-26T13:38:02.312Z"
   },
   {
    "duration": 418,
    "start_time": "2023-09-26T13:38:02.700Z"
   },
   {
    "duration": 34,
    "start_time": "2023-09-26T13:38:03.120Z"
   },
   {
    "duration": 125,
    "start_time": "2023-09-26T13:38:03.156Z"
   },
   {
    "duration": 182,
    "start_time": "2023-09-26T13:38:03.283Z"
   },
   {
    "duration": 105,
    "start_time": "2023-09-26T13:38:03.467Z"
   },
   {
    "duration": 322,
    "start_time": "2023-09-26T13:38:03.573Z"
   },
   {
    "duration": 120,
    "start_time": "2023-09-26T13:38:03.898Z"
   },
   {
    "duration": 69,
    "start_time": "2023-09-26T13:38:04.020Z"
   },
   {
    "duration": 46,
    "start_time": "2023-09-26T13:38:04.091Z"
   },
   {
    "duration": 124,
    "start_time": "2023-09-26T13:38:04.138Z"
   },
   {
    "duration": 372,
    "start_time": "2023-09-26T13:38:04.264Z"
   },
   {
    "duration": 362,
    "start_time": "2023-09-26T13:38:04.639Z"
   },
   {
    "duration": 247,
    "start_time": "2023-09-26T13:38:05.003Z"
   },
   {
    "duration": 324,
    "start_time": "2023-09-26T13:38:05.252Z"
   },
   {
    "duration": 255,
    "start_time": "2023-09-26T13:38:05.578Z"
   },
   {
    "duration": 354,
    "start_time": "2023-09-26T13:38:05.835Z"
   },
   {
    "duration": 339,
    "start_time": "2023-09-26T13:38:06.191Z"
   },
   {
    "duration": 230,
    "start_time": "2023-09-26T13:38:06.533Z"
   },
   {
    "duration": 6,
    "start_time": "2023-09-26T13:38:06.765Z"
   },
   {
    "duration": 206,
    "start_time": "2023-09-26T13:38:06.773Z"
   },
   {
    "duration": 177,
    "start_time": "2023-09-26T13:38:06.981Z"
   },
   {
    "duration": 6,
    "start_time": "2023-09-26T13:38:07.160Z"
   },
   {
    "duration": 342,
    "start_time": "2023-09-26T13:38:07.168Z"
   },
   {
    "duration": 202,
    "start_time": "2023-09-26T13:38:07.512Z"
   },
   {
    "duration": 12,
    "start_time": "2023-09-26T13:38:07.718Z"
   },
   {
    "duration": 103,
    "start_time": "2023-09-26T13:38:07.731Z"
   },
   {
    "duration": 30,
    "start_time": "2023-09-26T13:38:07.836Z"
   },
   {
    "duration": 57,
    "start_time": "2023-09-26T13:38:07.868Z"
   },
   {
    "duration": 18,
    "start_time": "2023-09-26T13:38:07.927Z"
   }
  ],
  "kernelspec": {
   "display_name": "Python 3 (ipykernel)",
   "language": "python",
   "name": "python3"
  },
  "language_info": {
   "codemirror_mode": {
    "name": "ipython",
    "version": 3
   },
   "file_extension": ".py",
   "mimetype": "text/x-python",
   "name": "python",
   "nbconvert_exporter": "python",
   "pygments_lexer": "ipython3",
   "version": "3.9.5"
  },
  "toc": {
   "base_numbering": 1,
   "nav_menu": {},
   "number_sections": true,
   "sideBar": true,
   "skip_h1_title": true,
   "title_cell": "Table of Contents",
   "title_sidebar": "Contents",
   "toc_cell": false,
   "toc_position": {},
   "toc_section_display": true,
   "toc_window_display": true
  }
 },
 "nbformat": 4,
 "nbformat_minor": 4
}
