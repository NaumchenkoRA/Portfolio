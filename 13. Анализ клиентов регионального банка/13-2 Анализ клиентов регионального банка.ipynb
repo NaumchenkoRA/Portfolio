{
 "cells": [
  {
   "cell_type": "markdown",
   "metadata": {
    "toc": true
   },
   "source": [
    "<h1>Содержание<span class=\"tocSkip\"></span></h1>\n",
    "<div class=\"toc\"><ul class=\"toc-item\"><li><span><a href=\"#Введение\" data-toc-modified-id=\"Введение-1\"><span class=\"toc-item-num\">1&nbsp;&nbsp;</span>Введение</a></span><ul class=\"toc-item\"><li><span><a href=\"#Описание-проекта\" data-toc-modified-id=\"Описание-проекта-1.1\"><span class=\"toc-item-num\">1.1&nbsp;&nbsp;</span>Описание проекта</a></span></li><li><span><a href=\"#Описание-данных\" data-toc-modified-id=\"Описание-данных-1.2\"><span class=\"toc-item-num\">1.2&nbsp;&nbsp;</span>Описание данных</a></span></li></ul></li><li><span><a href=\"#Загрузка-данных\" data-toc-modified-id=\"Загрузка-данных-2\"><span class=\"toc-item-num\">2&nbsp;&nbsp;</span>Загрузка данных</a></span></li><li><span><a href=\"#Предобработка-данных\" data-toc-modified-id=\"Предобработка-данных-3\"><span class=\"toc-item-num\">3&nbsp;&nbsp;</span>Предобработка данных</a></span><ul class=\"toc-item\"><li><span><a href=\"#Заменим-названия-столбцов-(приведём-к-нижнему-регистру)\" data-toc-modified-id=\"Заменим-названия-столбцов-(приведём-к-нижнему-регистру)-3.1\"><span class=\"toc-item-num\">3.1&nbsp;&nbsp;</span>Заменим названия столбцов (приведём к нижнему регистру)</a></span></li><li><span><a href=\"#Исправляем-тип-данных\" data-toc-modified-id=\"Исправляем-тип-данных-3.2\"><span class=\"toc-item-num\">3.2&nbsp;&nbsp;</span>Исправляем тип данных</a></span></li><li><span><a href=\"#Пропуски\" data-toc-modified-id=\"Пропуски-3.3\"><span class=\"toc-item-num\">3.3&nbsp;&nbsp;</span>Пропуски</a></span></li><li><span><a href=\"#Дубликаты\" data-toc-modified-id=\"Дубликаты-3.4\"><span class=\"toc-item-num\">3.4&nbsp;&nbsp;</span>Дубликаты</a></span></li><li><span><a href=\"#Аномальные-значения\" data-toc-modified-id=\"Аномальные-значения-3.5\"><span class=\"toc-item-num\">3.5&nbsp;&nbsp;</span>Аномальные значения</a></span></li><li><span><a href=\"#Кодирование-(get_dummies)\" data-toc-modified-id=\"Кодирование-(get_dummies)-3.6\"><span class=\"toc-item-num\">3.6&nbsp;&nbsp;</span>Кодирование (get_dummies)</a></span></li><li><span><a href=\"#Вывод-по-блоку-предаброботка-данных:\" data-toc-modified-id=\"Вывод-по-блоку-предаброботка-данных:-3.7\"><span class=\"toc-item-num\">3.7&nbsp;&nbsp;</span>Вывод по блоку предаброботка данных:</a></span></li></ul></li><li><span><a href=\"#Исследовательский-анализ\" data-toc-modified-id=\"Исследовательский-анализ-4\"><span class=\"toc-item-num\">4&nbsp;&nbsp;</span>Исследовательский анализ</a></span><ul class=\"toc-item\"><li><span><a href=\"#Средний-отток-по-банку\" data-toc-modified-id=\"Средний-отток-по-банку-4.1\"><span class=\"toc-item-num\">4.1&nbsp;&nbsp;</span>Средний отток по банку</a></span></li><li><span><a href=\"#Матрица-корреляции\" data-toc-modified-id=\"Матрица-корреляции-4.2\"><span class=\"toc-item-num\">4.2&nbsp;&nbsp;</span>Матрица корреляции</a></span></li><li><span><a href=\"#Распределения-(категориальных)\" data-toc-modified-id=\"Распределения-(категориальных)-4.3\"><span class=\"toc-item-num\">4.3&nbsp;&nbsp;</span>Распределения (категориальных)</a></span></li><li><span><a href=\"#Распределения-(непрерывных)\" data-toc-modified-id=\"Распределения-(непрерывных)-4.4\"><span class=\"toc-item-num\">4.4&nbsp;&nbsp;</span>Распределения (непрерывных)</a></span></li><li><span><a href=\"#Вывод-по-блоку-исследовательский-анализ-данных\" data-toc-modified-id=\"Вывод-по-блоку-исследовательский-анализ-данных-4.5\"><span class=\"toc-item-num\">4.5&nbsp;&nbsp;</span>Вывод по блоку исследовательский анализ данных</a></span></li></ul></li><li><span><a href=\"#Проверка-гипотез\" data-toc-modified-id=\"Проверка-гипотез-5\"><span class=\"toc-item-num\">5&nbsp;&nbsp;</span>Проверка гипотез</a></span><ul class=\"toc-item\"><li><span><a href=\"#Гипотеза-относительно-оценочного-дохода-пользователей\" data-toc-modified-id=\"Гипотеза-относительно-оценочного-дохода-пользователей-5.1\"><span class=\"toc-item-num\">5.1&nbsp;&nbsp;</span>Гипотеза относительно оценочного дохода пользователей</a></span></li><li><span><a href=\"#Гипотеза-относительно-баланса-на-счёте-пользователей\" data-toc-modified-id=\"Гипотеза-относительно-баланса-на-счёте-пользователей-5.2\"><span class=\"toc-item-num\">5.2&nbsp;&nbsp;</span>Гипотеза относительно баланса на счёте пользователей</a></span></li></ul></li><li><span><a href=\"#Вывод\" data-toc-modified-id=\"Вывод-6\"><span class=\"toc-item-num\">6&nbsp;&nbsp;</span>Вывод</a></span></li><li><span><a href=\"#Сегментация\" data-toc-modified-id=\"Сегментация-7\"><span class=\"toc-item-num\">7&nbsp;&nbsp;</span>Сегментация</a></span><ul class=\"toc-item\"><li><span><a href=\"#Сегмент-№-1\" data-toc-modified-id=\"Сегмент-№-1-7.1\"><span class=\"toc-item-num\">7.1&nbsp;&nbsp;</span>Сегмент № 1</a></span></li><li><span><a href=\"#Сегмент-№-2\" data-toc-modified-id=\"Сегмент-№-2-7.2\"><span class=\"toc-item-num\">7.2&nbsp;&nbsp;</span>Сегмент № 2</a></span></li><li><span><a href=\"#Сегмент-№-3\" data-toc-modified-id=\"Сегмент-№-3-7.3\"><span class=\"toc-item-num\">7.3&nbsp;&nbsp;</span>Сегмент № 3</a></span></li><li><span><a href=\"#Сегмент-№-4\" data-toc-modified-id=\"Сегмент-№-4-7.4\"><span class=\"toc-item-num\">7.4&nbsp;&nbsp;</span>Сегмент № 4</a></span></li></ul></li><li><span><a href=\"#Рекомендации-для-отедела-маркетинга\" data-toc-modified-id=\"Рекомендации-для-отедела-маркетинга-8\"><span class=\"toc-item-num\">8&nbsp;&nbsp;</span>Рекомендации для отедела маркетинга</a></span></li></ul></div>"
   ]
  },
  {
   "cell_type": "markdown",
   "metadata": {},
   "source": [
    "## Введение"
   ]
  },
  {
   "cell_type": "markdown",
   "metadata": {},
   "source": [
    "### Описание проекта"
   ]
  },
  {
   "cell_type": "markdown",
   "metadata": {},
   "source": [
    "**Заказчик:** Менеджер отдела маркетинга  \n",
    "**Задача:** Проанализировать клиентов регионального банка и выделите сегменты клиентов,\n",
    "которые склонны уходить из банка."
   ]
  },
  {
   "cell_type": "markdown",
   "metadata": {},
   "source": [
    "### Описание данных"
   ]
  },
  {
   "cell_type": "markdown",
   "metadata": {},
   "source": [
    "В нашем распоряжении датасет который содержит данные о клиентах банка «Метанпром». Банк располагается в Ярославле и областных городах: Ростов Великий и Рыбинск. \n",
    "\n",
    "Колонки:  \n",
    "**USERID** — идентификатор пользователя,  \n",
    "**score** — баллы кредитного скоринга,  \n",
    "**city** — город,  \n",
    "**gender** — пол,  \n",
    "**age** — возраст,  \n",
    "**equity** — количество баллов собственности  \n",
    "**balance** — баланс на счёте,  \n",
    "**products** — количество продуктов, которыми пользуется клиент,  \n",
    "**credit_card** — есть ли кредитная карта,  \n",
    "**last_activity** — активный клиент,  \n",
    "**EST_SALARY** — оценочный доход клиента,  \n",
    "**сhurn** — признак оттока.  "
   ]
  },
  {
   "cell_type": "markdown",
   "metadata": {},
   "source": [
    "## Загрузка данных"
   ]
  },
  {
   "cell_type": "code",
   "execution_count": 1,
   "metadata": {},
   "outputs": [],
   "source": [
    "import pandas as pd\n",
    "import matplotlib.pyplot as plt\n",
    "import numpy as np\n",
    "import datetime as dt\n",
    "import plotly\n",
    "import plotly.graph_objs as go\n",
    "import math as mth\n",
    "from scipy import stats as st\n",
    "import seaborn as sns \n",
    "import plotly.express as px\n",
    "#import folium"
   ]
  },
  {
   "cell_type": "markdown",
   "metadata": {},
   "source": [
    "<div class=\"alert btn-primary\"><b>Комментарий студента:</b><br>   Скопировал с прошлого проекта. Убрал.   </div>"
   ]
  },
  {
   "cell_type": "code",
   "execution_count": 2,
   "metadata": {},
   "outputs": [],
   "source": [
    "df = pd.read_csv('C:/Data yandex/bank_scrooge.csv')"
   ]
  },
  {
   "cell_type": "code",
   "execution_count": 3,
   "metadata": {},
   "outputs": [
    {
     "name": "stdout",
     "output_type": "stream",
     "text": [
      "<class 'pandas.core.frame.DataFrame'>\n",
      "RangeIndex: 10000 entries, 0 to 9999\n",
      "Data columns (total 12 columns):\n",
      " #   Column         Non-Null Count  Dtype  \n",
      "---  ------         --------------  -----  \n",
      " 0   USERID         10000 non-null  int64  \n",
      " 1   score          10000 non-null  float64\n",
      " 2   city           10000 non-null  object \n",
      " 3   gender         10000 non-null  object \n",
      " 4   age            9974 non-null   float64\n",
      " 5   equity         10000 non-null  int64  \n",
      " 6   balance        7705 non-null   float64\n",
      " 7   products       10000 non-null  int64  \n",
      " 8   credit_card    10000 non-null  int64  \n",
      " 9   last_activity  10000 non-null  int64  \n",
      " 10  EST_SALARY     10000 non-null  float64\n",
      " 11  churn          10000 non-null  int64  \n",
      "dtypes: float64(4), int64(6), object(2)\n",
      "memory usage: 937.6+ KB\n"
     ]
    },
    {
     "data": {
      "text/html": [
       "<div>\n",
       "<style scoped>\n",
       "    .dataframe tbody tr th:only-of-type {\n",
       "        vertical-align: middle;\n",
       "    }\n",
       "\n",
       "    .dataframe tbody tr th {\n",
       "        vertical-align: top;\n",
       "    }\n",
       "\n",
       "    .dataframe thead th {\n",
       "        text-align: right;\n",
       "    }\n",
       "</style>\n",
       "<table border=\"1\" class=\"dataframe\">\n",
       "  <thead>\n",
       "    <tr style=\"text-align: right;\">\n",
       "      <th></th>\n",
       "      <th>USERID</th>\n",
       "      <th>score</th>\n",
       "      <th>city</th>\n",
       "      <th>gender</th>\n",
       "      <th>age</th>\n",
       "      <th>equity</th>\n",
       "      <th>balance</th>\n",
       "      <th>products</th>\n",
       "      <th>credit_card</th>\n",
       "      <th>last_activity</th>\n",
       "      <th>EST_SALARY</th>\n",
       "      <th>churn</th>\n",
       "    </tr>\n",
       "  </thead>\n",
       "  <tbody>\n",
       "    <tr>\n",
       "      <th>0</th>\n",
       "      <td>183012</td>\n",
       "      <td>850.0</td>\n",
       "      <td>Рыбинск</td>\n",
       "      <td>Ж</td>\n",
       "      <td>25.0</td>\n",
       "      <td>1</td>\n",
       "      <td>59214.82</td>\n",
       "      <td>2</td>\n",
       "      <td>0</td>\n",
       "      <td>1</td>\n",
       "      <td>75719.14</td>\n",
       "      <td>1</td>\n",
       "    </tr>\n",
       "    <tr>\n",
       "      <th>1</th>\n",
       "      <td>146556</td>\n",
       "      <td>861.0</td>\n",
       "      <td>Рыбинск</td>\n",
       "      <td>Ж</td>\n",
       "      <td>37.0</td>\n",
       "      <td>5</td>\n",
       "      <td>850594.33</td>\n",
       "      <td>3</td>\n",
       "      <td>1</td>\n",
       "      <td>0</td>\n",
       "      <td>86621.77</td>\n",
       "      <td>0</td>\n",
       "    </tr>\n",
       "    <tr>\n",
       "      <th>2</th>\n",
       "      <td>120722</td>\n",
       "      <td>892.0</td>\n",
       "      <td>Рыбинск</td>\n",
       "      <td>Ж</td>\n",
       "      <td>30.0</td>\n",
       "      <td>0</td>\n",
       "      <td>NaN</td>\n",
       "      <td>1</td>\n",
       "      <td>1</td>\n",
       "      <td>1</td>\n",
       "      <td>107683.34</td>\n",
       "      <td>0</td>\n",
       "    </tr>\n",
       "    <tr>\n",
       "      <th>3</th>\n",
       "      <td>225363</td>\n",
       "      <td>866.0</td>\n",
       "      <td>Ярославль</td>\n",
       "      <td>Ж</td>\n",
       "      <td>51.0</td>\n",
       "      <td>5</td>\n",
       "      <td>1524746.26</td>\n",
       "      <td>2</td>\n",
       "      <td>0</td>\n",
       "      <td>1</td>\n",
       "      <td>174423.53</td>\n",
       "      <td>1</td>\n",
       "    </tr>\n",
       "    <tr>\n",
       "      <th>4</th>\n",
       "      <td>157978</td>\n",
       "      <td>730.0</td>\n",
       "      <td>Ярославль</td>\n",
       "      <td>М</td>\n",
       "      <td>34.0</td>\n",
       "      <td>5</td>\n",
       "      <td>174.00</td>\n",
       "      <td>1</td>\n",
       "      <td>1</td>\n",
       "      <td>0</td>\n",
       "      <td>67353.16</td>\n",
       "      <td>1</td>\n",
       "    </tr>\n",
       "  </tbody>\n",
       "</table>\n",
       "</div>"
      ],
      "text/plain": [
       "   USERID  score       city gender   age  equity     balance  products  \\\n",
       "0  183012  850.0    Рыбинск      Ж  25.0       1    59214.82         2   \n",
       "1  146556  861.0    Рыбинск      Ж  37.0       5   850594.33         3   \n",
       "2  120722  892.0    Рыбинск      Ж  30.0       0         NaN         1   \n",
       "3  225363  866.0  Ярославль      Ж  51.0       5  1524746.26         2   \n",
       "4  157978  730.0  Ярославль      М  34.0       5      174.00         1   \n",
       "\n",
       "   credit_card  last_activity  EST_SALARY  churn  \n",
       "0            0              1    75719.14      1  \n",
       "1            1              0    86621.77      0  \n",
       "2            1              1   107683.34      0  \n",
       "3            0              1   174423.53      1  \n",
       "4            1              0    67353.16      1  "
      ]
     },
     "execution_count": 3,
     "metadata": {},
     "output_type": "execute_result"
    }
   ],
   "source": [
    "df.info()\n",
    "df.head()"
   ]
  },
  {
   "cell_type": "markdown",
   "metadata": {},
   "source": [
    "## Предобработка данных"
   ]
  },
  {
   "cell_type": "markdown",
   "metadata": {},
   "source": [
    "### Заменим названия столбцов (приведём к нижнему регистру)"
   ]
  },
  {
   "cell_type": "code",
   "execution_count": 4,
   "metadata": {},
   "outputs": [],
   "source": [
    "df.columns = df.columns.str.lower()"
   ]
  },
  {
   "cell_type": "markdown",
   "metadata": {},
   "source": [
    "### Исправляем тип данных"
   ]
  },
  {
   "cell_type": "code",
   "execution_count": 5,
   "metadata": {},
   "outputs": [],
   "source": [
    "# убираем лишние нули\n",
    "df['score'] = df['score'].astype('Int64')"
   ]
  },
  {
   "cell_type": "markdown",
   "metadata": {},
   "source": [
    "### Пропуски"
   ]
  },
  {
   "cell_type": "code",
   "execution_count": 6,
   "metadata": {},
   "outputs": [
    {
     "data": {
      "text/html": [
       "<style  type=\"text/css\" >\n",
       "#T_ca2bc_row0_col0,#T_ca2bc_row1_col0,#T_ca2bc_row2_col0,#T_ca2bc_row3_col0,#T_ca2bc_row5_col0,#T_ca2bc_row7_col0,#T_ca2bc_row8_col0,#T_ca2bc_row9_col0,#T_ca2bc_row10_col0,#T_ca2bc_row11_col0{\n",
       "            background-color:  #3b4cc0;\n",
       "            color:  #f1f1f1;\n",
       "        }#T_ca2bc_row4_col0{\n",
       "            background-color:  #3d50c3;\n",
       "            color:  #f1f1f1;\n",
       "        }#T_ca2bc_row6_col0{\n",
       "            background-color:  #b40426;\n",
       "            color:  #f1f1f1;\n",
       "        }</style><table id=\"T_ca2bc_\" ><thead>    <tr>        <th class=\"blank level0\" ></th>        <th class=\"col_heading level0 col0\" >0</th>    </tr></thead><tbody>\n",
       "                <tr>\n",
       "                        <th id=\"T_ca2bc_level0_row0\" class=\"row_heading level0 row0\" >userid</th>\n",
       "                        <td id=\"T_ca2bc_row0_col0\" class=\"data row0 col0\" >0.000000</td>\n",
       "            </tr>\n",
       "            <tr>\n",
       "                        <th id=\"T_ca2bc_level0_row1\" class=\"row_heading level0 row1\" >score</th>\n",
       "                        <td id=\"T_ca2bc_row1_col0\" class=\"data row1 col0\" >0.000000</td>\n",
       "            </tr>\n",
       "            <tr>\n",
       "                        <th id=\"T_ca2bc_level0_row2\" class=\"row_heading level0 row2\" >city</th>\n",
       "                        <td id=\"T_ca2bc_row2_col0\" class=\"data row2 col0\" >0.000000</td>\n",
       "            </tr>\n",
       "            <tr>\n",
       "                        <th id=\"T_ca2bc_level0_row3\" class=\"row_heading level0 row3\" >gender</th>\n",
       "                        <td id=\"T_ca2bc_row3_col0\" class=\"data row3 col0\" >0.000000</td>\n",
       "            </tr>\n",
       "            <tr>\n",
       "                        <th id=\"T_ca2bc_level0_row4\" class=\"row_heading level0 row4\" >age</th>\n",
       "                        <td id=\"T_ca2bc_row4_col0\" class=\"data row4 col0\" >0.260000</td>\n",
       "            </tr>\n",
       "            <tr>\n",
       "                        <th id=\"T_ca2bc_level0_row5\" class=\"row_heading level0 row5\" >equity</th>\n",
       "                        <td id=\"T_ca2bc_row5_col0\" class=\"data row5 col0\" >0.000000</td>\n",
       "            </tr>\n",
       "            <tr>\n",
       "                        <th id=\"T_ca2bc_level0_row6\" class=\"row_heading level0 row6\" >balance</th>\n",
       "                        <td id=\"T_ca2bc_row6_col0\" class=\"data row6 col0\" >22.950000</td>\n",
       "            </tr>\n",
       "            <tr>\n",
       "                        <th id=\"T_ca2bc_level0_row7\" class=\"row_heading level0 row7\" >products</th>\n",
       "                        <td id=\"T_ca2bc_row7_col0\" class=\"data row7 col0\" >0.000000</td>\n",
       "            </tr>\n",
       "            <tr>\n",
       "                        <th id=\"T_ca2bc_level0_row8\" class=\"row_heading level0 row8\" >credit_card</th>\n",
       "                        <td id=\"T_ca2bc_row8_col0\" class=\"data row8 col0\" >0.000000</td>\n",
       "            </tr>\n",
       "            <tr>\n",
       "                        <th id=\"T_ca2bc_level0_row9\" class=\"row_heading level0 row9\" >last_activity</th>\n",
       "                        <td id=\"T_ca2bc_row9_col0\" class=\"data row9 col0\" >0.000000</td>\n",
       "            </tr>\n",
       "            <tr>\n",
       "                        <th id=\"T_ca2bc_level0_row10\" class=\"row_heading level0 row10\" >est_salary</th>\n",
       "                        <td id=\"T_ca2bc_row10_col0\" class=\"data row10 col0\" >0.000000</td>\n",
       "            </tr>\n",
       "            <tr>\n",
       "                        <th id=\"T_ca2bc_level0_row11\" class=\"row_heading level0 row11\" >churn</th>\n",
       "                        <td id=\"T_ca2bc_row11_col0\" class=\"data row11 col0\" >0.000000</td>\n",
       "            </tr>\n",
       "    </tbody></table>"
      ],
      "text/plain": [
       "<pandas.io.formats.style.Styler at 0x21a7f550910>"
      ]
     },
     "execution_count": 6,
     "metadata": {},
     "output_type": "execute_result"
    }
   ],
   "source": [
    "pd.DataFrame(round(df.isna().mean()*100,2)).style.background_gradient('coolwarm')"
   ]
  },
  {
   "cell_type": "markdown",
   "metadata": {},
   "source": [
    "В столбце **age** пропусков не много (0.26%) => Просто удаляем"
   ]
  },
  {
   "cell_type": "code",
   "execution_count": 7,
   "metadata": {},
   "outputs": [],
   "source": [
    "df = df.dropna(subset=['age'])"
   ]
  },
  {
   "cell_type": "markdown",
   "metadata": {},
   "source": [
    "В балансе почти 23% пропусков. Вообще, очень странная история с таким кол-вом пропусков в балансе, можно было бы обратиться к тому кто предоставил эту выгрузку, тут явно какая-то техническая ошибка, не может же не быть у банка информации о балансе пользователя. Посмотрим что можно тут сделать:"
   ]
  },
  {
   "cell_type": "code",
   "execution_count": 8,
   "metadata": {},
   "outputs": [
    {
     "data": {
      "text/html": [
       "<div>\n",
       "<style scoped>\n",
       "    .dataframe tbody tr th:only-of-type {\n",
       "        vertical-align: middle;\n",
       "    }\n",
       "\n",
       "    .dataframe tbody tr th {\n",
       "        vertical-align: top;\n",
       "    }\n",
       "\n",
       "    .dataframe thead th {\n",
       "        text-align: right;\n",
       "    }\n",
       "</style>\n",
       "<table border=\"1\" class=\"dataframe\">\n",
       "  <thead>\n",
       "    <tr style=\"text-align: right;\">\n",
       "      <th></th>\n",
       "      <th>userid</th>\n",
       "      <th>score</th>\n",
       "      <th>age</th>\n",
       "      <th>equity</th>\n",
       "      <th>balance</th>\n",
       "      <th>products</th>\n",
       "      <th>credit_card</th>\n",
       "      <th>last_activity</th>\n",
       "      <th>est_salary</th>\n",
       "      <th>churn</th>\n",
       "    </tr>\n",
       "    <tr>\n",
       "      <th>balance</th>\n",
       "      <th></th>\n",
       "      <th></th>\n",
       "      <th></th>\n",
       "      <th></th>\n",
       "      <th></th>\n",
       "      <th></th>\n",
       "      <th></th>\n",
       "      <th></th>\n",
       "      <th></th>\n",
       "      <th></th>\n",
       "    </tr>\n",
       "  </thead>\n",
       "  <tbody>\n",
       "    <tr>\n",
       "      <th>False</th>\n",
       "      <td>171904.885915</td>\n",
       "      <td>865.357174</td>\n",
       "      <td>42.093023</td>\n",
       "      <td>0.051338</td>\n",
       "      <td>NaN</td>\n",
       "      <td>1.163229</td>\n",
       "      <td>0.815270</td>\n",
       "      <td>0.548925</td>\n",
       "      <td>226345.417464</td>\n",
       "      <td>0.005704</td>\n",
       "    </tr>\n",
       "    <tr>\n",
       "      <th>True</th>\n",
       "      <td>171710.892268</td>\n",
       "      <td>843.74412</td>\n",
       "      <td>42.924366</td>\n",
       "      <td>3.394802</td>\n",
       "      <td>827245.587515</td>\n",
       "      <td>2.081222</td>\n",
       "      <td>0.640156</td>\n",
       "      <td>0.515140</td>\n",
       "      <td>124520.394264</td>\n",
       "      <td>0.234698</td>\n",
       "    </tr>\n",
       "  </tbody>\n",
       "</table>\n",
       "</div>"
      ],
      "text/plain": [
       "                userid       score        age    equity        balance  \\\n",
       "balance                                                                  \n",
       "False    171904.885915  865.357174  42.093023  0.051338            NaN   \n",
       "True     171710.892268   843.74412  42.924366  3.394802  827245.587515   \n",
       "\n",
       "         products  credit_card  last_activity     est_salary     churn  \n",
       "balance                                                                 \n",
       "False    1.163229     0.815270       0.548925  226345.417464  0.005704  \n",
       "True     2.081222     0.640156       0.515140  124520.394264  0.234698  "
      ]
     },
     "execution_count": 8,
     "metadata": {},
     "output_type": "execute_result"
    }
   ],
   "source": [
    "df_bal = df.groupby(df['balance'].notnull()).mean()\n",
    "df_bal"
   ]
  },
  {
   "cell_type": "markdown",
   "metadata": {},
   "source": [
    "Пропуски относятся к категории **MNAR** (Missing Not At Random / Отсутствует не случайно) — пропуски зависят от переменных, которых нет в данных, объяснить взаимосвязи с данными не получается, без дополнительного обоснования их нельзя отбрасывать или заполнять одним значением, т.к. это приведёт к заметным искажениям."
   ]
  },
  {
   "cell_type": "markdown",
   "metadata": {},
   "source": [
    "Пользователи с пропусками в столбце баланса отличаются отсутствием собственности, пользуются меньшим кол-вом продуктов, чаще имеют кредитку и больше зарабатывают (или говорят что больше зарабатывают) - и что самое интересное, почти не склонны к оттоку. Активность за последний месяц у них такая же как и у пользователей с балансом, значит это не забытые аккаунты. Заполнить по среднему значению привязавшись к какой-нибудь группировке не получится, оставляем как есть, учтём в выводах."
   ]
  },
  {
   "cell_type": "markdown",
   "metadata": {},
   "source": [
    "### Дубликаты"
   ]
  },
  {
   "cell_type": "code",
   "execution_count": 9,
   "metadata": {},
   "outputs": [
    {
     "data": {
      "text/plain": [
       "0"
      ]
     },
     "execution_count": 9,
     "metadata": {},
     "output_type": "execute_result"
    }
   ],
   "source": [
    "# явные\n",
    "df.duplicated().sum()"
   ]
  },
  {
   "cell_type": "code",
   "execution_count": 10,
   "metadata": {},
   "outputs": [
    {
     "data": {
      "text/plain": [
       "array(['Рыбинск', 'Ярославль', 'Ростов'], dtype=object)"
      ]
     },
     "execution_count": 10,
     "metadata": {},
     "output_type": "execute_result"
    }
   ],
   "source": [
    "# не явные дубликаты\n",
    "df['city'].unique()"
   ]
  },
  {
   "cell_type": "code",
   "execution_count": 11,
   "metadata": {},
   "outputs": [
    {
     "data": {
      "text/plain": [
       "9924"
      ]
     },
     "execution_count": 11,
     "metadata": {},
     "output_type": "execute_result"
    }
   ],
   "source": [
    "# уникальные user id\n",
    "df['userid'].nunique() "
   ]
  },
  {
   "cell_type": "code",
   "execution_count": 12,
   "metadata": {},
   "outputs": [
    {
     "data": {
      "text/html": [
       "<div>\n",
       "<style scoped>\n",
       "    .dataframe tbody tr th:only-of-type {\n",
       "        vertical-align: middle;\n",
       "    }\n",
       "\n",
       "    .dataframe tbody tr th {\n",
       "        vertical-align: top;\n",
       "    }\n",
       "\n",
       "    .dataframe thead th {\n",
       "        text-align: right;\n",
       "    }\n",
       "</style>\n",
       "<table border=\"1\" class=\"dataframe\">\n",
       "  <thead>\n",
       "    <tr style=\"text-align: right;\">\n",
       "      <th></th>\n",
       "      <th>userid</th>\n",
       "      <th>score</th>\n",
       "      <th>city</th>\n",
       "      <th>gender</th>\n",
       "      <th>age</th>\n",
       "      <th>equity</th>\n",
       "      <th>balance</th>\n",
       "      <th>products</th>\n",
       "      <th>credit_card</th>\n",
       "      <th>last_activity</th>\n",
       "      <th>est_salary</th>\n",
       "      <th>churn</th>\n",
       "    </tr>\n",
       "  </thead>\n",
       "  <tbody>\n",
       "    <tr>\n",
       "      <th>1893</th>\n",
       "      <td>116540</td>\n",
       "      <td>883</td>\n",
       "      <td>Рыбинск</td>\n",
       "      <td>Ж</td>\n",
       "      <td>55.0</td>\n",
       "      <td>1</td>\n",
       "      <td>362756.49</td>\n",
       "      <td>3</td>\n",
       "      <td>0</td>\n",
       "      <td>1</td>\n",
       "      <td>175920.48</td>\n",
       "      <td>1</td>\n",
       "    </tr>\n",
       "    <tr>\n",
       "      <th>7694</th>\n",
       "      <td>116540</td>\n",
       "      <td>887</td>\n",
       "      <td>Ярославль</td>\n",
       "      <td>Ж</td>\n",
       "      <td>38.0</td>\n",
       "      <td>0</td>\n",
       "      <td>NaN</td>\n",
       "      <td>1</td>\n",
       "      <td>0</td>\n",
       "      <td>1</td>\n",
       "      <td>119247.61</td>\n",
       "      <td>0</td>\n",
       "    </tr>\n",
       "    <tr>\n",
       "      <th>4866</th>\n",
       "      <td>117943</td>\n",
       "      <td>855</td>\n",
       "      <td>Рыбинск</td>\n",
       "      <td>Ж</td>\n",
       "      <td>32.0</td>\n",
       "      <td>6</td>\n",
       "      <td>1036832.93</td>\n",
       "      <td>4</td>\n",
       "      <td>1</td>\n",
       "      <td>1</td>\n",
       "      <td>107792.71</td>\n",
       "      <td>1</td>\n",
       "    </tr>\n",
       "    <tr>\n",
       "      <th>7542</th>\n",
       "      <td>117943</td>\n",
       "      <td>880</td>\n",
       "      <td>Ярославль</td>\n",
       "      <td>Ж</td>\n",
       "      <td>40.0</td>\n",
       "      <td>0</td>\n",
       "      <td>NaN</td>\n",
       "      <td>1</td>\n",
       "      <td>1</td>\n",
       "      <td>0</td>\n",
       "      <td>137718.93</td>\n",
       "      <td>0</td>\n",
       "    </tr>\n",
       "    <tr>\n",
       "      <th>5863</th>\n",
       "      <td>120258</td>\n",
       "      <td>908</td>\n",
       "      <td>Рыбинск</td>\n",
       "      <td>Ж</td>\n",
       "      <td>38.0</td>\n",
       "      <td>4</td>\n",
       "      <td>2213581.63</td>\n",
       "      <td>2</td>\n",
       "      <td>0</td>\n",
       "      <td>1</td>\n",
       "      <td>160327.77</td>\n",
       "      <td>1</td>\n",
       "    </tr>\n",
       "    <tr>\n",
       "      <th>5896</th>\n",
       "      <td>120258</td>\n",
       "      <td>905</td>\n",
       "      <td>Ярославль</td>\n",
       "      <td>М</td>\n",
       "      <td>30.0</td>\n",
       "      <td>0</td>\n",
       "      <td>NaN</td>\n",
       "      <td>1</td>\n",
       "      <td>1</td>\n",
       "      <td>1</td>\n",
       "      <td>146427.96</td>\n",
       "      <td>0</td>\n",
       "    </tr>\n",
       "  </tbody>\n",
       "</table>\n",
       "</div>"
      ],
      "text/plain": [
       "      userid  score       city gender   age  equity     balance  products  \\\n",
       "1893  116540    883    Рыбинск      Ж  55.0       1   362756.49         3   \n",
       "7694  116540    887  Ярославль      Ж  38.0       0         NaN         1   \n",
       "4866  117943    855    Рыбинск      Ж  32.0       6  1036832.93         4   \n",
       "7542  117943    880  Ярославль      Ж  40.0       0         NaN         1   \n",
       "5863  120258    908    Рыбинск      Ж  38.0       4  2213581.63         2   \n",
       "5896  120258    905  Ярославль      М  30.0       0         NaN         1   \n",
       "\n",
       "      credit_card  last_activity  est_salary  churn  \n",
       "1893            0              1   175920.48      1  \n",
       "7694            0              1   119247.61      0  \n",
       "4866            1              1   107792.71      1  \n",
       "7542            1              0   137718.93      0  \n",
       "5863            0              1   160327.77      1  \n",
       "5896            1              1   146427.96      0  "
      ]
     },
     "execution_count": 12,
     "metadata": {},
     "output_type": "execute_result"
    }
   ],
   "source": [
    "duplicateRows = df[df.duplicated(['userid'], keep=False)]\n",
    "duplicateRows.sort_values(by='userid').head(6)"
   ]
  },
  {
   "cell_type": "markdown",
   "metadata": {},
   "source": [
    "Есть 50 не уникальных userid, но остальные данные по ним не совпадают. Оставляем как есть."
   ]
  },
  {
   "cell_type": "markdown",
   "metadata": {},
   "source": [
    "### Аномальные значения"
   ]
  },
  {
   "cell_type": "code",
   "execution_count": 14,
   "metadata": {},
   "outputs": [
    {
     "data": {
      "image/png": "[encoded data removed]",
      "text/plain": [
       "<Figure size 864x864 with 12 Axes>"
      ]
     },
     "metadata": {
      "needs_background": "light"
     },
     "output_type": "display_data"
    }
   ],
   "source": [
    "# Посмотрим распредление\n",
    "df.hist(figsize=(12, 12), color = 'lightseagreen', ec = 'grey')\n",
    "plt.show()"
   ]
  },
  {
   "cell_type": "code",
   "execution_count": 15,
   "metadata": {},
   "outputs": [
    {
     "data": {
      "text/html": [
       "<div>\n",
       "<style scoped>\n",
       "    .dataframe tbody tr th:only-of-type {\n",
       "        vertical-align: middle;\n",
       "    }\n",
       "\n",
       "    .dataframe tbody tr th {\n",
       "        vertical-align: top;\n",
       "    }\n",
       "\n",
       "    .dataframe thead th {\n",
       "        text-align: right;\n",
       "    }\n",
       "</style>\n",
       "<table border=\"1\" class=\"dataframe\">\n",
       "  <thead>\n",
       "    <tr style=\"text-align: right;\">\n",
       "      <th></th>\n",
       "      <th>userid</th>\n",
       "      <th>score</th>\n",
       "      <th>age</th>\n",
       "      <th>equity</th>\n",
       "      <th>balance</th>\n",
       "      <th>products</th>\n",
       "      <th>credit_card</th>\n",
       "      <th>last_activity</th>\n",
       "      <th>est_salary</th>\n",
       "      <th>churn</th>\n",
       "    </tr>\n",
       "  </thead>\n",
       "  <tbody>\n",
       "    <tr>\n",
       "      <th>count</th>\n",
       "      <td>9974.000000</td>\n",
       "      <td>9974.000000</td>\n",
       "      <td>9974.000000</td>\n",
       "      <td>9974.000000</td>\n",
       "      <td>7.695000e+03</td>\n",
       "      <td>9974.000000</td>\n",
       "      <td>9974.000000</td>\n",
       "      <td>9974.000000</td>\n",
       "      <td>9.974000e+03</td>\n",
       "      <td>9974.000000</td>\n",
       "    </tr>\n",
       "    <tr>\n",
       "      <th>mean</th>\n",
       "      <td>171755.218669</td>\n",
       "      <td>848.682575</td>\n",
       "      <td>42.734409</td>\n",
       "      <td>2.630840</td>\n",
       "      <td>8.272456e+05</td>\n",
       "      <td>1.871466</td>\n",
       "      <td>0.680168</td>\n",
       "      <td>0.522859</td>\n",
       "      <td>1.477868e+05</td>\n",
       "      <td>0.182374</td>\n",
       "    </tr>\n",
       "    <tr>\n",
       "      <th>std</th>\n",
       "      <td>33695.527126</td>\n",
       "      <td>65.399720</td>\n",
       "      <td>12.179971</td>\n",
       "      <td>1.979965</td>\n",
       "      <td>1.980327e+06</td>\n",
       "      <td>0.792729</td>\n",
       "      <td>0.466435</td>\n",
       "      <td>0.499502</td>\n",
       "      <td>1.392855e+05</td>\n",
       "      <td>0.386172</td>\n",
       "    </tr>\n",
       "    <tr>\n",
       "      <th>min</th>\n",
       "      <td>94561.000000</td>\n",
       "      <td>642.000000</td>\n",
       "      <td>18.000000</td>\n",
       "      <td>0.000000</td>\n",
       "      <td>0.000000e+00</td>\n",
       "      <td>0.000000</td>\n",
       "      <td>0.000000</td>\n",
       "      <td>0.000000</td>\n",
       "      <td>2.546300e+03</td>\n",
       "      <td>0.000000</td>\n",
       "    </tr>\n",
       "    <tr>\n",
       "      <th>25%</th>\n",
       "      <td>142760.000000</td>\n",
       "      <td>802.000000</td>\n",
       "      <td>33.000000</td>\n",
       "      <td>0.000000</td>\n",
       "      <td>2.956987e+05</td>\n",
       "      <td>1.000000</td>\n",
       "      <td>0.000000</td>\n",
       "      <td>0.000000</td>\n",
       "      <td>7.525166e+04</td>\n",
       "      <td>0.000000</td>\n",
       "    </tr>\n",
       "    <tr>\n",
       "      <th>50%</th>\n",
       "      <td>172643.000000</td>\n",
       "      <td>853.000000</td>\n",
       "      <td>40.000000</td>\n",
       "      <td>3.000000</td>\n",
       "      <td>5.242953e+05</td>\n",
       "      <td>2.000000</td>\n",
       "      <td>1.000000</td>\n",
       "      <td>1.000000</td>\n",
       "      <td>1.196268e+05</td>\n",
       "      <td>0.000000</td>\n",
       "    </tr>\n",
       "    <tr>\n",
       "      <th>75%</th>\n",
       "      <td>201163.750000</td>\n",
       "      <td>900.000000</td>\n",
       "      <td>51.000000</td>\n",
       "      <td>4.000000</td>\n",
       "      <td>9.800512e+05</td>\n",
       "      <td>2.000000</td>\n",
       "      <td>1.000000</td>\n",
       "      <td>1.000000</td>\n",
       "      <td>1.744998e+05</td>\n",
       "      <td>0.000000</td>\n",
       "    </tr>\n",
       "    <tr>\n",
       "      <th>max</th>\n",
       "      <td>229145.000000</td>\n",
       "      <td>1000.000000</td>\n",
       "      <td>86.000000</td>\n",
       "      <td>9.000000</td>\n",
       "      <td>1.191136e+08</td>\n",
       "      <td>5.000000</td>\n",
       "      <td>1.000000</td>\n",
       "      <td>1.000000</td>\n",
       "      <td>1.395064e+06</td>\n",
       "      <td>1.000000</td>\n",
       "    </tr>\n",
       "  </tbody>\n",
       "</table>\n",
       "</div>"
      ],
      "text/plain": [
       "              userid        score          age       equity       balance  \\\n",
       "count    9974.000000  9974.000000  9974.000000  9974.000000  7.695000e+03   \n",
       "mean   171755.218669   848.682575    42.734409     2.630840  8.272456e+05   \n",
       "std     33695.527126    65.399720    12.179971     1.979965  1.980327e+06   \n",
       "min     94561.000000   642.000000    18.000000     0.000000  0.000000e+00   \n",
       "25%    142760.000000   802.000000    33.000000     0.000000  2.956987e+05   \n",
       "50%    172643.000000   853.000000    40.000000     3.000000  5.242953e+05   \n",
       "75%    201163.750000   900.000000    51.000000     4.000000  9.800512e+05   \n",
       "max    229145.000000  1000.000000    86.000000     9.000000  1.191136e+08   \n",
       "\n",
       "          products  credit_card  last_activity    est_salary        churn  \n",
       "count  9974.000000  9974.000000    9974.000000  9.974000e+03  9974.000000  \n",
       "mean      1.871466     0.680168       0.522859  1.477868e+05     0.182374  \n",
       "std       0.792729     0.466435       0.499502  1.392855e+05     0.386172  \n",
       "min       0.000000     0.000000       0.000000  2.546300e+03     0.000000  \n",
       "25%       1.000000     0.000000       0.000000  7.525166e+04     0.000000  \n",
       "50%       2.000000     1.000000       1.000000  1.196268e+05     0.000000  \n",
       "75%       2.000000     1.000000       1.000000  1.744998e+05     0.000000  \n",
       "max       5.000000     1.000000       1.000000  1.395064e+06     1.000000  "
      ]
     },
     "execution_count": 15,
     "metadata": {},
     "output_type": "execute_result"
    }
   ],
   "source": [
    "df.describe()"
   ]
  },
  {
   "cell_type": "markdown",
   "metadata": {},
   "source": [
    "Выбивающиеся значения есть в столбцах score, age, balance и est_salary."
   ]
  },
  {
   "cell_type": "code",
   "execution_count": 16,
   "metadata": {},
   "outputs": [
    {
     "data": {
      "text/plain": [
       "<AxesSubplot:xlabel='score'>"
      ]
     },
     "execution_count": 16,
     "metadata": {},
     "output_type": "execute_result"
    },
    {
     "data": {
      "image/png": "[encoded data removed]",
      "text/plain": [
       "<Figure size 432x288 with 1 Axes>"
      ]
     },
     "metadata": {
      "needs_background": "light"
     },
     "output_type": "display_data"
    }
   ],
   "source": [
    "sns.boxplot(x=df['score']) "
   ]
  },
  {
   "cell_type": "code",
   "execution_count": 17,
   "metadata": {},
   "outputs": [
    {
     "data": {
      "text/plain": [
       "<AxesSubplot:xlabel='age'>"
      ]
     },
     "execution_count": 17,
     "metadata": {},
     "output_type": "execute_result"
    },
    {
     "data": {
      "image/png": "[encoded data removed]",
      "text/plain": [
       "<Figure size 432x288 with 1 Axes>"
      ]
     },
     "metadata": {
      "needs_background": "light"
     },
     "output_type": "display_data"
    }
   ],
   "source": [
    "sns.boxplot(x=df['age']) "
   ]
  },
  {
   "cell_type": "code",
   "execution_count": 18,
   "metadata": {},
   "outputs": [
    {
     "data": {
      "text/plain": [
       "<AxesSubplot:xlabel='balance'>"
      ]
     },
     "execution_count": 18,
     "metadata": {},
     "output_type": "execute_result"
    },
    {
     "data": {
      "image/png": "[encoded data removed]",
      "text/plain": [
       "<Figure size 432x288 with 1 Axes>"
      ]
     },
     "metadata": {
      "needs_background": "light"
     },
     "output_type": "display_data"
    }
   ],
   "source": [
    "sns.boxplot(x=df['balance']) "
   ]
  },
  {
   "cell_type": "code",
   "execution_count": 19,
   "metadata": {},
   "outputs": [
    {
     "data": {
      "text/plain": [
       "<AxesSubplot:xlabel='est_salary'>"
      ]
     },
     "execution_count": 19,
     "metadata": {},
     "output_type": "execute_result"
    },
    {
     "data": {
      "image/png": "[encoded data removed]",
      "text/plain": [
       "<Figure size 432x288 with 1 Axes>"
      ]
     },
     "metadata": {
      "needs_background": "light"
     },
     "output_type": "display_data"
    }
   ],
   "source": [
    "sns.boxplot(x=df['est_salary']) "
   ]
  },
  {
   "cell_type": "code",
   "execution_count": 20,
   "metadata": {},
   "outputs": [
    {
     "data": {
      "text/plain": [
       "1"
      ]
     },
     "execution_count": 20,
     "metadata": {},
     "output_type": "execute_result"
    }
   ],
   "source": [
    "# аномалии в products\n",
    "len(df[df['products']==0])"
   ]
  },
  {
   "cell_type": "code",
   "execution_count": 21,
   "metadata": {},
   "outputs": [],
   "source": [
    "# удаляем\n",
    "df = df.loc[df['products'] != 0]"
   ]
  },
  {
   "cell_type": "markdown",
   "metadata": {},
   "source": [
    "### Кодирование (get_dummies)"
   ]
  },
  {
   "cell_type": "code",
   "execution_count": 22,
   "metadata": {},
   "outputs": [],
   "source": [
    "df_2 = pd.get_dummies(df, dummy_na=False, columns=['gender', 'city'])\n",
    "df_2['gender'] = df['gender'] \n",
    "df_2['city'] = df['city'] "
   ]
  },
  {
   "cell_type": "code",
   "execution_count": 23,
   "metadata": {
    "scrolled": true
   },
   "outputs": [
    {
     "data": {
      "text/html": [
       "<div>\n",
       "<style scoped>\n",
       "    .dataframe tbody tr th:only-of-type {\n",
       "        vertical-align: middle;\n",
       "    }\n",
       "\n",
       "    .dataframe tbody tr th {\n",
       "        vertical-align: top;\n",
       "    }\n",
       "\n",
       "    .dataframe thead th {\n",
       "        text-align: right;\n",
       "    }\n",
       "</style>\n",
       "<table border=\"1\" class=\"dataframe\">\n",
       "  <thead>\n",
       "    <tr style=\"text-align: right;\">\n",
       "      <th></th>\n",
       "      <th>userid</th>\n",
       "      <th>score</th>\n",
       "      <th>age</th>\n",
       "      <th>equity</th>\n",
       "      <th>balance</th>\n",
       "      <th>products</th>\n",
       "      <th>credit_card</th>\n",
       "      <th>last_activity</th>\n",
       "      <th>est_salary</th>\n",
       "      <th>churn</th>\n",
       "      <th>gender_Ж</th>\n",
       "      <th>gender_М</th>\n",
       "      <th>city_Ростов</th>\n",
       "      <th>city_Рыбинск</th>\n",
       "      <th>city_Ярославль</th>\n",
       "      <th>gender</th>\n",
       "      <th>city</th>\n",
       "    </tr>\n",
       "  </thead>\n",
       "  <tbody>\n",
       "    <tr>\n",
       "      <th>1819</th>\n",
       "      <td>116528</td>\n",
       "      <td>929</td>\n",
       "      <td>32.0</td>\n",
       "      <td>6</td>\n",
       "      <td>1094677.62</td>\n",
       "      <td>2</td>\n",
       "      <td>1</td>\n",
       "      <td>1</td>\n",
       "      <td>118243.73</td>\n",
       "      <td>1</td>\n",
       "      <td>1</td>\n",
       "      <td>0</td>\n",
       "      <td>1</td>\n",
       "      <td>0</td>\n",
       "      <td>0</td>\n",
       "      <td>Ж</td>\n",
       "      <td>Ростов</td>\n",
       "    </tr>\n",
       "    <tr>\n",
       "      <th>4831</th>\n",
       "      <td>130372</td>\n",
       "      <td>787</td>\n",
       "      <td>49.0</td>\n",
       "      <td>2</td>\n",
       "      <td>290059.35</td>\n",
       "      <td>2</td>\n",
       "      <td>1</td>\n",
       "      <td>0</td>\n",
       "      <td>156263.14</td>\n",
       "      <td>0</td>\n",
       "      <td>1</td>\n",
       "      <td>0</td>\n",
       "      <td>0</td>\n",
       "      <td>0</td>\n",
       "      <td>1</td>\n",
       "      <td>Ж</td>\n",
       "      <td>Ярославль</td>\n",
       "    </tr>\n",
       "    <tr>\n",
       "      <th>4683</th>\n",
       "      <td>127124</td>\n",
       "      <td>852</td>\n",
       "      <td>66.0</td>\n",
       "      <td>3</td>\n",
       "      <td>597326.55</td>\n",
       "      <td>2</td>\n",
       "      <td>1</td>\n",
       "      <td>1</td>\n",
       "      <td>38197.87</td>\n",
       "      <td>0</td>\n",
       "      <td>1</td>\n",
       "      <td>0</td>\n",
       "      <td>0</td>\n",
       "      <td>0</td>\n",
       "      <td>1</td>\n",
       "      <td>Ж</td>\n",
       "      <td>Ярославль</td>\n",
       "    </tr>\n",
       "    <tr>\n",
       "      <th>2673</th>\n",
       "      <td>123888</td>\n",
       "      <td>790</td>\n",
       "      <td>31.0</td>\n",
       "      <td>4</td>\n",
       "      <td>289949.37</td>\n",
       "      <td>2</td>\n",
       "      <td>1</td>\n",
       "      <td>1</td>\n",
       "      <td>70283.62</td>\n",
       "      <td>0</td>\n",
       "      <td>0</td>\n",
       "      <td>1</td>\n",
       "      <td>0</td>\n",
       "      <td>0</td>\n",
       "      <td>1</td>\n",
       "      <td>М</td>\n",
       "      <td>Ярославль</td>\n",
       "    </tr>\n",
       "    <tr>\n",
       "      <th>1262</th>\n",
       "      <td>185550</td>\n",
       "      <td>803</td>\n",
       "      <td>42.0</td>\n",
       "      <td>3</td>\n",
       "      <td>375451.64</td>\n",
       "      <td>2</td>\n",
       "      <td>1</td>\n",
       "      <td>0</td>\n",
       "      <td>111481.75</td>\n",
       "      <td>0</td>\n",
       "      <td>0</td>\n",
       "      <td>1</td>\n",
       "      <td>0</td>\n",
       "      <td>0</td>\n",
       "      <td>1</td>\n",
       "      <td>М</td>\n",
       "      <td>Ярославль</td>\n",
       "    </tr>\n",
       "    <tr>\n",
       "      <th>9651</th>\n",
       "      <td>210999</td>\n",
       "      <td>880</td>\n",
       "      <td>69.0</td>\n",
       "      <td>5</td>\n",
       "      <td>839743.84</td>\n",
       "      <td>2</td>\n",
       "      <td>0</td>\n",
       "      <td>0</td>\n",
       "      <td>137596.52</td>\n",
       "      <td>0</td>\n",
       "      <td>1</td>\n",
       "      <td>0</td>\n",
       "      <td>0</td>\n",
       "      <td>0</td>\n",
       "      <td>1</td>\n",
       "      <td>Ж</td>\n",
       "      <td>Ярославль</td>\n",
       "    </tr>\n",
       "    <tr>\n",
       "      <th>3108</th>\n",
       "      <td>170410</td>\n",
       "      <td>816</td>\n",
       "      <td>54.0</td>\n",
       "      <td>3</td>\n",
       "      <td>760135.48</td>\n",
       "      <td>2</td>\n",
       "      <td>0</td>\n",
       "      <td>1</td>\n",
       "      <td>147142.76</td>\n",
       "      <td>0</td>\n",
       "      <td>0</td>\n",
       "      <td>1</td>\n",
       "      <td>0</td>\n",
       "      <td>0</td>\n",
       "      <td>1</td>\n",
       "      <td>М</td>\n",
       "      <td>Ярославль</td>\n",
       "    </tr>\n",
       "    <tr>\n",
       "      <th>9432</th>\n",
       "      <td>149225</td>\n",
       "      <td>907</td>\n",
       "      <td>37.0</td>\n",
       "      <td>0</td>\n",
       "      <td>NaN</td>\n",
       "      <td>1</td>\n",
       "      <td>1</td>\n",
       "      <td>1</td>\n",
       "      <td>146304.06</td>\n",
       "      <td>0</td>\n",
       "      <td>1</td>\n",
       "      <td>0</td>\n",
       "      <td>0</td>\n",
       "      <td>0</td>\n",
       "      <td>1</td>\n",
       "      <td>Ж</td>\n",
       "      <td>Ярославль</td>\n",
       "    </tr>\n",
       "    <tr>\n",
       "      <th>9534</th>\n",
       "      <td>180101</td>\n",
       "      <td>875</td>\n",
       "      <td>74.0</td>\n",
       "      <td>2</td>\n",
       "      <td>336128.39</td>\n",
       "      <td>2</td>\n",
       "      <td>0</td>\n",
       "      <td>1</td>\n",
       "      <td>29084.09</td>\n",
       "      <td>0</td>\n",
       "      <td>1</td>\n",
       "      <td>0</td>\n",
       "      <td>1</td>\n",
       "      <td>0</td>\n",
       "      <td>0</td>\n",
       "      <td>Ж</td>\n",
       "      <td>Ростов</td>\n",
       "    </tr>\n",
       "    <tr>\n",
       "      <th>120</th>\n",
       "      <td>135127</td>\n",
       "      <td>737</td>\n",
       "      <td>34.0</td>\n",
       "      <td>0</td>\n",
       "      <td>NaN</td>\n",
       "      <td>2</td>\n",
       "      <td>1</td>\n",
       "      <td>1</td>\n",
       "      <td>148157.43</td>\n",
       "      <td>0</td>\n",
       "      <td>1</td>\n",
       "      <td>0</td>\n",
       "      <td>0</td>\n",
       "      <td>0</td>\n",
       "      <td>1</td>\n",
       "      <td>Ж</td>\n",
       "      <td>Ярославль</td>\n",
       "    </tr>\n",
       "  </tbody>\n",
       "</table>\n",
       "</div>"
      ],
      "text/plain": [
       "      userid  score   age  equity     balance  products  credit_card  \\\n",
       "1819  116528    929  32.0       6  1094677.62         2            1   \n",
       "4831  130372    787  49.0       2   290059.35         2            1   \n",
       "4683  127124    852  66.0       3   597326.55         2            1   \n",
       "2673  123888    790  31.0       4   289949.37         2            1   \n",
       "1262  185550    803  42.0       3   375451.64         2            1   \n",
       "9651  210999    880  69.0       5   839743.84         2            0   \n",
       "3108  170410    816  54.0       3   760135.48         2            0   \n",
       "9432  149225    907  37.0       0         NaN         1            1   \n",
       "9534  180101    875  74.0       2   336128.39         2            0   \n",
       "120   135127    737  34.0       0         NaN         2            1   \n",
       "\n",
       "      last_activity  est_salary  churn  gender_Ж  gender_М  city_Ростов  \\\n",
       "1819              1   118243.73      1         1         0            1   \n",
       "4831              0   156263.14      0         1         0            0   \n",
       "4683              1    38197.87      0         1         0            0   \n",
       "2673              1    70283.62      0         0         1            0   \n",
       "1262              0   111481.75      0         0         1            0   \n",
       "9651              0   137596.52      0         1         0            0   \n",
       "3108              1   147142.76      0         0         1            0   \n",
       "9432              1   146304.06      0         1         0            0   \n",
       "9534              1    29084.09      0         1         0            1   \n",
       "120               1   148157.43      0         1         0            0   \n",
       "\n",
       "      city_Рыбинск  city_Ярославль gender       city  \n",
       "1819             0               0      Ж     Ростов  \n",
       "4831             0               1      Ж  Ярославль  \n",
       "4683             0               1      Ж  Ярославль  \n",
       "2673             0               1      М  Ярославль  \n",
       "1262             0               1      М  Ярославль  \n",
       "9651             0               1      Ж  Ярославль  \n",
       "3108             0               1      М  Ярославль  \n",
       "9432             0               1      Ж  Ярославль  \n",
       "9534             0               0      Ж     Ростов  \n",
       "120              0               1      Ж  Ярославль  "
      ]
     },
     "execution_count": 23,
     "metadata": {},
     "output_type": "execute_result"
    }
   ],
   "source": [
    "df_2.sample(10)"
   ]
  },
  {
   "cell_type": "code",
   "execution_count": 24,
   "metadata": {},
   "outputs": [
    {
     "data": {
      "text/html": [
       "<div>\n",
       "<style scoped>\n",
       "    .dataframe tbody tr th:only-of-type {\n",
       "        vertical-align: middle;\n",
       "    }\n",
       "\n",
       "    .dataframe tbody tr th {\n",
       "        vertical-align: top;\n",
       "    }\n",
       "\n",
       "    .dataframe thead th {\n",
       "        text-align: right;\n",
       "    }\n",
       "</style>\n",
       "<table border=\"1\" class=\"dataframe\">\n",
       "  <thead>\n",
       "    <tr style=\"text-align: right;\">\n",
       "      <th></th>\n",
       "      <th>userid</th>\n",
       "      <th>score</th>\n",
       "      <th>age</th>\n",
       "      <th>equity</th>\n",
       "      <th>balance</th>\n",
       "      <th>products</th>\n",
       "      <th>credit_card</th>\n",
       "      <th>last_activity</th>\n",
       "      <th>est_salary</th>\n",
       "      <th>churn</th>\n",
       "      <th>gender_Ж</th>\n",
       "      <th>gender_М</th>\n",
       "      <th>city_Ростов</th>\n",
       "      <th>city_Рыбинск</th>\n",
       "      <th>city_Ярославль</th>\n",
       "    </tr>\n",
       "  </thead>\n",
       "  <tbody>\n",
       "    <tr>\n",
       "      <th>count</th>\n",
       "      <td>9973.000000</td>\n",
       "      <td>9973.000000</td>\n",
       "      <td>9973.000000</td>\n",
       "      <td>9973.000000</td>\n",
       "      <td>7.695000e+03</td>\n",
       "      <td>9973.000000</td>\n",
       "      <td>9973.000000</td>\n",
       "      <td>9973.000000</td>\n",
       "      <td>9.973000e+03</td>\n",
       "      <td>9973.000000</td>\n",
       "      <td>9973.000000</td>\n",
       "      <td>9973.000000</td>\n",
       "      <td>9973.000000</td>\n",
       "      <td>9973.000000</td>\n",
       "      <td>9973.000000</td>\n",
       "    </tr>\n",
       "    <tr>\n",
       "      <th>mean</th>\n",
       "      <td>171757.616966</td>\n",
       "      <td>848.671212</td>\n",
       "      <td>42.730773</td>\n",
       "      <td>2.630803</td>\n",
       "      <td>8.272456e+05</td>\n",
       "      <td>1.871653</td>\n",
       "      <td>0.680237</td>\n",
       "      <td>0.522912</td>\n",
       "      <td>1.477991e+05</td>\n",
       "      <td>0.182292</td>\n",
       "      <td>0.499549</td>\n",
       "      <td>0.500451</td>\n",
       "      <td>0.141983</td>\n",
       "      <td>0.268926</td>\n",
       "      <td>0.589091</td>\n",
       "    </tr>\n",
       "    <tr>\n",
       "      <th>std</th>\n",
       "      <td>33696.365256</td>\n",
       "      <td>65.393153</td>\n",
       "      <td>12.175166</td>\n",
       "      <td>1.980060</td>\n",
       "      <td>1.980327e+06</td>\n",
       "      <td>0.792547</td>\n",
       "      <td>0.466408</td>\n",
       "      <td>0.499500</td>\n",
       "      <td>1.392871e+05</td>\n",
       "      <td>0.386105</td>\n",
       "      <td>0.500025</td>\n",
       "      <td>0.500025</td>\n",
       "      <td>0.349051</td>\n",
       "      <td>0.443424</td>\n",
       "      <td>0.492024</td>\n",
       "    </tr>\n",
       "    <tr>\n",
       "      <th>min</th>\n",
       "      <td>94561.000000</td>\n",
       "      <td>642.000000</td>\n",
       "      <td>18.000000</td>\n",
       "      <td>0.000000</td>\n",
       "      <td>0.000000e+00</td>\n",
       "      <td>1.000000</td>\n",
       "      <td>0.000000</td>\n",
       "      <td>0.000000</td>\n",
       "      <td>2.546300e+03</td>\n",
       "      <td>0.000000</td>\n",
       "      <td>0.000000</td>\n",
       "      <td>0.000000</td>\n",
       "      <td>0.000000</td>\n",
       "      <td>0.000000</td>\n",
       "      <td>0.000000</td>\n",
       "    </tr>\n",
       "    <tr>\n",
       "      <th>25%</th>\n",
       "      <td>142757.000000</td>\n",
       "      <td>802.000000</td>\n",
       "      <td>33.000000</td>\n",
       "      <td>0.000000</td>\n",
       "      <td>2.956987e+05</td>\n",
       "      <td>1.000000</td>\n",
       "      <td>0.000000</td>\n",
       "      <td>0.000000</td>\n",
       "      <td>7.525202e+04</td>\n",
       "      <td>0.000000</td>\n",
       "      <td>0.000000</td>\n",
       "      <td>0.000000</td>\n",
       "      <td>0.000000</td>\n",
       "      <td>0.000000</td>\n",
       "      <td>0.000000</td>\n",
       "    </tr>\n",
       "    <tr>\n",
       "      <th>50%</th>\n",
       "      <td>172651.000000</td>\n",
       "      <td>853.000000</td>\n",
       "      <td>40.000000</td>\n",
       "      <td>3.000000</td>\n",
       "      <td>5.242953e+05</td>\n",
       "      <td>2.000000</td>\n",
       "      <td>1.000000</td>\n",
       "      <td>1.000000</td>\n",
       "      <td>1.196431e+05</td>\n",
       "      <td>0.000000</td>\n",
       "      <td>0.000000</td>\n",
       "      <td>1.000000</td>\n",
       "      <td>0.000000</td>\n",
       "      <td>0.000000</td>\n",
       "      <td>1.000000</td>\n",
       "    </tr>\n",
       "    <tr>\n",
       "      <th>75%</th>\n",
       "      <td>201164.000000</td>\n",
       "      <td>900.000000</td>\n",
       "      <td>51.000000</td>\n",
       "      <td>4.000000</td>\n",
       "      <td>9.800512e+05</td>\n",
       "      <td>2.000000</td>\n",
       "      <td>1.000000</td>\n",
       "      <td>1.000000</td>\n",
       "      <td>1.745000e+05</td>\n",
       "      <td>0.000000</td>\n",
       "      <td>1.000000</td>\n",
       "      <td>1.000000</td>\n",
       "      <td>0.000000</td>\n",
       "      <td>1.000000</td>\n",
       "      <td>1.000000</td>\n",
       "    </tr>\n",
       "    <tr>\n",
       "      <th>max</th>\n",
       "      <td>229145.000000</td>\n",
       "      <td>1000.000000</td>\n",
       "      <td>86.000000</td>\n",
       "      <td>9.000000</td>\n",
       "      <td>1.191136e+08</td>\n",
       "      <td>5.000000</td>\n",
       "      <td>1.000000</td>\n",
       "      <td>1.000000</td>\n",
       "      <td>1.395064e+06</td>\n",
       "      <td>1.000000</td>\n",
       "      <td>1.000000</td>\n",
       "      <td>1.000000</td>\n",
       "      <td>1.000000</td>\n",
       "      <td>1.000000</td>\n",
       "      <td>1.000000</td>\n",
       "    </tr>\n",
       "  </tbody>\n",
       "</table>\n",
       "</div>"
      ],
      "text/plain": [
       "              userid        score          age       equity       balance  \\\n",
       "count    9973.000000  9973.000000  9973.000000  9973.000000  7.695000e+03   \n",
       "mean   171757.616966   848.671212    42.730773     2.630803  8.272456e+05   \n",
       "std     33696.365256    65.393153    12.175166     1.980060  1.980327e+06   \n",
       "min     94561.000000   642.000000    18.000000     0.000000  0.000000e+00   \n",
       "25%    142757.000000   802.000000    33.000000     0.000000  2.956987e+05   \n",
       "50%    172651.000000   853.000000    40.000000     3.000000  5.242953e+05   \n",
       "75%    201164.000000   900.000000    51.000000     4.000000  9.800512e+05   \n",
       "max    229145.000000  1000.000000    86.000000     9.000000  1.191136e+08   \n",
       "\n",
       "          products  credit_card  last_activity    est_salary        churn  \\\n",
       "count  9973.000000  9973.000000    9973.000000  9.973000e+03  9973.000000   \n",
       "mean      1.871653     0.680237       0.522912  1.477991e+05     0.182292   \n",
       "std       0.792547     0.466408       0.499500  1.392871e+05     0.386105   \n",
       "min       1.000000     0.000000       0.000000  2.546300e+03     0.000000   \n",
       "25%       1.000000     0.000000       0.000000  7.525202e+04     0.000000   \n",
       "50%       2.000000     1.000000       1.000000  1.196431e+05     0.000000   \n",
       "75%       2.000000     1.000000       1.000000  1.745000e+05     0.000000   \n",
       "max       5.000000     1.000000       1.000000  1.395064e+06     1.000000   \n",
       "\n",
       "          gender_Ж     gender_М  city_Ростов  city_Рыбинск  city_Ярославль  \n",
       "count  9973.000000  9973.000000  9973.000000   9973.000000     9973.000000  \n",
       "mean      0.499549     0.500451     0.141983      0.268926        0.589091  \n",
       "std       0.500025     0.500025     0.349051      0.443424        0.492024  \n",
       "min       0.000000     0.000000     0.000000      0.000000        0.000000  \n",
       "25%       0.000000     0.000000     0.000000      0.000000        0.000000  \n",
       "50%       0.000000     1.000000     0.000000      0.000000        1.000000  \n",
       "75%       1.000000     1.000000     0.000000      1.000000        1.000000  \n",
       "max       1.000000     1.000000     1.000000      1.000000        1.000000  "
      ]
     },
     "execution_count": 24,
     "metadata": {},
     "output_type": "execute_result"
    }
   ],
   "source": [
    "df_2.describe()"
   ]
  },
  {
   "cell_type": "markdown",
   "metadata": {},
   "source": [
    "### Вывод по блоку предаброботка данных:\n",
    "- наименование столбцов привидены к нижнему регистру\n",
    "- удалены строки с пропусками в столбце age\n",
    "- исправлен тип данных в столбце score\n",
    "- обнаружено 23% пропусков в столбце balance, заполнить не представляется возможным\n",
    "- данные проверены на дубликаты\n",
    "- обнаружено 50 не уникальных userid, но остальные данные по ним отличаются, оставили как есть\n",
    "- данные проверены на аномальные значения\n",
    "- добавлены новые столбцы с кодировкой (для городов и пола)"
   ]
  },
  {
   "cell_type": "markdown",
   "metadata": {},
   "source": [
    "## Исследовательский анализ"
   ]
  },
  {
   "cell_type": "markdown",
   "metadata": {},
   "source": [
    "### Средний отток по банку"
   ]
  },
  {
   "cell_type": "code",
   "execution_count": 26,
   "metadata": {},
   "outputs": [
    {
     "data": {
      "image/png": "[encoded data removed]",
      "text/plain": [
       "<Figure size 432x432 with 1 Axes>"
      ]
     },
     "metadata": {},
     "output_type": "display_data"
    }
   ],
   "source": [
    "df.groupby('churn').agg({'churn':'count'}).plot(kind='pie', y='churn', labels = ['Без признака оттока', 'С признаком оттока'],\n",
    "    autopct = '%1.0f%%', figsize=(6, 6), ylabel = '', colors=sns.color_palette(\"pastel\"))\n",
    "plt.title('Распределение клиентов банка', fontsize = 16)\n",
    "plt.show()"
   ]
  },
  {
   "cell_type": "markdown",
   "metadata": {},
   "source": [
    "Средний уровень оттока по банку составляет 18%, будем искать сегменты превышающие это значение."
   ]
  },
  {
   "cell_type": "code",
   "execution_count": 27,
   "metadata": {},
   "outputs": [
    {
     "data": {
      "text/html": [
       "<div>\n",
       "<style scoped>\n",
       "    .dataframe tbody tr th:only-of-type {\n",
       "        vertical-align: middle;\n",
       "    }\n",
       "\n",
       "    .dataframe tbody tr th {\n",
       "        vertical-align: top;\n",
       "    }\n",
       "\n",
       "    .dataframe thead th {\n",
       "        text-align: right;\n",
       "    }\n",
       "</style>\n",
       "<table border=\"1\" class=\"dataframe\">\n",
       "  <thead>\n",
       "    <tr style=\"text-align: right;\">\n",
       "      <th></th>\n",
       "      <th>userid</th>\n",
       "      <th>score</th>\n",
       "      <th>age</th>\n",
       "      <th>equity</th>\n",
       "      <th>balance</th>\n",
       "      <th>products</th>\n",
       "      <th>credit_card</th>\n",
       "      <th>last_activity</th>\n",
       "      <th>est_salary</th>\n",
       "    </tr>\n",
       "    <tr>\n",
       "      <th>churn</th>\n",
       "      <th></th>\n",
       "      <th></th>\n",
       "      <th></th>\n",
       "      <th></th>\n",
       "      <th></th>\n",
       "      <th></th>\n",
       "      <th></th>\n",
       "      <th></th>\n",
       "      <th></th>\n",
       "    </tr>\n",
       "  </thead>\n",
       "  <tbody>\n",
       "    <tr>\n",
       "      <th>0</th>\n",
       "      <td>171928.110607</td>\n",
       "      <td>845.396199</td>\n",
       "      <td>43.020846</td>\n",
       "      <td>2.378296</td>\n",
       "      <td>7.330316e+05</td>\n",
       "      <td>1.758921</td>\n",
       "      <td>0.708890</td>\n",
       "      <td>0.482894</td>\n",
       "      <td>147674.637881</td>\n",
       "    </tr>\n",
       "    <tr>\n",
       "      <th>1</th>\n",
       "      <td>170992.833883</td>\n",
       "      <td>863.361936</td>\n",
       "      <td>41.429593</td>\n",
       "      <td>3.763476</td>\n",
       "      <td>1.134458e+06</td>\n",
       "      <td>2.377338</td>\n",
       "      <td>0.551705</td>\n",
       "      <td>0.702420</td>\n",
       "      <td>148357.483157</td>\n",
       "    </tr>\n",
       "  </tbody>\n",
       "</table>\n",
       "</div>"
      ],
      "text/plain": [
       "              userid       score        age    equity       balance  products  \\\n",
       "churn                                                                           \n",
       "0      171928.110607  845.396199  43.020846  2.378296  7.330316e+05  1.758921   \n",
       "1      170992.833883  863.361936  41.429593  3.763476  1.134458e+06  2.377338   \n",
       "\n",
       "       credit_card  last_activity     est_salary  \n",
       "churn                                             \n",
       "0         0.708890       0.482894  147674.637881  \n",
       "1         0.551705       0.702420  148357.483157  "
      ]
     },
     "execution_count": 27,
     "metadata": {},
     "output_type": "execute_result"
    }
   ],
   "source": [
    "df.groupby(df['churn']).mean()"
   ]
  },
  {
   "cell_type": "markdown",
   "metadata": {},
   "source": [
    "Пользователи с признаком оттока в среднем имеют большее кол-во балов собственности, меньше средств на балансе, пользуются большим кол-вом продуктов, в меньшей степени владеют кредитками, активные, чаще мужчины."
   ]
  },
  {
   "cell_type": "markdown",
   "metadata": {},
   "source": [
    "### Матрица корреляции"
   ]
  },
  {
   "cell_type": "code",
   "execution_count": 28,
   "metadata": {},
   "outputs": [
    {
     "data": {
      "image/png": "[encoded data removed]",
      "text/plain": [
       "<Figure size 864x864 with 2 Axes>"
      ]
     },
     "metadata": {
      "needs_background": "light"
     },
     "output_type": "display_data"
    }
   ],
   "source": [
    "corr_matrix = df_2.corr()\n",
    "fig,ax = plt.subplots(figsize = (12, 12))\n",
    "ax.set_title('Матрица корреляции', fontsize = 16)\n",
    "sns.heatmap(corr_matrix, annot=True, cmap='crest')\n",
    "plt.show()"
   ]
  },
  {
   "cell_type": "markdown",
   "metadata": {},
   "source": [
    "Максимальная корреляция churn с equity и products их и будем проверять. Так же есть заметная разница в корреляции с гендером Ж и М, их тоже проверим."
   ]
  },
  {
   "cell_type": "code",
   "execution_count": 29,
   "metadata": {},
   "outputs": [
    {
     "data": {
      "image/png": "[encoded data removed]",
      "text/plain": [
       "<Figure size 360x360 with 2 Axes>"
      ]
     },
     "metadata": {
      "needs_background": "light"
     },
     "output_type": "display_data"
    }
   ],
   "source": [
    "# для презентации, так нагляднее\n",
    "plt.figure(figsize=(5, 5))\n",
    "sns.heatmap(corr_matrix.loc[:,['churn']].drop('churn').sort_values('churn'), annot=True, cmap='crest')\n",
    "plt.title('Корреляция признаков с оттоком', fontsize = 16)\n",
    "plt.show()"
   ]
  },
  {
   "cell_type": "markdown",
   "metadata": {},
   "source": [
    "Наблюдается слабая связь признака оттока с: количеством используемых продуктов (products), количеством балов собственности (equity), активностью (last_activity), мужским гендером (gender_M), женским гендером (gender_Ж), наличием кредитки (credit_card) и c баллами кредитного скоринга (score)."
   ]
  },
  {
   "cell_type": "markdown",
   "metadata": {},
   "source": [
    "### Распределения (категориальных)"
   ]
  },
  {
   "cell_type": "code",
   "execution_count": 30,
   "metadata": {},
   "outputs": [
    {
     "data": {
      "image/png": "[encoded data removed]",
      "text/plain": [
       "<Figure size 360x360 with 1 Axes>"
      ]
     },
     "metadata": {
      "needs_background": "light"
     },
     "output_type": "display_data"
    }
   ],
   "source": [
    "plt.figure(figsize=(5, 5)) \n",
    "(df.groupby(['products'])['churn'].mean()*100).plot(kind='bar', color = sns.color_palette(\"Accent\"))\n",
    "plt.xticks(rotation=0)\n",
    "plt.axhline(y=18, linewidth=5, color='r')\n",
    "plt.title('Распределение уровня оттока', fontsize=16)\n",
    "plt.xlabel('Количество продуктов, которыми пользуется клиент', fontsize=14)\n",
    "plt.ylabel('Уровень оттока, %', fontsize=14)\n",
    "plt.show() "
   ]
  },
  {
   "cell_type": "markdown",
   "metadata": {},
   "source": [
    "К оттоку склонны пользователи использующие более 2ух продуктов банка."
   ]
  },
  {
   "cell_type": "code",
   "execution_count": 31,
   "metadata": {},
   "outputs": [
    {
     "data": {
      "image/png": "[encoded data removed]",
      "text/plain": [
       "<Figure size 360x360 with 1 Axes>"
      ]
     },
     "metadata": {
      "needs_background": "light"
     },
     "output_type": "display_data"
    }
   ],
   "source": [
    "plt.figure(figsize=(5, 5)) \n",
    "(df.groupby(['equity'])['churn'].mean()*100).plot(kind='bar', color = sns.color_palette(\"Accent\"))\n",
    "plt.xticks(rotation=0)\n",
    "plt.axhline(y=18, linewidth=5, color='r')\n",
    "plt.title('Распределение уровня оттока', fontsize=16)\n",
    "plt.xlabel('Количество баллов собственности', fontsize=14)\n",
    "plt.ylabel('Уровень оттока, %', fontsize=14)\n",
    "plt.show() "
   ]
  },
  {
   "cell_type": "markdown",
   "metadata": {},
   "source": [
    "К оттоку склонны пользователи с количеством баллов собственности более 3."
   ]
  },
  {
   "cell_type": "code",
   "execution_count": 32,
   "metadata": {},
   "outputs": [
    {
     "data": {
      "image/png": "[encoded data removed]",
      "text/plain": [
       "<Figure size 360x360 with 1 Axes>"
      ]
     },
     "metadata": {
      "needs_background": "light"
     },
     "output_type": "display_data"
    }
   ],
   "source": [
    "plt.figure(figsize=(5, 5)) \n",
    "(df.groupby(['credit_card'])['churn'].mean()*100).plot(kind='bar', color = sns.color_palette(\"Accent\"))\n",
    "plt.xticks(rotation=0)\n",
    "plt.axhline(y=18, linewidth=5, color='r')\n",
    "plt.title('Распределение уровня оттока', fontsize=16)\n",
    "plt.xlabel('Наличие кредитной карты', fontsize=14)\n",
    "plt.ylabel('Уровень оттока, %', fontsize=14)\n",
    "plt.show() "
   ]
  },
  {
   "cell_type": "markdown",
   "metadata": {},
   "source": [
    "Пользователи с кредитками в меньшей степени склонны к оттоку."
   ]
  },
  {
   "cell_type": "code",
   "execution_count": 33,
   "metadata": {},
   "outputs": [
    {
     "data": {
      "image/png": "[encoded data removed]",
      "text/plain": [
       "<Figure size 360x360 with 1 Axes>"
      ]
     },
     "metadata": {
      "needs_background": "light"
     },
     "output_type": "display_data"
    }
   ],
   "source": [
    "plt.figure(figsize=(5, 5)) \n",
    "(df.groupby(['last_activity'])['churn'].mean()*100).plot(kind='bar', color = sns.color_palette(\"Accent\"))\n",
    "plt.xticks(rotation=0)\n",
    "plt.axhline(y=18, linewidth=5, color='r')\n",
    "plt.title('Распределение уровня оттока', fontsize=16)\n",
    "plt.xlabel('Наличие активности за последний месяц', fontsize=14)\n",
    "plt.ylabel('Уровень оттока, %', fontsize=14)\n",
    "plt.show() "
   ]
  },
  {
   "cell_type": "markdown",
   "metadata": {},
   "source": [
    "Активные пользователи более склонны к оттоку."
   ]
  },
  {
   "cell_type": "code",
   "execution_count": 34,
   "metadata": {},
   "outputs": [
    {
     "data": {
      "image/png": "[encoded data removed]",
      "text/plain": [
       "<Figure size 360x360 with 1 Axes>"
      ]
     },
     "metadata": {
      "needs_background": "light"
     },
     "output_type": "display_data"
    }
   ],
   "source": [
    "plt.figure(figsize=(5, 5)) \n",
    "(df.groupby(['gender'])['churn'].mean()*100).plot(kind='bar', color = sns.color_palette(\"Accent\"))\n",
    "plt.xticks(rotation=0)\n",
    "plt.axhline(y=18, linewidth=5, color='r')\n",
    "plt.title('Распределение уровня оттока', fontsize=16)\n",
    "plt.xlabel('Пол пользователя', fontsize=14)\n",
    "plt.ylabel('Уровень оттока, %', fontsize=14)\n",
    "plt.show() "
   ]
  },
  {
   "cell_type": "markdown",
   "metadata": {},
   "source": [
    "В общем по банку кол-во мужчин и женщин примерно одинаковое, но мужчины более склонны к оттоку."
   ]
  },
  {
   "cell_type": "code",
   "execution_count": 35,
   "metadata": {},
   "outputs": [
    {
     "data": {
      "image/png": "[encoded data removed]",
      "text/plain": [
       "<Figure size 360x360 with 1 Axes>"
      ]
     },
     "metadata": {
      "needs_background": "light"
     },
     "output_type": "display_data"
    }
   ],
   "source": [
    "plt.figure(figsize=(5, 5)) \n",
    "(df.groupby(['city'])['churn'].mean()*100).plot(kind='bar', color = sns.color_palette(\"Accent\"))\n",
    "plt.xticks(rotation=0)\n",
    "plt.axhline(y=18, linewidth=5, color='r')\n",
    "plt.title('Распределение уровня оттока', fontsize=16)\n",
    "plt.xlabel('Город пользователя', fontsize=14)\n",
    "plt.ylabel('Уровень оттока, %', fontsize=14)\n",
    "plt.show() "
   ]
  },
  {
   "cell_type": "markdown",
   "metadata": {},
   "source": [
    "Большой разницы в оттоке между городами не наблюдается."
   ]
  },
  {
   "cell_type": "markdown",
   "metadata": {},
   "source": [
    "### Распределения (непрерывных)"
   ]
  },
  {
   "cell_type": "code",
   "execution_count": 36,
   "metadata": {},
   "outputs": [
    {
     "data": {
      "text/html": [
       "<div>\n",
       "<style scoped>\n",
       "    .dataframe tbody tr th:only-of-type {\n",
       "        vertical-align: middle;\n",
       "    }\n",
       "\n",
       "    .dataframe tbody tr th {\n",
       "        vertical-align: top;\n",
       "    }\n",
       "\n",
       "    .dataframe thead th {\n",
       "        text-align: right;\n",
       "    }\n",
       "</style>\n",
       "<table border=\"1\" class=\"dataframe\">\n",
       "  <thead>\n",
       "    <tr style=\"text-align: right;\">\n",
       "      <th></th>\n",
       "      <th>age</th>\n",
       "      <th>balance</th>\n",
       "      <th>credit_card</th>\n",
       "      <th>equity</th>\n",
       "      <th>est_salary</th>\n",
       "      <th>last_activity</th>\n",
       "      <th>products</th>\n",
       "      <th>score</th>\n",
       "      <th>userid</th>\n",
       "    </tr>\n",
       "    <tr>\n",
       "      <th>churn</th>\n",
       "      <th></th>\n",
       "      <th></th>\n",
       "      <th></th>\n",
       "      <th></th>\n",
       "      <th></th>\n",
       "      <th></th>\n",
       "      <th></th>\n",
       "      <th></th>\n",
       "      <th></th>\n",
       "    </tr>\n",
       "  </thead>\n",
       "  <tbody>\n",
       "    <tr>\n",
       "      <th>0</th>\n",
       "      <td>43.020846</td>\n",
       "      <td>7.330316e+05</td>\n",
       "      <td>0.708890</td>\n",
       "      <td>2.378296</td>\n",
       "      <td>147674.637881</td>\n",
       "      <td>0.482894</td>\n",
       "      <td>1.758921</td>\n",
       "      <td>845.396199</td>\n",
       "      <td>171928.110607</td>\n",
       "    </tr>\n",
       "    <tr>\n",
       "      <th>1</th>\n",
       "      <td>41.429593</td>\n",
       "      <td>1.134458e+06</td>\n",
       "      <td>0.551705</td>\n",
       "      <td>3.763476</td>\n",
       "      <td>148357.483157</td>\n",
       "      <td>0.702420</td>\n",
       "      <td>2.377338</td>\n",
       "      <td>863.361936</td>\n",
       "      <td>170992.833883</td>\n",
       "    </tr>\n",
       "  </tbody>\n",
       "</table>\n",
       "</div>"
      ],
      "text/plain": [
       "             age       balance  credit_card    equity     est_salary  \\\n",
       "churn                                                                  \n",
       "0      43.020846  7.330316e+05     0.708890  2.378296  147674.637881   \n",
       "1      41.429593  1.134458e+06     0.551705  3.763476  148357.483157   \n",
       "\n",
       "       last_activity  products       score         userid  \n",
       "churn                                                      \n",
       "0           0.482894  1.758921  845.396199  171928.110607  \n",
       "1           0.702420  2.377338  863.361936  170992.833883  "
      ]
     },
     "execution_count": 36,
     "metadata": {},
     "output_type": "execute_result"
    }
   ],
   "source": [
    "df.pivot_table(index = 'churn', values = df, aggfunc = 'mean')"
   ]
  },
  {
   "cell_type": "code",
   "execution_count": 37,
   "metadata": {},
   "outputs": [
    {
     "data": {
      "text/plain": [
       "Text(0, 0.5, 'Количество пользователей')"
      ]
     },
     "execution_count": 37,
     "metadata": {},
     "output_type": "execute_result"
    },
    {
     "data": {
      "image/png": "[encoded data removed]",
      "text/plain": [
       "<Figure size 864x360 with 1 Axes>"
      ]
     },
     "metadata": {
      "needs_background": "light"
     },
     "output_type": "display_data"
    }
   ],
   "source": [
    "plt.figure(figsize=(12, 5))\n",
    "sns.set_palette('Dark2')\n",
    "sns.histplot(data=df, x='age', hue='churn', stat='density', common_norm=False, kde=True, binwidth=1)\n",
    "plt.title('Распределение пользователей по возрасту', fontsize=16)\n",
    "plt.xlabel('Возраст', fontsize=14)\n",
    "plt.ylabel('Количество пользователей', fontsize=14)"
   ]
  },
  {
   "cell_type": "markdown",
   "metadata": {},
   "source": [
    "Склонность к оттоку чаще проявляется в возврасте 25-35 и 50-60 лет."
   ]
  },
  {
   "cell_type": "code",
   "execution_count": 38,
   "metadata": {},
   "outputs": [
    {
     "data": {
      "text/plain": [
       "Text(0, 0.5, 'Количество пользователей')"
      ]
     },
     "execution_count": 38,
     "metadata": {},
     "output_type": "execute_result"
    },
    {
     "data": {
      "image/png": "[encoded data removed]",
      "text/plain": [
       "<Figure size 864x360 with 1 Axes>"
      ]
     },
     "metadata": {
      "needs_background": "light"
     },
     "output_type": "display_data"
    }
   ],
   "source": [
    "plt.figure(figsize=(12, 5))\n",
    "sns.set_palette(\"Dark2\")\n",
    "sns.histplot(data=df, x='balance', hue='churn', stat='density', common_norm=False, kde=True)\n",
    "plt.xlim([0, 3000000])\n",
    "plt.title('Распределение пользователей по балансу на счёте', fontsize=16)\n",
    "plt.xlabel('Баланс на счёте, млн', fontsize=14)\n",
    "plt.ylabel('Количество пользователей', fontsize=14)"
   ]
  },
  {
   "cell_type": "markdown",
   "metadata": {},
   "source": [
    "Пользователи с балансом на счёте превышающем 1 млн склонны к оттоку."
   ]
  },
  {
   "cell_type": "code",
   "execution_count": 40,
   "metadata": {},
   "outputs": [
    {
     "data": {
      "text/plain": [
       "Text(0, 0.5, 'Количество пользователей')"
      ]
     },
     "execution_count": 40,
     "metadata": {},
     "output_type": "execute_result"
    },
    {
     "data": {
      "image/png": "[encoded data removed]",
      "text/plain": [
       "<Figure size 864x360 with 1 Axes>"
      ]
     },
     "metadata": {
      "needs_background": "light"
     },
     "output_type": "display_data"
    }
   ],
   "source": [
    "plt.figure(figsize=(12, 5))\n",
    "sns.histplot(data=df, x='est_salary', hue='churn', stat='density', common_norm=False, kde=True)\n",
    "plt.xlim([0, 400000])\n",
    "plt.title('Распределение пользователей по оценочному доходу', fontsize=16)\n",
    "plt.xlabel('Оценочный доход, руб', fontsize=14)\n",
    "plt.ylabel('Количество пользователей', fontsize=14)"
   ]
  },
  {
   "cell_type": "markdown",
   "metadata": {},
   "source": [
    "Пользователи с оценочным доходом от 100 000 руб склонны к оттоку."
   ]
  },
  {
   "cell_type": "code",
   "execution_count": 42,
   "metadata": {},
   "outputs": [
    {
     "data": {
      "text/plain": [
       "Text(0, 0.5, 'Количество пользователей')"
      ]
     },
     "execution_count": 42,
     "metadata": {},
     "output_type": "execute_result"
    },
    {
     "data": {
      "image/png": "[encoded data removed]",
      "text/plain": [
       "<Figure size 864x360 with 1 Axes>"
      ]
     },
     "metadata": {
      "needs_background": "light"
     },
     "output_type": "display_data"
    }
   ],
   "source": [
    "plt.figure(figsize=(12, 5))\n",
    "sns.set_palette('Dark2')\n",
    "sns.histplot(data=df, x='score', hue='churn', stat='density', common_norm=False)\n",
    "plt.title('Распределение пользователей по баллам кредитного скоринга', fontsize=16)\n",
    "plt.xlabel('Баллы кредитного скоринга', fontsize=14)\n",
    "plt.ylabel('Количество пользователей', fontsize=14)"
   ]
  },
  {
   "cell_type": "markdown",
   "metadata": {},
   "source": [
    "Пользователи имеющие баллы кредитного скорринга в промежутке 830-900 чаще склонны к оттоку."
   ]
  },
  {
   "cell_type": "markdown",
   "metadata": {},
   "source": [
    "### Вывод по блоку исследовательский анализ данных   \n",
    "\n",
    "-  Средний уровень оттока по банку составляет 18%.\n",
    "-  Максимальная корреляция churn с equity и products их и будем проверять. Так же есть заметная разница в корреляции с гендером Ж и М, их тоже проверим.\n",
    "-  К оттоку склонны пользователи использующие более 2ух продуктов банка.\n",
    "-  К оттоку склонны пользователи с количеством баллов собственности более 3.\n",
    "- Пользователи с кредитками в меньшей степени склонны к оттоку.\n",
    "- Активные пользователи более склонны к оттоку.\n",
    "- В общем по банку кол-во мужчин и женщин примерно одинаковое, но мужчины более склонны к оттоку.\n",
    "- Большой разницы в оттоке между городами не наблюдается.\n",
    "- Склонность к оттоку чаще проявляется в возврасте 25-35 и 50-60 лет.\n",
    "- Пользователи с балансом на счёте превышающем 1 млн склонны к оттоку.\n",
    "- Пользователи с оценочным доходом от 100 000 руб склонны к оттоку.\n",
    "- Пользователи имеющие баллы кредитного скорринга в промежутке 830-900 чаще склонны к оттоку."
   ]
  },
  {
   "cell_type": "markdown",
   "metadata": {},
   "source": [
    "## Проверка гипотез"
   ]
  },
  {
   "cell_type": "code",
   "execution_count": 43,
   "metadata": {},
   "outputs": [],
   "source": [
    "alpha = 0.05"
   ]
  },
  {
   "cell_type": "markdown",
   "metadata": {},
   "source": [
    "### Гипотеза относительно оценочного дохода пользователей"
   ]
  },
  {
   "cell_type": "markdown",
   "metadata": {},
   "source": [
    "Стьюдентный критерий для парных выборок используется для сравнения средних значений двух выборок, когда каждое наблюдение в одной выборке может быть сопоставлено с наблюдением в другой выборке.\n",
    "\n",
    "U- критерий Манна-Уитни используется для сравнения различий между двумя выборками, когда распределение выборки не является нормальным, а размеры выборки малы (n < 30). Он считается непараметрическим эквивалентом двухвыборочного t-критерия ."
   ]
  },
  {
   "cell_type": "markdown",
   "metadata": {},
   "source": [
    "Сформулируем гипотезы:  \n",
    "Н0 - Средний оценочный доход пользователей с признаком оттока и без одинаковый.  \n",
    "Н1 - Средний оценочный доход пользователей с признаком оттока и без разный."
   ]
  },
  {
   "cell_type": "code",
   "execution_count": 44,
   "metadata": {},
   "outputs": [],
   "source": [
    "data_churn_1 = df.loc[df['churn'] == 1]['est_salary']\n",
    "data_churn_2 = df.loc[df['churn'] == 0]['est_salary']"
   ]
  },
  {
   "cell_type": "markdown",
   "metadata": {},
   "source": [
    "Наши совокупности не зависят друг от друга и распределены нормально."
   ]
  },
  {
   "cell_type": "code",
   "execution_count": 45,
   "metadata": {},
   "outputs": [
    {
     "name": "stdout",
     "output_type": "stream",
     "text": [
      "15103959585.933504 20356342952.421223\n",
      "0.7419780469034105\n"
     ]
    }
   ],
   "source": [
    "#проверяем дисперсию\n",
    "print(np.var(data_churn_1), np.var(data_churn_2))\n",
    "print(np.var(data_churn_1) / np.var(data_churn_2))"
   ]
  },
  {
   "cell_type": "markdown",
   "metadata": {},
   "source": [
    "Меньше 4 => можем предположить, что дисперсии генеральной совокупности равны"
   ]
  },
  {
   "cell_type": "markdown",
   "metadata": {},
   "source": [
    "В нашем случае необходимо проверять t-критерием, начнём с него:"
   ]
  },
  {
   "cell_type": "code",
   "execution_count": 46,
   "metadata": {},
   "outputs": [
    {
     "name": "stdout",
     "output_type": "stream",
     "text": [
      "0.8500882387258035\n",
      "Не получилось отвергнуть нулевую гипотезу\n"
     ]
    }
   ],
   "source": [
    "results1 = st.ttest_ind(data_churn_1, data_churn_2)\n",
    "\n",
    "print(results1.pvalue)\n",
    "\n",
    "if results1.pvalue < alpha:\n",
    "    print(\"Отвергаем нулевую гипотезу\")\n",
    "else:\n",
    "    print(\"Не получилось отвергнуть нулевую гипотезу\")"
   ]
  },
  {
   "cell_type": "markdown",
   "metadata": {},
   "source": [
    "u-критерием для сравнения:"
   ]
  },
  {
   "cell_type": "code",
   "execution_count": 47,
   "metadata": {},
   "outputs": [
    {
     "name": "stdout",
     "output_type": "stream",
     "text": [
      "0.00016830729188229058\n",
      "Отвергаем нулевую гипотезу\n"
     ]
    }
   ],
   "source": [
    "results2 = st.mannwhitneyu(data_churn_1, data_churn_2, alternative=\"two-sided\")\n",
    "\n",
    "print(results2.pvalue)\n",
    "\n",
    "if results2.pvalue < alpha:\n",
    "    print(\"Отвергаем нулевую гипотезу\")\n",
    "else:\n",
    "    print(\"Не получилось отвергнуть нулевую гипотезу\")"
   ]
  },
  {
   "cell_type": "markdown",
   "metadata": {},
   "source": [
    "Гипотеза не подтверждается, средний оценочный доход пользователей с признаком оттока и без - **разный**"
   ]
  },
  {
   "cell_type": "markdown",
   "metadata": {},
   "source": [
    "### Гипотеза относительно баланса на счёте пользователей"
   ]
  },
  {
   "cell_type": "markdown",
   "metadata": {},
   "source": [
    "Сформулируем гипотезы:  \n",
    "Н0 - Средний возраст пользователей с признаком оттока и без одинаковый.  \n",
    "Н1 - Средний возраст пользователей с признаком оттока и без разный."
   ]
  },
  {
   "cell_type": "code",
   "execution_count": 48,
   "metadata": {},
   "outputs": [],
   "source": [
    "data_churn_4 = df_2.loc[df['churn'] == 1]['age']\n",
    "data_churn_3 = df_2.loc[df['churn'] == 0]['age']"
   ]
  },
  {
   "cell_type": "code",
   "execution_count": 49,
   "metadata": {},
   "outputs": [
    {
     "name": "stdout",
     "output_type": "stream",
     "text": [
      "124.13723206754118 153.12697193891648\n",
      "0.8106816878548376\n"
     ]
    }
   ],
   "source": [
    "#проверяем дисперсию\n",
    "print(np.var(data_churn_4), np.var(data_churn_3))\n",
    "print(np.var(data_churn_4) / np.var(data_churn_3))"
   ]
  },
  {
   "cell_type": "markdown",
   "metadata": {},
   "source": [
    "Меньше 4 => можем предположить, что дисперсии генеральной совокупности равны"
   ]
  },
  {
   "cell_type": "code",
   "execution_count": 50,
   "metadata": {},
   "outputs": [
    {
     "name": "stdout",
     "output_type": "stream",
     "text": [
      "4.606448303493975e-07\n",
      "Отвергаем нулевую гипотезу\n"
     ]
    }
   ],
   "source": [
    "results3 = st.ttest_ind(data_churn_4, data_churn_3)\n",
    "\n",
    "print(results3.pvalue)\n",
    "\n",
    "if results3.pvalue < alpha:\n",
    "    print(\"Отвергаем нулевую гипотезу\")\n",
    "else:\n",
    "    print(\"Не получилось отвергнуть нулевую гипотезу\")"
   ]
  },
  {
   "cell_type": "markdown",
   "metadata": {},
   "source": [
    "Гипотеза не подтверждается, средний возраст пользователей с признаком оттока и без - **разный**"
   ]
  },
  {
   "cell_type": "markdown",
   "metadata": {},
   "source": [
    "## Вывод"
   ]
  },
  {
   "cell_type": "markdown",
   "metadata": {},
   "source": [
    "По ходу исследования определенно:\n",
    "\n",
    "-  Средний уровень оттока по банку составляет 18%.\n",
    "-  Максимальная корреляция churn с equity и product. Так же есть заметная разница в корреляции с гендером Ж и М.\n",
    "-  К оттоку склонны пользователи использующие более 2ух продуктов банка.\n",
    "-  К оттоку склонны пользователи с количеством баллов собственности более 3.\n",
    "- Пользователи с кредитками в меньшей степени склонны к оттоку.\n",
    "- Активные пользователи более склонны к оттоку.\n",
    "- В общем по банку кол-во мужчин и женщин примерно одинаковое, но мужчины более склонны к оттоку.\n",
    "- Большой разницы в оттоке между городами не наблюдается.\n",
    "- Склонность к оттоку чаще проявляется в возврасте 25-35 и 50-60 лет.\n",
    "- Пользователи с балансом на счёте превышающем 1 млн склонны к оттоку.\n",
    "- Пользователи с оценочным доходом от 100 000 руб склонны к оттоку.\n",
    "- Пользователи имеющие баллы кредитного скорринга в промежутке 830-900 чаще склонны к оттоку.\n",
    "- Средний оценочный доход пользователей с признаком оттока и без - **разный**\n",
    "- Средний возраст пользователей с признаком оттока и без - **разный**"
   ]
  },
  {
   "cell_type": "markdown",
   "metadata": {},
   "source": [
    "## Сегментация"
   ]
  },
  {
   "cell_type": "markdown",
   "metadata": {},
   "source": [
    "Основываясь на том что получилось определить по ходу исследования сформируем сегменты с повышенным признаком оттока.  \n",
    "Средний отток по банку - 18%."
   ]
  },
  {
   "cell_type": "markdown",
   "metadata": {},
   "source": [
    "### Сегмент № 1"
   ]
  },
  {
   "cell_type": "code",
   "execution_count": 51,
   "metadata": {},
   "outputs": [
    {
     "data": {
      "text/plain": [
       "churn        0.350716\n",
       "userid    1745.000000\n",
       "dtype: float64"
      ]
     },
     "execution_count": 51,
     "metadata": {},
     "output_type": "execute_result"
    }
   ],
   "source": [
    "df_2.query('credit_card == 0 and last_activity == 1').agg({\"churn\":\"mean\", \"userid\":\"count\"})"
   ]
  },
  {
   "cell_type": "markdown",
   "metadata": {},
   "source": [
    "Первый сегмент, активные пользователи без кредиток: 1745 человек, средний отток 35%."
   ]
  },
  {
   "cell_type": "markdown",
   "metadata": {},
   "source": [
    "### Сегмент № 2"
   ]
  },
  {
   "cell_type": "code",
   "execution_count": 52,
   "metadata": {},
   "outputs": [
    {
     "data": {
      "text/plain": [
       "churn       0.507422\n",
       "userid    741.000000\n",
       "dtype: float64"
      ]
     },
     "execution_count": 52,
     "metadata": {},
     "output_type": "execute_result"
    }
   ],
   "source": [
    "df_2.query('gender_М == 1 and equity > 3 and score > 860 and score < 920').agg({\"churn\":\"mean\", \"userid\":\"count\"})"
   ]
  },
  {
   "cell_type": "markdown",
   "metadata": {},
   "source": [
    "Второй сегмент, мужчины с количеством балов собственности более 3 и с баллами кредитного скоринга от 860 до 920: 741 человек, средний отток 50%."
   ]
  },
  {
   "cell_type": "markdown",
   "metadata": {},
   "source": [
    "### Сегмент № 3"
   ]
  },
  {
   "cell_type": "code",
   "execution_count": 53,
   "metadata": {},
   "outputs": [
    {
     "data": {
      "text/plain": [
       "churn       0.509695\n",
       "userid    361.000000\n",
       "dtype: float64"
      ]
     },
     "execution_count": 53,
     "metadata": {},
     "output_type": "execute_result"
    }
   ],
   "source": [
    "df_2.query('age > 50 and age < 60 and balance > 1000000').agg({\"churn\":\"mean\", \"userid\":\"count\"})"
   ]
  },
  {
   "cell_type": "markdown",
   "metadata": {},
   "source": [
    "Третий сегмент, пользователи в возрасте от 50 до 60 лет с балансом на счёте превышающим 1 млн руб.: 361 человек, средний отток 50%."
   ]
  },
  {
   "cell_type": "markdown",
   "metadata": {},
   "source": [
    "### Сегмент № 4"
   ]
  },
  {
   "cell_type": "code",
   "execution_count": 54,
   "metadata": {},
   "outputs": [
    {
     "data": {
      "text/plain": [
       "churn       0.45961\n",
       "userid    359.00000\n",
       "dtype: float64"
      ]
     },
     "execution_count": 54,
     "metadata": {},
     "output_type": "execute_result"
    }
   ],
   "source": [
    "df_2.query('age > 25 and age < 35 and products > 2').agg({\"churn\":\"mean\", \"userid\":\"count\"})"
   ]
  },
  {
   "cell_type": "markdown",
   "metadata": {},
   "source": [
    "Четвертый сегмент, пользователи в возрасте от 25 до 35 лет использующие более 2ух продуктов банка."
   ]
  },
  {
   "cell_type": "markdown",
   "metadata": {},
   "source": [
    "## Рекомендации для отедела маркетинга"
   ]
  },
  {
   "cell_type": "markdown",
   "metadata": {},
   "source": [
    "Для **Сегмента № 1:**  \n",
    "Активные пользователи без кредиток: 1745 человек, средний отток 35%.\n",
    "\n",
    "**Рекомендации:** Активнее распростронять кредитки среди пользователей, это положительно сказывается на оттоке."
   ]
  },
  {
   "cell_type": "markdown",
   "metadata": {},
   "source": [
    "Для **Сегмента № 2:**  \n",
    "Мужчины с количеством балов собственности более 3 и с баллами кредитного скоринга от 860 до 920: 741 человек, средний отток 50%.\n",
    "\n",
    "**Рекомендации:** Эта группа выглядит крайне надёжно, возможно стоит пересчитать риски и проверить как считаются продукты для них, явно предложенния банка не являются конкурентными на рынке."
   ]
  },
  {
   "cell_type": "markdown",
   "metadata": {},
   "source": [
    "Для **Сегмента № 3:**  \n",
    "Пользователи в возрасте от 50 до 60 лет с балансом на счёте превышающим 1 млн руб.: 361 человек, средний отток 50%.\n",
    "\n",
    "**Рекомендации:** Похоже на то что где-то есть более выгодные условия для тех кто желает сохранить свои деньги и имеет более 1 млн на счету, стоит проверить. Люди в возрасте от 50 до 60 врятли будут менять банк из-за небольших преимуществ, скорее всего основательно проигрываем или в начислении % на остаток или надёжности (страховании)."
   ]
  },
  {
   "cell_type": "markdown",
   "metadata": {},
   "source": [
    "Для **Сегмента № 4:**  \n",
    "Пользователи в возрасте от 25 до 35 лет использующие более 2ух продуктов банка.: 359 человек, средний отток 45%.\n",
    "\n",
    "**Рекомендации:** Молодые люди активнее используют различные продукты банка, возможно, использование комплекса услуг не достаточно поощеряется и уступает конкурентам."
   ]
  },
  {
   "cell_type": "markdown",
   "metadata": {},
   "source": [
    " Презентация: https://drive.google.com/file/d/1I8lJnbi4X-LUcLek9UmcXYV5zzvDJJfp/view?usp=drive_link"
   ]
  }
 ],
 "metadata": {
  "ExecuteTimeLog": [
   {
    "duration": 3,
    "start_time": "2023-11-02T09:54:01.783Z"
   },
   {
    "duration": 2,
    "start_time": "2023-11-02T09:54:09.108Z"
   },
   {
    "duration": 2,
    "start_time": "2023-11-02T09:54:18.444Z"
   },
   {
    "duration": 2,
    "start_time": "2023-11-02T09:54:25.188Z"
   },
   {
    "duration": 1734,
    "start_time": "2023-11-02T10:08:52.359Z"
   },
   {
    "duration": 123,
    "start_time": "2023-11-02T10:09:03.674Z"
   },
   {
    "duration": 28,
    "start_time": "2023-11-02T10:09:09.862Z"
   },
   {
    "duration": 87,
    "start_time": "2023-11-02T10:09:23.191Z"
   },
   {
    "duration": 2,
    "start_time": "2023-11-02T10:09:44.071Z"
   },
   {
    "duration": 3,
    "start_time": "2023-11-02T10:13:12.393Z"
   },
   {
    "duration": 5,
    "start_time": "2023-11-02T10:13:46.746Z"
   },
   {
    "duration": 32,
    "start_time": "2023-11-02T10:14:23.114Z"
   },
   {
    "duration": 6,
    "start_time": "2023-11-02T10:16:09.154Z"
   },
   {
    "duration": 17,
    "start_time": "2023-11-02T10:17:00.916Z"
   },
   {
    "duration": 3,
    "start_time": "2023-11-02T10:18:58.037Z"
   },
   {
    "duration": 2,
    "start_time": "2023-11-02T10:19:01.389Z"
   },
   {
    "duration": 11,
    "start_time": "2023-11-02T10:19:51.301Z"
   },
   {
    "duration": 5,
    "start_time": "2023-11-02T10:19:56.996Z"
   },
   {
    "duration": 5,
    "start_time": "2023-11-02T10:20:02.989Z"
   },
   {
    "duration": 5,
    "start_time": "2023-11-02T10:20:07.369Z"
   },
   {
    "duration": 17,
    "start_time": "2023-11-02T10:20:16.597Z"
   },
   {
    "duration": 110,
    "start_time": "2023-11-02T10:20:31.566Z"
   },
   {
    "duration": 10,
    "start_time": "2023-11-02T10:21:35.198Z"
   },
   {
    "duration": 7,
    "start_time": "2023-11-02T10:21:44.278Z"
   },
   {
    "duration": 2,
    "start_time": "2023-11-02T10:22:04.927Z"
   },
   {
    "duration": 1358,
    "start_time": "2023-11-02T10:22:26.839Z"
   },
   {
    "duration": 1178,
    "start_time": "2023-11-02T10:22:35.598Z"
   },
   {
    "duration": 1205,
    "start_time": "2023-11-02T10:22:42.647Z"
   },
   {
    "duration": 45,
    "start_time": "2023-11-02T10:23:03.799Z"
   },
   {
    "duration": 90,
    "start_time": "2023-11-02T10:23:23.480Z"
   },
   {
    "duration": 119,
    "start_time": "2023-11-02T10:23:38.270Z"
   },
   {
    "duration": 3,
    "start_time": "2023-11-02T10:24:03.279Z"
   },
   {
    "duration": 2,
    "start_time": "2023-11-02T10:26:03.169Z"
   },
   {
    "duration": 160,
    "start_time": "2023-11-02T10:26:09.208Z"
   },
   {
    "duration": 154,
    "start_time": "2023-11-02T10:26:26.713Z"
   },
   {
    "duration": 159,
    "start_time": "2023-11-02T10:27:06.722Z"
   },
   {
    "duration": 2,
    "start_time": "2023-11-02T10:27:38.370Z"
   },
   {
    "duration": 16,
    "start_time": "2023-11-02T10:49:52.037Z"
   },
   {
    "duration": 12,
    "start_time": "2023-11-02T10:59:50.920Z"
   },
   {
    "duration": 13,
    "start_time": "2023-11-02T10:59:52.861Z"
   },
   {
    "duration": 32,
    "start_time": "2023-11-02T10:59:54.692Z"
   },
   {
    "duration": 20,
    "start_time": "2023-11-02T11:00:02.134Z"
   },
   {
    "duration": 23,
    "start_time": "2023-11-02T11:00:05.109Z"
   },
   {
    "duration": 17,
    "start_time": "2023-11-02T11:00:51.589Z"
   },
   {
    "duration": 12,
    "start_time": "2023-11-02T11:00:53.453Z"
   },
   {
    "duration": 24,
    "start_time": "2023-11-02T11:00:55.622Z"
   },
   {
    "duration": 1800,
    "start_time": "2023-11-02T11:01:04.971Z"
   },
   {
    "duration": 90,
    "start_time": "2023-11-02T11:01:06.773Z"
   },
   {
    "duration": 29,
    "start_time": "2023-11-02T11:01:06.865Z"
   },
   {
    "duration": 8,
    "start_time": "2023-11-02T11:01:06.895Z"
   },
   {
    "duration": 18,
    "start_time": "2023-11-02T11:01:06.905Z"
   },
   {
    "duration": 38,
    "start_time": "2023-11-02T11:01:06.925Z"
   },
   {
    "duration": 5,
    "start_time": "2023-11-02T11:01:06.964Z"
   },
   {
    "duration": 30,
    "start_time": "2023-11-02T11:01:06.971Z"
   },
   {
    "duration": 11,
    "start_time": "2023-11-02T11:01:07.003Z"
   },
   {
    "duration": 5,
    "start_time": "2023-11-02T11:01:07.015Z"
   },
   {
    "duration": 25,
    "start_time": "2023-11-02T11:01:07.022Z"
   },
   {
    "duration": 17,
    "start_time": "2023-11-02T11:01:07.048Z"
   },
   {
    "duration": 8,
    "start_time": "2023-11-02T11:01:07.067Z"
   },
   {
    "duration": 1286,
    "start_time": "2023-11-02T11:01:07.078Z"
   },
   {
    "duration": 46,
    "start_time": "2023-11-02T11:01:08.365Z"
   },
   {
    "duration": 12,
    "start_time": "2023-11-02T11:01:08.412Z"
   },
   {
    "duration": 36,
    "start_time": "2023-11-02T11:01:08.425Z"
   },
   {
    "duration": 177,
    "start_time": "2023-11-02T11:01:08.463Z"
   },
   {
    "duration": 171,
    "start_time": "2023-11-02T11:04:42.744Z"
   },
   {
    "duration": 170,
    "start_time": "2023-11-02T11:04:47.264Z"
   },
   {
    "duration": 181,
    "start_time": "2023-11-02T11:06:05.800Z"
   },
   {
    "duration": 172,
    "start_time": "2023-11-02T11:06:09.384Z"
   },
   {
    "duration": 174,
    "start_time": "2023-11-02T11:06:20.080Z"
   },
   {
    "duration": 170,
    "start_time": "2023-11-02T11:06:42.114Z"
   },
   {
    "duration": 3,
    "start_time": "2023-11-02T11:06:57.575Z"
   },
   {
    "duration": 159,
    "start_time": "2023-11-02T11:07:08.232Z"
   },
   {
    "duration": 1043,
    "start_time": "2023-11-02T11:08:26.018Z"
   },
   {
    "duration": 1803,
    "start_time": "2023-11-02T11:08:32.097Z"
   },
   {
    "duration": 1725,
    "start_time": "2023-11-02T11:08:42.633Z"
   },
   {
    "duration": 1712,
    "start_time": "2023-11-02T11:09:41.001Z"
   },
   {
    "duration": 1781,
    "start_time": "2023-11-02T11:09:47.954Z"
   },
   {
    "duration": 2,
    "start_time": "2023-11-02T11:56:08.967Z"
   },
   {
    "duration": 351,
    "start_time": "2023-11-02T11:58:53.888Z"
   },
   {
    "duration": 222,
    "start_time": "2023-11-02T11:59:00.936Z"
   },
   {
    "duration": 271,
    "start_time": "2023-11-02T11:59:17.439Z"
   },
   {
    "duration": 199,
    "start_time": "2023-11-02T11:59:37.399Z"
   },
   {
    "duration": 201,
    "start_time": "2023-11-02T11:59:51.103Z"
   },
   {
    "duration": 178,
    "start_time": "2023-11-02T11:59:57.544Z"
   },
   {
    "duration": 172,
    "start_time": "2023-11-02T12:00:05.538Z"
   },
   {
    "duration": 200,
    "start_time": "2023-11-02T12:00:13.216Z"
   },
   {
    "duration": 161,
    "start_time": "2023-11-02T12:00:39.256Z"
   },
   {
    "duration": 180,
    "start_time": "2023-11-02T12:00:43.995Z"
   },
   {
    "duration": 245,
    "start_time": "2023-11-02T12:00:49.457Z"
   },
   {
    "duration": 147,
    "start_time": "2023-11-02T12:01:49.163Z"
   },
   {
    "duration": 332,
    "start_time": "2023-11-02T12:01:59.903Z"
   },
   {
    "duration": 3,
    "start_time": "2023-11-02T12:02:51.137Z"
   },
   {
    "duration": 165,
    "start_time": "2023-11-02T12:04:49.468Z"
   },
   {
    "duration": 162,
    "start_time": "2023-11-02T12:05:08.332Z"
   },
   {
    "duration": 33,
    "start_time": "2023-11-02T12:08:41.379Z"
   },
   {
    "duration": 748,
    "start_time": "2023-11-02T12:08:53.157Z"
   },
   {
    "duration": 395,
    "start_time": "2023-11-02T12:09:20.055Z"
   },
   {
    "duration": 127,
    "start_time": "2023-11-02T12:10:23.750Z"
   },
   {
    "duration": 146,
    "start_time": "2023-11-02T12:10:51.901Z"
   },
   {
    "duration": 110,
    "start_time": "2023-11-02T12:11:23.030Z"
   },
   {
    "duration": 101,
    "start_time": "2023-11-02T12:11:41.360Z"
   },
   {
    "duration": 25,
    "start_time": "2023-11-02T12:13:22.695Z"
   },
   {
    "duration": 3,
    "start_time": "2023-11-02T12:13:30.192Z"
   },
   {
    "duration": 200,
    "start_time": "2023-11-02T12:13:52.823Z"
   },
   {
    "duration": 22,
    "start_time": "2023-11-02T12:13:56.783Z"
   },
   {
    "duration": 77,
    "start_time": "2023-11-02T12:14:02.335Z"
   },
   {
    "duration": 65,
    "start_time": "2023-11-02T12:14:12.079Z"
   },
   {
    "duration": 23,
    "start_time": "2023-11-02T12:14:22.343Z"
   },
   {
    "duration": 15,
    "start_time": "2023-11-02T12:15:43.384Z"
   },
   {
    "duration": 217,
    "start_time": "2023-11-02T12:16:09.778Z"
   },
   {
    "duration": 105,
    "start_time": "2023-11-02T12:17:05.419Z"
   },
   {
    "duration": 214,
    "start_time": "2023-11-02T12:17:34.657Z"
   },
   {
    "duration": 218,
    "start_time": "2023-11-02T12:17:43.488Z"
   },
   {
    "duration": 523,
    "start_time": "2023-11-02T12:18:46.937Z"
   },
   {
    "duration": 411,
    "start_time": "2023-11-02T12:19:00.339Z"
   },
   {
    "duration": 419,
    "start_time": "2023-11-02T12:19:28.354Z"
   },
   {
    "duration": 409,
    "start_time": "2023-11-02T12:19:31.307Z"
   },
   {
    "duration": 407,
    "start_time": "2023-11-02T12:19:36.162Z"
   },
   {
    "duration": 421,
    "start_time": "2023-11-02T12:19:39.778Z"
   },
   {
    "duration": 6875,
    "start_time": "2023-11-02T12:20:26.626Z"
   },
   {
    "duration": 6968,
    "start_time": "2023-11-02T12:20:50.941Z"
   },
   {
    "duration": 1275,
    "start_time": "2023-11-02T12:21:08.940Z"
   },
   {
    "duration": 162,
    "start_time": "2023-11-02T12:21:31.506Z"
   },
   {
    "duration": 189,
    "start_time": "2023-11-02T12:21:54.842Z"
   },
   {
    "duration": 208,
    "start_time": "2023-11-02T12:22:13.900Z"
   },
   {
    "duration": 184,
    "start_time": "2023-11-02T12:22:25.363Z"
   },
   {
    "duration": 147,
    "start_time": "2023-11-02T12:22:34.235Z"
   },
   {
    "duration": 281,
    "start_time": "2023-11-02T12:22:58.051Z"
   },
   {
    "duration": 21,
    "start_time": "2023-11-02T12:24:57.852Z"
   },
   {
    "duration": 19,
    "start_time": "2023-11-02T12:25:02.341Z"
   },
   {
    "duration": 21,
    "start_time": "2023-11-02T12:25:05.805Z"
   },
   {
    "duration": 17,
    "start_time": "2023-11-02T12:25:14.734Z"
   },
   {
    "duration": 1565,
    "start_time": "2023-11-02T12:25:21.226Z"
   },
   {
    "duration": 73,
    "start_time": "2023-11-02T12:25:22.793Z"
   },
   {
    "duration": 27,
    "start_time": "2023-11-02T12:25:22.868Z"
   },
   {
    "duration": 4,
    "start_time": "2023-11-02T12:25:22.896Z"
   },
   {
    "duration": 30,
    "start_time": "2023-11-02T12:25:22.902Z"
   },
   {
    "duration": 46,
    "start_time": "2023-11-02T12:25:22.934Z"
   },
   {
    "duration": 6,
    "start_time": "2023-11-02T12:25:22.982Z"
   },
   {
    "duration": 20,
    "start_time": "2023-11-02T12:25:22.989Z"
   },
   {
    "duration": 10,
    "start_time": "2023-11-02T12:25:23.011Z"
   },
   {
    "duration": 4,
    "start_time": "2023-11-02T12:25:23.023Z"
   },
   {
    "duration": 5,
    "start_time": "2023-11-02T12:25:23.047Z"
   },
   {
    "duration": 17,
    "start_time": "2023-11-02T12:25:23.053Z"
   },
   {
    "duration": 6,
    "start_time": "2023-11-02T12:25:23.072Z"
   },
   {
    "duration": 1251,
    "start_time": "2023-11-02T12:25:23.081Z"
   },
   {
    "duration": 52,
    "start_time": "2023-11-02T12:25:24.334Z"
   },
   {
    "duration": 12,
    "start_time": "2023-11-02T12:25:24.387Z"
   },
   {
    "duration": 19,
    "start_time": "2023-11-02T12:25:24.401Z"
   },
   {
    "duration": 193,
    "start_time": "2023-11-02T12:25:24.422Z"
   },
   {
    "duration": 1821,
    "start_time": "2023-11-02T12:25:24.617Z"
   },
   {
    "duration": 192,
    "start_time": "2023-11-02T12:25:26.440Z"
   },
   {
    "duration": 225,
    "start_time": "2023-11-02T12:25:26.634Z"
   },
   {
    "duration": 152,
    "start_time": "2023-11-02T12:25:26.862Z"
   },
   {
    "duration": 140,
    "start_time": "2023-11-02T12:25:27.016Z"
   },
   {
    "duration": 0,
    "start_time": "2023-11-02T12:25:27.158Z"
   },
   {
    "duration": 0,
    "start_time": "2023-11-02T12:25:27.160Z"
   },
   {
    "duration": 0,
    "start_time": "2023-11-02T12:25:27.161Z"
   },
   {
    "duration": 0,
    "start_time": "2023-11-02T12:25:27.163Z"
   },
   {
    "duration": 0,
    "start_time": "2023-11-02T12:25:27.164Z"
   },
   {
    "duration": 0,
    "start_time": "2023-11-02T12:25:27.165Z"
   },
   {
    "duration": 16,
    "start_time": "2023-11-02T12:25:49.214Z"
   },
   {
    "duration": 257,
    "start_time": "2023-11-02T12:26:04.542Z"
   },
   {
    "duration": 148,
    "start_time": "2023-11-02T12:26:21.463Z"
   },
   {
    "duration": 199,
    "start_time": "2023-11-02T12:26:28.270Z"
   },
   {
    "duration": 26,
    "start_time": "2023-11-02T12:26:31.583Z"
   },
   {
    "duration": 226,
    "start_time": "2023-11-02T12:26:34.683Z"
   },
   {
    "duration": 1563,
    "start_time": "2023-11-02T12:26:42.030Z"
   },
   {
    "duration": 71,
    "start_time": "2023-11-02T12:26:43.595Z"
   },
   {
    "duration": 27,
    "start_time": "2023-11-02T12:26:43.668Z"
   },
   {
    "duration": 4,
    "start_time": "2023-11-02T12:26:43.697Z"
   },
   {
    "duration": 11,
    "start_time": "2023-11-02T12:26:43.704Z"
   },
   {
    "duration": 55,
    "start_time": "2023-11-02T12:26:43.717Z"
   },
   {
    "duration": 6,
    "start_time": "2023-11-02T12:26:43.774Z"
   },
   {
    "duration": 20,
    "start_time": "2023-11-02T12:26:43.782Z"
   },
   {
    "duration": 14,
    "start_time": "2023-11-02T12:26:43.804Z"
   },
   {
    "duration": 27,
    "start_time": "2023-11-02T12:26:43.820Z"
   },
   {
    "duration": 5,
    "start_time": "2023-11-02T12:26:43.849Z"
   },
   {
    "duration": 20,
    "start_time": "2023-11-02T12:26:43.856Z"
   },
   {
    "duration": 7,
    "start_time": "2023-11-02T12:26:43.878Z"
   },
   {
    "duration": 1226,
    "start_time": "2023-11-02T12:26:43.887Z"
   },
   {
    "duration": 59,
    "start_time": "2023-11-02T12:26:45.115Z"
   },
   {
    "duration": 13,
    "start_time": "2023-11-02T12:26:45.175Z"
   },
   {
    "duration": 37,
    "start_time": "2023-11-02T12:26:45.189Z"
   },
   {
    "duration": 183,
    "start_time": "2023-11-02T12:26:45.228Z"
   },
   {
    "duration": 1796,
    "start_time": "2023-11-02T12:26:45.413Z"
   },
   {
    "duration": 192,
    "start_time": "2023-11-02T12:26:47.211Z"
   },
   {
    "duration": 213,
    "start_time": "2023-11-02T12:26:47.405Z"
   },
   {
    "duration": 158,
    "start_time": "2023-11-02T12:26:47.620Z"
   },
   {
    "duration": 161,
    "start_time": "2023-11-02T12:26:47.779Z"
   },
   {
    "duration": 24,
    "start_time": "2023-11-02T12:26:47.947Z"
   },
   {
    "duration": 333,
    "start_time": "2023-11-02T12:26:47.973Z"
   },
   {
    "duration": 220,
    "start_time": "2023-11-02T12:26:48.308Z"
   },
   {
    "duration": 407,
    "start_time": "2023-11-02T12:26:48.529Z"
   },
   {
    "duration": 6337,
    "start_time": "2023-11-02T12:26:48.938Z"
   },
   {
    "duration": 828,
    "start_time": "2023-11-02T12:26:55.277Z"
   },
   {
    "duration": 158,
    "start_time": "2023-11-02T13:45:17.166Z"
   },
   {
    "duration": 414,
    "start_time": "2023-11-02T13:45:51.516Z"
   },
   {
    "duration": 135,
    "start_time": "2023-11-02T13:45:54.782Z"
   },
   {
    "duration": 134,
    "start_time": "2023-11-02T13:46:29.197Z"
   },
   {
    "duration": 162,
    "start_time": "2023-11-02T13:46:38.693Z"
   },
   {
    "duration": 1541,
    "start_time": "2023-11-02T13:46:51.239Z"
   },
   {
    "duration": 71,
    "start_time": "2023-11-02T13:46:52.782Z"
   },
   {
    "duration": 27,
    "start_time": "2023-11-02T13:46:52.855Z"
   },
   {
    "duration": 3,
    "start_time": "2023-11-02T13:46:52.883Z"
   },
   {
    "duration": 5,
    "start_time": "2023-11-02T13:46:52.888Z"
   },
   {
    "duration": 48,
    "start_time": "2023-11-02T13:46:52.895Z"
   },
   {
    "duration": 6,
    "start_time": "2023-11-02T13:46:52.947Z"
   },
   {
    "duration": 21,
    "start_time": "2023-11-02T13:46:52.954Z"
   },
   {
    "duration": 10,
    "start_time": "2023-11-02T13:46:52.977Z"
   },
   {
    "duration": 4,
    "start_time": "2023-11-02T13:46:52.989Z"
   },
   {
    "duration": 21,
    "start_time": "2023-11-02T13:46:52.995Z"
   },
   {
    "duration": 35,
    "start_time": "2023-11-02T13:46:53.018Z"
   },
   {
    "duration": 7,
    "start_time": "2023-11-02T13:46:53.055Z"
   },
   {
    "duration": 1270,
    "start_time": "2023-11-02T13:46:53.065Z"
   },
   {
    "duration": 52,
    "start_time": "2023-11-02T13:46:54.337Z"
   },
   {
    "duration": 12,
    "start_time": "2023-11-02T13:46:54.390Z"
   },
   {
    "duration": 27,
    "start_time": "2023-11-02T13:46:54.403Z"
   },
   {
    "duration": 173,
    "start_time": "2023-11-02T13:46:54.446Z"
   },
   {
    "duration": 1868,
    "start_time": "2023-11-02T13:46:54.621Z"
   },
   {
    "duration": 189,
    "start_time": "2023-11-02T13:46:56.491Z"
   },
   {
    "duration": 221,
    "start_time": "2023-11-02T13:46:56.682Z"
   },
   {
    "duration": 156,
    "start_time": "2023-11-02T13:46:56.905Z"
   },
   {
    "duration": 163,
    "start_time": "2023-11-02T13:46:57.063Z"
   },
   {
    "duration": 253,
    "start_time": "2023-11-02T13:46:57.228Z"
   },
   {
    "duration": 140,
    "start_time": "2023-11-02T13:46:57.483Z"
   },
   {
    "duration": 165,
    "start_time": "2023-11-02T13:46:57.624Z"
   },
   {
    "duration": 25,
    "start_time": "2023-11-02T13:46:57.790Z"
   },
   {
    "duration": 222,
    "start_time": "2023-11-02T13:46:57.817Z"
   },
   {
    "duration": 225,
    "start_time": "2023-11-02T13:46:58.047Z"
   },
   {
    "duration": 406,
    "start_time": "2023-11-02T13:46:58.274Z"
   },
   {
    "duration": 6903,
    "start_time": "2023-11-02T13:46:58.682Z"
   },
   {
    "duration": 1137,
    "start_time": "2023-11-02T13:47:05.588Z"
   },
   {
    "duration": 80,
    "start_time": "2023-11-02T13:49:22.664Z"
   },
   {
    "duration": 133,
    "start_time": "2023-11-02T13:50:24.543Z"
   },
   {
    "duration": 84,
    "start_time": "2023-11-02T13:50:35.384Z"
   },
   {
    "duration": 176,
    "start_time": "2023-11-02T13:51:02.208Z"
   },
   {
    "duration": 139,
    "start_time": "2023-11-02T13:51:11.432Z"
   },
   {
    "duration": 1360,
    "start_time": "2023-11-02T13:51:19.841Z"
   },
   {
    "duration": 1526,
    "start_time": "2023-11-02T13:51:42.761Z"
   },
   {
    "duration": 17,
    "start_time": "2023-11-02T13:53:27.097Z"
   },
   {
    "duration": 59,
    "start_time": "2023-11-02T13:53:34.786Z"
   },
   {
    "duration": 142,
    "start_time": "2023-11-02T13:58:02.006Z"
   },
   {
    "duration": 16,
    "start_time": "2023-11-02T13:58:13.572Z"
   },
   {
    "duration": 145,
    "start_time": "2023-11-02T13:59:01.406Z"
   },
   {
    "duration": 87,
    "start_time": "2023-11-02T13:59:19.846Z"
   },
   {
    "duration": 81,
    "start_time": "2023-11-02T13:59:42.006Z"
   },
   {
    "duration": 1485,
    "start_time": "2023-11-02T14:11:43.906Z"
   },
   {
    "duration": 77,
    "start_time": "2023-11-02T14:11:45.393Z"
   },
   {
    "duration": 35,
    "start_time": "2023-11-02T14:11:45.472Z"
   },
   {
    "duration": 5,
    "start_time": "2023-11-02T14:11:45.509Z"
   },
   {
    "duration": 42,
    "start_time": "2023-11-02T14:11:45.518Z"
   },
   {
    "duration": 62,
    "start_time": "2023-11-02T14:11:45.563Z"
   },
   {
    "duration": 6,
    "start_time": "2023-11-02T14:11:45.627Z"
   },
   {
    "duration": 46,
    "start_time": "2023-11-02T14:11:45.635Z"
   },
   {
    "duration": 11,
    "start_time": "2023-11-02T14:11:45.683Z"
   },
   {
    "duration": 23,
    "start_time": "2023-11-02T14:11:45.696Z"
   },
   {
    "duration": 27,
    "start_time": "2023-11-02T14:11:45.721Z"
   },
   {
    "duration": 41,
    "start_time": "2023-11-02T14:11:45.750Z"
   },
   {
    "duration": 19,
    "start_time": "2023-11-02T14:11:45.793Z"
   },
   {
    "duration": 1229,
    "start_time": "2023-11-02T14:11:45.816Z"
   },
   {
    "duration": 44,
    "start_time": "2023-11-02T14:11:47.047Z"
   },
   {
    "duration": 12,
    "start_time": "2023-11-02T14:11:47.093Z"
   },
   {
    "duration": 42,
    "start_time": "2023-11-02T14:11:47.106Z"
   },
   {
    "duration": 58,
    "start_time": "2023-11-02T14:11:47.150Z"
   },
   {
    "duration": 182,
    "start_time": "2023-11-02T14:11:47.210Z"
   },
   {
    "duration": 1768,
    "start_time": "2023-11-02T14:11:47.393Z"
   },
   {
    "duration": 177,
    "start_time": "2023-11-02T14:11:49.163Z"
   },
   {
    "duration": 208,
    "start_time": "2023-11-02T14:11:49.341Z"
   },
   {
    "duration": 146,
    "start_time": "2023-11-02T14:11:49.551Z"
   },
   {
    "duration": 158,
    "start_time": "2023-11-02T14:11:49.699Z"
   },
   {
    "duration": 257,
    "start_time": "2023-11-02T14:11:49.859Z"
   },
   {
    "duration": 145,
    "start_time": "2023-11-02T14:11:50.118Z"
   },
   {
    "duration": 100,
    "start_time": "2023-11-02T14:11:50.265Z"
   },
   {
    "duration": 168,
    "start_time": "2023-11-02T14:11:50.368Z"
   },
   {
    "duration": 31,
    "start_time": "2023-11-02T14:11:50.538Z"
   },
   {
    "duration": 223,
    "start_time": "2023-11-02T14:11:50.571Z"
   },
   {
    "duration": 225,
    "start_time": "2023-11-02T14:11:50.796Z"
   },
   {
    "duration": 401,
    "start_time": "2023-11-02T14:11:51.023Z"
   },
   {
    "duration": 6595,
    "start_time": "2023-11-02T14:11:51.427Z"
   },
   {
    "duration": 1247,
    "start_time": "2023-11-02T14:11:58.024Z"
   },
   {
    "duration": 23,
    "start_time": "2023-11-02T14:24:22.754Z"
   },
   {
    "duration": 83,
    "start_time": "2023-11-02T14:24:35.803Z"
   },
   {
    "duration": 136,
    "start_time": "2023-11-02T14:26:37.074Z"
   },
   {
    "duration": 139,
    "start_time": "2023-11-02T14:26:44.867Z"
   },
   {
    "duration": 1603,
    "start_time": "2023-11-02T14:27:09.245Z"
   },
   {
    "duration": 87,
    "start_time": "2023-11-02T14:27:10.850Z"
   },
   {
    "duration": 31,
    "start_time": "2023-11-02T14:27:10.939Z"
   },
   {
    "duration": 4,
    "start_time": "2023-11-02T14:27:10.972Z"
   },
   {
    "duration": 9,
    "start_time": "2023-11-02T14:27:10.979Z"
   },
   {
    "duration": 49,
    "start_time": "2023-11-02T14:27:10.990Z"
   },
   {
    "duration": 9,
    "start_time": "2023-11-02T14:27:11.041Z"
   },
   {
    "duration": 34,
    "start_time": "2023-11-02T14:27:11.051Z"
   },
   {
    "duration": 11,
    "start_time": "2023-11-02T14:27:11.087Z"
   },
   {
    "duration": 4,
    "start_time": "2023-11-02T14:27:11.100Z"
   },
   {
    "duration": 22,
    "start_time": "2023-11-02T14:27:11.106Z"
   },
   {
    "duration": 31,
    "start_time": "2023-11-02T14:27:11.130Z"
   },
   {
    "duration": 7,
    "start_time": "2023-11-02T14:27:11.163Z"
   },
   {
    "duration": 1202,
    "start_time": "2023-11-02T14:27:11.173Z"
   },
   {
    "duration": 45,
    "start_time": "2023-11-02T14:27:12.377Z"
   },
   {
    "duration": 26,
    "start_time": "2023-11-02T14:27:12.423Z"
   },
   {
    "duration": 24,
    "start_time": "2023-11-02T14:27:12.451Z"
   },
   {
    "duration": 72,
    "start_time": "2023-11-02T14:27:12.477Z"
   },
   {
    "duration": 170,
    "start_time": "2023-11-02T14:27:12.551Z"
   },
   {
    "duration": 1839,
    "start_time": "2023-11-02T14:27:12.723Z"
   },
   {
    "duration": 185,
    "start_time": "2023-11-02T14:27:14.564Z"
   },
   {
    "duration": 217,
    "start_time": "2023-11-02T14:27:14.751Z"
   },
   {
    "duration": 161,
    "start_time": "2023-11-02T14:27:14.970Z"
   },
   {
    "duration": 181,
    "start_time": "2023-11-02T14:27:15.133Z"
   },
   {
    "duration": 308,
    "start_time": "2023-11-02T14:27:15.316Z"
   },
   {
    "duration": 91,
    "start_time": "2023-11-02T14:27:15.626Z"
   },
   {
    "duration": 68,
    "start_time": "2023-11-02T14:27:15.719Z"
   },
   {
    "duration": 0,
    "start_time": "2023-11-02T14:27:15.788Z"
   },
   {
    "duration": 0,
    "start_time": "2023-11-02T14:27:15.790Z"
   },
   {
    "duration": 0,
    "start_time": "2023-11-02T14:27:15.791Z"
   },
   {
    "duration": 0,
    "start_time": "2023-11-02T14:27:15.793Z"
   },
   {
    "duration": 0,
    "start_time": "2023-11-02T14:27:15.794Z"
   },
   {
    "duration": 0,
    "start_time": "2023-11-02T14:27:15.796Z"
   },
   {
    "duration": 0,
    "start_time": "2023-11-02T14:27:15.798Z"
   },
   {
    "duration": 1581,
    "start_time": "2023-11-02T14:32:49.422Z"
   },
   {
    "duration": 94,
    "start_time": "2023-11-02T14:32:51.005Z"
   },
   {
    "duration": 28,
    "start_time": "2023-11-02T14:32:51.101Z"
   },
   {
    "duration": 3,
    "start_time": "2023-11-02T14:32:51.131Z"
   },
   {
    "duration": 19,
    "start_time": "2023-11-02T14:32:51.137Z"
   },
   {
    "duration": 39,
    "start_time": "2023-11-02T14:32:51.158Z"
   },
   {
    "duration": 6,
    "start_time": "2023-11-02T14:32:51.199Z"
   },
   {
    "duration": 33,
    "start_time": "2023-11-02T14:32:51.206Z"
   },
   {
    "duration": 12,
    "start_time": "2023-11-02T14:32:51.241Z"
   },
   {
    "duration": 5,
    "start_time": "2023-11-02T14:32:51.255Z"
   },
   {
    "duration": 24,
    "start_time": "2023-11-02T14:32:51.261Z"
   },
   {
    "duration": 18,
    "start_time": "2023-11-02T14:32:51.287Z"
   },
   {
    "duration": 6,
    "start_time": "2023-11-02T14:32:51.307Z"
   },
   {
    "duration": 1225,
    "start_time": "2023-11-02T14:32:51.317Z"
   },
   {
    "duration": 46,
    "start_time": "2023-11-02T14:32:52.544Z"
   },
   {
    "duration": 11,
    "start_time": "2023-11-02T14:32:52.592Z"
   },
   {
    "duration": 42,
    "start_time": "2023-11-02T14:32:52.605Z"
   },
   {
    "duration": 57,
    "start_time": "2023-11-02T14:32:52.649Z"
   },
   {
    "duration": 181,
    "start_time": "2023-11-02T14:32:52.708Z"
   },
   {
    "duration": 1742,
    "start_time": "2023-11-02T14:32:52.891Z"
   },
   {
    "duration": 199,
    "start_time": "2023-11-02T14:32:54.636Z"
   },
   {
    "duration": 204,
    "start_time": "2023-11-02T14:32:54.837Z"
   },
   {
    "duration": 156,
    "start_time": "2023-11-02T14:32:55.043Z"
   },
   {
    "duration": 198,
    "start_time": "2023-11-02T14:32:55.201Z"
   },
   {
    "duration": 256,
    "start_time": "2023-11-02T14:32:55.401Z"
   },
   {
    "duration": 92,
    "start_time": "2023-11-02T14:32:55.659Z"
   },
   {
    "duration": 159,
    "start_time": "2023-11-02T14:32:55.753Z"
   },
   {
    "duration": 34,
    "start_time": "2023-11-02T14:32:55.914Z"
   },
   {
    "duration": 217,
    "start_time": "2023-11-02T14:32:55.949Z"
   },
   {
    "duration": 213,
    "start_time": "2023-11-02T14:32:56.168Z"
   },
   {
    "duration": 408,
    "start_time": "2023-11-02T14:32:56.383Z"
   },
   {
    "duration": 6303,
    "start_time": "2023-11-02T14:32:56.793Z"
   },
   {
    "duration": 1049,
    "start_time": "2023-11-02T14:33:03.098Z"
   },
   {
    "duration": 16,
    "start_time": "2023-11-02T14:36:58.204Z"
   },
   {
    "duration": 11,
    "start_time": "2023-11-02T14:42:01.736Z"
   },
   {
    "duration": 10,
    "start_time": "2023-11-02T14:42:22.202Z"
   },
   {
    "duration": 104,
    "start_time": "2023-11-02T14:42:27.000Z"
   },
   {
    "duration": 88,
    "start_time": "2023-11-02T14:42:35.000Z"
   },
   {
    "duration": 287,
    "start_time": "2023-11-02T14:42:47.328Z"
   },
   {
    "duration": 9,
    "start_time": "2023-11-02T14:46:57.906Z"
   },
   {
    "duration": 3,
    "start_time": "2023-11-02T14:47:55.499Z"
   },
   {
    "duration": 84,
    "start_time": "2023-11-02T14:48:21.492Z"
   },
   {
    "duration": 11,
    "start_time": "2023-11-02T14:55:14.928Z"
   },
   {
    "duration": 12,
    "start_time": "2023-11-02T14:56:00.696Z"
   },
   {
    "duration": 11,
    "start_time": "2023-11-02T15:23:15.474Z"
   },
   {
    "duration": 11,
    "start_time": "2023-11-02T15:27:49.997Z"
   },
   {
    "duration": 11,
    "start_time": "2023-11-02T15:28:00.885Z"
   },
   {
    "duration": 10,
    "start_time": "2023-11-02T15:28:08.121Z"
   },
   {
    "duration": 12,
    "start_time": "2023-11-02T15:29:06.273Z"
   },
   {
    "duration": 10,
    "start_time": "2023-11-02T15:29:36.386Z"
   },
   {
    "duration": 9,
    "start_time": "2023-11-02T15:29:39.219Z"
   },
   {
    "duration": 10,
    "start_time": "2023-11-02T15:29:42.650Z"
   },
   {
    "duration": 11,
    "start_time": "2023-11-02T15:29:51.570Z"
   },
   {
    "duration": 145,
    "start_time": "2023-11-02T15:46:11.083Z"
   },
   {
    "duration": 12,
    "start_time": "2023-11-02T15:46:18.286Z"
   },
   {
    "duration": 1802,
    "start_time": "2023-11-05T15:14:29.623Z"
   },
   {
    "duration": 95,
    "start_time": "2023-11-05T15:14:31.427Z"
   },
   {
    "duration": 29,
    "start_time": "2023-11-05T15:14:31.523Z"
   },
   {
    "duration": 3,
    "start_time": "2023-11-05T15:14:31.554Z"
   },
   {
    "duration": 27,
    "start_time": "2023-11-05T15:14:31.559Z"
   },
   {
    "duration": 69,
    "start_time": "2023-11-05T15:14:31.587Z"
   },
   {
    "duration": 10,
    "start_time": "2023-11-05T15:14:31.658Z"
   },
   {
    "duration": 30,
    "start_time": "2023-11-05T15:14:31.670Z"
   },
   {
    "duration": 41,
    "start_time": "2023-11-05T15:14:31.702Z"
   },
   {
    "duration": 12,
    "start_time": "2023-11-05T15:14:31.746Z"
   },
   {
    "duration": 28,
    "start_time": "2023-11-05T15:14:31.760Z"
   },
   {
    "duration": 39,
    "start_time": "2023-11-05T15:14:31.790Z"
   },
   {
    "duration": 17,
    "start_time": "2023-11-05T15:14:31.831Z"
   },
   {
    "duration": 1273,
    "start_time": "2023-11-05T15:14:31.850Z"
   },
   {
    "duration": 56,
    "start_time": "2023-11-05T15:14:33.125Z"
   },
   {
    "duration": 13,
    "start_time": "2023-11-05T15:14:33.183Z"
   },
   {
    "duration": 26,
    "start_time": "2023-11-05T15:14:33.197Z"
   },
   {
    "duration": 75,
    "start_time": "2023-11-05T15:14:33.225Z"
   },
   {
    "duration": 174,
    "start_time": "2023-11-05T15:14:33.301Z"
   },
   {
    "duration": 1925,
    "start_time": "2023-11-05T15:14:33.477Z"
   },
   {
    "duration": 205,
    "start_time": "2023-11-05T15:14:35.404Z"
   },
   {
    "duration": 220,
    "start_time": "2023-11-05T15:14:35.611Z"
   },
   {
    "duration": 162,
    "start_time": "2023-11-05T15:14:35.833Z"
   },
   {
    "duration": 180,
    "start_time": "2023-11-05T15:14:35.997Z"
   },
   {
    "duration": 253,
    "start_time": "2023-11-05T15:14:36.179Z"
   },
   {
    "duration": 87,
    "start_time": "2023-11-05T15:14:36.434Z"
   },
   {
    "duration": 167,
    "start_time": "2023-11-05T15:14:36.523Z"
   },
   {
    "duration": 24,
    "start_time": "2023-11-05T15:14:36.693Z"
   },
   {
    "duration": 218,
    "start_time": "2023-11-05T15:14:36.718Z"
   },
   {
    "duration": 220,
    "start_time": "2023-11-05T15:14:36.938Z"
   },
   {
    "duration": 400,
    "start_time": "2023-11-05T15:14:37.160Z"
   },
   {
    "duration": 6485,
    "start_time": "2023-11-05T15:14:37.561Z"
   },
   {
    "duration": 1077,
    "start_time": "2023-11-05T15:14:44.048Z"
   },
   {
    "duration": 9,
    "start_time": "2023-11-05T15:14:45.127Z"
   },
   {
    "duration": 11,
    "start_time": "2023-11-05T15:14:45.146Z"
   },
   {
    "duration": 22,
    "start_time": "2023-11-05T15:14:45.158Z"
   },
   {
    "duration": 11,
    "start_time": "2023-11-05T15:14:45.182Z"
   },
   {
    "duration": 12,
    "start_time": "2023-11-05T15:14:45.195Z"
   },
   {
    "duration": 152,
    "start_time": "2023-11-05T15:15:41.961Z"
   },
   {
    "duration": 33,
    "start_time": "2023-11-05T15:15:45.734Z"
   },
   {
    "duration": 14,
    "start_time": "2023-11-05T15:15:50.256Z"
   },
   {
    "duration": 11,
    "start_time": "2023-11-05T15:15:59.018Z"
   },
   {
    "duration": 11,
    "start_time": "2023-11-05T15:16:07.767Z"
   },
   {
    "duration": 12,
    "start_time": "2023-11-05T15:16:29.954Z"
   },
   {
    "duration": 13,
    "start_time": "2023-11-05T15:16:33.306Z"
   },
   {
    "duration": 11,
    "start_time": "2023-11-05T15:16:37.850Z"
   },
   {
    "duration": 12,
    "start_time": "2023-11-05T15:17:09.078Z"
   },
   {
    "duration": 10,
    "start_time": "2023-11-05T15:17:13.615Z"
   },
   {
    "duration": 10,
    "start_time": "2023-11-05T15:17:20.822Z"
   },
   {
    "duration": 17,
    "start_time": "2023-11-05T15:27:09.137Z"
   },
   {
    "duration": 172,
    "start_time": "2023-11-05T15:27:16.848Z"
   },
   {
    "duration": 190,
    "start_time": "2023-11-05T15:27:42.973Z"
   },
   {
    "duration": 1275,
    "start_time": "2023-11-05T15:28:03.749Z"
   },
   {
    "duration": 1449,
    "start_time": "2023-11-05T15:28:23.647Z"
   },
   {
    "duration": 177,
    "start_time": "2023-11-05T15:29:17.095Z"
   },
   {
    "duration": 16,
    "start_time": "2023-11-05T15:32:47.170Z"
   },
   {
    "duration": 13,
    "start_time": "2023-11-05T15:34:45.248Z"
   },
   {
    "duration": 11,
    "start_time": "2023-11-05T15:35:13.765Z"
   },
   {
    "duration": 698,
    "start_time": "2023-11-05T15:35:34.899Z"
   },
   {
    "duration": 16,
    "start_time": "2023-11-05T15:35:50.214Z"
   },
   {
    "duration": 4,
    "start_time": "2023-11-05T15:35:54.552Z"
   },
   {
    "duration": 11,
    "start_time": "2023-11-05T15:39:19.343Z"
   },
   {
    "duration": 4,
    "start_time": "2023-11-05T15:39:23.985Z"
   },
   {
    "duration": 475,
    "start_time": "2023-11-05T15:49:33.425Z"
   },
   {
    "duration": 418,
    "start_time": "2023-11-05T15:50:00.461Z"
   },
   {
    "duration": 401,
    "start_time": "2023-11-05T15:50:18.581Z"
   },
   {
    "duration": 424,
    "start_time": "2023-11-05T15:50:36.693Z"
   },
   {
    "duration": 421,
    "start_time": "2023-11-05T15:51:25.686Z"
   },
   {
    "duration": 23,
    "start_time": "2023-11-06T12:51:54.808Z"
   },
   {
    "duration": 1519,
    "start_time": "2023-11-06T12:52:17.256Z"
   },
   {
    "duration": 81,
    "start_time": "2023-11-06T12:52:18.777Z"
   },
   {
    "duration": 29,
    "start_time": "2023-11-06T12:52:18.859Z"
   },
   {
    "duration": 3,
    "start_time": "2023-11-06T12:52:18.890Z"
   },
   {
    "duration": 6,
    "start_time": "2023-11-06T12:52:18.896Z"
   },
   {
    "duration": 62,
    "start_time": "2023-11-06T12:52:18.903Z"
   },
   {
    "duration": 7,
    "start_time": "2023-11-06T12:52:18.967Z"
   },
   {
    "duration": 19,
    "start_time": "2023-11-06T12:52:18.976Z"
   },
   {
    "duration": 22,
    "start_time": "2023-11-06T12:52:18.997Z"
   },
   {
    "duration": 5,
    "start_time": "2023-11-06T12:52:19.022Z"
   },
   {
    "duration": 4,
    "start_time": "2023-11-06T12:52:19.048Z"
   },
   {
    "duration": 21,
    "start_time": "2023-11-06T12:52:19.054Z"
   },
   {
    "duration": 9,
    "start_time": "2023-11-06T12:52:19.076Z"
   },
   {
    "duration": 1262,
    "start_time": "2023-11-06T12:52:19.089Z"
   },
   {
    "duration": 55,
    "start_time": "2023-11-06T12:52:20.353Z"
   },
   {
    "duration": 12,
    "start_time": "2023-11-06T12:52:20.410Z"
   },
   {
    "duration": 38,
    "start_time": "2023-11-06T12:52:20.424Z"
   },
   {
    "duration": 63,
    "start_time": "2023-11-06T12:52:20.464Z"
   },
   {
    "duration": 186,
    "start_time": "2023-11-06T12:52:20.528Z"
   },
   {
    "duration": 1775,
    "start_time": "2023-11-06T12:52:20.716Z"
   },
   {
    "duration": 461,
    "start_time": "2023-11-06T12:52:22.493Z"
   },
   {
    "duration": 210,
    "start_time": "2023-11-06T12:52:22.957Z"
   },
   {
    "duration": 218,
    "start_time": "2023-11-06T12:52:23.169Z"
   },
   {
    "duration": 153,
    "start_time": "2023-11-06T12:52:23.389Z"
   },
   {
    "duration": 264,
    "start_time": "2023-11-06T12:52:23.547Z"
   },
   {
    "duration": 146,
    "start_time": "2023-11-06T12:52:23.813Z"
   },
   {
    "duration": 102,
    "start_time": "2023-11-06T12:52:23.961Z"
   },
   {
    "duration": 163,
    "start_time": "2023-11-06T12:52:24.065Z"
   },
   {
    "duration": 32,
    "start_time": "2023-11-06T12:52:24.231Z"
   },
   {
    "duration": 206,
    "start_time": "2023-11-06T12:52:24.266Z"
   },
   {
    "duration": 209,
    "start_time": "2023-11-06T12:52:24.474Z"
   },
   {
    "duration": 285,
    "start_time": "2023-11-06T12:52:24.685Z"
   },
   {
    "duration": 0,
    "start_time": "2023-11-06T12:52:24.973Z"
   },
   {
    "duration": 0,
    "start_time": "2023-11-06T12:52:24.974Z"
   },
   {
    "duration": 0,
    "start_time": "2023-11-06T12:52:24.976Z"
   },
   {
    "duration": 0,
    "start_time": "2023-11-06T12:52:24.978Z"
   },
   {
    "duration": 0,
    "start_time": "2023-11-06T12:52:24.980Z"
   },
   {
    "duration": 0,
    "start_time": "2023-11-06T12:52:24.981Z"
   },
   {
    "duration": 0,
    "start_time": "2023-11-06T12:52:24.983Z"
   },
   {
    "duration": 19,
    "start_time": "2023-11-06T12:53:17.098Z"
   },
   {
    "duration": 161,
    "start_time": "2023-11-06T12:53:20.938Z"
   },
   {
    "duration": 15,
    "start_time": "2023-11-06T12:53:29.298Z"
   },
   {
    "duration": 198,
    "start_time": "2023-11-06T12:53:35.290Z"
   },
   {
    "duration": 155,
    "start_time": "2023-11-06T12:54:02.202Z"
   },
   {
    "duration": 150,
    "start_time": "2023-11-06T12:54:07.667Z"
   },
   {
    "duration": 4,
    "start_time": "2023-11-06T12:54:33.778Z"
   },
   {
    "duration": 17,
    "start_time": "2023-11-06T12:56:02.724Z"
   },
   {
    "duration": 8,
    "start_time": "2023-11-06T12:59:12.590Z"
   },
   {
    "duration": 8,
    "start_time": "2023-11-06T12:59:31.133Z"
   },
   {
    "duration": 9,
    "start_time": "2023-11-06T12:59:40.326Z"
   },
   {
    "duration": 7,
    "start_time": "2023-11-06T12:59:52.766Z"
   },
   {
    "duration": 1377,
    "start_time": "2023-11-06T13:00:54.311Z"
   },
   {
    "duration": 13,
    "start_time": "2023-11-06T13:01:09.105Z"
   },
   {
    "duration": 73,
    "start_time": "2023-11-06T13:01:28.132Z"
   },
   {
    "duration": 169,
    "start_time": "2023-11-06T13:06:42.953Z"
   },
   {
    "duration": 167,
    "start_time": "2023-11-06T13:06:49.209Z"
   },
   {
    "duration": 169,
    "start_time": "2023-11-06T13:06:53.121Z"
   },
   {
    "duration": 169,
    "start_time": "2023-11-06T13:06:57.675Z"
   },
   {
    "duration": 274,
    "start_time": "2023-11-06T13:07:04.586Z"
   },
   {
    "duration": 175,
    "start_time": "2023-11-06T13:07:08.865Z"
   },
   {
    "duration": 167,
    "start_time": "2023-11-06T13:07:15.971Z"
   },
   {
    "duration": 1664,
    "start_time": "2023-11-06T13:08:12.367Z"
   },
   {
    "duration": 10,
    "start_time": "2023-11-06T13:08:30.659Z"
   },
   {
    "duration": 1667,
    "start_time": "2023-11-06T13:08:56.739Z"
   },
   {
    "duration": 1783,
    "start_time": "2023-11-06T13:09:02.570Z"
   },
   {
    "duration": 440,
    "start_time": "2023-11-06T13:10:06.723Z"
   },
   {
    "duration": 416,
    "start_time": "2023-11-06T13:10:14.741Z"
   },
   {
    "duration": 92,
    "start_time": "2023-11-06T13:10:30.956Z"
   },
   {
    "duration": 468,
    "start_time": "2023-11-06T13:10:42.612Z"
   },
   {
    "duration": 452,
    "start_time": "2023-11-06T13:11:07.327Z"
   },
   {
    "duration": 186,
    "start_time": "2023-11-06T13:12:14.902Z"
   },
   {
    "duration": 200,
    "start_time": "2023-11-06T13:12:26.005Z"
   },
   {
    "duration": 174,
    "start_time": "2023-11-06T13:12:35.148Z"
   },
   {
    "duration": 168,
    "start_time": "2023-11-06T13:12:44.972Z"
   },
   {
    "duration": 204,
    "start_time": "2023-11-06T13:13:05.442Z"
   },
   {
    "duration": 499,
    "start_time": "2023-11-06T13:16:42.366Z"
   },
   {
    "duration": 256,
    "start_time": "2023-11-06T13:17:15.376Z"
   },
   {
    "duration": 237,
    "start_time": "2023-11-06T13:17:24.046Z"
   },
   {
    "duration": 212,
    "start_time": "2023-11-06T13:19:12.617Z"
   },
   {
    "duration": 214,
    "start_time": "2023-11-06T13:19:29.952Z"
   },
   {
    "duration": 226,
    "start_time": "2023-11-06T13:19:37.633Z"
   },
   {
    "duration": 217,
    "start_time": "2023-11-06T13:19:48.153Z"
   },
   {
    "duration": 165,
    "start_time": "2023-11-06T13:20:04.993Z"
   },
   {
    "duration": 170,
    "start_time": "2023-11-06T13:20:28.970Z"
   },
   {
    "duration": 178,
    "start_time": "2023-11-06T13:20:55.923Z"
   },
   {
    "duration": 167,
    "start_time": "2023-11-06T13:21:31.148Z"
   },
   {
    "duration": 268,
    "start_time": "2023-11-06T13:21:41.016Z"
   },
   {
    "duration": 143,
    "start_time": "2023-11-06T13:23:21.524Z"
   },
   {
    "duration": 146,
    "start_time": "2023-11-06T13:23:26.451Z"
   },
   {
    "duration": 84,
    "start_time": "2023-11-06T13:23:53.179Z"
   },
   {
    "duration": 139,
    "start_time": "2023-11-06T13:34:53.741Z"
   },
   {
    "duration": 178,
    "start_time": "2023-11-06T13:35:05.971Z"
   },
   {
    "duration": 155,
    "start_time": "2023-11-06T13:35:14.497Z"
   },
   {
    "duration": 153,
    "start_time": "2023-11-06T13:35:56.253Z"
   },
   {
    "duration": 1582,
    "start_time": "2023-11-06T13:36:23.873Z"
   },
   {
    "duration": 72,
    "start_time": "2023-11-06T13:36:25.458Z"
   },
   {
    "duration": 28,
    "start_time": "2023-11-06T13:36:25.532Z"
   },
   {
    "duration": 3,
    "start_time": "2023-11-06T13:36:25.562Z"
   },
   {
    "duration": 8,
    "start_time": "2023-11-06T13:36:25.567Z"
   },
   {
    "duration": 33,
    "start_time": "2023-11-06T13:36:25.577Z"
   },
   {
    "duration": 6,
    "start_time": "2023-11-06T13:36:25.612Z"
   },
   {
    "duration": 41,
    "start_time": "2023-11-06T13:36:25.620Z"
   },
   {
    "duration": 12,
    "start_time": "2023-11-06T13:36:25.663Z"
   },
   {
    "duration": 4,
    "start_time": "2023-11-06T13:36:25.677Z"
   },
   {
    "duration": 12,
    "start_time": "2023-11-06T13:36:25.683Z"
   },
   {
    "duration": 29,
    "start_time": "2023-11-06T13:36:25.697Z"
   },
   {
    "duration": 24,
    "start_time": "2023-11-06T13:36:25.728Z"
   },
   {
    "duration": 1203,
    "start_time": "2023-11-06T13:36:25.755Z"
   },
   {
    "duration": 45,
    "start_time": "2023-11-06T13:36:26.960Z"
   },
   {
    "duration": 11,
    "start_time": "2023-11-06T13:36:27.007Z"
   },
   {
    "duration": 38,
    "start_time": "2023-11-06T13:36:27.020Z"
   },
   {
    "duration": 58,
    "start_time": "2023-11-06T13:36:27.059Z"
   },
   {
    "duration": 188,
    "start_time": "2023-11-06T13:36:27.119Z"
   },
   {
    "duration": 1716,
    "start_time": "2023-11-06T13:36:27.308Z"
   },
   {
    "duration": 421,
    "start_time": "2023-11-06T13:36:29.026Z"
   },
   {
    "duration": 211,
    "start_time": "2023-11-06T13:36:29.449Z"
   },
   {
    "duration": 231,
    "start_time": "2023-11-06T13:36:29.661Z"
   },
   {
    "duration": 169,
    "start_time": "2023-11-06T13:36:29.893Z"
   },
   {
    "duration": 302,
    "start_time": "2023-11-06T13:36:30.064Z"
   },
   {
    "duration": 163,
    "start_time": "2023-11-06T13:36:30.368Z"
   },
   {
    "duration": 174,
    "start_time": "2023-11-06T13:36:30.533Z"
   },
   {
    "duration": 25,
    "start_time": "2023-11-06T13:36:30.708Z"
   },
   {
    "duration": 208,
    "start_time": "2023-11-06T13:36:30.746Z"
   },
   {
    "duration": 230,
    "start_time": "2023-11-06T13:36:30.957Z"
   },
   {
    "duration": 387,
    "start_time": "2023-11-06T13:36:31.189Z"
   },
   {
    "duration": 6352,
    "start_time": "2023-11-06T13:36:31.578Z"
   },
   {
    "duration": 1053,
    "start_time": "2023-11-06T13:36:37.932Z"
   },
   {
    "duration": 9,
    "start_time": "2023-11-06T13:36:38.987Z"
   },
   {
    "duration": 12,
    "start_time": "2023-11-06T13:36:38.998Z"
   },
   {
    "duration": 36,
    "start_time": "2023-11-06T13:36:39.012Z"
   },
   {
    "duration": 15,
    "start_time": "2023-11-06T13:36:39.050Z"
   },
   {
    "duration": 11,
    "start_time": "2023-11-06T13:36:39.067Z"
   },
   {
    "duration": 389,
    "start_time": "2023-11-06T14:25:50.068Z"
   },
   {
    "duration": 267,
    "start_time": "2023-11-06T14:25:56.116Z"
   },
   {
    "duration": 1510,
    "start_time": "2023-11-06T14:27:32.378Z"
   },
   {
    "duration": 154,
    "start_time": "2023-11-06T14:27:33.891Z"
   },
   {
    "duration": 27,
    "start_time": "2023-11-06T14:27:34.047Z"
   },
   {
    "duration": 3,
    "start_time": "2023-11-06T14:27:34.077Z"
   },
   {
    "duration": 15,
    "start_time": "2023-11-06T14:27:34.081Z"
   },
   {
    "duration": 51,
    "start_time": "2023-11-06T14:27:34.098Z"
   },
   {
    "duration": 7,
    "start_time": "2023-11-06T14:27:34.151Z"
   },
   {
    "duration": 20,
    "start_time": "2023-11-06T14:27:34.159Z"
   },
   {
    "duration": 13,
    "start_time": "2023-11-06T14:27:34.181Z"
   },
   {
    "duration": 5,
    "start_time": "2023-11-06T14:27:34.197Z"
   },
   {
    "duration": 44,
    "start_time": "2023-11-06T14:27:34.204Z"
   },
   {
    "duration": 17,
    "start_time": "2023-11-06T14:27:34.250Z"
   },
   {
    "duration": 7,
    "start_time": "2023-11-06T14:27:34.268Z"
   },
   {
    "duration": 1248,
    "start_time": "2023-11-06T14:27:34.277Z"
   },
   {
    "duration": 52,
    "start_time": "2023-11-06T14:27:35.526Z"
   },
   {
    "duration": 14,
    "start_time": "2023-11-06T14:27:35.579Z"
   },
   {
    "duration": 20,
    "start_time": "2023-11-06T14:27:35.594Z"
   },
   {
    "duration": 91,
    "start_time": "2023-11-06T14:27:35.615Z"
   },
   {
    "duration": 224,
    "start_time": "2023-11-06T14:27:35.708Z"
   },
   {
    "duration": 1727,
    "start_time": "2023-11-06T14:27:35.933Z"
   },
   {
    "duration": 392,
    "start_time": "2023-11-06T14:27:37.662Z"
   },
   {
    "duration": 211,
    "start_time": "2023-11-06T14:27:38.056Z"
   },
   {
    "duration": 229,
    "start_time": "2023-11-06T14:27:38.269Z"
   },
   {
    "duration": 164,
    "start_time": "2023-11-06T14:27:38.500Z"
   },
   {
    "duration": 299,
    "start_time": "2023-11-06T14:27:38.665Z"
   },
   {
    "duration": 171,
    "start_time": "2023-11-06T14:27:38.966Z"
   },
   {
    "duration": 167,
    "start_time": "2023-11-06T14:27:39.139Z"
   },
   {
    "duration": 43,
    "start_time": "2023-11-06T14:27:39.310Z"
   },
   {
    "duration": 211,
    "start_time": "2023-11-06T14:27:39.355Z"
   },
   {
    "duration": 297,
    "start_time": "2023-11-06T14:27:39.568Z"
   },
   {
    "duration": 421,
    "start_time": "2023-11-06T14:27:39.867Z"
   },
   {
    "duration": 305,
    "start_time": "2023-11-06T14:27:40.289Z"
   },
   {
    "duration": 0,
    "start_time": "2023-11-06T14:27:40.596Z"
   },
   {
    "duration": 0,
    "start_time": "2023-11-06T14:27:40.597Z"
   },
   {
    "duration": 0,
    "start_time": "2023-11-06T14:27:40.598Z"
   },
   {
    "duration": 0,
    "start_time": "2023-11-06T14:27:40.599Z"
   },
   {
    "duration": 0,
    "start_time": "2023-11-06T14:27:40.601Z"
   },
   {
    "duration": 0,
    "start_time": "2023-11-06T14:27:40.602Z"
   },
   {
    "duration": 0,
    "start_time": "2023-11-06T14:27:40.603Z"
   },
   {
    "duration": 1557,
    "start_time": "2023-11-06T14:28:16.029Z"
   },
   {
    "duration": 66,
    "start_time": "2023-11-06T14:28:17.588Z"
   },
   {
    "duration": 27,
    "start_time": "2023-11-06T14:28:17.656Z"
   },
   {
    "duration": 3,
    "start_time": "2023-11-06T14:28:17.685Z"
   },
   {
    "duration": 14,
    "start_time": "2023-11-06T14:28:17.690Z"
   },
   {
    "duration": 55,
    "start_time": "2023-11-06T14:28:17.706Z"
   },
   {
    "duration": 6,
    "start_time": "2023-11-06T14:28:17.763Z"
   },
   {
    "duration": 36,
    "start_time": "2023-11-06T14:28:17.770Z"
   },
   {
    "duration": 11,
    "start_time": "2023-11-06T14:28:17.807Z"
   },
   {
    "duration": 7,
    "start_time": "2023-11-06T14:28:17.820Z"
   },
   {
    "duration": 30,
    "start_time": "2023-11-06T14:28:17.828Z"
   },
   {
    "duration": 37,
    "start_time": "2023-11-06T14:28:17.859Z"
   },
   {
    "duration": 23,
    "start_time": "2023-11-06T14:28:17.898Z"
   },
   {
    "duration": 1267,
    "start_time": "2023-11-06T14:28:17.924Z"
   },
   {
    "duration": 60,
    "start_time": "2023-11-06T14:28:19.193Z"
   },
   {
    "duration": 13,
    "start_time": "2023-11-06T14:28:19.255Z"
   },
   {
    "duration": 32,
    "start_time": "2023-11-06T14:28:19.270Z"
   },
   {
    "duration": 71,
    "start_time": "2023-11-06T14:28:19.304Z"
   },
   {
    "duration": 184,
    "start_time": "2023-11-06T14:28:19.377Z"
   },
   {
    "duration": 1723,
    "start_time": "2023-11-06T14:28:19.563Z"
   },
   {
    "duration": 449,
    "start_time": "2023-11-06T14:28:21.288Z"
   },
   {
    "duration": 223,
    "start_time": "2023-11-06T14:28:21.738Z"
   },
   {
    "duration": 248,
    "start_time": "2023-11-06T14:28:21.963Z"
   },
   {
    "duration": 171,
    "start_time": "2023-11-06T14:28:22.213Z"
   },
   {
    "duration": 284,
    "start_time": "2023-11-06T14:28:22.386Z"
   },
   {
    "duration": 153,
    "start_time": "2023-11-06T14:28:22.672Z"
   },
   {
    "duration": 177,
    "start_time": "2023-11-06T14:28:22.827Z"
   },
   {
    "duration": 24,
    "start_time": "2023-11-06T14:28:23.005Z"
   },
   {
    "duration": 221,
    "start_time": "2023-11-06T14:28:23.031Z"
   },
   {
    "duration": 225,
    "start_time": "2023-11-06T14:28:23.254Z"
   },
   {
    "duration": 430,
    "start_time": "2023-11-06T14:28:23.481Z"
   },
   {
    "duration": 6764,
    "start_time": "2023-11-06T14:28:23.914Z"
   },
   {
    "duration": 1146,
    "start_time": "2023-11-06T14:28:30.680Z"
   },
   {
    "duration": 8,
    "start_time": "2023-11-06T14:28:31.828Z"
   },
   {
    "duration": 55,
    "start_time": "2023-11-06T14:28:31.837Z"
   },
   {
    "duration": 44,
    "start_time": "2023-11-06T14:28:31.894Z"
   },
   {
    "duration": 53,
    "start_time": "2023-11-06T14:28:31.939Z"
   },
   {
    "duration": 53,
    "start_time": "2023-11-06T14:28:31.993Z"
   },
   {
    "duration": 816,
    "start_time": "2023-11-06T14:29:37.078Z"
   },
   {
    "duration": 274,
    "start_time": "2023-11-06T14:29:43.446Z"
   },
   {
    "duration": 156,
    "start_time": "2023-11-06T14:29:59.519Z"
   },
   {
    "duration": 372,
    "start_time": "2023-11-06T14:30:03.919Z"
   },
   {
    "duration": 170,
    "start_time": "2023-11-06T14:30:13.798Z"
   },
   {
    "duration": 162,
    "start_time": "2023-11-06T14:30:19.871Z"
   },
   {
    "duration": 370,
    "start_time": "2023-11-06T14:30:25.415Z"
   },
   {
    "duration": 348,
    "start_time": "2023-11-06T14:30:33.407Z"
   },
   {
    "duration": 26,
    "start_time": "2023-11-06T14:34:25.497Z"
   },
   {
    "duration": 208,
    "start_time": "2023-11-06T14:35:19.075Z"
   },
   {
    "duration": 203,
    "start_time": "2023-11-06T14:36:02.075Z"
   },
   {
    "duration": 203,
    "start_time": "2023-11-06T14:36:10.826Z"
   },
   {
    "duration": 539,
    "start_time": "2023-11-06T14:36:17.835Z"
   },
   {
    "duration": 143,
    "start_time": "2023-11-06T14:36:39.059Z"
   },
   {
    "duration": 172,
    "start_time": "2023-11-06T14:36:43.019Z"
   },
   {
    "duration": 195,
    "start_time": "2023-11-06T14:36:51.058Z"
   },
   {
    "duration": 198,
    "start_time": "2023-11-06T14:36:56.090Z"
   },
   {
    "duration": 191,
    "start_time": "2023-11-06T14:37:11.467Z"
   },
   {
    "duration": 243,
    "start_time": "2023-11-06T14:37:21.090Z"
   },
   {
    "duration": 171,
    "start_time": "2023-11-06T14:37:25.578Z"
   },
   {
    "duration": 159,
    "start_time": "2023-11-06T14:37:29.491Z"
   },
   {
    "duration": 143,
    "start_time": "2023-11-06T14:37:33.634Z"
   },
   {
    "duration": 153,
    "start_time": "2023-11-06T14:37:37.194Z"
   },
   {
    "duration": 199,
    "start_time": "2023-11-06T14:37:52.674Z"
   },
   {
    "duration": 209,
    "start_time": "2023-11-06T14:37:58.449Z"
   },
   {
    "duration": 208,
    "start_time": "2023-11-06T14:38:21.258Z"
   },
   {
    "duration": 201,
    "start_time": "2023-11-06T14:38:27.834Z"
   },
   {
    "duration": 208,
    "start_time": "2023-11-06T14:38:31.274Z"
   },
   {
    "duration": 283,
    "start_time": "2023-11-06T14:38:45.386Z"
   },
   {
    "duration": 204,
    "start_time": "2023-11-06T14:38:50.802Z"
   },
   {
    "duration": 206,
    "start_time": "2023-11-06T14:38:59.778Z"
   },
   {
    "duration": 202,
    "start_time": "2023-11-06T14:39:04.227Z"
   },
   {
    "duration": 240,
    "start_time": "2023-11-06T14:40:07.562Z"
   },
   {
    "duration": 193,
    "start_time": "2023-11-06T14:40:22.178Z"
   },
   {
    "duration": 195,
    "start_time": "2023-11-06T14:40:26.986Z"
   },
   {
    "duration": 219,
    "start_time": "2023-11-06T14:40:32.090Z"
   },
   {
    "duration": 213,
    "start_time": "2023-11-06T14:40:39.324Z"
   },
   {
    "duration": 196,
    "start_time": "2023-11-06T14:40:51.266Z"
   },
   {
    "duration": 238,
    "start_time": "2023-11-06T14:40:57.411Z"
   },
   {
    "duration": 183,
    "start_time": "2023-11-06T14:41:01.099Z"
   },
   {
    "duration": 160,
    "start_time": "2023-11-06T14:41:06.300Z"
   },
   {
    "duration": 149,
    "start_time": "2023-11-06T14:41:09.962Z"
   },
   {
    "duration": 159,
    "start_time": "2023-11-06T14:41:14.475Z"
   },
   {
    "duration": 203,
    "start_time": "2023-11-06T14:41:21.451Z"
   },
   {
    "duration": 221,
    "start_time": "2023-11-06T14:41:26.698Z"
   },
   {
    "duration": 825,
    "start_time": "2023-11-06T14:42:34.924Z"
   },
   {
    "duration": 370,
    "start_time": "2023-11-06T14:42:40.459Z"
   },
   {
    "duration": 364,
    "start_time": "2023-11-06T14:42:47.381Z"
   },
   {
    "duration": 372,
    "start_time": "2023-11-06T14:42:52.594Z"
   },
   {
    "duration": 361,
    "start_time": "2023-11-06T14:43:03.284Z"
   },
   {
    "duration": 6782,
    "start_time": "2023-11-06T14:43:34.619Z"
   },
   {
    "duration": 1320,
    "start_time": "2023-11-06T14:44:00.292Z"
   },
   {
    "duration": 781,
    "start_time": "2023-11-06T14:44:10.707Z"
   },
   {
    "duration": 7221,
    "start_time": "2023-11-06T14:44:18.592Z"
   },
   {
    "duration": 363,
    "start_time": "2023-11-06T14:58:55.411Z"
   },
   {
    "duration": 373,
    "start_time": "2023-11-06T14:59:01.100Z"
   },
   {
    "duration": 7539,
    "start_time": "2023-11-06T14:59:22.707Z"
   },
   {
    "duration": 886,
    "start_time": "2023-11-06T14:59:49.340Z"
   },
   {
    "duration": 390,
    "start_time": "2023-11-06T15:00:43.710Z"
   },
   {
    "duration": 378,
    "start_time": "2023-11-06T15:02:02.012Z"
   },
   {
    "duration": 7244,
    "start_time": "2023-11-06T15:02:55.118Z"
   },
   {
    "duration": 852,
    "start_time": "2023-11-06T15:03:50.135Z"
   },
   {
    "duration": 346,
    "start_time": "2023-11-06T15:04:15.903Z"
   },
   {
    "duration": 79,
    "start_time": "2023-11-06T15:04:57.727Z"
   },
   {
    "duration": 1138,
    "start_time": "2023-11-06T15:06:32.145Z"
   },
   {
    "duration": 1116,
    "start_time": "2023-11-06T15:06:40.777Z"
   },
   {
    "duration": 1131,
    "start_time": "2023-11-06T15:06:52.361Z"
   },
   {
    "duration": 296,
    "start_time": "2023-11-06T15:08:07.858Z"
   },
   {
    "duration": 577,
    "start_time": "2023-11-06T15:08:11.770Z"
   },
   {
    "duration": 4691,
    "start_time": "2023-11-06T15:08:15.177Z"
   },
   {
    "duration": 8484,
    "start_time": "2023-11-06T15:09:03.723Z"
   },
   {
    "duration": 824,
    "start_time": "2023-11-06T15:18:25.442Z"
   },
   {
    "duration": 3,
    "start_time": "2023-11-06T15:19:16.042Z"
   },
   {
    "duration": 120,
    "start_time": "2023-11-06T15:22:43.154Z"
   },
   {
    "duration": 74,
    "start_time": "2023-11-06T15:23:04.363Z"
   },
   {
    "duration": 6,
    "start_time": "2023-11-06T16:18:31.314Z"
   },
   {
    "duration": 5,
    "start_time": "2023-11-06T16:18:35.379Z"
   },
   {
    "duration": 6,
    "start_time": "2023-11-06T16:19:24.200Z"
   },
   {
    "duration": 11,
    "start_time": "2023-11-06T16:19:45.401Z"
   },
   {
    "duration": 11,
    "start_time": "2023-11-06T16:20:01.873Z"
   },
   {
    "duration": 12,
    "start_time": "2023-11-06T16:20:24.560Z"
   },
   {
    "duration": 6,
    "start_time": "2023-11-06T16:39:42.506Z"
   },
   {
    "duration": 5,
    "start_time": "2023-11-06T16:39:46.642Z"
   },
   {
    "duration": 7,
    "start_time": "2023-11-06T16:41:49.940Z"
   },
   {
    "duration": 5,
    "start_time": "2023-11-06T16:42:07.692Z"
   },
   {
    "duration": 4,
    "start_time": "2023-11-06T16:42:22.060Z"
   },
   {
    "duration": 6,
    "start_time": "2023-11-06T16:42:35.973Z"
   },
   {
    "duration": 7,
    "start_time": "2023-11-06T16:48:44.526Z"
   },
   {
    "duration": 5,
    "start_time": "2023-11-06T16:48:49.431Z"
   },
   {
    "duration": 7,
    "start_time": "2023-11-06T16:48:51.454Z"
   },
   {
    "duration": 80,
    "start_time": "2023-11-06T16:49:27.086Z"
   },
   {
    "duration": 6,
    "start_time": "2023-11-06T16:50:45.417Z"
   },
   {
    "duration": 11,
    "start_time": "2023-11-06T16:50:47.200Z"
   },
   {
    "duration": 6,
    "start_time": "2023-11-06T16:55:00.131Z"
   },
   {
    "duration": 71,
    "start_time": "2023-11-06T17:02:19.505Z"
   },
   {
    "duration": 12,
    "start_time": "2023-11-06T17:03:05.553Z"
   },
   {
    "duration": 6,
    "start_time": "2023-11-06T17:03:21.729Z"
   },
   {
    "duration": 10,
    "start_time": "2023-11-06T17:03:33.802Z"
   },
   {
    "duration": 6,
    "start_time": "2023-11-06T17:03:34.979Z"
   },
   {
    "duration": 6,
    "start_time": "2023-11-06T17:03:45.353Z"
   },
   {
    "duration": 6,
    "start_time": "2023-11-06T17:13:35.248Z"
   },
   {
    "duration": 64,
    "start_time": "2023-11-06T17:13:44.344Z"
   },
   {
    "duration": 1559,
    "start_time": "2023-11-06T17:26:51.851Z"
   },
   {
    "duration": 127,
    "start_time": "2023-11-06T17:26:53.412Z"
   },
   {
    "duration": 27,
    "start_time": "2023-11-06T17:26:53.541Z"
   },
   {
    "duration": 3,
    "start_time": "2023-11-06T17:26:53.570Z"
   },
   {
    "duration": 12,
    "start_time": "2023-11-06T17:26:53.576Z"
   },
   {
    "duration": 36,
    "start_time": "2023-11-06T17:26:53.590Z"
   },
   {
    "duration": 20,
    "start_time": "2023-11-06T17:26:53.628Z"
   },
   {
    "duration": 21,
    "start_time": "2023-11-06T17:26:53.649Z"
   },
   {
    "duration": 11,
    "start_time": "2023-11-06T17:26:53.671Z"
   },
   {
    "duration": 5,
    "start_time": "2023-11-06T17:26:53.683Z"
   },
   {
    "duration": 8,
    "start_time": "2023-11-06T17:26:53.689Z"
   },
   {
    "duration": 20,
    "start_time": "2023-11-06T17:26:53.699Z"
   },
   {
    "duration": 32,
    "start_time": "2023-11-06T17:26:53.720Z"
   },
   {
    "duration": 1219,
    "start_time": "2023-11-06T17:26:53.755Z"
   },
   {
    "duration": 47,
    "start_time": "2023-11-06T17:26:54.976Z"
   },
   {
    "duration": 26,
    "start_time": "2023-11-06T17:26:55.024Z"
   },
   {
    "duration": 19,
    "start_time": "2023-11-06T17:26:55.052Z"
   },
   {
    "duration": 76,
    "start_time": "2023-11-06T17:26:55.073Z"
   },
   {
    "duration": 207,
    "start_time": "2023-11-06T17:26:55.151Z"
   },
   {
    "duration": 1741,
    "start_time": "2023-11-06T17:26:55.360Z"
   },
   {
    "duration": 449,
    "start_time": "2023-11-06T17:26:57.103Z"
   },
   {
    "duration": 215,
    "start_time": "2023-11-06T17:26:57.554Z"
   },
   {
    "duration": 231,
    "start_time": "2023-11-06T17:26:57.771Z"
   },
   {
    "duration": 167,
    "start_time": "2023-11-06T17:26:58.004Z"
   },
   {
    "duration": 277,
    "start_time": "2023-11-06T17:26:58.173Z"
   },
   {
    "duration": 161,
    "start_time": "2023-11-06T17:26:58.451Z"
   },
   {
    "duration": 161,
    "start_time": "2023-11-06T17:26:58.613Z"
   },
   {
    "duration": 207,
    "start_time": "2023-11-06T17:26:58.776Z"
   },
   {
    "duration": 235,
    "start_time": "2023-11-06T17:26:58.985Z"
   },
   {
    "duration": 34,
    "start_time": "2023-11-06T17:26:59.223Z"
   },
   {
    "duration": 398,
    "start_time": "2023-11-06T17:26:59.259Z"
   },
   {
    "duration": 6542,
    "start_time": "2023-11-06T17:26:59.659Z"
   },
   {
    "duration": 1041,
    "start_time": "2023-11-06T17:27:06.203Z"
   },
   {
    "duration": 360,
    "start_time": "2023-11-06T17:27:07.246Z"
   },
   {
    "duration": 3,
    "start_time": "2023-11-06T17:27:07.607Z"
   },
   {
    "duration": 10,
    "start_time": "2023-11-06T17:27:07.612Z"
   },
   {
    "duration": 10,
    "start_time": "2023-11-06T17:27:07.624Z"
   },
   {
    "duration": 6,
    "start_time": "2023-11-06T17:27:07.646Z"
   },
   {
    "duration": 13,
    "start_time": "2023-11-06T17:27:07.654Z"
   },
   {
    "duration": 11,
    "start_time": "2023-11-06T17:27:07.668Z"
   },
   {
    "duration": 15,
    "start_time": "2023-11-06T17:27:07.682Z"
   },
   {
    "duration": 5,
    "start_time": "2023-11-06T17:27:07.699Z"
   },
   {
    "duration": 75,
    "start_time": "2023-11-06T17:27:07.711Z"
   },
   {
    "duration": 11,
    "start_time": "2023-11-06T17:27:07.788Z"
   },
   {
    "duration": 11,
    "start_time": "2023-11-06T17:27:07.800Z"
   },
   {
    "duration": 11,
    "start_time": "2023-11-06T17:33:50.004Z"
   },
   {
    "duration": 12,
    "start_time": "2023-11-06T17:34:16.727Z"
   },
   {
    "duration": 11,
    "start_time": "2023-11-06T17:34:21.007Z"
   },
   {
    "duration": 4,
    "start_time": "2023-11-06T17:39:51.105Z"
   },
   {
    "duration": 5,
    "start_time": "2023-11-06T17:40:00.431Z"
   },
   {
    "duration": 1227,
    "start_time": "2023-11-06T17:43:59.105Z"
   },
   {
    "duration": 459,
    "start_time": "2023-11-06T17:44:23.810Z"
   },
   {
    "duration": 50,
    "start_time": "2023-11-06T17:51:02.645Z"
   },
   {
    "duration": 12,
    "start_time": "2023-11-06T17:51:15.061Z"
   },
   {
    "duration": 13,
    "start_time": "2023-11-06T17:51:42.404Z"
   },
   {
    "duration": 12,
    "start_time": "2023-11-06T17:51:50.876Z"
   },
   {
    "duration": 11,
    "start_time": "2023-11-06T17:53:44.862Z"
   },
   {
    "duration": 11,
    "start_time": "2023-11-06T17:54:37.094Z"
   },
   {
    "duration": 10,
    "start_time": "2023-11-06T17:55:28.887Z"
   },
   {
    "duration": 147,
    "start_time": "2023-11-06T17:56:39.062Z"
   },
   {
    "duration": 12,
    "start_time": "2023-11-06T17:57:01.887Z"
   },
   {
    "duration": 10,
    "start_time": "2023-11-06T17:57:41.655Z"
   },
   {
    "duration": 11,
    "start_time": "2023-11-06T17:58:27.495Z"
   },
   {
    "duration": 12,
    "start_time": "2023-11-06T17:58:40.288Z"
   },
   {
    "duration": 1764,
    "start_time": "2023-11-07T06:53:31.537Z"
   },
   {
    "duration": 108,
    "start_time": "2023-11-07T06:53:33.303Z"
   },
   {
    "duration": 28,
    "start_time": "2023-11-07T06:53:33.413Z"
   },
   {
    "duration": 3,
    "start_time": "2023-11-07T06:53:33.443Z"
   },
   {
    "duration": 8,
    "start_time": "2023-11-07T06:53:33.448Z"
   },
   {
    "duration": 36,
    "start_time": "2023-11-07T06:53:33.457Z"
   },
   {
    "duration": 7,
    "start_time": "2023-11-07T06:53:33.494Z"
   },
   {
    "duration": 45,
    "start_time": "2023-11-07T06:53:33.503Z"
   },
   {
    "duration": 11,
    "start_time": "2023-11-07T06:53:33.550Z"
   },
   {
    "duration": 4,
    "start_time": "2023-11-07T06:53:33.564Z"
   },
   {
    "duration": 11,
    "start_time": "2023-11-07T06:53:33.571Z"
   },
   {
    "duration": 18,
    "start_time": "2023-11-07T06:53:33.584Z"
   },
   {
    "duration": 44,
    "start_time": "2023-11-07T06:53:33.604Z"
   },
   {
    "duration": 1361,
    "start_time": "2023-11-07T06:53:33.650Z"
   },
   {
    "duration": 57,
    "start_time": "2023-11-07T06:53:35.013Z"
   },
   {
    "duration": 13,
    "start_time": "2023-11-07T06:53:35.073Z"
   },
   {
    "duration": 40,
    "start_time": "2023-11-07T06:53:35.087Z"
   },
   {
    "duration": 75,
    "start_time": "2023-11-07T06:53:35.129Z"
   },
   {
    "duration": 242,
    "start_time": "2023-11-07T06:53:35.206Z"
   },
   {
    "duration": 1985,
    "start_time": "2023-11-07T06:53:35.450Z"
   },
   {
    "duration": 441,
    "start_time": "2023-11-07T06:53:37.437Z"
   },
   {
    "duration": 251,
    "start_time": "2023-11-07T06:53:37.880Z"
   },
   {
    "duration": 243,
    "start_time": "2023-11-07T06:53:38.133Z"
   },
   {
    "duration": 290,
    "start_time": "2023-11-07T06:53:38.378Z"
   },
   {
    "duration": 194,
    "start_time": "2023-11-07T06:53:38.670Z"
   },
   {
    "duration": 168,
    "start_time": "2023-11-07T06:53:38.867Z"
   },
   {
    "duration": 236,
    "start_time": "2023-11-07T06:53:39.037Z"
   },
   {
    "duration": 250,
    "start_time": "2023-11-07T06:53:39.279Z"
   },
   {
    "duration": 219,
    "start_time": "2023-11-07T06:53:39.532Z"
   },
   {
    "duration": 28,
    "start_time": "2023-11-07T06:53:39.753Z"
   },
   {
    "duration": 460,
    "start_time": "2023-11-07T06:53:39.783Z"
   },
   {
    "duration": 6495,
    "start_time": "2023-11-07T06:53:40.245Z"
   },
   {
    "duration": 1069,
    "start_time": "2023-11-07T06:53:46.746Z"
   },
   {
    "duration": 364,
    "start_time": "2023-11-07T06:53:47.818Z"
   },
   {
    "duration": 3,
    "start_time": "2023-11-07T06:53:48.184Z"
   },
   {
    "duration": 8,
    "start_time": "2023-11-07T06:53:48.188Z"
   },
   {
    "duration": 6,
    "start_time": "2023-11-07T06:53:48.197Z"
   },
   {
    "duration": 12,
    "start_time": "2023-11-07T06:53:48.204Z"
   },
   {
    "duration": 37,
    "start_time": "2023-11-07T06:53:48.218Z"
   },
   {
    "duration": 9,
    "start_time": "2023-11-07T06:53:48.257Z"
   },
   {
    "duration": 11,
    "start_time": "2023-11-07T06:53:48.268Z"
   },
   {
    "duration": 5,
    "start_time": "2023-11-07T06:53:48.281Z"
   },
   {
    "duration": 12,
    "start_time": "2023-11-07T06:53:48.287Z"
   },
   {
    "duration": 10,
    "start_time": "2023-11-07T06:53:48.301Z"
   },
   {
    "duration": 43,
    "start_time": "2023-11-07T06:53:48.312Z"
   },
   {
    "duration": 402,
    "start_time": "2023-11-07T06:54:58.815Z"
   },
   {
    "duration": 18,
    "start_time": "2023-11-07T06:55:08.718Z"
   },
   {
    "duration": 9,
    "start_time": "2023-11-07T06:56:15.535Z"
   },
   {
    "duration": 8,
    "start_time": "2023-11-07T06:56:21.415Z"
   },
   {
    "duration": 7,
    "start_time": "2023-11-07T06:56:26.247Z"
   },
   {
    "duration": 187,
    "start_time": "2023-11-07T06:57:35.920Z"
   },
   {
    "duration": 16,
    "start_time": "2023-11-07T07:00:59.010Z"
   },
   {
    "duration": 1518,
    "start_time": "2023-11-07T07:01:08.488Z"
   },
   {
    "duration": 67,
    "start_time": "2023-11-07T07:01:10.008Z"
   },
   {
    "duration": 30,
    "start_time": "2023-11-07T07:01:10.077Z"
   },
   {
    "duration": 4,
    "start_time": "2023-11-07T07:01:10.109Z"
   },
   {
    "duration": 6,
    "start_time": "2023-11-07T07:01:10.116Z"
   },
   {
    "duration": 49,
    "start_time": "2023-11-07T07:01:10.124Z"
   },
   {
    "duration": 6,
    "start_time": "2023-11-07T07:01:10.175Z"
   },
   {
    "duration": 19,
    "start_time": "2023-11-07T07:01:10.182Z"
   },
   {
    "duration": 11,
    "start_time": "2023-11-07T07:01:10.203Z"
   },
   {
    "duration": 31,
    "start_time": "2023-11-07T07:01:10.216Z"
   },
   {
    "duration": 5,
    "start_time": "2023-11-07T07:01:10.249Z"
   },
   {
    "duration": 27,
    "start_time": "2023-11-07T07:01:10.255Z"
   },
   {
    "duration": 8,
    "start_time": "2023-11-07T07:01:10.283Z"
   },
   {
    "duration": 1336,
    "start_time": "2023-11-07T07:01:10.294Z"
   },
   {
    "duration": 53,
    "start_time": "2023-11-07T07:01:11.632Z"
   },
   {
    "duration": 11,
    "start_time": "2023-11-07T07:01:11.687Z"
   },
   {
    "duration": 19,
    "start_time": "2023-11-07T07:01:11.700Z"
   },
   {
    "duration": 80,
    "start_time": "2023-11-07T07:01:11.721Z"
   },
   {
    "duration": 187,
    "start_time": "2023-11-07T07:01:11.803Z"
   },
   {
    "duration": 1803,
    "start_time": "2023-11-07T07:01:11.991Z"
   },
   {
    "duration": 466,
    "start_time": "2023-11-07T07:01:13.796Z"
   },
   {
    "duration": 210,
    "start_time": "2023-11-07T07:01:14.264Z"
   },
   {
    "duration": 242,
    "start_time": "2023-11-07T07:01:14.476Z"
   },
   {
    "duration": 275,
    "start_time": "2023-11-07T07:01:14.720Z"
   },
   {
    "duration": 183,
    "start_time": "2023-11-07T07:01:14.997Z"
   },
   {
    "duration": 166,
    "start_time": "2023-11-07T07:01:15.182Z"
   },
   {
    "duration": 202,
    "start_time": "2023-11-07T07:01:15.350Z"
   },
   {
    "duration": 241,
    "start_time": "2023-11-07T07:01:15.554Z"
   },
   {
    "duration": 233,
    "start_time": "2023-11-07T07:01:15.797Z"
   },
   {
    "duration": 32,
    "start_time": "2023-11-07T07:01:16.032Z"
   },
   {
    "duration": 416,
    "start_time": "2023-11-07T07:01:16.066Z"
   },
   {
    "duration": 6481,
    "start_time": "2023-11-07T07:01:16.484Z"
   },
   {
    "duration": 1061,
    "start_time": "2023-11-07T07:01:22.967Z"
   },
   {
    "duration": 368,
    "start_time": "2023-11-07T07:01:24.029Z"
   },
   {
    "duration": 3,
    "start_time": "2023-11-07T07:01:24.400Z"
   },
   {
    "duration": 41,
    "start_time": "2023-11-07T07:01:24.405Z"
   },
   {
    "duration": 26,
    "start_time": "2023-11-07T07:01:24.447Z"
   },
   {
    "duration": 40,
    "start_time": "2023-11-07T07:01:24.475Z"
   },
   {
    "duration": 25,
    "start_time": "2023-11-07T07:01:24.517Z"
   },
   {
    "duration": 10,
    "start_time": "2023-11-07T07:01:24.544Z"
   },
   {
    "duration": 33,
    "start_time": "2023-11-07T07:01:24.558Z"
   },
   {
    "duration": 6,
    "start_time": "2023-11-07T07:01:24.593Z"
   },
   {
    "duration": 54,
    "start_time": "2023-11-07T07:01:24.601Z"
   },
   {
    "duration": 14,
    "start_time": "2023-11-07T07:01:24.657Z"
   },
   {
    "duration": 24,
    "start_time": "2023-11-07T07:01:24.673Z"
   },
   {
    "duration": 351,
    "start_time": "2023-11-07T07:01:40.771Z"
   },
   {
    "duration": 349,
    "start_time": "2023-11-07T07:01:45.035Z"
   },
   {
    "duration": 12,
    "start_time": "2023-11-07T07:02:01.941Z"
   },
   {
    "duration": 14,
    "start_time": "2023-11-07T07:02:12.443Z"
   },
   {
    "duration": 14,
    "start_time": "2023-11-07T07:02:18.412Z"
   },
   {
    "duration": 16,
    "start_time": "2023-11-07T07:02:22.260Z"
   },
   {
    "duration": 14,
    "start_time": "2023-11-07T07:02:27.452Z"
   },
   {
    "duration": 13,
    "start_time": "2023-11-07T07:02:31.003Z"
   },
   {
    "duration": 17,
    "start_time": "2023-11-07T07:03:06.900Z"
   },
   {
    "duration": 13,
    "start_time": "2023-11-07T07:03:12.214Z"
   },
   {
    "duration": 15,
    "start_time": "2023-11-07T07:03:15.469Z"
   },
   {
    "duration": 12,
    "start_time": "2023-11-07T07:03:21.908Z"
   },
   {
    "duration": 16,
    "start_time": "2023-11-07T07:03:25.173Z"
   },
   {
    "duration": 11,
    "start_time": "2023-11-07T07:03:27.876Z"
   },
   {
    "duration": 1510,
    "start_time": "2023-11-07T07:04:20.781Z"
   },
   {
    "duration": 73,
    "start_time": "2023-11-07T07:04:22.293Z"
   },
   {
    "duration": 28,
    "start_time": "2023-11-07T07:04:22.367Z"
   },
   {
    "duration": 4,
    "start_time": "2023-11-07T07:04:22.398Z"
   },
   {
    "duration": 9,
    "start_time": "2023-11-07T07:04:22.404Z"
   },
   {
    "duration": 58,
    "start_time": "2023-11-07T07:04:22.415Z"
   },
   {
    "duration": 6,
    "start_time": "2023-11-07T07:04:22.475Z"
   },
   {
    "duration": 26,
    "start_time": "2023-11-07T07:04:22.483Z"
   },
   {
    "duration": 12,
    "start_time": "2023-11-07T07:04:22.510Z"
   },
   {
    "duration": 25,
    "start_time": "2023-11-07T07:04:22.524Z"
   },
   {
    "duration": 19,
    "start_time": "2023-11-07T07:04:22.551Z"
   },
   {
    "duration": 20,
    "start_time": "2023-11-07T07:04:22.572Z"
   },
   {
    "duration": 12,
    "start_time": "2023-11-07T07:04:22.594Z"
   },
   {
    "duration": 1360,
    "start_time": "2023-11-07T07:04:22.607Z"
   },
   {
    "duration": 46,
    "start_time": "2023-11-07T07:04:23.969Z"
   },
   {
    "duration": 11,
    "start_time": "2023-11-07T07:04:24.017Z"
   },
   {
    "duration": 20,
    "start_time": "2023-11-07T07:04:24.047Z"
   },
   {
    "duration": 60,
    "start_time": "2023-11-07T07:04:24.068Z"
   },
   {
    "duration": 207,
    "start_time": "2023-11-07T07:04:24.146Z"
   },
   {
    "duration": 1760,
    "start_time": "2023-11-07T07:04:24.355Z"
   },
   {
    "duration": 431,
    "start_time": "2023-11-07T07:04:26.117Z"
   },
   {
    "duration": 210,
    "start_time": "2023-11-07T07:04:26.550Z"
   },
   {
    "duration": 233,
    "start_time": "2023-11-07T07:04:26.762Z"
   },
   {
    "duration": 273,
    "start_time": "2023-11-07T07:04:26.997Z"
   },
   {
    "duration": 181,
    "start_time": "2023-11-07T07:04:27.273Z"
   },
   {
    "duration": 153,
    "start_time": "2023-11-07T07:04:27.456Z"
   },
   {
    "duration": 169,
    "start_time": "2023-11-07T07:04:27.612Z"
   },
   {
    "duration": 209,
    "start_time": "2023-11-07T07:04:27.785Z"
   },
   {
    "duration": 224,
    "start_time": "2023-11-07T07:04:27.996Z"
   },
   {
    "duration": 35,
    "start_time": "2023-11-07T07:04:28.222Z"
   },
   {
    "duration": 396,
    "start_time": "2023-11-07T07:04:28.259Z"
   },
   {
    "duration": 6433,
    "start_time": "2023-11-07T07:04:28.657Z"
   },
   {
    "duration": 1162,
    "start_time": "2023-11-07T07:04:35.092Z"
   },
   {
    "duration": 395,
    "start_time": "2023-11-07T07:04:36.256Z"
   },
   {
    "duration": 2,
    "start_time": "2023-11-07T07:04:36.653Z"
   },
   {
    "duration": 7,
    "start_time": "2023-11-07T07:04:36.658Z"
   },
   {
    "duration": 6,
    "start_time": "2023-11-07T07:04:36.667Z"
   },
   {
    "duration": 5,
    "start_time": "2023-11-07T07:04:36.675Z"
   },
   {
    "duration": 15,
    "start_time": "2023-11-07T07:04:36.682Z"
   },
   {
    "duration": 50,
    "start_time": "2023-11-07T07:04:36.699Z"
   },
   {
    "duration": 7,
    "start_time": "2023-11-07T07:04:36.752Z"
   },
   {
    "duration": 9,
    "start_time": "2023-11-07T07:04:36.761Z"
   },
   {
    "duration": 12,
    "start_time": "2023-11-07T07:04:36.772Z"
   },
   {
    "duration": 15,
    "start_time": "2023-11-07T07:04:36.785Z"
   },
   {
    "duration": 10,
    "start_time": "2023-11-07T07:04:36.801Z"
   },
   {
    "duration": 273,
    "start_time": "2023-11-07T07:05:38.205Z"
   },
   {
    "duration": 412,
    "start_time": "2023-11-07T07:05:45.263Z"
   },
   {
    "duration": 1655,
    "start_time": "2023-11-07T07:08:26.022Z"
   },
   {
    "duration": 68,
    "start_time": "2023-11-07T07:08:27.679Z"
   },
   {
    "duration": 28,
    "start_time": "2023-11-07T07:08:27.748Z"
   },
   {
    "duration": 4,
    "start_time": "2023-11-07T07:08:27.778Z"
   },
   {
    "duration": 11,
    "start_time": "2023-11-07T07:08:27.785Z"
   },
   {
    "duration": 56,
    "start_time": "2023-11-07T07:08:27.798Z"
   },
   {
    "duration": 6,
    "start_time": "2023-11-07T07:08:27.856Z"
   },
   {
    "duration": 23,
    "start_time": "2023-11-07T07:08:27.864Z"
   },
   {
    "duration": 11,
    "start_time": "2023-11-07T07:08:27.889Z"
   },
   {
    "duration": 5,
    "start_time": "2023-11-07T07:08:27.902Z"
   },
   {
    "duration": 18,
    "start_time": "2023-11-07T07:08:27.909Z"
   },
   {
    "duration": 46,
    "start_time": "2023-11-07T07:08:27.929Z"
   },
   {
    "duration": 17,
    "start_time": "2023-11-07T07:08:27.977Z"
   },
   {
    "duration": 1394,
    "start_time": "2023-11-07T07:08:27.999Z"
   },
   {
    "duration": 54,
    "start_time": "2023-11-07T07:08:29.395Z"
   },
   {
    "duration": 12,
    "start_time": "2023-11-07T07:08:29.450Z"
   },
   {
    "duration": 35,
    "start_time": "2023-11-07T07:08:29.464Z"
   },
   {
    "duration": 77,
    "start_time": "2023-11-07T07:08:29.502Z"
   },
   {
    "duration": 194,
    "start_time": "2023-11-07T07:08:29.581Z"
   },
   {
    "duration": 1801,
    "start_time": "2023-11-07T07:08:29.777Z"
   },
   {
    "duration": 399,
    "start_time": "2023-11-07T07:08:31.580Z"
   },
   {
    "duration": 215,
    "start_time": "2023-11-07T07:08:31.980Z"
   },
   {
    "duration": 244,
    "start_time": "2023-11-07T07:08:32.197Z"
   },
   {
    "duration": 274,
    "start_time": "2023-11-07T07:08:32.446Z"
   },
   {
    "duration": 181,
    "start_time": "2023-11-07T07:08:32.722Z"
   },
   {
    "duration": 180,
    "start_time": "2023-11-07T07:08:32.905Z"
   },
   {
    "duration": 172,
    "start_time": "2023-11-07T07:08:33.086Z"
   },
   {
    "duration": 215,
    "start_time": "2023-11-07T07:08:33.259Z"
   },
   {
    "duration": 233,
    "start_time": "2023-11-07T07:08:33.477Z"
   },
   {
    "duration": 35,
    "start_time": "2023-11-07T07:08:33.712Z"
   },
   {
    "duration": 413,
    "start_time": "2023-11-07T07:08:33.749Z"
   },
   {
    "duration": 6873,
    "start_time": "2023-11-07T07:08:34.164Z"
   },
   {
    "duration": 1079,
    "start_time": "2023-11-07T07:08:41.047Z"
   },
   {
    "duration": 389,
    "start_time": "2023-11-07T07:08:42.128Z"
   },
   {
    "duration": 3,
    "start_time": "2023-11-07T07:08:42.519Z"
   },
   {
    "duration": 16,
    "start_time": "2023-11-07T07:08:42.523Z"
   },
   {
    "duration": 14,
    "start_time": "2023-11-07T07:08:42.540Z"
   },
   {
    "duration": 7,
    "start_time": "2023-11-07T07:08:42.556Z"
   },
   {
    "duration": 20,
    "start_time": "2023-11-07T07:08:42.565Z"
   },
   {
    "duration": 14,
    "start_time": "2023-11-07T07:08:42.587Z"
   },
   {
    "duration": 7,
    "start_time": "2023-11-07T07:08:42.606Z"
   },
   {
    "duration": 32,
    "start_time": "2023-11-07T07:08:42.614Z"
   },
   {
    "duration": 20,
    "start_time": "2023-11-07T07:08:42.649Z"
   },
   {
    "duration": 12,
    "start_time": "2023-11-07T07:08:42.671Z"
   },
   {
    "duration": 12,
    "start_time": "2023-11-07T07:08:42.686Z"
   },
   {
    "duration": 1543,
    "start_time": "2023-11-07T07:09:51.780Z"
   },
   {
    "duration": 102,
    "start_time": "2023-11-07T07:09:53.325Z"
   },
   {
    "duration": 28,
    "start_time": "2023-11-07T07:09:53.428Z"
   },
   {
    "duration": 4,
    "start_time": "2023-11-07T07:09:53.458Z"
   },
   {
    "duration": 6,
    "start_time": "2023-11-07T07:09:53.465Z"
   },
   {
    "duration": 52,
    "start_time": "2023-11-07T07:09:53.472Z"
   },
   {
    "duration": 24,
    "start_time": "2023-11-07T07:09:53.526Z"
   },
   {
    "duration": 17,
    "start_time": "2023-11-07T07:09:53.552Z"
   },
   {
    "duration": 16,
    "start_time": "2023-11-07T07:09:53.571Z"
   },
   {
    "duration": 24,
    "start_time": "2023-11-07T07:09:53.588Z"
   },
   {
    "duration": 24,
    "start_time": "2023-11-07T07:09:53.614Z"
   },
   {
    "duration": 26,
    "start_time": "2023-11-07T07:09:53.640Z"
   },
   {
    "duration": 25,
    "start_time": "2023-11-07T07:09:53.668Z"
   },
   {
    "duration": 1364,
    "start_time": "2023-11-07T07:09:53.696Z"
   },
   {
    "duration": 44,
    "start_time": "2023-11-07T07:09:55.062Z"
   },
   {
    "duration": 12,
    "start_time": "2023-11-07T07:09:55.108Z"
   },
   {
    "duration": 39,
    "start_time": "2023-11-07T07:09:55.121Z"
   },
   {
    "duration": 91,
    "start_time": "2023-11-07T07:09:55.162Z"
   },
   {
    "duration": 230,
    "start_time": "2023-11-07T07:09:55.256Z"
   },
   {
    "duration": 1761,
    "start_time": "2023-11-07T07:09:55.488Z"
   },
   {
    "duration": 408,
    "start_time": "2023-11-07T07:09:57.250Z"
   },
   {
    "duration": 213,
    "start_time": "2023-11-07T07:09:57.660Z"
   },
   {
    "duration": 238,
    "start_time": "2023-11-07T07:09:57.875Z"
   },
   {
    "duration": 275,
    "start_time": "2023-11-07T07:09:58.115Z"
   },
   {
    "duration": 175,
    "start_time": "2023-11-07T07:09:58.391Z"
   },
   {
    "duration": 155,
    "start_time": "2023-11-07T07:09:58.568Z"
   },
   {
    "duration": 168,
    "start_time": "2023-11-07T07:09:58.724Z"
   },
   {
    "duration": 222,
    "start_time": "2023-11-07T07:09:58.894Z"
   },
   {
    "duration": 221,
    "start_time": "2023-11-07T07:09:59.118Z"
   },
   {
    "duration": 25,
    "start_time": "2023-11-07T07:09:59.341Z"
   },
   {
    "duration": 404,
    "start_time": "2023-11-07T07:09:59.369Z"
   },
   {
    "duration": 6695,
    "start_time": "2023-11-07T07:09:59.775Z"
   },
   {
    "duration": 1041,
    "start_time": "2023-11-07T07:10:06.471Z"
   },
   {
    "duration": 359,
    "start_time": "2023-11-07T07:10:07.514Z"
   },
   {
    "duration": 3,
    "start_time": "2023-11-07T07:10:07.874Z"
   },
   {
    "duration": 10,
    "start_time": "2023-11-07T07:10:07.879Z"
   },
   {
    "duration": 10,
    "start_time": "2023-11-07T07:10:07.891Z"
   },
   {
    "duration": 17,
    "start_time": "2023-11-07T07:10:07.903Z"
   },
   {
    "duration": 32,
    "start_time": "2023-11-07T07:10:07.922Z"
   },
   {
    "duration": 10,
    "start_time": "2023-11-07T07:10:07.957Z"
   },
   {
    "duration": 22,
    "start_time": "2023-11-07T07:10:07.972Z"
   },
   {
    "duration": 6,
    "start_time": "2023-11-07T07:10:07.996Z"
   },
   {
    "duration": 16,
    "start_time": "2023-11-07T07:10:08.003Z"
   },
   {
    "duration": 26,
    "start_time": "2023-11-07T07:10:08.021Z"
   },
   {
    "duration": 10,
    "start_time": "2023-11-07T07:10:08.049Z"
   },
   {
    "duration": 1650,
    "start_time": "2023-11-07T07:12:05.051Z"
   },
   {
    "duration": 66,
    "start_time": "2023-11-07T07:12:06.703Z"
   },
   {
    "duration": 29,
    "start_time": "2023-11-07T07:12:06.771Z"
   },
   {
    "duration": 3,
    "start_time": "2023-11-07T07:12:06.803Z"
   },
   {
    "duration": 7,
    "start_time": "2023-11-07T07:12:06.808Z"
   },
   {
    "duration": 56,
    "start_time": "2023-11-07T07:12:06.817Z"
   },
   {
    "duration": 7,
    "start_time": "2023-11-07T07:12:06.876Z"
   },
   {
    "duration": 26,
    "start_time": "2023-11-07T07:12:06.885Z"
   },
   {
    "duration": 11,
    "start_time": "2023-11-07T07:12:06.913Z"
   },
   {
    "duration": 22,
    "start_time": "2023-11-07T07:12:06.927Z"
   },
   {
    "duration": 6,
    "start_time": "2023-11-07T07:12:06.950Z"
   },
   {
    "duration": 33,
    "start_time": "2023-11-07T07:12:06.958Z"
   },
   {
    "duration": 8,
    "start_time": "2023-11-07T07:12:06.994Z"
   },
   {
    "duration": 1347,
    "start_time": "2023-11-07T07:12:07.003Z"
   },
   {
    "duration": 47,
    "start_time": "2023-11-07T07:12:08.352Z"
   },
   {
    "duration": 16,
    "start_time": "2023-11-07T07:12:08.402Z"
   },
   {
    "duration": 47,
    "start_time": "2023-11-07T07:12:08.421Z"
   },
   {
    "duration": 89,
    "start_time": "2023-11-07T07:12:08.470Z"
   },
   {
    "duration": 207,
    "start_time": "2023-11-07T07:12:08.561Z"
   },
   {
    "duration": 1988,
    "start_time": "2023-11-07T07:12:08.771Z"
   },
   {
    "duration": 397,
    "start_time": "2023-11-07T07:12:10.761Z"
   },
   {
    "duration": 215,
    "start_time": "2023-11-07T07:12:11.160Z"
   },
   {
    "duration": 232,
    "start_time": "2023-11-07T07:12:11.377Z"
   },
   {
    "duration": 283,
    "start_time": "2023-11-07T07:12:11.610Z"
   },
   {
    "duration": 177,
    "start_time": "2023-11-07T07:12:11.894Z"
   },
   {
    "duration": 162,
    "start_time": "2023-11-07T07:12:12.072Z"
   },
   {
    "duration": 171,
    "start_time": "2023-11-07T07:12:12.237Z"
   },
   {
    "duration": 218,
    "start_time": "2023-11-07T07:12:12.413Z"
   },
   {
    "duration": 227,
    "start_time": "2023-11-07T07:12:12.633Z"
   },
   {
    "duration": 25,
    "start_time": "2023-11-07T07:12:12.862Z"
   },
   {
    "duration": 419,
    "start_time": "2023-11-07T07:12:12.889Z"
   },
   {
    "duration": 6497,
    "start_time": "2023-11-07T07:12:13.310Z"
   },
   {
    "duration": 1071,
    "start_time": "2023-11-07T07:12:19.809Z"
   },
   {
    "duration": 383,
    "start_time": "2023-11-07T07:12:20.882Z"
   },
   {
    "duration": 3,
    "start_time": "2023-11-07T07:12:21.267Z"
   },
   {
    "duration": 12,
    "start_time": "2023-11-07T07:12:21.272Z"
   },
   {
    "duration": 11,
    "start_time": "2023-11-07T07:12:21.286Z"
   },
   {
    "duration": 6,
    "start_time": "2023-11-07T07:12:21.299Z"
   },
   {
    "duration": 14,
    "start_time": "2023-11-07T07:12:21.307Z"
   },
   {
    "duration": 33,
    "start_time": "2023-11-07T07:12:21.322Z"
   },
   {
    "duration": 6,
    "start_time": "2023-11-07T07:12:21.357Z"
   },
   {
    "duration": 8,
    "start_time": "2023-11-07T07:12:21.364Z"
   },
   {
    "duration": 18,
    "start_time": "2023-11-07T07:12:21.374Z"
   },
   {
    "duration": 12,
    "start_time": "2023-11-07T07:12:21.394Z"
   },
   {
    "duration": 39,
    "start_time": "2023-11-07T07:12:21.408Z"
   },
   {
    "duration": 8,
    "start_time": "2023-11-07T07:13:29.937Z"
   },
   {
    "duration": 7,
    "start_time": "2023-11-07T07:13:32.233Z"
   },
   {
    "duration": 7,
    "start_time": "2023-11-07T07:13:35.352Z"
   },
   {
    "duration": 13,
    "start_time": "2023-11-07T07:13:38.017Z"
   },
   {
    "duration": 6,
    "start_time": "2023-11-07T07:13:40.440Z"
   },
   {
    "duration": 9,
    "start_time": "2023-11-07T07:13:45.705Z"
   },
   {
    "duration": 1718,
    "start_time": "2023-11-07T07:13:59.013Z"
   },
   {
    "duration": 65,
    "start_time": "2023-11-07T07:14:00.734Z"
   },
   {
    "duration": 34,
    "start_time": "2023-11-07T07:14:00.801Z"
   },
   {
    "duration": 35,
    "start_time": "2023-11-07T07:14:00.837Z"
   },
   {
    "duration": 35,
    "start_time": "2023-11-07T07:14:00.875Z"
   },
   {
    "duration": 80,
    "start_time": "2023-11-07T07:14:00.912Z"
   },
   {
    "duration": 70,
    "start_time": "2023-11-07T07:14:00.994Z"
   },
   {
    "duration": 101,
    "start_time": "2023-11-07T07:14:01.066Z"
   },
   {
    "duration": 32,
    "start_time": "2023-11-07T07:14:01.169Z"
   },
   {
    "duration": 31,
    "start_time": "2023-11-07T07:14:01.202Z"
   },
   {
    "duration": 52,
    "start_time": "2023-11-07T07:14:01.235Z"
   },
   {
    "duration": 42,
    "start_time": "2023-11-07T07:14:01.289Z"
   },
   {
    "duration": 24,
    "start_time": "2023-11-07T07:14:01.332Z"
   },
   {
    "duration": 1402,
    "start_time": "2023-11-07T07:14:01.359Z"
   },
   {
    "duration": 47,
    "start_time": "2023-11-07T07:14:02.763Z"
   },
   {
    "duration": 36,
    "start_time": "2023-11-07T07:14:02.811Z"
   },
   {
    "duration": 38,
    "start_time": "2023-11-07T07:14:02.849Z"
   },
   {
    "duration": 88,
    "start_time": "2023-11-07T07:14:02.889Z"
   },
   {
    "duration": 210,
    "start_time": "2023-11-07T07:14:02.978Z"
   },
   {
    "duration": 1788,
    "start_time": "2023-11-07T07:14:03.190Z"
   },
   {
    "duration": 475,
    "start_time": "2023-11-07T07:14:04.980Z"
   },
   {
    "duration": 298,
    "start_time": "2023-11-07T07:14:05.457Z"
   },
   {
    "duration": 249,
    "start_time": "2023-11-07T07:14:05.757Z"
   },
   {
    "duration": 310,
    "start_time": "2023-11-07T07:14:06.008Z"
   },
   {
    "duration": 179,
    "start_time": "2023-11-07T07:14:06.320Z"
   },
   {
    "duration": 156,
    "start_time": "2023-11-07T07:14:06.501Z"
   },
   {
    "duration": 170,
    "start_time": "2023-11-07T07:14:06.659Z"
   },
   {
    "duration": 207,
    "start_time": "2023-11-07T07:14:06.831Z"
   },
   {
    "duration": 230,
    "start_time": "2023-11-07T07:14:07.040Z"
   },
   {
    "duration": 23,
    "start_time": "2023-11-07T07:14:07.272Z"
   },
   {
    "duration": 425,
    "start_time": "2023-11-07T07:14:07.298Z"
   },
   {
    "duration": 6669,
    "start_time": "2023-11-07T07:14:07.724Z"
   },
   {
    "duration": 1052,
    "start_time": "2023-11-07T07:14:14.395Z"
   },
   {
    "duration": 373,
    "start_time": "2023-11-07T07:14:15.449Z"
   },
   {
    "duration": 5,
    "start_time": "2023-11-07T07:14:15.823Z"
   },
   {
    "duration": 19,
    "start_time": "2023-11-07T07:14:15.829Z"
   },
   {
    "duration": 7,
    "start_time": "2023-11-07T07:14:15.849Z"
   },
   {
    "duration": 8,
    "start_time": "2023-11-07T07:14:15.858Z"
   },
   {
    "duration": 16,
    "start_time": "2023-11-07T07:14:15.867Z"
   },
   {
    "duration": 12,
    "start_time": "2023-11-07T07:14:15.885Z"
   },
   {
    "duration": 7,
    "start_time": "2023-11-07T07:14:15.900Z"
   },
   {
    "duration": 38,
    "start_time": "2023-11-07T07:14:15.909Z"
   },
   {
    "duration": 16,
    "start_time": "2023-11-07T07:14:15.949Z"
   },
   {
    "duration": 17,
    "start_time": "2023-11-07T07:14:15.967Z"
   },
   {
    "duration": 20,
    "start_time": "2023-11-07T07:14:15.986Z"
   },
   {
    "duration": 9,
    "start_time": "2023-11-07T07:15:28.235Z"
   },
   {
    "duration": 8,
    "start_time": "2023-11-07T07:15:30.410Z"
   },
   {
    "duration": 7,
    "start_time": "2023-11-07T07:15:36.090Z"
   },
   {
    "duration": 1572,
    "start_time": "2023-11-07T07:27:30.524Z"
   },
   {
    "duration": 76,
    "start_time": "2023-11-07T07:27:32.099Z"
   },
   {
    "duration": 28,
    "start_time": "2023-11-07T07:27:32.177Z"
   },
   {
    "duration": 4,
    "start_time": "2023-11-07T07:27:32.206Z"
   },
   {
    "duration": 14,
    "start_time": "2023-11-07T07:27:32.213Z"
   },
   {
    "duration": 43,
    "start_time": "2023-11-07T07:27:32.229Z"
   },
   {
    "duration": 7,
    "start_time": "2023-11-07T07:27:32.274Z"
   },
   {
    "duration": 29,
    "start_time": "2023-11-07T07:27:32.283Z"
   },
   {
    "duration": 11,
    "start_time": "2023-11-07T07:27:32.314Z"
   },
   {
    "duration": 5,
    "start_time": "2023-11-07T07:27:32.346Z"
   },
   {
    "duration": 10,
    "start_time": "2023-11-07T07:27:32.353Z"
   },
   {
    "duration": 34,
    "start_time": "2023-11-07T07:27:32.366Z"
   },
   {
    "duration": 8,
    "start_time": "2023-11-07T07:27:32.402Z"
   },
   {
    "duration": 1368,
    "start_time": "2023-11-07T07:27:32.415Z"
   },
   {
    "duration": 48,
    "start_time": "2023-11-07T07:27:33.785Z"
   },
   {
    "duration": 13,
    "start_time": "2023-11-07T07:27:33.846Z"
   },
   {
    "duration": 18,
    "start_time": "2023-11-07T07:27:33.861Z"
   },
   {
    "duration": 82,
    "start_time": "2023-11-07T07:27:33.880Z"
   },
   {
    "duration": 196,
    "start_time": "2023-11-07T07:27:33.964Z"
   },
   {
    "duration": 1784,
    "start_time": "2023-11-07T07:27:34.174Z"
   },
   {
    "duration": 404,
    "start_time": "2023-11-07T07:27:35.960Z"
   },
   {
    "duration": 225,
    "start_time": "2023-11-07T07:27:36.366Z"
   },
   {
    "duration": 237,
    "start_time": "2023-11-07T07:27:36.593Z"
   },
   {
    "duration": 271,
    "start_time": "2023-11-07T07:27:36.832Z"
   },
   {
    "duration": 176,
    "start_time": "2023-11-07T07:27:37.104Z"
   },
   {
    "duration": 163,
    "start_time": "2023-11-07T07:27:37.282Z"
   },
   {
    "duration": 172,
    "start_time": "2023-11-07T07:27:37.447Z"
   },
   {
    "duration": 222,
    "start_time": "2023-11-07T07:27:37.621Z"
   },
   {
    "duration": 217,
    "start_time": "2023-11-07T07:27:37.847Z"
   },
   {
    "duration": 23,
    "start_time": "2023-11-07T07:27:38.065Z"
   },
   {
    "duration": 441,
    "start_time": "2023-11-07T07:27:38.090Z"
   },
   {
    "duration": 6565,
    "start_time": "2023-11-07T07:27:38.533Z"
   },
   {
    "duration": 1120,
    "start_time": "2023-11-07T07:27:45.100Z"
   },
   {
    "duration": 368,
    "start_time": "2023-11-07T07:27:46.223Z"
   },
   {
    "duration": 4,
    "start_time": "2023-11-07T07:27:46.593Z"
   },
   {
    "duration": 10,
    "start_time": "2023-11-07T07:27:46.599Z"
   },
   {
    "duration": 10,
    "start_time": "2023-11-07T07:27:46.611Z"
   },
   {
    "duration": 24,
    "start_time": "2023-11-07T07:27:46.623Z"
   },
   {
    "duration": 17,
    "start_time": "2023-11-07T07:27:46.649Z"
   },
   {
    "duration": 9,
    "start_time": "2023-11-07T07:27:46.668Z"
   },
   {
    "duration": 6,
    "start_time": "2023-11-07T07:27:46.681Z"
   },
   {
    "duration": 7,
    "start_time": "2023-11-07T07:27:46.689Z"
   },
   {
    "duration": 13,
    "start_time": "2023-11-07T07:27:46.698Z"
   },
   {
    "duration": 45,
    "start_time": "2023-11-07T07:27:46.712Z"
   },
   {
    "duration": 14,
    "start_time": "2023-11-07T07:27:46.759Z"
   },
   {
    "duration": 15,
    "start_time": "2023-11-07T07:34:38.069Z"
   },
   {
    "duration": 6,
    "start_time": "2023-11-07T07:34:42.125Z"
   },
   {
    "duration": 6,
    "start_time": "2023-11-07T07:34:57.477Z"
   },
   {
    "duration": 1625,
    "start_time": "2023-11-07T07:35:12.604Z"
   },
   {
    "duration": 95,
    "start_time": "2023-11-07T07:35:14.231Z"
   },
   {
    "duration": 30,
    "start_time": "2023-11-07T07:35:14.328Z"
   },
   {
    "duration": 3,
    "start_time": "2023-11-07T07:35:14.361Z"
   },
   {
    "duration": 7,
    "start_time": "2023-11-07T07:35:14.366Z"
   },
   {
    "duration": 49,
    "start_time": "2023-11-07T07:35:14.375Z"
   },
   {
    "duration": 7,
    "start_time": "2023-11-07T07:35:14.425Z"
   },
   {
    "duration": 27,
    "start_time": "2023-11-07T07:35:14.433Z"
   },
   {
    "duration": 20,
    "start_time": "2023-11-07T07:35:14.462Z"
   },
   {
    "duration": 5,
    "start_time": "2023-11-07T07:35:14.484Z"
   },
   {
    "duration": 6,
    "start_time": "2023-11-07T07:35:14.491Z"
   },
   {
    "duration": 27,
    "start_time": "2023-11-07T07:35:14.499Z"
   },
   {
    "duration": 20,
    "start_time": "2023-11-07T07:35:14.527Z"
   },
   {
    "duration": 1405,
    "start_time": "2023-11-07T07:35:14.549Z"
   },
   {
    "duration": 48,
    "start_time": "2023-11-07T07:35:15.956Z"
   },
   {
    "duration": 13,
    "start_time": "2023-11-07T07:35:16.006Z"
   },
   {
    "duration": 39,
    "start_time": "2023-11-07T07:35:16.020Z"
   },
   {
    "duration": 86,
    "start_time": "2023-11-07T07:35:16.061Z"
   },
   {
    "duration": 200,
    "start_time": "2023-11-07T07:35:16.149Z"
   },
   {
    "duration": 1789,
    "start_time": "2023-11-07T07:35:16.351Z"
   },
   {
    "duration": 421,
    "start_time": "2023-11-07T07:35:18.148Z"
   },
   {
    "duration": 213,
    "start_time": "2023-11-07T07:35:18.571Z"
   },
   {
    "duration": 235,
    "start_time": "2023-11-07T07:35:18.785Z"
   },
   {
    "duration": 295,
    "start_time": "2023-11-07T07:35:19.022Z"
   },
   {
    "duration": 175,
    "start_time": "2023-11-07T07:35:19.318Z"
   },
   {
    "duration": 162,
    "start_time": "2023-11-07T07:35:19.496Z"
   },
   {
    "duration": 171,
    "start_time": "2023-11-07T07:35:19.660Z"
   },
   {
    "duration": 211,
    "start_time": "2023-11-07T07:35:19.835Z"
   },
   {
    "duration": 242,
    "start_time": "2023-11-07T07:35:20.048Z"
   },
   {
    "duration": 26,
    "start_time": "2023-11-07T07:35:20.292Z"
   },
   {
    "duration": 425,
    "start_time": "2023-11-07T07:35:20.320Z"
   },
   {
    "duration": 6738,
    "start_time": "2023-11-07T07:35:20.746Z"
   },
   {
    "duration": 1054,
    "start_time": "2023-11-07T07:35:27.486Z"
   },
   {
    "duration": 370,
    "start_time": "2023-11-07T07:35:28.542Z"
   },
   {
    "duration": 3,
    "start_time": "2023-11-07T07:35:28.914Z"
   },
   {
    "duration": 41,
    "start_time": "2023-11-07T07:35:28.919Z"
   },
   {
    "duration": 18,
    "start_time": "2023-11-07T07:35:28.962Z"
   },
   {
    "duration": 26,
    "start_time": "2023-11-07T07:35:28.982Z"
   },
   {
    "duration": 15,
    "start_time": "2023-11-07T07:35:29.010Z"
   },
   {
    "duration": 12,
    "start_time": "2023-11-07T07:35:29.027Z"
   },
   {
    "duration": 6,
    "start_time": "2023-11-07T07:35:29.041Z"
   },
   {
    "duration": 21,
    "start_time": "2023-11-07T07:35:29.048Z"
   },
   {
    "duration": 37,
    "start_time": "2023-11-07T07:35:29.071Z"
   },
   {
    "duration": 41,
    "start_time": "2023-11-07T07:35:29.110Z"
   },
   {
    "duration": 10,
    "start_time": "2023-11-07T07:35:29.152Z"
   },
   {
    "duration": 5,
    "start_time": "2023-11-07T07:35:53.814Z"
   },
   {
    "duration": 11,
    "start_time": "2023-11-07T07:35:58.054Z"
   },
   {
    "duration": 7,
    "start_time": "2023-11-07T07:36:06.629Z"
   },
   {
    "duration": 6,
    "start_time": "2023-11-07T07:36:08.790Z"
   },
   {
    "duration": 7,
    "start_time": "2023-11-07T07:36:11.318Z"
   },
   {
    "duration": 7,
    "start_time": "2023-11-07T07:36:13.077Z"
   },
   {
    "duration": 7,
    "start_time": "2023-11-07T07:36:17.181Z"
   },
   {
    "duration": 7,
    "start_time": "2023-11-07T07:36:19.374Z"
   },
   {
    "duration": 6,
    "start_time": "2023-11-07T07:36:21.549Z"
   },
   {
    "duration": 13,
    "start_time": "2023-11-07T07:36:23.686Z"
   },
   {
    "duration": 7,
    "start_time": "2023-11-07T07:36:27.471Z"
   },
   {
    "duration": 7,
    "start_time": "2023-11-07T07:36:29.822Z"
   },
   {
    "duration": 8,
    "start_time": "2023-11-07T07:36:32.174Z"
   },
   {
    "duration": 5,
    "start_time": "2023-11-07T07:36:34.502Z"
   },
   {
    "duration": 13,
    "start_time": "2023-11-07T07:36:36.334Z"
   },
   {
    "duration": 6,
    "start_time": "2023-11-07T07:36:38.494Z"
   },
   {
    "duration": 7,
    "start_time": "2023-11-07T07:36:40.902Z"
   },
   {
    "duration": 5,
    "start_time": "2023-11-07T07:36:42.887Z"
   },
   {
    "duration": 5,
    "start_time": "2023-11-07T07:36:44.814Z"
   },
   {
    "duration": 12,
    "start_time": "2023-11-07T07:36:47.014Z"
   },
   {
    "duration": 146,
    "start_time": "2023-11-07T07:38:45.383Z"
   },
   {
    "duration": 13,
    "start_time": "2023-11-07T07:38:49.847Z"
   },
   {
    "duration": 7,
    "start_time": "2023-11-07T07:38:51.553Z"
   },
   {
    "duration": 6,
    "start_time": "2023-11-07T07:38:59.232Z"
   },
   {
    "duration": 1780,
    "start_time": "2023-11-07T07:39:21.949Z"
   },
   {
    "duration": 323,
    "start_time": "2023-11-07T07:39:23.731Z"
   },
   {
    "duration": 28,
    "start_time": "2023-11-07T07:39:24.056Z"
   },
   {
    "duration": 4,
    "start_time": "2023-11-07T07:39:24.086Z"
   },
   {
    "duration": 7,
    "start_time": "2023-11-07T07:39:24.091Z"
   },
   {
    "duration": 71,
    "start_time": "2023-11-07T07:39:24.099Z"
   },
   {
    "duration": 5,
    "start_time": "2023-11-07T07:39:24.172Z"
   },
   {
    "duration": 19,
    "start_time": "2023-11-07T07:39:24.179Z"
   },
   {
    "duration": 11,
    "start_time": "2023-11-07T07:39:24.200Z"
   },
   {
    "duration": 5,
    "start_time": "2023-11-07T07:39:24.214Z"
   },
   {
    "duration": 30,
    "start_time": "2023-11-07T07:39:24.220Z"
   },
   {
    "duration": 17,
    "start_time": "2023-11-07T07:39:24.252Z"
   },
   {
    "duration": 7,
    "start_time": "2023-11-07T07:39:24.271Z"
   },
   {
    "duration": 1442,
    "start_time": "2023-11-07T07:39:24.279Z"
   },
   {
    "duration": 58,
    "start_time": "2023-11-07T07:39:25.723Z"
   },
   {
    "duration": 12,
    "start_time": "2023-11-07T07:39:25.783Z"
   },
   {
    "duration": 23,
    "start_time": "2023-11-07T07:39:25.797Z"
   },
   {
    "duration": 78,
    "start_time": "2023-11-07T07:39:25.822Z"
   },
   {
    "duration": 202,
    "start_time": "2023-11-07T07:39:25.901Z"
   },
   {
    "duration": 1776,
    "start_time": "2023-11-07T07:39:26.104Z"
   },
   {
    "duration": 418,
    "start_time": "2023-11-07T07:39:27.882Z"
   },
   {
    "duration": 219,
    "start_time": "2023-11-07T07:39:28.302Z"
   },
   {
    "duration": 235,
    "start_time": "2023-11-07T07:39:28.523Z"
   },
   {
    "duration": 282,
    "start_time": "2023-11-07T07:39:28.760Z"
   },
   {
    "duration": 188,
    "start_time": "2023-11-07T07:39:29.044Z"
   },
   {
    "duration": 162,
    "start_time": "2023-11-07T07:39:29.233Z"
   },
   {
    "duration": 168,
    "start_time": "2023-11-07T07:39:29.397Z"
   },
   {
    "duration": 216,
    "start_time": "2023-11-07T07:39:29.568Z"
   },
   {
    "duration": 227,
    "start_time": "2023-11-07T07:39:29.786Z"
   },
   {
    "duration": 40,
    "start_time": "2023-11-07T07:39:30.014Z"
   },
   {
    "duration": 432,
    "start_time": "2023-11-07T07:39:30.056Z"
   },
   {
    "duration": 6440,
    "start_time": "2023-11-07T07:39:30.489Z"
   },
   {
    "duration": 1014,
    "start_time": "2023-11-07T07:39:36.931Z"
   },
   {
    "duration": 363,
    "start_time": "2023-11-07T07:39:37.947Z"
   },
   {
    "duration": 3,
    "start_time": "2023-11-07T07:39:38.312Z"
   },
   {
    "duration": 11,
    "start_time": "2023-11-07T07:39:38.317Z"
   },
   {
    "duration": 17,
    "start_time": "2023-11-07T07:39:38.330Z"
   },
   {
    "duration": 7,
    "start_time": "2023-11-07T07:39:38.349Z"
   },
   {
    "duration": 19,
    "start_time": "2023-11-07T07:39:38.357Z"
   },
   {
    "duration": 10,
    "start_time": "2023-11-07T07:39:38.377Z"
   },
   {
    "duration": 9,
    "start_time": "2023-11-07T07:39:38.388Z"
   },
   {
    "duration": 6,
    "start_time": "2023-11-07T07:39:38.399Z"
   },
   {
    "duration": 42,
    "start_time": "2023-11-07T07:39:38.406Z"
   },
   {
    "duration": 20,
    "start_time": "2023-11-07T07:39:38.450Z"
   },
   {
    "duration": 10,
    "start_time": "2023-11-07T07:39:38.472Z"
   },
   {
    "duration": 1530,
    "start_time": "2023-11-07T07:40:42.958Z"
   },
   {
    "duration": 71,
    "start_time": "2023-11-07T07:40:44.490Z"
   },
   {
    "duration": 27,
    "start_time": "2023-11-07T07:40:44.564Z"
   },
   {
    "duration": 3,
    "start_time": "2023-11-07T07:40:44.594Z"
   },
   {
    "duration": 14,
    "start_time": "2023-11-07T07:40:44.600Z"
   },
   {
    "duration": 66,
    "start_time": "2023-11-07T07:40:44.616Z"
   },
   {
    "duration": 6,
    "start_time": "2023-11-07T07:40:44.684Z"
   },
   {
    "duration": 19,
    "start_time": "2023-11-07T07:40:44.692Z"
   },
   {
    "duration": 35,
    "start_time": "2023-11-07T07:40:44.713Z"
   },
   {
    "duration": 4,
    "start_time": "2023-11-07T07:40:44.750Z"
   },
   {
    "duration": 6,
    "start_time": "2023-11-07T07:40:44.756Z"
   },
   {
    "duration": 19,
    "start_time": "2023-11-07T07:40:44.764Z"
   },
   {
    "duration": 8,
    "start_time": "2023-11-07T07:40:44.784Z"
   },
   {
    "duration": 1525,
    "start_time": "2023-11-07T07:40:44.796Z"
   },
   {
    "duration": 57,
    "start_time": "2023-11-07T07:40:46.323Z"
   },
   {
    "duration": 16,
    "start_time": "2023-11-07T07:40:46.382Z"
   },
   {
    "duration": 47,
    "start_time": "2023-11-07T07:40:46.400Z"
   },
   {
    "duration": 65,
    "start_time": "2023-11-07T07:40:46.449Z"
   },
   {
    "duration": 201,
    "start_time": "2023-11-07T07:40:46.516Z"
   },
   {
    "duration": 1733,
    "start_time": "2023-11-07T07:40:46.719Z"
   },
   {
    "duration": 418,
    "start_time": "2023-11-07T07:40:48.454Z"
   },
   {
    "duration": 237,
    "start_time": "2023-11-07T07:40:48.874Z"
   },
   {
    "duration": 260,
    "start_time": "2023-11-07T07:40:49.114Z"
   },
   {
    "duration": 287,
    "start_time": "2023-11-07T07:40:49.377Z"
   },
   {
    "duration": 175,
    "start_time": "2023-11-07T07:40:49.666Z"
   },
   {
    "duration": 168,
    "start_time": "2023-11-07T07:40:49.848Z"
   },
   {
    "duration": 188,
    "start_time": "2023-11-07T07:40:50.018Z"
   },
   {
    "duration": 226,
    "start_time": "2023-11-07T07:40:50.208Z"
   },
   {
    "duration": 223,
    "start_time": "2023-11-07T07:40:50.436Z"
   },
   {
    "duration": 35,
    "start_time": "2023-11-07T07:40:50.661Z"
   },
   {
    "duration": 435,
    "start_time": "2023-11-07T07:40:50.698Z"
   },
   {
    "duration": 6527,
    "start_time": "2023-11-07T07:40:51.135Z"
   },
   {
    "duration": 1051,
    "start_time": "2023-11-07T07:40:57.664Z"
   },
   {
    "duration": 390,
    "start_time": "2023-11-07T07:40:58.717Z"
   },
   {
    "duration": 3,
    "start_time": "2023-11-07T07:40:59.109Z"
   },
   {
    "duration": 24,
    "start_time": "2023-11-07T07:40:59.114Z"
   },
   {
    "duration": 17,
    "start_time": "2023-11-07T07:40:59.140Z"
   },
   {
    "duration": 41,
    "start_time": "2023-11-07T07:40:59.159Z"
   },
   {
    "duration": 150,
    "start_time": "2023-11-07T07:40:59.203Z"
   },
   {
    "duration": 0,
    "start_time": "2023-11-07T07:40:59.355Z"
   },
   {
    "duration": 0,
    "start_time": "2023-11-07T07:40:59.356Z"
   },
   {
    "duration": 0,
    "start_time": "2023-11-07T07:40:59.357Z"
   },
   {
    "duration": 0,
    "start_time": "2023-11-07T07:40:59.358Z"
   },
   {
    "duration": 0,
    "start_time": "2023-11-07T07:40:59.359Z"
   },
   {
    "duration": 0,
    "start_time": "2023-11-07T07:40:59.362Z"
   },
   {
    "duration": 8,
    "start_time": "2023-11-07T07:41:33.953Z"
   },
   {
    "duration": 6,
    "start_time": "2023-11-07T07:41:36.368Z"
   },
   {
    "duration": 1615,
    "start_time": "2023-11-07T07:41:45.088Z"
   },
   {
    "duration": 95,
    "start_time": "2023-11-07T07:41:46.706Z"
   },
   {
    "duration": 34,
    "start_time": "2023-11-07T07:41:46.803Z"
   },
   {
    "duration": 4,
    "start_time": "2023-11-07T07:41:46.839Z"
   },
   {
    "duration": 6,
    "start_time": "2023-11-07T07:41:46.846Z"
   },
   {
    "duration": 33,
    "start_time": "2023-11-07T07:41:46.856Z"
   },
   {
    "duration": 9,
    "start_time": "2023-11-07T07:41:46.890Z"
   },
   {
    "duration": 19,
    "start_time": "2023-11-07T07:41:46.901Z"
   },
   {
    "duration": 35,
    "start_time": "2023-11-07T07:41:46.923Z"
   },
   {
    "duration": 5,
    "start_time": "2023-11-07T07:41:46.960Z"
   },
   {
    "duration": 11,
    "start_time": "2023-11-07T07:41:46.967Z"
   },
   {
    "duration": 18,
    "start_time": "2023-11-07T07:41:46.980Z"
   },
   {
    "duration": 7,
    "start_time": "2023-11-07T07:41:47.000Z"
   },
   {
    "duration": 1404,
    "start_time": "2023-11-07T07:41:47.011Z"
   },
   {
    "duration": 59,
    "start_time": "2023-11-07T07:41:48.417Z"
   },
   {
    "duration": 13,
    "start_time": "2023-11-07T07:41:48.478Z"
   },
   {
    "duration": 26,
    "start_time": "2023-11-07T07:41:48.492Z"
   },
   {
    "duration": 78,
    "start_time": "2023-11-07T07:41:48.519Z"
   },
   {
    "duration": 186,
    "start_time": "2023-11-07T07:41:48.599Z"
   },
   {
    "duration": 1781,
    "start_time": "2023-11-07T07:41:48.787Z"
   },
   {
    "duration": 400,
    "start_time": "2023-11-07T07:41:50.570Z"
   },
   {
    "duration": 218,
    "start_time": "2023-11-07T07:41:50.972Z"
   },
   {
    "duration": 228,
    "start_time": "2023-11-07T07:41:51.192Z"
   },
   {
    "duration": 276,
    "start_time": "2023-11-07T07:41:51.422Z"
   },
   {
    "duration": 177,
    "start_time": "2023-11-07T07:41:51.700Z"
   },
   {
    "duration": 154,
    "start_time": "2023-11-07T07:41:51.879Z"
   },
   {
    "duration": 175,
    "start_time": "2023-11-07T07:41:52.035Z"
   },
   {
    "duration": 216,
    "start_time": "2023-11-07T07:41:52.212Z"
   },
   {
    "duration": 219,
    "start_time": "2023-11-07T07:41:52.430Z"
   },
   {
    "duration": 23,
    "start_time": "2023-11-07T07:41:52.651Z"
   },
   {
    "duration": 392,
    "start_time": "2023-11-07T07:41:52.676Z"
   },
   {
    "duration": 6689,
    "start_time": "2023-11-07T07:41:53.070Z"
   },
   {
    "duration": 1102,
    "start_time": "2023-11-07T07:41:59.760Z"
   },
   {
    "duration": 383,
    "start_time": "2023-11-07T07:42:00.864Z"
   },
   {
    "duration": 3,
    "start_time": "2023-11-07T07:42:01.250Z"
   },
   {
    "duration": 58,
    "start_time": "2023-11-07T07:42:01.255Z"
   },
   {
    "duration": 51,
    "start_time": "2023-11-07T07:42:01.315Z"
   },
   {
    "duration": 59,
    "start_time": "2023-11-07T07:42:01.368Z"
   },
   {
    "duration": 53,
    "start_time": "2023-11-07T07:42:01.429Z"
   },
   {
    "duration": 53,
    "start_time": "2023-11-07T07:42:01.484Z"
   },
   {
    "duration": 35,
    "start_time": "2023-11-07T07:42:01.541Z"
   },
   {
    "duration": 59,
    "start_time": "2023-11-07T07:42:01.578Z"
   },
   {
    "duration": 40,
    "start_time": "2023-11-07T07:42:01.639Z"
   },
   {
    "duration": 33,
    "start_time": "2023-11-07T07:42:01.681Z"
   },
   {
    "duration": 35,
    "start_time": "2023-11-07T07:42:01.716Z"
   },
   {
    "duration": 1519,
    "start_time": "2023-11-07T07:44:46.657Z"
   },
   {
    "duration": 71,
    "start_time": "2023-11-07T07:44:48.179Z"
   },
   {
    "duration": 27,
    "start_time": "2023-11-07T07:44:48.252Z"
   },
   {
    "duration": 8,
    "start_time": "2023-11-07T07:44:48.281Z"
   },
   {
    "duration": 15,
    "start_time": "2023-11-07T07:44:48.291Z"
   },
   {
    "duration": 39,
    "start_time": "2023-11-07T07:44:48.308Z"
   },
   {
    "duration": 6,
    "start_time": "2023-11-07T07:44:48.349Z"
   },
   {
    "duration": 26,
    "start_time": "2023-11-07T07:44:48.356Z"
   },
   {
    "duration": 17,
    "start_time": "2023-11-07T07:44:48.384Z"
   },
   {
    "duration": 12,
    "start_time": "2023-11-07T07:44:48.405Z"
   },
   {
    "duration": 21,
    "start_time": "2023-11-07T07:44:48.419Z"
   },
   {
    "duration": 31,
    "start_time": "2023-11-07T07:44:48.442Z"
   },
   {
    "duration": 19,
    "start_time": "2023-11-07T07:44:48.474Z"
   },
   {
    "duration": 1344,
    "start_time": "2023-11-07T07:44:48.495Z"
   },
   {
    "duration": 50,
    "start_time": "2023-11-07T07:44:49.840Z"
   },
   {
    "duration": 12,
    "start_time": "2023-11-07T07:44:49.891Z"
   },
   {
    "duration": 43,
    "start_time": "2023-11-07T07:44:49.905Z"
   },
   {
    "duration": 60,
    "start_time": "2023-11-07T07:44:49.950Z"
   },
   {
    "duration": 209,
    "start_time": "2023-11-07T07:44:50.012Z"
   },
   {
    "duration": 1761,
    "start_time": "2023-11-07T07:44:50.223Z"
   },
   {
    "duration": 409,
    "start_time": "2023-11-07T07:44:51.986Z"
   },
   {
    "duration": 214,
    "start_time": "2023-11-07T07:44:52.397Z"
   },
   {
    "duration": 233,
    "start_time": "2023-11-07T07:44:52.613Z"
   },
   {
    "duration": 274,
    "start_time": "2023-11-07T07:44:52.848Z"
   },
   {
    "duration": 182,
    "start_time": "2023-11-07T07:44:53.124Z"
   },
   {
    "duration": 157,
    "start_time": "2023-11-07T07:44:53.308Z"
   },
   {
    "duration": 168,
    "start_time": "2023-11-07T07:44:53.466Z"
   },
   {
    "duration": 223,
    "start_time": "2023-11-07T07:44:53.637Z"
   },
   {
    "duration": 234,
    "start_time": "2023-11-07T07:44:53.861Z"
   },
   {
    "duration": 35,
    "start_time": "2023-11-07T07:44:54.096Z"
   },
   {
    "duration": 399,
    "start_time": "2023-11-07T07:44:54.147Z"
   },
   {
    "duration": 6557,
    "start_time": "2023-11-07T07:44:54.549Z"
   },
   {
    "duration": 1075,
    "start_time": "2023-11-07T07:45:01.108Z"
   },
   {
    "duration": 377,
    "start_time": "2023-11-07T07:45:02.184Z"
   },
   {
    "duration": 3,
    "start_time": "2023-11-07T07:45:02.562Z"
   },
   {
    "duration": 42,
    "start_time": "2023-11-07T07:45:02.567Z"
   },
   {
    "duration": 20,
    "start_time": "2023-11-07T07:45:02.611Z"
   },
   {
    "duration": 76,
    "start_time": "2023-11-07T07:45:02.633Z"
   },
   {
    "duration": 80,
    "start_time": "2023-11-07T07:45:02.711Z"
   },
   {
    "duration": 30,
    "start_time": "2023-11-07T07:45:02.793Z"
   },
   {
    "duration": 15,
    "start_time": "2023-11-07T07:45:02.825Z"
   },
   {
    "duration": 13,
    "start_time": "2023-11-07T07:45:02.842Z"
   },
   {
    "duration": 34,
    "start_time": "2023-11-07T07:45:02.856Z"
   },
   {
    "duration": 12,
    "start_time": "2023-11-07T07:45:02.892Z"
   },
   {
    "duration": 11,
    "start_time": "2023-11-07T07:45:02.905Z"
   },
   {
    "duration": 2028,
    "start_time": "2023-11-08T08:10:53.585Z"
   },
   {
    "duration": 98,
    "start_time": "2023-11-08T08:10:55.615Z"
   },
   {
    "duration": 31,
    "start_time": "2023-11-08T08:10:55.715Z"
   },
   {
    "duration": 3,
    "start_time": "2023-11-08T08:10:55.749Z"
   },
   {
    "duration": 10,
    "start_time": "2023-11-08T08:10:55.754Z"
   },
   {
    "duration": 40,
    "start_time": "2023-11-08T08:10:55.766Z"
   },
   {
    "duration": 6,
    "start_time": "2023-11-08T08:10:55.808Z"
   },
   {
    "duration": 694,
    "start_time": "2023-11-08T08:10:55.816Z"
   },
   {
    "duration": 144,
    "start_time": "2023-11-08T08:10:56.512Z"
   },
   {
    "duration": 177,
    "start_time": "2023-11-08T08:11:53.489Z"
   },
   {
    "duration": 5,
    "start_time": "2023-11-08T08:16:59.516Z"
   },
   {
    "duration": 85,
    "start_time": "2023-11-08T08:16:59.523Z"
   },
   {
    "duration": 25,
    "start_time": "2023-11-08T08:16:59.610Z"
   },
   {
    "duration": 3,
    "start_time": "2023-11-08T08:16:59.636Z"
   },
   {
    "duration": 5,
    "start_time": "2023-11-08T08:16:59.642Z"
   },
   {
    "duration": 16,
    "start_time": "2023-11-08T08:16:59.649Z"
   },
   {
    "duration": 7,
    "start_time": "2023-11-08T08:16:59.667Z"
   },
   {
    "duration": 17,
    "start_time": "2023-11-08T08:16:59.676Z"
   },
   {
    "duration": 12,
    "start_time": "2023-11-08T08:16:59.695Z"
   },
   {
    "duration": 5,
    "start_time": "2023-11-08T08:16:59.708Z"
   },
   {
    "duration": 35,
    "start_time": "2023-11-08T08:16:59.715Z"
   },
   {
    "duration": 17,
    "start_time": "2023-11-08T08:16:59.752Z"
   },
   {
    "duration": 7,
    "start_time": "2023-11-08T08:16:59.770Z"
   },
   {
    "duration": 1390,
    "start_time": "2023-11-08T08:16:59.779Z"
   },
   {
    "duration": 47,
    "start_time": "2023-11-08T08:17:01.171Z"
   },
   {
    "duration": 32,
    "start_time": "2023-11-08T08:17:01.220Z"
   },
   {
    "duration": 41,
    "start_time": "2023-11-08T08:17:01.254Z"
   },
   {
    "duration": 104,
    "start_time": "2023-11-08T08:17:01.297Z"
   },
   {
    "duration": 5,
    "start_time": "2023-11-08T08:17:15.422Z"
   },
   {
    "duration": 392,
    "start_time": "2023-11-08T08:35:24.241Z"
   },
   {
    "duration": 1615,
    "start_time": "2023-11-08T08:51:06.871Z"
   },
   {
    "duration": 69,
    "start_time": "2023-11-08T08:51:08.488Z"
   },
   {
    "duration": 28,
    "start_time": "2023-11-08T08:51:08.559Z"
   },
   {
    "duration": 4,
    "start_time": "2023-11-08T08:51:08.588Z"
   },
   {
    "duration": 12,
    "start_time": "2023-11-08T08:51:08.594Z"
   },
   {
    "duration": 52,
    "start_time": "2023-11-08T08:51:08.608Z"
   },
   {
    "duration": 5,
    "start_time": "2023-11-08T08:51:08.662Z"
   },
   {
    "duration": 32,
    "start_time": "2023-11-08T08:51:08.669Z"
   },
   {
    "duration": 13,
    "start_time": "2023-11-08T08:51:08.703Z"
   },
   {
    "duration": 19,
    "start_time": "2023-11-08T08:51:08.717Z"
   },
   {
    "duration": 6,
    "start_time": "2023-11-08T08:51:08.737Z"
   },
   {
    "duration": 22,
    "start_time": "2023-11-08T08:51:08.746Z"
   },
   {
    "duration": 7,
    "start_time": "2023-11-08T08:51:08.770Z"
   },
   {
    "duration": 1344,
    "start_time": "2023-11-08T08:51:08.781Z"
   },
   {
    "duration": 60,
    "start_time": "2023-11-08T08:51:10.127Z"
   },
   {
    "duration": 11,
    "start_time": "2023-11-08T08:51:10.189Z"
   },
   {
    "duration": 22,
    "start_time": "2023-11-08T08:51:10.202Z"
   },
   {
    "duration": 77,
    "start_time": "2023-11-08T08:51:10.226Z"
   },
   {
    "duration": 4,
    "start_time": "2023-11-08T08:51:10.305Z"
   },
   {
    "duration": 195,
    "start_time": "2023-11-08T08:51:10.310Z"
   },
   {
    "duration": 1767,
    "start_time": "2023-11-08T08:51:10.507Z"
   },
   {
    "duration": 408,
    "start_time": "2023-11-08T08:51:12.276Z"
   },
   {
    "duration": 208,
    "start_time": "2023-11-08T08:51:12.686Z"
   },
   {
    "duration": 229,
    "start_time": "2023-11-08T08:51:12.896Z"
   },
   {
    "duration": 285,
    "start_time": "2023-11-08T08:51:13.126Z"
   },
   {
    "duration": 176,
    "start_time": "2023-11-08T08:51:13.413Z"
   },
   {
    "duration": 160,
    "start_time": "2023-11-08T08:51:13.591Z"
   },
   {
    "duration": 172,
    "start_time": "2023-11-08T08:51:13.753Z"
   },
   {
    "duration": 213,
    "start_time": "2023-11-08T08:51:13.927Z"
   },
   {
    "duration": 219,
    "start_time": "2023-11-08T08:51:14.142Z"
   },
   {
    "duration": 23,
    "start_time": "2023-11-08T08:51:14.363Z"
   },
   {
    "duration": 390,
    "start_time": "2023-11-08T08:51:14.388Z"
   },
   {
    "duration": 6498,
    "start_time": "2023-11-08T08:51:14.780Z"
   },
   {
    "duration": 1053,
    "start_time": "2023-11-08T08:51:21.280Z"
   },
   {
    "duration": 372,
    "start_time": "2023-11-08T08:51:22.336Z"
   },
   {
    "duration": 351,
    "start_time": "2023-11-08T08:51:22.710Z"
   },
   {
    "duration": 3,
    "start_time": "2023-11-08T08:51:23.063Z"
   },
   {
    "duration": 9,
    "start_time": "2023-11-08T08:51:23.068Z"
   },
   {
    "duration": 6,
    "start_time": "2023-11-08T08:51:23.079Z"
   },
   {
    "duration": 6,
    "start_time": "2023-11-08T08:51:23.087Z"
   },
   {
    "duration": 12,
    "start_time": "2023-11-08T08:51:23.097Z"
   },
   {
    "duration": 10,
    "start_time": "2023-11-08T08:51:23.146Z"
   },
   {
    "duration": 5,
    "start_time": "2023-11-08T08:51:23.157Z"
   },
   {
    "duration": 6,
    "start_time": "2023-11-08T08:51:23.164Z"
   },
   {
    "duration": 17,
    "start_time": "2023-11-08T08:51:23.171Z"
   },
   {
    "duration": 12,
    "start_time": "2023-11-08T08:51:23.190Z"
   },
   {
    "duration": 11,
    "start_time": "2023-11-08T08:51:23.204Z"
   },
   {
    "duration": 138,
    "start_time": "2023-11-08T08:51:23.248Z"
   },
   {
    "duration": 53,
    "start_time": "2023-11-08T08:51:58.426Z"
   },
   {
    "duration": 379,
    "start_time": "2023-11-08T12:55:44.296Z"
   },
   {
    "duration": 129,
    "start_time": "2023-11-08T12:56:15.767Z"
   },
   {
    "duration": 1393,
    "start_time": "2023-11-08T12:56:31.704Z"
   },
   {
    "duration": 67,
    "start_time": "2023-11-08T12:56:33.099Z"
   },
   {
    "duration": 27,
    "start_time": "2023-11-08T12:56:33.168Z"
   },
   {
    "duration": 3,
    "start_time": "2023-11-08T12:56:33.198Z"
   },
   {
    "duration": 12,
    "start_time": "2023-11-08T12:56:33.203Z"
   },
   {
    "duration": 173,
    "start_time": "2023-11-08T12:56:33.217Z"
   },
   {
    "duration": 0,
    "start_time": "2023-11-08T12:56:33.393Z"
   },
   {
    "duration": 1,
    "start_time": "2023-11-08T12:56:33.395Z"
   },
   {
    "duration": 0,
    "start_time": "2023-11-08T12:56:33.397Z"
   },
   {
    "duration": 0,
    "start_time": "2023-11-08T12:56:33.399Z"
   },
   {
    "duration": 1,
    "start_time": "2023-11-08T12:56:33.400Z"
   },
   {
    "duration": 0,
    "start_time": "2023-11-08T12:56:33.402Z"
   },
   {
    "duration": 0,
    "start_time": "2023-11-08T12:56:33.403Z"
   },
   {
    "duration": 0,
    "start_time": "2023-11-08T12:56:33.405Z"
   },
   {
    "duration": 0,
    "start_time": "2023-11-08T12:56:33.406Z"
   },
   {
    "duration": 1,
    "start_time": "2023-11-08T12:56:33.407Z"
   },
   {
    "duration": 0,
    "start_time": "2023-11-08T12:56:33.409Z"
   },
   {
    "duration": 0,
    "start_time": "2023-11-08T12:56:33.410Z"
   },
   {
    "duration": 0,
    "start_time": "2023-11-08T12:56:33.411Z"
   },
   {
    "duration": 0,
    "start_time": "2023-11-08T12:56:33.412Z"
   },
   {
    "duration": 0,
    "start_time": "2023-11-08T12:56:33.413Z"
   },
   {
    "duration": 0,
    "start_time": "2023-11-08T12:56:33.447Z"
   },
   {
    "duration": 0,
    "start_time": "2023-11-08T12:56:33.448Z"
   },
   {
    "duration": 0,
    "start_time": "2023-11-08T12:56:33.450Z"
   },
   {
    "duration": 0,
    "start_time": "2023-11-08T12:56:33.451Z"
   },
   {
    "duration": 0,
    "start_time": "2023-11-08T12:56:33.452Z"
   },
   {
    "duration": 0,
    "start_time": "2023-11-08T12:56:33.453Z"
   },
   {
    "duration": 0,
    "start_time": "2023-11-08T12:56:33.454Z"
   },
   {
    "duration": 0,
    "start_time": "2023-11-08T12:56:33.455Z"
   },
   {
    "duration": 0,
    "start_time": "2023-11-08T12:56:33.456Z"
   },
   {
    "duration": 0,
    "start_time": "2023-11-08T12:56:33.457Z"
   },
   {
    "duration": 0,
    "start_time": "2023-11-08T12:56:33.458Z"
   },
   {
    "duration": 0,
    "start_time": "2023-11-08T12:56:33.459Z"
   },
   {
    "duration": 0,
    "start_time": "2023-11-08T12:56:33.461Z"
   },
   {
    "duration": 0,
    "start_time": "2023-11-08T12:56:33.462Z"
   },
   {
    "duration": 0,
    "start_time": "2023-11-08T12:56:33.463Z"
   },
   {
    "duration": 0,
    "start_time": "2023-11-08T12:56:33.464Z"
   },
   {
    "duration": 0,
    "start_time": "2023-11-08T12:56:33.465Z"
   },
   {
    "duration": 0,
    "start_time": "2023-11-08T12:56:33.466Z"
   },
   {
    "duration": 0,
    "start_time": "2023-11-08T12:56:33.467Z"
   },
   {
    "duration": 0,
    "start_time": "2023-11-08T12:56:33.468Z"
   },
   {
    "duration": 0,
    "start_time": "2023-11-08T12:56:33.469Z"
   },
   {
    "duration": 0,
    "start_time": "2023-11-08T12:56:33.470Z"
   },
   {
    "duration": 0,
    "start_time": "2023-11-08T12:56:33.471Z"
   },
   {
    "duration": 0,
    "start_time": "2023-11-08T12:56:33.473Z"
   },
   {
    "duration": 0,
    "start_time": "2023-11-08T12:56:33.473Z"
   },
   {
    "duration": 0,
    "start_time": "2023-11-08T12:56:33.474Z"
   },
   {
    "duration": 0,
    "start_time": "2023-11-08T12:56:33.476Z"
   },
   {
    "duration": 16,
    "start_time": "2023-11-08T12:56:50.775Z"
   },
   {
    "duration": 10,
    "start_time": "2023-11-08T12:57:24.232Z"
   },
   {
    "duration": 110,
    "start_time": "2023-11-08T12:57:35.519Z"
   },
   {
    "duration": 14,
    "start_time": "2023-11-08T12:57:44.031Z"
   },
   {
    "duration": 1444,
    "start_time": "2023-11-08T13:02:07.054Z"
   },
   {
    "duration": 137,
    "start_time": "2023-11-08T13:02:08.501Z"
   },
   {
    "duration": 29,
    "start_time": "2023-11-08T13:02:08.639Z"
   },
   {
    "duration": 4,
    "start_time": "2023-11-08T13:02:08.670Z"
   },
   {
    "duration": 7,
    "start_time": "2023-11-08T13:02:08.678Z"
   },
   {
    "duration": 102,
    "start_time": "2023-11-08T13:02:08.688Z"
   },
   {
    "duration": 6,
    "start_time": "2023-11-08T13:02:08.792Z"
   },
   {
    "duration": 32,
    "start_time": "2023-11-08T13:02:08.800Z"
   },
   {
    "duration": 20,
    "start_time": "2023-11-08T13:02:08.834Z"
   },
   {
    "duration": 16,
    "start_time": "2023-11-08T13:02:08.856Z"
   },
   {
    "duration": 20,
    "start_time": "2023-11-08T13:02:08.874Z"
   },
   {
    "duration": 27,
    "start_time": "2023-11-08T13:02:08.896Z"
   },
   {
    "duration": 10,
    "start_time": "2023-11-08T13:02:08.925Z"
   },
   {
    "duration": 1306,
    "start_time": "2023-11-08T13:02:08.938Z"
   },
   {
    "duration": 145,
    "start_time": "2023-11-08T13:02:10.246Z"
   },
   {
    "duration": 13,
    "start_time": "2023-11-08T13:02:10.394Z"
   },
   {
    "duration": 38,
    "start_time": "2023-11-08T13:02:10.409Z"
   },
   {
    "duration": 62,
    "start_time": "2023-11-08T13:02:10.449Z"
   },
   {
    "duration": 5,
    "start_time": "2023-11-08T13:02:10.513Z"
   },
   {
    "duration": 221,
    "start_time": "2023-11-08T13:02:10.520Z"
   },
   {
    "duration": 1777,
    "start_time": "2023-11-08T13:02:10.743Z"
   },
   {
    "duration": 428,
    "start_time": "2023-11-08T13:02:12.522Z"
   },
   {
    "duration": 219,
    "start_time": "2023-11-08T13:02:12.952Z"
   },
   {
    "duration": 252,
    "start_time": "2023-11-08T13:02:13.173Z"
   },
   {
    "duration": 182,
    "start_time": "2023-11-08T13:02:13.428Z"
   },
   {
    "duration": 187,
    "start_time": "2023-11-08T13:02:13.612Z"
   },
   {
    "duration": 173,
    "start_time": "2023-11-08T13:02:13.801Z"
   },
   {
    "duration": 366,
    "start_time": "2023-11-08T13:02:13.977Z"
   },
   {
    "duration": 213,
    "start_time": "2023-11-08T13:02:14.346Z"
   },
   {
    "duration": 220,
    "start_time": "2023-11-08T13:02:14.560Z"
   },
   {
    "duration": 23,
    "start_time": "2023-11-08T13:02:14.781Z"
   },
   {
    "duration": 415,
    "start_time": "2023-11-08T13:02:14.806Z"
   },
   {
    "duration": 6577,
    "start_time": "2023-11-08T13:02:15.222Z"
   },
   {
    "duration": 792,
    "start_time": "2023-11-08T13:02:21.800Z"
   },
   {
    "duration": 638,
    "start_time": "2023-11-08T13:02:22.594Z"
   },
   {
    "duration": 377,
    "start_time": "2023-11-08T13:02:23.234Z"
   },
   {
    "duration": 3,
    "start_time": "2023-11-08T13:02:23.613Z"
   },
   {
    "duration": 56,
    "start_time": "2023-11-08T13:02:23.617Z"
   },
   {
    "duration": 66,
    "start_time": "2023-11-08T13:02:23.674Z"
   },
   {
    "duration": 33,
    "start_time": "2023-11-08T13:02:23.742Z"
   },
   {
    "duration": 48,
    "start_time": "2023-11-08T13:02:23.779Z"
   },
   {
    "duration": 46,
    "start_time": "2023-11-08T13:02:23.829Z"
   },
   {
    "duration": 57,
    "start_time": "2023-11-08T13:02:23.876Z"
   },
   {
    "duration": 37,
    "start_time": "2023-11-08T13:02:23.935Z"
   },
   {
    "duration": 75,
    "start_time": "2023-11-08T13:02:23.974Z"
   },
   {
    "duration": 56,
    "start_time": "2023-11-08T13:02:24.051Z"
   },
   {
    "duration": 32,
    "start_time": "2023-11-08T13:02:24.110Z"
   },
   {
    "duration": 67,
    "start_time": "2023-11-08T13:02:24.144Z"
   },
   {
    "duration": 20,
    "start_time": "2023-11-08T13:03:16.655Z"
   },
   {
    "duration": 1623,
    "start_time": "2023-11-08T13:04:16.569Z"
   },
   {
    "duration": 77,
    "start_time": "2023-11-08T13:04:18.194Z"
   },
   {
    "duration": 36,
    "start_time": "2023-11-08T13:04:18.273Z"
   },
   {
    "duration": 3,
    "start_time": "2023-11-08T13:04:18.311Z"
   },
   {
    "duration": 24,
    "start_time": "2023-11-08T13:04:18.315Z"
   },
   {
    "duration": 58,
    "start_time": "2023-11-08T13:04:18.341Z"
   },
   {
    "duration": 6,
    "start_time": "2023-11-08T13:04:18.400Z"
   },
   {
    "duration": 19,
    "start_time": "2023-11-08T13:04:18.408Z"
   },
   {
    "duration": 27,
    "start_time": "2023-11-08T13:04:18.428Z"
   },
   {
    "duration": 5,
    "start_time": "2023-11-08T13:04:18.458Z"
   },
   {
    "duration": 6,
    "start_time": "2023-11-08T13:04:18.465Z"
   },
   {
    "duration": 16,
    "start_time": "2023-11-08T13:04:18.473Z"
   },
   {
    "duration": 7,
    "start_time": "2023-11-08T13:04:18.491Z"
   },
   {
    "duration": 1312,
    "start_time": "2023-11-08T13:04:18.499Z"
   },
   {
    "duration": 142,
    "start_time": "2023-11-08T13:04:19.813Z"
   },
   {
    "duration": 12,
    "start_time": "2023-11-08T13:04:19.956Z"
   },
   {
    "duration": 30,
    "start_time": "2023-11-08T13:04:19.970Z"
   },
   {
    "duration": 77,
    "start_time": "2023-11-08T13:04:20.001Z"
   },
   {
    "duration": 5,
    "start_time": "2023-11-08T13:04:20.079Z"
   },
   {
    "duration": 212,
    "start_time": "2023-11-08T13:04:20.086Z"
   },
   {
    "duration": 18,
    "start_time": "2023-11-08T13:04:20.300Z"
   },
   {
    "duration": 1724,
    "start_time": "2023-11-08T13:04:20.320Z"
   },
   {
    "duration": 402,
    "start_time": "2023-11-08T13:04:22.046Z"
   },
   {
    "duration": 215,
    "start_time": "2023-11-08T13:04:22.450Z"
   },
   {
    "duration": 227,
    "start_time": "2023-11-08T13:04:22.667Z"
   },
   {
    "duration": 169,
    "start_time": "2023-11-08T13:04:22.896Z"
   },
   {
    "duration": 176,
    "start_time": "2023-11-08T13:04:23.067Z"
   },
   {
    "duration": 155,
    "start_time": "2023-11-08T13:04:23.249Z"
   },
   {
    "duration": 255,
    "start_time": "2023-11-08T13:04:23.405Z"
   },
   {
    "duration": 212,
    "start_time": "2023-11-08T13:04:23.662Z"
   },
   {
    "duration": 216,
    "start_time": "2023-11-08T13:04:23.876Z"
   },
   {
    "duration": 28,
    "start_time": "2023-11-08T13:04:24.094Z"
   },
   {
    "duration": 418,
    "start_time": "2023-11-08T13:04:24.124Z"
   },
   {
    "duration": 6409,
    "start_time": "2023-11-08T13:04:24.547Z"
   },
   {
    "duration": 773,
    "start_time": "2023-11-08T13:04:30.958Z"
   },
   {
    "duration": 617,
    "start_time": "2023-11-08T13:04:31.733Z"
   },
   {
    "duration": 364,
    "start_time": "2023-11-08T13:04:32.351Z"
   },
   {
    "duration": 3,
    "start_time": "2023-11-08T13:04:32.717Z"
   },
   {
    "duration": 19,
    "start_time": "2023-11-08T13:04:32.722Z"
   },
   {
    "duration": 8,
    "start_time": "2023-11-08T13:04:32.743Z"
   },
   {
    "duration": 6,
    "start_time": "2023-11-08T13:04:32.753Z"
   },
   {
    "duration": 13,
    "start_time": "2023-11-08T13:04:32.761Z"
   },
   {
    "duration": 9,
    "start_time": "2023-11-08T13:04:32.776Z"
   },
   {
    "duration": 5,
    "start_time": "2023-11-08T13:04:32.786Z"
   },
   {
    "duration": 6,
    "start_time": "2023-11-08T13:04:32.793Z"
   },
   {
    "duration": 52,
    "start_time": "2023-11-08T13:04:32.800Z"
   },
   {
    "duration": 11,
    "start_time": "2023-11-08T13:04:32.854Z"
   },
   {
    "duration": 11,
    "start_time": "2023-11-08T13:04:32.867Z"
   },
   {
    "duration": 77,
    "start_time": "2023-11-08T13:04:32.880Z"
   },
   {
    "duration": 22,
    "start_time": "2023-11-08T13:04:35.856Z"
   },
   {
    "duration": 26,
    "start_time": "2023-11-08T13:04:40.867Z"
   },
   {
    "duration": 22,
    "start_time": "2023-11-08T13:06:13.485Z"
   },
   {
    "duration": 21,
    "start_time": "2023-11-08T13:06:18.252Z"
   },
   {
    "duration": 21,
    "start_time": "2023-11-08T13:06:31.094Z"
   },
   {
    "duration": 28,
    "start_time": "2023-11-08T13:07:36.725Z"
   },
   {
    "duration": 21,
    "start_time": "2023-11-08T13:07:41.366Z"
   },
   {
    "duration": 1369,
    "start_time": "2023-11-08T13:07:47.411Z"
   },
   {
    "duration": 65,
    "start_time": "2023-11-08T13:07:48.782Z"
   },
   {
    "duration": 27,
    "start_time": "2023-11-08T13:07:48.849Z"
   },
   {
    "duration": 3,
    "start_time": "2023-11-08T13:07:48.878Z"
   },
   {
    "duration": 32,
    "start_time": "2023-11-08T13:07:48.883Z"
   },
   {
    "duration": 60,
    "start_time": "2023-11-08T13:07:48.917Z"
   },
   {
    "duration": 6,
    "start_time": "2023-11-08T13:07:48.979Z"
   },
   {
    "duration": 43,
    "start_time": "2023-11-08T13:07:48.986Z"
   },
   {
    "duration": 15,
    "start_time": "2023-11-08T13:07:49.031Z"
   },
   {
    "duration": 10,
    "start_time": "2023-11-08T13:07:49.049Z"
   },
   {
    "duration": 11,
    "start_time": "2023-11-08T13:07:49.060Z"
   },
   {
    "duration": 20,
    "start_time": "2023-11-08T13:07:49.072Z"
   },
   {
    "duration": 51,
    "start_time": "2023-11-08T13:07:49.094Z"
   },
   {
    "duration": 31,
    "start_time": "2023-11-08T13:07:49.146Z"
   },
   {
    "duration": 1287,
    "start_time": "2023-11-08T13:07:49.178Z"
   },
   {
    "duration": 135,
    "start_time": "2023-11-08T13:07:50.467Z"
   },
   {
    "duration": 11,
    "start_time": "2023-11-08T13:07:50.604Z"
   },
   {
    "duration": 37,
    "start_time": "2023-11-08T13:07:50.616Z"
   },
   {
    "duration": 76,
    "start_time": "2023-11-08T13:07:50.654Z"
   },
   {
    "duration": 4,
    "start_time": "2023-11-08T13:07:50.732Z"
   },
   {
    "duration": 245,
    "start_time": "2023-11-08T13:07:50.738Z"
   },
   {
    "duration": 17,
    "start_time": "2023-11-08T13:07:50.985Z"
   },
   {
    "duration": 1720,
    "start_time": "2023-11-08T13:07:51.004Z"
   },
   {
    "duration": 413,
    "start_time": "2023-11-08T13:07:52.726Z"
   },
   {
    "duration": 217,
    "start_time": "2023-11-08T13:07:53.146Z"
   },
   {
    "duration": 255,
    "start_time": "2023-11-08T13:07:53.365Z"
   },
   {
    "duration": 173,
    "start_time": "2023-11-08T13:07:53.622Z"
   },
   {
    "duration": 178,
    "start_time": "2023-11-08T13:07:53.798Z"
   },
   {
    "duration": 155,
    "start_time": "2023-11-08T13:07:53.978Z"
   },
   {
    "duration": 278,
    "start_time": "2023-11-08T13:07:54.135Z"
   },
   {
    "duration": 238,
    "start_time": "2023-11-08T13:07:54.415Z"
   },
   {
    "duration": 241,
    "start_time": "2023-11-08T13:07:54.655Z"
   },
   {
    "duration": 30,
    "start_time": "2023-11-08T13:07:54.899Z"
   },
   {
    "duration": 460,
    "start_time": "2023-11-08T13:07:54.931Z"
   },
   {
    "duration": 6404,
    "start_time": "2023-11-08T13:07:55.393Z"
   },
   {
    "duration": 755,
    "start_time": "2023-11-08T13:08:01.799Z"
   },
   {
    "duration": 619,
    "start_time": "2023-11-08T13:08:02.556Z"
   },
   {
    "duration": 360,
    "start_time": "2023-11-08T13:08:03.177Z"
   },
   {
    "duration": 9,
    "start_time": "2023-11-08T13:08:03.538Z"
   },
   {
    "duration": 42,
    "start_time": "2023-11-08T13:08:03.548Z"
   },
   {
    "duration": 33,
    "start_time": "2023-11-08T13:08:03.592Z"
   },
   {
    "duration": 17,
    "start_time": "2023-11-08T13:08:03.627Z"
   },
   {
    "duration": 15,
    "start_time": "2023-11-08T13:08:03.645Z"
   },
   {
    "duration": 10,
    "start_time": "2023-11-08T13:08:03.661Z"
   },
   {
    "duration": 17,
    "start_time": "2023-11-08T13:08:03.673Z"
   },
   {
    "duration": 6,
    "start_time": "2023-11-08T13:08:03.692Z"
   },
   {
    "duration": 25,
    "start_time": "2023-11-08T13:08:03.700Z"
   },
   {
    "duration": 20,
    "start_time": "2023-11-08T13:08:03.727Z"
   },
   {
    "duration": 11,
    "start_time": "2023-11-08T13:08:03.749Z"
   },
   {
    "duration": 69,
    "start_time": "2023-11-08T13:08:03.762Z"
   },
   {
    "duration": 22,
    "start_time": "2023-11-08T13:09:12.759Z"
   },
   {
    "duration": 21,
    "start_time": "2023-11-08T13:09:16.375Z"
   },
   {
    "duration": 1372,
    "start_time": "2023-11-08T13:09:26.012Z"
   },
   {
    "duration": 134,
    "start_time": "2023-11-08T13:09:27.387Z"
   },
   {
    "duration": 34,
    "start_time": "2023-11-08T13:09:27.525Z"
   },
   {
    "duration": 4,
    "start_time": "2023-11-08T13:09:27.562Z"
   },
   {
    "duration": 19,
    "start_time": "2023-11-08T13:09:27.569Z"
   },
   {
    "duration": 65,
    "start_time": "2023-11-08T13:09:27.590Z"
   },
   {
    "duration": 6,
    "start_time": "2023-11-08T13:09:27.656Z"
   },
   {
    "duration": 18,
    "start_time": "2023-11-08T13:09:27.664Z"
   },
   {
    "duration": 17,
    "start_time": "2023-11-08T13:09:27.684Z"
   },
   {
    "duration": 11,
    "start_time": "2023-11-08T13:09:27.703Z"
   },
   {
    "duration": 33,
    "start_time": "2023-11-08T13:09:27.716Z"
   },
   {
    "duration": 5,
    "start_time": "2023-11-08T13:09:27.751Z"
   },
   {
    "duration": 21,
    "start_time": "2023-11-08T13:09:27.758Z"
   },
   {
    "duration": 7,
    "start_time": "2023-11-08T13:09:27.782Z"
   },
   {
    "duration": 1336,
    "start_time": "2023-11-08T13:09:27.790Z"
   },
   {
    "duration": 139,
    "start_time": "2023-11-08T13:09:29.129Z"
   },
   {
    "duration": 12,
    "start_time": "2023-11-08T13:09:29.270Z"
   },
   {
    "duration": 43,
    "start_time": "2023-11-08T13:09:29.283Z"
   },
   {
    "duration": 61,
    "start_time": "2023-11-08T13:09:29.329Z"
   },
   {
    "duration": 4,
    "start_time": "2023-11-08T13:09:29.392Z"
   },
   {
    "duration": 183,
    "start_time": "2023-11-08T13:09:29.398Z"
   },
   {
    "duration": 17,
    "start_time": "2023-11-08T13:09:29.583Z"
   },
   {
    "duration": 1731,
    "start_time": "2023-11-08T13:09:29.602Z"
   },
   {
    "duration": 413,
    "start_time": "2023-11-08T13:09:31.334Z"
   },
   {
    "duration": 218,
    "start_time": "2023-11-08T13:09:31.749Z"
   },
   {
    "duration": 231,
    "start_time": "2023-11-08T13:09:31.968Z"
   },
   {
    "duration": 169,
    "start_time": "2023-11-08T13:09:32.200Z"
   },
   {
    "duration": 176,
    "start_time": "2023-11-08T13:09:32.371Z"
   },
   {
    "duration": 156,
    "start_time": "2023-11-08T13:09:32.550Z"
   },
   {
    "duration": 258,
    "start_time": "2023-11-08T13:09:32.708Z"
   },
   {
    "duration": 205,
    "start_time": "2023-11-08T13:09:32.967Z"
   },
   {
    "duration": 221,
    "start_time": "2023-11-08T13:09:33.174Z"
   },
   {
    "duration": 24,
    "start_time": "2023-11-08T13:09:33.397Z"
   },
   {
    "duration": 408,
    "start_time": "2023-11-08T13:09:33.422Z"
   },
   {
    "duration": 6600,
    "start_time": "2023-11-08T13:09:33.832Z"
   },
   {
    "duration": 780,
    "start_time": "2023-11-08T13:09:40.434Z"
   },
   {
    "duration": 638,
    "start_time": "2023-11-08T13:09:41.216Z"
   },
   {
    "duration": 374,
    "start_time": "2023-11-08T13:09:41.856Z"
   },
   {
    "duration": 3,
    "start_time": "2023-11-08T13:09:42.232Z"
   },
   {
    "duration": 6,
    "start_time": "2023-11-08T13:09:42.246Z"
   },
   {
    "duration": 14,
    "start_time": "2023-11-08T13:09:42.256Z"
   },
   {
    "duration": 20,
    "start_time": "2023-11-08T13:09:42.272Z"
   },
   {
    "duration": 15,
    "start_time": "2023-11-08T13:09:42.294Z"
   },
   {
    "duration": 14,
    "start_time": "2023-11-08T13:09:42.312Z"
   },
   {
    "duration": 8,
    "start_time": "2023-11-08T13:09:42.328Z"
   },
   {
    "duration": 5,
    "start_time": "2023-11-08T13:09:42.347Z"
   },
   {
    "duration": 28,
    "start_time": "2023-11-08T13:09:42.354Z"
   },
   {
    "duration": 11,
    "start_time": "2023-11-08T13:09:42.384Z"
   },
   {
    "duration": 9,
    "start_time": "2023-11-08T13:09:42.397Z"
   },
   {
    "duration": 66,
    "start_time": "2023-11-08T13:09:42.408Z"
   },
   {
    "duration": 21,
    "start_time": "2023-11-08T13:10:30.165Z"
   },
   {
    "duration": 32,
    "start_time": "2023-11-08T13:10:39.768Z"
   },
   {
    "duration": 32,
    "start_time": "2023-11-08T13:11:09.689Z"
   },
   {
    "duration": 126,
    "start_time": "2023-11-08T13:12:47.305Z"
   },
   {
    "duration": 19,
    "start_time": "2023-11-08T13:14:11.214Z"
   },
   {
    "duration": 19,
    "start_time": "2023-11-08T13:14:22.271Z"
   },
   {
    "duration": 19,
    "start_time": "2023-11-08T13:14:24.964Z"
   },
   {
    "duration": 32,
    "start_time": "2023-11-08T13:14:28.290Z"
   },
   {
    "duration": 28,
    "start_time": "2023-11-08T13:21:06.566Z"
   },
   {
    "duration": 29,
    "start_time": "2023-11-08T13:21:13.001Z"
   },
   {
    "duration": 84,
    "start_time": "2023-11-08T13:22:19.074Z"
   },
   {
    "duration": 288,
    "start_time": "2023-11-08T13:28:06.858Z"
   },
   {
    "duration": 274,
    "start_time": "2023-11-08T13:28:10.445Z"
   },
   {
    "duration": 264,
    "start_time": "2023-11-08T13:28:13.482Z"
   },
   {
    "duration": 481,
    "start_time": "2023-11-08T13:28:17.940Z"
   },
   {
    "duration": 382,
    "start_time": "2023-11-08T13:28:32.157Z"
   },
   {
    "duration": 542,
    "start_time": "2023-11-08T13:28:37.453Z"
   },
   {
    "duration": 472,
    "start_time": "2023-11-08T13:28:59.020Z"
   },
   {
    "duration": 112,
    "start_time": "2023-11-08T13:29:16.499Z"
   },
   {
    "duration": 136,
    "start_time": "2023-11-08T13:29:44.626Z"
   },
   {
    "duration": 91,
    "start_time": "2023-11-08T13:30:06.967Z"
   },
   {
    "duration": 7,
    "start_time": "2023-11-08T13:30:54.080Z"
   },
   {
    "duration": 6,
    "start_time": "2023-11-08T13:30:56.206Z"
   },
   {
    "duration": 1460,
    "start_time": "2023-11-08T13:31:01.967Z"
   },
   {
    "duration": 104,
    "start_time": "2023-11-08T13:31:03.429Z"
   },
   {
    "duration": 29,
    "start_time": "2023-11-08T13:31:03.535Z"
   },
   {
    "duration": 15,
    "start_time": "2023-11-08T13:31:03.567Z"
   },
   {
    "duration": 11,
    "start_time": "2023-11-08T13:31:03.584Z"
   },
   {
    "duration": 64,
    "start_time": "2023-11-08T13:31:03.596Z"
   },
   {
    "duration": 6,
    "start_time": "2023-11-08T13:31:03.662Z"
   },
   {
    "duration": 30,
    "start_time": "2023-11-08T13:31:03.670Z"
   },
   {
    "duration": 13,
    "start_time": "2023-11-08T13:31:03.702Z"
   },
   {
    "duration": 5,
    "start_time": "2023-11-08T13:31:03.718Z"
   },
   {
    "duration": 23,
    "start_time": "2023-11-08T13:31:03.725Z"
   },
   {
    "duration": 24,
    "start_time": "2023-11-08T13:31:03.750Z"
   },
   {
    "duration": 12,
    "start_time": "2023-11-08T13:31:03.775Z"
   },
   {
    "duration": 1254,
    "start_time": "2023-11-08T13:31:03.789Z"
   },
   {
    "duration": 145,
    "start_time": "2023-11-08T13:31:05.044Z"
   },
   {
    "duration": 16,
    "start_time": "2023-11-08T13:31:05.192Z"
   },
   {
    "duration": 42,
    "start_time": "2023-11-08T13:31:05.210Z"
   },
   {
    "duration": 73,
    "start_time": "2023-11-08T13:31:05.254Z"
   },
   {
    "duration": 20,
    "start_time": "2023-11-08T13:31:05.329Z"
   },
   {
    "duration": 224,
    "start_time": "2023-11-08T13:31:05.352Z"
   },
   {
    "duration": 32,
    "start_time": "2023-11-08T13:31:05.579Z"
   },
   {
    "duration": 1849,
    "start_time": "2023-11-08T13:31:05.613Z"
   },
   {
    "duration": 421,
    "start_time": "2023-11-08T13:31:07.464Z"
   },
   {
    "duration": 229,
    "start_time": "2023-11-08T13:31:07.886Z"
   },
   {
    "duration": 233,
    "start_time": "2023-11-08T13:31:08.117Z"
   },
   {
    "duration": 169,
    "start_time": "2023-11-08T13:31:08.351Z"
   },
   {
    "duration": 174,
    "start_time": "2023-11-08T13:31:08.521Z"
   },
   {
    "duration": 150,
    "start_time": "2023-11-08T13:31:08.699Z"
   },
   {
    "duration": 257,
    "start_time": "2023-11-08T13:31:08.850Z"
   },
   {
    "duration": 204,
    "start_time": "2023-11-08T13:31:09.108Z"
   },
   {
    "duration": 218,
    "start_time": "2023-11-08T13:31:09.314Z"
   },
   {
    "duration": 30,
    "start_time": "2023-11-08T13:31:09.534Z"
   },
   {
    "duration": 530,
    "start_time": "2023-11-08T13:31:09.566Z"
   },
   {
    "duration": 6603,
    "start_time": "2023-11-08T13:31:10.098Z"
   },
   {
    "duration": 1094,
    "start_time": "2023-11-08T13:31:16.703Z"
   },
   {
    "duration": 351,
    "start_time": "2023-11-08T13:31:17.799Z"
   },
   {
    "duration": 382,
    "start_time": "2023-11-08T13:31:18.152Z"
   },
   {
    "duration": 12,
    "start_time": "2023-11-08T13:31:18.535Z"
   },
   {
    "duration": 16,
    "start_time": "2023-11-08T13:31:18.549Z"
   },
   {
    "duration": 18,
    "start_time": "2023-11-08T13:31:18.567Z"
   },
   {
    "duration": 8,
    "start_time": "2023-11-08T13:31:18.587Z"
   },
   {
    "duration": 26,
    "start_time": "2023-11-08T13:31:18.597Z"
   },
   {
    "duration": 12,
    "start_time": "2023-11-08T13:31:18.625Z"
   },
   {
    "duration": 10,
    "start_time": "2023-11-08T13:31:18.638Z"
   },
   {
    "duration": 6,
    "start_time": "2023-11-08T13:31:18.649Z"
   },
   {
    "duration": 23,
    "start_time": "2023-11-08T13:31:18.657Z"
   },
   {
    "duration": 24,
    "start_time": "2023-11-08T13:31:18.682Z"
   },
   {
    "duration": 12,
    "start_time": "2023-11-08T13:31:18.708Z"
   },
   {
    "duration": 61,
    "start_time": "2023-11-08T13:31:18.722Z"
   },
   {
    "duration": 7,
    "start_time": "2023-11-08T13:31:46.500Z"
   },
   {
    "duration": 250,
    "start_time": "2023-11-08T13:31:48.261Z"
   },
   {
    "duration": 30,
    "start_time": "2023-11-08T13:31:58.459Z"
   },
   {
    "duration": 10,
    "start_time": "2023-11-08T13:33:39.422Z"
   },
   {
    "duration": 6,
    "start_time": "2023-11-08T13:33:41.606Z"
   },
   {
    "duration": 5,
    "start_time": "2023-11-08T13:33:44.446Z"
   },
   {
    "duration": 13,
    "start_time": "2023-11-08T14:19:39.322Z"
   },
   {
    "duration": 178,
    "start_time": "2023-11-08T14:20:00.536Z"
   },
   {
    "duration": 15,
    "start_time": "2023-11-08T14:20:08.321Z"
   },
   {
    "duration": 24,
    "start_time": "2023-11-08T14:20:39.593Z"
   },
   {
    "duration": 22,
    "start_time": "2023-11-08T14:20:45.355Z"
   },
   {
    "duration": 18,
    "start_time": "2023-11-08T14:21:09.825Z"
   },
   {
    "duration": 36,
    "start_time": "2023-11-08T14:21:11.522Z"
   },
   {
    "duration": 1335,
    "start_time": "2023-11-08T14:21:21.233Z"
   },
   {
    "duration": 71,
    "start_time": "2023-11-08T14:21:22.570Z"
   },
   {
    "duration": 29,
    "start_time": "2023-11-08T14:21:22.642Z"
   },
   {
    "duration": 4,
    "start_time": "2023-11-08T14:21:22.673Z"
   },
   {
    "duration": 5,
    "start_time": "2023-11-08T14:21:22.680Z"
   },
   {
    "duration": 78,
    "start_time": "2023-11-08T14:21:22.687Z"
   },
   {
    "duration": 6,
    "start_time": "2023-11-08T14:21:22.767Z"
   },
   {
    "duration": 22,
    "start_time": "2023-11-08T14:21:22.775Z"
   },
   {
    "duration": 13,
    "start_time": "2023-11-08T14:21:22.798Z"
   },
   {
    "duration": 5,
    "start_time": "2023-11-08T14:21:22.813Z"
   },
   {
    "duration": 31,
    "start_time": "2023-11-08T14:21:22.820Z"
   },
   {
    "duration": 34,
    "start_time": "2023-11-08T14:21:22.853Z"
   },
   {
    "duration": 7,
    "start_time": "2023-11-08T14:21:22.888Z"
   },
   {
    "duration": 1338,
    "start_time": "2023-11-08T14:21:22.898Z"
   },
   {
    "duration": 133,
    "start_time": "2023-11-08T14:21:24.237Z"
   },
   {
    "duration": 13,
    "start_time": "2023-11-08T14:21:24.372Z"
   },
   {
    "duration": 35,
    "start_time": "2023-11-08T14:21:24.387Z"
   },
   {
    "duration": 67,
    "start_time": "2023-11-08T14:21:24.423Z"
   },
   {
    "duration": 4,
    "start_time": "2023-11-08T14:21:24.493Z"
   },
   {
    "duration": 197,
    "start_time": "2023-11-08T14:21:24.499Z"
   },
   {
    "duration": 24,
    "start_time": "2023-11-08T14:21:24.698Z"
   },
   {
    "duration": 1815,
    "start_time": "2023-11-08T14:21:24.724Z"
   },
   {
    "duration": 401,
    "start_time": "2023-11-08T14:21:26.546Z"
   },
   {
    "duration": 223,
    "start_time": "2023-11-08T14:21:26.949Z"
   },
   {
    "duration": 236,
    "start_time": "2023-11-08T14:21:27.174Z"
   },
   {
    "duration": 218,
    "start_time": "2023-11-08T14:21:27.412Z"
   },
   {
    "duration": 184,
    "start_time": "2023-11-08T14:21:27.632Z"
   },
   {
    "duration": 164,
    "start_time": "2023-11-08T14:21:27.818Z"
   },
   {
    "duration": 271,
    "start_time": "2023-11-08T14:21:27.984Z"
   },
   {
    "duration": 213,
    "start_time": "2023-11-08T14:21:28.258Z"
   },
   {
    "duration": 216,
    "start_time": "2023-11-08T14:21:28.473Z"
   },
   {
    "duration": 25,
    "start_time": "2023-11-08T14:21:28.691Z"
   },
   {
    "duration": 515,
    "start_time": "2023-11-08T14:21:28.717Z"
   },
   {
    "duration": 6421,
    "start_time": "2023-11-08T14:21:29.233Z"
   },
   {
    "duration": 1060,
    "start_time": "2023-11-08T14:21:35.655Z"
   },
   {
    "duration": 358,
    "start_time": "2023-11-08T14:21:36.717Z"
   },
   {
    "duration": 376,
    "start_time": "2023-11-08T14:21:37.077Z"
   },
   {
    "duration": 3,
    "start_time": "2023-11-08T14:21:37.454Z"
   },
   {
    "duration": 20,
    "start_time": "2023-11-08T14:21:37.459Z"
   },
   {
    "duration": 9,
    "start_time": "2023-11-08T14:21:37.481Z"
   },
   {
    "duration": 13,
    "start_time": "2023-11-08T14:21:37.495Z"
   },
   {
    "duration": 19,
    "start_time": "2023-11-08T14:21:37.510Z"
   },
   {
    "duration": 20,
    "start_time": "2023-11-08T14:21:37.531Z"
   },
   {
    "duration": 9,
    "start_time": "2023-11-08T14:21:37.553Z"
   },
   {
    "duration": 6,
    "start_time": "2023-11-08T14:21:37.564Z"
   },
   {
    "duration": 19,
    "start_time": "2023-11-08T14:21:37.572Z"
   },
   {
    "duration": 11,
    "start_time": "2023-11-08T14:21:37.593Z"
   },
   {
    "duration": 45,
    "start_time": "2023-11-08T14:21:37.606Z"
   },
   {
    "duration": 60,
    "start_time": "2023-11-08T14:21:37.654Z"
   },
   {
    "duration": 68,
    "start_time": "2023-11-08T14:21:48.442Z"
   },
   {
    "duration": 16,
    "start_time": "2023-11-08T14:21:51.418Z"
   },
   {
    "duration": 1452,
    "start_time": "2023-11-08T14:22:27.648Z"
   },
   {
    "duration": 70,
    "start_time": "2023-11-08T14:22:29.101Z"
   },
   {
    "duration": 26,
    "start_time": "2023-11-08T14:22:29.173Z"
   },
   {
    "duration": 3,
    "start_time": "2023-11-08T14:22:29.202Z"
   },
   {
    "duration": 8,
    "start_time": "2023-11-08T14:22:29.206Z"
   },
   {
    "duration": 68,
    "start_time": "2023-11-08T14:22:29.215Z"
   },
   {
    "duration": 6,
    "start_time": "2023-11-08T14:22:29.284Z"
   },
   {
    "duration": 19,
    "start_time": "2023-11-08T14:22:29.292Z"
   },
   {
    "duration": 34,
    "start_time": "2023-11-08T14:22:29.313Z"
   },
   {
    "duration": 6,
    "start_time": "2023-11-08T14:22:29.350Z"
   },
   {
    "duration": 7,
    "start_time": "2023-11-08T14:22:29.357Z"
   },
   {
    "duration": 16,
    "start_time": "2023-11-08T14:22:29.366Z"
   },
   {
    "duration": 6,
    "start_time": "2023-11-08T14:22:29.384Z"
   },
   {
    "duration": 1286,
    "start_time": "2023-11-08T14:22:29.392Z"
   },
   {
    "duration": 158,
    "start_time": "2023-11-08T14:22:30.680Z"
   },
   {
    "duration": 15,
    "start_time": "2023-11-08T14:22:30.840Z"
   },
   {
    "duration": 61,
    "start_time": "2023-11-08T14:22:30.856Z"
   },
   {
    "duration": 80,
    "start_time": "2023-11-08T14:22:30.918Z"
   },
   {
    "duration": 4,
    "start_time": "2023-11-08T14:22:31.000Z"
   },
   {
    "duration": 210,
    "start_time": "2023-11-08T14:22:31.007Z"
   },
   {
    "duration": 28,
    "start_time": "2023-11-08T14:22:31.219Z"
   },
   {
    "duration": 1771,
    "start_time": "2023-11-08T14:22:31.249Z"
   },
   {
    "duration": 444,
    "start_time": "2023-11-08T14:22:33.022Z"
   },
   {
    "duration": 216,
    "start_time": "2023-11-08T14:22:33.468Z"
   },
   {
    "duration": 232,
    "start_time": "2023-11-08T14:22:33.687Z"
   },
   {
    "duration": 166,
    "start_time": "2023-11-08T14:22:33.921Z"
   },
   {
    "duration": 188,
    "start_time": "2023-11-08T14:22:34.090Z"
   },
   {
    "duration": 158,
    "start_time": "2023-11-08T14:22:34.282Z"
   },
   {
    "duration": 295,
    "start_time": "2023-11-08T14:22:34.441Z"
   },
   {
    "duration": 213,
    "start_time": "2023-11-08T14:22:34.738Z"
   },
   {
    "duration": 221,
    "start_time": "2023-11-08T14:22:34.953Z"
   },
   {
    "duration": 23,
    "start_time": "2023-11-08T14:22:35.176Z"
   },
   {
    "duration": 819,
    "start_time": "2023-11-08T14:22:35.201Z"
   },
   {
    "duration": 6625,
    "start_time": "2023-11-08T14:22:36.022Z"
   },
   {
    "duration": 1060,
    "start_time": "2023-11-08T14:22:42.649Z"
   },
   {
    "duration": 361,
    "start_time": "2023-11-08T14:22:43.711Z"
   },
   {
    "duration": 377,
    "start_time": "2023-11-08T14:22:44.074Z"
   },
   {
    "duration": 4,
    "start_time": "2023-11-08T14:22:44.453Z"
   },
   {
    "duration": 37,
    "start_time": "2023-11-08T14:22:44.458Z"
   },
   {
    "duration": 32,
    "start_time": "2023-11-08T14:22:44.497Z"
   },
   {
    "duration": 40,
    "start_time": "2023-11-08T14:22:44.531Z"
   },
   {
    "duration": 52,
    "start_time": "2023-11-08T14:22:44.573Z"
   },
   {
    "duration": 18,
    "start_time": "2023-11-08T14:22:44.627Z"
   },
   {
    "duration": 5,
    "start_time": "2023-11-08T14:22:44.646Z"
   },
   {
    "duration": 16,
    "start_time": "2023-11-08T14:22:44.653Z"
   },
   {
    "duration": 39,
    "start_time": "2023-11-08T14:22:44.671Z"
   },
   {
    "duration": 17,
    "start_time": "2023-11-08T14:22:44.712Z"
   },
   {
    "duration": 11,
    "start_time": "2023-11-08T14:22:44.731Z"
   },
   {
    "duration": 48,
    "start_time": "2023-11-08T14:22:44.744Z"
   },
   {
    "duration": 112,
    "start_time": "2023-11-08T14:28:38.900Z"
   },
   {
    "duration": 124,
    "start_time": "2023-11-08T14:28:43.140Z"
   },
   {
    "duration": 117,
    "start_time": "2023-11-08T14:28:48.637Z"
   },
   {
    "duration": 10,
    "start_time": "2023-11-08T14:28:57.837Z"
   },
   {
    "duration": 100,
    "start_time": "2023-11-08T14:29:01.708Z"
   },
   {
    "duration": 98,
    "start_time": "2023-11-08T14:29:21.750Z"
   },
   {
    "duration": 104,
    "start_time": "2023-11-08T14:29:54.317Z"
   },
   {
    "duration": 94,
    "start_time": "2023-11-08T14:30:05.734Z"
   },
   {
    "duration": 108,
    "start_time": "2023-11-08T14:31:01.798Z"
   },
   {
    "duration": 100,
    "start_time": "2023-11-08T14:31:16.735Z"
   },
   {
    "duration": 106,
    "start_time": "2023-11-08T14:31:18.423Z"
   },
   {
    "duration": 101,
    "start_time": "2023-11-08T14:31:25.734Z"
   },
   {
    "duration": 116,
    "start_time": "2023-11-08T14:31:28.094Z"
   },
   {
    "duration": 2521,
    "start_time": "2023-11-08T14:31:34.230Z"
   },
   {
    "duration": 114,
    "start_time": "2023-11-08T14:31:38.143Z"
   },
   {
    "duration": 112,
    "start_time": "2023-11-08T14:35:12.896Z"
   },
   {
    "duration": 34,
    "start_time": "2023-11-08T14:36:11.553Z"
   },
   {
    "duration": 14,
    "start_time": "2023-11-08T14:36:21.169Z"
   },
   {
    "duration": 71,
    "start_time": "2023-11-08T14:38:31.211Z"
   },
   {
    "duration": 4,
    "start_time": "2023-11-08T14:39:02.362Z"
   },
   {
    "duration": 4,
    "start_time": "2023-11-08T14:39:19.498Z"
   },
   {
    "duration": 5,
    "start_time": "2023-11-08T14:39:21.235Z"
   },
   {
    "duration": 5,
    "start_time": "2023-11-08T14:39:27.010Z"
   },
   {
    "duration": 4,
    "start_time": "2023-11-08T14:39:56.202Z"
   },
   {
    "duration": 5,
    "start_time": "2023-11-08T14:39:58.231Z"
   },
   {
    "duration": 5,
    "start_time": "2023-11-08T14:40:22.434Z"
   },
   {
    "duration": 23,
    "start_time": "2023-11-08T14:41:15.368Z"
   },
   {
    "duration": 16,
    "start_time": "2023-11-08T14:41:23.587Z"
   },
   {
    "duration": 11,
    "start_time": "2023-11-08T14:41:29.779Z"
   },
   {
    "duration": 16,
    "start_time": "2023-11-08T14:41:39.972Z"
   },
   {
    "duration": 96,
    "start_time": "2023-11-08T14:42:22.109Z"
   },
   {
    "duration": 6,
    "start_time": "2023-11-08T14:42:35.516Z"
   },
   {
    "duration": 6,
    "start_time": "2023-11-08T14:42:48.820Z"
   },
   {
    "duration": 16,
    "start_time": "2023-11-08T14:42:53.933Z"
   },
   {
    "duration": 5,
    "start_time": "2023-11-08T14:43:30.420Z"
   },
   {
    "duration": 6,
    "start_time": "2023-11-08T14:43:35.709Z"
   },
   {
    "duration": 5,
    "start_time": "2023-11-08T14:43:37.348Z"
   },
   {
    "duration": 1417,
    "start_time": "2023-11-08T14:43:44.714Z"
   },
   {
    "duration": 68,
    "start_time": "2023-11-08T14:43:46.134Z"
   },
   {
    "duration": 28,
    "start_time": "2023-11-08T14:43:46.204Z"
   },
   {
    "duration": 3,
    "start_time": "2023-11-08T14:43:46.234Z"
   },
   {
    "duration": 12,
    "start_time": "2023-11-08T14:43:46.239Z"
   },
   {
    "duration": 71,
    "start_time": "2023-11-08T14:43:46.252Z"
   },
   {
    "duration": 6,
    "start_time": "2023-11-08T14:43:46.325Z"
   },
   {
    "duration": 37,
    "start_time": "2023-11-08T14:43:46.332Z"
   },
   {
    "duration": 22,
    "start_time": "2023-11-08T14:43:46.371Z"
   },
   {
    "duration": 13,
    "start_time": "2023-11-08T14:43:46.394Z"
   },
   {
    "duration": 32,
    "start_time": "2023-11-08T14:43:46.409Z"
   },
   {
    "duration": 20,
    "start_time": "2023-11-08T14:43:46.443Z"
   },
   {
    "duration": 8,
    "start_time": "2023-11-08T14:43:46.466Z"
   },
   {
    "duration": 1315,
    "start_time": "2023-11-08T14:43:46.477Z"
   },
   {
    "duration": 136,
    "start_time": "2023-11-08T14:43:47.795Z"
   },
   {
    "duration": 129,
    "start_time": "2023-11-08T14:43:47.933Z"
   },
   {
    "duration": 119,
    "start_time": "2023-11-08T14:43:48.064Z"
   },
   {
    "duration": 117,
    "start_time": "2023-11-08T14:43:48.185Z"
   },
   {
    "duration": 115,
    "start_time": "2023-11-08T14:43:48.304Z"
   },
   {
    "duration": 6,
    "start_time": "2023-11-08T14:43:48.420Z"
   },
   {
    "duration": 20,
    "start_time": "2023-11-08T14:43:48.427Z"
   },
   {
    "duration": 18,
    "start_time": "2023-11-08T14:43:48.449Z"
   },
   {
    "duration": 422,
    "start_time": "2023-11-08T14:43:48.469Z"
   },
   {
    "duration": 0,
    "start_time": "2023-11-08T14:43:48.893Z"
   },
   {
    "duration": 0,
    "start_time": "2023-11-08T14:43:48.895Z"
   },
   {
    "duration": 0,
    "start_time": "2023-11-08T14:43:48.896Z"
   },
   {
    "duration": 0,
    "start_time": "2023-11-08T14:43:48.897Z"
   },
   {
    "duration": 0,
    "start_time": "2023-11-08T14:43:48.899Z"
   },
   {
    "duration": 0,
    "start_time": "2023-11-08T14:43:48.900Z"
   },
   {
    "duration": 0,
    "start_time": "2023-11-08T14:43:48.904Z"
   },
   {
    "duration": 0,
    "start_time": "2023-11-08T14:43:48.905Z"
   },
   {
    "duration": 0,
    "start_time": "2023-11-08T14:43:48.907Z"
   },
   {
    "duration": 0,
    "start_time": "2023-11-08T14:43:48.909Z"
   },
   {
    "duration": 0,
    "start_time": "2023-11-08T14:43:48.911Z"
   },
   {
    "duration": 0,
    "start_time": "2023-11-08T14:43:48.912Z"
   },
   {
    "duration": 0,
    "start_time": "2023-11-08T14:43:48.914Z"
   },
   {
    "duration": 0,
    "start_time": "2023-11-08T14:43:48.916Z"
   },
   {
    "duration": 0,
    "start_time": "2023-11-08T14:43:48.917Z"
   },
   {
    "duration": 0,
    "start_time": "2023-11-08T14:43:48.918Z"
   },
   {
    "duration": 0,
    "start_time": "2023-11-08T14:43:48.920Z"
   },
   {
    "duration": 0,
    "start_time": "2023-11-08T14:43:48.921Z"
   },
   {
    "duration": 0,
    "start_time": "2023-11-08T14:43:48.923Z"
   },
   {
    "duration": 0,
    "start_time": "2023-11-08T14:43:48.925Z"
   },
   {
    "duration": 0,
    "start_time": "2023-11-08T14:43:48.926Z"
   },
   {
    "duration": 0,
    "start_time": "2023-11-08T14:43:48.928Z"
   },
   {
    "duration": 0,
    "start_time": "2023-11-08T14:43:48.930Z"
   },
   {
    "duration": 0,
    "start_time": "2023-11-08T14:43:48.946Z"
   },
   {
    "duration": 0,
    "start_time": "2023-11-08T14:43:48.948Z"
   },
   {
    "duration": 0,
    "start_time": "2023-11-08T14:43:48.950Z"
   },
   {
    "duration": 0,
    "start_time": "2023-11-08T14:43:48.951Z"
   },
   {
    "duration": 0,
    "start_time": "2023-11-08T14:43:48.953Z"
   },
   {
    "duration": 0,
    "start_time": "2023-11-08T14:43:48.956Z"
   },
   {
    "duration": 0,
    "start_time": "2023-11-08T14:43:48.957Z"
   },
   {
    "duration": 0,
    "start_time": "2023-11-08T14:43:48.958Z"
   },
   {
    "duration": 0,
    "start_time": "2023-11-08T14:43:48.959Z"
   },
   {
    "duration": 4,
    "start_time": "2023-11-08T14:44:45.093Z"
   },
   {
    "duration": 9,
    "start_time": "2023-11-08T14:44:46.973Z"
   },
   {
    "duration": 315,
    "start_time": "2023-11-08T14:44:48.628Z"
   },
   {
    "duration": 7,
    "start_time": "2023-11-08T14:45:43.078Z"
   },
   {
    "duration": 10,
    "start_time": "2023-11-08T14:45:45.174Z"
   },
   {
    "duration": 418,
    "start_time": "2023-11-08T14:45:46.741Z"
   },
   {
    "duration": 1401,
    "start_time": "2023-11-08T14:45:56.457Z"
   },
   {
    "duration": 86,
    "start_time": "2023-11-08T14:45:57.860Z"
   },
   {
    "duration": 28,
    "start_time": "2023-11-08T14:45:57.947Z"
   },
   {
    "duration": 3,
    "start_time": "2023-11-08T14:45:57.978Z"
   },
   {
    "duration": 5,
    "start_time": "2023-11-08T14:45:57.983Z"
   },
   {
    "duration": 77,
    "start_time": "2023-11-08T14:45:57.990Z"
   },
   {
    "duration": 6,
    "start_time": "2023-11-08T14:45:58.069Z"
   },
   {
    "duration": 19,
    "start_time": "2023-11-08T14:45:58.077Z"
   },
   {
    "duration": 14,
    "start_time": "2023-11-08T14:45:58.097Z"
   },
   {
    "duration": 34,
    "start_time": "2023-11-08T14:45:58.114Z"
   },
   {
    "duration": 20,
    "start_time": "2023-11-08T14:45:58.150Z"
   },
   {
    "duration": 23,
    "start_time": "2023-11-08T14:45:58.172Z"
   },
   {
    "duration": 7,
    "start_time": "2023-11-08T14:45:58.197Z"
   },
   {
    "duration": 1276,
    "start_time": "2023-11-08T14:45:58.206Z"
   },
   {
    "duration": 138,
    "start_time": "2023-11-08T14:45:59.484Z"
   },
   {
    "duration": 124,
    "start_time": "2023-11-08T14:45:59.624Z"
   },
   {
    "duration": 107,
    "start_time": "2023-11-08T14:45:59.750Z"
   },
   {
    "duration": 118,
    "start_time": "2023-11-08T14:45:59.859Z"
   },
   {
    "duration": 124,
    "start_time": "2023-11-08T14:45:59.979Z"
   },
   {
    "duration": 7,
    "start_time": "2023-11-08T14:46:00.105Z"
   },
   {
    "duration": 38,
    "start_time": "2023-11-08T14:46:00.114Z"
   },
   {
    "duration": 46,
    "start_time": "2023-11-08T14:46:00.154Z"
   },
   {
    "duration": 54,
    "start_time": "2023-11-08T14:46:00.203Z"
   },
   {
    "duration": 72,
    "start_time": "2023-11-08T14:46:00.259Z"
   },
   {
    "duration": 5,
    "start_time": "2023-11-08T14:46:00.347Z"
   },
   {
    "duration": 223,
    "start_time": "2023-11-08T14:46:00.354Z"
   },
   {
    "duration": 24,
    "start_time": "2023-11-08T14:46:00.579Z"
   },
   {
    "duration": 1758,
    "start_time": "2023-11-08T14:46:00.607Z"
   },
   {
    "duration": 392,
    "start_time": "2023-11-08T14:46:02.367Z"
   },
   {
    "duration": 208,
    "start_time": "2023-11-08T14:46:02.761Z"
   },
   {
    "duration": 322,
    "start_time": "2023-11-08T14:46:02.970Z"
   },
   {
    "duration": 197,
    "start_time": "2023-11-08T14:46:03.294Z"
   },
   {
    "duration": 178,
    "start_time": "2023-11-08T14:46:03.492Z"
   },
   {
    "duration": 148,
    "start_time": "2023-11-08T14:46:03.672Z"
   },
   {
    "duration": 170,
    "start_time": "2023-11-08T14:46:03.822Z"
   },
   {
    "duration": 217,
    "start_time": "2023-11-08T14:46:03.994Z"
   },
   {
    "duration": 216,
    "start_time": "2023-11-08T14:46:04.213Z"
   },
   {
    "duration": 34,
    "start_time": "2023-11-08T14:46:04.431Z"
   },
   {
    "duration": 489,
    "start_time": "2023-11-08T14:46:04.467Z"
   },
   {
    "duration": 6500,
    "start_time": "2023-11-08T14:46:04.958Z"
   },
   {
    "duration": 1077,
    "start_time": "2023-11-08T14:46:11.461Z"
   },
   {
    "duration": 374,
    "start_time": "2023-11-08T14:46:12.541Z"
   },
   {
    "duration": 367,
    "start_time": "2023-11-08T14:46:12.917Z"
   },
   {
    "duration": 2,
    "start_time": "2023-11-08T14:46:13.286Z"
   },
   {
    "duration": 20,
    "start_time": "2023-11-08T14:46:13.290Z"
   },
   {
    "duration": 22,
    "start_time": "2023-11-08T14:46:13.312Z"
   },
   {
    "duration": 30,
    "start_time": "2023-11-08T14:46:13.336Z"
   },
   {
    "duration": 34,
    "start_time": "2023-11-08T14:46:13.368Z"
   },
   {
    "duration": 17,
    "start_time": "2023-11-08T14:46:13.404Z"
   },
   {
    "duration": 9,
    "start_time": "2023-11-08T14:46:13.424Z"
   },
   {
    "duration": 29,
    "start_time": "2023-11-08T14:46:13.435Z"
   },
   {
    "duration": 28,
    "start_time": "2023-11-08T14:46:13.466Z"
   },
   {
    "duration": 24,
    "start_time": "2023-11-08T14:46:13.495Z"
   },
   {
    "duration": 38,
    "start_time": "2023-11-08T14:46:13.520Z"
   },
   {
    "duration": 48,
    "start_time": "2023-11-08T14:46:13.560Z"
   },
   {
    "duration": 124,
    "start_time": "2023-11-08T14:52:11.978Z"
   },
   {
    "duration": 3494,
    "start_time": "2023-11-08T14:53:51.242Z"
   },
   {
    "duration": 2518,
    "start_time": "2023-11-08T14:54:03.754Z"
   },
   {
    "duration": 38,
    "start_time": "2023-11-08T14:54:09.771Z"
   },
   {
    "duration": 290,
    "start_time": "2023-11-08T14:54:53.515Z"
   },
   {
    "duration": 46,
    "start_time": "2023-11-08T15:21:07.812Z"
   },
   {
    "duration": 40,
    "start_time": "2023-11-08T15:21:38.357Z"
   },
   {
    "duration": 21,
    "start_time": "2023-11-08T15:22:24.525Z"
   },
   {
    "duration": 1937,
    "start_time": "2023-11-08T15:31:31.043Z"
   },
   {
    "duration": 30,
    "start_time": "2023-11-08T15:31:46.140Z"
   },
   {
    "duration": 20,
    "start_time": "2023-11-08T15:39:01.223Z"
   },
   {
    "duration": 520,
    "start_time": "2023-11-08T15:41:59.703Z"
   },
   {
    "duration": 217,
    "start_time": "2023-11-08T15:51:32.589Z"
   },
   {
    "duration": 4,
    "start_time": "2023-11-08T15:51:56.366Z"
   },
   {
    "duration": 5,
    "start_time": "2023-11-08T15:51:58.325Z"
   },
   {
    "duration": 10,
    "start_time": "2023-11-08T15:52:04.493Z"
   },
   {
    "duration": 260,
    "start_time": "2023-11-08T15:52:08.516Z"
   },
   {
    "duration": 5,
    "start_time": "2023-11-08T15:53:47.607Z"
   },
   {
    "duration": 4,
    "start_time": "2023-11-08T15:53:55.519Z"
   },
   {
    "duration": 101,
    "start_time": "2023-11-08T15:54:01.110Z"
   },
   {
    "duration": 252,
    "start_time": "2023-11-08T15:54:06.454Z"
   },
   {
    "duration": 87,
    "start_time": "2023-11-08T15:54:16.471Z"
   },
   {
    "duration": 5,
    "start_time": "2023-11-08T15:54:21.415Z"
   },
   {
    "duration": 264,
    "start_time": "2023-11-08T15:54:24.414Z"
   },
   {
    "duration": 66,
    "start_time": "2023-11-08T16:04:45.330Z"
   },
   {
    "duration": 5,
    "start_time": "2023-11-08T16:05:00.252Z"
   },
   {
    "duration": 6,
    "start_time": "2023-11-08T16:05:02.037Z"
   },
   {
    "duration": 1554,
    "start_time": "2023-11-08T16:05:07.456Z"
   },
   {
    "duration": 83,
    "start_time": "2023-11-08T16:05:09.013Z"
   },
   {
    "duration": 31,
    "start_time": "2023-11-08T16:05:09.097Z"
   },
   {
    "duration": 4,
    "start_time": "2023-11-08T16:05:09.131Z"
   },
   {
    "duration": 9,
    "start_time": "2023-11-08T16:05:09.136Z"
   },
   {
    "duration": 74,
    "start_time": "2023-11-08T16:05:09.147Z"
   },
   {
    "duration": 7,
    "start_time": "2023-11-08T16:05:09.222Z"
   },
   {
    "duration": 38,
    "start_time": "2023-11-08T16:05:09.231Z"
   },
   {
    "duration": 28,
    "start_time": "2023-11-08T16:05:09.270Z"
   },
   {
    "duration": 5,
    "start_time": "2023-11-08T16:05:09.301Z"
   },
   {
    "duration": 8,
    "start_time": "2023-11-08T16:05:09.308Z"
   },
   {
    "duration": 23,
    "start_time": "2023-11-08T16:05:09.318Z"
   },
   {
    "duration": 9,
    "start_time": "2023-11-08T16:05:09.343Z"
   },
   {
    "duration": 1394,
    "start_time": "2023-11-08T16:05:09.354Z"
   },
   {
    "duration": 141,
    "start_time": "2023-11-08T16:05:10.750Z"
   },
   {
    "duration": 140,
    "start_time": "2023-11-08T16:05:10.892Z"
   },
   {
    "duration": 101,
    "start_time": "2023-11-08T16:05:11.034Z"
   },
   {
    "duration": 130,
    "start_time": "2023-11-08T16:05:11.137Z"
   },
   {
    "duration": 121,
    "start_time": "2023-11-08T16:05:11.269Z"
   },
   {
    "duration": 7,
    "start_time": "2023-11-08T16:05:11.392Z"
   },
   {
    "duration": 6,
    "start_time": "2023-11-08T16:05:11.401Z"
   },
   {
    "duration": 15,
    "start_time": "2023-11-08T16:05:11.409Z"
   },
   {
    "duration": 42,
    "start_time": "2023-11-08T16:05:11.426Z"
   },
   {
    "duration": 81,
    "start_time": "2023-11-08T16:05:11.470Z"
   },
   {
    "duration": 5,
    "start_time": "2023-11-08T16:05:11.553Z"
   },
   {
    "duration": 210,
    "start_time": "2023-11-08T16:05:11.559Z"
   },
   {
    "duration": 19,
    "start_time": "2023-11-08T16:05:11.772Z"
   },
   {
    "duration": 1856,
    "start_time": "2023-11-08T16:05:11.794Z"
   },
   {
    "duration": 418,
    "start_time": "2023-11-08T16:05:13.652Z"
   },
   {
    "duration": 211,
    "start_time": "2023-11-08T16:05:14.072Z"
   },
   {
    "duration": 324,
    "start_time": "2023-11-08T16:05:14.285Z"
   },
   {
    "duration": 166,
    "start_time": "2023-11-08T16:05:14.611Z"
   },
   {
    "duration": 185,
    "start_time": "2023-11-08T16:05:14.779Z"
   },
   {
    "duration": 156,
    "start_time": "2023-11-08T16:05:14.966Z"
   },
   {
    "duration": 228,
    "start_time": "2023-11-08T16:05:15.123Z"
   },
   {
    "duration": 236,
    "start_time": "2023-11-08T16:05:15.353Z"
   },
   {
    "duration": 226,
    "start_time": "2023-11-08T16:05:15.591Z"
   },
   {
    "duration": 5,
    "start_time": "2023-11-08T16:05:15.819Z"
   },
   {
    "duration": 270,
    "start_time": "2023-11-08T16:05:15.826Z"
   },
   {
    "duration": 29,
    "start_time": "2023-11-08T16:05:16.099Z"
   },
   {
    "duration": 640,
    "start_time": "2023-11-08T16:05:16.131Z"
   },
   {
    "duration": 6657,
    "start_time": "2023-11-08T16:05:16.773Z"
   },
   {
    "duration": 795,
    "start_time": "2023-11-08T16:05:23.432Z"
   },
   {
    "duration": 364,
    "start_time": "2023-11-08T16:05:24.229Z"
   },
   {
    "duration": 370,
    "start_time": "2023-11-08T16:05:24.594Z"
   },
   {
    "duration": 2,
    "start_time": "2023-11-08T16:05:24.966Z"
   },
   {
    "duration": 14,
    "start_time": "2023-11-08T16:05:24.969Z"
   },
   {
    "duration": 10,
    "start_time": "2023-11-08T16:05:24.985Z"
   },
   {
    "duration": 5,
    "start_time": "2023-11-08T16:05:24.997Z"
   },
   {
    "duration": 14,
    "start_time": "2023-11-08T16:05:25.004Z"
   },
   {
    "duration": 27,
    "start_time": "2023-11-08T16:05:25.020Z"
   },
   {
    "duration": 5,
    "start_time": "2023-11-08T16:05:25.049Z"
   },
   {
    "duration": 16,
    "start_time": "2023-11-08T16:05:25.056Z"
   },
   {
    "duration": 41,
    "start_time": "2023-11-08T16:05:25.073Z"
   },
   {
    "duration": 10,
    "start_time": "2023-11-08T16:05:25.116Z"
   },
   {
    "duration": 11,
    "start_time": "2023-11-08T16:05:25.128Z"
   },
   {
    "duration": 54,
    "start_time": "2023-11-08T16:05:25.140Z"
   },
   {
    "duration": 118,
    "start_time": "2023-11-08T16:05:57.325Z"
   },
   {
    "duration": 10,
    "start_time": "2023-11-08T16:06:01.398Z"
   },
   {
    "duration": 10,
    "start_time": "2023-11-08T16:06:04.933Z"
   },
   {
    "duration": 11,
    "start_time": "2023-11-08T16:06:17.534Z"
   },
   {
    "duration": 13,
    "start_time": "2023-11-08T16:06:49.935Z"
   },
   {
    "duration": 11,
    "start_time": "2023-11-08T16:07:04.362Z"
   },
   {
    "duration": 11,
    "start_time": "2023-11-08T16:07:13.694Z"
   },
   {
    "duration": 151,
    "start_time": "2023-11-08T16:07:28.638Z"
   },
   {
    "duration": 179,
    "start_time": "2023-11-08T16:07:50.039Z"
   },
   {
    "duration": 156,
    "start_time": "2023-11-08T16:08:06.511Z"
   },
   {
    "duration": 11,
    "start_time": "2023-11-08T16:08:25.480Z"
   },
   {
    "duration": 11,
    "start_time": "2023-11-08T16:09:01.887Z"
   },
   {
    "duration": 144,
    "start_time": "2023-11-08T16:09:04.602Z"
   },
   {
    "duration": 11,
    "start_time": "2023-11-08T16:09:22.377Z"
   },
   {
    "duration": 171,
    "start_time": "2023-11-08T16:09:26.056Z"
   },
   {
    "duration": 5,
    "start_time": "2023-11-08T16:11:10.585Z"
   },
   {
    "duration": 12,
    "start_time": "2023-11-08T16:11:16.682Z"
   },
   {
    "duration": 10,
    "start_time": "2023-11-08T16:11:23.556Z"
   },
   {
    "duration": 8,
    "start_time": "2023-11-08T16:11:41.922Z"
   },
   {
    "duration": 9,
    "start_time": "2023-11-08T16:11:49.153Z"
   },
   {
    "duration": 124,
    "start_time": "2023-11-08T16:19:32.918Z"
   },
   {
    "duration": 9,
    "start_time": "2023-11-08T16:20:02.575Z"
   },
   {
    "duration": 134,
    "start_time": "2023-11-08T16:20:20.257Z"
   },
   {
    "duration": 156,
    "start_time": "2023-11-08T16:20:27.624Z"
   },
   {
    "duration": 157,
    "start_time": "2023-11-08T16:22:27.042Z"
   },
   {
    "duration": 25,
    "start_time": "2023-11-08T16:22:56.545Z"
   },
   {
    "duration": 1772,
    "start_time": "2023-11-08T16:23:08.055Z"
   },
   {
    "duration": 140,
    "start_time": "2023-11-08T16:23:17.888Z"
   },
   {
    "duration": 270,
    "start_time": "2023-11-08T16:23:37.420Z"
   },
   {
    "duration": 236,
    "start_time": "2023-11-08T16:23:44.344Z"
   },
   {
    "duration": 243,
    "start_time": "2023-11-08T16:23:50.834Z"
   },
   {
    "duration": 254,
    "start_time": "2023-11-08T16:24:02.921Z"
   },
   {
    "duration": 241,
    "start_time": "2023-11-08T16:30:30.628Z"
   },
   {
    "duration": 8,
    "start_time": "2023-11-08T16:32:50.919Z"
   },
   {
    "duration": 10,
    "start_time": "2023-11-08T16:33:09.728Z"
   },
   {
    "duration": 9,
    "start_time": "2023-11-08T16:34:12.272Z"
   },
   {
    "duration": 241,
    "start_time": "2023-11-08T16:34:32.248Z"
   },
   {
    "duration": 7,
    "start_time": "2023-11-08T16:34:34.846Z"
   },
   {
    "duration": 8,
    "start_time": "2023-11-08T16:34:56.439Z"
   },
   {
    "duration": 221,
    "start_time": "2023-11-08T16:34:58.863Z"
   },
   {
    "duration": 5,
    "start_time": "2023-11-08T16:35:22.183Z"
   },
   {
    "duration": 9,
    "start_time": "2023-11-08T16:35:43.415Z"
   },
   {
    "duration": 6,
    "start_time": "2023-11-08T16:35:53.056Z"
   },
   {
    "duration": 5,
    "start_time": "2023-11-08T16:35:57.592Z"
   },
   {
    "duration": 7,
    "start_time": "2023-11-08T16:35:59.991Z"
   },
   {
    "duration": 7,
    "start_time": "2023-11-08T16:36:03.344Z"
   },
   {
    "duration": 6,
    "start_time": "2023-11-08T16:36:11.801Z"
   },
   {
    "duration": 7,
    "start_time": "2023-11-08T16:37:08.048Z"
   },
   {
    "duration": 187,
    "start_time": "2023-11-08T16:37:10.489Z"
   },
   {
    "duration": 69,
    "start_time": "2023-11-08T16:37:33.505Z"
   },
   {
    "duration": 581,
    "start_time": "2023-11-08T16:37:50.714Z"
   },
   {
    "duration": 1347,
    "start_time": "2023-11-08T16:38:33.831Z"
   },
   {
    "duration": 84,
    "start_time": "2023-11-08T16:38:35.180Z"
   },
   {
    "duration": 34,
    "start_time": "2023-11-08T16:38:35.266Z"
   },
   {
    "duration": 4,
    "start_time": "2023-11-08T16:38:35.303Z"
   },
   {
    "duration": 33,
    "start_time": "2023-11-08T16:38:35.309Z"
   },
   {
    "duration": 82,
    "start_time": "2023-11-08T16:38:35.344Z"
   },
   {
    "duration": 6,
    "start_time": "2023-11-08T16:38:35.427Z"
   },
   {
    "duration": 27,
    "start_time": "2023-11-08T16:38:35.435Z"
   },
   {
    "duration": 38,
    "start_time": "2023-11-08T16:38:35.463Z"
   },
   {
    "duration": 8,
    "start_time": "2023-11-08T16:38:35.503Z"
   },
   {
    "duration": 35,
    "start_time": "2023-11-08T16:38:35.513Z"
   },
   {
    "duration": 39,
    "start_time": "2023-11-08T16:38:35.550Z"
   },
   {
    "duration": 8,
    "start_time": "2023-11-08T16:38:35.591Z"
   },
   {
    "duration": 1263,
    "start_time": "2023-11-08T16:38:35.601Z"
   },
   {
    "duration": 146,
    "start_time": "2023-11-08T16:38:36.866Z"
   },
   {
    "duration": 133,
    "start_time": "2023-11-08T16:38:37.014Z"
   },
   {
    "duration": 114,
    "start_time": "2023-11-08T16:38:37.149Z"
   },
   {
    "duration": 117,
    "start_time": "2023-11-08T16:38:37.265Z"
   },
   {
    "duration": 144,
    "start_time": "2023-11-08T16:38:37.384Z"
   },
   {
    "duration": 5,
    "start_time": "2023-11-08T16:38:37.531Z"
   },
   {
    "duration": 6,
    "start_time": "2023-11-08T16:38:37.546Z"
   },
   {
    "duration": 16,
    "start_time": "2023-11-08T16:38:37.554Z"
   },
   {
    "duration": 22,
    "start_time": "2023-11-08T16:38:37.572Z"
   },
   {
    "duration": 85,
    "start_time": "2023-11-08T16:38:37.596Z"
   },
   {
    "duration": 5,
    "start_time": "2023-11-08T16:38:37.683Z"
   },
   {
    "duration": 193,
    "start_time": "2023-11-08T16:38:37.690Z"
   },
   {
    "duration": 16,
    "start_time": "2023-11-08T16:38:37.885Z"
   },
   {
    "duration": 1746,
    "start_time": "2023-11-08T16:38:37.904Z"
   },
   {
    "duration": 427,
    "start_time": "2023-11-08T16:38:39.652Z"
   },
   {
    "duration": 228,
    "start_time": "2023-11-08T16:38:40.081Z"
   },
   {
    "duration": 315,
    "start_time": "2023-11-08T16:38:40.311Z"
   },
   {
    "duration": 165,
    "start_time": "2023-11-08T16:38:40.627Z"
   },
   {
    "duration": 175,
    "start_time": "2023-11-08T16:38:40.794Z"
   },
   {
    "duration": 154,
    "start_time": "2023-11-08T16:38:40.971Z"
   },
   {
    "duration": 165,
    "start_time": "2023-11-08T16:38:41.127Z"
   },
   {
    "duration": 208,
    "start_time": "2023-11-08T16:38:41.293Z"
   },
   {
    "duration": 239,
    "start_time": "2023-11-08T16:38:41.503Z"
   },
   {
    "duration": 2,
    "start_time": "2023-11-08T16:38:41.744Z"
   },
   {
    "duration": 23,
    "start_time": "2023-11-08T16:38:41.748Z"
   },
   {
    "duration": 227,
    "start_time": "2023-11-08T16:38:41.773Z"
   },
   {
    "duration": 47,
    "start_time": "2023-11-08T16:38:42.001Z"
   },
   {
    "duration": 501,
    "start_time": "2023-11-08T16:38:42.050Z"
   },
   {
    "duration": 6402,
    "start_time": "2023-11-08T16:38:42.552Z"
   },
   {
    "duration": 1054,
    "start_time": "2023-11-08T16:38:48.956Z"
   },
   {
    "duration": 364,
    "start_time": "2023-11-08T16:38:50.013Z"
   },
   {
    "duration": 394,
    "start_time": "2023-11-08T16:38:50.379Z"
   },
   {
    "duration": 3,
    "start_time": "2023-11-08T16:38:50.774Z"
   },
   {
    "duration": 29,
    "start_time": "2023-11-08T16:38:50.778Z"
   },
   {
    "duration": 28,
    "start_time": "2023-11-08T16:38:50.809Z"
   },
   {
    "duration": 19,
    "start_time": "2023-11-08T16:38:50.839Z"
   },
   {
    "duration": 25,
    "start_time": "2023-11-08T16:38:50.860Z"
   },
   {
    "duration": 24,
    "start_time": "2023-11-08T16:38:50.887Z"
   },
   {
    "duration": 10,
    "start_time": "2023-11-08T16:38:50.913Z"
   },
   {
    "duration": 21,
    "start_time": "2023-11-08T16:38:50.925Z"
   },
   {
    "duration": 39,
    "start_time": "2023-11-08T16:38:50.948Z"
   },
   {
    "duration": 23,
    "start_time": "2023-11-08T16:38:50.989Z"
   },
   {
    "duration": 27,
    "start_time": "2023-11-08T16:38:51.014Z"
   },
   {
    "duration": 49,
    "start_time": "2023-11-08T16:38:51.044Z"
   },
   {
    "duration": 241,
    "start_time": "2023-11-08T16:40:24.938Z"
   },
   {
    "duration": 243,
    "start_time": "2023-11-08T16:43:04.612Z"
   },
   {
    "duration": 215,
    "start_time": "2023-11-08T16:43:17.859Z"
   },
   {
    "duration": 230,
    "start_time": "2023-11-08T16:43:36.986Z"
   },
   {
    "duration": 246,
    "start_time": "2023-11-08T16:44:31.851Z"
   },
   {
    "duration": 263,
    "start_time": "2023-11-08T16:44:51.499Z"
   },
   {
    "duration": 208,
    "start_time": "2023-11-08T16:45:02.668Z"
   },
   {
    "duration": 242,
    "start_time": "2023-11-08T16:45:06.709Z"
   },
   {
    "duration": 207,
    "start_time": "2023-11-08T16:45:19.267Z"
   },
   {
    "duration": 220,
    "start_time": "2023-11-08T16:45:37.260Z"
   },
   {
    "duration": 283,
    "start_time": "2023-11-08T16:46:35.212Z"
   },
   {
    "duration": 219,
    "start_time": "2023-11-08T16:46:42.260Z"
   },
   {
    "duration": 247,
    "start_time": "2023-11-08T16:47:11.949Z"
   },
   {
    "duration": 251,
    "start_time": "2023-11-08T16:47:38.100Z"
   },
   {
    "duration": 261,
    "start_time": "2023-11-08T16:50:58.508Z"
   },
   {
    "duration": 270,
    "start_time": "2023-11-08T16:51:39.638Z"
   },
   {
    "duration": 251,
    "start_time": "2023-11-08T16:51:52.344Z"
   },
   {
    "duration": 243,
    "start_time": "2023-11-08T16:51:57.055Z"
   },
   {
    "duration": 593,
    "start_time": "2023-11-08T17:02:11.941Z"
   },
   {
    "duration": 230,
    "start_time": "2023-11-08T17:02:36.884Z"
   },
   {
    "duration": 304,
    "start_time": "2023-11-08T17:02:50.915Z"
   },
   {
    "duration": 221,
    "start_time": "2023-11-08T17:02:58.499Z"
   },
   {
    "duration": 237,
    "start_time": "2023-11-08T17:04:19.533Z"
   },
   {
    "duration": 243,
    "start_time": "2023-11-08T17:04:52.429Z"
   },
   {
    "duration": 243,
    "start_time": "2023-11-08T17:06:10.926Z"
   },
   {
    "duration": 264,
    "start_time": "2023-11-08T17:06:30.927Z"
   },
   {
    "duration": 226,
    "start_time": "2023-11-08T17:06:55.848Z"
   },
   {
    "duration": 269,
    "start_time": "2023-11-08T17:07:33.140Z"
   },
   {
    "duration": 6,
    "start_time": "2023-11-08T17:13:44.587Z"
   },
   {
    "duration": 11,
    "start_time": "2023-11-08T18:59:20.999Z"
   },
   {
    "duration": 1624,
    "start_time": "2023-11-08T18:59:32.079Z"
   },
   {
    "duration": 6,
    "start_time": "2023-11-08T18:59:34.311Z"
   },
   {
    "duration": 1972,
    "start_time": "2023-11-08T18:59:48.180Z"
   },
   {
    "duration": 7,
    "start_time": "2023-11-08T18:59:50.645Z"
   },
   {
    "duration": 1503,
    "start_time": "2023-11-08T19:00:08.049Z"
   },
   {
    "duration": 119,
    "start_time": "2023-11-08T19:00:09.555Z"
   },
   {
    "duration": 32,
    "start_time": "2023-11-08T19:00:09.676Z"
   },
   {
    "duration": 4,
    "start_time": "2023-11-08T19:00:09.710Z"
   },
   {
    "duration": 18,
    "start_time": "2023-11-08T19:00:09.716Z"
   },
   {
    "duration": 66,
    "start_time": "2023-11-08T19:00:09.736Z"
   },
   {
    "duration": 7,
    "start_time": "2023-11-08T19:00:09.804Z"
   },
   {
    "duration": 43,
    "start_time": "2023-11-08T19:00:09.812Z"
   },
   {
    "duration": 12,
    "start_time": "2023-11-08T19:00:09.857Z"
   },
   {
    "duration": 9,
    "start_time": "2023-11-08T19:00:09.872Z"
   },
   {
    "duration": 7,
    "start_time": "2023-11-08T19:00:09.882Z"
   },
   {
    "duration": 20,
    "start_time": "2023-11-08T19:00:09.891Z"
   },
   {
    "duration": 39,
    "start_time": "2023-11-08T19:00:09.914Z"
   },
   {
    "duration": 1309,
    "start_time": "2023-11-08T19:00:09.955Z"
   },
   {
    "duration": 142,
    "start_time": "2023-11-08T19:00:11.266Z"
   },
   {
    "duration": 145,
    "start_time": "2023-11-08T19:00:11.410Z"
   },
   {
    "duration": 120,
    "start_time": "2023-11-08T19:00:11.557Z"
   },
   {
    "duration": 129,
    "start_time": "2023-11-08T19:00:11.679Z"
   },
   {
    "duration": 136,
    "start_time": "2023-11-08T19:00:11.811Z"
   },
   {
    "duration": 7,
    "start_time": "2023-11-08T19:00:11.949Z"
   },
   {
    "duration": 33,
    "start_time": "2023-11-08T19:00:11.958Z"
   },
   {
    "duration": 100,
    "start_time": "2023-11-08T19:00:11.993Z"
   },
   {
    "duration": 83,
    "start_time": "2023-11-08T19:00:12.096Z"
   },
   {
    "duration": 68,
    "start_time": "2023-11-08T19:00:12.181Z"
   },
   {
    "duration": 5,
    "start_time": "2023-11-08T19:00:12.252Z"
   },
   {
    "duration": 199,
    "start_time": "2023-11-08T19:00:12.259Z"
   },
   {
    "duration": 16,
    "start_time": "2023-11-08T19:00:12.459Z"
   },
   {
    "duration": 1818,
    "start_time": "2023-11-08T19:00:12.480Z"
   },
   {
    "duration": 422,
    "start_time": "2023-11-08T19:00:14.300Z"
   },
   {
    "duration": 271,
    "start_time": "2023-11-08T19:00:14.724Z"
   },
   {
    "duration": 426,
    "start_time": "2023-11-08T19:00:14.996Z"
   },
   {
    "duration": 274,
    "start_time": "2023-11-08T19:00:15.427Z"
   },
   {
    "duration": 272,
    "start_time": "2023-11-08T19:00:15.703Z"
   },
   {
    "duration": 212,
    "start_time": "2023-11-08T19:00:15.977Z"
   },
   {
    "duration": 220,
    "start_time": "2023-11-08T19:00:16.191Z"
   },
   {
    "duration": 55,
    "start_time": "2023-11-08T19:00:16.413Z"
   },
   {
    "duration": 534,
    "start_time": "2023-11-08T19:00:16.470Z"
   },
   {
    "duration": 7268,
    "start_time": "2023-11-08T19:00:17.006Z"
   },
   {
    "duration": 1187,
    "start_time": "2023-11-08T19:00:24.276Z"
   },
   {
    "duration": 393,
    "start_time": "2023-11-08T19:00:25.465Z"
   },
   {
    "duration": 413,
    "start_time": "2023-11-08T19:00:25.860Z"
   },
   {
    "duration": 3,
    "start_time": "2023-11-08T19:00:26.275Z"
   },
   {
    "duration": 14,
    "start_time": "2023-11-08T19:00:26.280Z"
   },
   {
    "duration": 7,
    "start_time": "2023-11-08T19:00:26.296Z"
   },
   {
    "duration": 20,
    "start_time": "2023-11-08T19:00:26.305Z"
   },
   {
    "duration": 27,
    "start_time": "2023-11-08T19:00:26.327Z"
   },
   {
    "duration": 124,
    "start_time": "2023-11-08T19:00:26.356Z"
   },
   {
    "duration": 0,
    "start_time": "2023-11-08T19:00:26.482Z"
   },
   {
    "duration": 0,
    "start_time": "2023-11-08T19:00:26.484Z"
   },
   {
    "duration": 0,
    "start_time": "2023-11-08T19:00:26.486Z"
   },
   {
    "duration": 0,
    "start_time": "2023-11-08T19:00:26.487Z"
   },
   {
    "duration": 0,
    "start_time": "2023-11-08T19:00:26.489Z"
   },
   {
    "duration": 0,
    "start_time": "2023-11-08T19:00:26.491Z"
   },
   {
    "duration": 8,
    "start_time": "2023-11-08T19:00:43.896Z"
   },
   {
    "duration": 7,
    "start_time": "2023-11-08T19:00:47.118Z"
   },
   {
    "duration": 7,
    "start_time": "2023-11-08T19:00:51.923Z"
   },
   {
    "duration": 15,
    "start_time": "2023-11-08T19:02:25.708Z"
   },
   {
    "duration": 14,
    "start_time": "2023-11-08T19:02:30.610Z"
   },
   {
    "duration": 11,
    "start_time": "2023-11-08T19:02:33.027Z"
   },
   {
    "duration": 6,
    "start_time": "2023-11-08T19:02:44.322Z"
   },
   {
    "duration": 7,
    "start_time": "2023-11-08T19:02:55.249Z"
   },
   {
    "duration": 5,
    "start_time": "2023-11-08T19:03:03.828Z"
   },
   {
    "duration": 5,
    "start_time": "2023-11-08T19:03:18.436Z"
   },
   {
    "duration": 5,
    "start_time": "2023-11-08T19:04:57.684Z"
   },
   {
    "duration": 6,
    "start_time": "2023-11-08T19:05:08.832Z"
   },
   {
    "duration": 8,
    "start_time": "2023-11-08T19:12:04.131Z"
   },
   {
    "duration": 8,
    "start_time": "2023-11-08T19:12:07.518Z"
   },
   {
    "duration": 6,
    "start_time": "2023-11-08T19:12:10.047Z"
   },
   {
    "duration": 19,
    "start_time": "2023-11-08T19:12:35.220Z"
   },
   {
    "duration": 6,
    "start_time": "2023-11-08T19:12:36.608Z"
   },
   {
    "duration": 8,
    "start_time": "2023-11-08T19:13:06.857Z"
   },
   {
    "duration": 11,
    "start_time": "2023-11-08T19:13:11.186Z"
   },
   {
    "duration": 13,
    "start_time": "2023-11-08T19:15:33.919Z"
   },
   {
    "duration": 40,
    "start_time": "2023-11-08T19:15:38.934Z"
   },
   {
    "duration": 1238,
    "start_time": "2023-11-08T19:16:27.587Z"
   },
   {
    "duration": 41,
    "start_time": "2023-11-08T19:16:30.960Z"
   },
   {
    "duration": 92,
    "start_time": "2023-11-08T19:19:14.137Z"
   },
   {
    "duration": 7,
    "start_time": "2023-11-08T19:19:39.654Z"
   },
   {
    "duration": 6,
    "start_time": "2023-11-08T19:19:43.088Z"
   },
   {
    "duration": 5,
    "start_time": "2023-11-08T19:19:47.274Z"
   },
   {
    "duration": 13,
    "start_time": "2023-11-08T19:27:25.854Z"
   },
   {
    "duration": 11,
    "start_time": "2023-11-08T19:27:51.512Z"
   },
   {
    "duration": 11,
    "start_time": "2023-11-08T19:28:13.262Z"
   },
   {
    "duration": 12,
    "start_time": "2023-11-08T19:28:34.167Z"
   },
   {
    "duration": 1354,
    "start_time": "2023-11-08T19:32:28.324Z"
   },
   {
    "duration": 71,
    "start_time": "2023-11-08T19:32:29.681Z"
   },
   {
    "duration": 33,
    "start_time": "2023-11-08T19:32:29.754Z"
   },
   {
    "duration": 4,
    "start_time": "2023-11-08T19:32:29.790Z"
   },
   {
    "duration": 11,
    "start_time": "2023-11-08T19:32:29.795Z"
   },
   {
    "duration": 73,
    "start_time": "2023-11-08T19:32:29.809Z"
   },
   {
    "duration": 6,
    "start_time": "2023-11-08T19:32:29.884Z"
   },
   {
    "duration": 26,
    "start_time": "2023-11-08T19:32:29.892Z"
   },
   {
    "duration": 30,
    "start_time": "2023-11-08T19:32:29.920Z"
   },
   {
    "duration": 6,
    "start_time": "2023-11-08T19:32:29.953Z"
   },
   {
    "duration": 12,
    "start_time": "2023-11-08T19:32:29.960Z"
   },
   {
    "duration": 18,
    "start_time": "2023-11-08T19:32:29.974Z"
   },
   {
    "duration": 8,
    "start_time": "2023-11-08T19:32:29.994Z"
   },
   {
    "duration": 1327,
    "start_time": "2023-11-08T19:32:30.003Z"
   },
   {
    "duration": 147,
    "start_time": "2023-11-08T19:32:31.332Z"
   },
   {
    "duration": 141,
    "start_time": "2023-11-08T19:32:31.482Z"
   },
   {
    "duration": 110,
    "start_time": "2023-11-08T19:32:31.625Z"
   },
   {
    "duration": 133,
    "start_time": "2023-11-08T19:32:31.737Z"
   },
   {
    "duration": 127,
    "start_time": "2023-11-08T19:32:31.872Z"
   },
   {
    "duration": 5,
    "start_time": "2023-11-08T19:32:32.001Z"
   },
   {
    "duration": 29,
    "start_time": "2023-11-08T19:32:32.009Z"
   },
   {
    "duration": 39,
    "start_time": "2023-11-08T19:32:32.039Z"
   },
   {
    "duration": 29,
    "start_time": "2023-11-08T19:32:32.080Z"
   },
   {
    "duration": 66,
    "start_time": "2023-11-08T19:32:32.111Z"
   },
   {
    "duration": 5,
    "start_time": "2023-11-08T19:32:32.178Z"
   },
   {
    "duration": 203,
    "start_time": "2023-11-08T19:32:32.184Z"
   },
   {
    "duration": 17,
    "start_time": "2023-11-08T19:32:32.389Z"
   },
   {
    "duration": 1840,
    "start_time": "2023-11-08T19:32:32.410Z"
   },
   {
    "duration": 412,
    "start_time": "2023-11-08T19:32:34.252Z"
   },
   {
    "duration": 249,
    "start_time": "2023-11-08T19:32:34.665Z"
   },
   {
    "duration": 444,
    "start_time": "2023-11-08T19:32:34.916Z"
   },
   {
    "duration": 247,
    "start_time": "2023-11-08T19:32:35.362Z"
   },
   {
    "duration": 287,
    "start_time": "2023-11-08T19:32:35.611Z"
   },
   {
    "duration": 276,
    "start_time": "2023-11-08T19:32:35.900Z"
   },
   {
    "duration": 253,
    "start_time": "2023-11-08T19:32:36.178Z"
   },
   {
    "duration": 34,
    "start_time": "2023-11-08T19:32:36.433Z"
   },
   {
    "duration": 494,
    "start_time": "2023-11-08T19:32:36.469Z"
   },
   {
    "duration": 6646,
    "start_time": "2023-11-08T19:32:36.965Z"
   },
   {
    "duration": 1072,
    "start_time": "2023-11-08T19:32:43.613Z"
   },
   {
    "duration": 340,
    "start_time": "2023-11-08T19:32:44.687Z"
   },
   {
    "duration": 383,
    "start_time": "2023-11-08T19:32:45.029Z"
   },
   {
    "duration": 3,
    "start_time": "2023-11-08T19:32:45.414Z"
   },
   {
    "duration": 9,
    "start_time": "2023-11-08T19:32:45.419Z"
   },
   {
    "duration": 9,
    "start_time": "2023-11-08T19:32:45.449Z"
   },
   {
    "duration": 24,
    "start_time": "2023-11-08T19:32:45.461Z"
   },
   {
    "duration": 23,
    "start_time": "2023-11-08T19:32:45.487Z"
   },
   {
    "duration": 9,
    "start_time": "2023-11-08T19:32:45.512Z"
   },
   {
    "duration": 25,
    "start_time": "2023-11-08T19:32:45.524Z"
   },
   {
    "duration": 13,
    "start_time": "2023-11-08T19:32:45.552Z"
   },
   {
    "duration": 15,
    "start_time": "2023-11-08T19:32:45.569Z"
   },
   {
    "duration": 17,
    "start_time": "2023-11-08T19:32:45.586Z"
   },
   {
    "duration": 16,
    "start_time": "2023-11-08T19:32:45.605Z"
   },
   {
    "duration": 15,
    "start_time": "2023-11-08T19:32:45.646Z"
   },
   {
    "duration": 94,
    "start_time": "2023-11-08T19:32:45.664Z"
   },
   {
    "duration": 1403,
    "start_time": "2023-11-08T20:27:02.329Z"
   },
   {
    "duration": 102,
    "start_time": "2023-11-08T20:27:03.733Z"
   },
   {
    "duration": 30,
    "start_time": "2023-11-08T20:27:03.837Z"
   },
   {
    "duration": 3,
    "start_time": "2023-11-08T20:27:03.869Z"
   },
   {
    "duration": 10,
    "start_time": "2023-11-08T20:27:03.874Z"
   },
   {
    "duration": 64,
    "start_time": "2023-11-08T20:27:03.886Z"
   },
   {
    "duration": 6,
    "start_time": "2023-11-08T20:27:03.953Z"
   },
   {
    "duration": 19,
    "start_time": "2023-11-08T20:27:03.960Z"
   },
   {
    "duration": 11,
    "start_time": "2023-11-08T20:27:03.981Z"
   },
   {
    "duration": 5,
    "start_time": "2023-11-08T20:27:03.995Z"
   },
   {
    "duration": 6,
    "start_time": "2023-11-08T20:27:04.001Z"
   },
   {
    "duration": 57,
    "start_time": "2023-11-08T20:27:04.008Z"
   },
   {
    "duration": 9,
    "start_time": "2023-11-08T20:27:04.067Z"
   },
   {
    "duration": 1341,
    "start_time": "2023-11-08T20:27:04.078Z"
   },
   {
    "duration": 152,
    "start_time": "2023-11-08T20:27:05.422Z"
   },
   {
    "duration": 138,
    "start_time": "2023-11-08T20:27:05.576Z"
   },
   {
    "duration": 117,
    "start_time": "2023-11-08T20:27:05.716Z"
   },
   {
    "duration": 120,
    "start_time": "2023-11-08T20:27:05.835Z"
   },
   {
    "duration": 130,
    "start_time": "2023-11-08T20:27:05.957Z"
   },
   {
    "duration": 7,
    "start_time": "2023-11-08T20:27:06.090Z"
   },
   {
    "duration": 7,
    "start_time": "2023-11-08T20:27:06.099Z"
   },
   {
    "duration": 39,
    "start_time": "2023-11-08T20:27:06.108Z"
   },
   {
    "duration": 22,
    "start_time": "2023-11-08T20:27:06.149Z"
   },
   {
    "duration": 84,
    "start_time": "2023-11-08T20:27:06.173Z"
   },
   {
    "duration": 6,
    "start_time": "2023-11-08T20:27:06.259Z"
   },
   {
    "duration": 201,
    "start_time": "2023-11-08T20:27:06.267Z"
   },
   {
    "duration": 17,
    "start_time": "2023-11-08T20:27:06.469Z"
   },
   {
    "duration": 1916,
    "start_time": "2023-11-08T20:27:06.490Z"
   },
   {
    "duration": 433,
    "start_time": "2023-11-08T20:27:08.407Z"
   },
   {
    "duration": 277,
    "start_time": "2023-11-08T20:27:08.842Z"
   },
   {
    "duration": 388,
    "start_time": "2023-11-08T20:27:09.121Z"
   },
   {
    "duration": 256,
    "start_time": "2023-11-08T20:27:09.511Z"
   },
   {
    "duration": 234,
    "start_time": "2023-11-08T20:27:09.769Z"
   },
   {
    "duration": 274,
    "start_time": "2023-11-08T20:27:10.005Z"
   },
   {
    "duration": 272,
    "start_time": "2023-11-08T20:27:10.281Z"
   },
   {
    "duration": 36,
    "start_time": "2023-11-08T20:27:10.555Z"
   },
   {
    "duration": 541,
    "start_time": "2023-11-08T20:27:10.593Z"
   },
   {
    "duration": 6693,
    "start_time": "2023-11-08T20:27:11.136Z"
   },
   {
    "duration": 1078,
    "start_time": "2023-11-08T20:27:17.831Z"
   },
   {
    "duration": 357,
    "start_time": "2023-11-08T20:27:18.911Z"
   },
   {
    "duration": 381,
    "start_time": "2023-11-08T20:27:19.270Z"
   },
   {
    "duration": 3,
    "start_time": "2023-11-08T20:27:19.654Z"
   },
   {
    "duration": 28,
    "start_time": "2023-11-08T20:27:19.658Z"
   },
   {
    "duration": 17,
    "start_time": "2023-11-08T20:27:19.688Z"
   },
   {
    "duration": 14,
    "start_time": "2023-11-08T20:27:19.707Z"
   },
   {
    "duration": 62,
    "start_time": "2023-11-08T20:27:19.723Z"
   },
   {
    "duration": 36,
    "start_time": "2023-11-08T20:27:19.787Z"
   },
   {
    "duration": 13,
    "start_time": "2023-11-08T20:27:19.824Z"
   },
   {
    "duration": 21,
    "start_time": "2023-11-08T20:27:19.839Z"
   },
   {
    "duration": 51,
    "start_time": "2023-11-08T20:27:19.862Z"
   },
   {
    "duration": 18,
    "start_time": "2023-11-08T20:27:19.916Z"
   },
   {
    "duration": 23,
    "start_time": "2023-11-08T20:27:19.937Z"
   },
   {
    "duration": 29,
    "start_time": "2023-11-08T20:27:19.963Z"
   },
   {
    "duration": 81,
    "start_time": "2023-11-08T20:27:19.994Z"
   }
  ],
  "kernelspec": {
   "display_name": "Python 3 (ipykernel)",
   "language": "python",
   "name": "python3"
  },
  "language_info": {
   "codemirror_mode": {
    "name": "ipython",
    "version": 3
   },
   "file_extension": ".py",
   "mimetype": "text/x-python",
   "name": "python",
   "nbconvert_exporter": "python",
   "pygments_lexer": "ipython3",
   "version": "3.9.5"
  },
  "toc": {
   "base_numbering": 1,
   "nav_menu": {},
   "number_sections": true,
   "sideBar": true,
   "skip_h1_title": true,
   "title_cell": "Содержание",
   "title_sidebar": "Contents",
   "toc_cell": true,
   "toc_position": {
    "height": "calc(100% - 180px)",
    "left": "10px",
    "top": "150px",
    "width": "233.537px"
   },
   "toc_section_display": true,
   "toc_window_display": true
  }
 },
 "nbformat": 4,
 "nbformat_minor": 4
}
