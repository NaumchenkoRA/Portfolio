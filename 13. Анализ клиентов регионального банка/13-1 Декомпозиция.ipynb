{
 "cells": [
  {
   "cell_type": "markdown",
   "metadata": {},
   "source": [
    "**Декомпозиция**"
   ]
  },
  {
   "cell_type": "markdown",
   "metadata": {},
   "source": [
    "**Блок № 1.** Введение\n",
    "\n",
    "**Описание проекта**\n",
    "\n",
    "Заказчик: Менеджер отдела маркетинга  \n",
    "Задача: Проанализировать клиентов регионального банка и выделите сегменты клиентов,\n",
    "которые склонны уходить из банка.\n",
    "\n",
    "\n",
    "**Описание данных**  \n",
    "Датасет содержит данные о клиентах банка «Метанпром». Банк располагается в\n",
    "Ярославле и областных городах: Ростов Великий и Рыбинск.\n",
    "Колонки:  \n",
    "USERID — идентификатор пользователя,  \n",
    "score — баллы кредитного скоринга,  \n",
    "city — город,  \n",
    "gender — пол,  \n",
    "age — возраст,  \n",
    "equity — количество баллов собственности  \n",
    "balance — баланс на счёте,  \n",
    "products — количество продуктов, которыми пользуется клиент,  \n",
    "credit_card — есть ли кредитная карта,  \n",
    "last_activity — активный клиент,  \n",
    "EST_SALARY — оценочный доход клиента,  \n",
    "сhurn — признак оттока.  "
   ]
  },
  {
   "cell_type": "markdown",
   "metadata": {},
   "source": [
    "**Блок № 2.** Загрузка данных\n",
    "\n",
    "Общая оценка данных"
   ]
  },
  {
   "cell_type": "markdown",
   "metadata": {},
   "source": [
    "**Блок № 3.** Предобработка данных\n",
    "\n",
    "- Привести наименования столбцов к нижнему регистру\n",
    "- Пропуски"
   ]
  },
  {
   "cell_type": "markdown",
   "metadata": {},
   "source": [
    "- Дубликаты\n",
    "- Типы данных\n",
    "- Аномальные значения\n",
    "- Переимнование/создание новых столбцов/классификация"
   ]
  },
  {
   "cell_type": "markdown",
   "metadata": {},
   "source": [
    "**Блок № 4.** Исследовательский анализ данных\n",
    "\n",
    "- Для начала нужно посмотреть общий процент оттока для банка\n",
    "- Посмотреть отток среди простых классификаций (у мужчин/женщин, по доходу и тд) если будут явные отклонения - рассмотреть подробно"
   ]
  },
  {
   "cell_type": "markdown",
   "metadata": {},
   "source": [
    "- Построить хитмэп взаимосвязи"
   ]
  },
  {
   "cell_type": "markdown",
   "metadata": {},
   "source": [
    "- Поиск закономерностей"
   ]
  },
  {
   "cell_type": "markdown",
   "metadata": {},
   "source": [
    "- Выбрать сочетания для сегментации"
   ]
  },
  {
   "cell_type": "markdown",
   "metadata": {},
   "source": [
    "**Блок № 5.** Проверка гипотез\n",
    "\n",
    "- Формулирование гипотез (Какие именно гипотезы возьмём на проверку определим по результатам исследовательского анализа)\n",
    "- Выбор стат теста\n",
    "- Проверка гипотезы"
   ]
  },
  {
   "cell_type": "markdown",
   "metadata": {},
   "source": [
    "**Блок № 6.** Итоговый вывод\n",
    "\n",
    "Соберём все найденные взаимосвязи в один вывод"
   ]
  },
  {
   "cell_type": "markdown",
   "metadata": {},
   "source": [
    "**Блок № 7.** Сегментация\n",
    "\n",
    "Определим рамки сегментов склонных к оттоку"
   ]
  },
  {
   "cell_type": "markdown",
   "metadata": {},
   "source": [
    "**Блок № 8.** Рекомендации для отдела маркетинга\n",
    "\n",
    "Составляем рекомендации о том как снизить отток для выбранных сегментов"
   ]
  }
 ],
 "metadata": {
  "ExecuteTimeLog": [
   {
    "duration": 9,
    "start_time": "2023-10-31T07:58:05.910Z"
   },
   {
    "duration": 3,
    "start_time": "2023-10-31T07:58:13.754Z"
   },
   {
    "duration": 3,
    "start_time": "2023-10-31T07:58:28.083Z"
   },
   {
    "duration": 93,
    "start_time": "2023-11-01T10:52:26.238Z"
   }
  ],
  "kernelspec": {
   "display_name": "Python 3 (ipykernel)",
   "language": "python",
   "name": "python3"
  },
  "language_info": {
   "codemirror_mode": {
    "name": "ipython",
    "version": 3
   },
   "file_extension": ".py",
   "mimetype": "text/x-python",
   "name": "python",
   "nbconvert_exporter": "python",
   "pygments_lexer": "ipython3",
   "version": "3.9.5"
  },
  "toc": {
   "base_numbering": 1,
   "nav_menu": {},
   "number_sections": true,
   "sideBar": true,
   "skip_h1_title": true,
   "title_cell": "Table of Contents",
   "title_sidebar": "Contents",
   "toc_cell": false,
   "toc_position": {},
   "toc_section_display": true,
   "toc_window_display": false
  }
 },
 "nbformat": 4,
 "nbformat_minor": 4
}
