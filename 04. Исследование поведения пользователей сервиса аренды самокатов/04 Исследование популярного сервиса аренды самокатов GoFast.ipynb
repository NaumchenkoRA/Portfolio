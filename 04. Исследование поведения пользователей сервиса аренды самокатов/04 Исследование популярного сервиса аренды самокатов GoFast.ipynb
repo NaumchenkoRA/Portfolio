{
 "cells": [
  {
   "cell_type": "markdown",
   "id": "a5286879",
   "metadata": {},
   "source": [
    "**Исследование популярного сервиса аренды самокатов GoFast.**"
   ]
  },
  {
   "cell_type": "markdown",
   "id": "e6b26418",
   "metadata": {},
   "source": [
    "Нам передали данные о некоторых пользователях из нескольких городов, а также об их поездках.\n",
    "\n",
    "Есть 3 таблицы:  \n",
    "- Первая (data_users) с данными по клиентам (user_id - уникальный идентификатор пользователя, name - имя пользователя, age - возраст, city - город, subscription_type - тип подписки (free, ultra)).\n",
    "- Вторая (data_rides) c данными по поездкам (user_id - уникальный идентификатор пользователя, distance - расстояние, которое пользователь проехал в текущей сессии (в метрах), duration - продолжительность сессии (в минутах) — время с того момента, как пользователь нажал кнопку «Начать поездку» до момента, как он нажал кнопку «Завершить поездку», date - дата совершения поездки).  \n",
    "- Третья (data_subscriptions) с данными по подпискам (subscription_type - тип подписки, minute_price - стоимость одной минуты поездки по данной подписке, start_ride_price - стоимость начала поездки, subscription_fee - стоимость ежемесячного платежа).\n",
    "\n",
    "Опишем и визуализируем общую информацию о пользователях и поездках:\n",
    "- частота встречаемости городов;\n",
    "- соотношение пользователей с подпиской и без подписки;\n",
    "- возраст пользователей;\n",
    "- расстояние, которое пользователь преодолел за одну поездку;\n",
    "- продолжительность поездок.\n",
    "- визуализируем информацию о расстоянии и времени поездок для пользователей обеих категорий.\n",
    "- подсчитаем выручку\n",
    "\n",
    "Проанализируем данные и проверим некоторые гипотезы, которые могут помочь бизнесу вырасти."
   ]
  },
  {
   "cell_type": "code",
   "execution_count": 1,
   "id": "8c0be492",
   "metadata": {},
   "outputs": [],
   "source": [
    "import pandas as pd\n",
    "import matplotlib.pyplot as plt\n",
    "import numpy as np\n",
    "from scipy import stats as st\n",
    "import seaborn as sns"
   ]
  },
  {
   "cell_type": "markdown",
   "id": "2e6bbcc8",
   "metadata": {},
   "source": [
    "#### Шаг 1. Загрузка данных"
   ]
  },
  {
   "cell_type": "code",
   "execution_count": 2,
   "id": "32971954",
   "metadata": {},
   "outputs": [
    {
     "data": {
      "text/html": [
       "<div>\n",
       "<style scoped>\n",
       "    .dataframe tbody tr th:only-of-type {\n",
       "        vertical-align: middle;\n",
       "    }\n",
       "\n",
       "    .dataframe tbody tr th {\n",
       "        vertical-align: top;\n",
       "    }\n",
       "\n",
       "    .dataframe thead th {\n",
       "        text-align: right;\n",
       "    }\n",
       "</style>\n",
       "<table border=\"1\" class=\"dataframe\">\n",
       "  <thead>\n",
       "    <tr style=\"text-align: right;\">\n",
       "      <th></th>\n",
       "      <th>user_id</th>\n",
       "      <th>name</th>\n",
       "      <th>age</th>\n",
       "      <th>city</th>\n",
       "      <th>subscription_type</th>\n",
       "    </tr>\n",
       "  </thead>\n",
       "  <tbody>\n",
       "    <tr>\n",
       "      <th>0</th>\n",
       "      <td>1</td>\n",
       "      <td>Кира</td>\n",
       "      <td>22</td>\n",
       "      <td>Тюмень</td>\n",
       "      <td>ultra</td>\n",
       "    </tr>\n",
       "    <tr>\n",
       "      <th>1</th>\n",
       "      <td>2</td>\n",
       "      <td>Станислав</td>\n",
       "      <td>31</td>\n",
       "      <td>Омск</td>\n",
       "      <td>ultra</td>\n",
       "    </tr>\n",
       "    <tr>\n",
       "      <th>2</th>\n",
       "      <td>3</td>\n",
       "      <td>Алексей</td>\n",
       "      <td>20</td>\n",
       "      <td>Москва</td>\n",
       "      <td>ultra</td>\n",
       "    </tr>\n",
       "    <tr>\n",
       "      <th>3</th>\n",
       "      <td>4</td>\n",
       "      <td>Константин</td>\n",
       "      <td>26</td>\n",
       "      <td>Ростов-на-Дону</td>\n",
       "      <td>ultra</td>\n",
       "    </tr>\n",
       "    <tr>\n",
       "      <th>4</th>\n",
       "      <td>5</td>\n",
       "      <td>Адель</td>\n",
       "      <td>28</td>\n",
       "      <td>Омск</td>\n",
       "      <td>ultra</td>\n",
       "    </tr>\n",
       "    <tr>\n",
       "      <th>5</th>\n",
       "      <td>6</td>\n",
       "      <td>Регина</td>\n",
       "      <td>25</td>\n",
       "      <td>Краснодар</td>\n",
       "      <td>ultra</td>\n",
       "    </tr>\n",
       "    <tr>\n",
       "      <th>6</th>\n",
       "      <td>7</td>\n",
       "      <td>Игорь</td>\n",
       "      <td>23</td>\n",
       "      <td>Омск</td>\n",
       "      <td>ultra</td>\n",
       "    </tr>\n",
       "    <tr>\n",
       "      <th>7</th>\n",
       "      <td>8</td>\n",
       "      <td>Юрий</td>\n",
       "      <td>23</td>\n",
       "      <td>Краснодар</td>\n",
       "      <td>ultra</td>\n",
       "    </tr>\n",
       "    <tr>\n",
       "      <th>8</th>\n",
       "      <td>9</td>\n",
       "      <td>Ян</td>\n",
       "      <td>21</td>\n",
       "      <td>Пятигорск</td>\n",
       "      <td>ultra</td>\n",
       "    </tr>\n",
       "    <tr>\n",
       "      <th>9</th>\n",
       "      <td>10</td>\n",
       "      <td>Валерий</td>\n",
       "      <td>18</td>\n",
       "      <td>Екатеринбург</td>\n",
       "      <td>ultra</td>\n",
       "    </tr>\n",
       "  </tbody>\n",
       "</table>\n",
       "</div>"
      ],
      "text/plain": [
       "   user_id        name  age            city subscription_type\n",
       "0        1        Кира   22          Тюмень             ultra\n",
       "1        2   Станислав   31            Омск             ultra\n",
       "2        3     Алексей   20          Москва             ultra\n",
       "3        4  Константин   26  Ростов-на-Дону             ultra\n",
       "4        5       Адель   28            Омск             ultra\n",
       "5        6      Регина   25       Краснодар             ultra\n",
       "6        7       Игорь   23            Омск             ultra\n",
       "7        8        Юрий   23       Краснодар             ultra\n",
       "8        9          Ян   21       Пятигорск             ultra\n",
       "9       10     Валерий   18    Екатеринбург             ultra"
      ]
     },
     "execution_count": 2,
     "metadata": {},
     "output_type": "execute_result"
    }
   ],
   "source": [
    "data_users = pd.read_csv('C:/Data yandex/users_go.csv')\n",
    "data_users.head(10)"
   ]
  },
  {
   "cell_type": "code",
   "execution_count": 3,
   "id": "b59c77de",
   "metadata": {},
   "outputs": [
    {
     "name": "stdout",
     "output_type": "stream",
     "text": [
      "           user_id          age\n",
      "count  1565.000000  1565.000000\n",
      "mean    762.633866    24.922045\n",
      "std     443.260155     4.553496\n",
      "min       1.000000    12.000000\n",
      "25%     378.000000    22.000000\n",
      "50%     762.000000    25.000000\n",
      "75%    1146.000000    28.000000\n",
      "max    1534.000000    43.000000\n",
      "\n",
      "<class 'pandas.core.frame.DataFrame'>\n",
      "RangeIndex: 1565 entries, 0 to 1564\n",
      "Data columns (total 5 columns):\n",
      " #   Column             Non-Null Count  Dtype \n",
      "---  ------             --------------  ----- \n",
      " 0   user_id            1565 non-null   int64 \n",
      " 1   name               1565 non-null   object\n",
      " 2   age                1565 non-null   int64 \n",
      " 3   city               1565 non-null   object\n",
      " 4   subscription_type  1565 non-null   object\n",
      "dtypes: int64(2), object(3)\n",
      "memory usage: 61.3+ KB\n"
     ]
    }
   ],
   "source": [
    "print(data_users.describe())\n",
    "print()\n",
    "data_users.info()"
   ]
  },
  {
   "cell_type": "code",
   "execution_count": 4,
   "id": "43e4c8f8",
   "metadata": {},
   "outputs": [
    {
     "data": {
      "text/html": [
       "<div>\n",
       "<style scoped>\n",
       "    .dataframe tbody tr th:only-of-type {\n",
       "        vertical-align: middle;\n",
       "    }\n",
       "\n",
       "    .dataframe tbody tr th {\n",
       "        vertical-align: top;\n",
       "    }\n",
       "\n",
       "    .dataframe thead th {\n",
       "        text-align: right;\n",
       "    }\n",
       "</style>\n",
       "<table border=\"1\" class=\"dataframe\">\n",
       "  <thead>\n",
       "    <tr style=\"text-align: right;\">\n",
       "      <th></th>\n",
       "      <th>user_id</th>\n",
       "      <th>distance</th>\n",
       "      <th>duration</th>\n",
       "      <th>date</th>\n",
       "    </tr>\n",
       "  </thead>\n",
       "  <tbody>\n",
       "    <tr>\n",
       "      <th>0</th>\n",
       "      <td>1</td>\n",
       "      <td>4409.919140</td>\n",
       "      <td>25.599769</td>\n",
       "      <td>2021-01-01</td>\n",
       "    </tr>\n",
       "    <tr>\n",
       "      <th>1</th>\n",
       "      <td>1</td>\n",
       "      <td>2617.592153</td>\n",
       "      <td>15.816871</td>\n",
       "      <td>2021-01-18</td>\n",
       "    </tr>\n",
       "    <tr>\n",
       "      <th>2</th>\n",
       "      <td>1</td>\n",
       "      <td>754.159807</td>\n",
       "      <td>6.232113</td>\n",
       "      <td>2021-04-20</td>\n",
       "    </tr>\n",
       "    <tr>\n",
       "      <th>3</th>\n",
       "      <td>1</td>\n",
       "      <td>2694.783254</td>\n",
       "      <td>18.511000</td>\n",
       "      <td>2021-08-11</td>\n",
       "    </tr>\n",
       "    <tr>\n",
       "      <th>4</th>\n",
       "      <td>1</td>\n",
       "      <td>4028.687306</td>\n",
       "      <td>26.265803</td>\n",
       "      <td>2021-08-28</td>\n",
       "    </tr>\n",
       "    <tr>\n",
       "      <th>5</th>\n",
       "      <td>1</td>\n",
       "      <td>2770.890808</td>\n",
       "      <td>16.650138</td>\n",
       "      <td>2021-10-09</td>\n",
       "    </tr>\n",
       "    <tr>\n",
       "      <th>6</th>\n",
       "      <td>1</td>\n",
       "      <td>3039.020292</td>\n",
       "      <td>14.927879</td>\n",
       "      <td>2021-10-19</td>\n",
       "    </tr>\n",
       "    <tr>\n",
       "      <th>7</th>\n",
       "      <td>1</td>\n",
       "      <td>2842.118050</td>\n",
       "      <td>23.117468</td>\n",
       "      <td>2021-11-06</td>\n",
       "    </tr>\n",
       "    <tr>\n",
       "      <th>8</th>\n",
       "      <td>1</td>\n",
       "      <td>3412.690668</td>\n",
       "      <td>15.238072</td>\n",
       "      <td>2021-11-14</td>\n",
       "    </tr>\n",
       "    <tr>\n",
       "      <th>9</th>\n",
       "      <td>1</td>\n",
       "      <td>748.690645</td>\n",
       "      <td>15.041884</td>\n",
       "      <td>2021-11-22</td>\n",
       "    </tr>\n",
       "  </tbody>\n",
       "</table>\n",
       "</div>"
      ],
      "text/plain": [
       "   user_id     distance   duration        date\n",
       "0        1  4409.919140  25.599769  2021-01-01\n",
       "1        1  2617.592153  15.816871  2021-01-18\n",
       "2        1   754.159807   6.232113  2021-04-20\n",
       "3        1  2694.783254  18.511000  2021-08-11\n",
       "4        1  4028.687306  26.265803  2021-08-28\n",
       "5        1  2770.890808  16.650138  2021-10-09\n",
       "6        1  3039.020292  14.927879  2021-10-19\n",
       "7        1  2842.118050  23.117468  2021-11-06\n",
       "8        1  3412.690668  15.238072  2021-11-14\n",
       "9        1   748.690645  15.041884  2021-11-22"
      ]
     },
     "execution_count": 4,
     "metadata": {},
     "output_type": "execute_result"
    }
   ],
   "source": [
    "data_rides = pd.read_csv('C:/Data yandex/rides_go.csv')\n",
    "data_rides.head(10)"
   ]
  },
  {
   "cell_type": "code",
   "execution_count": 5,
   "id": "6bdfa8b4",
   "metadata": {},
   "outputs": [
    {
     "name": "stdout",
     "output_type": "stream",
     "text": [
      "            user_id      distance      duration\n",
      "count  18068.000000  18068.000000  18068.000000\n",
      "mean     842.869936   3070.659976     17.805011\n",
      "std      434.734317   1116.831209      6.091051\n",
      "min        1.000000      0.855683      0.500000\n",
      "25%      487.000000   2543.226360     13.597563\n",
      "50%      889.000000   3133.609994     17.678395\n",
      "75%     1213.250000   3776.222735     21.724800\n",
      "max     1534.000000   7211.007745     40.823963\n",
      "\n",
      "<class 'pandas.core.frame.DataFrame'>\n",
      "RangeIndex: 18068 entries, 0 to 18067\n",
      "Data columns (total 4 columns):\n",
      " #   Column    Non-Null Count  Dtype  \n",
      "---  ------    --------------  -----  \n",
      " 0   user_id   18068 non-null  int64  \n",
      " 1   distance  18068 non-null  float64\n",
      " 2   duration  18068 non-null  float64\n",
      " 3   date      18068 non-null  object \n",
      "dtypes: float64(2), int64(1), object(1)\n",
      "memory usage: 564.8+ KB\n"
     ]
    }
   ],
   "source": [
    "print(data_rides.describe())\n",
    "print()\n",
    "data_rides.info()"
   ]
  },
  {
   "cell_type": "code",
   "execution_count": 6,
   "id": "d1bb0b5d",
   "metadata": {},
   "outputs": [
    {
     "data": {
      "text/html": [
       "<div>\n",
       "<style scoped>\n",
       "    .dataframe tbody tr th:only-of-type {\n",
       "        vertical-align: middle;\n",
       "    }\n",
       "\n",
       "    .dataframe tbody tr th {\n",
       "        vertical-align: top;\n",
       "    }\n",
       "\n",
       "    .dataframe thead th {\n",
       "        text-align: right;\n",
       "    }\n",
       "</style>\n",
       "<table border=\"1\" class=\"dataframe\">\n",
       "  <thead>\n",
       "    <tr style=\"text-align: right;\">\n",
       "      <th></th>\n",
       "      <th>subscription_type</th>\n",
       "      <th>minute_price</th>\n",
       "      <th>start_ride_price</th>\n",
       "      <th>subscription_fee</th>\n",
       "    </tr>\n",
       "  </thead>\n",
       "  <tbody>\n",
       "    <tr>\n",
       "      <th>0</th>\n",
       "      <td>free</td>\n",
       "      <td>8</td>\n",
       "      <td>50</td>\n",
       "      <td>0</td>\n",
       "    </tr>\n",
       "    <tr>\n",
       "      <th>1</th>\n",
       "      <td>ultra</td>\n",
       "      <td>6</td>\n",
       "      <td>0</td>\n",
       "      <td>199</td>\n",
       "    </tr>\n",
       "  </tbody>\n",
       "</table>\n",
       "</div>"
      ],
      "text/plain": [
       "  subscription_type  minute_price  start_ride_price  subscription_fee\n",
       "0              free             8                50                 0\n",
       "1             ultra             6                 0               199"
      ]
     },
     "execution_count": 6,
     "metadata": {},
     "output_type": "execute_result"
    }
   ],
   "source": [
    "data_subscriptions = pd.read_csv('C:/Data yandex/subscriptions_go.csv')\n",
    "data_subscriptions.head()"
   ]
  },
  {
   "cell_type": "code",
   "execution_count": 7,
   "id": "c8f6ae44",
   "metadata": {},
   "outputs": [
    {
     "data": {
      "image/png": "[encoded data removed]",
      "text/plain": [
       "<Figure size 1080x216 with 2 Axes>"
      ]
     },
     "metadata": {
      "needs_background": "light"
     },
     "output_type": "display_data"
    },
    {
     "data": {
      "image/png": "[encoded data removed]",
      "text/plain": [
       "<Figure size 1080x432 with 4 Axes>"
      ]
     },
     "metadata": {
      "needs_background": "light"
     },
     "output_type": "display_data"
    }
   ],
   "source": [
    "data_users.hist(figsize=(15, 3), color = 'darkgreen', edgecolor = 'orange')\n",
    "data_rides.hist(figsize=(15, 6), color = 'darkgreen', edgecolor = 'orange')\n",
    "plt.show()"
   ]
  },
  {
   "cell_type": "markdown",
   "id": "a0e02806",
   "metadata": {},
   "source": [
    "<div class=\"alert alert-secondary\" style=\"border-radius: 10px; box-shadow: 2px 2px 2px; border: 1px solid; padding: 10px \"> \n",
    "<b>Вывод по блоку 'Загрузка данных' :</b> \n",
    "    \n",
    "  \n",
    "    Есть 3 таблицы:  \n",
    "    - Первая (data_users) с данными по клиентам (user_id - уникальный идентификатор пользователя, name - имя пользователя, age - возраст, city - город, subscription_type - тип подписки (free, ultra)).\n",
    "    - Вторая (data_rides) c данными по поездкам (user_id - уникальный идентификатор пользователя, distance - расстояние, которое пользователь проехал в текущей сессии (в метрах), duration - продолжительность сессии (в минутах) — время с того момента, как пользователь нажал кнопку «Начать поездку» до момента, как он нажал кнопку «Завершить поездку», date - дата совершения поездки).  \n",
    "    - Третья (data_subscriptions) с данными по подпискам (subscription_type - тип подписки, minute_price - стоимость одной минуты поездки по данной подписке, start_ride_price - стоимость начала поездки, subscription_fee - стоимость ежемесячного платежа).\n",
    "      \n",
    "    Чтобы совершать поездки по городу, пользователи сервиса GoFast пользуются мобильным приложением. Сервисом можно пользоваться: \n",
    "    \n",
    "    без подписки  \n",
    "    абонентская плата отсутствует;  \n",
    "    стоимость одной минуты поездки — 8 рублей;  \n",
    "    стоимость старта (начала поездки) — 50 рублей;  \n",
    "  \n",
    "    с подпиской Ultra  \n",
    "    абонентская плата — 199 рублей в месяц;  \n",
    "    стоимость одной минуты поездки — 6 рублей;  \n",
    "    стоимость старта — бесплатно. \n",
    "      \n",
    "    Пропусков в данных нет, это радует. Распределения нормальные, явных аномалий пока не вижу, посмотрим внимательнее в следующем разделе.\n",
    "</div>"
   ]
  },
  {
   "cell_type": "markdown",
   "id": "bc35203f",
   "metadata": {},
   "source": [
    "#### Шаг 2. Предобработка данных"
   ]
  },
  {
   "cell_type": "markdown",
   "id": "c640f12c",
   "metadata": {},
   "source": [
    "**Рассмотрим data_users:**"
   ]
  },
  {
   "cell_type": "code",
   "execution_count": 8,
   "id": "7dd3a6f2",
   "metadata": {},
   "outputs": [
    {
     "data": {
      "text/plain": [
       "user_id              0\n",
       "name                 0\n",
       "age                  0\n",
       "city                 0\n",
       "subscription_type    0\n",
       "dtype: int64"
      ]
     },
     "execution_count": 8,
     "metadata": {},
     "output_type": "execute_result"
    }
   ],
   "source": [
    "data_users.isnull().sum()"
   ]
  },
  {
   "cell_type": "markdown",
   "id": "3901c0aa",
   "metadata": {},
   "source": [
    "Пропусков нет, посмотрим дубликаты:"
   ]
  },
  {
   "cell_type": "code",
   "execution_count": 9,
   "id": "c2e22e8e",
   "metadata": {},
   "outputs": [
    {
     "data": {
      "text/plain": [
       "31"
      ]
     },
     "execution_count": 9,
     "metadata": {},
     "output_type": "execute_result"
    }
   ],
   "source": [
    "data_users.duplicated().sum()"
   ]
  },
  {
   "cell_type": "code",
   "execution_count": 10,
   "id": "2c6dc992",
   "metadata": {},
   "outputs": [
    {
     "data": {
      "text/plain": [
       "user_id  name        age  city            subscription_type\n",
       "209      Андрей      23   Омск            ultra                2\n",
       "807      Александр   28   Екатеринбург    free                 2\n",
       "611      Владимир    28   Омск            ultra                2\n",
       "43       Стефания    22   Омск            ultra                2\n",
       "737      Мелания     27   Ростов-на-Дону  free                 2\n",
       "47       Юрий        28   Тюмень          ultra                2\n",
       "1198     Демид       29   Ростов-на-Дону  free                 2\n",
       "829      Федор       29   Пятигорск       free                 2\n",
       "924      Мария       23   Пятигорск       free                 2\n",
       "153      Герман      23   Москва          ultra                2\n",
       "635      Герман      21   Москва          ultra                2\n",
       "72       Никита      25   Москва          ultra                2\n",
       "909      Константин  20   Екатеринбург    free                 2\n",
       "908      Рустам      30   Тюмень          free                 2\n",
       "136      Марсель     25   Тюмень          ultra                2\n",
       "1045     Артемий     28   Ростов-на-Дону  free                 2\n",
       "1237     Евгения     23   Тюмень          free                 2\n",
       "127      Павел       25   Пятигорск       ultra                2\n",
       "659      Злата       27   Ростов-на-Дону  ultra                2\n",
       "307      Ясмина      19   Краснодар       ultra                2\n",
       "1245     Регина      27   Пятигорск       free                 2\n",
       "121      Алина       25   Пятигорск       ultra                2\n",
       "666      Зарина      29   Москва          ultra                2\n",
       "108      Влада       29   Тюмень          ultra                2\n",
       "297      Егор        33   Пятигорск       ultra                2\n",
       "809      Юрий        26   Сочи            free                 2\n",
       "293      Агата       26   Краснодар       ultra                2\n",
       "16       Амалия      27   Краснодар       ultra                2\n",
       "422      Кирилл      27   Сочи            ultra                2\n",
       "403      Полина      19   Сочи            ultra                2\n",
       "204      Руслан      30   Пятигорск       ultra                2\n",
       "dtype: int64"
      ]
     },
     "execution_count": 10,
     "metadata": {},
     "output_type": "execute_result"
    }
   ],
   "source": [
    "data_users.value_counts().head(31)"
   ]
  },
  {
   "cell_type": "markdown",
   "id": "3cfa3c7e",
   "metadata": {},
   "source": [
    "Удалим явные дубликаты:"
   ]
  },
  {
   "cell_type": "code",
   "execution_count": 11,
   "id": "d5fbdb21",
   "metadata": {},
   "outputs": [
    {
     "data": {
      "text/plain": [
       "0"
      ]
     },
     "execution_count": 11,
     "metadata": {},
     "output_type": "execute_result"
    }
   ],
   "source": [
    "data_users = data_users.drop_duplicates()\n",
    "data_users.duplicated().sum()"
   ]
  },
  {
   "cell_type": "markdown",
   "id": "8255c7d5",
   "metadata": {},
   "source": [
    "Проверим неявные в столбцах с именем и названием города:"
   ]
  },
  {
   "cell_type": "code",
   "execution_count": 12,
   "id": "f4b5ed75",
   "metadata": {},
   "outputs": [
    {
     "data": {
      "text/plain": [
       "array(['Кира', 'Станислав', 'Алексей', 'Константин', 'Адель', 'Регина',\n",
       "       'Игорь', 'Юрий', 'Ян', 'Валерий', 'Агата', 'Марк', 'Ева',\n",
       "       'Антонина', 'Валерия', 'Амалия', 'Даниил', 'Аделина', 'Святогор',\n",
       "       'Борис', 'Вероника', 'Ростислав', 'Назар', 'Эдуард', 'Василий',\n",
       "       'Денис', 'Тамара', 'Николай', 'Эвелина', 'Федор', 'Руслан', 'Иван',\n",
       "       'Любовь', 'Ярослава', 'Майя', 'Ильдар', 'Данила', 'Нина',\n",
       "       'Стефания', 'Ясмина', 'Дмитрий', 'Александр', 'Одиссей', 'Арсений',\n",
       "       'Алла', 'Таисия', 'Максим', 'Юлиана', 'Павел', 'Карина', 'Алиса',\n",
       "       'Лидия', 'Рамиль', 'Родион', 'Ника', 'Оксана', 'Анастасия',\n",
       "       'Маргарита', 'Вера', 'Тимур', 'Никита', 'Лев', 'Влад', 'Артур',\n",
       "       'Анна', 'Ольга', 'Вячеслав', 'Ксения', 'Виталина', 'Владислав',\n",
       "       'Тамерлан', 'Амина', 'Вадим', 'Олеся', 'Зарина', 'Егор', 'Гордей',\n",
       "       'Лилия', 'Святослав', 'Роберт', 'Амир', 'Влада', 'Богдан',\n",
       "       'Полина', 'Марат', 'Елисей', 'Макар', 'Алина', 'Глеб', 'Андрей',\n",
       "       'Альбина', 'Людмила', 'Марсель', 'Милена', 'Диана', 'Дарина',\n",
       "       'Данил', 'Артемий', 'Лиана', 'Альберт', 'Герман', 'Жанна', 'Нелли',\n",
       "       'Евгения', 'Ариана', 'Самира', 'Захар', 'Эльвира', 'Екатерина',\n",
       "       'Инна', 'Демид', 'Яна', 'Михаил', 'Татьяна', 'Степан', 'Мелания',\n",
       "       'Тимофей', 'Ирина', 'Анжелика', 'Владислава', 'Елизавета',\n",
       "       'Мадина', 'Снежана', 'Даниэль', 'Рустам', 'Каролина', 'Ангелина',\n",
       "       'Владимир', 'Виктория', 'Валентина', 'Семен', 'Арина', 'Лариса',\n",
       "       'Есения', 'Галина', 'Кирилл', 'Игнат', 'Виталий', 'Эмилия',\n",
       "       'Виолетта', 'Яромир', 'Софья', 'Мирослава', 'Евгений', 'Варвара',\n",
       "       'Платон', 'Наталия', 'Анатолий', 'Кристина', 'Всеволод', 'Дарья',\n",
       "       'Наташа', 'Мария', 'Марина', 'Василиса', 'Юлия', 'Илья', 'Злата',\n",
       "       'Роман', 'Наталья', 'Элина', 'Арсен', 'Айдар', 'Алия', 'Виктор',\n",
       "       'Мирон', 'Ульяна', 'Георгий', 'Петр', 'Эльмира', 'Олег', 'Дамир',\n",
       "       'Самир', 'Ярослав', 'Камилла', 'Сергей', 'Эмиль', 'Радмир',\n",
       "       'Савелий', 'Елена', 'Антон', 'Мирослав', 'София', 'Тихон', 'Артём',\n",
       "       'Давид', 'Григорий', 'Алёна', 'Светлана', 'Леонид', 'Александра',\n",
       "       'Василина', 'Милана', 'Матвей'], dtype=object)"
      ]
     },
     "execution_count": 12,
     "metadata": {},
     "output_type": "execute_result"
    }
   ],
   "source": [
    "data_users['name'].unique()"
   ]
  },
  {
   "cell_type": "code",
   "execution_count": 13,
   "id": "37b50ca5",
   "metadata": {},
   "outputs": [
    {
     "data": {
      "text/plain": [
       "array(['Тюмень', 'Омск', 'Москва', 'Ростов-на-Дону', 'Краснодар',\n",
       "       'Пятигорск', 'Екатеринбург', 'Сочи'], dtype=object)"
      ]
     },
     "execution_count": 13,
     "metadata": {},
     "output_type": "execute_result"
    }
   ],
   "source": [
    "data_users['city'].unique()"
   ]
  },
  {
   "cell_type": "markdown",
   "id": "a535301d",
   "metadata": {},
   "source": [
    "Всё ок, переходим к следующей таблице."
   ]
  },
  {
   "cell_type": "markdown",
   "id": "69b4309d",
   "metadata": {},
   "source": [
    "**Рассмотрим data_rides:**"
   ]
  },
  {
   "cell_type": "code",
   "execution_count": 14,
   "id": "00aad12e",
   "metadata": {},
   "outputs": [
    {
     "data": {
      "text/plain": [
       "user_id     0\n",
       "distance    0\n",
       "duration    0\n",
       "date        0\n",
       "dtype: int64"
      ]
     },
     "execution_count": 14,
     "metadata": {},
     "output_type": "execute_result"
    }
   ],
   "source": [
    "data_rides.isnull().sum()"
   ]
  },
  {
   "cell_type": "markdown",
   "id": "085086d6",
   "metadata": {},
   "source": [
    "Пропусков нет, посмотрим дубликаты:"
   ]
  },
  {
   "cell_type": "code",
   "execution_count": 15,
   "id": "c0f5101e",
   "metadata": {},
   "outputs": [
    {
     "data": {
      "text/plain": [
       "0"
      ]
     },
     "execution_count": 15,
     "metadata": {},
     "output_type": "execute_result"
    }
   ],
   "source": [
    "data_rides.duplicated().sum()"
   ]
  },
  {
   "cell_type": "markdown",
   "id": "fe259302",
   "metadata": {},
   "source": [
    "Явных дубликатов нет."
   ]
  },
  {
   "cell_type": "code",
   "execution_count": 16,
   "id": "9cf1505b",
   "metadata": {},
   "outputs": [
    {
     "data": {
      "text/plain": [
       "1236    27\n",
       "783     26\n",
       "1063    26\n",
       "1204    24\n",
       "1149    23\n",
       "        ..\n",
       "420      3\n",
       "108      3\n",
       "412      3\n",
       "342      2\n",
       "366      2\n",
       "Name: user_id, Length: 1534, dtype: int64"
      ]
     },
     "execution_count": 16,
     "metadata": {},
     "output_type": "execute_result"
    }
   ],
   "source": [
    "data_rides['user_id'].value_counts()"
   ]
  },
  {
   "cell_type": "markdown",
   "id": "6adc1842",
   "metadata": {},
   "source": [
    "Количество пользователей практически совпадает с первой таблицей."
   ]
  },
  {
   "cell_type": "markdown",
   "id": "4676a492",
   "metadata": {},
   "source": [
    "Удаляем аномальные значение (пик около 0):"
   ]
  },
  {
   "cell_type": "code",
   "execution_count": 17,
   "id": "f7f9e716",
   "metadata": {},
   "outputs": [
    {
     "data": {
      "text/html": [
       "<div>\n",
       "<style scoped>\n",
       "    .dataframe tbody tr th:only-of-type {\n",
       "        vertical-align: middle;\n",
       "    }\n",
       "\n",
       "    .dataframe tbody tr th {\n",
       "        vertical-align: top;\n",
       "    }\n",
       "\n",
       "    .dataframe thead th {\n",
       "        text-align: right;\n",
       "    }\n",
       "</style>\n",
       "<table border=\"1\" class=\"dataframe\">\n",
       "  <thead>\n",
       "    <tr style=\"text-align: right;\">\n",
       "      <th></th>\n",
       "      <th>user_id</th>\n",
       "      <th>distance</th>\n",
       "      <th>duration</th>\n",
       "    </tr>\n",
       "  </thead>\n",
       "  <tbody>\n",
       "    <tr>\n",
       "      <th>count</th>\n",
       "      <td>17973.000000</td>\n",
       "      <td>17973.000000</td>\n",
       "      <td>17973.000000</td>\n",
       "    </tr>\n",
       "    <tr>\n",
       "      <th>mean</th>\n",
       "      <td>841.551995</td>\n",
       "      <td>3059.863833</td>\n",
       "      <td>17.896480</td>\n",
       "    </tr>\n",
       "    <tr>\n",
       "      <th>std</th>\n",
       "      <td>435.144929</td>\n",
       "      <td>1108.814612</td>\n",
       "      <td>5.975424</td>\n",
       "    </tr>\n",
       "    <tr>\n",
       "      <th>min</th>\n",
       "      <td>1.000000</td>\n",
       "      <td>0.855683</td>\n",
       "      <td>2.035632</td>\n",
       "    </tr>\n",
       "    <tr>\n",
       "      <th>25%</th>\n",
       "      <td>484.000000</td>\n",
       "      <td>2538.839628</td>\n",
       "      <td>13.670439</td>\n",
       "    </tr>\n",
       "    <tr>\n",
       "      <th>50%</th>\n",
       "      <td>887.000000</td>\n",
       "      <td>3129.029255</td>\n",
       "      <td>17.714122</td>\n",
       "    </tr>\n",
       "    <tr>\n",
       "      <th>75%</th>\n",
       "      <td>1213.000000</td>\n",
       "      <td>3762.636244</td>\n",
       "      <td>21.747016</td>\n",
       "    </tr>\n",
       "    <tr>\n",
       "      <th>max</th>\n",
       "      <td>1534.000000</td>\n",
       "      <td>7066.003772</td>\n",
       "      <td>40.823963</td>\n",
       "    </tr>\n",
       "  </tbody>\n",
       "</table>\n",
       "</div>"
      ],
      "text/plain": [
       "            user_id      distance      duration\n",
       "count  17973.000000  17973.000000  17973.000000\n",
       "mean     841.551995   3059.863833     17.896480\n",
       "std      435.144929   1108.814612      5.975424\n",
       "min        1.000000      0.855683      2.035632\n",
       "25%      484.000000   2538.839628     13.670439\n",
       "50%      887.000000   3129.029255     17.714122\n",
       "75%     1213.000000   3762.636244     21.747016\n",
       "max     1534.000000   7066.003772     40.823963"
      ]
     },
     "execution_count": 17,
     "metadata": {},
     "output_type": "execute_result"
    }
   ],
   "source": [
    "data_rides = data_rides[data_rides.duration > 1] \n",
    "data_rides.describe()"
   ]
  },
  {
   "cell_type": "markdown",
   "id": "4d9934c6",
   "metadata": {},
   "source": [
    "**C data_subscriptions всё в порядке.**"
   ]
  },
  {
   "cell_type": "markdown",
   "id": "e7d43647",
   "metadata": {},
   "source": [
    "**Приведём столбец date к типу даты pandas.**"
   ]
  },
  {
   "cell_type": "code",
   "execution_count": 18,
   "id": "eeab0d3e",
   "metadata": {},
   "outputs": [
    {
     "data": {
      "text/plain": [
       "0   2021-01-01\n",
       "1   2021-01-18\n",
       "2   2021-04-20\n",
       "3   2021-08-11\n",
       "4   2021-08-28\n",
       "Name: date, dtype: datetime64[ns]"
      ]
     },
     "execution_count": 18,
     "metadata": {},
     "output_type": "execute_result"
    }
   ],
   "source": [
    "data_rides['date'] = pd.to_datetime(data_rides['date'], format = '%Y-%m-%d')\n",
    "data_rides['date'].head()"
   ]
  },
  {
   "cell_type": "markdown",
   "id": "f24ca3bc",
   "metadata": {},
   "source": [
    "**Создадим новый столбец с номером месяца на основе столбца date.**"
   ]
  },
  {
   "cell_type": "code",
   "execution_count": 19,
   "id": "b2c82e53",
   "metadata": {},
   "outputs": [
    {
     "data": {
      "text/plain": [
       "0    1\n",
       "1    1\n",
       "2    4\n",
       "3    8\n",
       "4    8\n",
       "Name: date_month, dtype: int64"
      ]
     },
     "execution_count": 19,
     "metadata": {},
     "output_type": "execute_result"
    }
   ],
   "source": [
    "data_rides['date_month'] = pd.DatetimeIndex(data_rides['date']).month\n",
    "data_rides['date_month'].head()"
   ]
  },
  {
   "cell_type": "code",
   "execution_count": 20,
   "id": "2ebab627",
   "metadata": {},
   "outputs": [
    {
     "name": "stdout",
     "output_type": "stream",
     "text": [
      "2021-01-01 00:00:00\n",
      "2021-12-30 00:00:00\n"
     ]
    }
   ],
   "source": [
    "print(data_rides['date'].min())\n",
    "print(data_rides['date'].max())"
   ]
  },
  {
   "cell_type": "markdown",
   "id": "fb364374",
   "metadata": {},
   "source": [
    "В таблице данные за весь 2021 год."
   ]
  },
  {
   "cell_type": "markdown",
   "id": "94191e82",
   "metadata": {},
   "source": [
    "<div class=\"alert alert-secondary\" style=\"border-radius: 10px; box-shadow: 2px 2px 2px; border: 1px solid; padding: 10px \"> \n",
    "<b>Вывод по блоку 'Предобработка данных' :</b> \n",
    "    \n",
    "  \n",
    "    Убрали явные дубликаты в таблице data_users, проверили неявные в имени пользователей и наименовании городов. \n",
    "    В таблицах data_rides и data_subscriptions всё хорошо.\n",
    "    Привели столбец date к типу данных pandas.\n",
    "    Создали новый столбец с номером месяца на основе столбца date.\n",
    "</div>"
   ]
  },
  {
   "cell_type": "markdown",
   "id": "e782e209",
   "metadata": {},
   "source": [
    "#### Шаг 3. Исследовательский анализ данных"
   ]
  },
  {
   "cell_type": "markdown",
   "id": "97731992",
   "metadata": {},
   "source": [
    "Опишем и визуализируем общую информацию о пользователях и поездках:"
   ]
  },
  {
   "cell_type": "markdown",
   "id": "35816346",
   "metadata": {},
   "source": [
    "**Частота встречаемости городов.**"
   ]
  },
  {
   "cell_type": "code",
   "execution_count": 21,
   "id": "9702af67",
   "metadata": {},
   "outputs": [],
   "source": [
    "#data_users['city'].hist(bins=50, figsize=(15,5), color = 'darkgreen', edgecolor = 'orange')"
   ]
  },
  {
   "cell_type": "code",
   "execution_count": 22,
   "id": "bd121027",
   "metadata": {},
   "outputs": [
    {
     "data": {
      "image/png": "[encoded data removed]",
      "text/plain": [
       "<Figure size 432x288 with 1 Axes>"
      ]
     },
     "metadata": {
      "needs_background": "light"
     },
     "output_type": "display_data"
    },
    {
     "data": {
      "text/html": [
       "<div>\n",
       "<style scoped>\n",
       "    .dataframe tbody tr th:only-of-type {\n",
       "        vertical-align: middle;\n",
       "    }\n",
       "\n",
       "    .dataframe tbody tr th {\n",
       "        vertical-align: top;\n",
       "    }\n",
       "\n",
       "    .dataframe thead th {\n",
       "        text-align: right;\n",
       "    }\n",
       "</style>\n",
       "<table border=\"1\" class=\"dataframe\">\n",
       "  <thead>\n",
       "    <tr style=\"text-align: right;\">\n",
       "      <th></th>\n",
       "      <th>city</th>\n",
       "      <th>name</th>\n",
       "    </tr>\n",
       "  </thead>\n",
       "  <tbody>\n",
       "    <tr>\n",
       "      <th>0</th>\n",
       "      <td>Пятигорск</td>\n",
       "      <td>219</td>\n",
       "    </tr>\n",
       "    <tr>\n",
       "      <th>1</th>\n",
       "      <td>Екатеринбург</td>\n",
       "      <td>204</td>\n",
       "    </tr>\n",
       "    <tr>\n",
       "      <th>2</th>\n",
       "      <td>Ростов-на-Дону</td>\n",
       "      <td>198</td>\n",
       "    </tr>\n",
       "    <tr>\n",
       "      <th>3</th>\n",
       "      <td>Краснодар</td>\n",
       "      <td>193</td>\n",
       "    </tr>\n",
       "    <tr>\n",
       "      <th>4</th>\n",
       "      <td>Сочи</td>\n",
       "      <td>189</td>\n",
       "    </tr>\n",
       "    <tr>\n",
       "      <th>5</th>\n",
       "      <td>Омск</td>\n",
       "      <td>183</td>\n",
       "    </tr>\n",
       "    <tr>\n",
       "      <th>6</th>\n",
       "      <td>Тюмень</td>\n",
       "      <td>180</td>\n",
       "    </tr>\n",
       "    <tr>\n",
       "      <th>7</th>\n",
       "      <td>Москва</td>\n",
       "      <td>168</td>\n",
       "    </tr>\n",
       "  </tbody>\n",
       "</table>\n",
       "</div>"
      ],
      "text/plain": [
       "             city  name\n",
       "0       Пятигорск   219\n",
       "1    Екатеринбург   204\n",
       "2  Ростов-на-Дону   198\n",
       "3       Краснодар   193\n",
       "4            Сочи   189\n",
       "5            Омск   183\n",
       "6          Тюмень   180\n",
       "7          Москва   168"
      ]
     },
     "execution_count": 22,
     "metadata": {},
     "output_type": "execute_result"
    }
   ],
   "source": [
    "data_users_city = data_users.groupby(['city']).agg({'name':'count'}).sort_values(by='name', ascending=False).reset_index()\n",
    "sns.barplot(x=\"name\", y=\"city\", data=data_users_city)\n",
    "sns.set_theme(style = 'darkgrid', palette = 'pastel')\n",
    "plt.xlabel(\"Количество пользователей\")\n",
    "plt.ylabel(\"\")\n",
    "plt.title(\"Распределение пользователей по городам\")\n",
    "plt.show()\n",
    "data_users_city"
   ]
  },
  {
   "cell_type": "markdown",
   "id": "b02a0530",
   "metadata": {},
   "source": [
    "**Вывод:** Пользователи по городам распределены практически равномерно, лидирует - Пятигорск."
   ]
  },
  {
   "cell_type": "markdown",
   "id": "ed2c6517",
   "metadata": {},
   "source": [
    "**Соотношение пользователей с подпиской и без подписки.**"
   ]
  },
  {
   "cell_type": "code",
   "execution_count": 23,
   "id": "45b099e8",
   "metadata": {},
   "outputs": [
    {
     "data": {
      "text/plain": [
       "<AxesSubplot:title={'center':'Соотношение пользователей с подпиской и без подписки'}>"
      ]
     },
     "execution_count": 23,
     "metadata": {},
     "output_type": "execute_result"
    },
    {
     "data": {
      "image/png": "[encoded data removed]",
      "text/plain": [
       "<Figure size 432x432 with 1 Axes>"
      ]
     },
     "metadata": {},
     "output_type": "display_data"
    }
   ],
   "source": [
    "mycolors = [\"darkgreen\", \"orange\"]\n",
    "data_users['subscription_type'].value_counts().plot(ylabel='', kind='pie', explode=[0, 0.02], figsize=(6, 6), title='Соотношение пользователей с подпиской и без подписки', colors = mycolors, autopct='%1.0f%%')"
   ]
  },
  {
   "cell_type": "markdown",
   "id": "3fd94392",
   "metadata": {},
   "source": [
    "**Вывод:** Пользователей без подписки немного больше."
   ]
  },
  {
   "cell_type": "markdown",
   "id": "18625b3d",
   "metadata": {},
   "source": [
    "**Возраст пользователей.**"
   ]
  },
  {
   "cell_type": "code",
   "execution_count": 24,
   "id": "aee12ab0",
   "metadata": {},
   "outputs": [
    {
     "data": {
      "text/plain": [
       "count    1534.000000\n",
       "mean       24.903520\n",
       "std         4.572367\n",
       "min        12.000000\n",
       "25%        22.000000\n",
       "50%        25.000000\n",
       "75%        28.000000\n",
       "max        43.000000\n",
       "Name: age, dtype: float64"
      ]
     },
     "execution_count": 24,
     "metadata": {},
     "output_type": "execute_result"
    },
    {
     "data": {
      "image/png": "[encoded data removed]",
      "text/plain": [
       "<Figure size 720x360 with 1 Axes>"
      ]
     },
     "metadata": {},
     "output_type": "display_data"
    }
   ],
   "source": [
    "data_users.plot(y='age', kind='hist', bins=100, grid=True, figsize=(10,5), range=(10,45), title='Возраст пользователей', color = 'darkgreen', edgecolor = 'orange', legend = False)\n",
    "plt.xlabel(\"Возраст\")\n",
    "plt.ylabel(\"Количество пользователей\")\n",
    "data_users['age'].describe()"
   ]
  },
  {
   "cell_type": "markdown",
   "id": "aee9b13f",
   "metadata": {},
   "source": [
    "**Вывод:** Чаще всего приложением пользуются пользователи в возрасте от 22 до 28 лет."
   ]
  },
  {
   "cell_type": "markdown",
   "id": "799560a0",
   "metadata": {},
   "source": [
    "**Расстояние, которое пользователь преодолел за одну поездку.**"
   ]
  },
  {
   "cell_type": "code",
   "execution_count": 25,
   "id": "330da9b4",
   "metadata": {},
   "outputs": [
    {
     "data": {
      "text/plain": [
       "Text(0, 0.5, 'Количество поездок')"
      ]
     },
     "execution_count": 25,
     "metadata": {},
     "output_type": "execute_result"
    },
    {
     "data": {
      "image/png": "[encoded data removed]",
      "text/plain": [
       "<Figure size 720x360 with 1 Axes>"
      ]
     },
     "metadata": {},
     "output_type": "display_data"
    }
   ],
   "source": [
    "data_rides.plot(y='distance', kind='hist', bins=50, grid=True, figsize=(10,5), range=(0,7300), title='Расстояние за одну поездку', color = 'darkgreen', edgecolor = 'orange', legend = False)\n",
    "data_rides['distance'].describe()\n",
    "plt.xlabel(\"Расстояние (метр)\")\n",
    "plt.ylabel(\"Количество поездок\")"
   ]
  },
  {
   "cell_type": "markdown",
   "id": "497d7e3b",
   "metadata": {},
   "source": [
    "**Вывод:** Чаще всего, пользователи проезжают расстояние ~3 км."
   ]
  },
  {
   "cell_type": "markdown",
   "id": "e4ce85c1",
   "metadata": {},
   "source": [
    "**Продолжительность поездок.**"
   ]
  },
  {
   "cell_type": "code",
   "execution_count": 26,
   "id": "a241b109",
   "metadata": {},
   "outputs": [
    {
     "data": {
      "text/plain": [
       "Text(0, 0.5, 'Количество поездок')"
      ]
     },
     "execution_count": 26,
     "metadata": {},
     "output_type": "execute_result"
    },
    {
     "data": {
      "image/png": "[encoded data removed]",
      "text/plain": [
       "<Figure size 720x360 with 1 Axes>"
      ]
     },
     "metadata": {},
     "output_type": "display_data"
    }
   ],
   "source": [
    "data_rides.plot(y='duration', kind='hist', bins=50, grid=True, figsize=(10,5), range=(0,40), title='Продолжительность поездки', color = 'darkgreen', edgecolor = 'orange', legend = False)\n",
    "data_rides['duration'].describe()\n",
    "plt.xlabel(\"Время поездки (мин)\")\n",
    "plt.ylabel(\"Количество поездок\")"
   ]
  },
  {
   "cell_type": "code",
   "execution_count": 27,
   "id": "e7c0deaa",
   "metadata": {},
   "outputs": [],
   "source": [
    "#data_rides_0 = data_rides.query('duration <= 1')\n",
    "#data_rides_0.describe()"
   ]
  },
  {
   "cell_type": "markdown",
   "id": "ab13f9b1",
   "metadata": {},
   "source": [
    "**Вывод:** В среднем, пользователи используют самокат от 13 до 21 минуты."
   ]
  },
  {
   "cell_type": "markdown",
   "id": "cea20805",
   "metadata": {},
   "source": [
    "<div class=\"alert alert-secondary\" style=\"border-radius: 10px; box-shadow: 2px 2px 2px; border: 1px solid; padding: 10px \"> \n",
    "<b>Вывод по блоку 'Исследовательский анализ данных' :</b> \n",
    "    \n",
    "  \n",
    "    Пользователи практически равномерно распределены по городам, большая часть пользуется приложением без подписки. Возраст, в среднем, варьируется от 22 до 28 лет. Так же, выявили, что в среднем, пользователи используют самокат от 13 до 21 минут и проезжают расстояние ~ в 3 км.\n",
    "</div>"
   ]
  },
  {
   "cell_type": "markdown",
   "id": "d310ef2e",
   "metadata": {},
   "source": [
    "#### Шаг 4. Объединение данных"
   ]
  },
  {
   "cell_type": "markdown",
   "id": "0358aff5",
   "metadata": {},
   "source": [
    "Объединим данные о пользователях, поездках и подписках в один датафрейм. "
   ]
  },
  {
   "cell_type": "code",
   "execution_count": 28,
   "id": "2a5cd9c9",
   "metadata": {},
   "outputs": [
    {
     "data": {
      "text/html": [
       "<div>\n",
       "<style scoped>\n",
       "    .dataframe tbody tr th:only-of-type {\n",
       "        vertical-align: middle;\n",
       "    }\n",
       "\n",
       "    .dataframe tbody tr th {\n",
       "        vertical-align: top;\n",
       "    }\n",
       "\n",
       "    .dataframe thead th {\n",
       "        text-align: right;\n",
       "    }\n",
       "</style>\n",
       "<table border=\"1\" class=\"dataframe\">\n",
       "  <thead>\n",
       "    <tr style=\"text-align: right;\">\n",
       "      <th></th>\n",
       "      <th>user_id</th>\n",
       "      <th>age</th>\n",
       "      <th>distance</th>\n",
       "      <th>duration</th>\n",
       "      <th>date_month</th>\n",
       "      <th>minute_price</th>\n",
       "      <th>start_ride_price</th>\n",
       "      <th>subscription_fee</th>\n",
       "    </tr>\n",
       "  </thead>\n",
       "  <tbody>\n",
       "    <tr>\n",
       "      <th>count</th>\n",
       "      <td>17973.000000</td>\n",
       "      <td>17973.000000</td>\n",
       "      <td>17973.000000</td>\n",
       "      <td>17973.000000</td>\n",
       "      <td>17973.000000</td>\n",
       "      <td>17973.000000</td>\n",
       "      <td>17973.000000</td>\n",
       "      <td>17973.000000</td>\n",
       "    </tr>\n",
       "    <tr>\n",
       "      <th>mean</th>\n",
       "      <td>841.551995</td>\n",
       "      <td>24.890169</td>\n",
       "      <td>3059.863833</td>\n",
       "      <td>18.394981</td>\n",
       "      <td>6.486786</td>\n",
       "      <td>7.276693</td>\n",
       "      <td>31.917320</td>\n",
       "      <td>71.969065</td>\n",
       "    </tr>\n",
       "    <tr>\n",
       "      <th>std</th>\n",
       "      <td>435.144929</td>\n",
       "      <td>4.583348</td>\n",
       "      <td>1108.814612</td>\n",
       "      <td>5.979419</td>\n",
       "      <td>3.436024</td>\n",
       "      <td>0.960985</td>\n",
       "      <td>24.024629</td>\n",
       "      <td>95.618023</td>\n",
       "    </tr>\n",
       "    <tr>\n",
       "      <th>min</th>\n",
       "      <td>1.000000</td>\n",
       "      <td>12.000000</td>\n",
       "      <td>0.855683</td>\n",
       "      <td>3.000000</td>\n",
       "      <td>1.000000</td>\n",
       "      <td>6.000000</td>\n",
       "      <td>0.000000</td>\n",
       "      <td>0.000000</td>\n",
       "    </tr>\n",
       "    <tr>\n",
       "      <th>25%</th>\n",
       "      <td>484.000000</td>\n",
       "      <td>22.000000</td>\n",
       "      <td>2538.839628</td>\n",
       "      <td>14.000000</td>\n",
       "      <td>4.000000</td>\n",
       "      <td>6.000000</td>\n",
       "      <td>0.000000</td>\n",
       "      <td>0.000000</td>\n",
       "    </tr>\n",
       "    <tr>\n",
       "      <th>50%</th>\n",
       "      <td>887.000000</td>\n",
       "      <td>25.000000</td>\n",
       "      <td>3129.029255</td>\n",
       "      <td>18.000000</td>\n",
       "      <td>6.000000</td>\n",
       "      <td>8.000000</td>\n",
       "      <td>50.000000</td>\n",
       "      <td>0.000000</td>\n",
       "    </tr>\n",
       "    <tr>\n",
       "      <th>75%</th>\n",
       "      <td>1213.000000</td>\n",
       "      <td>28.000000</td>\n",
       "      <td>3762.636244</td>\n",
       "      <td>22.000000</td>\n",
       "      <td>9.000000</td>\n",
       "      <td>8.000000</td>\n",
       "      <td>50.000000</td>\n",
       "      <td>199.000000</td>\n",
       "    </tr>\n",
       "    <tr>\n",
       "      <th>max</th>\n",
       "      <td>1534.000000</td>\n",
       "      <td>43.000000</td>\n",
       "      <td>7066.003772</td>\n",
       "      <td>41.000000</td>\n",
       "      <td>12.000000</td>\n",
       "      <td>8.000000</td>\n",
       "      <td>50.000000</td>\n",
       "      <td>199.000000</td>\n",
       "    </tr>\n",
       "  </tbody>\n",
       "</table>\n",
       "</div>"
      ],
      "text/plain": [
       "            user_id           age      distance      duration    date_month  \\\n",
       "count  17973.000000  17973.000000  17973.000000  17973.000000  17973.000000   \n",
       "mean     841.551995     24.890169   3059.863833     18.394981      6.486786   \n",
       "std      435.144929      4.583348   1108.814612      5.979419      3.436024   \n",
       "min        1.000000     12.000000      0.855683      3.000000      1.000000   \n",
       "25%      484.000000     22.000000   2538.839628     14.000000      4.000000   \n",
       "50%      887.000000     25.000000   3129.029255     18.000000      6.000000   \n",
       "75%     1213.000000     28.000000   3762.636244     22.000000      9.000000   \n",
       "max     1534.000000     43.000000   7066.003772     41.000000     12.000000   \n",
       "\n",
       "       minute_price  start_ride_price  subscription_fee  \n",
       "count  17973.000000      17973.000000      17973.000000  \n",
       "mean       7.276693         31.917320         71.969065  \n",
       "std        0.960985         24.024629         95.618023  \n",
       "min        6.000000          0.000000          0.000000  \n",
       "25%        6.000000          0.000000          0.000000  \n",
       "50%        8.000000         50.000000          0.000000  \n",
       "75%        8.000000         50.000000        199.000000  \n",
       "max        8.000000         50.000000        199.000000  "
      ]
     },
     "execution_count": 28,
     "metadata": {},
     "output_type": "execute_result"
    }
   ],
   "source": [
    "data_full = data_users.merge(data_rides, on='user_id')\n",
    "data_full = data_full.merge(data_subscriptions, on='subscription_type')\n",
    "data_full['duration'] = np.ceil(data_full['duration'])\n",
    "data_full.describe()"
   ]
  },
  {
   "cell_type": "code",
   "execution_count": 29,
   "id": "4ed21e18",
   "metadata": {},
   "outputs": [
    {
     "name": "stdout",
     "output_type": "stream",
     "text": [
      "17973\n"
     ]
    },
    {
     "data": {
      "text/plain": [
       "17973"
      ]
     },
     "execution_count": 29,
     "metadata": {},
     "output_type": "execute_result"
    }
   ],
   "source": [
    "print(data_rides['user_id'].count()) #сравним кол-во строк до и после объединения\n",
    "data_full['user_id'].count()"
   ]
  },
  {
   "cell_type": "code",
   "execution_count": 30,
   "id": "e3c2ca8f",
   "metadata": {},
   "outputs": [
    {
     "data": {
      "text/html": [
       "<div>\n",
       "<style scoped>\n",
       "    .dataframe tbody tr th:only-of-type {\n",
       "        vertical-align: middle;\n",
       "    }\n",
       "\n",
       "    .dataframe tbody tr th {\n",
       "        vertical-align: top;\n",
       "    }\n",
       "\n",
       "    .dataframe thead th {\n",
       "        text-align: right;\n",
       "    }\n",
       "</style>\n",
       "<table border=\"1\" class=\"dataframe\">\n",
       "  <thead>\n",
       "    <tr style=\"text-align: right;\">\n",
       "      <th></th>\n",
       "      <th>user_id</th>\n",
       "      <th>name</th>\n",
       "      <th>age</th>\n",
       "      <th>city</th>\n",
       "      <th>subscription_type</th>\n",
       "      <th>distance</th>\n",
       "      <th>duration</th>\n",
       "      <th>date</th>\n",
       "      <th>date_month</th>\n",
       "      <th>minute_price</th>\n",
       "      <th>start_ride_price</th>\n",
       "      <th>subscription_fee</th>\n",
       "    </tr>\n",
       "  </thead>\n",
       "  <tbody>\n",
       "    <tr>\n",
       "      <th>0</th>\n",
       "      <td>1</td>\n",
       "      <td>Кира</td>\n",
       "      <td>22</td>\n",
       "      <td>Тюмень</td>\n",
       "      <td>ultra</td>\n",
       "      <td>4409.919140</td>\n",
       "      <td>26.0</td>\n",
       "      <td>2021-01-01</td>\n",
       "      <td>1</td>\n",
       "      <td>6</td>\n",
       "      <td>0</td>\n",
       "      <td>199</td>\n",
       "    </tr>\n",
       "    <tr>\n",
       "      <th>1</th>\n",
       "      <td>1</td>\n",
       "      <td>Кира</td>\n",
       "      <td>22</td>\n",
       "      <td>Тюмень</td>\n",
       "      <td>ultra</td>\n",
       "      <td>2617.592153</td>\n",
       "      <td>16.0</td>\n",
       "      <td>2021-01-18</td>\n",
       "      <td>1</td>\n",
       "      <td>6</td>\n",
       "      <td>0</td>\n",
       "      <td>199</td>\n",
       "    </tr>\n",
       "    <tr>\n",
       "      <th>2</th>\n",
       "      <td>1</td>\n",
       "      <td>Кира</td>\n",
       "      <td>22</td>\n",
       "      <td>Тюмень</td>\n",
       "      <td>ultra</td>\n",
       "      <td>754.159807</td>\n",
       "      <td>7.0</td>\n",
       "      <td>2021-04-20</td>\n",
       "      <td>4</td>\n",
       "      <td>6</td>\n",
       "      <td>0</td>\n",
       "      <td>199</td>\n",
       "    </tr>\n",
       "    <tr>\n",
       "      <th>3</th>\n",
       "      <td>1</td>\n",
       "      <td>Кира</td>\n",
       "      <td>22</td>\n",
       "      <td>Тюмень</td>\n",
       "      <td>ultra</td>\n",
       "      <td>2694.783254</td>\n",
       "      <td>19.0</td>\n",
       "      <td>2021-08-11</td>\n",
       "      <td>8</td>\n",
       "      <td>6</td>\n",
       "      <td>0</td>\n",
       "      <td>199</td>\n",
       "    </tr>\n",
       "    <tr>\n",
       "      <th>4</th>\n",
       "      <td>1</td>\n",
       "      <td>Кира</td>\n",
       "      <td>22</td>\n",
       "      <td>Тюмень</td>\n",
       "      <td>ultra</td>\n",
       "      <td>4028.687306</td>\n",
       "      <td>27.0</td>\n",
       "      <td>2021-08-28</td>\n",
       "      <td>8</td>\n",
       "      <td>6</td>\n",
       "      <td>0</td>\n",
       "      <td>199</td>\n",
       "    </tr>\n",
       "  </tbody>\n",
       "</table>\n",
       "</div>"
      ],
      "text/plain": [
       "   user_id  name  age    city subscription_type     distance  duration  \\\n",
       "0        1  Кира   22  Тюмень             ultra  4409.919140      26.0   \n",
       "1        1  Кира   22  Тюмень             ultra  2617.592153      16.0   \n",
       "2        1  Кира   22  Тюмень             ultra   754.159807       7.0   \n",
       "3        1  Кира   22  Тюмень             ultra  2694.783254      19.0   \n",
       "4        1  Кира   22  Тюмень             ultra  4028.687306      27.0   \n",
       "\n",
       "        date  date_month  minute_price  start_ride_price  subscription_fee  \n",
       "0 2021-01-01           1             6                 0               199  \n",
       "1 2021-01-18           1             6                 0               199  \n",
       "2 2021-04-20           4             6                 0               199  \n",
       "3 2021-08-11           8             6                 0               199  \n",
       "4 2021-08-28           8             6                 0               199  "
      ]
     },
     "execution_count": 30,
     "metadata": {},
     "output_type": "execute_result"
    }
   ],
   "source": [
    "data_full.head()"
   ]
  },
  {
   "cell_type": "markdown",
   "id": "fed6ed67",
   "metadata": {},
   "source": [
    "Cоздадим ещё два датафрейма:  \n",
    "- c данными о пользователях без подписки;\n",
    "- с данными о пользователях с подпиской."
   ]
  },
  {
   "cell_type": "code",
   "execution_count": 31,
   "id": "b6d62a1d",
   "metadata": {},
   "outputs": [],
   "source": [
    "data_full_free = data_full.loc[data_full['subscription_type'] == 'free']\n",
    "data_full_ultra = data_full.loc[data_full['subscription_type'] == 'ultra']"
   ]
  },
  {
   "cell_type": "code",
   "execution_count": 32,
   "id": "b95ac883",
   "metadata": {},
   "outputs": [
    {
     "data": {
      "text/html": [
       "<div>\n",
       "<style scoped>\n",
       "    .dataframe tbody tr th:only-of-type {\n",
       "        vertical-align: middle;\n",
       "    }\n",
       "\n",
       "    .dataframe tbody tr th {\n",
       "        vertical-align: top;\n",
       "    }\n",
       "\n",
       "    .dataframe thead th {\n",
       "        text-align: right;\n",
       "    }\n",
       "</style>\n",
       "<table border=\"1\" class=\"dataframe\">\n",
       "  <thead>\n",
       "    <tr style=\"text-align: right;\">\n",
       "      <th></th>\n",
       "      <th>user_id</th>\n",
       "      <th>name</th>\n",
       "      <th>age</th>\n",
       "      <th>city</th>\n",
       "      <th>subscription_type</th>\n",
       "      <th>distance</th>\n",
       "      <th>duration</th>\n",
       "      <th>date</th>\n",
       "      <th>date_month</th>\n",
       "      <th>minute_price</th>\n",
       "      <th>start_ride_price</th>\n",
       "      <th>subscription_fee</th>\n",
       "    </tr>\n",
       "  </thead>\n",
       "  <tbody>\n",
       "    <tr>\n",
       "      <th>6500</th>\n",
       "      <td>700</td>\n",
       "      <td>Айдар</td>\n",
       "      <td>22</td>\n",
       "      <td>Омск</td>\n",
       "      <td>free</td>\n",
       "      <td>2515.690719</td>\n",
       "      <td>15.0</td>\n",
       "      <td>2021-01-02</td>\n",
       "      <td>1</td>\n",
       "      <td>8</td>\n",
       "      <td>50</td>\n",
       "      <td>0</td>\n",
       "    </tr>\n",
       "    <tr>\n",
       "      <th>6501</th>\n",
       "      <td>700</td>\n",
       "      <td>Айдар</td>\n",
       "      <td>22</td>\n",
       "      <td>Омск</td>\n",
       "      <td>free</td>\n",
       "      <td>846.932642</td>\n",
       "      <td>17.0</td>\n",
       "      <td>2021-02-01</td>\n",
       "      <td>2</td>\n",
       "      <td>8</td>\n",
       "      <td>50</td>\n",
       "      <td>0</td>\n",
       "    </tr>\n",
       "    <tr>\n",
       "      <th>6502</th>\n",
       "      <td>700</td>\n",
       "      <td>Айдар</td>\n",
       "      <td>22</td>\n",
       "      <td>Омск</td>\n",
       "      <td>free</td>\n",
       "      <td>4004.434142</td>\n",
       "      <td>21.0</td>\n",
       "      <td>2021-02-04</td>\n",
       "      <td>2</td>\n",
       "      <td>8</td>\n",
       "      <td>50</td>\n",
       "      <td>0</td>\n",
       "    </tr>\n",
       "    <tr>\n",
       "      <th>6503</th>\n",
       "      <td>700</td>\n",
       "      <td>Айдар</td>\n",
       "      <td>22</td>\n",
       "      <td>Омск</td>\n",
       "      <td>free</td>\n",
       "      <td>1205.911290</td>\n",
       "      <td>10.0</td>\n",
       "      <td>2021-02-10</td>\n",
       "      <td>2</td>\n",
       "      <td>8</td>\n",
       "      <td>50</td>\n",
       "      <td>0</td>\n",
       "    </tr>\n",
       "    <tr>\n",
       "      <th>6504</th>\n",
       "      <td>700</td>\n",
       "      <td>Айдар</td>\n",
       "      <td>22</td>\n",
       "      <td>Омск</td>\n",
       "      <td>free</td>\n",
       "      <td>3047.379435</td>\n",
       "      <td>18.0</td>\n",
       "      <td>2021-02-14</td>\n",
       "      <td>2</td>\n",
       "      <td>8</td>\n",
       "      <td>50</td>\n",
       "      <td>0</td>\n",
       "    </tr>\n",
       "  </tbody>\n",
       "</table>\n",
       "</div>"
      ],
      "text/plain": [
       "      user_id   name  age  city subscription_type     distance  duration  \\\n",
       "6500      700  Айдар   22  Омск              free  2515.690719      15.0   \n",
       "6501      700  Айдар   22  Омск              free   846.932642      17.0   \n",
       "6502      700  Айдар   22  Омск              free  4004.434142      21.0   \n",
       "6503      700  Айдар   22  Омск              free  1205.911290      10.0   \n",
       "6504      700  Айдар   22  Омск              free  3047.379435      18.0   \n",
       "\n",
       "           date  date_month  minute_price  start_ride_price  subscription_fee  \n",
       "6500 2021-01-02           1             8                50                 0  \n",
       "6501 2021-02-01           2             8                50                 0  \n",
       "6502 2021-02-04           2             8                50                 0  \n",
       "6503 2021-02-10           2             8                50                 0  \n",
       "6504 2021-02-14           2             8                50                 0  "
      ]
     },
     "execution_count": 32,
     "metadata": {},
     "output_type": "execute_result"
    }
   ],
   "source": [
    "data_full_free.head()"
   ]
  },
  {
   "cell_type": "code",
   "execution_count": 33,
   "id": "fcd43d61",
   "metadata": {},
   "outputs": [
    {
     "data": {
      "text/html": [
       "<div>\n",
       "<style scoped>\n",
       "    .dataframe tbody tr th:only-of-type {\n",
       "        vertical-align: middle;\n",
       "    }\n",
       "\n",
       "    .dataframe tbody tr th {\n",
       "        vertical-align: top;\n",
       "    }\n",
       "\n",
       "    .dataframe thead th {\n",
       "        text-align: right;\n",
       "    }\n",
       "</style>\n",
       "<table border=\"1\" class=\"dataframe\">\n",
       "  <thead>\n",
       "    <tr style=\"text-align: right;\">\n",
       "      <th></th>\n",
       "      <th>user_id</th>\n",
       "      <th>name</th>\n",
       "      <th>age</th>\n",
       "      <th>city</th>\n",
       "      <th>subscription_type</th>\n",
       "      <th>distance</th>\n",
       "      <th>duration</th>\n",
       "      <th>date</th>\n",
       "      <th>date_month</th>\n",
       "      <th>minute_price</th>\n",
       "      <th>start_ride_price</th>\n",
       "      <th>subscription_fee</th>\n",
       "    </tr>\n",
       "  </thead>\n",
       "  <tbody>\n",
       "    <tr>\n",
       "      <th>0</th>\n",
       "      <td>1</td>\n",
       "      <td>Кира</td>\n",
       "      <td>22</td>\n",
       "      <td>Тюмень</td>\n",
       "      <td>ultra</td>\n",
       "      <td>4409.919140</td>\n",
       "      <td>26.0</td>\n",
       "      <td>2021-01-01</td>\n",
       "      <td>1</td>\n",
       "      <td>6</td>\n",
       "      <td>0</td>\n",
       "      <td>199</td>\n",
       "    </tr>\n",
       "    <tr>\n",
       "      <th>1</th>\n",
       "      <td>1</td>\n",
       "      <td>Кира</td>\n",
       "      <td>22</td>\n",
       "      <td>Тюмень</td>\n",
       "      <td>ultra</td>\n",
       "      <td>2617.592153</td>\n",
       "      <td>16.0</td>\n",
       "      <td>2021-01-18</td>\n",
       "      <td>1</td>\n",
       "      <td>6</td>\n",
       "      <td>0</td>\n",
       "      <td>199</td>\n",
       "    </tr>\n",
       "    <tr>\n",
       "      <th>2</th>\n",
       "      <td>1</td>\n",
       "      <td>Кира</td>\n",
       "      <td>22</td>\n",
       "      <td>Тюмень</td>\n",
       "      <td>ultra</td>\n",
       "      <td>754.159807</td>\n",
       "      <td>7.0</td>\n",
       "      <td>2021-04-20</td>\n",
       "      <td>4</td>\n",
       "      <td>6</td>\n",
       "      <td>0</td>\n",
       "      <td>199</td>\n",
       "    </tr>\n",
       "    <tr>\n",
       "      <th>3</th>\n",
       "      <td>1</td>\n",
       "      <td>Кира</td>\n",
       "      <td>22</td>\n",
       "      <td>Тюмень</td>\n",
       "      <td>ultra</td>\n",
       "      <td>2694.783254</td>\n",
       "      <td>19.0</td>\n",
       "      <td>2021-08-11</td>\n",
       "      <td>8</td>\n",
       "      <td>6</td>\n",
       "      <td>0</td>\n",
       "      <td>199</td>\n",
       "    </tr>\n",
       "    <tr>\n",
       "      <th>4</th>\n",
       "      <td>1</td>\n",
       "      <td>Кира</td>\n",
       "      <td>22</td>\n",
       "      <td>Тюмень</td>\n",
       "      <td>ultra</td>\n",
       "      <td>4028.687306</td>\n",
       "      <td>27.0</td>\n",
       "      <td>2021-08-28</td>\n",
       "      <td>8</td>\n",
       "      <td>6</td>\n",
       "      <td>0</td>\n",
       "      <td>199</td>\n",
       "    </tr>\n",
       "  </tbody>\n",
       "</table>\n",
       "</div>"
      ],
      "text/plain": [
       "   user_id  name  age    city subscription_type     distance  duration  \\\n",
       "0        1  Кира   22  Тюмень             ultra  4409.919140      26.0   \n",
       "1        1  Кира   22  Тюмень             ultra  2617.592153      16.0   \n",
       "2        1  Кира   22  Тюмень             ultra   754.159807       7.0   \n",
       "3        1  Кира   22  Тюмень             ultra  2694.783254      19.0   \n",
       "4        1  Кира   22  Тюмень             ultra  4028.687306      27.0   \n",
       "\n",
       "        date  date_month  minute_price  start_ride_price  subscription_fee  \n",
       "0 2021-01-01           1             6                 0               199  \n",
       "1 2021-01-18           1             6                 0               199  \n",
       "2 2021-04-20           4             6                 0               199  \n",
       "3 2021-08-11           8             6                 0               199  \n",
       "4 2021-08-28           8             6                 0               199  "
      ]
     },
     "execution_count": 33,
     "metadata": {},
     "output_type": "execute_result"
    }
   ],
   "source": [
    "data_full_ultra.head()"
   ]
  },
  {
   "cell_type": "markdown",
   "id": "6f86af59",
   "metadata": {},
   "source": [
    "Визуализируем информацию о расстоянии и времени поездок для пользователей обеих категорий."
   ]
  },
  {
   "cell_type": "code",
   "execution_count": 34,
   "id": "ca72442a",
   "metadata": {},
   "outputs": [
    {
     "data": {
      "image/png": "[encoded data removed]",
      "text/plain": [
       "<Figure size 720x360 with 1 Axes>"
      ]
     },
     "metadata": {},
     "output_type": "display_data"
    },
    {
     "name": "stdout",
     "output_type": "stream",
     "text": [
      "count    11473.000000\n",
      "mean      3028.374239\n",
      "std       1235.541051\n",
      "min          0.855683\n",
      "25%       2360.878149\n",
      "50%       3102.083025\n",
      "75%       3883.979311\n",
      "max       7066.003772\n",
      "Name: distance, dtype: float64\n"
     ]
    },
    {
     "data": {
      "image/png": "[encoded data removed]",
      "text/plain": [
       "<Figure size 720x360 with 1 Axes>"
      ]
     },
     "metadata": {},
     "output_type": "display_data"
    },
    {
     "name": "stdout",
     "output_type": "stream",
     "text": [
      "count    11473.000000\n",
      "mean        18.030855\n",
      "std          6.166175\n",
      "min          3.000000\n",
      "25%         14.000000\n",
      "50%         18.000000\n",
      "75%         22.000000\n",
      "max         35.000000\n",
      "Name: duration, dtype: float64\n"
     ]
    }
   ],
   "source": [
    "data_full_free.plot(y='distance', kind='hist', bins=40, grid=True, figsize=(10,5), range=(0,7300), title='Расстояние за одну поездку для пользователей без подписки', color = 'darkgreen', edgecolor = 'orange', legend = False)\n",
    "plt.xlabel(\"Расстояние (метр)\")\n",
    "plt.ylabel(\"Количество поездок\")\n",
    "plt.show()\n",
    "print(data_full_free['distance'].describe())\n",
    "data_full_free.plot(y='duration', kind='hist', bins=40, grid=True, figsize=(10,5), range=(0,40), title='Продолжительность поездки для пользователей без подписки', color = 'darkgreen', edgecolor = 'orange', legend = False)\n",
    "plt.xlabel(\"Время (мин)\")\n",
    "plt.ylabel(\"Количество поездок\")\n",
    "plt.show()\n",
    "print(data_full_free['duration'].describe())"
   ]
  },
  {
   "cell_type": "code",
   "execution_count": 35,
   "id": "ace7b725",
   "metadata": {},
   "outputs": [
    {
     "data": {
      "image/png": "[encoded data removed]",
      "text/plain": [
       "<Figure size 720x360 with 1 Axes>"
      ]
     },
     "metadata": {},
     "output_type": "display_data"
    },
    {
     "name": "stdout",
     "output_type": "stream",
     "text": [
      "count    6500.000000\n",
      "mean     3115.445388\n",
      "std       836.895330\n",
      "min       244.210438\n",
      "25%      2785.444017\n",
      "50%      3148.637229\n",
      "75%      3560.574425\n",
      "max      5699.769662\n",
      "Name: distance, dtype: float64\n"
     ]
    },
    {
     "data": {
      "image/png": "[encoded data removed]",
      "text/plain": [
       "<Figure size 720x360 with 1 Axes>"
      ]
     },
     "metadata": {},
     "output_type": "display_data"
    },
    {
     "name": "stdout",
     "output_type": "stream",
     "text": [
      "count    6500.000000\n",
      "mean       19.037692\n",
      "std         5.577439\n",
      "min         4.000000\n",
      "25%        15.000000\n",
      "50%        19.000000\n",
      "75%        22.000000\n",
      "max        41.000000\n",
      "Name: duration, dtype: float64\n"
     ]
    }
   ],
   "source": [
    "data_full_ultra.plot(y='distance', kind='hist', bins=40, grid=True, figsize=(10,5), range=(0,7300), title='Расстояние за одну поездку для пользователей с подпиской', color = 'darkgreen', edgecolor = 'orange', legend = False)\n",
    "plt.xlabel(\"Расстояние (метр)\")\n",
    "plt.ylabel(\"Количество поездок\")\n",
    "plt.show()\n",
    "print(data_full_ultra['distance'].describe())\n",
    "data_full_ultra.plot(y='duration', kind='hist', bins=40, grid=True, figsize=(10,5), range=(0,40), title='Продолжительность поездки для пользователей с подпиской', color = 'darkgreen', edgecolor = 'orange', legend = False)\n",
    "plt.xlabel(\"Время (мин)\")\n",
    "plt.ylabel(\"Количество поездок\")\n",
    "plt.show()\n",
    "print(data_full_ultra['duration'].describe())"
   ]
  },
  {
   "cell_type": "markdown",
   "id": "c800e617",
   "metadata": {},
   "source": [
    "<div class=\"alert alert-secondary\" style=\"border-radius: 10px; box-shadow: 2px 2px 2px; border: 1px solid; padding: 10px \"> \n",
    "<b>Вывод по блоку 'Объединение данных' :</b> \n",
    "    \n",
    "  \n",
    "    Объединили все 3 таблицы в одну. Сравнили расстояние и продолжительность поездок для пользователей с подпиской и без. Существенной разницы нет, пользователи с подпиской имеют чуть больший разброс в продолжительности поездок, пользователи же без подписки, в среднем, используют самокат чуть дольше.\n",
    "</div>"
   ]
  },
  {
   "cell_type": "markdown",
   "id": "5b06903d",
   "metadata": {},
   "source": [
    "#### Шаг 5. Подсчёт выручки"
   ]
  },
  {
   "cell_type": "markdown",
   "id": "fefe10bc",
   "metadata": {},
   "source": [
    "Создадим датафрейм с агрегированными данными о поездках на основе датафрейма с объединёнными данными из шага 4: найдём суммарное расстояние, количество поездок и суммарное время для каждого пользователя за каждый месяц."
   ]
  },
  {
   "cell_type": "code",
   "execution_count": 36,
   "id": "a5707173",
   "metadata": {},
   "outputs": [
    {
     "data": {
      "text/html": [
       "<div>\n",
       "<style scoped>\n",
       "    .dataframe tbody tr th:only-of-type {\n",
       "        vertical-align: middle;\n",
       "    }\n",
       "\n",
       "    .dataframe tbody tr th {\n",
       "        vertical-align: top;\n",
       "    }\n",
       "\n",
       "    .dataframe thead th {\n",
       "        text-align: right;\n",
       "    }\n",
       "</style>\n",
       "<table border=\"1\" class=\"dataframe\">\n",
       "  <thead>\n",
       "    <tr style=\"text-align: right;\">\n",
       "      <th></th>\n",
       "      <th>user_id</th>\n",
       "      <th>date_month</th>\n",
       "      <th>subscription_type</th>\n",
       "      <th>minute_price</th>\n",
       "      <th>start_ride_price</th>\n",
       "      <th>subscription_fee</th>\n",
       "      <th>duration</th>\n",
       "      <th>distance</th>\n",
       "      <th>name</th>\n",
       "    </tr>\n",
       "  </thead>\n",
       "  <tbody>\n",
       "    <tr>\n",
       "      <th>0</th>\n",
       "      <td>1</td>\n",
       "      <td>1</td>\n",
       "      <td>ultra</td>\n",
       "      <td>6</td>\n",
       "      <td>0</td>\n",
       "      <td>199</td>\n",
       "      <td>42.0</td>\n",
       "      <td>7027.511294</td>\n",
       "      <td>2</td>\n",
       "    </tr>\n",
       "    <tr>\n",
       "      <th>1</th>\n",
       "      <td>1</td>\n",
       "      <td>4</td>\n",
       "      <td>ultra</td>\n",
       "      <td>6</td>\n",
       "      <td>0</td>\n",
       "      <td>199</td>\n",
       "      <td>7.0</td>\n",
       "      <td>754.159807</td>\n",
       "      <td>1</td>\n",
       "    </tr>\n",
       "    <tr>\n",
       "      <th>2</th>\n",
       "      <td>1</td>\n",
       "      <td>8</td>\n",
       "      <td>ultra</td>\n",
       "      <td>6</td>\n",
       "      <td>0</td>\n",
       "      <td>199</td>\n",
       "      <td>46.0</td>\n",
       "      <td>6723.470560</td>\n",
       "      <td>2</td>\n",
       "    </tr>\n",
       "    <tr>\n",
       "      <th>3</th>\n",
       "      <td>1</td>\n",
       "      <td>10</td>\n",
       "      <td>ultra</td>\n",
       "      <td>6</td>\n",
       "      <td>0</td>\n",
       "      <td>199</td>\n",
       "      <td>32.0</td>\n",
       "      <td>5809.911100</td>\n",
       "      <td>2</td>\n",
       "    </tr>\n",
       "    <tr>\n",
       "      <th>4</th>\n",
       "      <td>1</td>\n",
       "      <td>11</td>\n",
       "      <td>ultra</td>\n",
       "      <td>6</td>\n",
       "      <td>0</td>\n",
       "      <td>199</td>\n",
       "      <td>56.0</td>\n",
       "      <td>7003.499363</td>\n",
       "      <td>3</td>\n",
       "    </tr>\n",
       "  </tbody>\n",
       "</table>\n",
       "</div>"
      ],
      "text/plain": [
       "   user_id  date_month subscription_type  minute_price  start_ride_price  \\\n",
       "0        1           1             ultra             6                 0   \n",
       "1        1           4             ultra             6                 0   \n",
       "2        1           8             ultra             6                 0   \n",
       "3        1          10             ultra             6                 0   \n",
       "4        1          11             ultra             6                 0   \n",
       "\n",
       "   subscription_fee  duration     distance  name  \n",
       "0               199      42.0  7027.511294     2  \n",
       "1               199       7.0   754.159807     1  \n",
       "2               199      46.0  6723.470560     2  \n",
       "3               199      32.0  5809.911100     2  \n",
       "4               199      56.0  7003.499363     3  "
      ]
     },
     "execution_count": 36,
     "metadata": {},
     "output_type": "execute_result"
    }
   ],
   "source": [
    "data_full_group = data_full.groupby(['user_id', 'date_month', 'subscription_type', 'minute_price', 'start_ride_price', 'subscription_fee']).agg({'duration':'sum', 'distance':'sum', 'name':'count'}).reset_index()\n",
    "data_full_group.head()"
   ]
  },
  {
   "cell_type": "markdown",
   "id": "abea343d",
   "metadata": {},
   "source": [
    "В этот же датафрейм добавим столбец с помесячной выручкой, которую принёс каждый пользователь."
   ]
  },
  {
   "cell_type": "code",
   "execution_count": 37,
   "id": "e54da930",
   "metadata": {},
   "outputs": [
    {
     "data": {
      "text/html": [
       "<div>\n",
       "<style scoped>\n",
       "    .dataframe tbody tr th:only-of-type {\n",
       "        vertical-align: middle;\n",
       "    }\n",
       "\n",
       "    .dataframe tbody tr th {\n",
       "        vertical-align: top;\n",
       "    }\n",
       "\n",
       "    .dataframe thead th {\n",
       "        text-align: right;\n",
       "    }\n",
       "</style>\n",
       "<table border=\"1\" class=\"dataframe\">\n",
       "  <thead>\n",
       "    <tr style=\"text-align: right;\">\n",
       "      <th></th>\n",
       "      <th>user_id</th>\n",
       "      <th>date_month</th>\n",
       "      <th>subscription_type</th>\n",
       "      <th>minute_price</th>\n",
       "      <th>start_ride_price</th>\n",
       "      <th>subscription_fee</th>\n",
       "      <th>duration</th>\n",
       "      <th>distance</th>\n",
       "      <th>name</th>\n",
       "      <th>monthly_revenue</th>\n",
       "    </tr>\n",
       "  </thead>\n",
       "  <tbody>\n",
       "    <tr>\n",
       "      <th>10762</th>\n",
       "      <td>1471</td>\n",
       "      <td>1</td>\n",
       "      <td>free</td>\n",
       "      <td>8</td>\n",
       "      <td>50</td>\n",
       "      <td>0</td>\n",
       "      <td>143.0</td>\n",
       "      <td>23098.193122</td>\n",
       "      <td>6</td>\n",
       "      <td>1444.0</td>\n",
       "    </tr>\n",
       "    <tr>\n",
       "      <th>7606</th>\n",
       "      <td>1083</td>\n",
       "      <td>5</td>\n",
       "      <td>free</td>\n",
       "      <td>8</td>\n",
       "      <td>50</td>\n",
       "      <td>0</td>\n",
       "      <td>129.0</td>\n",
       "      <td>23429.487786</td>\n",
       "      <td>7</td>\n",
       "      <td>1382.0</td>\n",
       "    </tr>\n",
       "    <tr>\n",
       "      <th>4659</th>\n",
       "      <td>715</td>\n",
       "      <td>12</td>\n",
       "      <td>free</td>\n",
       "      <td>8</td>\n",
       "      <td>50</td>\n",
       "      <td>0</td>\n",
       "      <td>131.0</td>\n",
       "      <td>22712.450389</td>\n",
       "      <td>6</td>\n",
       "      <td>1348.0</td>\n",
       "    </tr>\n",
       "    <tr>\n",
       "      <th>10387</th>\n",
       "      <td>1424</td>\n",
       "      <td>4</td>\n",
       "      <td>free</td>\n",
       "      <td>8</td>\n",
       "      <td>50</td>\n",
       "      <td>0</td>\n",
       "      <td>124.0</td>\n",
       "      <td>21527.849820</td>\n",
       "      <td>7</td>\n",
       "      <td>1342.0</td>\n",
       "    </tr>\n",
       "    <tr>\n",
       "      <th>10047</th>\n",
       "      <td>1383</td>\n",
       "      <td>1</td>\n",
       "      <td>free</td>\n",
       "      <td>8</td>\n",
       "      <td>50</td>\n",
       "      <td>0</td>\n",
       "      <td>123.0</td>\n",
       "      <td>20653.334199</td>\n",
       "      <td>6</td>\n",
       "      <td>1284.0</td>\n",
       "    </tr>\n",
       "  </tbody>\n",
       "</table>\n",
       "</div>"
      ],
      "text/plain": [
       "       user_id  date_month subscription_type  minute_price  start_ride_price  \\\n",
       "10762     1471           1              free             8                50   \n",
       "7606      1083           5              free             8                50   \n",
       "4659       715          12              free             8                50   \n",
       "10387     1424           4              free             8                50   \n",
       "10047     1383           1              free             8                50   \n",
       "\n",
       "       subscription_fee  duration      distance  name  monthly_revenue  \n",
       "10762                 0     143.0  23098.193122     6           1444.0  \n",
       "7606                  0     129.0  23429.487786     7           1382.0  \n",
       "4659                  0     131.0  22712.450389     6           1348.0  \n",
       "10387                 0     124.0  21527.849820     7           1342.0  \n",
       "10047                 0     123.0  20653.334199     6           1284.0  "
      ]
     },
     "execution_count": 37,
     "metadata": {},
     "output_type": "execute_result"
    }
   ],
   "source": [
    "data_full_group['monthly_revenue'] = data_full_group['start_ride_price'] * data_full_group['name'] + data_full_group['minute_price'] * data_full_group['duration'] + data_full_group['subscription_fee']\n",
    "data_full_group.sort_values(by='monthly_revenue', ascending=False).head()"
   ]
  },
  {
   "cell_type": "code",
   "execution_count": 38,
   "id": "4fac6a2e",
   "metadata": {},
   "outputs": [
    {
     "data": {
      "text/plain": [
       "count    11300.000000\n",
       "mean       342.754956\n",
       "std        153.317314\n",
       "min         74.000000\n",
       "25%        234.000000\n",
       "50%        319.000000\n",
       "75%        415.000000\n",
       "max       1444.000000\n",
       "Name: monthly_revenue, dtype: float64"
      ]
     },
     "execution_count": 38,
     "metadata": {},
     "output_type": "execute_result"
    }
   ],
   "source": [
    "data_full_group['monthly_revenue'].describe()"
   ]
  },
  {
   "cell_type": "markdown",
   "id": "8e613f1c",
   "metadata": {},
   "source": [
    "<div class=\"alert alert-secondary\" style=\"border-radius: 10px; box-shadow: 2px 2px 2px; border: 1px solid; padding: 10px \"> \n",
    "<b>Вывод по блоку 'Подсчёт выручки' :</b> \n",
    "    \n",
    "  \n",
    "    Сгрупировали данные для каждого пользователя за каждый месяц и посчитали суммарное расстояние, количество поездок и суммарное время. На основании этих данных рассчитали помесячную выручку для каждого пользователя. Максимальное значение составило 1444 руб.\n",
    "</div>"
   ]
  },
  {
   "cell_type": "markdown",
   "id": "40f7d4d9",
   "metadata": {},
   "source": [
    "#### Шаг 6. Проверка гипотез"
   ]
  },
  {
   "cell_type": "markdown",
   "id": "585172cd",
   "metadata": {},
   "source": [
    "Продакт-менеджеры сервиса хотят увеличить количество пользователей с подпиской. Для этого они будут проводить различные акции, но сначала нужно выяснить несколько важных моментов."
   ]
  },
  {
   "cell_type": "markdown",
   "id": "a2b69889",
   "metadata": {},
   "source": [
    "- Важно понять, тратят ли пользователи с подпиской больше времени на поездки? Если да, то пользователи с подпиской могут быть «выгоднее» для компании. Проверьте гипотезу. Используйте исходные данные о продолжительности каждой сессии — отдельно для подписчиков и тех, у кого нет подписки."
   ]
  },
  {
   "cell_type": "markdown",
   "id": "acf56b54",
   "metadata": {},
   "source": [
    "Сформулируем нулевую и альтернативную гипотезы:  \n",
    "Н0 - У пользователей с подпиской среднее время поездки такое же как у пользователей без подписки.   \n",
    "Н1 - У пользователей с подпиской среднее время поездки больше чем у пользователей без подписки."
   ]
  },
  {
   "cell_type": "code",
   "execution_count": 39,
   "id": "284eea66",
   "metadata": {},
   "outputs": [
    {
     "name": "stdout",
     "output_type": "stream",
     "text": [
      "p-значение: 8.577910347796266e-28\n",
      "Отвергаем нулевую гипотезу\n"
     ]
    }
   ],
   "source": [
    "alpha = 0.05\n",
    "\n",
    "results = st.ttest_ind(data_full_ultra['duration'], data_full_free['duration'], alternative='greater')\n",
    "\n",
    "print('p-значение:', results.pvalue)\n",
    "\n",
    "if results.pvalue < alpha:\n",
    "    print('Отвергаем нулевую гипотезу')\n",
    "else:\n",
    "    print('Не получилось отвергнуть нулевую гипотезу') "
   ]
  },
  {
   "cell_type": "code",
   "execution_count": 40,
   "id": "39b77489",
   "metadata": {},
   "outputs": [
    {
     "name": "stdout",
     "output_type": "stream",
     "text": [
      "19.037692307692307 18.030855050989278\n"
     ]
    }
   ],
   "source": [
    "print(data_full_ultra['duration'].mean(), data_full_free['duration'].mean()) #выведем среднее значение продолжительности поездок для каждой категории пользователей"
   ]
  },
  {
   "cell_type": "markdown",
   "id": "086928e3",
   "metadata": {},
   "source": [
    "**Вывод:** Нулевая гипотеза не подтверждается, у пользователей с подпиской среднее время поездки больше чем у пользователей без подписки."
   ]
  },
  {
   "cell_type": "markdown",
   "id": "66f347e3",
   "metadata": {},
   "source": [
    "- Расстояние одной поездки в 3130 метров — оптимальное с точки зрения износа самоката. Можно ли сказать, что расстояние, которое проезжают пользователи с подпиской за одну поездку, не превышает 3130 метров? Проверьте гипотезу и сделайте выводы."
   ]
  },
  {
   "cell_type": "markdown",
   "id": "9640cd3a",
   "metadata": {},
   "source": [
    "Сформулируем нулевую и альтернативную гипотезы:  \n",
    "Н0 - Пользователи с подпиской в среднем проезжают расстояние равное 3130 метров.   \n",
    "Н1 - Пользователи с подпиской в среднем проезжают расстояние больше чем 3130 метров. "
   ]
  },
  {
   "cell_type": "code",
   "execution_count": 41,
   "id": "f97b4e34",
   "metadata": {},
   "outputs": [
    {
     "name": "stdout",
     "output_type": "stream",
     "text": [
      "p-значение: 0.9195368847849785\n",
      "Не отвергаем нулевую гипотезу\n"
     ]
    }
   ],
   "source": [
    "alpha = 0.05\n",
    "optimal_distance = 3130\n",
    "\n",
    "results = st.ttest_1samp(data_full_ultra['distance'], optimal_distance, alternative='greater')\n",
    "\n",
    "print('p-значение:', results.pvalue)\n",
    "\n",
    "if (results.pvalue < alpha):\n",
    "    print('Отвергаем нулевую гипотезу')\n",
    "else:\n",
    "    print('Не отвергаем нулевую гипотезу') "
   ]
  },
  {
   "cell_type": "markdown",
   "id": "fb7913b2",
   "metadata": {},
   "source": [
    "**Вывод:** Гипотеза подтверждается, расстояние которое проезжают пользователи с подпиской, в среднем, не превышает 3130 метров."
   ]
  },
  {
   "cell_type": "markdown",
   "id": "7a8652fb",
   "metadata": {},
   "source": [
    "- Проверьте гипотезу о том, будет ли помесячная выручка от пользователей с подпиской по месяцам выше, чем выручка от пользователей без подписки. Сделайте вывод."
   ]
  },
  {
   "cell_type": "markdown",
   "id": "535f9e8f",
   "metadata": {},
   "source": [
    "Сформулируем гипотезы:  \n",
    "Н0 - Помесячная выручка от пользвателей с подпиской равна выручке от пользователей без подписки.  \n",
    "Н1 - Помесячная выручка от пользвателей с подпиской выше чем выручка от пользователей без подписки.  "
   ]
  },
  {
   "cell_type": "code",
   "execution_count": 42,
   "id": "f51b4e5d",
   "metadata": {},
   "outputs": [
    {
     "name": "stdout",
     "output_type": "stream",
     "text": [
      "p-значение: 2.0314113674863288e-30\n",
      "Отвергаем нулевую гипотезу\n"
     ]
    }
   ],
   "source": [
    "alpha = 0.05 \n",
    "\n",
    "sample_1 = data_full_group.query('subscription_type == \"ultra\"')['monthly_revenue']\n",
    "sample_2 = data_full_group.query('subscription_type == \"free\"')['monthly_revenue']\n",
    "\n",
    "results = st.ttest_ind(sample_1, sample_2, alternative = 'greater')\n",
    "\n",
    "print('p-значение:', results.pvalue)\n",
    "\n",
    "if results.pvalue < alpha:\n",
    "    print('Отвергаем нулевую гипотезу')\n",
    "else:\n",
    "    print('Не получилось отвергнуть нулевую гипотезу') "
   ]
  },
  {
   "cell_type": "code",
   "execution_count": 43,
   "id": "402d4022",
   "metadata": {},
   "outputs": [
    {
     "name": "stdout",
     "output_type": "stream",
     "text": [
      "Значение средней выручки для пользователей с подпиской: 362.7921906022502\n",
      "Значение средней выручки для пользователей без подписки: 329.3326437121324\n"
     ]
    }
   ],
   "source": [
    "print('Значение средней выручки для пользователей с подпиской:', data_full_group.query('subscription_type == \"ultra\"')['monthly_revenue'].mean())\n",
    "print('Значение средней выручки для пользователей без подписки:', data_full_group.query('subscription_type == \"free\"')['monthly_revenue'].mean())"
   ]
  },
  {
   "cell_type": "markdown",
   "id": "263f7295",
   "metadata": {},
   "source": [
    "**Вывод:** Гипотеза подтверждается, помесячная выручка от пользователей с подпиской выше чем от пользователей без подписки."
   ]
  },
  {
   "cell_type": "markdown",
   "id": "af522b5f",
   "metadata": {},
   "source": [
    "- Представьте такую ситуацию: техническая команда сервиса обновила сервера, с которыми взаимодействует мобильное приложение. Она надеется, что из-за этого количество обращений в техподдержку значимо снизилось. Некоторый файл содержит для каждого пользователя данные о количестве обращений до обновления и после него. Какой тест вам понадобился бы для проверки этой гипотезы?"
   ]
  },
  {
   "cell_type": "markdown",
   "id": "95c13689",
   "metadata": {},
   "source": [
    "**Ответ:** Для проверки этой гипотезы понадобится метод: **scipy.stats.ttest_rel** (О равенстве среднего значения генеральной совокупности до и после изменения)."
   ]
  },
  {
   "cell_type": "markdown",
   "id": "1f414614",
   "metadata": {},
   "source": [
    "<div class=\"alert alert-secondary\" style=\"border-radius: 10px; box-shadow: 2px 2px 2px; border: 1px solid; padding: 10px \"> \n",
    "<b>Вывод по блоку 'Проверка гипотез' :</b> \n",
    "    \n",
    "  \n",
    "    Проверили 3 гипотезы:\n",
    "    - Пользователи с подпиской не тратят больше времени на поездки, чем пользователи без подписки.\n",
    "    - Расстояние которое проезжают пользователи с подпиской, в среднем, не приевышает 3130 метров.\n",
    "    - Помесячная выручка от пользователей с подпиской выше чем от пользователей без подписки.\n",
    "</div>"
   ]
  },
  {
   "cell_type": "markdown",
   "id": "4e1b7f6d",
   "metadata": {},
   "source": [
    "#### Шаг 7. Распределения"
   ]
  },
  {
   "cell_type": "markdown",
   "id": "1f1c3629",
   "metadata": {},
   "source": [
    "<div class=\"alert alert-secondary\" style=\"border-radius: 10px; box-shadow: 2px 2px 2px; border: 1px solid; padding: 10px \"> \n",
    "<b>Вывод :</b> \n",
    "    \n",
    "  \n",
    "    Дедлайн по сборному проекту близко, пока нет времени. Потом вернусь к этому необязательному заданию.\n",
    "</div>"
   ]
  },
  {
   "cell_type": "markdown",
   "id": "a81f0d59",
   "metadata": {},
   "source": [
    "<div class=\"alert alert-secondary\" style=\"border-radius: 10px; box-shadow: 2px 2px 2px; border: 1px solid; padding: 10px \"> \n",
    "<b>Итоговый вывод исследования популярного сервиса аренды самокатов GoFast:</b> \n",
    "    \n",
    "  \n",
    "На основании переданных нам данных о пользователях из нескольких городов, а также об их поездках был проведён анализ данных и проверка некоторых гипотез, которые могут помочь популярному сервису аренды самокатов GoFast вырасти.\n",
    "  \n",
    "Было полученно 3 таблицы: \n",
    "- Первая с данными по клиентам.\n",
    "- Вторая c данными по поездкам.\n",
    "- Третья с данными по подпискам.\n",
    "\n",
    "Чтобы совершать поездки по городу, пользователи сервиса GoFast пользуются мобильным приложением. Сервисом можно пользоваться: \n",
    "\n",
    "без подписки  \n",
    "абонентская плата отсутствует;  \n",
    "стоимость одной минуты поездки — 8 рублей;  \n",
    "стоимость старта (начала поездки) — 50 рублей;  \n",
    "\n",
    "с подпиской Ultra  \n",
    "абонентская плата — 199 рублей в месяц;  \n",
    "стоимость одной минуты поездки — 6 рублей;  \n",
    "стоимость старта — бесплатно. \n",
    "\n",
    "На этапе 'Предобработка данных' :  \n",
    "Убрали явные дубликаты в таблице data_users, проверили неявные в имени пользователей и наименовании городов. \n",
    "Привели столбец date к типу данных pandas.\n",
    "Создали новый столбец с номером месяца на основе столбца date.\n",
    "  \n",
    "На этапе 'Исследовательский анализ данных' выявили что:  \n",
    "Пользователи практически равномерно распределены по городам, большая часть пользуется приложением без подписки. Возраст, в среднем, варьируется от 22 до 28 лет. Так же, выявили, что в среднем, пользователи используют самокат от 13 до 21 минут и проезжают расстояние ~ в 3 км.  \n",
    "    \n",
    "На этапе 'Объединение данных' :  \n",
    "Объединили все 3 таблицы в одну. Сравнили расстояние и продолжительность поездок для пользователей с подпиской и без. Существенной разницы нет, пользователи с подпиской имеют чуть больший разброс в продолжительности поездок, пользователи же без подписки, в среднем, используют самокат чуть дольше.  \n",
    "    \n",
    "На этапе 'Подсчёт выручки' :  \n",
    "Сгрупировали данные для каждого пользователя за каждый месяц и посчитали суммарное расстояние, количество поездок и суммарное время. На основании этих данных рассчитали помесячную выручку для каждого пользователя. Максимальное значение составило 1444 руб. \n",
    "    \n",
    "На этапе 'Проверка гипотез' :  \n",
    "Проверили 3 гипотезы:\n",
    "- У пользователей с подпиской, в среднем, время поездки больше чем у пользователей без подписки.\n",
    "- Расстояние которое проезжают пользователи с подпиской, в среднем, не приевышает 3130 метров.\n",
    "- Помесячная выручка от пользователей с подпиской выше чем от пользователей без подписки.\n",
    "\n",
    "</div>"
   ]
  }
 ],
 "metadata": {
  "ExecuteTimeLog": [
   {
    "duration": 782,
    "start_time": "2023-08-14T05:24:50.158Z"
   },
   {
    "duration": 85,
    "start_time": "2023-08-14T05:25:42.094Z"
   },
   {
    "duration": 32,
    "start_time": "2023-08-14T05:26:06.212Z"
   },
   {
    "duration": 34,
    "start_time": "2023-08-14T05:26:09.541Z"
   },
   {
    "duration": 85,
    "start_time": "2023-08-14T05:26:38.909Z"
   },
   {
    "duration": 68,
    "start_time": "2023-08-14T05:27:01.357Z"
   },
   {
    "duration": 38,
    "start_time": "2023-08-14T05:27:18.949Z"
   },
   {
    "duration": 39,
    "start_time": "2023-08-14T05:27:28.238Z"
   },
   {
    "duration": 56,
    "start_time": "2023-08-14T05:28:08.853Z"
   },
   {
    "duration": 40,
    "start_time": "2023-08-14T05:28:53.469Z"
   },
   {
    "duration": 43,
    "start_time": "2023-08-14T05:29:26.045Z"
   },
   {
    "duration": 49,
    "start_time": "2023-08-14T05:29:32.469Z"
   },
   {
    "duration": 43,
    "start_time": "2023-08-14T05:29:39.404Z"
   },
   {
    "duration": 43,
    "start_time": "2023-08-14T05:29:42.117Z"
   },
   {
    "duration": 43,
    "start_time": "2023-08-14T05:29:55.636Z"
   },
   {
    "duration": 42,
    "start_time": "2023-08-14T05:30:00.284Z"
   },
   {
    "duration": 57,
    "start_time": "2023-08-14T05:30:30.428Z"
   },
   {
    "duration": 30,
    "start_time": "2023-08-14T05:36:55.634Z"
   },
   {
    "duration": 387,
    "start_time": "2023-08-14T05:37:09.307Z"
   },
   {
    "duration": 722,
    "start_time": "2023-08-14T05:37:28.747Z"
   },
   {
    "duration": 480,
    "start_time": "2023-08-14T05:37:45.596Z"
   },
   {
    "duration": 405,
    "start_time": "2023-08-14T05:37:51.307Z"
   },
   {
    "duration": 393,
    "start_time": "2023-08-14T05:38:00.035Z"
   },
   {
    "duration": 486,
    "start_time": "2023-08-14T05:38:12.786Z"
   },
   {
    "duration": 484,
    "start_time": "2023-08-14T05:39:52.787Z"
   },
   {
    "duration": 421,
    "start_time": "2023-08-14T05:40:04.642Z"
   },
   {
    "duration": 598,
    "start_time": "2023-08-14T05:40:10.747Z"
   },
   {
    "duration": 594,
    "start_time": "2023-08-14T05:40:20.586Z"
   },
   {
    "duration": 538,
    "start_time": "2023-08-14T05:40:32.022Z"
   },
   {
    "duration": 6,
    "start_time": "2023-08-14T05:42:02.811Z"
   },
   {
    "duration": 78,
    "start_time": "2023-08-14T05:42:11.546Z"
   },
   {
    "duration": 7,
    "start_time": "2023-08-14T05:42:22.122Z"
   },
   {
    "duration": 10,
    "start_time": "2023-08-14T05:42:34.290Z"
   },
   {
    "duration": 77,
    "start_time": "2023-08-14T05:43:03.170Z"
   },
   {
    "duration": 79,
    "start_time": "2023-08-14T05:43:05.210Z"
   },
   {
    "duration": 84,
    "start_time": "2023-08-14T05:43:08.770Z"
   },
   {
    "duration": 7,
    "start_time": "2023-08-14T06:59:57.980Z"
   },
   {
    "duration": 7,
    "start_time": "2023-08-14T07:01:20.596Z"
   },
   {
    "duration": 157,
    "start_time": "2023-08-14T07:03:09.211Z"
   },
   {
    "duration": 5,
    "start_time": "2023-08-14T07:03:29.867Z"
   },
   {
    "duration": 5,
    "start_time": "2023-08-14T07:03:34.051Z"
   },
   {
    "duration": 11,
    "start_time": "2023-08-14T07:05:23.331Z"
   },
   {
    "duration": 9,
    "start_time": "2023-08-14T07:05:38.811Z"
   },
   {
    "duration": 12,
    "start_time": "2023-08-14T07:06:57.810Z"
   },
   {
    "duration": 7,
    "start_time": "2023-08-14T07:07:21.962Z"
   },
   {
    "duration": 5,
    "start_time": "2023-08-14T07:07:59.185Z"
   },
   {
    "duration": 6,
    "start_time": "2023-08-14T07:08:01.249Z"
   },
   {
    "duration": 6,
    "start_time": "2023-08-14T07:08:08.650Z"
   },
   {
    "duration": 9,
    "start_time": "2023-08-14T07:08:16.723Z"
   },
   {
    "duration": 5,
    "start_time": "2023-08-14T07:08:28.074Z"
   },
   {
    "duration": 8,
    "start_time": "2023-08-14T07:08:32.761Z"
   },
   {
    "duration": 5,
    "start_time": "2023-08-14T07:09:30.393Z"
   },
   {
    "duration": 4,
    "start_time": "2023-08-14T07:10:39.506Z"
   },
   {
    "duration": 137,
    "start_time": "2023-08-14T07:15:06.024Z"
   },
   {
    "duration": 78,
    "start_time": "2023-08-14T07:15:53.703Z"
   },
   {
    "duration": 6,
    "start_time": "2023-08-14T07:17:35.871Z"
   },
   {
    "duration": 6,
    "start_time": "2023-08-14T07:17:42.695Z"
   },
   {
    "duration": 4,
    "start_time": "2023-08-14T07:19:19.254Z"
   },
   {
    "duration": 6,
    "start_time": "2023-08-14T07:19:21.653Z"
   },
   {
    "duration": 5,
    "start_time": "2023-08-14T07:19:51.182Z"
   },
   {
    "duration": 7,
    "start_time": "2023-08-14T07:20:11.811Z"
   },
   {
    "duration": 7,
    "start_time": "2023-08-14T07:20:39.278Z"
   },
   {
    "duration": 6,
    "start_time": "2023-08-14T07:22:49.173Z"
   },
   {
    "duration": 1641,
    "start_time": "2023-08-14T07:25:53.125Z"
   },
   {
    "duration": 1409,
    "start_time": "2023-08-14T07:26:18.106Z"
   },
   {
    "duration": 1467,
    "start_time": "2023-08-14T07:27:04.549Z"
   },
   {
    "duration": 12,
    "start_time": "2023-08-14T07:27:20.356Z"
   },
   {
    "duration": 13,
    "start_time": "2023-08-14T07:28:20.731Z"
   },
   {
    "duration": 2768,
    "start_time": "2023-08-14T07:28:23.444Z"
   },
   {
    "duration": 6,
    "start_time": "2023-08-14T07:29:10.859Z"
   },
   {
    "duration": 31,
    "start_time": "2023-08-14T07:30:21.330Z"
   },
   {
    "duration": 98,
    "start_time": "2023-08-14T09:26:35.824Z"
   },
   {
    "duration": 75,
    "start_time": "2023-08-14T09:26:47.192Z"
   },
   {
    "duration": 198,
    "start_time": "2023-08-14T09:29:23.984Z"
   },
   {
    "duration": 181,
    "start_time": "2023-08-14T09:29:36.720Z"
   },
   {
    "duration": 257,
    "start_time": "2023-08-14T09:29:46.296Z"
   },
   {
    "duration": 269,
    "start_time": "2023-08-14T09:29:49.953Z"
   },
   {
    "duration": 181,
    "start_time": "2023-08-14T09:29:53.806Z"
   },
   {
    "duration": 201,
    "start_time": "2023-08-14T09:29:56.920Z"
   },
   {
    "duration": 269,
    "start_time": "2023-08-14T09:30:01.952Z"
   },
   {
    "duration": 148,
    "start_time": "2023-08-14T09:30:12.224Z"
   },
   {
    "duration": 149,
    "start_time": "2023-08-14T09:30:15.328Z"
   },
   {
    "duration": 165,
    "start_time": "2023-08-14T09:30:18.803Z"
   },
   {
    "duration": 157,
    "start_time": "2023-08-14T09:30:25.680Z"
   },
   {
    "duration": 183,
    "start_time": "2023-08-14T09:30:30.336Z"
   },
   {
    "duration": 189,
    "start_time": "2023-08-14T09:30:35.080Z"
   },
   {
    "duration": 141,
    "start_time": "2023-08-14T09:30:38.211Z"
   },
   {
    "duration": 175,
    "start_time": "2023-08-14T09:30:43.897Z"
   },
   {
    "duration": 182,
    "start_time": "2023-08-14T09:30:47.231Z"
   },
   {
    "duration": 235,
    "start_time": "2023-08-14T09:30:49.575Z"
   },
   {
    "duration": 192,
    "start_time": "2023-08-14T09:30:52.224Z"
   },
   {
    "duration": 253,
    "start_time": "2023-08-14T09:30:59.079Z"
   },
   {
    "duration": 9,
    "start_time": "2023-08-14T09:31:06.240Z"
   },
   {
    "duration": 266,
    "start_time": "2023-08-14T09:31:10.993Z"
   },
   {
    "duration": 84,
    "start_time": "2023-08-14T09:32:38.424Z"
   },
   {
    "duration": 336,
    "start_time": "2023-08-14T09:33:36.065Z"
   },
   {
    "duration": 267,
    "start_time": "2023-08-14T09:33:44.720Z"
   },
   {
    "duration": 260,
    "start_time": "2023-08-14T09:35:04.888Z"
   },
   {
    "duration": 268,
    "start_time": "2023-08-14T09:35:20.527Z"
   },
   {
    "duration": 289,
    "start_time": "2023-08-14T09:35:41.632Z"
   },
   {
    "duration": 329,
    "start_time": "2023-08-14T09:36:22.631Z"
   },
   {
    "duration": 297,
    "start_time": "2023-08-14T09:36:39.164Z"
   },
   {
    "duration": 265,
    "start_time": "2023-08-14T09:36:49.055Z"
   },
   {
    "duration": 144,
    "start_time": "2023-08-14T09:37:57.315Z"
   },
   {
    "duration": 195,
    "start_time": "2023-08-14T09:38:00.719Z"
   },
   {
    "duration": 269,
    "start_time": "2023-08-14T09:38:05.655Z"
   },
   {
    "duration": 13,
    "start_time": "2023-08-14T09:39:42.879Z"
   },
   {
    "duration": 15,
    "start_time": "2023-08-14T09:39:48.241Z"
   },
   {
    "duration": 296,
    "start_time": "2023-08-14T09:43:53.774Z"
   },
   {
    "duration": 227,
    "start_time": "2023-08-14T09:44:18.248Z"
   },
   {
    "duration": 230,
    "start_time": "2023-08-14T09:44:31.599Z"
   },
   {
    "duration": 215,
    "start_time": "2023-08-14T09:45:02.375Z"
   },
   {
    "duration": 150,
    "start_time": "2023-08-14T09:45:20.015Z"
   },
   {
    "duration": 61,
    "start_time": "2023-08-14T09:45:30.823Z"
   },
   {
    "duration": 90,
    "start_time": "2023-08-14T09:45:35.600Z"
   },
   {
    "duration": 123,
    "start_time": "2023-08-14T09:45:40.911Z"
   },
   {
    "duration": 183,
    "start_time": "2023-08-14T09:45:53.253Z"
   },
   {
    "duration": 118,
    "start_time": "2023-08-14T09:46:00.573Z"
   },
   {
    "duration": 16,
    "start_time": "2023-08-14T09:47:21.637Z"
   },
   {
    "duration": 134,
    "start_time": "2023-08-14T09:50:43.797Z"
   },
   {
    "duration": 129,
    "start_time": "2023-08-14T09:51:00.765Z"
   },
   {
    "duration": 158,
    "start_time": "2023-08-14T09:51:05.157Z"
   },
   {
    "duration": 159,
    "start_time": "2023-08-14T09:51:08.725Z"
   },
   {
    "duration": 162,
    "start_time": "2023-08-14T09:51:12.188Z"
   },
   {
    "duration": 169,
    "start_time": "2023-08-14T09:51:21.365Z"
   },
   {
    "duration": 177,
    "start_time": "2023-08-14T09:51:34.196Z"
   },
   {
    "duration": 189,
    "start_time": "2023-08-14T09:51:58.468Z"
   },
   {
    "duration": 162,
    "start_time": "2023-08-14T09:54:27.811Z"
   },
   {
    "duration": 230,
    "start_time": "2023-08-14T09:54:33.220Z"
   },
   {
    "duration": 745,
    "start_time": "2023-08-14T09:55:02.548Z"
   },
   {
    "duration": 772,
    "start_time": "2023-08-14T09:55:09.380Z"
   },
   {
    "duration": 823,
    "start_time": "2023-08-14T09:55:15.461Z"
   },
   {
    "duration": 699,
    "start_time": "2023-08-14T09:55:21.540Z"
   },
   {
    "duration": 162,
    "start_time": "2023-08-14T09:55:56.964Z"
   },
   {
    "duration": 167,
    "start_time": "2023-08-14T09:56:01.772Z"
   },
   {
    "duration": 176,
    "start_time": "2023-08-14T09:56:15.251Z"
   },
   {
    "duration": 107,
    "start_time": "2023-08-14T09:58:28.755Z"
   },
   {
    "duration": 243,
    "start_time": "2023-08-14T09:58:38.780Z"
   },
   {
    "duration": 165,
    "start_time": "2023-08-14T09:58:49.860Z"
   },
   {
    "duration": 718,
    "start_time": "2023-08-14T09:59:05.460Z"
   },
   {
    "duration": 672,
    "start_time": "2023-08-14T09:59:14.196Z"
   },
   {
    "duration": 797,
    "start_time": "2023-08-14T09:59:20.945Z"
   },
   {
    "duration": 692,
    "start_time": "2023-08-14T09:59:26.540Z"
   },
   {
    "duration": 302,
    "start_time": "2023-08-14T10:00:55.916Z"
   },
   {
    "duration": 273,
    "start_time": "2023-08-14T10:01:05.597Z"
   },
   {
    "duration": 360,
    "start_time": "2023-08-14T10:01:14.815Z"
   },
   {
    "duration": 734,
    "start_time": "2023-08-14T10:01:44.078Z"
   },
   {
    "duration": 749,
    "start_time": "2023-08-14T10:02:02.285Z"
   },
   {
    "duration": 882,
    "start_time": "2023-08-14T10:02:08.438Z"
   },
   {
    "duration": 791,
    "start_time": "2023-08-14T10:02:18.493Z"
   },
   {
    "duration": 431,
    "start_time": "2023-08-14T10:03:43.357Z"
   },
   {
    "duration": 373,
    "start_time": "2023-08-14T10:03:52.646Z"
   },
   {
    "duration": 174,
    "start_time": "2023-08-14T10:04:22.446Z"
   },
   {
    "duration": 8,
    "start_time": "2023-08-14T10:04:34.453Z"
   },
   {
    "duration": 172,
    "start_time": "2023-08-14T10:04:45.861Z"
   },
   {
    "duration": 143,
    "start_time": "2023-08-14T10:04:51.781Z"
   },
   {
    "duration": 140,
    "start_time": "2023-08-14T10:04:57.242Z"
   },
   {
    "duration": 237,
    "start_time": "2023-08-14T10:05:05.917Z"
   },
   {
    "duration": 112,
    "start_time": "2023-08-14T10:05:12.773Z"
   },
   {
    "duration": 128,
    "start_time": "2023-08-14T10:05:54.093Z"
   },
   {
    "duration": 105,
    "start_time": "2023-08-14T10:08:59.015Z"
   },
   {
    "duration": 16,
    "start_time": "2023-08-14T10:10:27.373Z"
   },
   {
    "duration": 15,
    "start_time": "2023-08-14T10:10:47.878Z"
   },
   {
    "duration": 16,
    "start_time": "2023-08-14T10:11:00.246Z"
   },
   {
    "duration": 16,
    "start_time": "2023-08-14T10:11:05.373Z"
   },
   {
    "duration": 15,
    "start_time": "2023-08-14T10:11:19.525Z"
   },
   {
    "duration": 15,
    "start_time": "2023-08-14T10:11:28.726Z"
   },
   {
    "duration": 1796,
    "start_time": "2023-08-14T10:13:42.847Z"
   },
   {
    "duration": 472,
    "start_time": "2023-08-14T10:14:29.543Z"
   },
   {
    "duration": 497,
    "start_time": "2023-08-14T10:14:41.565Z"
   },
   {
    "duration": 571,
    "start_time": "2023-08-14T10:14:48.024Z"
   },
   {
    "duration": 81,
    "start_time": "2023-08-14T10:15:24.558Z"
   },
   {
    "duration": 78,
    "start_time": "2023-08-14T10:15:50.997Z"
   },
   {
    "duration": 79,
    "start_time": "2023-08-14T10:16:04.054Z"
   },
   {
    "duration": 93,
    "start_time": "2023-08-14T10:16:16.551Z"
   },
   {
    "duration": 88,
    "start_time": "2023-08-14T10:16:26.292Z"
   },
   {
    "duration": 88,
    "start_time": "2023-08-14T10:16:31.452Z"
   },
   {
    "duration": 133,
    "start_time": "2023-08-14T10:16:43.154Z"
   },
   {
    "duration": 116,
    "start_time": "2023-08-14T10:16:48.677Z"
   },
   {
    "duration": 89,
    "start_time": "2023-08-14T10:16:58.021Z"
   },
   {
    "duration": 79,
    "start_time": "2023-08-14T10:17:30.365Z"
   },
   {
    "duration": 79,
    "start_time": "2023-08-14T10:17:55.717Z"
   },
   {
    "duration": 2282,
    "start_time": "2023-08-14T10:18:06.356Z"
   },
   {
    "duration": 83,
    "start_time": "2023-08-14T10:18:11.748Z"
   },
   {
    "duration": 97,
    "start_time": "2023-08-14T10:18:32.421Z"
   },
   {
    "duration": 77,
    "start_time": "2023-08-14T10:18:49.716Z"
   },
   {
    "duration": 86,
    "start_time": "2023-08-14T10:20:56.564Z"
   },
   {
    "duration": 105,
    "start_time": "2023-08-14T10:22:00.549Z"
   },
   {
    "duration": 82,
    "start_time": "2023-08-14T10:22:10.165Z"
   },
   {
    "duration": 186,
    "start_time": "2023-08-14T10:22:19.676Z"
   },
   {
    "duration": 98,
    "start_time": "2023-08-14T10:22:30.124Z"
   },
   {
    "duration": 85,
    "start_time": "2023-08-14T10:22:44.750Z"
   },
   {
    "duration": 751,
    "start_time": "2023-08-14T10:22:59.788Z"
   },
   {
    "duration": 810,
    "start_time": "2023-08-14T10:23:06.023Z"
   },
   {
    "duration": 283,
    "start_time": "2023-08-14T10:23:16.853Z"
   },
   {
    "duration": 117,
    "start_time": "2023-08-14T10:23:23.468Z"
   },
   {
    "duration": 131,
    "start_time": "2023-08-14T10:24:55.468Z"
   },
   {
    "duration": 109,
    "start_time": "2023-08-14T10:28:30.224Z"
   },
   {
    "duration": 73,
    "start_time": "2023-08-14T10:28:51.223Z"
   },
   {
    "duration": 83,
    "start_time": "2023-08-14T10:28:59.851Z"
   },
   {
    "duration": 257,
    "start_time": "2023-08-14T10:29:22.955Z"
   },
   {
    "duration": 261,
    "start_time": "2023-08-14T10:29:29.819Z"
   },
   {
    "duration": 295,
    "start_time": "2023-08-14T10:29:36.051Z"
   },
   {
    "duration": 8,
    "start_time": "2023-08-14T10:31:22.811Z"
   },
   {
    "duration": 82,
    "start_time": "2023-08-14T10:31:28.211Z"
   },
   {
    "duration": 9,
    "start_time": "2023-08-14T10:33:00.511Z"
   },
   {
    "duration": 192,
    "start_time": "2023-08-14T10:33:06.550Z"
   },
   {
    "duration": 85,
    "start_time": "2023-08-14T10:34:01.754Z"
   },
   {
    "duration": 83,
    "start_time": "2023-08-14T10:34:07.122Z"
   },
   {
    "duration": 96,
    "start_time": "2023-08-14T10:34:10.438Z"
   },
   {
    "duration": 77,
    "start_time": "2023-08-14T10:34:56.954Z"
   },
   {
    "duration": 79,
    "start_time": "2023-08-14T10:35:04.988Z"
   },
   {
    "duration": 73,
    "start_time": "2023-08-14T10:35:09.065Z"
   },
   {
    "duration": 76,
    "start_time": "2023-08-14T10:35:16.167Z"
   },
   {
    "duration": 83,
    "start_time": "2023-08-14T10:35:28.650Z"
   },
   {
    "duration": 205,
    "start_time": "2023-08-14T10:35:44.225Z"
   },
   {
    "duration": 202,
    "start_time": "2023-08-14T10:35:57.065Z"
   },
   {
    "duration": 223,
    "start_time": "2023-08-14T10:36:07.401Z"
   },
   {
    "duration": 246,
    "start_time": "2023-08-14T10:36:11.208Z"
   },
   {
    "duration": 381,
    "start_time": "2023-08-14T10:36:19.873Z"
   },
   {
    "duration": 215,
    "start_time": "2023-08-14T10:36:33.945Z"
   },
   {
    "duration": 15,
    "start_time": "2023-08-14T10:42:00.474Z"
   },
   {
    "duration": 26,
    "start_time": "2023-08-14T10:42:27.543Z"
   },
   {
    "duration": 28,
    "start_time": "2023-08-14T10:42:38.485Z"
   },
   {
    "duration": 32,
    "start_time": "2023-08-14T10:42:51.502Z"
   },
   {
    "duration": 29,
    "start_time": "2023-08-14T10:42:59.087Z"
   },
   {
    "duration": 27,
    "start_time": "2023-08-14T10:43:05.703Z"
   },
   {
    "duration": 35,
    "start_time": "2023-08-14T10:43:15.399Z"
   },
   {
    "duration": 9,
    "start_time": "2023-08-14T10:44:18.413Z"
   },
   {
    "duration": 210,
    "start_time": "2023-08-14T10:44:23.702Z"
   },
   {
    "duration": 32,
    "start_time": "2023-08-14T10:44:35.838Z"
   },
   {
    "duration": 103,
    "start_time": "2023-08-14T10:45:06.597Z"
   },
   {
    "duration": 124,
    "start_time": "2023-08-14T10:46:59.550Z"
   },
   {
    "duration": 1476,
    "start_time": "2023-08-14T10:47:20.589Z"
   },
   {
    "duration": 8,
    "start_time": "2023-08-14T10:47:43.838Z"
   },
   {
    "duration": 7,
    "start_time": "2023-08-14T10:47:52.653Z"
   },
   {
    "duration": 8,
    "start_time": "2023-08-14T10:48:22.742Z"
   },
   {
    "duration": 21,
    "start_time": "2023-08-14T10:49:00.573Z"
   },
   {
    "duration": 12,
    "start_time": "2023-08-14T10:49:13.564Z"
   },
   {
    "duration": 2,
    "start_time": "2023-08-14T10:49:20.542Z"
   },
   {
    "duration": 6,
    "start_time": "2023-08-14T10:49:24.324Z"
   },
   {
    "duration": 7,
    "start_time": "2023-08-14T10:49:29.476Z"
   },
   {
    "duration": 7,
    "start_time": "2023-08-14T10:49:48.308Z"
   },
   {
    "duration": 15,
    "start_time": "2023-08-14T10:50:10.820Z"
   },
   {
    "duration": 18,
    "start_time": "2023-08-14T10:50:18.956Z"
   },
   {
    "duration": 19,
    "start_time": "2023-08-14T10:50:28.102Z"
   },
   {
    "duration": 8,
    "start_time": "2023-08-14T10:50:39.724Z"
   },
   {
    "duration": 14,
    "start_time": "2023-08-14T10:51:02.988Z"
   },
   {
    "duration": 19,
    "start_time": "2023-08-14T10:51:09.653Z"
   },
   {
    "duration": 19,
    "start_time": "2023-08-14T10:51:21.407Z"
   },
   {
    "duration": 13,
    "start_time": "2023-08-14T10:51:32.996Z"
   },
   {
    "duration": 7,
    "start_time": "2023-08-14T10:51:44.654Z"
   },
   {
    "duration": 10,
    "start_time": "2023-08-14T10:52:08.222Z"
   },
   {
    "duration": 10,
    "start_time": "2023-08-14T10:52:12.387Z"
   },
   {
    "duration": 189,
    "start_time": "2023-08-14T10:53:15.587Z"
   },
   {
    "duration": 8,
    "start_time": "2023-08-14T10:53:23.041Z"
   },
   {
    "duration": 159,
    "start_time": "2023-08-14T10:53:27.238Z"
   },
   {
    "duration": 428,
    "start_time": "2023-08-14T10:54:30.676Z"
   },
   {
    "duration": 417,
    "start_time": "2023-08-14T10:54:41.276Z"
   },
   {
    "duration": 528,
    "start_time": "2023-08-14T10:54:52.875Z"
   },
   {
    "duration": 399,
    "start_time": "2023-08-14T10:55:20.683Z"
   },
   {
    "duration": 422,
    "start_time": "2023-08-14T10:55:29.203Z"
   },
   {
    "duration": 408,
    "start_time": "2023-08-14T10:56:02.891Z"
   },
   {
    "duration": 421,
    "start_time": "2023-08-14T10:57:23.467Z"
   },
   {
    "duration": 527,
    "start_time": "2023-08-14T10:57:37.082Z"
   },
   {
    "duration": 411,
    "start_time": "2023-08-14T10:58:06.075Z"
   },
   {
    "duration": 438,
    "start_time": "2023-08-14T10:58:16.178Z"
   },
   {
    "duration": 411,
    "start_time": "2023-08-14T10:58:42.114Z"
   },
   {
    "duration": 538,
    "start_time": "2023-08-14T10:59:10.867Z"
   },
   {
    "duration": 422,
    "start_time": "2023-08-14T10:59:22.058Z"
   },
   {
    "duration": 3,
    "start_time": "2023-08-14T11:18:37.567Z"
   },
   {
    "duration": 3,
    "start_time": "2023-08-14T11:18:39.466Z"
   },
   {
    "duration": 2,
    "start_time": "2023-08-14T13:29:43.899Z"
   },
   {
    "duration": 11,
    "start_time": "2023-08-14T13:31:11.177Z"
   },
   {
    "duration": 11,
    "start_time": "2023-08-14T13:31:16.313Z"
   },
   {
    "duration": 9,
    "start_time": "2023-08-14T13:32:26.768Z"
   },
   {
    "duration": 11,
    "start_time": "2023-08-14T13:32:31.881Z"
   },
   {
    "duration": 3,
    "start_time": "2023-08-14T13:32:40.601Z"
   },
   {
    "duration": 566,
    "start_time": "2023-08-14T13:32:42.880Z"
   },
   {
    "duration": 2,
    "start_time": "2023-08-14T13:34:26.656Z"
   },
   {
    "duration": 3,
    "start_time": "2023-08-14T13:34:51.834Z"
   },
   {
    "duration": 607,
    "start_time": "2023-08-14T13:34:53.793Z"
   },
   {
    "duration": 2,
    "start_time": "2023-08-14T13:35:08.065Z"
   },
   {
    "duration": 14,
    "start_time": "2023-08-14T13:35:09.913Z"
   },
   {
    "duration": 11,
    "start_time": "2023-08-14T13:36:28.072Z"
   },
   {
    "duration": 15,
    "start_time": "2023-08-14T13:36:34.408Z"
   },
   {
    "duration": 13,
    "start_time": "2023-08-14T13:36:38.256Z"
   },
   {
    "duration": 14,
    "start_time": "2023-08-14T13:36:42.251Z"
   },
   {
    "duration": 13,
    "start_time": "2023-08-14T13:36:45.457Z"
   },
   {
    "duration": 12,
    "start_time": "2023-08-14T13:39:28.528Z"
   },
   {
    "duration": 12,
    "start_time": "2023-08-14T13:39:48.746Z"
   },
   {
    "duration": 11,
    "start_time": "2023-08-14T13:39:51.354Z"
   },
   {
    "duration": 14,
    "start_time": "2023-08-14T13:40:03.777Z"
   },
   {
    "duration": 12,
    "start_time": "2023-08-14T13:40:46.080Z"
   },
   {
    "duration": 8,
    "start_time": "2023-08-14T13:41:02.308Z"
   },
   {
    "duration": 7,
    "start_time": "2023-08-14T13:41:08.859Z"
   },
   {
    "duration": 8,
    "start_time": "2023-08-14T13:41:12.464Z"
   },
   {
    "duration": 7,
    "start_time": "2023-08-14T13:41:16.199Z"
   },
   {
    "duration": 8,
    "start_time": "2023-08-14T13:52:26.111Z"
   },
   {
    "duration": 10,
    "start_time": "2023-08-14T13:52:58.310Z"
   },
   {
    "duration": 10,
    "start_time": "2023-08-14T13:53:38.159Z"
   },
   {
    "duration": 8,
    "start_time": "2023-08-14T13:53:46.751Z"
   },
   {
    "duration": 9,
    "start_time": "2023-08-14T13:53:53.182Z"
   },
   {
    "duration": 10,
    "start_time": "2023-08-14T13:54:00.958Z"
   },
   {
    "duration": 10,
    "start_time": "2023-08-14T13:54:56.573Z"
   },
   {
    "duration": 10,
    "start_time": "2023-08-14T13:55:00.625Z"
   },
   {
    "duration": 10,
    "start_time": "2023-08-14T13:55:21.422Z"
   },
   {
    "duration": 555,
    "start_time": "2023-08-14T13:55:27.538Z"
   },
   {
    "duration": 46,
    "start_time": "2023-08-14T13:55:28.094Z"
   },
   {
    "duration": 49,
    "start_time": "2023-08-14T13:55:28.141Z"
   },
   {
    "duration": 20,
    "start_time": "2023-08-14T13:55:28.192Z"
   },
   {
    "duration": 537,
    "start_time": "2023-08-14T13:55:28.215Z"
   },
   {
    "duration": 6,
    "start_time": "2023-08-14T13:55:28.754Z"
   },
   {
    "duration": 34,
    "start_time": "2023-08-14T13:55:28.761Z"
   },
   {
    "duration": 31,
    "start_time": "2023-08-14T13:55:28.796Z"
   },
   {
    "duration": 18,
    "start_time": "2023-08-14T13:55:28.828Z"
   },
   {
    "duration": 10,
    "start_time": "2023-08-14T13:55:28.847Z"
   },
   {
    "duration": 25,
    "start_time": "2023-08-14T13:55:28.858Z"
   },
   {
    "duration": 19,
    "start_time": "2023-08-14T13:55:28.884Z"
   },
   {
    "duration": 35,
    "start_time": "2023-08-14T13:55:28.904Z"
   },
   {
    "duration": 27,
    "start_time": "2023-08-14T13:55:28.941Z"
   },
   {
    "duration": 22,
    "start_time": "2023-08-14T13:55:28.970Z"
   },
   {
    "duration": 18,
    "start_time": "2023-08-14T13:55:28.993Z"
   },
   {
    "duration": 162,
    "start_time": "2023-08-14T13:55:29.012Z"
   },
   {
    "duration": 126,
    "start_time": "2023-08-14T13:55:29.176Z"
   },
   {
    "duration": 257,
    "start_time": "2023-08-14T13:55:29.304Z"
   },
   {
    "duration": 202,
    "start_time": "2023-08-14T13:55:29.563Z"
   },
   {
    "duration": 204,
    "start_time": "2023-08-14T13:55:29.767Z"
   },
   {
    "duration": 38,
    "start_time": "2023-08-14T13:55:29.973Z"
   },
   {
    "duration": 46,
    "start_time": "2023-08-14T13:55:30.013Z"
   },
   {
    "duration": 62,
    "start_time": "2023-08-14T13:55:30.061Z"
   },
   {
    "duration": 52,
    "start_time": "2023-08-14T13:55:30.124Z"
   },
   {
    "duration": 454,
    "start_time": "2023-08-14T13:55:30.177Z"
   },
   {
    "duration": 470,
    "start_time": "2023-08-14T13:55:30.632Z"
   },
   {
    "duration": 3,
    "start_time": "2023-08-14T13:55:31.103Z"
   },
   {
    "duration": 45,
    "start_time": "2023-08-14T13:55:31.107Z"
   },
   {
    "duration": 45,
    "start_time": "2023-08-14T13:55:31.154Z"
   },
   {
    "duration": 8,
    "start_time": "2023-08-14T13:55:35.254Z"
   },
   {
    "duration": 7,
    "start_time": "2023-08-14T13:55:41.358Z"
   },
   {
    "duration": 6,
    "start_time": "2023-08-14T13:55:49.870Z"
   },
   {
    "duration": 7,
    "start_time": "2023-08-14T13:55:53.165Z"
   },
   {
    "duration": 7,
    "start_time": "2023-08-14T13:56:14.754Z"
   },
   {
    "duration": 6,
    "start_time": "2023-08-14T13:56:19.206Z"
   },
   {
    "duration": 7,
    "start_time": "2023-08-14T13:56:22.958Z"
   },
   {
    "duration": 7,
    "start_time": "2023-08-14T13:56:28.205Z"
   },
   {
    "duration": 7,
    "start_time": "2023-08-14T13:56:50.851Z"
   },
   {
    "duration": 9,
    "start_time": "2023-08-14T13:57:03.281Z"
   },
   {
    "duration": 4,
    "start_time": "2023-08-14T14:23:46.079Z"
   },
   {
    "duration": 78,
    "start_time": "2023-08-14T14:23:47.482Z"
   },
   {
    "duration": 8,
    "start_time": "2023-08-14T14:24:04.312Z"
   },
   {
    "duration": 165,
    "start_time": "2023-08-14T14:24:53.215Z"
   },
   {
    "duration": 4,
    "start_time": "2023-08-14T14:24:57.852Z"
   },
   {
    "duration": 8,
    "start_time": "2023-08-14T14:25:00.287Z"
   },
   {
    "duration": 7,
    "start_time": "2023-08-14T14:26:03.070Z"
   },
   {
    "duration": 8,
    "start_time": "2023-08-14T14:26:32.726Z"
   },
   {
    "duration": 4,
    "start_time": "2023-08-14T14:30:08.909Z"
   },
   {
    "duration": 9,
    "start_time": "2023-08-14T14:30:10.878Z"
   },
   {
    "duration": 664,
    "start_time": "2023-08-14T14:30:43.267Z"
   },
   {
    "duration": 55,
    "start_time": "2023-08-14T14:30:43.933Z"
   },
   {
    "duration": 43,
    "start_time": "2023-08-14T14:30:43.990Z"
   },
   {
    "duration": 21,
    "start_time": "2023-08-14T14:30:44.035Z"
   },
   {
    "duration": 533,
    "start_time": "2023-08-14T14:30:44.057Z"
   },
   {
    "duration": 9,
    "start_time": "2023-08-14T14:30:44.591Z"
   },
   {
    "duration": 11,
    "start_time": "2023-08-14T14:30:44.602Z"
   },
   {
    "duration": 10,
    "start_time": "2023-08-14T14:30:44.614Z"
   },
   {
    "duration": 12,
    "start_time": "2023-08-14T14:30:44.625Z"
   },
   {
    "duration": 8,
    "start_time": "2023-08-14T14:30:44.640Z"
   },
   {
    "duration": 12,
    "start_time": "2023-08-14T14:30:44.649Z"
   },
   {
    "duration": 18,
    "start_time": "2023-08-14T14:30:44.662Z"
   },
   {
    "duration": 7,
    "start_time": "2023-08-14T14:30:44.681Z"
   },
   {
    "duration": 5,
    "start_time": "2023-08-14T14:30:44.689Z"
   },
   {
    "duration": 18,
    "start_time": "2023-08-14T14:30:44.695Z"
   },
   {
    "duration": 5,
    "start_time": "2023-08-14T14:30:44.714Z"
   },
   {
    "duration": 164,
    "start_time": "2023-08-14T14:30:44.720Z"
   },
   {
    "duration": 130,
    "start_time": "2023-08-14T14:30:44.886Z"
   },
   {
    "duration": 261,
    "start_time": "2023-08-14T14:30:45.017Z"
   },
   {
    "duration": 209,
    "start_time": "2023-08-14T14:30:45.280Z"
   },
   {
    "duration": 209,
    "start_time": "2023-08-14T14:30:45.491Z"
   },
   {
    "duration": 32,
    "start_time": "2023-08-14T14:30:45.701Z"
   },
   {
    "duration": 6,
    "start_time": "2023-08-14T14:30:45.734Z"
   },
   {
    "duration": 11,
    "start_time": "2023-08-14T14:30:45.741Z"
   },
   {
    "duration": 14,
    "start_time": "2023-08-14T14:30:45.754Z"
   },
   {
    "duration": 415,
    "start_time": "2023-08-14T14:30:45.769Z"
   },
   {
    "duration": 495,
    "start_time": "2023-08-14T14:30:46.186Z"
   },
   {
    "duration": 2,
    "start_time": "2023-08-14T14:30:46.683Z"
   },
   {
    "duration": 12,
    "start_time": "2023-08-14T14:30:46.687Z"
   },
   {
    "duration": 19,
    "start_time": "2023-08-14T14:30:46.701Z"
   },
   {
    "duration": 70,
    "start_time": "2023-08-14T14:30:46.721Z"
   },
   {
    "duration": 0,
    "start_time": "2023-08-14T14:30:46.793Z"
   },
   {
    "duration": 0,
    "start_time": "2023-08-14T14:30:46.794Z"
   },
   {
    "duration": 0,
    "start_time": "2023-08-14T14:30:46.795Z"
   },
   {
    "duration": 616,
    "start_time": "2023-08-14T14:31:34.295Z"
   },
   {
    "duration": 47,
    "start_time": "2023-08-14T14:31:34.912Z"
   },
   {
    "duration": 46,
    "start_time": "2023-08-14T14:31:34.960Z"
   },
   {
    "duration": 21,
    "start_time": "2023-08-14T14:31:35.008Z"
   },
   {
    "duration": 556,
    "start_time": "2023-08-14T14:31:35.030Z"
   },
   {
    "duration": 6,
    "start_time": "2023-08-14T14:31:35.587Z"
   },
   {
    "duration": 10,
    "start_time": "2023-08-14T14:31:35.599Z"
   },
   {
    "duration": 13,
    "start_time": "2023-08-14T14:31:35.610Z"
   },
   {
    "duration": 7,
    "start_time": "2023-08-14T14:31:35.624Z"
   },
   {
    "duration": 8,
    "start_time": "2023-08-14T14:31:35.633Z"
   },
   {
    "duration": 27,
    "start_time": "2023-08-14T14:31:35.642Z"
   },
   {
    "duration": 29,
    "start_time": "2023-08-14T14:31:35.670Z"
   },
   {
    "duration": 32,
    "start_time": "2023-08-14T14:31:35.701Z"
   },
   {
    "duration": 27,
    "start_time": "2023-08-14T14:31:35.735Z"
   },
   {
    "duration": 21,
    "start_time": "2023-08-14T14:31:35.764Z"
   },
   {
    "duration": 17,
    "start_time": "2023-08-14T14:31:35.787Z"
   },
   {
    "duration": 184,
    "start_time": "2023-08-14T14:31:35.805Z"
   },
   {
    "duration": 165,
    "start_time": "2023-08-14T14:31:35.991Z"
   },
   {
    "duration": 275,
    "start_time": "2023-08-14T14:31:36.158Z"
   },
   {
    "duration": 201,
    "start_time": "2023-08-14T14:31:36.434Z"
   },
   {
    "duration": 201,
    "start_time": "2023-08-14T14:31:36.637Z"
   },
   {
    "duration": 31,
    "start_time": "2023-08-14T14:31:36.840Z"
   },
   {
    "duration": 6,
    "start_time": "2023-08-14T14:31:36.872Z"
   },
   {
    "duration": 27,
    "start_time": "2023-08-14T14:31:36.879Z"
   },
   {
    "duration": 14,
    "start_time": "2023-08-14T14:31:36.907Z"
   },
   {
    "duration": 404,
    "start_time": "2023-08-14T14:31:36.922Z"
   },
   {
    "duration": 458,
    "start_time": "2023-08-14T14:31:37.327Z"
   },
   {
    "duration": 2,
    "start_time": "2023-08-14T14:31:37.789Z"
   },
   {
    "duration": 14,
    "start_time": "2023-08-14T14:31:37.799Z"
   },
   {
    "duration": 6,
    "start_time": "2023-08-14T14:31:37.814Z"
   },
   {
    "duration": 82,
    "start_time": "2023-08-14T14:31:37.821Z"
   },
   {
    "duration": 0,
    "start_time": "2023-08-14T14:31:37.904Z"
   },
   {
    "duration": 0,
    "start_time": "2023-08-14T14:31:37.905Z"
   },
   {
    "duration": 0,
    "start_time": "2023-08-14T14:31:37.906Z"
   },
   {
    "duration": 595,
    "start_time": "2023-08-14T14:32:05.357Z"
   },
   {
    "duration": 44,
    "start_time": "2023-08-14T14:32:05.954Z"
   },
   {
    "duration": 50,
    "start_time": "2023-08-14T14:32:06.000Z"
   },
   {
    "duration": 24,
    "start_time": "2023-08-14T14:32:06.052Z"
   },
   {
    "duration": 592,
    "start_time": "2023-08-14T14:32:06.078Z"
   },
   {
    "duration": 5,
    "start_time": "2023-08-14T14:32:06.672Z"
   },
   {
    "duration": 38,
    "start_time": "2023-08-14T14:32:06.679Z"
   },
   {
    "duration": 52,
    "start_time": "2023-08-14T14:32:06.718Z"
   },
   {
    "duration": 49,
    "start_time": "2023-08-14T14:32:06.772Z"
   },
   {
    "duration": 36,
    "start_time": "2023-08-14T14:32:06.825Z"
   },
   {
    "duration": 53,
    "start_time": "2023-08-14T14:32:06.863Z"
   },
   {
    "duration": 41,
    "start_time": "2023-08-14T14:32:06.917Z"
   },
   {
    "duration": 39,
    "start_time": "2023-08-14T14:32:06.959Z"
   },
   {
    "duration": 51,
    "start_time": "2023-08-14T14:32:06.999Z"
   },
   {
    "duration": 24,
    "start_time": "2023-08-14T14:32:07.052Z"
   },
   {
    "duration": 20,
    "start_time": "2023-08-14T14:32:07.077Z"
   },
   {
    "duration": 182,
    "start_time": "2023-08-14T14:32:07.098Z"
   },
   {
    "duration": 133,
    "start_time": "2023-08-14T14:32:07.282Z"
   },
   {
    "duration": 293,
    "start_time": "2023-08-14T14:32:07.416Z"
   },
   {
    "duration": 221,
    "start_time": "2023-08-14T14:32:07.710Z"
   },
   {
    "duration": 221,
    "start_time": "2023-08-14T14:32:07.933Z"
   },
   {
    "duration": 45,
    "start_time": "2023-08-14T14:32:08.155Z"
   },
   {
    "duration": 8,
    "start_time": "2023-08-14T14:32:08.202Z"
   },
   {
    "duration": 26,
    "start_time": "2023-08-14T14:32:08.212Z"
   },
   {
    "duration": 34,
    "start_time": "2023-08-14T14:32:08.240Z"
   },
   {
    "duration": 505,
    "start_time": "2023-08-14T14:32:08.276Z"
   },
   {
    "duration": 474,
    "start_time": "2023-08-14T14:32:08.782Z"
   },
   {
    "duration": 2,
    "start_time": "2023-08-14T14:32:09.259Z"
   },
   {
    "duration": 24,
    "start_time": "2023-08-14T14:32:09.262Z"
   },
   {
    "duration": 20,
    "start_time": "2023-08-14T14:32:09.287Z"
   },
   {
    "duration": 33,
    "start_time": "2023-08-14T14:32:09.309Z"
   },
   {
    "duration": 102,
    "start_time": "2023-08-14T14:32:09.343Z"
   },
   {
    "duration": 3,
    "start_time": "2023-08-14T14:33:40.679Z"
   },
   {
    "duration": 9,
    "start_time": "2023-08-14T14:33:42.991Z"
   },
   {
    "duration": 3,
    "start_time": "2023-08-14T14:34:01.857Z"
   },
   {
    "duration": 9,
    "start_time": "2023-08-14T14:34:04.375Z"
   },
   {
    "duration": 11,
    "start_time": "2023-08-14T14:34:08.127Z"
   },
   {
    "duration": 9,
    "start_time": "2023-08-14T14:37:46.753Z"
   },
   {
    "duration": 9,
    "start_time": "2023-08-14T14:38:03.583Z"
   },
   {
    "duration": 9,
    "start_time": "2023-08-14T14:39:02.958Z"
   },
   {
    "duration": 11,
    "start_time": "2023-08-14T14:39:14.662Z"
   },
   {
    "duration": 3,
    "start_time": "2023-08-14T14:48:03.855Z"
   },
   {
    "duration": 329,
    "start_time": "2023-08-14T14:48:07.355Z"
   },
   {
    "duration": 637,
    "start_time": "2023-08-14T14:48:17.082Z"
   },
   {
    "duration": 45,
    "start_time": "2023-08-14T14:48:17.721Z"
   },
   {
    "duration": 44,
    "start_time": "2023-08-14T14:48:17.767Z"
   },
   {
    "duration": 20,
    "start_time": "2023-08-14T14:48:17.813Z"
   },
   {
    "duration": 555,
    "start_time": "2023-08-14T14:48:17.834Z"
   },
   {
    "duration": 10,
    "start_time": "2023-08-14T14:48:18.390Z"
   },
   {
    "duration": 30,
    "start_time": "2023-08-14T14:48:18.401Z"
   },
   {
    "duration": 44,
    "start_time": "2023-08-14T14:48:18.432Z"
   },
   {
    "duration": 14,
    "start_time": "2023-08-14T14:48:18.477Z"
   },
   {
    "duration": 22,
    "start_time": "2023-08-14T14:48:18.493Z"
   },
   {
    "duration": 16,
    "start_time": "2023-08-14T14:48:18.516Z"
   },
   {
    "duration": 14,
    "start_time": "2023-08-14T14:48:18.533Z"
   },
   {
    "duration": 15,
    "start_time": "2023-08-14T14:48:18.549Z"
   },
   {
    "duration": 14,
    "start_time": "2023-08-14T14:48:18.565Z"
   },
   {
    "duration": 10,
    "start_time": "2023-08-14T14:48:18.581Z"
   },
   {
    "duration": 4,
    "start_time": "2023-08-14T14:48:18.593Z"
   },
   {
    "duration": 174,
    "start_time": "2023-08-14T14:48:18.598Z"
   },
   {
    "duration": 121,
    "start_time": "2023-08-14T14:48:18.773Z"
   },
   {
    "duration": 262,
    "start_time": "2023-08-14T14:48:18.899Z"
   },
   {
    "duration": 195,
    "start_time": "2023-08-14T14:48:19.162Z"
   },
   {
    "duration": 207,
    "start_time": "2023-08-14T14:48:19.358Z"
   },
   {
    "duration": 41,
    "start_time": "2023-08-14T14:48:19.566Z"
   },
   {
    "duration": 7,
    "start_time": "2023-08-14T14:48:19.609Z"
   },
   {
    "duration": 10,
    "start_time": "2023-08-14T14:48:19.617Z"
   },
   {
    "duration": 10,
    "start_time": "2023-08-14T14:48:19.629Z"
   },
   {
    "duration": 415,
    "start_time": "2023-08-14T14:48:19.641Z"
   },
   {
    "duration": 437,
    "start_time": "2023-08-14T14:48:20.057Z"
   },
   {
    "duration": 2,
    "start_time": "2023-08-14T14:48:20.500Z"
   },
   {
    "duration": 10,
    "start_time": "2023-08-14T14:48:20.504Z"
   },
   {
    "duration": 8,
    "start_time": "2023-08-14T14:48:20.515Z"
   },
   {
    "duration": 84,
    "start_time": "2023-08-14T14:48:20.524Z"
   },
   {
    "duration": 0,
    "start_time": "2023-08-14T14:48:20.609Z"
   },
   {
    "duration": 0,
    "start_time": "2023-08-14T14:48:20.610Z"
   },
   {
    "duration": 0,
    "start_time": "2023-08-14T14:48:20.611Z"
   },
   {
    "duration": 550,
    "start_time": "2023-08-14T14:48:49.054Z"
   },
   {
    "duration": 54,
    "start_time": "2023-08-14T14:48:49.605Z"
   },
   {
    "duration": 42,
    "start_time": "2023-08-14T14:48:49.660Z"
   },
   {
    "duration": 20,
    "start_time": "2023-08-14T14:48:49.703Z"
   },
   {
    "duration": 538,
    "start_time": "2023-08-14T14:48:49.725Z"
   },
   {
    "duration": 5,
    "start_time": "2023-08-14T14:48:50.265Z"
   },
   {
    "duration": 18,
    "start_time": "2023-08-14T14:48:50.272Z"
   },
   {
    "duration": 15,
    "start_time": "2023-08-14T14:48:50.292Z"
   },
   {
    "duration": 8,
    "start_time": "2023-08-14T14:48:50.308Z"
   },
   {
    "duration": 10,
    "start_time": "2023-08-14T14:48:50.318Z"
   },
   {
    "duration": 7,
    "start_time": "2023-08-14T14:48:50.329Z"
   },
   {
    "duration": 11,
    "start_time": "2023-08-14T14:48:50.338Z"
   },
   {
    "duration": 10,
    "start_time": "2023-08-14T14:48:50.350Z"
   },
   {
    "duration": 8,
    "start_time": "2023-08-14T14:48:50.362Z"
   },
   {
    "duration": 7,
    "start_time": "2023-08-14T14:48:50.371Z"
   },
   {
    "duration": 5,
    "start_time": "2023-08-14T14:48:50.379Z"
   },
   {
    "duration": 166,
    "start_time": "2023-08-14T14:48:50.399Z"
   },
   {
    "duration": 124,
    "start_time": "2023-08-14T14:48:50.566Z"
   },
   {
    "duration": 269,
    "start_time": "2023-08-14T14:48:50.691Z"
   },
   {
    "duration": 209,
    "start_time": "2023-08-14T14:48:50.961Z"
   },
   {
    "duration": 198,
    "start_time": "2023-08-14T14:48:51.171Z"
   },
   {
    "duration": 36,
    "start_time": "2023-08-14T14:48:51.370Z"
   },
   {
    "duration": 6,
    "start_time": "2023-08-14T14:48:51.407Z"
   },
   {
    "duration": 34,
    "start_time": "2023-08-14T14:48:51.415Z"
   },
   {
    "duration": 23,
    "start_time": "2023-08-14T14:48:51.451Z"
   },
   {
    "duration": 427,
    "start_time": "2023-08-14T14:48:51.475Z"
   },
   {
    "duration": 450,
    "start_time": "2023-08-14T14:48:51.904Z"
   },
   {
    "duration": 2,
    "start_time": "2023-08-14T14:48:52.357Z"
   },
   {
    "duration": 12,
    "start_time": "2023-08-14T14:48:52.360Z"
   },
   {
    "duration": 6,
    "start_time": "2023-08-14T14:48:52.374Z"
   },
   {
    "duration": 17,
    "start_time": "2023-08-14T14:48:52.382Z"
   },
   {
    "duration": 16,
    "start_time": "2023-08-14T14:48:52.400Z"
   },
   {
    "duration": 22,
    "start_time": "2023-08-14T14:48:52.417Z"
   },
   {
    "duration": 443,
    "start_time": "2023-08-14T14:48:52.440Z"
   },
   {
    "duration": 625,
    "start_time": "2023-08-14T15:32:31.671Z"
   },
   {
    "duration": 45,
    "start_time": "2023-08-14T15:32:32.299Z"
   },
   {
    "duration": 45,
    "start_time": "2023-08-14T15:32:32.345Z"
   },
   {
    "duration": 21,
    "start_time": "2023-08-14T15:32:32.391Z"
   },
   {
    "duration": 558,
    "start_time": "2023-08-14T15:32:32.413Z"
   },
   {
    "duration": 5,
    "start_time": "2023-08-14T15:32:32.973Z"
   },
   {
    "duration": 28,
    "start_time": "2023-08-14T15:32:32.980Z"
   },
   {
    "duration": 12,
    "start_time": "2023-08-14T15:32:33.009Z"
   },
   {
    "duration": 32,
    "start_time": "2023-08-14T15:32:33.022Z"
   },
   {
    "duration": 21,
    "start_time": "2023-08-14T15:32:33.056Z"
   },
   {
    "duration": 18,
    "start_time": "2023-08-14T15:32:33.078Z"
   },
   {
    "duration": 21,
    "start_time": "2023-08-14T15:32:33.097Z"
   },
   {
    "duration": 16,
    "start_time": "2023-08-14T15:32:33.119Z"
   },
   {
    "duration": 7,
    "start_time": "2023-08-14T15:32:33.137Z"
   },
   {
    "duration": 13,
    "start_time": "2023-08-14T15:32:33.145Z"
   },
   {
    "duration": 8,
    "start_time": "2023-08-14T15:32:33.159Z"
   },
   {
    "duration": 153,
    "start_time": "2023-08-14T15:32:33.168Z"
   },
   {
    "duration": 120,
    "start_time": "2023-08-14T15:32:33.322Z"
   },
   {
    "duration": 271,
    "start_time": "2023-08-14T15:32:33.444Z"
   },
   {
    "duration": 200,
    "start_time": "2023-08-14T15:32:33.716Z"
   },
   {
    "duration": 223,
    "start_time": "2023-08-14T15:32:33.917Z"
   },
   {
    "duration": 31,
    "start_time": "2023-08-14T15:32:34.142Z"
   },
   {
    "duration": 6,
    "start_time": "2023-08-14T15:32:34.174Z"
   },
   {
    "duration": 35,
    "start_time": "2023-08-14T15:32:34.181Z"
   },
   {
    "duration": 27,
    "start_time": "2023-08-14T15:32:34.217Z"
   },
   {
    "duration": 420,
    "start_time": "2023-08-14T15:32:34.246Z"
   },
   {
    "duration": 437,
    "start_time": "2023-08-14T15:32:34.667Z"
   },
   {
    "duration": 65,
    "start_time": "2023-08-14T15:32:35.107Z"
   },
   {
    "duration": 22,
    "start_time": "2023-08-14T15:35:32.076Z"
   },
   {
    "duration": 16,
    "start_time": "2023-08-14T15:36:14.635Z"
   },
   {
    "duration": 20,
    "start_time": "2023-08-14T15:36:20.179Z"
   },
   {
    "duration": 18,
    "start_time": "2023-08-14T15:36:24.196Z"
   },
   {
    "duration": 104,
    "start_time": "2023-08-14T15:38:25.795Z"
   },
   {
    "duration": 41,
    "start_time": "2023-08-14T15:41:18.793Z"
   },
   {
    "duration": 680,
    "start_time": "2023-08-14T15:41:39.061Z"
   },
   {
    "duration": 48,
    "start_time": "2023-08-14T15:41:39.742Z"
   },
   {
    "duration": 45,
    "start_time": "2023-08-14T15:41:39.792Z"
   },
   {
    "duration": 21,
    "start_time": "2023-08-14T15:41:39.839Z"
   },
   {
    "duration": 601,
    "start_time": "2023-08-14T15:41:39.862Z"
   },
   {
    "duration": 6,
    "start_time": "2023-08-14T15:41:40.464Z"
   },
   {
    "duration": 19,
    "start_time": "2023-08-14T15:41:40.471Z"
   },
   {
    "duration": 27,
    "start_time": "2023-08-14T15:41:40.492Z"
   },
   {
    "duration": 28,
    "start_time": "2023-08-14T15:41:40.521Z"
   },
   {
    "duration": 21,
    "start_time": "2023-08-14T15:41:40.551Z"
   },
   {
    "duration": 27,
    "start_time": "2023-08-14T15:41:40.574Z"
   },
   {
    "duration": 13,
    "start_time": "2023-08-14T15:41:40.602Z"
   },
   {
    "duration": 32,
    "start_time": "2023-08-14T15:41:40.616Z"
   },
   {
    "duration": 24,
    "start_time": "2023-08-14T15:41:40.650Z"
   },
   {
    "duration": 24,
    "start_time": "2023-08-14T15:41:40.675Z"
   },
   {
    "duration": 22,
    "start_time": "2023-08-14T15:41:40.701Z"
   },
   {
    "duration": 188,
    "start_time": "2023-08-14T15:41:40.724Z"
   },
   {
    "duration": 137,
    "start_time": "2023-08-14T15:41:40.914Z"
   },
   {
    "duration": 296,
    "start_time": "2023-08-14T15:41:41.052Z"
   },
   {
    "duration": 229,
    "start_time": "2023-08-14T15:41:41.349Z"
   },
   {
    "duration": 220,
    "start_time": "2023-08-14T15:41:41.579Z"
   },
   {
    "duration": 44,
    "start_time": "2023-08-14T15:41:41.801Z"
   },
   {
    "duration": 6,
    "start_time": "2023-08-14T15:41:41.847Z"
   },
   {
    "duration": 20,
    "start_time": "2023-08-14T15:41:41.855Z"
   },
   {
    "duration": 29,
    "start_time": "2023-08-14T15:41:41.877Z"
   },
   {
    "duration": 464,
    "start_time": "2023-08-14T15:41:41.907Z"
   },
   {
    "duration": 499,
    "start_time": "2023-08-14T15:41:42.372Z"
   },
   {
    "duration": 28,
    "start_time": "2023-08-14T15:41:42.872Z"
   },
   {
    "duration": 289,
    "start_time": "2023-08-14T15:41:42.901Z"
   },
   {
    "duration": 26,
    "start_time": "2023-08-14T15:42:27.237Z"
   },
   {
    "duration": 78,
    "start_time": "2023-08-14T15:42:30.658Z"
   },
   {
    "duration": 15,
    "start_time": "2023-08-14T15:43:32.405Z"
   },
   {
    "duration": 22,
    "start_time": "2023-08-14T15:43:52.309Z"
   },
   {
    "duration": 24,
    "start_time": "2023-08-14T15:43:56.458Z"
   },
   {
    "duration": 22,
    "start_time": "2023-08-14T15:44:00.258Z"
   },
   {
    "duration": 10,
    "start_time": "2023-08-14T15:44:03.162Z"
   },
   {
    "duration": 10,
    "start_time": "2023-08-14T15:47:54.614Z"
   },
   {
    "duration": 7,
    "start_time": "2023-08-14T15:47:56.835Z"
   },
   {
    "duration": 43,
    "start_time": "2023-08-14T17:21:19.400Z"
   },
   {
    "duration": 12,
    "start_time": "2023-08-14T17:21:26.115Z"
   },
   {
    "duration": 36,
    "start_time": "2023-08-14T17:21:34.392Z"
   },
   {
    "duration": 46,
    "start_time": "2023-08-15T02:23:57.656Z"
   },
   {
    "duration": 89,
    "start_time": "2023-08-15T02:24:56.549Z"
   },
   {
    "duration": 6,
    "start_time": "2023-08-15T02:25:06.037Z"
   },
   {
    "duration": 876,
    "start_time": "2023-08-15T02:25:15.364Z"
   },
   {
    "duration": 103,
    "start_time": "2023-08-15T02:25:16.243Z"
   },
   {
    "duration": 96,
    "start_time": "2023-08-15T02:25:16.348Z"
   },
   {
    "duration": 59,
    "start_time": "2023-08-15T02:25:16.446Z"
   },
   {
    "duration": 744,
    "start_time": "2023-08-15T02:25:16.506Z"
   },
   {
    "duration": 6,
    "start_time": "2023-08-15T02:25:17.252Z"
   },
   {
    "duration": 16,
    "start_time": "2023-08-15T02:25:17.260Z"
   },
   {
    "duration": 21,
    "start_time": "2023-08-15T02:25:17.278Z"
   },
   {
    "duration": 10,
    "start_time": "2023-08-15T02:25:17.301Z"
   },
   {
    "duration": 7,
    "start_time": "2023-08-15T02:25:17.314Z"
   },
   {
    "duration": 17,
    "start_time": "2023-08-15T02:25:17.323Z"
   },
   {
    "duration": 23,
    "start_time": "2023-08-15T02:25:17.341Z"
   },
   {
    "duration": 20,
    "start_time": "2023-08-15T02:25:17.366Z"
   },
   {
    "duration": 13,
    "start_time": "2023-08-15T02:25:17.387Z"
   },
   {
    "duration": 20,
    "start_time": "2023-08-15T02:25:17.401Z"
   },
   {
    "duration": 13,
    "start_time": "2023-08-15T02:25:17.423Z"
   },
   {
    "duration": 198,
    "start_time": "2023-08-15T02:25:17.437Z"
   },
   {
    "duration": 174,
    "start_time": "2023-08-15T02:25:17.637Z"
   },
   {
    "duration": 335,
    "start_time": "2023-08-15T02:25:17.813Z"
   },
   {
    "duration": 261,
    "start_time": "2023-08-15T02:25:18.150Z"
   },
   {
    "duration": 248,
    "start_time": "2023-08-15T02:25:18.412Z"
   },
   {
    "duration": 63,
    "start_time": "2023-08-15T02:25:18.661Z"
   },
   {
    "duration": 11,
    "start_time": "2023-08-15T02:25:18.726Z"
   },
   {
    "duration": 12,
    "start_time": "2023-08-15T02:25:18.739Z"
   },
   {
    "duration": 12,
    "start_time": "2023-08-15T02:25:18.753Z"
   },
   {
    "duration": 30,
    "start_time": "2023-08-15T02:25:18.767Z"
   },
   {
    "duration": 511,
    "start_time": "2023-08-15T02:25:18.799Z"
   },
   {
    "duration": 594,
    "start_time": "2023-08-15T02:25:19.313Z"
   },
   {
    "duration": 28,
    "start_time": "2023-08-15T02:25:19.909Z"
   },
   {
    "duration": 13,
    "start_time": "2023-08-15T02:25:19.939Z"
   },
   {
    "duration": 56,
    "start_time": "2023-08-15T02:25:19.954Z"
   },
   {
    "duration": 31,
    "start_time": "2023-08-15T02:25:35.203Z"
   },
   {
    "duration": 18,
    "start_time": "2023-08-15T02:25:44.786Z"
   },
   {
    "duration": 40,
    "start_time": "2023-08-15T02:25:58.554Z"
   },
   {
    "duration": 24,
    "start_time": "2023-08-15T02:26:10.395Z"
   },
   {
    "duration": 16,
    "start_time": "2023-08-15T02:28:00.425Z"
   },
   {
    "duration": 20,
    "start_time": "2023-08-15T02:28:04.450Z"
   },
   {
    "duration": 17,
    "start_time": "2023-08-15T02:28:18.714Z"
   },
   {
    "duration": 19,
    "start_time": "2023-08-15T03:43:18.799Z"
   },
   {
    "duration": 725,
    "start_time": "2023-08-15T03:44:41.262Z"
   },
   {
    "duration": 48,
    "start_time": "2023-08-15T03:44:41.989Z"
   },
   {
    "duration": 49,
    "start_time": "2023-08-15T03:44:42.038Z"
   },
   {
    "duration": 21,
    "start_time": "2023-08-15T03:44:42.089Z"
   },
   {
    "duration": 672,
    "start_time": "2023-08-15T03:44:42.112Z"
   },
   {
    "duration": 10,
    "start_time": "2023-08-15T03:44:42.785Z"
   },
   {
    "duration": 6,
    "start_time": "2023-08-15T03:44:42.797Z"
   },
   {
    "duration": 18,
    "start_time": "2023-08-15T03:44:42.805Z"
   },
   {
    "duration": 8,
    "start_time": "2023-08-15T03:44:42.824Z"
   },
   {
    "duration": 5,
    "start_time": "2023-08-15T03:44:42.835Z"
   },
   {
    "duration": 9,
    "start_time": "2023-08-15T03:44:42.842Z"
   },
   {
    "duration": 11,
    "start_time": "2023-08-15T03:44:42.852Z"
   },
   {
    "duration": 35,
    "start_time": "2023-08-15T03:44:42.865Z"
   },
   {
    "duration": 5,
    "start_time": "2023-08-15T03:44:42.902Z"
   },
   {
    "duration": 9,
    "start_time": "2023-08-15T03:44:42.909Z"
   },
   {
    "duration": 6,
    "start_time": "2023-08-15T03:44:42.920Z"
   },
   {
    "duration": 222,
    "start_time": "2023-08-15T03:44:42.927Z"
   },
   {
    "duration": 155,
    "start_time": "2023-08-15T03:44:43.151Z"
   },
   {
    "duration": 329,
    "start_time": "2023-08-15T03:44:43.308Z"
   },
   {
    "duration": 257,
    "start_time": "2023-08-15T03:44:43.639Z"
   },
   {
    "duration": 246,
    "start_time": "2023-08-15T03:44:43.898Z"
   },
   {
    "duration": 59,
    "start_time": "2023-08-15T03:44:44.146Z"
   },
   {
    "duration": 11,
    "start_time": "2023-08-15T03:44:44.207Z"
   },
   {
    "duration": 21,
    "start_time": "2023-08-15T03:44:44.220Z"
   },
   {
    "duration": 26,
    "start_time": "2023-08-15T03:44:44.242Z"
   },
   {
    "duration": 22,
    "start_time": "2023-08-15T03:44:44.270Z"
   },
   {
    "duration": 556,
    "start_time": "2023-08-15T03:44:44.294Z"
   },
   {
    "duration": 597,
    "start_time": "2023-08-15T03:44:44.854Z"
   },
   {
    "duration": 30,
    "start_time": "2023-08-15T03:44:45.453Z"
   },
   {
    "duration": 18,
    "start_time": "2023-08-15T03:44:45.495Z"
   },
   {
    "duration": 28,
    "start_time": "2023-08-15T03:46:02.991Z"
   },
   {
    "duration": 20,
    "start_time": "2023-08-15T03:46:08.567Z"
   },
   {
    "duration": 19,
    "start_time": "2023-08-15T03:47:30.935Z"
   },
   {
    "duration": 35,
    "start_time": "2023-08-15T03:48:08.647Z"
   },
   {
    "duration": 24,
    "start_time": "2023-08-15T03:48:20.430Z"
   },
   {
    "duration": 17,
    "start_time": "2023-08-15T03:49:29.110Z"
   },
   {
    "duration": 29,
    "start_time": "2023-08-15T03:50:38.524Z"
   },
   {
    "duration": 25,
    "start_time": "2023-08-15T03:50:46.645Z"
   },
   {
    "duration": 633,
    "start_time": "2023-08-15T03:50:57.408Z"
   },
   {
    "duration": 46,
    "start_time": "2023-08-15T03:50:58.043Z"
   },
   {
    "duration": 65,
    "start_time": "2023-08-15T03:50:58.091Z"
   },
   {
    "duration": 21,
    "start_time": "2023-08-15T03:50:58.159Z"
   },
   {
    "duration": 633,
    "start_time": "2023-08-15T03:50:58.183Z"
   },
   {
    "duration": 7,
    "start_time": "2023-08-15T03:50:58.818Z"
   },
   {
    "duration": 16,
    "start_time": "2023-08-15T03:50:58.827Z"
   },
   {
    "duration": 9,
    "start_time": "2023-08-15T03:50:58.846Z"
   },
   {
    "duration": 8,
    "start_time": "2023-08-15T03:50:58.857Z"
   },
   {
    "duration": 29,
    "start_time": "2023-08-15T03:50:58.866Z"
   },
   {
    "duration": 5,
    "start_time": "2023-08-15T03:50:58.896Z"
   },
   {
    "duration": 36,
    "start_time": "2023-08-15T03:50:58.903Z"
   },
   {
    "duration": 13,
    "start_time": "2023-08-15T03:50:58.940Z"
   },
   {
    "duration": 5,
    "start_time": "2023-08-15T03:50:58.956Z"
   },
   {
    "duration": 9,
    "start_time": "2023-08-15T03:50:58.962Z"
   },
   {
    "duration": 7,
    "start_time": "2023-08-15T03:50:58.972Z"
   },
   {
    "duration": 203,
    "start_time": "2023-08-15T03:50:58.981Z"
   },
   {
    "duration": 150,
    "start_time": "2023-08-15T03:50:59.185Z"
   },
   {
    "duration": 315,
    "start_time": "2023-08-15T03:50:59.337Z"
   },
   {
    "duration": 250,
    "start_time": "2023-08-15T03:50:59.654Z"
   },
   {
    "duration": 245,
    "start_time": "2023-08-15T03:50:59.906Z"
   },
   {
    "duration": 53,
    "start_time": "2023-08-15T03:51:00.153Z"
   },
   {
    "duration": 12,
    "start_time": "2023-08-15T03:51:00.208Z"
   },
   {
    "duration": 19,
    "start_time": "2023-08-15T03:51:00.222Z"
   },
   {
    "duration": 42,
    "start_time": "2023-08-15T03:51:00.243Z"
   },
   {
    "duration": 30,
    "start_time": "2023-08-15T03:51:00.286Z"
   },
   {
    "duration": 489,
    "start_time": "2023-08-15T03:51:00.318Z"
   },
   {
    "duration": 550,
    "start_time": "2023-08-15T03:51:00.809Z"
   },
   {
    "duration": 36,
    "start_time": "2023-08-15T03:51:01.360Z"
   },
   {
    "duration": 18,
    "start_time": "2023-08-15T03:51:01.398Z"
   },
   {
    "duration": 16,
    "start_time": "2023-08-15T03:51:34.557Z"
   },
   {
    "duration": 12,
    "start_time": "2023-08-15T03:54:20.556Z"
   },
   {
    "duration": 15,
    "start_time": "2023-08-15T03:54:27.908Z"
   },
   {
    "duration": 14,
    "start_time": "2023-08-15T03:54:38.613Z"
   },
   {
    "duration": 14,
    "start_time": "2023-08-15T03:54:40.587Z"
   },
   {
    "duration": 8,
    "start_time": "2023-08-15T03:54:42.539Z"
   },
   {
    "duration": 46,
    "start_time": "2023-08-15T03:55:21.771Z"
   },
   {
    "duration": 17,
    "start_time": "2023-08-15T03:55:31.315Z"
   },
   {
    "duration": 40,
    "start_time": "2023-08-15T03:56:04.419Z"
   },
   {
    "duration": 70,
    "start_time": "2023-08-15T03:56:17.074Z"
   },
   {
    "duration": 24,
    "start_time": "2023-08-15T03:56:22.955Z"
   },
   {
    "duration": 43,
    "start_time": "2023-08-15T03:56:31.251Z"
   },
   {
    "duration": 86,
    "start_time": "2023-08-15T03:58:16.994Z"
   },
   {
    "duration": 9,
    "start_time": "2023-08-15T03:59:23.227Z"
   },
   {
    "duration": 389,
    "start_time": "2023-08-15T03:59:55.514Z"
   },
   {
    "duration": 7,
    "start_time": "2023-08-15T04:00:00.817Z"
   },
   {
    "duration": 5,
    "start_time": "2023-08-15T04:00:57.770Z"
   },
   {
    "duration": 6,
    "start_time": "2023-08-15T04:27:41.999Z"
   },
   {
    "duration": 5,
    "start_time": "2023-08-15T04:33:11.240Z"
   },
   {
    "duration": 5,
    "start_time": "2023-08-15T04:33:25.641Z"
   },
   {
    "duration": 5,
    "start_time": "2023-08-15T04:34:27.056Z"
   },
   {
    "duration": 36,
    "start_time": "2023-08-15T04:39:09.415Z"
   },
   {
    "duration": 16,
    "start_time": "2023-08-15T04:39:42.023Z"
   },
   {
    "duration": 11,
    "start_time": "2023-08-15T04:39:54.080Z"
   },
   {
    "duration": 15,
    "start_time": "2023-08-15T04:40:15.184Z"
   },
   {
    "duration": 5,
    "start_time": "2023-08-15T04:41:33.008Z"
   },
   {
    "duration": 155,
    "start_time": "2023-08-15T04:41:55.455Z"
   },
   {
    "duration": 10,
    "start_time": "2023-08-15T04:46:47.895Z"
   },
   {
    "duration": 12,
    "start_time": "2023-08-15T04:46:51.613Z"
   },
   {
    "duration": 5,
    "start_time": "2023-08-15T04:53:25.837Z"
   },
   {
    "duration": 1178,
    "start_time": "2023-08-15T05:55:25.500Z"
   },
   {
    "duration": 46,
    "start_time": "2023-08-15T05:55:26.680Z"
   },
   {
    "duration": 23,
    "start_time": "2023-08-15T05:55:26.728Z"
   },
   {
    "duration": 47,
    "start_time": "2023-08-15T05:55:26.753Z"
   },
   {
    "duration": 22,
    "start_time": "2023-08-15T05:55:26.802Z"
   },
   {
    "duration": 19,
    "start_time": "2023-08-15T05:55:26.826Z"
   },
   {
    "duration": 661,
    "start_time": "2023-08-15T05:55:26.847Z"
   },
   {
    "duration": 7,
    "start_time": "2023-08-15T05:55:27.510Z"
   },
   {
    "duration": 29,
    "start_time": "2023-08-15T05:55:27.519Z"
   },
   {
    "duration": 18,
    "start_time": "2023-08-15T05:55:27.551Z"
   },
   {
    "duration": 8,
    "start_time": "2023-08-15T05:55:27.572Z"
   },
   {
    "duration": 9,
    "start_time": "2023-08-15T05:55:27.581Z"
   },
   {
    "duration": 4,
    "start_time": "2023-08-15T05:55:27.594Z"
   },
   {
    "duration": 11,
    "start_time": "2023-08-15T05:55:27.600Z"
   },
   {
    "duration": 13,
    "start_time": "2023-08-15T05:55:27.612Z"
   },
   {
    "duration": 11,
    "start_time": "2023-08-15T05:55:27.627Z"
   },
   {
    "duration": 8,
    "start_time": "2023-08-15T05:55:27.640Z"
   },
   {
    "duration": 11,
    "start_time": "2023-08-15T05:55:27.650Z"
   },
   {
    "duration": 199,
    "start_time": "2023-08-15T05:55:27.662Z"
   },
   {
    "duration": 105,
    "start_time": "2023-08-15T05:55:27.863Z"
   },
   {
    "duration": 327,
    "start_time": "2023-08-15T05:55:27.970Z"
   },
   {
    "duration": 254,
    "start_time": "2023-08-15T05:55:28.299Z"
   },
   {
    "duration": 328,
    "start_time": "2023-08-15T05:55:28.555Z"
   },
   {
    "duration": 52,
    "start_time": "2023-08-15T05:55:28.884Z"
   },
   {
    "duration": 11,
    "start_time": "2023-08-15T05:55:28.938Z"
   },
   {
    "duration": 26,
    "start_time": "2023-08-15T05:55:28.951Z"
   },
   {
    "duration": 73,
    "start_time": "2023-08-15T05:55:28.979Z"
   },
   {
    "duration": 69,
    "start_time": "2023-08-15T05:55:29.055Z"
   },
   {
    "duration": 601,
    "start_time": "2023-08-15T05:55:29.129Z"
   },
   {
    "duration": 529,
    "start_time": "2023-08-15T05:55:29.732Z"
   },
   {
    "duration": 43,
    "start_time": "2023-08-15T05:55:30.262Z"
   },
   {
    "duration": 136,
    "start_time": "2023-08-15T05:55:30.309Z"
   },
   {
    "duration": 129,
    "start_time": "2023-08-15T05:55:30.447Z"
   },
   {
    "duration": 96,
    "start_time": "2023-08-15T05:55:30.577Z"
   },
   {
    "duration": 110,
    "start_time": "2023-08-15T05:55:30.674Z"
   },
   {
    "duration": 141,
    "start_time": "2023-08-15T05:55:30.785Z"
   },
   {
    "duration": 1169,
    "start_time": "2023-08-15T07:07:47.857Z"
   },
   {
    "duration": 45,
    "start_time": "2023-08-15T07:07:49.028Z"
   },
   {
    "duration": 20,
    "start_time": "2023-08-15T07:07:49.075Z"
   },
   {
    "duration": 32,
    "start_time": "2023-08-15T07:07:49.097Z"
   },
   {
    "duration": 33,
    "start_time": "2023-08-15T07:07:49.131Z"
   },
   {
    "duration": 21,
    "start_time": "2023-08-15T07:07:49.169Z"
   },
   {
    "duration": 682,
    "start_time": "2023-08-15T07:07:49.192Z"
   },
   {
    "duration": 7,
    "start_time": "2023-08-15T07:07:49.876Z"
   },
   {
    "duration": 9,
    "start_time": "2023-08-15T07:07:49.885Z"
   },
   {
    "duration": 10,
    "start_time": "2023-08-15T07:07:49.896Z"
   },
   {
    "duration": 8,
    "start_time": "2023-08-15T07:07:49.908Z"
   },
   {
    "duration": 10,
    "start_time": "2023-08-15T07:07:49.917Z"
   },
   {
    "duration": 10,
    "start_time": "2023-08-15T07:07:49.928Z"
   },
   {
    "duration": 12,
    "start_time": "2023-08-15T07:07:49.959Z"
   },
   {
    "duration": 8,
    "start_time": "2023-08-15T07:07:49.977Z"
   },
   {
    "duration": 9,
    "start_time": "2023-08-15T07:07:49.987Z"
   },
   {
    "duration": 10,
    "start_time": "2023-08-15T07:07:49.998Z"
   },
   {
    "duration": 11,
    "start_time": "2023-08-15T07:07:50.009Z"
   },
   {
    "duration": 223,
    "start_time": "2023-08-15T07:07:50.022Z"
   },
   {
    "duration": 101,
    "start_time": "2023-08-15T07:07:50.247Z"
   },
   {
    "duration": 333,
    "start_time": "2023-08-15T07:07:50.351Z"
   },
   {
    "duration": 287,
    "start_time": "2023-08-15T07:07:50.686Z"
   },
   {
    "duration": 319,
    "start_time": "2023-08-15T07:07:50.975Z"
   },
   {
    "duration": 46,
    "start_time": "2023-08-15T07:07:51.295Z"
   },
   {
    "duration": 31,
    "start_time": "2023-08-15T07:07:51.343Z"
   },
   {
    "duration": 7,
    "start_time": "2023-08-15T07:07:51.376Z"
   },
   {
    "duration": 27,
    "start_time": "2023-08-15T07:07:51.385Z"
   },
   {
    "duration": 16,
    "start_time": "2023-08-15T07:07:51.415Z"
   },
   {
    "duration": 515,
    "start_time": "2023-08-15T07:07:51.433Z"
   },
   {
    "duration": 563,
    "start_time": "2023-08-15T07:07:51.949Z"
   },
   {
    "duration": 28,
    "start_time": "2023-08-15T07:07:52.513Z"
   },
   {
    "duration": 34,
    "start_time": "2023-08-15T07:07:52.543Z"
   },
   {
    "duration": 8,
    "start_time": "2023-08-15T07:07:52.579Z"
   },
   {
    "duration": 27,
    "start_time": "2023-08-15T07:07:52.588Z"
   },
   {
    "duration": 9,
    "start_time": "2023-08-15T07:07:52.616Z"
   },
   {
    "duration": 12,
    "start_time": "2023-08-15T07:07:52.626Z"
   },
   {
    "duration": 7,
    "start_time": "2023-08-15T07:14:14.116Z"
   },
   {
    "duration": 1124,
    "start_time": "2023-08-15T07:17:44.429Z"
   },
   {
    "duration": 43,
    "start_time": "2023-08-15T07:17:45.555Z"
   },
   {
    "duration": 20,
    "start_time": "2023-08-15T07:17:45.599Z"
   },
   {
    "duration": 48,
    "start_time": "2023-08-15T07:17:45.621Z"
   },
   {
    "duration": 24,
    "start_time": "2023-08-15T07:17:45.671Z"
   },
   {
    "duration": 20,
    "start_time": "2023-08-15T07:17:45.696Z"
   },
   {
    "duration": 690,
    "start_time": "2023-08-15T07:17:45.718Z"
   },
   {
    "duration": 6,
    "start_time": "2023-08-15T07:17:46.410Z"
   },
   {
    "duration": 11,
    "start_time": "2023-08-15T07:17:46.418Z"
   },
   {
    "duration": 9,
    "start_time": "2023-08-15T07:17:46.432Z"
   },
   {
    "duration": 12,
    "start_time": "2023-08-15T07:17:46.459Z"
   },
   {
    "duration": 15,
    "start_time": "2023-08-15T07:17:46.477Z"
   },
   {
    "duration": 7,
    "start_time": "2023-08-15T07:17:46.493Z"
   },
   {
    "duration": 9,
    "start_time": "2023-08-15T07:17:46.501Z"
   },
   {
    "duration": 8,
    "start_time": "2023-08-15T07:17:46.512Z"
   },
   {
    "duration": 5,
    "start_time": "2023-08-15T07:17:46.521Z"
   },
   {
    "duration": 8,
    "start_time": "2023-08-15T07:17:46.527Z"
   },
   {
    "duration": 30,
    "start_time": "2023-08-15T07:17:46.537Z"
   },
   {
    "duration": 207,
    "start_time": "2023-08-15T07:17:46.568Z"
   },
   {
    "duration": 101,
    "start_time": "2023-08-15T07:17:46.777Z"
   },
   {
    "duration": 333,
    "start_time": "2023-08-15T07:17:46.879Z"
   },
   {
    "duration": 264,
    "start_time": "2023-08-15T07:17:47.213Z"
   },
   {
    "duration": 349,
    "start_time": "2023-08-15T07:17:47.479Z"
   },
   {
    "duration": 57,
    "start_time": "2023-08-15T07:17:47.830Z"
   },
   {
    "duration": 11,
    "start_time": "2023-08-15T07:17:47.889Z"
   },
   {
    "duration": 12,
    "start_time": "2023-08-15T07:17:47.902Z"
   },
   {
    "duration": 21,
    "start_time": "2023-08-15T07:17:47.916Z"
   },
   {
    "duration": 22,
    "start_time": "2023-08-15T07:17:47.940Z"
   },
   {
    "duration": 517,
    "start_time": "2023-08-15T07:17:47.972Z"
   },
   {
    "duration": 495,
    "start_time": "2023-08-15T07:17:48.491Z"
   },
   {
    "duration": 26,
    "start_time": "2023-08-15T07:17:48.988Z"
   },
   {
    "duration": 16,
    "start_time": "2023-08-15T07:17:49.015Z"
   },
   {
    "duration": 35,
    "start_time": "2023-08-15T07:17:49.033Z"
   },
   {
    "duration": 6,
    "start_time": "2023-08-15T07:17:49.070Z"
   },
   {
    "duration": 10,
    "start_time": "2023-08-15T07:17:49.078Z"
   },
   {
    "duration": 14,
    "start_time": "2023-08-15T07:17:49.090Z"
   },
   {
    "duration": 50,
    "start_time": "2023-08-15T09:57:03.816Z"
   },
   {
    "duration": 1322,
    "start_time": "2023-08-15T09:57:11.480Z"
   },
   {
    "duration": 98,
    "start_time": "2023-08-15T09:57:12.804Z"
   },
   {
    "duration": 21,
    "start_time": "2023-08-15T09:57:12.904Z"
   },
   {
    "duration": 86,
    "start_time": "2023-08-15T09:57:12.927Z"
   },
   {
    "duration": 24,
    "start_time": "2023-08-15T09:57:13.015Z"
   },
   {
    "duration": 59,
    "start_time": "2023-08-15T09:57:13.041Z"
   },
   {
    "duration": 667,
    "start_time": "2023-08-15T09:57:13.102Z"
   },
   {
    "duration": 6,
    "start_time": "2023-08-15T09:57:13.771Z"
   },
   {
    "duration": 27,
    "start_time": "2023-08-15T09:57:13.779Z"
   },
   {
    "duration": 22,
    "start_time": "2023-08-15T09:57:13.809Z"
   },
   {
    "duration": 31,
    "start_time": "2023-08-15T09:57:13.833Z"
   },
   {
    "duration": 27,
    "start_time": "2023-08-15T09:57:13.866Z"
   },
   {
    "duration": 28,
    "start_time": "2023-08-15T09:57:13.895Z"
   },
   {
    "duration": 31,
    "start_time": "2023-08-15T09:57:13.924Z"
   },
   {
    "duration": 29,
    "start_time": "2023-08-15T09:57:13.956Z"
   },
   {
    "duration": 27,
    "start_time": "2023-08-15T09:57:13.987Z"
   },
   {
    "duration": 32,
    "start_time": "2023-08-15T09:57:14.016Z"
   },
   {
    "duration": 29,
    "start_time": "2023-08-15T09:57:14.050Z"
   },
   {
    "duration": 212,
    "start_time": "2023-08-15T09:57:14.080Z"
   },
   {
    "duration": 115,
    "start_time": "2023-08-15T09:57:14.294Z"
   },
   {
    "duration": 332,
    "start_time": "2023-08-15T09:57:14.410Z"
   },
   {
    "duration": 257,
    "start_time": "2023-08-15T09:57:14.743Z"
   },
   {
    "duration": 356,
    "start_time": "2023-08-15T09:57:15.002Z"
   },
   {
    "duration": 53,
    "start_time": "2023-08-15T09:57:15.360Z"
   },
   {
    "duration": 14,
    "start_time": "2023-08-15T09:57:15.415Z"
   },
   {
    "duration": 39,
    "start_time": "2023-08-15T09:57:15.431Z"
   },
   {
    "duration": 39,
    "start_time": "2023-08-15T09:57:15.471Z"
   },
   {
    "duration": 44,
    "start_time": "2023-08-15T09:57:15.513Z"
   },
   {
    "duration": 633,
    "start_time": "2023-08-15T09:57:15.560Z"
   },
   {
    "duration": 507,
    "start_time": "2023-08-15T09:57:16.195Z"
   },
   {
    "duration": 31,
    "start_time": "2023-08-15T09:57:16.703Z"
   },
   {
    "duration": 17,
    "start_time": "2023-08-15T09:57:16.736Z"
   },
   {
    "duration": 24,
    "start_time": "2023-08-15T09:57:16.755Z"
   },
   {
    "duration": 22,
    "start_time": "2023-08-15T09:57:16.781Z"
   },
   {
    "duration": 48,
    "start_time": "2023-08-15T09:57:16.805Z"
   },
   {
    "duration": 28,
    "start_time": "2023-08-15T09:57:16.855Z"
   },
   {
    "duration": 9,
    "start_time": "2023-08-15T09:57:34.439Z"
   },
   {
    "duration": 1454,
    "start_time": "2023-08-15T09:57:42.791Z"
   },
   {
    "duration": 10,
    "start_time": "2023-08-15T09:58:10.743Z"
   },
   {
    "duration": 10,
    "start_time": "2023-08-15T09:58:33.999Z"
   },
   {
    "duration": 7,
    "start_time": "2023-08-15T09:59:06.158Z"
   },
   {
    "duration": 5,
    "start_time": "2023-08-15T09:59:17.255Z"
   },
   {
    "duration": 6,
    "start_time": "2023-08-15T09:59:29.326Z"
   },
   {
    "duration": 6,
    "start_time": "2023-08-15T09:59:38.166Z"
   },
   {
    "duration": 5,
    "start_time": "2023-08-15T09:59:47.502Z"
   },
   {
    "duration": 5,
    "start_time": "2023-08-15T09:59:59.343Z"
   },
   {
    "duration": 96,
    "start_time": "2023-08-15T12:02:47.420Z"
   },
   {
    "duration": 95,
    "start_time": "2023-08-15T12:02:53.332Z"
   },
   {
    "duration": 212,
    "start_time": "2023-08-15T12:02:59.452Z"
   },
   {
    "duration": 100,
    "start_time": "2023-08-15T12:03:26.309Z"
   },
   {
    "duration": 98,
    "start_time": "2023-08-15T12:03:30.996Z"
   },
   {
    "duration": 96,
    "start_time": "2023-08-15T12:03:37.132Z"
   },
   {
    "duration": 104,
    "start_time": "2023-08-15T12:04:39.077Z"
   },
   {
    "duration": 125,
    "start_time": "2023-08-15T12:05:05.925Z"
   },
   {
    "duration": 100,
    "start_time": "2023-08-15T12:05:15.156Z"
   },
   {
    "duration": 116,
    "start_time": "2023-08-15T12:05:22.189Z"
   },
   {
    "duration": 106,
    "start_time": "2023-08-15T12:05:27.422Z"
   },
   {
    "duration": 119,
    "start_time": "2023-08-15T12:05:32.277Z"
   },
   {
    "duration": 87,
    "start_time": "2023-08-15T12:05:40.870Z"
   },
   {
    "duration": 95,
    "start_time": "2023-08-15T12:05:50.135Z"
   },
   {
    "duration": 94,
    "start_time": "2023-08-15T12:06:05.438Z"
   },
   {
    "duration": 246,
    "start_time": "2023-08-15T12:07:20.838Z"
   },
   {
    "duration": 145,
    "start_time": "2023-08-15T12:09:10.221Z"
   },
   {
    "duration": 58,
    "start_time": "2023-08-15T12:20:24.605Z"
   },
   {
    "duration": 18,
    "start_time": "2023-08-15T12:21:47.636Z"
   },
   {
    "duration": 9,
    "start_time": "2023-08-15T12:21:52.716Z"
   },
   {
    "duration": 19,
    "start_time": "2023-08-15T12:22:02.740Z"
   },
   {
    "duration": 18,
    "start_time": "2023-08-15T12:23:30.012Z"
   },
   {
    "duration": 17,
    "start_time": "2023-08-15T12:23:34.316Z"
   },
   {
    "duration": 15,
    "start_time": "2023-08-15T12:24:13.245Z"
   },
   {
    "duration": 15,
    "start_time": "2023-08-15T12:24:16.325Z"
   },
   {
    "duration": 17,
    "start_time": "2023-08-15T12:24:20.476Z"
   },
   {
    "duration": 16,
    "start_time": "2023-08-15T12:24:38.215Z"
   },
   {
    "duration": 18,
    "start_time": "2023-08-15T12:24:44.672Z"
   },
   {
    "duration": 17,
    "start_time": "2023-08-15T12:27:24.540Z"
   },
   {
    "duration": 16,
    "start_time": "2023-08-15T12:27:30.276Z"
   },
   {
    "duration": 15,
    "start_time": "2023-08-15T12:27:42.835Z"
   },
   {
    "duration": 12,
    "start_time": "2023-08-15T12:27:56.451Z"
   },
   {
    "duration": 162,
    "start_time": "2023-08-15T12:28:55.964Z"
   },
   {
    "duration": 253,
    "start_time": "2023-08-15T12:29:10.499Z"
   },
   {
    "duration": 19,
    "start_time": "2023-08-15T12:29:35.036Z"
   },
   {
    "duration": 19,
    "start_time": "2023-08-15T12:29:55.148Z"
   },
   {
    "duration": 141,
    "start_time": "2023-08-15T12:29:58.691Z"
   },
   {
    "duration": 20,
    "start_time": "2023-08-15T12:30:12.820Z"
   },
   {
    "duration": 183,
    "start_time": "2023-08-15T12:30:18.002Z"
   },
   {
    "duration": 21,
    "start_time": "2023-08-15T12:30:30.235Z"
   },
   {
    "duration": 15,
    "start_time": "2023-08-15T12:31:29.643Z"
   },
   {
    "duration": 13,
    "start_time": "2023-08-15T12:31:46.739Z"
   },
   {
    "duration": 14,
    "start_time": "2023-08-15T12:32:24.442Z"
   },
   {
    "duration": 10,
    "start_time": "2023-08-15T12:32:46.067Z"
   },
   {
    "duration": 18,
    "start_time": "2023-08-15T12:32:50.547Z"
   },
   {
    "duration": 19,
    "start_time": "2023-08-15T12:33:07.931Z"
   },
   {
    "duration": 9,
    "start_time": "2023-08-15T12:33:13.459Z"
   },
   {
    "duration": 11,
    "start_time": "2023-08-15T12:33:24.851Z"
   },
   {
    "duration": 11,
    "start_time": "2023-08-15T12:33:37.922Z"
   },
   {
    "duration": 16,
    "start_time": "2023-08-15T12:34:43.555Z"
   },
   {
    "duration": 6,
    "start_time": "2023-08-15T12:34:50.644Z"
   },
   {
    "duration": 7,
    "start_time": "2023-08-15T12:35:14.267Z"
   },
   {
    "duration": 85,
    "start_time": "2023-08-15T12:35:26.275Z"
   },
   {
    "duration": 119,
    "start_time": "2023-08-15T12:35:44.427Z"
   },
   {
    "duration": 113,
    "start_time": "2023-08-15T12:35:52.499Z"
   },
   {
    "duration": 16,
    "start_time": "2023-08-15T12:36:05.163Z"
   },
   {
    "duration": 16,
    "start_time": "2023-08-15T12:36:18.611Z"
   },
   {
    "duration": 135,
    "start_time": "2023-08-15T12:36:27.779Z"
   },
   {
    "duration": 1268,
    "start_time": "2023-08-15T12:36:38.120Z"
   },
   {
    "duration": 43,
    "start_time": "2023-08-15T12:36:39.390Z"
   },
   {
    "duration": 26,
    "start_time": "2023-08-15T12:36:39.435Z"
   },
   {
    "duration": 42,
    "start_time": "2023-08-15T12:36:39.464Z"
   },
   {
    "duration": 25,
    "start_time": "2023-08-15T12:36:39.508Z"
   },
   {
    "duration": 38,
    "start_time": "2023-08-15T12:36:39.536Z"
   },
   {
    "duration": 719,
    "start_time": "2023-08-15T12:36:39.576Z"
   },
   {
    "duration": 16,
    "start_time": "2023-08-15T12:36:40.297Z"
   },
   {
    "duration": 139,
    "start_time": "2023-08-15T12:36:40.316Z"
   },
   {
    "duration": 174,
    "start_time": "2023-08-15T12:36:40.459Z"
   },
   {
    "duration": 101,
    "start_time": "2023-08-15T12:36:40.635Z"
   },
   {
    "duration": 37,
    "start_time": "2023-08-15T12:36:40.737Z"
   },
   {
    "duration": 169,
    "start_time": "2023-08-15T12:36:40.776Z"
   },
   {
    "duration": 19,
    "start_time": "2023-08-15T12:36:40.947Z"
   },
   {
    "duration": 18,
    "start_time": "2023-08-15T12:36:40.968Z"
   },
   {
    "duration": 17,
    "start_time": "2023-08-15T12:36:40.988Z"
   },
   {
    "duration": 14,
    "start_time": "2023-08-15T12:36:41.007Z"
   },
   {
    "duration": 55,
    "start_time": "2023-08-15T12:36:41.023Z"
   },
   {
    "duration": 33,
    "start_time": "2023-08-15T12:36:41.080Z"
   },
   {
    "duration": 250,
    "start_time": "2023-08-15T12:36:41.115Z"
   },
   {
    "duration": 124,
    "start_time": "2023-08-15T12:36:41.368Z"
   },
   {
    "duration": 115,
    "start_time": "2023-08-15T12:36:41.494Z"
   },
   {
    "duration": 445,
    "start_time": "2023-08-15T12:36:41.611Z"
   },
   {
    "duration": 273,
    "start_time": "2023-08-15T12:36:42.057Z"
   },
   {
    "duration": 265,
    "start_time": "2023-08-15T12:36:42.332Z"
   },
   {
    "duration": 56,
    "start_time": "2023-08-15T12:36:42.598Z"
   },
   {
    "duration": 12,
    "start_time": "2023-08-15T12:36:42.656Z"
   },
   {
    "duration": 14,
    "start_time": "2023-08-15T12:36:42.672Z"
   },
   {
    "duration": 28,
    "start_time": "2023-08-15T12:36:42.688Z"
   },
   {
    "duration": 47,
    "start_time": "2023-08-15T12:36:42.718Z"
   },
   {
    "duration": 541,
    "start_time": "2023-08-15T12:36:42.767Z"
   },
   {
    "duration": 618,
    "start_time": "2023-08-15T12:36:43.310Z"
   },
   {
    "duration": 34,
    "start_time": "2023-08-15T12:36:43.930Z"
   },
   {
    "duration": 43,
    "start_time": "2023-08-15T12:36:43.966Z"
   },
   {
    "duration": 11,
    "start_time": "2023-08-15T12:36:44.011Z"
   },
   {
    "duration": 11,
    "start_time": "2023-08-15T12:36:44.024Z"
   },
   {
    "duration": 7,
    "start_time": "2023-08-15T12:36:44.037Z"
   },
   {
    "duration": 16,
    "start_time": "2023-08-15T12:36:44.046Z"
   },
   {
    "duration": 5,
    "start_time": "2023-08-15T12:38:23.199Z"
   },
   {
    "duration": 8,
    "start_time": "2023-08-15T12:38:27.897Z"
   },
   {
    "duration": 114,
    "start_time": "2023-08-15T12:38:55.321Z"
   },
   {
    "duration": 119,
    "start_time": "2023-08-15T12:39:30.896Z"
   },
   {
    "duration": 110,
    "start_time": "2023-08-15T12:39:36.992Z"
   },
   {
    "duration": 122,
    "start_time": "2023-08-15T12:39:47.699Z"
   },
   {
    "duration": 201,
    "start_time": "2023-08-15T12:44:21.711Z"
   },
   {
    "duration": 16,
    "start_time": "2023-08-15T12:44:34.194Z"
   },
   {
    "duration": 197,
    "start_time": "2023-08-15T12:44:39.087Z"
   },
   {
    "duration": 208,
    "start_time": "2023-08-15T12:44:43.816Z"
   },
   {
    "duration": 118,
    "start_time": "2023-08-15T12:44:58.584Z"
   },
   {
    "duration": 7,
    "start_time": "2023-08-15T12:45:03.039Z"
   },
   {
    "duration": 12,
    "start_time": "2023-08-15T12:45:07.247Z"
   },
   {
    "duration": 166,
    "start_time": "2023-08-15T12:45:29.743Z"
   },
   {
    "duration": 165,
    "start_time": "2023-08-15T12:45:45.007Z"
   },
   {
    "duration": 18,
    "start_time": "2023-08-15T12:46:07.414Z"
   },
   {
    "duration": 162,
    "start_time": "2023-08-15T12:47:27.551Z"
   },
   {
    "duration": 266,
    "start_time": "2023-08-15T12:47:46.911Z"
   },
   {
    "duration": 21,
    "start_time": "2023-08-15T12:48:00.440Z"
   },
   {
    "duration": 18,
    "start_time": "2023-08-15T12:48:54.047Z"
   },
   {
    "duration": 22,
    "start_time": "2023-08-15T12:48:59.395Z"
   },
   {
    "duration": 20,
    "start_time": "2023-08-15T12:49:02.447Z"
   },
   {
    "duration": 21,
    "start_time": "2023-08-15T12:49:31.318Z"
   },
   {
    "duration": 17,
    "start_time": "2023-08-15T12:49:36.880Z"
   },
   {
    "duration": 10,
    "start_time": "2023-08-15T12:50:22.151Z"
   },
   {
    "duration": 12,
    "start_time": "2023-08-15T12:50:44.415Z"
   },
   {
    "duration": 9,
    "start_time": "2023-08-15T12:50:51.799Z"
   },
   {
    "duration": 12,
    "start_time": "2023-08-15T12:51:01.846Z"
   },
   {
    "duration": 159,
    "start_time": "2023-08-15T12:51:06.595Z"
   },
   {
    "duration": 132,
    "start_time": "2023-08-15T12:59:12.879Z"
   },
   {
    "duration": 141,
    "start_time": "2023-08-15T12:59:17.381Z"
   },
   {
    "duration": 196,
    "start_time": "2023-08-15T12:59:31.503Z"
   },
   {
    "duration": 132,
    "start_time": "2023-08-15T13:00:12.517Z"
   },
   {
    "duration": 147,
    "start_time": "2023-08-15T13:00:19.198Z"
   },
   {
    "duration": 141,
    "start_time": "2023-08-15T13:00:35.077Z"
   },
   {
    "duration": 157,
    "start_time": "2023-08-15T13:00:49.967Z"
   },
   {
    "duration": 152,
    "start_time": "2023-08-15T13:01:13.223Z"
   },
   {
    "duration": 155,
    "start_time": "2023-08-15T13:01:56.829Z"
   },
   {
    "duration": 149,
    "start_time": "2023-08-15T13:02:16.821Z"
   },
   {
    "duration": 144,
    "start_time": "2023-08-15T13:27:31.752Z"
   },
   {
    "duration": 177,
    "start_time": "2023-08-15T13:27:45.967Z"
   },
   {
    "duration": 576,
    "start_time": "2023-08-15T13:33:58.294Z"
   },
   {
    "duration": 464,
    "start_time": "2023-08-15T13:34:14.430Z"
   },
   {
    "duration": 230,
    "start_time": "2023-08-15T13:34:38.518Z"
   },
   {
    "duration": 226,
    "start_time": "2023-08-15T13:34:45.374Z"
   },
   {
    "duration": 292,
    "start_time": "2023-08-15T13:34:51.701Z"
   },
   {
    "duration": 3,
    "start_time": "2023-08-15T13:35:18.629Z"
   },
   {
    "duration": 317,
    "start_time": "2023-08-15T13:38:40.013Z"
   },
   {
    "duration": 156,
    "start_time": "2023-08-15T13:38:45.166Z"
   },
   {
    "duration": 298,
    "start_time": "2023-08-15T14:06:52.334Z"
   },
   {
    "duration": 240,
    "start_time": "2023-08-15T14:07:20.478Z"
   },
   {
    "duration": 258,
    "start_time": "2023-08-15T14:07:45.757Z"
   },
   {
    "duration": 227,
    "start_time": "2023-08-15T14:08:21.062Z"
   },
   {
    "duration": 237,
    "start_time": "2023-08-15T14:08:31.194Z"
   },
   {
    "duration": 479,
    "start_time": "2023-08-15T14:10:37.061Z"
   },
   {
    "duration": 638,
    "start_time": "2023-08-15T14:11:00.342Z"
   },
   {
    "duration": 31,
    "start_time": "2023-08-15T14:12:20.365Z"
   },
   {
    "duration": 19,
    "start_time": "2023-08-15T14:12:53.892Z"
   },
   {
    "duration": 86,
    "start_time": "2023-08-15T14:15:33.690Z"
   },
   {
    "duration": 88,
    "start_time": "2023-08-15T14:16:20.044Z"
   },
   {
    "duration": 157,
    "start_time": "2023-08-15T14:20:22.196Z"
   },
   {
    "duration": 159,
    "start_time": "2023-08-15T14:20:31.283Z"
   },
   {
    "duration": 147,
    "start_time": "2023-08-15T14:20:52.124Z"
   },
   {
    "duration": 63,
    "start_time": "2023-08-15T14:22:23.204Z"
   },
   {
    "duration": 6,
    "start_time": "2023-08-15T14:24:00.443Z"
   },
   {
    "duration": 4,
    "start_time": "2023-08-15T14:24:10.627Z"
   },
   {
    "duration": 8,
    "start_time": "2023-08-15T14:24:25.755Z"
   },
   {
    "duration": 8,
    "start_time": "2023-08-15T14:24:40.139Z"
   },
   {
    "duration": 482,
    "start_time": "2023-08-15T14:25:52.459Z"
   },
   {
    "duration": 495,
    "start_time": "2023-08-15T14:26:13.922Z"
   },
   {
    "duration": 74,
    "start_time": "2023-08-15T14:30:11.130Z"
   },
   {
    "duration": 6,
    "start_time": "2023-08-15T14:30:28.186Z"
   },
   {
    "duration": 7,
    "start_time": "2023-08-15T14:30:40.346Z"
   },
   {
    "duration": 6,
    "start_time": "2023-08-15T14:30:46.746Z"
   },
   {
    "duration": 7,
    "start_time": "2023-08-15T14:31:32.538Z"
   },
   {
    "duration": 1260,
    "start_time": "2023-08-15T14:32:08.302Z"
   },
   {
    "duration": 39,
    "start_time": "2023-08-15T14:32:09.564Z"
   },
   {
    "duration": 21,
    "start_time": "2023-08-15T14:32:09.604Z"
   },
   {
    "duration": 36,
    "start_time": "2023-08-15T14:32:09.627Z"
   },
   {
    "duration": 26,
    "start_time": "2023-08-15T14:32:09.665Z"
   },
   {
    "duration": 21,
    "start_time": "2023-08-15T14:32:09.693Z"
   },
   {
    "duration": 731,
    "start_time": "2023-08-15T14:32:09.715Z"
   },
   {
    "duration": 7,
    "start_time": "2023-08-15T14:32:10.448Z"
   },
   {
    "duration": 24,
    "start_time": "2023-08-15T14:32:10.457Z"
   },
   {
    "duration": 21,
    "start_time": "2023-08-15T14:32:10.484Z"
   },
   {
    "duration": 11,
    "start_time": "2023-08-15T14:32:10.507Z"
   },
   {
    "duration": 7,
    "start_time": "2023-08-15T14:32:10.520Z"
   },
   {
    "duration": 8,
    "start_time": "2023-08-15T14:32:10.529Z"
   },
   {
    "duration": 11,
    "start_time": "2023-08-15T14:32:10.538Z"
   },
   {
    "duration": 13,
    "start_time": "2023-08-15T14:32:10.551Z"
   },
   {
    "duration": 8,
    "start_time": "2023-08-15T14:32:10.565Z"
   },
   {
    "duration": 42,
    "start_time": "2023-08-15T14:32:10.575Z"
   },
   {
    "duration": 9,
    "start_time": "2023-08-15T14:32:10.619Z"
   },
   {
    "duration": 5,
    "start_time": "2023-08-15T14:32:10.630Z"
   },
   {
    "duration": 12,
    "start_time": "2023-08-15T14:32:10.636Z"
   },
   {
    "duration": 174,
    "start_time": "2023-08-15T14:32:10.650Z"
   },
   {
    "duration": 104,
    "start_time": "2023-08-15T14:32:10.826Z"
   },
   {
    "duration": 328,
    "start_time": "2023-08-15T14:32:10.932Z"
   },
   {
    "duration": 322,
    "start_time": "2023-08-15T14:32:11.262Z"
   },
   {
    "duration": 364,
    "start_time": "2023-08-15T14:32:11.586Z"
   },
   {
    "duration": 68,
    "start_time": "2023-08-15T14:32:11.952Z"
   },
   {
    "duration": 7,
    "start_time": "2023-08-15T14:32:12.023Z"
   },
   {
    "duration": 31,
    "start_time": "2023-08-15T14:32:12.035Z"
   },
   {
    "duration": 14,
    "start_time": "2023-08-15T14:32:12.068Z"
   },
   {
    "duration": 40,
    "start_time": "2023-08-15T14:32:12.085Z"
   },
   {
    "duration": 20,
    "start_time": "2023-08-15T14:32:12.128Z"
   },
   {
    "duration": 518,
    "start_time": "2023-08-15T14:32:12.151Z"
   },
   {
    "duration": 519,
    "start_time": "2023-08-15T14:32:12.672Z"
   },
   {
    "duration": 40,
    "start_time": "2023-08-15T14:32:13.193Z"
   },
   {
    "duration": 23,
    "start_time": "2023-08-15T14:32:13.235Z"
   },
   {
    "duration": 17,
    "start_time": "2023-08-15T14:32:13.260Z"
   },
   {
    "duration": 30,
    "start_time": "2023-08-15T14:32:13.280Z"
   },
   {
    "duration": 8,
    "start_time": "2023-08-15T14:32:13.312Z"
   },
   {
    "duration": 22,
    "start_time": "2023-08-15T14:32:13.322Z"
   },
   {
    "duration": 124,
    "start_time": "2023-08-15T15:01:57.799Z"
   },
   {
    "duration": 6,
    "start_time": "2023-08-15T15:02:10.883Z"
   },
   {
    "duration": 103,
    "start_time": "2023-08-15T15:03:07.935Z"
   },
   {
    "duration": 78,
    "start_time": "2023-08-15T15:03:13.523Z"
   },
   {
    "duration": 12,
    "start_time": "2023-08-15T15:03:25.955Z"
   },
   {
    "duration": 5,
    "start_time": "2023-08-15T15:03:40.507Z"
   },
   {
    "duration": 111,
    "start_time": "2023-08-15T15:03:49.716Z"
   },
   {
    "duration": 4,
    "start_time": "2023-08-15T15:04:16.804Z"
   },
   {
    "duration": 6,
    "start_time": "2023-08-15T15:04:59.227Z"
   },
   {
    "duration": 7,
    "start_time": "2023-08-15T15:05:08.932Z"
   },
   {
    "duration": 7,
    "start_time": "2023-08-15T15:06:05.315Z"
   },
   {
    "duration": 6,
    "start_time": "2023-08-15T15:06:49.035Z"
   },
   {
    "duration": 1198,
    "start_time": "2023-08-15T15:07:04.255Z"
   },
   {
    "duration": 40,
    "start_time": "2023-08-15T15:07:05.455Z"
   },
   {
    "duration": 26,
    "start_time": "2023-08-15T15:07:05.497Z"
   },
   {
    "duration": 72,
    "start_time": "2023-08-15T15:07:05.525Z"
   },
   {
    "duration": 86,
    "start_time": "2023-08-15T15:07:05.598Z"
   },
   {
    "duration": 49,
    "start_time": "2023-08-15T15:07:05.685Z"
   },
   {
    "duration": 781,
    "start_time": "2023-08-15T15:07:05.735Z"
   },
   {
    "duration": 6,
    "start_time": "2023-08-15T15:07:06.519Z"
   },
   {
    "duration": 24,
    "start_time": "2023-08-15T15:07:06.527Z"
   },
   {
    "duration": 15,
    "start_time": "2023-08-15T15:07:06.555Z"
   },
   {
    "duration": 9,
    "start_time": "2023-08-15T15:07:06.572Z"
   },
   {
    "duration": 5,
    "start_time": "2023-08-15T15:07:06.583Z"
   },
   {
    "duration": 42,
    "start_time": "2023-08-15T15:07:06.590Z"
   },
   {
    "duration": 54,
    "start_time": "2023-08-15T15:07:06.634Z"
   },
   {
    "duration": 37,
    "start_time": "2023-08-15T15:07:06.690Z"
   },
   {
    "duration": 33,
    "start_time": "2023-08-15T15:07:06.729Z"
   },
   {
    "duration": 68,
    "start_time": "2023-08-15T15:07:06.765Z"
   },
   {
    "duration": 32,
    "start_time": "2023-08-15T15:07:06.835Z"
   },
   {
    "duration": 36,
    "start_time": "2023-08-15T15:07:06.869Z"
   },
   {
    "duration": 26,
    "start_time": "2023-08-15T15:07:06.907Z"
   },
   {
    "duration": 179,
    "start_time": "2023-08-15T15:07:06.935Z"
   },
   {
    "duration": 105,
    "start_time": "2023-08-15T15:07:07.116Z"
   },
   {
    "duration": 307,
    "start_time": "2023-08-15T15:07:07.223Z"
   },
   {
    "duration": 232,
    "start_time": "2023-08-15T15:07:07.532Z"
   },
   {
    "duration": 342,
    "start_time": "2023-08-15T15:07:07.766Z"
   },
   {
    "duration": 50,
    "start_time": "2023-08-15T15:07:08.111Z"
   },
   {
    "duration": 102,
    "start_time": "2023-08-15T15:07:08.164Z"
   },
   {
    "duration": 68,
    "start_time": "2023-08-15T15:07:08.271Z"
   },
   {
    "duration": 90,
    "start_time": "2023-08-15T15:07:08.341Z"
   },
   {
    "duration": 231,
    "start_time": "2023-08-15T15:07:08.433Z"
   },
   {
    "duration": 54,
    "start_time": "2023-08-15T15:07:08.666Z"
   },
   {
    "duration": 542,
    "start_time": "2023-08-15T15:07:08.721Z"
   },
   {
    "duration": 498,
    "start_time": "2023-08-15T15:07:09.265Z"
   },
   {
    "duration": 29,
    "start_time": "2023-08-15T15:07:09.765Z"
   },
   {
    "duration": 19,
    "start_time": "2023-08-15T15:07:09.809Z"
   },
   {
    "duration": 45,
    "start_time": "2023-08-15T15:07:09.830Z"
   },
   {
    "duration": 37,
    "start_time": "2023-08-15T15:07:09.877Z"
   },
   {
    "duration": 32,
    "start_time": "2023-08-15T15:07:09.915Z"
   },
   {
    "duration": 13,
    "start_time": "2023-08-15T15:07:09.949Z"
   },
   {
    "duration": 19,
    "start_time": "2023-08-15T15:07:09.964Z"
   },
   {
    "duration": 6,
    "start_time": "2023-08-15T15:09:22.204Z"
   },
   {
    "duration": 7,
    "start_time": "2023-08-15T15:10:15.794Z"
   },
   {
    "duration": 31,
    "start_time": "2023-08-15T15:11:21.403Z"
   },
   {
    "duration": 32,
    "start_time": "2023-08-15T15:12:31.053Z"
   },
   {
    "duration": 1304,
    "start_time": "2023-08-15T15:13:55.011Z"
   },
   {
    "duration": 40,
    "start_time": "2023-08-15T15:13:56.317Z"
   },
   {
    "duration": 25,
    "start_time": "2023-08-15T15:13:56.359Z"
   },
   {
    "duration": 36,
    "start_time": "2023-08-15T15:13:56.386Z"
   },
   {
    "duration": 27,
    "start_time": "2023-08-15T15:13:56.424Z"
   },
   {
    "duration": 21,
    "start_time": "2023-08-15T15:13:56.453Z"
   },
   {
    "duration": 720,
    "start_time": "2023-08-15T15:13:56.476Z"
   },
   {
    "duration": 17,
    "start_time": "2023-08-15T15:13:57.197Z"
   },
   {
    "duration": 10,
    "start_time": "2023-08-15T15:13:57.216Z"
   },
   {
    "duration": 11,
    "start_time": "2023-08-15T15:13:57.230Z"
   },
   {
    "duration": 33,
    "start_time": "2023-08-15T15:13:57.243Z"
   },
   {
    "duration": 19,
    "start_time": "2023-08-15T15:13:57.278Z"
   },
   {
    "duration": 32,
    "start_time": "2023-08-15T15:13:57.299Z"
   },
   {
    "duration": 44,
    "start_time": "2023-08-15T15:13:57.332Z"
   },
   {
    "duration": 21,
    "start_time": "2023-08-15T15:13:57.378Z"
   },
   {
    "duration": 45,
    "start_time": "2023-08-15T15:13:57.401Z"
   },
   {
    "duration": 28,
    "start_time": "2023-08-15T15:13:57.447Z"
   },
   {
    "duration": 39,
    "start_time": "2023-08-15T15:13:57.476Z"
   },
   {
    "duration": 49,
    "start_time": "2023-08-15T15:13:57.517Z"
   },
   {
    "duration": 15,
    "start_time": "2023-08-15T15:13:57.568Z"
   },
   {
    "duration": 186,
    "start_time": "2023-08-15T15:13:57.585Z"
   },
   {
    "duration": 102,
    "start_time": "2023-08-15T15:13:57.773Z"
   },
   {
    "duration": 313,
    "start_time": "2023-08-15T15:13:57.878Z"
   },
   {
    "duration": 245,
    "start_time": "2023-08-15T15:13:58.193Z"
   },
   {
    "duration": 356,
    "start_time": "2023-08-15T15:13:58.440Z"
   },
   {
    "duration": 59,
    "start_time": "2023-08-15T15:13:58.798Z"
   },
   {
    "duration": 39,
    "start_time": "2023-08-15T15:13:58.858Z"
   },
   {
    "duration": 24,
    "start_time": "2023-08-15T15:13:58.900Z"
   },
   {
    "duration": 29,
    "start_time": "2023-08-15T15:13:58.926Z"
   },
   {
    "duration": 27,
    "start_time": "2023-08-15T15:13:58.957Z"
   },
   {
    "duration": 45,
    "start_time": "2023-08-15T15:13:58.986Z"
   },
   {
    "duration": 550,
    "start_time": "2023-08-15T15:13:59.033Z"
   },
   {
    "duration": 487,
    "start_time": "2023-08-15T15:13:59.586Z"
   },
   {
    "duration": 42,
    "start_time": "2023-08-15T15:14:00.075Z"
   },
   {
    "duration": 43,
    "start_time": "2023-08-15T15:14:00.119Z"
   },
   {
    "duration": 26,
    "start_time": "2023-08-15T15:14:00.164Z"
   },
   {
    "duration": 41,
    "start_time": "2023-08-15T15:14:00.192Z"
   },
   {
    "duration": 41,
    "start_time": "2023-08-15T15:14:00.235Z"
   },
   {
    "duration": 59,
    "start_time": "2023-08-15T15:14:00.278Z"
   },
   {
    "duration": 69,
    "start_time": "2023-08-15T15:14:00.338Z"
   },
   {
    "duration": 6,
    "start_time": "2023-08-15T15:14:21.312Z"
   },
   {
    "duration": 57,
    "start_time": "2023-08-15T15:14:50.296Z"
   },
   {
    "duration": 7,
    "start_time": "2023-08-15T15:14:52.056Z"
   },
   {
    "duration": 58,
    "start_time": "2023-08-15T15:14:57.096Z"
   },
   {
    "duration": 491,
    "start_time": "2023-08-15T15:15:19.120Z"
   },
   {
    "duration": 569,
    "start_time": "2023-08-15T15:15:23.757Z"
   },
   {
    "duration": 470,
    "start_time": "2023-08-15T15:15:28.311Z"
   },
   {
    "duration": 493,
    "start_time": "2023-08-15T15:15:33.207Z"
   },
   {
    "duration": 457,
    "start_time": "2023-08-15T15:15:44.680Z"
   },
   {
    "duration": 592,
    "start_time": "2023-08-15T15:15:55.119Z"
   },
   {
    "duration": 7,
    "start_time": "2023-08-15T15:17:51.263Z"
   },
   {
    "duration": 12,
    "start_time": "2023-08-15T15:19:47.140Z"
   },
   {
    "duration": 12,
    "start_time": "2023-08-15T15:20:15.182Z"
   },
   {
    "duration": 2020,
    "start_time": "2023-08-15T15:20:59.767Z"
   },
   {
    "duration": 1544,
    "start_time": "2023-08-15T15:21:02.039Z"
   },
   {
    "duration": 8,
    "start_time": "2023-08-15T15:21:56.055Z"
   },
   {
    "duration": 12,
    "start_time": "2023-08-15T15:22:13.054Z"
   },
   {
    "duration": 12,
    "start_time": "2023-08-15T15:22:32.613Z"
   },
   {
    "duration": 1264,
    "start_time": "2023-08-15T15:34:53.092Z"
   },
   {
    "duration": 41,
    "start_time": "2023-08-15T15:34:54.358Z"
   },
   {
    "duration": 24,
    "start_time": "2023-08-15T15:34:54.401Z"
   },
   {
    "duration": 39,
    "start_time": "2023-08-15T15:34:54.427Z"
   },
   {
    "duration": 26,
    "start_time": "2023-08-15T15:34:54.468Z"
   },
   {
    "duration": 33,
    "start_time": "2023-08-15T15:34:54.496Z"
   },
   {
    "duration": 767,
    "start_time": "2023-08-15T15:34:54.530Z"
   },
   {
    "duration": 11,
    "start_time": "2023-08-15T15:34:55.299Z"
   },
   {
    "duration": 56,
    "start_time": "2023-08-15T15:34:55.312Z"
   },
   {
    "duration": 20,
    "start_time": "2023-08-15T15:34:55.371Z"
   },
   {
    "duration": 34,
    "start_time": "2023-08-15T15:34:55.392Z"
   },
   {
    "duration": 26,
    "start_time": "2023-08-15T15:34:55.427Z"
   },
   {
    "duration": 21,
    "start_time": "2023-08-15T15:34:55.455Z"
   },
   {
    "duration": 41,
    "start_time": "2023-08-15T15:34:55.478Z"
   },
   {
    "duration": 62,
    "start_time": "2023-08-15T15:34:55.521Z"
   },
   {
    "duration": 31,
    "start_time": "2023-08-15T15:34:55.585Z"
   },
   {
    "duration": 49,
    "start_time": "2023-08-15T15:34:55.618Z"
   },
   {
    "duration": 21,
    "start_time": "2023-08-15T15:34:55.669Z"
   },
   {
    "duration": 23,
    "start_time": "2023-08-15T15:34:55.693Z"
   },
   {
    "duration": 23,
    "start_time": "2023-08-15T15:34:55.719Z"
   },
   {
    "duration": 233,
    "start_time": "2023-08-15T15:34:55.745Z"
   },
   {
    "duration": 117,
    "start_time": "2023-08-15T15:34:55.980Z"
   },
   {
    "duration": 323,
    "start_time": "2023-08-15T15:34:56.099Z"
   },
   {
    "duration": 247,
    "start_time": "2023-08-15T15:34:56.424Z"
   },
   {
    "duration": 350,
    "start_time": "2023-08-15T15:34:56.672Z"
   },
   {
    "duration": 51,
    "start_time": "2023-08-15T15:34:57.024Z"
   },
   {
    "duration": 7,
    "start_time": "2023-08-15T15:34:57.077Z"
   },
   {
    "duration": 14,
    "start_time": "2023-08-15T15:34:57.111Z"
   },
   {
    "duration": 11,
    "start_time": "2023-08-15T15:34:57.127Z"
   },
   {
    "duration": 13,
    "start_time": "2023-08-15T15:34:57.140Z"
   },
   {
    "duration": 15,
    "start_time": "2023-08-15T15:34:57.156Z"
   },
   {
    "duration": 466,
    "start_time": "2023-08-15T15:34:57.173Z"
   },
   {
    "duration": 488,
    "start_time": "2023-08-15T15:34:57.642Z"
   },
   {
    "duration": 30,
    "start_time": "2023-08-15T15:34:58.132Z"
   },
   {
    "duration": 18,
    "start_time": "2023-08-15T15:34:58.163Z"
   },
   {
    "duration": 33,
    "start_time": "2023-08-15T15:34:58.183Z"
   },
   {
    "duration": 6,
    "start_time": "2023-08-15T15:34:58.218Z"
   },
   {
    "duration": 6,
    "start_time": "2023-08-15T15:34:58.225Z"
   },
   {
    "duration": 13,
    "start_time": "2023-08-15T15:34:58.233Z"
   },
   {
    "duration": 15,
    "start_time": "2023-08-15T15:34:58.248Z"
   },
   {
    "duration": 11,
    "start_time": "2023-08-15T15:34:58.265Z"
   },
   {
    "duration": 8,
    "start_time": "2023-08-15T15:40:22.320Z"
   },
   {
    "duration": 5,
    "start_time": "2023-08-15T15:40:24.496Z"
   },
   {
    "duration": 463,
    "start_time": "2023-08-15T15:40:57.866Z"
   },
   {
    "duration": 472,
    "start_time": "2023-08-15T15:41:02.262Z"
   },
   {
    "duration": 235,
    "start_time": "2023-08-15T15:41:23.232Z"
   },
   {
    "duration": 261,
    "start_time": "2023-08-15T15:41:29.199Z"
   },
   {
    "duration": 1330,
    "start_time": "2023-08-15T15:41:49.308Z"
   },
   {
    "duration": 40,
    "start_time": "2023-08-15T15:41:50.640Z"
   },
   {
    "duration": 25,
    "start_time": "2023-08-15T15:41:50.682Z"
   },
   {
    "duration": 36,
    "start_time": "2023-08-15T15:41:50.709Z"
   },
   {
    "duration": 25,
    "start_time": "2023-08-15T15:41:50.747Z"
   },
   {
    "duration": 21,
    "start_time": "2023-08-15T15:41:50.774Z"
   },
   {
    "duration": 718,
    "start_time": "2023-08-15T15:41:50.797Z"
   },
   {
    "duration": 7,
    "start_time": "2023-08-15T15:41:51.517Z"
   },
   {
    "duration": 10,
    "start_time": "2023-08-15T15:41:51.526Z"
   },
   {
    "duration": 10,
    "start_time": "2023-08-15T15:41:51.539Z"
   },
   {
    "duration": 8,
    "start_time": "2023-08-15T15:41:51.551Z"
   },
   {
    "duration": 5,
    "start_time": "2023-08-15T15:41:51.561Z"
   },
   {
    "duration": 46,
    "start_time": "2023-08-15T15:41:51.568Z"
   },
   {
    "duration": 14,
    "start_time": "2023-08-15T15:41:51.616Z"
   },
   {
    "duration": 13,
    "start_time": "2023-08-15T15:41:51.632Z"
   },
   {
    "duration": 12,
    "start_time": "2023-08-15T15:41:51.647Z"
   },
   {
    "duration": 12,
    "start_time": "2023-08-15T15:41:51.661Z"
   },
   {
    "duration": 35,
    "start_time": "2023-08-15T15:41:51.674Z"
   },
   {
    "duration": 5,
    "start_time": "2023-08-15T15:41:51.711Z"
   },
   {
    "duration": 7,
    "start_time": "2023-08-15T15:41:51.718Z"
   },
   {
    "duration": 176,
    "start_time": "2023-08-15T15:41:51.727Z"
   },
   {
    "duration": 124,
    "start_time": "2023-08-15T15:41:51.908Z"
   },
   {
    "duration": 319,
    "start_time": "2023-08-15T15:41:52.034Z"
   },
   {
    "duration": 270,
    "start_time": "2023-08-15T15:41:52.354Z"
   },
   {
    "duration": 402,
    "start_time": "2023-08-15T15:41:52.626Z"
   },
   {
    "duration": 57,
    "start_time": "2023-08-15T15:41:53.030Z"
   },
   {
    "duration": 7,
    "start_time": "2023-08-15T15:41:53.089Z"
   },
   {
    "duration": 51,
    "start_time": "2023-08-15T15:41:53.109Z"
   },
   {
    "duration": 41,
    "start_time": "2023-08-15T15:41:53.162Z"
   },
   {
    "duration": 48,
    "start_time": "2023-08-15T15:41:53.205Z"
   },
   {
    "duration": 58,
    "start_time": "2023-08-15T15:41:53.255Z"
   },
   {
    "duration": 583,
    "start_time": "2023-08-15T15:41:53.314Z"
   },
   {
    "duration": 509,
    "start_time": "2023-08-15T15:41:53.910Z"
   },
   {
    "duration": 31,
    "start_time": "2023-08-15T15:41:54.420Z"
   },
   {
    "duration": 17,
    "start_time": "2023-08-15T15:41:54.453Z"
   },
   {
    "duration": 40,
    "start_time": "2023-08-15T15:41:54.472Z"
   },
   {
    "duration": 5,
    "start_time": "2023-08-15T15:41:54.514Z"
   },
   {
    "duration": 15,
    "start_time": "2023-08-15T15:41:54.521Z"
   },
   {
    "duration": 21,
    "start_time": "2023-08-15T15:41:54.537Z"
   },
   {
    "duration": 27,
    "start_time": "2023-08-15T15:41:54.560Z"
   },
   {
    "duration": 16,
    "start_time": "2023-08-15T15:41:54.589Z"
   },
   {
    "duration": 1292,
    "start_time": "2023-08-15T15:50:42.880Z"
   },
   {
    "duration": 40,
    "start_time": "2023-08-15T15:50:44.174Z"
   },
   {
    "duration": 23,
    "start_time": "2023-08-15T15:50:44.216Z"
   },
   {
    "duration": 44,
    "start_time": "2023-08-15T15:50:44.242Z"
   },
   {
    "duration": 29,
    "start_time": "2023-08-15T15:50:44.287Z"
   },
   {
    "duration": 123,
    "start_time": "2023-08-15T15:50:44.318Z"
   },
   {
    "duration": 794,
    "start_time": "2023-08-15T15:50:44.443Z"
   },
   {
    "duration": 6,
    "start_time": "2023-08-15T15:50:45.239Z"
   },
   {
    "duration": 97,
    "start_time": "2023-08-15T15:50:45.248Z"
   },
   {
    "duration": 147,
    "start_time": "2023-08-15T15:50:45.348Z"
   },
   {
    "duration": 122,
    "start_time": "2023-08-15T15:50:45.497Z"
   },
   {
    "duration": 111,
    "start_time": "2023-08-15T15:50:45.621Z"
   },
   {
    "duration": 185,
    "start_time": "2023-08-15T15:50:45.734Z"
   },
   {
    "duration": 128,
    "start_time": "2023-08-15T15:50:45.921Z"
   },
   {
    "duration": 171,
    "start_time": "2023-08-15T15:50:46.052Z"
   },
   {
    "duration": 80,
    "start_time": "2023-08-15T15:50:46.225Z"
   },
   {
    "duration": 148,
    "start_time": "2023-08-15T15:50:46.306Z"
   },
   {
    "duration": 209,
    "start_time": "2023-08-15T15:50:46.456Z"
   },
   {
    "duration": 20,
    "start_time": "2023-08-15T15:50:46.667Z"
   },
   {
    "duration": 13,
    "start_time": "2023-08-15T15:50:46.689Z"
   },
   {
    "duration": 182,
    "start_time": "2023-08-15T15:50:46.704Z"
   },
   {
    "duration": 104,
    "start_time": "2023-08-15T15:50:46.888Z"
   },
   {
    "duration": 325,
    "start_time": "2023-08-15T15:50:46.994Z"
   },
   {
    "duration": 245,
    "start_time": "2023-08-15T15:50:47.321Z"
   },
   {
    "duration": 366,
    "start_time": "2023-08-15T15:50:47.568Z"
   },
   {
    "duration": 62,
    "start_time": "2023-08-15T15:50:47.936Z"
   },
   {
    "duration": 53,
    "start_time": "2023-08-15T15:50:48.000Z"
   },
   {
    "duration": 32,
    "start_time": "2023-08-15T15:50:48.057Z"
   },
   {
    "duration": 18,
    "start_time": "2023-08-15T15:50:48.091Z"
   },
   {
    "duration": 34,
    "start_time": "2023-08-15T15:50:48.111Z"
   },
   {
    "duration": 23,
    "start_time": "2023-08-15T15:50:48.147Z"
   },
   {
    "duration": 450,
    "start_time": "2023-08-15T15:50:48.172Z"
   },
   {
    "duration": 468,
    "start_time": "2023-08-15T15:50:48.624Z"
   },
   {
    "duration": 44,
    "start_time": "2023-08-15T15:50:49.094Z"
   },
   {
    "duration": 17,
    "start_time": "2023-08-15T15:50:49.139Z"
   },
   {
    "duration": 15,
    "start_time": "2023-08-15T15:50:49.158Z"
   },
   {
    "duration": 13,
    "start_time": "2023-08-15T15:50:49.175Z"
   },
   {
    "duration": 5,
    "start_time": "2023-08-15T15:50:49.209Z"
   },
   {
    "duration": 20,
    "start_time": "2023-08-15T15:50:49.216Z"
   },
   {
    "duration": 22,
    "start_time": "2023-08-15T15:50:49.238Z"
   },
   {
    "duration": 11,
    "start_time": "2023-08-15T15:50:49.262Z"
   },
   {
    "duration": 179,
    "start_time": "2023-08-15T15:59:22.701Z"
   },
   {
    "duration": 5,
    "start_time": "2023-08-15T16:02:24.325Z"
   },
   {
    "duration": 5,
    "start_time": "2023-08-15T16:02:29.860Z"
   },
   {
    "duration": 10,
    "start_time": "2023-08-15T16:03:56.661Z"
   },
   {
    "duration": 91,
    "start_time": "2023-08-15T16:04:58.420Z"
   },
   {
    "duration": 12,
    "start_time": "2023-08-15T16:05:08.247Z"
   },
   {
    "duration": 1119,
    "start_time": "2023-08-16T07:54:44.304Z"
   },
   {
    "duration": 36,
    "start_time": "2023-08-16T07:54:45.425Z"
   },
   {
    "duration": 17,
    "start_time": "2023-08-16T07:54:45.463Z"
   },
   {
    "duration": 40,
    "start_time": "2023-08-16T07:54:45.481Z"
   },
   {
    "duration": 21,
    "start_time": "2023-08-16T07:54:45.523Z"
   },
   {
    "duration": 43,
    "start_time": "2023-08-16T07:54:45.546Z"
   },
   {
    "duration": 599,
    "start_time": "2023-08-16T07:54:45.591Z"
   },
   {
    "duration": 5,
    "start_time": "2023-08-16T07:54:46.192Z"
   },
   {
    "duration": 15,
    "start_time": "2023-08-16T07:54:46.199Z"
   },
   {
    "duration": 21,
    "start_time": "2023-08-16T07:54:46.216Z"
   },
   {
    "duration": 23,
    "start_time": "2023-08-16T07:54:46.239Z"
   },
   {
    "duration": 9,
    "start_time": "2023-08-16T07:54:46.263Z"
   },
   {
    "duration": 19,
    "start_time": "2023-08-16T07:54:46.273Z"
   },
   {
    "duration": 15,
    "start_time": "2023-08-16T07:54:46.293Z"
   },
   {
    "duration": 18,
    "start_time": "2023-08-16T07:54:46.309Z"
   },
   {
    "duration": 13,
    "start_time": "2023-08-16T07:54:46.328Z"
   },
   {
    "duration": 35,
    "start_time": "2023-08-16T07:54:46.342Z"
   },
   {
    "duration": 23,
    "start_time": "2023-08-16T07:54:46.378Z"
   },
   {
    "duration": 7,
    "start_time": "2023-08-16T07:54:46.402Z"
   },
   {
    "duration": 33,
    "start_time": "2023-08-16T07:54:46.410Z"
   },
   {
    "duration": 141,
    "start_time": "2023-08-16T07:54:46.444Z"
   },
   {
    "duration": 85,
    "start_time": "2023-08-16T07:54:46.587Z"
   },
   {
    "duration": 258,
    "start_time": "2023-08-16T07:54:46.673Z"
   },
   {
    "duration": 193,
    "start_time": "2023-08-16T07:54:46.937Z"
   },
   {
    "duration": 247,
    "start_time": "2023-08-16T07:54:47.138Z"
   },
   {
    "duration": 40,
    "start_time": "2023-08-16T07:54:47.387Z"
   },
   {
    "duration": 13,
    "start_time": "2023-08-16T07:54:47.428Z"
   },
   {
    "duration": 27,
    "start_time": "2023-08-16T07:54:47.443Z"
   },
   {
    "duration": 25,
    "start_time": "2023-08-16T07:54:47.472Z"
   },
   {
    "duration": 14,
    "start_time": "2023-08-16T07:54:47.498Z"
   },
   {
    "duration": 20,
    "start_time": "2023-08-16T07:54:47.514Z"
   },
   {
    "duration": 353,
    "start_time": "2023-08-16T07:54:47.535Z"
   },
   {
    "duration": 385,
    "start_time": "2023-08-16T07:54:47.890Z"
   },
   {
    "duration": 23,
    "start_time": "2023-08-16T07:54:48.276Z"
   },
   {
    "duration": 18,
    "start_time": "2023-08-16T07:54:48.301Z"
   },
   {
    "duration": 20,
    "start_time": "2023-08-16T07:54:48.320Z"
   },
   {
    "duration": 12,
    "start_time": "2023-08-16T07:54:48.341Z"
   },
   {
    "duration": 11,
    "start_time": "2023-08-16T07:54:48.355Z"
   },
   {
    "duration": 22,
    "start_time": "2023-08-16T07:54:48.367Z"
   },
   {
    "duration": 50,
    "start_time": "2023-08-16T07:54:48.390Z"
   },
   {
    "duration": 18,
    "start_time": "2023-08-16T07:54:48.442Z"
   },
   {
    "duration": 18,
    "start_time": "2023-08-16T07:58:50.317Z"
   },
   {
    "duration": 18,
    "start_time": "2023-08-16T08:00:20.110Z"
   },
   {
    "duration": 1133,
    "start_time": "2023-08-16T08:03:11.474Z"
   },
   {
    "duration": 37,
    "start_time": "2023-08-16T08:03:12.608Z"
   },
   {
    "duration": 17,
    "start_time": "2023-08-16T08:03:12.647Z"
   },
   {
    "duration": 31,
    "start_time": "2023-08-16T08:03:12.666Z"
   },
   {
    "duration": 21,
    "start_time": "2023-08-16T08:03:12.699Z"
   },
   {
    "duration": 18,
    "start_time": "2023-08-16T08:03:12.722Z"
   },
   {
    "duration": 599,
    "start_time": "2023-08-16T08:03:12.741Z"
   },
   {
    "duration": 5,
    "start_time": "2023-08-16T08:03:13.342Z"
   },
   {
    "duration": 14,
    "start_time": "2023-08-16T08:03:13.349Z"
   },
   {
    "duration": 24,
    "start_time": "2023-08-16T08:03:13.366Z"
   },
   {
    "duration": 14,
    "start_time": "2023-08-16T08:03:13.391Z"
   },
   {
    "duration": 12,
    "start_time": "2023-08-16T08:03:13.406Z"
   },
   {
    "duration": 12,
    "start_time": "2023-08-16T08:03:13.419Z"
   },
   {
    "duration": 15,
    "start_time": "2023-08-16T08:03:13.433Z"
   },
   {
    "duration": 8,
    "start_time": "2023-08-16T08:03:13.450Z"
   },
   {
    "duration": 16,
    "start_time": "2023-08-16T08:03:13.459Z"
   },
   {
    "duration": 23,
    "start_time": "2023-08-16T08:03:13.477Z"
   },
   {
    "duration": 16,
    "start_time": "2023-08-16T08:03:13.501Z"
   },
   {
    "duration": 16,
    "start_time": "2023-08-16T08:03:13.518Z"
   },
   {
    "duration": 13,
    "start_time": "2023-08-16T08:03:13.535Z"
   },
   {
    "duration": 150,
    "start_time": "2023-08-16T08:03:13.549Z"
   },
   {
    "duration": 86,
    "start_time": "2023-08-16T08:03:13.701Z"
   },
   {
    "duration": 250,
    "start_time": "2023-08-16T08:03:13.788Z"
   },
   {
    "duration": 201,
    "start_time": "2023-08-16T08:03:14.039Z"
   },
   {
    "duration": 266,
    "start_time": "2023-08-16T08:03:14.242Z"
   },
   {
    "duration": 60,
    "start_time": "2023-08-16T08:03:14.511Z"
   },
   {
    "duration": 5,
    "start_time": "2023-08-16T08:03:14.573Z"
   },
   {
    "duration": 23,
    "start_time": "2023-08-16T08:03:14.581Z"
   },
   {
    "duration": 17,
    "start_time": "2023-08-16T08:03:14.607Z"
   },
   {
    "duration": 31,
    "start_time": "2023-08-16T08:03:14.626Z"
   },
   {
    "duration": 40,
    "start_time": "2023-08-16T08:03:14.658Z"
   },
   {
    "duration": 371,
    "start_time": "2023-08-16T08:03:14.699Z"
   },
   {
    "duration": 402,
    "start_time": "2023-08-16T08:03:15.072Z"
   },
   {
    "duration": 24,
    "start_time": "2023-08-16T08:03:15.475Z"
   },
   {
    "duration": 28,
    "start_time": "2023-08-16T08:03:15.500Z"
   },
   {
    "duration": 13,
    "start_time": "2023-08-16T08:03:15.530Z"
   },
   {
    "duration": 12,
    "start_time": "2023-08-16T08:03:15.545Z"
   },
   {
    "duration": 9,
    "start_time": "2023-08-16T08:03:15.559Z"
   },
   {
    "duration": 6,
    "start_time": "2023-08-16T08:03:15.570Z"
   },
   {
    "duration": 30,
    "start_time": "2023-08-16T08:03:15.577Z"
   },
   {
    "duration": 12,
    "start_time": "2023-08-16T08:03:15.609Z"
   },
   {
    "duration": 140,
    "start_time": "2023-08-16T08:28:56.820Z"
   },
   {
    "duration": 129,
    "start_time": "2023-08-16T08:29:38.658Z"
   },
   {
    "duration": 54,
    "start_time": "2023-08-16T08:32:47.324Z"
   },
   {
    "duration": 1403,
    "start_time": "2023-08-16T08:32:53.810Z"
   },
   {
    "duration": 99,
    "start_time": "2023-08-16T08:32:55.215Z"
   },
   {
    "duration": 23,
    "start_time": "2023-08-16T08:32:55.316Z"
   },
   {
    "duration": 183,
    "start_time": "2023-08-16T08:32:55.341Z"
   },
   {
    "duration": 25,
    "start_time": "2023-08-16T08:32:55.526Z"
   },
   {
    "duration": 64,
    "start_time": "2023-08-16T08:32:55.553Z"
   },
   {
    "duration": 709,
    "start_time": "2023-08-16T08:32:55.618Z"
   },
   {
    "duration": 7,
    "start_time": "2023-08-16T08:32:56.329Z"
   },
   {
    "duration": 24,
    "start_time": "2023-08-16T08:32:56.338Z"
   },
   {
    "duration": 35,
    "start_time": "2023-08-16T08:32:56.366Z"
   },
   {
    "duration": 17,
    "start_time": "2023-08-16T08:32:56.403Z"
   },
   {
    "duration": 14,
    "start_time": "2023-08-16T08:32:56.422Z"
   },
   {
    "duration": 22,
    "start_time": "2023-08-16T08:32:56.438Z"
   },
   {
    "duration": 28,
    "start_time": "2023-08-16T08:32:56.462Z"
   },
   {
    "duration": 29,
    "start_time": "2023-08-16T08:32:56.491Z"
   },
   {
    "duration": 11,
    "start_time": "2023-08-16T08:32:56.522Z"
   },
   {
    "duration": 26,
    "start_time": "2023-08-16T08:32:56.535Z"
   },
   {
    "duration": 16,
    "start_time": "2023-08-16T08:32:56.564Z"
   },
   {
    "duration": 5,
    "start_time": "2023-08-16T08:32:56.582Z"
   },
   {
    "duration": 12,
    "start_time": "2023-08-16T08:32:56.589Z"
   },
   {
    "duration": 190,
    "start_time": "2023-08-16T08:32:56.603Z"
   },
   {
    "duration": 106,
    "start_time": "2023-08-16T08:32:56.795Z"
   },
   {
    "duration": 306,
    "start_time": "2023-08-16T08:32:56.903Z"
   },
   {
    "duration": 280,
    "start_time": "2023-08-16T08:32:57.211Z"
   },
   {
    "duration": 356,
    "start_time": "2023-08-16T08:32:57.493Z"
   },
   {
    "duration": 31,
    "start_time": "2023-08-16T08:32:57.850Z"
   },
   {
    "duration": 45,
    "start_time": "2023-08-16T08:32:57.883Z"
   },
   {
    "duration": 5,
    "start_time": "2023-08-16T08:32:57.932Z"
   },
   {
    "duration": 35,
    "start_time": "2023-08-16T08:32:57.938Z"
   },
   {
    "duration": 8,
    "start_time": "2023-08-16T08:32:57.974Z"
   },
   {
    "duration": 22,
    "start_time": "2023-08-16T08:32:57.984Z"
   },
   {
    "duration": 19,
    "start_time": "2023-08-16T08:32:58.008Z"
   },
   {
    "duration": 487,
    "start_time": "2023-08-16T08:32:58.029Z"
   },
   {
    "duration": 520,
    "start_time": "2023-08-16T08:32:58.518Z"
   },
   {
    "duration": 49,
    "start_time": "2023-08-16T08:32:59.040Z"
   },
   {
    "duration": 20,
    "start_time": "2023-08-16T08:32:59.092Z"
   },
   {
    "duration": 37,
    "start_time": "2023-08-16T08:32:59.114Z"
   },
   {
    "duration": 19,
    "start_time": "2023-08-16T08:32:59.153Z"
   },
   {
    "duration": 17,
    "start_time": "2023-08-16T08:32:59.174Z"
   },
   {
    "duration": 15,
    "start_time": "2023-08-16T08:32:59.193Z"
   },
   {
    "duration": 28,
    "start_time": "2023-08-16T08:32:59.211Z"
   },
   {
    "duration": 10,
    "start_time": "2023-08-16T08:32:59.241Z"
   },
   {
    "duration": 17,
    "start_time": "2023-08-16T08:34:26.426Z"
   },
   {
    "duration": 23,
    "start_time": "2023-08-16T08:34:42.517Z"
   },
   {
    "duration": 5,
    "start_time": "2023-08-16T08:41:14.066Z"
   },
   {
    "duration": 24,
    "start_time": "2023-08-16T08:41:27.488Z"
   },
   {
    "duration": 113,
    "start_time": "2023-08-16T08:41:55.289Z"
   },
   {
    "duration": 23,
    "start_time": "2023-08-16T08:42:01.048Z"
   },
   {
    "duration": 1330,
    "start_time": "2023-08-16T08:42:07.728Z"
   },
   {
    "duration": 43,
    "start_time": "2023-08-16T08:42:09.061Z"
   },
   {
    "duration": 69,
    "start_time": "2023-08-16T08:42:09.107Z"
   },
   {
    "duration": 36,
    "start_time": "2023-08-16T08:42:09.179Z"
   },
   {
    "duration": 27,
    "start_time": "2023-08-16T08:42:09.218Z"
   },
   {
    "duration": 21,
    "start_time": "2023-08-16T08:42:09.256Z"
   },
   {
    "duration": 670,
    "start_time": "2023-08-16T08:42:09.279Z"
   },
   {
    "duration": 10,
    "start_time": "2023-08-16T08:42:09.950Z"
   },
   {
    "duration": 7,
    "start_time": "2023-08-16T08:42:09.962Z"
   },
   {
    "duration": 10,
    "start_time": "2023-08-16T08:42:09.971Z"
   },
   {
    "duration": 7,
    "start_time": "2023-08-16T08:42:09.983Z"
   },
   {
    "duration": 5,
    "start_time": "2023-08-16T08:42:09.992Z"
   },
   {
    "duration": 6,
    "start_time": "2023-08-16T08:42:09.998Z"
   },
   {
    "duration": 19,
    "start_time": "2023-08-16T08:42:10.005Z"
   },
   {
    "duration": 39,
    "start_time": "2023-08-16T08:42:10.025Z"
   },
   {
    "duration": 7,
    "start_time": "2023-08-16T08:42:10.066Z"
   },
   {
    "duration": 26,
    "start_time": "2023-08-16T08:42:10.074Z"
   },
   {
    "duration": 10,
    "start_time": "2023-08-16T08:42:10.102Z"
   },
   {
    "duration": 9,
    "start_time": "2023-08-16T08:42:10.113Z"
   },
   {
    "duration": 34,
    "start_time": "2023-08-16T08:42:10.124Z"
   },
   {
    "duration": 6,
    "start_time": "2023-08-16T08:42:10.160Z"
   },
   {
    "duration": 163,
    "start_time": "2023-08-16T08:42:10.168Z"
   },
   {
    "duration": 98,
    "start_time": "2023-08-16T08:42:10.332Z"
   },
   {
    "duration": 300,
    "start_time": "2023-08-16T08:42:10.432Z"
   },
   {
    "duration": 233,
    "start_time": "2023-08-16T08:42:10.733Z"
   },
   {
    "duration": 330,
    "start_time": "2023-08-16T08:42:10.968Z"
   },
   {
    "duration": 24,
    "start_time": "2023-08-16T08:42:11.300Z"
   },
   {
    "duration": 68,
    "start_time": "2023-08-16T08:42:11.327Z"
   },
   {
    "duration": 6,
    "start_time": "2023-08-16T08:42:11.397Z"
   },
   {
    "duration": 13,
    "start_time": "2023-08-16T08:42:11.405Z"
   },
   {
    "duration": 8,
    "start_time": "2023-08-16T08:42:11.420Z"
   },
   {
    "duration": 34,
    "start_time": "2023-08-16T08:42:11.429Z"
   },
   {
    "duration": 27,
    "start_time": "2023-08-16T08:42:11.464Z"
   },
   {
    "duration": 398,
    "start_time": "2023-08-16T08:42:11.492Z"
   },
   {
    "duration": 446,
    "start_time": "2023-08-16T08:42:11.891Z"
   },
   {
    "duration": 36,
    "start_time": "2023-08-16T08:42:12.339Z"
   },
   {
    "duration": 16,
    "start_time": "2023-08-16T08:42:12.377Z"
   },
   {
    "duration": 8,
    "start_time": "2023-08-16T08:42:12.395Z"
   },
   {
    "duration": 16,
    "start_time": "2023-08-16T08:42:12.405Z"
   },
   {
    "duration": 9,
    "start_time": "2023-08-16T08:42:12.422Z"
   },
   {
    "duration": 27,
    "start_time": "2023-08-16T08:42:12.433Z"
   },
   {
    "duration": 19,
    "start_time": "2023-08-16T08:42:12.461Z"
   },
   {
    "duration": 34,
    "start_time": "2023-08-16T08:42:12.481Z"
   },
   {
    "duration": 3,
    "start_time": "2023-08-16T08:43:59.539Z"
   },
   {
    "duration": 9,
    "start_time": "2023-08-16T08:47:07.363Z"
   },
   {
    "duration": 14,
    "start_time": "2023-08-16T08:47:18.962Z"
   },
   {
    "duration": 13,
    "start_time": "2023-08-16T08:48:24.090Z"
   },
   {
    "duration": 13,
    "start_time": "2023-08-16T08:49:29.386Z"
   },
   {
    "duration": 9,
    "start_time": "2023-08-16T08:50:15.489Z"
   },
   {
    "duration": 1256,
    "start_time": "2023-08-16T08:50:23.427Z"
   },
   {
    "duration": 40,
    "start_time": "2023-08-16T08:50:24.685Z"
   },
   {
    "duration": 22,
    "start_time": "2023-08-16T08:50:24.727Z"
   },
   {
    "duration": 33,
    "start_time": "2023-08-16T08:50:24.752Z"
   },
   {
    "duration": 24,
    "start_time": "2023-08-16T08:50:24.786Z"
   },
   {
    "duration": 21,
    "start_time": "2023-08-16T08:50:24.811Z"
   },
   {
    "duration": 677,
    "start_time": "2023-08-16T08:50:24.833Z"
   },
   {
    "duration": 8,
    "start_time": "2023-08-16T08:50:25.512Z"
   },
   {
    "duration": 19,
    "start_time": "2023-08-16T08:50:25.521Z"
   },
   {
    "duration": 21,
    "start_time": "2023-08-16T08:50:25.544Z"
   },
   {
    "duration": 9,
    "start_time": "2023-08-16T08:50:25.567Z"
   },
   {
    "duration": 5,
    "start_time": "2023-08-16T08:50:25.578Z"
   },
   {
    "duration": 8,
    "start_time": "2023-08-16T08:50:25.584Z"
   },
   {
    "duration": 9,
    "start_time": "2023-08-16T08:50:25.594Z"
   },
   {
    "duration": 8,
    "start_time": "2023-08-16T08:50:25.604Z"
   },
   {
    "duration": 43,
    "start_time": "2023-08-16T08:50:25.614Z"
   },
   {
    "duration": 22,
    "start_time": "2023-08-16T08:50:25.659Z"
   },
   {
    "duration": 9,
    "start_time": "2023-08-16T08:50:25.682Z"
   },
   {
    "duration": 19,
    "start_time": "2023-08-16T08:50:25.693Z"
   },
   {
    "duration": 4,
    "start_time": "2023-08-16T08:50:25.714Z"
   },
   {
    "duration": 6,
    "start_time": "2023-08-16T08:50:25.719Z"
   },
   {
    "duration": 177,
    "start_time": "2023-08-16T08:50:25.726Z"
   },
   {
    "duration": 98,
    "start_time": "2023-08-16T08:50:25.905Z"
   },
   {
    "duration": 300,
    "start_time": "2023-08-16T08:50:26.005Z"
   },
   {
    "duration": 230,
    "start_time": "2023-08-16T08:50:26.307Z"
   },
   {
    "duration": 317,
    "start_time": "2023-08-16T08:50:26.539Z"
   },
   {
    "duration": 2,
    "start_time": "2023-08-16T08:50:26.858Z"
   },
   {
    "duration": 54,
    "start_time": "2023-08-16T08:50:26.863Z"
   },
   {
    "duration": 6,
    "start_time": "2023-08-16T08:50:26.919Z"
   },
   {
    "duration": 32,
    "start_time": "2023-08-16T08:50:26.926Z"
   },
   {
    "duration": 17,
    "start_time": "2023-08-16T08:50:26.959Z"
   },
   {
    "duration": 20,
    "start_time": "2023-08-16T08:50:26.978Z"
   },
   {
    "duration": 16,
    "start_time": "2023-08-16T08:50:27.000Z"
   },
   {
    "duration": 459,
    "start_time": "2023-08-16T08:50:27.018Z"
   },
   {
    "duration": 398,
    "start_time": "2023-08-16T08:50:27.479Z"
   },
   {
    "duration": 27,
    "start_time": "2023-08-16T08:50:27.879Z"
   },
   {
    "duration": 17,
    "start_time": "2023-08-16T08:50:27.908Z"
   },
   {
    "duration": 31,
    "start_time": "2023-08-16T08:50:27.927Z"
   },
   {
    "duration": 7,
    "start_time": "2023-08-16T08:50:27.960Z"
   },
   {
    "duration": 8,
    "start_time": "2023-08-16T08:50:27.969Z"
   },
   {
    "duration": 6,
    "start_time": "2023-08-16T08:50:27.979Z"
   },
   {
    "duration": 27,
    "start_time": "2023-08-16T08:50:27.987Z"
   },
   {
    "duration": 11,
    "start_time": "2023-08-16T08:50:28.016Z"
   },
   {
    "duration": 190,
    "start_time": "2023-08-16T08:53:01.286Z"
   },
   {
    "duration": 1191,
    "start_time": "2023-08-16T08:59:20.895Z"
   },
   {
    "duration": 39,
    "start_time": "2023-08-16T08:59:22.087Z"
   },
   {
    "duration": 20,
    "start_time": "2023-08-16T08:59:22.128Z"
   },
   {
    "duration": 33,
    "start_time": "2023-08-16T08:59:22.150Z"
   },
   {
    "duration": 22,
    "start_time": "2023-08-16T08:59:22.184Z"
   },
   {
    "duration": 20,
    "start_time": "2023-08-16T08:59:22.208Z"
   },
   {
    "duration": 672,
    "start_time": "2023-08-16T08:59:22.230Z"
   },
   {
    "duration": 7,
    "start_time": "2023-08-16T08:59:22.903Z"
   },
   {
    "duration": 9,
    "start_time": "2023-08-16T08:59:22.911Z"
   },
   {
    "duration": 9,
    "start_time": "2023-08-16T08:59:22.922Z"
   },
   {
    "duration": 28,
    "start_time": "2023-08-16T08:59:22.933Z"
   },
   {
    "duration": 14,
    "start_time": "2023-08-16T08:59:22.963Z"
   },
   {
    "duration": 5,
    "start_time": "2023-08-16T08:59:22.978Z"
   },
   {
    "duration": 8,
    "start_time": "2023-08-16T08:59:22.985Z"
   },
   {
    "duration": 9,
    "start_time": "2023-08-16T08:59:22.996Z"
   },
   {
    "duration": 8,
    "start_time": "2023-08-16T08:59:23.006Z"
   },
   {
    "duration": 50,
    "start_time": "2023-08-16T08:59:23.016Z"
   },
   {
    "duration": 11,
    "start_time": "2023-08-16T08:59:23.068Z"
   },
   {
    "duration": 8,
    "start_time": "2023-08-16T08:59:23.080Z"
   },
   {
    "duration": 3,
    "start_time": "2023-08-16T08:59:23.090Z"
   },
   {
    "duration": 4,
    "start_time": "2023-08-16T08:59:23.095Z"
   },
   {
    "duration": 181,
    "start_time": "2023-08-16T08:59:23.100Z"
   },
   {
    "duration": 105,
    "start_time": "2023-08-16T08:59:23.283Z"
   },
   {
    "duration": 291,
    "start_time": "2023-08-16T08:59:23.390Z"
   },
   {
    "duration": 236,
    "start_time": "2023-08-16T08:59:23.683Z"
   },
   {
    "duration": 338,
    "start_time": "2023-08-16T08:59:23.921Z"
   },
   {
    "duration": 2,
    "start_time": "2023-08-16T08:59:24.261Z"
   },
   {
    "duration": 55,
    "start_time": "2023-08-16T08:59:24.267Z"
   },
   {
    "duration": 6,
    "start_time": "2023-08-16T08:59:24.323Z"
   },
   {
    "duration": 34,
    "start_time": "2023-08-16T08:59:24.330Z"
   },
   {
    "duration": 11,
    "start_time": "2023-08-16T08:59:24.366Z"
   },
   {
    "duration": 12,
    "start_time": "2023-08-16T08:59:24.379Z"
   },
   {
    "duration": 14,
    "start_time": "2023-08-16T08:59:24.393Z"
   },
   {
    "duration": 461,
    "start_time": "2023-08-16T08:59:24.409Z"
   },
   {
    "duration": 419,
    "start_time": "2023-08-16T08:59:24.872Z"
   },
   {
    "duration": 29,
    "start_time": "2023-08-16T08:59:25.293Z"
   },
   {
    "duration": 41,
    "start_time": "2023-08-16T08:59:25.324Z"
   },
   {
    "duration": 8,
    "start_time": "2023-08-16T08:59:25.367Z"
   },
   {
    "duration": 15,
    "start_time": "2023-08-16T08:59:25.377Z"
   },
   {
    "duration": 6,
    "start_time": "2023-08-16T08:59:25.394Z"
   },
   {
    "duration": 7,
    "start_time": "2023-08-16T08:59:25.401Z"
   },
   {
    "duration": 12,
    "start_time": "2023-08-16T08:59:25.409Z"
   },
   {
    "duration": 9,
    "start_time": "2023-08-16T08:59:25.423Z"
   },
   {
    "duration": 1244,
    "start_time": "2023-08-16T16:09:08.435Z"
   },
   {
    "duration": 39,
    "start_time": "2023-08-16T16:09:09.681Z"
   },
   {
    "duration": 23,
    "start_time": "2023-08-16T16:09:09.721Z"
   },
   {
    "duration": 33,
    "start_time": "2023-08-16T16:09:09.746Z"
   },
   {
    "duration": 25,
    "start_time": "2023-08-16T16:09:09.781Z"
   },
   {
    "duration": 21,
    "start_time": "2023-08-16T16:09:09.808Z"
   },
   {
    "duration": 711,
    "start_time": "2023-08-16T16:09:09.830Z"
   },
   {
    "duration": 18,
    "start_time": "2023-08-16T16:09:10.542Z"
   },
   {
    "duration": 10,
    "start_time": "2023-08-16T16:09:10.562Z"
   },
   {
    "duration": 19,
    "start_time": "2023-08-16T16:09:10.575Z"
   },
   {
    "duration": 8,
    "start_time": "2023-08-16T16:09:10.596Z"
   },
   {
    "duration": 4,
    "start_time": "2023-08-16T16:09:10.606Z"
   },
   {
    "duration": 17,
    "start_time": "2023-08-16T16:09:10.612Z"
   },
   {
    "duration": 18,
    "start_time": "2023-08-16T16:09:10.631Z"
   },
   {
    "duration": 13,
    "start_time": "2023-08-16T16:09:10.651Z"
   },
   {
    "duration": 23,
    "start_time": "2023-08-16T16:09:10.666Z"
   },
   {
    "duration": 54,
    "start_time": "2023-08-16T16:09:10.692Z"
   },
   {
    "duration": 10,
    "start_time": "2023-08-16T16:09:10.748Z"
   },
   {
    "duration": 32,
    "start_time": "2023-08-16T16:09:10.760Z"
   },
   {
    "duration": 10,
    "start_time": "2023-08-16T16:09:10.794Z"
   },
   {
    "duration": 11,
    "start_time": "2023-08-16T16:09:10.806Z"
   },
   {
    "duration": 177,
    "start_time": "2023-08-16T16:09:10.819Z"
   },
   {
    "duration": 103,
    "start_time": "2023-08-16T16:09:10.997Z"
   },
   {
    "duration": 289,
    "start_time": "2023-08-16T16:09:11.102Z"
   },
   {
    "duration": 226,
    "start_time": "2023-08-16T16:09:11.393Z"
   },
   {
    "duration": 319,
    "start_time": "2023-08-16T16:09:11.620Z"
   },
   {
    "duration": 3,
    "start_time": "2023-08-16T16:09:11.941Z"
   },
   {
    "duration": 49,
    "start_time": "2023-08-16T16:09:11.960Z"
   },
   {
    "duration": 5,
    "start_time": "2023-08-16T16:09:12.012Z"
   },
   {
    "duration": 18,
    "start_time": "2023-08-16T16:09:12.019Z"
   },
   {
    "duration": 25,
    "start_time": "2023-08-16T16:09:12.040Z"
   },
   {
    "duration": 21,
    "start_time": "2023-08-16T16:09:12.067Z"
   },
   {
    "duration": 18,
    "start_time": "2023-08-16T16:09:12.089Z"
   },
   {
    "duration": 458,
    "start_time": "2023-08-16T16:09:12.109Z"
   },
   {
    "duration": 442,
    "start_time": "2023-08-16T16:09:12.569Z"
   },
   {
    "duration": 49,
    "start_time": "2023-08-16T16:09:13.012Z"
   },
   {
    "duration": 25,
    "start_time": "2023-08-16T16:09:13.063Z"
   },
   {
    "duration": 14,
    "start_time": "2023-08-16T16:09:13.090Z"
   },
   {
    "duration": 8,
    "start_time": "2023-08-16T16:09:13.106Z"
   },
   {
    "duration": 8,
    "start_time": "2023-08-16T16:09:13.116Z"
   },
   {
    "duration": 38,
    "start_time": "2023-08-16T16:09:13.126Z"
   },
   {
    "duration": 18,
    "start_time": "2023-08-16T16:09:13.166Z"
   },
   {
    "duration": 14,
    "start_time": "2023-08-16T16:09:13.186Z"
   },
   {
    "duration": 69,
    "start_time": "2023-08-17T03:20:00.927Z"
   },
   {
    "duration": 1445,
    "start_time": "2023-08-17T03:20:29.662Z"
   },
   {
    "duration": 87,
    "start_time": "2023-08-17T03:20:31.109Z"
   },
   {
    "duration": 23,
    "start_time": "2023-08-17T03:20:31.198Z"
   },
   {
    "duration": 116,
    "start_time": "2023-08-17T03:20:31.224Z"
   },
   {
    "duration": 27,
    "start_time": "2023-08-17T03:20:31.342Z"
   },
   {
    "duration": 101,
    "start_time": "2023-08-17T03:20:31.371Z"
   },
   {
    "duration": 674,
    "start_time": "2023-08-17T03:20:31.473Z"
   },
   {
    "duration": 7,
    "start_time": "2023-08-17T03:20:32.148Z"
   },
   {
    "duration": 32,
    "start_time": "2023-08-17T03:20:32.157Z"
   },
   {
    "duration": 54,
    "start_time": "2023-08-17T03:20:32.192Z"
   },
   {
    "duration": 35,
    "start_time": "2023-08-17T03:20:32.248Z"
   },
   {
    "duration": 86,
    "start_time": "2023-08-17T03:20:32.285Z"
   },
   {
    "duration": 152,
    "start_time": "2023-08-17T03:20:32.373Z"
   },
   {
    "duration": 38,
    "start_time": "2023-08-17T03:20:32.527Z"
   },
   {
    "duration": 101,
    "start_time": "2023-08-17T03:20:32.567Z"
   },
   {
    "duration": 37,
    "start_time": "2023-08-17T03:20:32.669Z"
   },
   {
    "duration": 51,
    "start_time": "2023-08-17T03:20:32.708Z"
   },
   {
    "duration": 32,
    "start_time": "2023-08-17T03:20:32.760Z"
   },
   {
    "duration": 36,
    "start_time": "2023-08-17T03:20:32.795Z"
   },
   {
    "duration": 14,
    "start_time": "2023-08-17T03:20:32.833Z"
   },
   {
    "duration": 23,
    "start_time": "2023-08-17T03:20:32.849Z"
   },
   {
    "duration": 246,
    "start_time": "2023-08-17T03:20:32.874Z"
   },
   {
    "duration": 0,
    "start_time": "2023-08-17T03:20:33.123Z"
   },
   {
    "duration": 0,
    "start_time": "2023-08-17T03:20:33.124Z"
   },
   {
    "duration": 0,
    "start_time": "2023-08-17T03:20:33.126Z"
   },
   {
    "duration": 0,
    "start_time": "2023-08-17T03:20:33.127Z"
   },
   {
    "duration": 0,
    "start_time": "2023-08-17T03:20:33.129Z"
   },
   {
    "duration": 0,
    "start_time": "2023-08-17T03:20:33.130Z"
   },
   {
    "duration": 0,
    "start_time": "2023-08-17T03:20:33.132Z"
   },
   {
    "duration": 0,
    "start_time": "2023-08-17T03:20:33.134Z"
   },
   {
    "duration": 0,
    "start_time": "2023-08-17T03:20:33.135Z"
   },
   {
    "duration": 0,
    "start_time": "2023-08-17T03:20:33.137Z"
   },
   {
    "duration": 0,
    "start_time": "2023-08-17T03:20:33.139Z"
   },
   {
    "duration": 0,
    "start_time": "2023-08-17T03:20:33.140Z"
   },
   {
    "duration": 0,
    "start_time": "2023-08-17T03:20:33.141Z"
   },
   {
    "duration": 0,
    "start_time": "2023-08-17T03:20:33.142Z"
   },
   {
    "duration": 0,
    "start_time": "2023-08-17T03:20:33.143Z"
   },
   {
    "duration": 0,
    "start_time": "2023-08-17T03:20:33.145Z"
   },
   {
    "duration": 0,
    "start_time": "2023-08-17T03:20:33.146Z"
   },
   {
    "duration": 0,
    "start_time": "2023-08-17T03:20:33.147Z"
   },
   {
    "duration": 0,
    "start_time": "2023-08-17T03:20:33.148Z"
   },
   {
    "duration": 0,
    "start_time": "2023-08-17T03:20:33.149Z"
   },
   {
    "duration": 0,
    "start_time": "2023-08-17T03:20:33.195Z"
   },
   {
    "duration": 203,
    "start_time": "2023-08-17T03:20:56.492Z"
   },
   {
    "duration": 180,
    "start_time": "2023-08-17T03:21:07.492Z"
   },
   {
    "duration": 211,
    "start_time": "2023-08-17T03:21:15.341Z"
   },
   {
    "duration": 177,
    "start_time": "2023-08-17T03:21:35.716Z"
   },
   {
    "duration": 256,
    "start_time": "2023-08-17T03:21:40.516Z"
   },
   {
    "duration": 183,
    "start_time": "2023-08-17T03:21:44.148Z"
   },
   {
    "duration": 1272,
    "start_time": "2023-08-17T03:22:05.544Z"
   },
   {
    "duration": 38,
    "start_time": "2023-08-17T03:22:06.818Z"
   },
   {
    "duration": 20,
    "start_time": "2023-08-17T03:22:06.858Z"
   },
   {
    "duration": 39,
    "start_time": "2023-08-17T03:22:06.880Z"
   },
   {
    "duration": 23,
    "start_time": "2023-08-17T03:22:06.921Z"
   },
   {
    "duration": 20,
    "start_time": "2023-08-17T03:22:06.945Z"
   },
   {
    "duration": 700,
    "start_time": "2023-08-17T03:22:06.966Z"
   },
   {
    "duration": 7,
    "start_time": "2023-08-17T03:22:07.668Z"
   },
   {
    "duration": 20,
    "start_time": "2023-08-17T03:22:07.676Z"
   },
   {
    "duration": 11,
    "start_time": "2023-08-17T03:22:07.698Z"
   },
   {
    "duration": 12,
    "start_time": "2023-08-17T03:22:07.711Z"
   },
   {
    "duration": 27,
    "start_time": "2023-08-17T03:22:07.725Z"
   },
   {
    "duration": 23,
    "start_time": "2023-08-17T03:22:07.753Z"
   },
   {
    "duration": 15,
    "start_time": "2023-08-17T03:22:07.778Z"
   },
   {
    "duration": 23,
    "start_time": "2023-08-17T03:22:07.795Z"
   },
   {
    "duration": 24,
    "start_time": "2023-08-17T03:22:07.820Z"
   },
   {
    "duration": 34,
    "start_time": "2023-08-17T03:22:07.846Z"
   },
   {
    "duration": 14,
    "start_time": "2023-08-17T03:22:07.882Z"
   },
   {
    "duration": 21,
    "start_time": "2023-08-17T03:22:07.899Z"
   },
   {
    "duration": 16,
    "start_time": "2023-08-17T03:22:07.922Z"
   },
   {
    "duration": 13,
    "start_time": "2023-08-17T03:22:07.940Z"
   },
   {
    "duration": 171,
    "start_time": "2023-08-17T03:22:07.956Z"
   },
   {
    "duration": 100,
    "start_time": "2023-08-17T03:22:08.129Z"
   },
   {
    "duration": 335,
    "start_time": "2023-08-17T03:22:08.231Z"
   },
   {
    "duration": 264,
    "start_time": "2023-08-17T03:22:08.568Z"
   },
   {
    "duration": 349,
    "start_time": "2023-08-17T03:22:08.835Z"
   },
   {
    "duration": 3,
    "start_time": "2023-08-17T03:22:09.186Z"
   },
   {
    "duration": 56,
    "start_time": "2023-08-17T03:22:09.192Z"
   },
   {
    "duration": 5,
    "start_time": "2023-08-17T03:22:09.249Z"
   },
   {
    "duration": 21,
    "start_time": "2023-08-17T03:22:09.256Z"
   },
   {
    "duration": 20,
    "start_time": "2023-08-17T03:22:09.279Z"
   },
   {
    "duration": 40,
    "start_time": "2023-08-17T03:22:09.301Z"
   },
   {
    "duration": 20,
    "start_time": "2023-08-17T03:22:09.343Z"
   },
   {
    "duration": 477,
    "start_time": "2023-08-17T03:22:09.365Z"
   },
   {
    "duration": 478,
    "start_time": "2023-08-17T03:22:09.844Z"
   },
   {
    "duration": 28,
    "start_time": "2023-08-17T03:22:10.324Z"
   },
   {
    "duration": 17,
    "start_time": "2023-08-17T03:22:10.354Z"
   },
   {
    "duration": 28,
    "start_time": "2023-08-17T03:22:10.373Z"
   },
   {
    "duration": 8,
    "start_time": "2023-08-17T03:22:10.403Z"
   },
   {
    "duration": 12,
    "start_time": "2023-08-17T03:22:10.413Z"
   },
   {
    "duration": 9,
    "start_time": "2023-08-17T03:22:10.427Z"
   },
   {
    "duration": 13,
    "start_time": "2023-08-17T03:22:10.438Z"
   },
   {
    "duration": 14,
    "start_time": "2023-08-17T03:22:10.453Z"
   },
   {
    "duration": 196,
    "start_time": "2023-08-17T03:23:54.879Z"
   },
   {
    "duration": 243,
    "start_time": "2023-08-17T03:24:30.640Z"
   },
   {
    "duration": 160,
    "start_time": "2023-08-17T03:24:39.662Z"
   },
   {
    "duration": 12,
    "start_time": "2023-08-17T03:24:44.758Z"
   },
   {
    "duration": 12,
    "start_time": "2023-08-17T03:25:09.486Z"
   },
   {
    "duration": 169,
    "start_time": "2023-08-17T03:25:13.847Z"
   },
   {
    "duration": 168,
    "start_time": "2023-08-17T03:25:15.735Z"
   },
   {
    "duration": 163,
    "start_time": "2023-08-17T03:25:43.143Z"
   },
   {
    "duration": 1234,
    "start_time": "2023-08-17T03:25:49.384Z"
   },
   {
    "duration": 38,
    "start_time": "2023-08-17T03:25:50.620Z"
   },
   {
    "duration": 20,
    "start_time": "2023-08-17T03:25:50.660Z"
   },
   {
    "duration": 45,
    "start_time": "2023-08-17T03:25:50.682Z"
   },
   {
    "duration": 24,
    "start_time": "2023-08-17T03:25:50.729Z"
   },
   {
    "duration": 36,
    "start_time": "2023-08-17T03:25:50.754Z"
   },
   {
    "duration": 677,
    "start_time": "2023-08-17T03:25:50.792Z"
   },
   {
    "duration": 7,
    "start_time": "2023-08-17T03:25:51.471Z"
   },
   {
    "duration": 19,
    "start_time": "2023-08-17T03:25:51.480Z"
   },
   {
    "duration": 21,
    "start_time": "2023-08-17T03:25:51.502Z"
   },
   {
    "duration": 12,
    "start_time": "2023-08-17T03:25:51.525Z"
   },
   {
    "duration": 8,
    "start_time": "2023-08-17T03:25:51.539Z"
   },
   {
    "duration": 15,
    "start_time": "2023-08-17T03:25:51.549Z"
   },
   {
    "duration": 21,
    "start_time": "2023-08-17T03:25:51.566Z"
   },
   {
    "duration": 13,
    "start_time": "2023-08-17T03:25:51.589Z"
   },
   {
    "duration": 12,
    "start_time": "2023-08-17T03:25:51.605Z"
   },
   {
    "duration": 26,
    "start_time": "2023-08-17T03:25:51.619Z"
   },
   {
    "duration": 12,
    "start_time": "2023-08-17T03:25:51.647Z"
   },
   {
    "duration": 35,
    "start_time": "2023-08-17T03:25:51.661Z"
   },
   {
    "duration": 5,
    "start_time": "2023-08-17T03:25:51.698Z"
   },
   {
    "duration": 5,
    "start_time": "2023-08-17T03:25:51.705Z"
   },
   {
    "duration": 190,
    "start_time": "2023-08-17T03:25:51.712Z"
   },
   {
    "duration": 264,
    "start_time": "2023-08-17T03:25:51.904Z"
   },
   {
    "duration": 0,
    "start_time": "2023-08-17T03:25:52.170Z"
   },
   {
    "duration": 0,
    "start_time": "2023-08-17T03:25:52.171Z"
   },
   {
    "duration": 0,
    "start_time": "2023-08-17T03:25:52.173Z"
   },
   {
    "duration": 0,
    "start_time": "2023-08-17T03:25:52.174Z"
   },
   {
    "duration": 0,
    "start_time": "2023-08-17T03:25:52.175Z"
   },
   {
    "duration": 0,
    "start_time": "2023-08-17T03:25:52.194Z"
   },
   {
    "duration": 1,
    "start_time": "2023-08-17T03:25:52.195Z"
   },
   {
    "duration": 0,
    "start_time": "2023-08-17T03:25:52.197Z"
   },
   {
    "duration": 0,
    "start_time": "2023-08-17T03:25:52.198Z"
   },
   {
    "duration": 0,
    "start_time": "2023-08-17T03:25:52.200Z"
   },
   {
    "duration": 0,
    "start_time": "2023-08-17T03:25:52.202Z"
   },
   {
    "duration": 0,
    "start_time": "2023-08-17T03:25:52.203Z"
   },
   {
    "duration": 0,
    "start_time": "2023-08-17T03:25:52.204Z"
   },
   {
    "duration": 0,
    "start_time": "2023-08-17T03:25:52.205Z"
   },
   {
    "duration": 0,
    "start_time": "2023-08-17T03:25:52.206Z"
   },
   {
    "duration": 0,
    "start_time": "2023-08-17T03:25:52.208Z"
   },
   {
    "duration": 0,
    "start_time": "2023-08-17T03:25:52.209Z"
   },
   {
    "duration": 0,
    "start_time": "2023-08-17T03:25:52.210Z"
   },
   {
    "duration": 0,
    "start_time": "2023-08-17T03:25:52.211Z"
   },
   {
    "duration": 0,
    "start_time": "2023-08-17T03:25:52.212Z"
   },
   {
    "duration": 92,
    "start_time": "2023-08-17T03:27:54.589Z"
   },
   {
    "duration": 187,
    "start_time": "2023-08-17T03:28:04.157Z"
   },
   {
    "duration": 1218,
    "start_time": "2023-08-17T03:28:22.662Z"
   },
   {
    "duration": 38,
    "start_time": "2023-08-17T03:28:23.882Z"
   },
   {
    "duration": 19,
    "start_time": "2023-08-17T03:28:23.922Z"
   },
   {
    "duration": 33,
    "start_time": "2023-08-17T03:28:23.943Z"
   },
   {
    "duration": 32,
    "start_time": "2023-08-17T03:28:23.977Z"
   },
   {
    "duration": 23,
    "start_time": "2023-08-17T03:28:24.010Z"
   },
   {
    "duration": 694,
    "start_time": "2023-08-17T03:28:24.035Z"
   },
   {
    "duration": 6,
    "start_time": "2023-08-17T03:28:24.731Z"
   },
   {
    "duration": 16,
    "start_time": "2023-08-17T03:28:24.739Z"
   },
   {
    "duration": 10,
    "start_time": "2023-08-17T03:28:24.758Z"
   },
   {
    "duration": 25,
    "start_time": "2023-08-17T03:28:24.770Z"
   },
   {
    "duration": 6,
    "start_time": "2023-08-17T03:28:24.798Z"
   },
   {
    "duration": 8,
    "start_time": "2023-08-17T03:28:24.805Z"
   },
   {
    "duration": 10,
    "start_time": "2023-08-17T03:28:24.815Z"
   },
   {
    "duration": 10,
    "start_time": "2023-08-17T03:28:24.827Z"
   },
   {
    "duration": 6,
    "start_time": "2023-08-17T03:28:24.839Z"
   },
   {
    "duration": 54,
    "start_time": "2023-08-17T03:28:24.847Z"
   },
   {
    "duration": 10,
    "start_time": "2023-08-17T03:28:24.902Z"
   },
   {
    "duration": 16,
    "start_time": "2023-08-17T03:28:24.914Z"
   },
   {
    "duration": 10,
    "start_time": "2023-08-17T03:28:24.932Z"
   },
   {
    "duration": 8,
    "start_time": "2023-08-17T03:28:24.944Z"
   },
   {
    "duration": 173,
    "start_time": "2023-08-17T03:28:24.953Z"
   },
   {
    "duration": 95,
    "start_time": "2023-08-17T03:28:25.128Z"
   },
   {
    "duration": 334,
    "start_time": "2023-08-17T03:28:25.224Z"
   },
   {
    "duration": 280,
    "start_time": "2023-08-17T03:28:25.559Z"
   },
   {
    "duration": 339,
    "start_time": "2023-08-17T03:28:25.841Z"
   },
   {
    "duration": 2,
    "start_time": "2023-08-17T03:28:26.181Z"
   },
   {
    "duration": 45,
    "start_time": "2023-08-17T03:28:26.194Z"
   },
   {
    "duration": 6,
    "start_time": "2023-08-17T03:28:26.241Z"
   },
   {
    "duration": 14,
    "start_time": "2023-08-17T03:28:26.249Z"
   },
   {
    "duration": 32,
    "start_time": "2023-08-17T03:28:26.264Z"
   },
   {
    "duration": 25,
    "start_time": "2023-08-17T03:28:26.298Z"
   },
   {
    "duration": 18,
    "start_time": "2023-08-17T03:28:26.324Z"
   },
   {
    "duration": 540,
    "start_time": "2023-08-17T03:28:26.343Z"
   },
   {
    "duration": 474,
    "start_time": "2023-08-17T03:28:26.884Z"
   },
   {
    "duration": 43,
    "start_time": "2023-08-17T03:28:27.359Z"
   },
   {
    "duration": 16,
    "start_time": "2023-08-17T03:28:27.404Z"
   },
   {
    "duration": 7,
    "start_time": "2023-08-17T03:28:27.422Z"
   },
   {
    "duration": 11,
    "start_time": "2023-08-17T03:28:27.430Z"
   },
   {
    "duration": 7,
    "start_time": "2023-08-17T03:28:27.443Z"
   },
   {
    "duration": 6,
    "start_time": "2023-08-17T03:28:27.451Z"
   },
   {
    "duration": 36,
    "start_time": "2023-08-17T03:28:27.459Z"
   },
   {
    "duration": 10,
    "start_time": "2023-08-17T03:28:27.497Z"
   }
  ],
  "kernelspec": {
   "display_name": "Python 3 (ipykernel)",
   "language": "python",
   "name": "python3"
  },
  "language_info": {
   "codemirror_mode": {
    "name": "ipython",
    "version": 3
   },
   "file_extension": ".py",
   "mimetype": "text/x-python",
   "name": "python",
   "nbconvert_exporter": "python",
   "pygments_lexer": "ipython3",
   "version": "3.9.5"
  },
  "toc": {
   "base_numbering": 1,
   "nav_menu": {},
   "number_sections": true,
   "sideBar": true,
   "skip_h1_title": true,
   "title_cell": "Table of Contents",
   "title_sidebar": "Contents",
   "toc_cell": false,
   "toc_position": {},
   "toc_section_display": true,
   "toc_window_display": false
  }
 },
 "nbformat": 4,
 "nbformat_minor": 5
}
